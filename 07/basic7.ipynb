{
 "cells": [
  {
   "cell_type": "markdown",
   "source": [
    "# 教養としてのアルゴリズムとデータ構造\n",
    "\n",
    "* 以下の各問について、問の次（もしくはその次）にあるコードセルに解答すること。\n",
    "    * 特に指定がある場合を除いて複数のセルに分けて解答してはならない。\n",
    "* 全ての解答を終えた後に必ずリスタートを実行し、上のセルから順番に実行して各解答が正しく動くことを確認すること。\n",
    " * ただし、ローカル環境で解答する場合、 `!wget...` の記載のあるセルは実行しなくてよい。 \n",
    "* 提出にあたっては、各当該のセルに解答のコードを記入し、それを実行した結果を表示させた後に、保存したこのファイルをITC-LMS経由で提出すること。\n",
    "* 解答のコードには適宜コメントを入れること。\n",
    "* 受講者間の協力は原則許可しない。\n",
    "* 解答がコピペと判断された場合、その解答（コピペ元も含めて）は0点となる可能性があるので注意すること。\n",
    "* 特に指定がない限りモジュールを用いて解答してはならない。\n"
   ],
   "metadata": {}
  },
  {
   "cell_type": "markdown",
   "source": [
    "<b><font color=\"red\">\n",
    "各問に解答するにあたり、以下の点に注意して下さい。\n",
    "\n",
    "1. グラフの枝を表す大きさ2のタプルを要素とするリストは配布したスライド (03_Tree.ppt, 8ページ) の形式に従うものとします。\n",
    " * 例えば、`[(5, 1), (0, 1), (3, 0), (0, 2), (7, 2), (1, 4), (2, 6)]` の様な値です。\n",
    "2. `bisect`, `collections (deque)`, `heapq` は使用可能です。\n",
    "</font></b>"
   ],
   "metadata": {}
  },
  {
   "cell_type": "markdown",
   "source": [
    "* ローカル環境で行う場合、課題によってはデータを別にダウンロードする必要があります。\n",
    "* Colaboratoryを利用して課題を行う場合には、最初に以下のセルを実行して下さい。"
   ],
   "metadata": {}
  },
  {
   "cell_type": "code",
   "execution_count": null,
   "source": [
    "!wget https://drive.google.com/uc?id=1f5tjyfqDgcoHYyqedfhRKrmZ-eOGivX7 -O utaadevalcpx.zip\n",
    "!unzip utaadevalcpx.zip\n",
    "!wget https://drive.google.com/uc?id=1UttxK0pw9zZEn6xM6v_u5_AadLkkiOSz -O ex7_data.zip\n",
    "!unzip ex7_data.zip"
   ],
   "outputs": [],
   "metadata": {}
  },
  {
   "cell_type": "markdown",
   "source": [
    "以下のセルは各解答セルのプログラムの計算量を自動的に評価するのに利用します。\n",
    "* ローカル環境で解答している人はファイルを保存してから以下のセルをそのまま実行して下さい（このファイルと同じフォルダ内に `utaadevalcpx.py` があることを確認して下さい）。\n",
    "* Colaboratoryを利用している人は評価用セル内部の `str_code_X_Y  = '''...'''` の `...` に自分の解答をコピペして下さい（`X` と `Y` は問の通し番号です。ファイル冒頭のデータのダウンロードを事前に行う必要があります）。\n",
    "\n",
    "計算量の自動評価は、常に正しい計算量を求められる訳ではありません（<font color=\"red\">正しく求められなかった場合、実際の計算量よりも計算量が少なく求まります</font>）。例えば、以下の様な内容のコードは正しく評価できないことがあります。\n",
    "* 組み込み関数などの名前を別名に変更している\n",
    "* 条件式の使用（例えば、for文中のif文＋`break`など）\n",
    "* while文を使用する\n",
    "\n",
    "計算量の評価を行うセルでエラーが発生しても解答が間違っているという訳ではありません（模範解答とは違う解答である可能性が高いです）。\n",
    "\n",
    "Pythonのバージョンが3.7以外だと、正しく評価されないことが多い様です（Colab.は3.7です）。"
   ],
   "metadata": {}
  },
  {
   "cell_type": "code",
   "execution_count": 2,
   "source": [
    "str_exfilename = \"basic7.ipynb\" # ファイル名を変更している場合、ここをその名前に変更する必要があります（ローカル環境のみ/Colab環境では使用しませんが実行はして下さい"
   ],
   "outputs": [],
   "metadata": {}
  },
  {
   "cell_type": "markdown",
   "source": [
    "# 第7回基礎課題"
   ],
   "metadata": {}
  },
  {
   "cell_type": "markdown",
   "source": [
    "## 1. 三角形の列挙\n",
    "\n",
    "無向グラフ $G$ の枝を表す大きさ2のタプルを要素とするリスト `list_edge` が引数として与えられ、$G$ に存在する三角形（大きさ3の極大クリーク）を全て格納したリスト `list_triangle` を返す関数 `enumerateTriangles` を作成して下さい。以下の点に注意して下さい。\n",
    "\n",
    "1. 各点は `0` から `nodenum-1` までの整数で表されます。すなわち、 `list_edge` を構成する大きさ2のタプルの要素は、 `0` から `nodenum-1` までの整数です。\n",
    "2. $G$を構成する点$v$と$u$の間に枝がある場合、`(u, v)`、もしくは `(v, u)` が `list_edge` に含まれます。 \n",
    "  * `(u, v)` と `(v, u)` の両方が `list_edge` には含まれることはありません。\n",
    "3. 同じ値は2個以上 `list_edge` には含まれません。\n",
    "4. 極大な三角形はリストで表すものとします。\n",
    " * このリストをソートする必要はありません。\n",
    " * 例えば、3点 `1,5,9` から三角形が構成される場合、`[1, 5, 9]` や `[5, 9, 1]` などで表します。\n",
    "\n",
    "なお、各値の大きさは以下の通りとします。\n",
    "\n",
    "* $m =$ $G$ の枝の数\n",
    "* $n =$ $G$ の点の数\n",
    "* $k =$ $G$ の点の中で最大の隣接点数\n",
    "\n",
    "\n",
    "以下のセルの `...` のところを書き換えて解答して下さい。"
   ],
   "metadata": {}
  },
  {
   "cell_type": "code",
   "execution_count": 7,
   "source": [
    "### この行のコメントを改変してはいけません %7-1% ### \n",
    "#解答用セル\n",
    "def enumerateTriangles(list_edge, nodenum):\n",
    "    list_adjlist = [set() for _ in range(nodenum)]\n",
    "    list_answer = []\n",
    "    for edge in list_edge:\n",
    "        if edge[0] > edge[1]:\n",
    "            list_adjlist[edge[0]].add(edge[1])\n",
    "        else:\n",
    "            list_adjlist[edge[1]].add(edge[0])\n",
    "    count = 0\n",
    "    for adjnode in list_adjlist:\n",
    "        for node in adjnode:\n",
    "            common_adj = adjnode & list_adjlist[node]\n",
    "            for i in common_adj:\n",
    "                list_answer.append([count, node, i])\n",
    "        count += 1\n",
    "\n",
    "    return list_answer"
   ],
   "outputs": [],
   "metadata": {}
  },
  {
   "cell_type": "markdown",
   "source": [
    "上のセルで解答を作成した後、以下のセルを実行し、実行結果が全て `True` になることを確認して下さい。"
   ],
   "metadata": {}
  },
  {
   "cell_type": "code",
   "execution_count": 8,
   "source": [
    "list_edge_test1 = [(3, 2), (2, 1), (2, 4), (4, 3), (0, 4), (4, 1), (0, 2)]\n",
    "nodenum_test1 = 5\n",
    "list_triangle_test1 = enumerateTriangles(list_edge_test1, nodenum_test1)\n",
    "for triangle in list_triangle_test1:\n",
    "    triangle.sort()\n",
    "list_triangle_test1.sort()\n",
    "print(list_triangle_test1==[[0, 2, 4], [1, 2, 4], [2, 3, 4]])\n",
    "list_edge_test2 = [(0, 1), (2, 7), (4, 7), (1, 3), (7, 1), (5, 6), (7, 6), (6, 0), (2, 1), (1, 5), (7, 5), (1, 6), (0, 4), (4, 1), (2, 4), (5, 3)]\n",
    "nodenum_test2 = 8\n",
    "list_triangle_test2 = enumerateTriangles(list_edge_test2, nodenum_test2)\n",
    "for triangle in list_triangle_test2:\n",
    "    triangle.sort()\n",
    "list_triangle_test2.sort()\n",
    "print(list_triangle_test2==[[0, 1, 4], [0, 1, 6], [1, 2, 4], [1, 2, 7], [1, 3, 5], [1, 4, 7], [1, 5, 6], [1, 5, 7], [1, 6, 7], [2, 4, 7], [5, 6, 7]])"
   ],
   "outputs": [
    {
     "output_type": "error",
     "ename": "TypeError",
     "evalue": "unsupported operand type(s) for &: 'list' and 'list'",
     "traceback": [
      "\u001b[0;31m---------------------------------------------------------------------------\u001b[0m",
      "\u001b[0;31mTypeError\u001b[0m                                 Traceback (most recent call last)",
      "\u001b[0;32m<ipython-input-8-39ab81ee2ad8>\u001b[0m in \u001b[0;36m<module>\u001b[0;34m\u001b[0m\n\u001b[1;32m      1\u001b[0m \u001b[0mlist_edge_test1\u001b[0m \u001b[0;34m=\u001b[0m \u001b[0;34m[\u001b[0m\u001b[0;34m(\u001b[0m\u001b[0;36m3\u001b[0m\u001b[0;34m,\u001b[0m \u001b[0;36m2\u001b[0m\u001b[0;34m)\u001b[0m\u001b[0;34m,\u001b[0m \u001b[0;34m(\u001b[0m\u001b[0;36m2\u001b[0m\u001b[0;34m,\u001b[0m \u001b[0;36m1\u001b[0m\u001b[0;34m)\u001b[0m\u001b[0;34m,\u001b[0m \u001b[0;34m(\u001b[0m\u001b[0;36m2\u001b[0m\u001b[0;34m,\u001b[0m \u001b[0;36m4\u001b[0m\u001b[0;34m)\u001b[0m\u001b[0;34m,\u001b[0m \u001b[0;34m(\u001b[0m\u001b[0;36m4\u001b[0m\u001b[0;34m,\u001b[0m \u001b[0;36m3\u001b[0m\u001b[0;34m)\u001b[0m\u001b[0;34m,\u001b[0m \u001b[0;34m(\u001b[0m\u001b[0;36m0\u001b[0m\u001b[0;34m,\u001b[0m \u001b[0;36m4\u001b[0m\u001b[0;34m)\u001b[0m\u001b[0;34m,\u001b[0m \u001b[0;34m(\u001b[0m\u001b[0;36m4\u001b[0m\u001b[0;34m,\u001b[0m \u001b[0;36m1\u001b[0m\u001b[0;34m)\u001b[0m\u001b[0;34m,\u001b[0m \u001b[0;34m(\u001b[0m\u001b[0;36m0\u001b[0m\u001b[0;34m,\u001b[0m \u001b[0;36m2\u001b[0m\u001b[0;34m)\u001b[0m\u001b[0;34m]\u001b[0m\u001b[0;34m\u001b[0m\u001b[0;34m\u001b[0m\u001b[0m\n\u001b[1;32m      2\u001b[0m \u001b[0mnodenum_test1\u001b[0m \u001b[0;34m=\u001b[0m \u001b[0;36m5\u001b[0m\u001b[0;34m\u001b[0m\u001b[0;34m\u001b[0m\u001b[0m\n\u001b[0;32m----> 3\u001b[0;31m \u001b[0mlist_triangle_test1\u001b[0m \u001b[0;34m=\u001b[0m \u001b[0menumerateTriangles\u001b[0m\u001b[0;34m(\u001b[0m\u001b[0mlist_edge_test1\u001b[0m\u001b[0;34m,\u001b[0m \u001b[0mnodenum_test1\u001b[0m\u001b[0;34m)\u001b[0m\u001b[0;34m\u001b[0m\u001b[0;34m\u001b[0m\u001b[0m\n\u001b[0m\u001b[1;32m      4\u001b[0m \u001b[0;32mfor\u001b[0m \u001b[0mtriangle\u001b[0m \u001b[0;32min\u001b[0m \u001b[0mlist_triangle_test1\u001b[0m\u001b[0;34m:\u001b[0m\u001b[0;34m\u001b[0m\u001b[0;34m\u001b[0m\u001b[0m\n\u001b[1;32m      5\u001b[0m     \u001b[0mtriangle\u001b[0m\u001b[0;34m.\u001b[0m\u001b[0msort\u001b[0m\u001b[0;34m(\u001b[0m\u001b[0;34m)\u001b[0m\u001b[0;34m\u001b[0m\u001b[0;34m\u001b[0m\u001b[0m\n",
      "\u001b[0;32m<ipython-input-7-e94e5f81c469>\u001b[0m in \u001b[0;36menumerateTriangles\u001b[0;34m(list_edge, nodenum)\u001b[0m\n\u001b[1;32m     12\u001b[0m     \u001b[0;32mfor\u001b[0m \u001b[0madjnode\u001b[0m \u001b[0;32min\u001b[0m \u001b[0mlist_adjlist\u001b[0m\u001b[0;34m:\u001b[0m\u001b[0;34m\u001b[0m\u001b[0;34m\u001b[0m\u001b[0m\n\u001b[1;32m     13\u001b[0m         \u001b[0;32mfor\u001b[0m \u001b[0mnode\u001b[0m \u001b[0;32min\u001b[0m \u001b[0madjnode\u001b[0m\u001b[0;34m:\u001b[0m\u001b[0;34m\u001b[0m\u001b[0;34m\u001b[0m\u001b[0m\n\u001b[0;32m---> 14\u001b[0;31m             \u001b[0mcommon_adj\u001b[0m \u001b[0;34m=\u001b[0m \u001b[0madjnode\u001b[0m \u001b[0;34m&\u001b[0m \u001b[0mlist_adjlist\u001b[0m\u001b[0;34m[\u001b[0m\u001b[0mnode\u001b[0m\u001b[0;34m]\u001b[0m\u001b[0;34m\u001b[0m\u001b[0;34m\u001b[0m\u001b[0m\n\u001b[0m\u001b[1;32m     15\u001b[0m             \u001b[0;32mfor\u001b[0m \u001b[0mi\u001b[0m \u001b[0;32min\u001b[0m \u001b[0mcommon_adj\u001b[0m\u001b[0;34m:\u001b[0m\u001b[0;34m\u001b[0m\u001b[0;34m\u001b[0m\u001b[0m\n\u001b[1;32m     16\u001b[0m                 \u001b[0mlist_answer\u001b[0m\u001b[0;34m.\u001b[0m\u001b[0mappend\u001b[0m\u001b[0;34m(\u001b[0m\u001b[0;34m[\u001b[0m\u001b[0mcount\u001b[0m\u001b[0;34m,\u001b[0m \u001b[0mnode\u001b[0m\u001b[0;34m,\u001b[0m \u001b[0mi\u001b[0m\u001b[0;34m]\u001b[0m\u001b[0;34m)\u001b[0m\u001b[0;34m\u001b[0m\u001b[0;34m\u001b[0m\u001b[0m\n",
      "\u001b[0;31mTypeError\u001b[0m: unsupported operand type(s) for &: 'list' and 'list'"
     ]
    }
   ],
   "metadata": {
    "tags": []
   }
  },
  {
   "cell_type": "markdown",
   "source": [
    "なお、テストで用いているグラフは以下の様な形になっています。"
   ],
   "metadata": {}
  },
  {
   "cell_type": "code",
   "execution_count": 39,
   "source": [
    "import networkx as nx, matplotlib.pyplot as plt\n",
    "%matplotlib inline\n",
    "#隣接リストをnx形式に変換（枝を加える）→描画\n",
    "def drawEdgesUsingNx(nx_graph, list_edge, dic_pos, axval):\n",
    "    nx_graph.add_edges_from(list_edge)\n",
    "    axval.set_axis_off()\n",
    "    nx.draw_networkx(nx_graph, pos=dic_pos, ax=axval)\n",
    "#2つのグラフを描画\n",
    "fig, npar_axval = plt.subplots(1, 2, figsize=(7, 3.5))\n",
    "#1\n",
    "list_edge_test1 = [(3, 2), (2, 1), (2, 4), (4, 3), (0, 4), (4, 1), (0, 2)]; nx_g1 = nx.Graph()\n",
    "drawEdgesUsingNx(nx_g1, list_edge_test1, None, npar_axval[0])\n",
    "#2\n",
    "list_edge_test2 = [(0, 1), (2, 7), (4, 7), (1, 3), (7, 1), (5, 6), (7, 6), (6, 0), (2, 1), (1, 5), (7, 5), (1, 6), (0, 4), (4, 1), (2, 4), (5, 3)] ;nx_g2 = nx.Graph()\n",
    "drawEdgesUsingNx(nx_g2, list_edge_test2, None, npar_axval[1])"
   ],
   "outputs": [
    {
     "output_type": "display_data",
     "data": {
      "text/plain": [
       "<Figure size 504x252 with 2 Axes>"
      ],
      "image/png": "[encoded data removed]",
      "image/svg+xml": "<?xml version=\"1.0\" encoding=\"utf-8\" standalone=\"no\"?>\n<!DOCTYPE svg PUBLIC \"-//W3C//DTD SVG 1.1//EN\"\n  \"http://www.w3.org/Graphics/SVG/1.1/DTD/svg11.dtd\">\n<svg height=\"204.66pt\" version=\"1.1\" viewBox=\"0 0 405 204.66\" width=\"405pt\" xmlns=\"http://www.w3.org/2000/svg\" xmlns:xlink=\"http://www.w3.org/1999/xlink\">\n <metadata>\n  <rdf:RDF xmlns:cc=\"http://creativecommons.org/ns#\" xmlns:dc=\"http://purl.org/dc/elements/1.1/\" xmlns:rdf=\"http://www.w3.org/1999/02/22-rdf-syntax-ns#\">\n   <cc:Work>\n    <dc:type rdf:resource=\"http://purl.org/dc/dcmitype/StillImage\"/>\n    <dc:date>2021-07-23T21:24:42.916638</dc:date>\n    <dc:format>image/svg+xml</dc:format>\n    <dc:creator>\n     <cc:Agent>\n      <dc:title>Matplotlib v3.4.2, https://matplotlib.org/</dc:title>\n     </cc:Agent>\n    </dc:creator>\n   </cc:Work>\n  </rdf:RDF>\n </metadata>\n <defs>\n  <style type=\"text/css\">*{stroke-linecap:butt;stroke-linejoin:round;}</style>\n </defs>\n <g id=\"figure_1\">\n  <g id=\"patch_1\">\n   <path d=\"M 0 204.66 \nL 405 204.66 \nL 405 0 \nL 0 0 \nz\n\" style=\"fill:none;\"/>\n  </g>\n  <g id=\"axes_1\">\n   <g id=\"LineCollection_1\">\n    <path clip-path=\"url(#p43219f30da)\" d=\"M 15.270248 15.848182 \nL 94.89755 112.40067 \n\" style=\"fill:none;stroke:#000000;\"/>\n    <path clip-path=\"url(#p43219f30da)\" d=\"M 15.270248 15.848182 \nL 31.416899 91.983766 \n\" style=\"fill:none;stroke:#000000;\"/>\n    <path clip-path=\"url(#p43219f30da)\" d=\"M 94.89755 112.40067 \nL 176.675207 68.598839 \n\" style=\"fill:none;stroke:#000000;\"/>\n    <path clip-path=\"url(#p43219f30da)\" d=\"M 94.89755 112.40067 \nL 31.416899 91.983766 \n\" style=\"fill:none;stroke:#000000;\"/>\n    <path clip-path=\"url(#p43219f30da)\" d=\"M 94.89755 112.40067 \nL 16.377095 188.811818 \n\" style=\"fill:none;stroke:#000000;\"/>\n    <path clip-path=\"url(#p43219f30da)\" d=\"M 176.675207 68.598839 \nL 31.416899 91.983766 \n\" style=\"fill:none;stroke:#000000;\"/>\n    <path clip-path=\"url(#p43219f30da)\" d=\"M 31.416899 91.983766 \nL 16.377095 188.811818 \n\" style=\"fill:none;stroke:#000000;\"/>\n   </g>\n   <g id=\"PathCollection_1\">\n    <defs>\n     <path d=\"M 0 8.660254 \nC 2.296726 8.660254 4.499694 7.747755 6.123724 6.123724 \nC 7.747755 4.499694 8.660254 2.296726 8.660254 0 \nC 8.660254 -2.296726 7.747755 -4.499694 6.123724 -6.123724 \nC 4.499694 -7.747755 2.296726 -8.660254 0 -8.660254 \nC -2.296726 -8.660254 -4.499694 -7.747755 -6.123724 -6.123724 \nC -7.747755 -4.499694 -8.660254 -2.296726 -8.660254 0 \nC -8.660254 2.296726 -7.747755 4.499694 -6.123724 6.123724 \nC -4.499694 7.747755 -2.296726 8.660254 0 8.660254 \nz\n\" id=\"m9e63021d8d\" style=\"stroke:#1f78b4;\"/>\n    </defs>\n    <g clip-path=\"url(#p43219f30da)\">\n     <use style=\"fill:#1f78b4;stroke:#1f78b4;\" x=\"15.270248\" xlink:href=\"#m9e63021d8d\" y=\"15.848182\"/>\n     <use style=\"fill:#1f78b4;stroke:#1f78b4;\" x=\"94.89755\" xlink:href=\"#m9e63021d8d\" y=\"112.40067\"/>\n     <use style=\"fill:#1f78b4;stroke:#1f78b4;\" x=\"176.675207\" xlink:href=\"#m9e63021d8d\" y=\"68.598839\"/>\n     <use style=\"fill:#1f78b4;stroke:#1f78b4;\" x=\"31.416899\" xlink:href=\"#m9e63021d8d\" y=\"91.983766\"/>\n     <use style=\"fill:#1f78b4;stroke:#1f78b4;\" x=\"16.377095\" xlink:href=\"#m9e63021d8d\" y=\"188.811818\"/>\n    </g>\n   </g>\n   <g id=\"text_1\">\n    <g clip-path=\"url(#p43219f30da)\">\n     <!-- 3 -->\n     <g transform=\"translate(11.452748 19.159432)scale(0.12 -0.12)\">\n      <defs>\n       <path d=\"M 2597 2516 \nQ 3050 2419 3304 2112 \nQ 3559 1806 3559 1356 \nQ 3559 666 3084 287 \nQ 2609 -91 1734 -91 \nQ 1441 -91 1130 -33 \nQ 819 25 488 141 \nL 488 750 \nQ 750 597 1062 519 \nQ 1375 441 1716 441 \nQ 2309 441 2620 675 \nQ 2931 909 2931 1356 \nQ 2931 1769 2642 2001 \nQ 2353 2234 1838 2234 \nL 1294 2234 \nL 1294 2753 \nL 1863 2753 \nQ 2328 2753 2575 2939 \nQ 2822 3125 2822 3475 \nQ 2822 3834 2567 4026 \nQ 2313 4219 1838 4219 \nQ 1578 4219 1281 4162 \nQ 984 4106 628 3988 \nL 628 4550 \nQ 988 4650 1302 4700 \nQ 1616 4750 1894 4750 \nQ 2613 4750 3031 4423 \nQ 3450 4097 3450 3541 \nQ 3450 3153 3228 2886 \nQ 3006 2619 2597 2516 \nz\n\" id=\"DejaVuSans-33\" transform=\"scale(0.015625)\"/>\n      </defs>\n      <use xlink:href=\"#DejaVuSans-33\"/>\n     </g>\n    </g>\n   </g>\n   <g id=\"text_2\">\n    <g clip-path=\"url(#p43219f30da)\">\n     <!-- 2 -->\n     <g transform=\"translate(91.08005 115.71192)scale(0.12 -0.12)\">\n      <defs>\n       <path d=\"M 1228 531 \nL 3431 531 \nL 3431 0 \nL 469 0 \nL 469 531 \nQ 828 903 1448 1529 \nQ 2069 2156 2228 2338 \nQ 2531 2678 2651 2914 \nQ 2772 3150 2772 3378 \nQ 2772 3750 2511 3984 \nQ 2250 4219 1831 4219 \nQ 1534 4219 1204 4116 \nQ 875 4013 500 3803 \nL 500 4441 \nQ 881 4594 1212 4672 \nQ 1544 4750 1819 4750 \nQ 2544 4750 2975 4387 \nQ 3406 4025 3406 3419 \nQ 3406 3131 3298 2873 \nQ 3191 2616 2906 2266 \nQ 2828 2175 2409 1742 \nQ 1991 1309 1228 531 \nz\n\" id=\"DejaVuSans-32\" transform=\"scale(0.015625)\"/>\n      </defs>\n      <use xlink:href=\"#DejaVuSans-32\"/>\n     </g>\n    </g>\n   </g>\n   <g id=\"text_3\">\n    <g clip-path=\"url(#p43219f30da)\">\n     <!-- 1 -->\n     <g transform=\"translate(172.857707 71.910089)scale(0.12 -0.12)\">\n      <defs>\n       <path d=\"M 794 531 \nL 1825 531 \nL 1825 4091 \nL 703 3866 \nL 703 4441 \nL 1819 4666 \nL 2450 4666 \nL 2450 531 \nL 3481 531 \nL 3481 0 \nL 794 0 \nL 794 531 \nz\n\" id=\"DejaVuSans-31\" transform=\"scale(0.015625)\"/>\n      </defs>\n      <use xlink:href=\"#DejaVuSans-31\"/>\n     </g>\n    </g>\n   </g>\n   <g id=\"text_4\">\n    <g clip-path=\"url(#p43219f30da)\">\n     <!-- 4 -->\n     <g transform=\"translate(27.599399 95.295016)scale(0.12 -0.12)\">\n      <defs>\n       <path d=\"M 2419 4116 \nL 825 1625 \nL 2419 1625 \nL 2419 4116 \nz\nM 2253 4666 \nL 3047 4666 \nL 3047 1625 \nL 3713 1625 \nL 3713 1100 \nL 3047 1100 \nL 3047 0 \nL 2419 0 \nL 2419 1100 \nL 313 1100 \nL 313 1709 \nL 2253 4666 \nz\n\" id=\"DejaVuSans-34\" transform=\"scale(0.015625)\"/>\n      </defs>\n      <use xlink:href=\"#DejaVuSans-34\"/>\n     </g>\n    </g>\n   </g>\n   <g id=\"text_5\">\n    <g clip-path=\"url(#p43219f30da)\">\n     <!-- 0 -->\n     <g transform=\"translate(12.559595 192.123068)scale(0.12 -0.12)\">\n      <defs>\n       <path d=\"M 2034 4250 \nQ 1547 4250 1301 3770 \nQ 1056 3291 1056 2328 \nQ 1056 1369 1301 889 \nQ 1547 409 2034 409 \nQ 2525 409 2770 889 \nQ 3016 1369 3016 2328 \nQ 3016 3291 2770 3770 \nQ 2525 4250 2034 4250 \nz\nM 2034 4750 \nQ 2819 4750 3233 4129 \nQ 3647 3509 3647 2328 \nQ 3647 1150 3233 529 \nQ 2819 -91 2034 -91 \nQ 1250 -91 836 529 \nQ 422 1150 422 2328 \nQ 422 3509 836 4129 \nQ 1250 4750 2034 4750 \nz\n\" id=\"DejaVuSans-30\" transform=\"scale(0.015625)\"/>\n      </defs>\n      <use xlink:href=\"#DejaVuSans-30\"/>\n     </g>\n    </g>\n   </g>\n  </g>\n  <g id=\"axes_2\">\n   <g id=\"LineCollection_2\">\n    <path clip-path=\"url(#p9370ee800c)\" d=\"M 369.131292 108.324798 \nL 285.596388 99.833598 \n\" style=\"fill:none;stroke:#000000;\"/>\n    <path clip-path=\"url(#p9370ee800c)\" d=\"M 369.131292 108.324798 \nL 389.729752 73.914348 \n\" style=\"fill:none;stroke:#000000;\"/>\n    <path clip-path=\"url(#p9370ee800c)\" d=\"M 369.131292 108.324798 \nL 261.980962 55.900922 \n\" style=\"fill:none;stroke:#000000;\"/>\n    <path clip-path=\"url(#p9370ee800c)\" d=\"M 285.596388 99.833598 \nL 255.610981 188.811818 \n\" style=\"fill:none;stroke:#000000;\"/>\n    <path clip-path=\"url(#p9370ee800c)\" d=\"M 285.596388 99.833598 \nL 318.721383 45.395666 \n\" style=\"fill:none;stroke:#000000;\"/>\n    <path clip-path=\"url(#p9370ee800c)\" d=\"M 285.596388 99.833598 \nL 228.324793 15.848182 \n\" style=\"fill:none;stroke:#000000;\"/>\n    <path clip-path=\"url(#p9370ee800c)\" d=\"M 285.596388 99.833598 \nL 324.768727 140.489309 \n\" style=\"fill:none;stroke:#000000;\"/>\n    <path clip-path=\"url(#p9370ee800c)\" d=\"M 285.596388 99.833598 \nL 389.729752 73.914348 \n\" style=\"fill:none;stroke:#000000;\"/>\n    <path clip-path=\"url(#p9370ee800c)\" d=\"M 285.596388 99.833598 \nL 261.980962 55.900922 \n\" style=\"fill:none;stroke:#000000;\"/>\n    <path clip-path=\"url(#p9370ee800c)\" d=\"M 228.324793 15.848182 \nL 318.721383 45.395666 \n\" style=\"fill:none;stroke:#000000;\"/>\n    <path clip-path=\"url(#p9370ee800c)\" d=\"M 228.324793 15.848182 \nL 261.980962 55.900922 \n\" style=\"fill:none;stroke:#000000;\"/>\n    <path clip-path=\"url(#p9370ee800c)\" d=\"M 318.721383 45.395666 \nL 261.980962 55.900922 \n\" style=\"fill:none;stroke:#000000;\"/>\n    <path clip-path=\"url(#p9370ee800c)\" d=\"M 318.721383 45.395666 \nL 389.729752 73.914348 \n\" style=\"fill:none;stroke:#000000;\"/>\n    <path clip-path=\"url(#p9370ee800c)\" d=\"M 318.721383 45.395666 \nL 324.768727 140.489309 \n\" style=\"fill:none;stroke:#000000;\"/>\n    <path clip-path=\"url(#p9370ee800c)\" d=\"M 255.610981 188.811818 \nL 324.768727 140.489309 \n\" style=\"fill:none;stroke:#000000;\"/>\n    <path clip-path=\"url(#p9370ee800c)\" d=\"M 324.768727 140.489309 \nL 389.729752 73.914348 \n\" style=\"fill:none;stroke:#000000;\"/>\n   </g>\n   <g id=\"PathCollection_2\">\n    <g clip-path=\"url(#p9370ee800c)\">\n     <use style=\"fill:#1f78b4;stroke:#1f78b4;\" x=\"369.131292\" xlink:href=\"#m9e63021d8d\" y=\"108.324798\"/>\n     <use style=\"fill:#1f78b4;stroke:#1f78b4;\" x=\"285.596388\" xlink:href=\"#m9e63021d8d\" y=\"99.833598\"/>\n     <use style=\"fill:#1f78b4;stroke:#1f78b4;\" x=\"228.324793\" xlink:href=\"#m9e63021d8d\" y=\"15.848182\"/>\n     <use style=\"fill:#1f78b4;stroke:#1f78b4;\" x=\"318.721383\" xlink:href=\"#m9e63021d8d\" y=\"45.395666\"/>\n     <use style=\"fill:#1f78b4;stroke:#1f78b4;\" x=\"261.980962\" xlink:href=\"#m9e63021d8d\" y=\"55.900922\"/>\n     <use style=\"fill:#1f78b4;stroke:#1f78b4;\" x=\"255.610981\" xlink:href=\"#m9e63021d8d\" y=\"188.811818\"/>\n     <use style=\"fill:#1f78b4;stroke:#1f78b4;\" x=\"324.768727\" xlink:href=\"#m9e63021d8d\" y=\"140.489309\"/>\n     <use style=\"fill:#1f78b4;stroke:#1f78b4;\" x=\"389.729752\" xlink:href=\"#m9e63021d8d\" y=\"73.914348\"/>\n    </g>\n   </g>\n   <g id=\"text_6\">\n    <g clip-path=\"url(#p9370ee800c)\">\n     <!-- 0 -->\n     <g transform=\"translate(365.313792 111.636048)scale(0.12 -0.12)\">\n      <use xlink:href=\"#DejaVuSans-30\"/>\n     </g>\n    </g>\n   </g>\n   <g id=\"text_7\">\n    <g clip-path=\"url(#p9370ee800c)\">\n     <!-- 1 -->\n     <g transform=\"translate(281.778888 103.144848)scale(0.12 -0.12)\">\n      <use xlink:href=\"#DejaVuSans-31\"/>\n     </g>\n    </g>\n   </g>\n   <g id=\"text_8\">\n    <g clip-path=\"url(#p9370ee800c)\">\n     <!-- 2 -->\n     <g transform=\"translate(224.507293 19.159432)scale(0.12 -0.12)\">\n      <use xlink:href=\"#DejaVuSans-32\"/>\n     </g>\n    </g>\n   </g>\n   <g id=\"text_9\">\n    <g clip-path=\"url(#p9370ee800c)\">\n     <!-- 7 -->\n     <g transform=\"translate(314.903883 48.706916)scale(0.12 -0.12)\">\n      <defs>\n       <path d=\"M 525 4666 \nL 3525 4666 \nL 3525 4397 \nL 1831 0 \nL 1172 0 \nL 2766 4134 \nL 525 4134 \nL 525 4666 \nz\n\" id=\"DejaVuSans-37\" transform=\"scale(0.015625)\"/>\n      </defs>\n      <use xlink:href=\"#DejaVuSans-37\"/>\n     </g>\n    </g>\n   </g>\n   <g id=\"text_10\">\n    <g clip-path=\"url(#p9370ee800c)\">\n     <!-- 4 -->\n     <g transform=\"translate(258.163462 59.212172)scale(0.12 -0.12)\">\n      <use xlink:href=\"#DejaVuSans-34\"/>\n     </g>\n    </g>\n   </g>\n   <g id=\"text_11\">\n    <g clip-path=\"url(#p9370ee800c)\">\n     <!-- 3 -->\n     <g transform=\"translate(251.793481 192.123068)scale(0.12 -0.12)\">\n      <use xlink:href=\"#DejaVuSans-33\"/>\n     </g>\n    </g>\n   </g>\n   <g id=\"text_12\">\n    <g clip-path=\"url(#p9370ee800c)\">\n     <!-- 5 -->\n     <g transform=\"translate(320.951227 143.800559)scale(0.12 -0.12)\">\n      <defs>\n       <path d=\"M 691 4666 \nL 3169 4666 \nL 3169 4134 \nL 1269 4134 \nL 1269 2991 \nQ 1406 3038 1543 3061 \nQ 1681 3084 1819 3084 \nQ 2600 3084 3056 2656 \nQ 3513 2228 3513 1497 \nQ 3513 744 3044 326 \nQ 2575 -91 1722 -91 \nQ 1428 -91 1123 -41 \nQ 819 9 494 109 \nL 494 744 \nQ 775 591 1075 516 \nQ 1375 441 1709 441 \nQ 2250 441 2565 725 \nQ 2881 1009 2881 1497 \nQ 2881 1984 2565 2268 \nQ 2250 2553 1709 2553 \nQ 1456 2553 1204 2497 \nQ 953 2441 691 2322 \nL 691 4666 \nz\n\" id=\"DejaVuSans-35\" transform=\"scale(0.015625)\"/>\n      </defs>\n      <use xlink:href=\"#DejaVuSans-35\"/>\n     </g>\n    </g>\n   </g>\n   <g id=\"text_13\">\n    <g clip-path=\"url(#p9370ee800c)\">\n     <!-- 6 -->\n     <g transform=\"translate(385.912252 77.225598)scale(0.12 -0.12)\">\n      <defs>\n       <path d=\"M 2113 2584 \nQ 1688 2584 1439 2293 \nQ 1191 2003 1191 1497 \nQ 1191 994 1439 701 \nQ 1688 409 2113 409 \nQ 2538 409 2786 701 \nQ 3034 994 3034 1497 \nQ 3034 2003 2786 2293 \nQ 2538 2584 2113 2584 \nz\nM 3366 4563 \nL 3366 3988 \nQ 3128 4100 2886 4159 \nQ 2644 4219 2406 4219 \nQ 1781 4219 1451 3797 \nQ 1122 3375 1075 2522 \nQ 1259 2794 1537 2939 \nQ 1816 3084 2150 3084 \nQ 2853 3084 3261 2657 \nQ 3669 2231 3669 1497 \nQ 3669 778 3244 343 \nQ 2819 -91 2113 -91 \nQ 1303 -91 875 529 \nQ 447 1150 447 2328 \nQ 447 3434 972 4092 \nQ 1497 4750 2381 4750 \nQ 2619 4750 2861 4703 \nQ 3103 4656 3366 4563 \nz\n\" id=\"DejaVuSans-36\" transform=\"scale(0.015625)\"/>\n      </defs>\n      <use xlink:href=\"#DejaVuSans-36\"/>\n     </g>\n    </g>\n   </g>\n  </g>\n </g>\n <defs>\n  <clipPath id=\"p43219f30da\">\n   <rect height=\"190.26\" width=\"177.545455\" x=\"7.2\" y=\"7.2\"/>\n  </clipPath>\n  <clipPath id=\"p9370ee800c\">\n   <rect height=\"190.26\" width=\"177.545455\" x=\"220.254545\" y=\"7.2\"/>\n  </clipPath>\n </defs>\n</svg>\n"
     },
     "metadata": {}
    }
   ],
   "metadata": {
    "scrolled": true
   }
  },
  {
   "cell_type": "markdown",
   "source": [
    "上が `True` になった場合、大きめのグラフの以下のセルでも `True` が出ることを確認して下さい。"
   ],
   "metadata": {}
  },
  {
   "cell_type": "code",
   "execution_count": 62,
   "source": [
    "import random\n",
    "random.seed(a=0)\n",
    "edgenum_hugetest3 = 5000\n",
    "nodenum_hugetest3 = 100\n",
    "set_edge = set()\n",
    "for i in range(edgenum_hugetest3):\n",
    "    node1 = random.randint(0, nodenum_hugetest3-1)\n",
    "    node2 = random.randint(0, nodenum_hugetest3-1)\n",
    "    if node1 == node2:\n",
    "        continue\n",
    "    edge1 = (node1, node2)\n",
    "    if edge1 in set_edge:\n",
    "        continue\n",
    "    edge2 = (node2, node1)\n",
    "    if edge2 in set_edge:\n",
    "        continue\n",
    "    set_edge.add(edge1)\n",
    "list_edge_hugetest3 = list(set_edge)\n",
    "#print(len(list_edge_hugetest3))\n",
    "list_trignale_hugetest3 = enumerateTriangles(list_edge_hugetest3, nodenum_hugetest3)\n",
    "for triangle in list_trignale_hugetest3:\n",
    "    triangle.sort()\n",
    "list_trignale_hugetest3.sort()\n",
    "print(len(list_trignale_hugetest3)==39241, list_trignale_hugetest3[100]==[0, 5, 39])"
   ],
   "outputs": [
    {
     "output_type": "stream",
     "name": "stdout",
     "text": [
      "True True\n"
     ]
    }
   ],
   "metadata": {
    "tags": []
   }
  },
  {
   "cell_type": "markdown",
   "source": [
    "更に大きなデータ（DBLPのグラフ）でも試してみて下さい。"
   ],
   "metadata": {}
  },
  {
   "cell_type": "code",
   "execution_count": 63,
   "source": [
    "import json\n",
    "if 'list_edge_dblp' not in globals():\n",
    "    with open(\"ex7_data_dblp_list_edge.json\", \"r\", encoding=\"utf-8\") as f:\n",
    "        list_edge_dblp = json.load(f)\n",
    "    nodenum_dblp = max([max(edge1) for edge1 in list_edge_dblp])+1\n",
    "    list_tupedge_dblp = [(node1, node2) for node1, node2 in list_edge_dblp]\n",
    "nodenum_dblp = max([max(edge1) for edge1 in list_edge_dblp])+1\n",
    "print(\"頂点数:\", nodenum_dblp)"
   ],
   "outputs": [
    {
     "output_type": "stream",
     "name": "stdout",
     "text": [
      "頂点数: 390192\n"
     ]
    }
   ],
   "metadata": {}
  },
  {
   "cell_type": "code",
   "execution_count": 64,
   "source": [
    "list_trignale_dblp2 = enumerateTriangles(list_tupedge_dblp, nodenum_dblp)\n",
    "for triangle in list_trignale_dblp2:\n",
    "    triangle.sort()\n",
    "list_trignale_dblp2.sort()\n",
    "print(len(list_trignale_dblp2)==1076081, list_trignale_dblp2[1000]==[204, 87987, 332173])"
   ],
   "outputs": [
    {
     "output_type": "stream",
     "name": "stdout",
     "text": [
      "True True\n"
     ]
    }
   ],
   "metadata": {
    "scrolled": true
   }
  },
  {
   "cell_type": "markdown",
   "source": [
    "模範解答は（環境によりますが）1,2秒で結果が求まります。"
   ],
   "metadata": {}
  },
  {
   "cell_type": "code",
   "execution_count": 65,
   "source": [
    "%%timeit -r 1 -n 1\n",
    "enumerateTriangles(list_edge_dblp, nodenum_dblp)"
   ],
   "outputs": [
    {
     "output_type": "stream",
     "name": "stdout",
     "text": [
      "46.5 s ± 0 ns per loop (mean ± std. dev. of 1 run, 1 loop each)\n"
     ]
    }
   ],
   "metadata": {}
  },
  {
   "cell_type": "markdown",
   "source": [
    "以下のセルを実行すると解答セルのプログラムの計算量を自動的に評価します。\n",
    "\n",
    "この課題の模範解答の時間計算量は<font color=\"white\"> $O(mn)$ と評価されますが、正しくは $O(m^1.5)$です。</font>（←白黒反転しています）  \n",
    "想像（模範解答）よりも大きな計算量となっている場合、どこに問題があるのか考えてみて下さい。"
   ],
   "metadata": {}
  },
  {
   "cell_type": "code",
   "execution_count": 56,
   "source": [
    "import utaadevalcpx;dic_varinfo_7_1 = {\"list_edge\": [\"list\", set(), {\"m\"}],\"nodenum\": [\"int\", set(), {\"n\"}],}\n",
    "str_code_7_1 = '''...'''\n",
    "utaadevalcpx.evaluateCpx(str_exfilename, \"7-1\", dic_varinfo_7_1, str_code_7_1) # str_exfilenameはファイルの冒頭で定義されています"
   ],
   "outputs": [
    {
     "output_type": "execute_result",
     "data": {
      "text/plain": [
       "('時間計算量：O(mmmn), ',\n",
       " '領域計算量：O(mmnn+mmmn)',\n",
       " '解答のコードには適宜コメントを入れて下さい。正しくても評価者が読解できない場合は減点となる可能性があります。')"
      ]
     },
     "metadata": {},
     "execution_count": 56
    }
   ],
   "metadata": {}
  },
  {
   "cell_type": "markdown",
   "source": [
    "同様に著名人が含まれる三角形の数を調べてみます。\n",
    "\n",
    "頂点の番号 | 著者名 | 概要 \n",
    " - | - | - \n",
    "<font color=#008b8b>291399</font> | <font color=#008b8b>Shapley, Lloyd S.</font> | 2012年のノーベル経済学賞の受賞者。東大の進振りにも彼の考案したアルゴリズムが使われているとかいないとか\n",
    "<font color=#ff7f50>275409</font> | <font color=#ff7f50>Roth, Alvin E.</font> | 2012年のノーベル経済学賞の受賞者\n",
    "<font color=#006400>13067</font> | <font color=#006400>Allen, Paul G.</font> | マイクロソフトの創業者。沈没した軍艦を引き上げたりしている人の方\n",
    "<font color=#aa4500>102714</font> | <font color=#aa4500>Gates, William H.</font> | マイクロソフトの創業者\n",
    "<font color=#2f4f8f>234636</font> | <font color=#2f4f8f>Neumann, John von</font> | ノイマン型計算機の考案者\n",
    "<font color=#c71585>60161</font> | <font color=#c71585>Chomsky, Noam</font> | 色々なところに顔を出す言語学者\n",
    "<font color=#2e8b57>275334</font> | <font color=#2e8b57>Rossum, Guido van</font> | Ptyhonの考案者\n",
    "<font color=#00008b>75861</font> | <font color=#00008b>Dijkstra, Edsger W.</font> | 計算機科学者。ダイクストラ。オランダ人"
   ],
   "metadata": {}
  },
  {
   "cell_type": "code",
   "execution_count": null,
   "source": [
    "import json\n",
    "#著名人の通し番号を呼び出す\n",
    "if 'list_IDfam_dblp' not in globals():\n",
    "    with open(\"ex7_data_dblp_list_IDfam.json\", \"r\", encoding=\"utf-8\") as f:\n",
    "        list_IDfam_dblp = json.load(f)\n",
    "#極大三角形のリストを集合に変換する\n",
    "list_settriangle_dblp2 = []\n",
    "for triangle in list_trignale_dblp2:\n",
    "    list_settriangle_dblp2.append(set(triangle))\n",
    "#各著名人の極大三角形を調べる\n",
    "print(\"名前: 三角形数 (極大三角形数)\")\n",
    "for index1, (node1, name1, str1) in enumerate(list_IDfam_dblp):\n",
    "    tricnt = 0\n",
    "    for triangle in list_settriangle_dblp2:\n",
    "        if node1 in triangle:\n",
    "            tricnt += 1\n",
    "    print(name1, tricnt)"
   ],
   "outputs": [],
   "metadata": {}
  },
  {
   "cell_type": "markdown",
   "source": [
    "<b>問題の難易度評価：</b>\n",
    "下のセルにこの問の難易度を5段階（1:簡単、2:やや簡単、3:普通、4:やや難しい、5:難しい）で評価して下さい。（次回以降の課題の難易度の調整に使います）\n",
    "また、解答するのにかかった時間や感想などがあれば適宜記載して下さい。"
   ],
   "metadata": {}
  },
  {
   "cell_type": "code",
   "execution_count": null,
   "source": [
    "#難易度（1:簡単、2:やや簡単、3:普通、4:やや難しい、5:難しい）\n",
    "\n",
    "#感想\n"
   ],
   "outputs": [],
   "metadata": {}
  },
  {
   "cell_type": "markdown",
   "source": [
    "## 2. グラフの直径\n",
    "\n",
    "無向グラフ $G$ の枝を表す大きさ2のタプルを要素とするリスト `list_edge` と頂点数 `nodenum` が引数として与えられたとき、$G$ の直径の大きさを返す関数 `getDiameter` を作成して下さい。以下の点に注意して下さい。\n",
    "\n",
    "1. 各点は `0` から `nodenum-1` までの整数で表されます。すなわち、 `list_edge` を構成する大きさ2のタプルの要素は、 `0` から `nodenum-1` までの整数です。\n",
    "2. $G$を構成する点$v$と$u$の間に枝がある場合、`(u, v)`、もしくは `(v, u)` が `list_edge` に含まれます。 \n",
    "  * `(u, v)` と `(v, u)` の両方が `list_edge` には含まれることはありません。\n",
    "3. 同じ値は2個以上 `list_edge` には含まれません。\n",
    "4. ただし、任意の2点間には経路が存在する様なグラフが引数として与えられるものとします。\n",
    "5. （ヒント）<font color=\"white\">グラフの2点間の最短距離を求める必要がある場合、本課題4の（模範）解答を参考にして下さい。</font>\n",
    "\n",
    "なお、各値の大きさは以下の通りとします。\n",
    "\n",
    "* $m =$ $G$ の枝の数\n",
    "* $n =$ $G$ の点の数 (`nodenum`)\n",
    "* $k =$ $G$ の点の中で最大の隣接点数\n",
    "\n",
    "\n",
    "\n",
    "以下のセルの `...` のところを書き換えて解答して下さい。"
   ],
   "metadata": {}
  },
  {
   "cell_type": "code",
   "execution_count": 70,
   "source": [
    "### この行のコメントを改変してはいけません %7-2% ### \n",
    "#解答用セル\n",
    "from collections import deque # モジュールを使わない場合、この行は削除して良い\n",
    "def getDiameter(list_edge, nodenum):\n",
    "    list_adjlist = [None]*nodenum\n",
    "    for i in range(nodenum):\n",
    "        list_adjlist[i] = []\n",
    "    for node1, node2 in list_edge:\n",
    "        list_adjlist[node1].append(node2)\n",
    "        list_adjlist[node2].append(node1)\n",
    "    list_D = [0]*nodenum\n",
    "    list_D[0] = 0\n",
    "    q = deque(0)\n",
    "    while(len(q)>0):\n",
    "        node1 = q.pop\n",
    "        for adjnode in list_adjlist[node1]:\n",
    "            if list_D[adjnode] is not None:\n",
    "                continue\n",
    "            q.append(adjnode)\n",
    "            list_D[adjnode] = list_D[node1] + 1\n",
    "    print(list_D)\n",
    "    return list_D"
   ],
   "outputs": [],
   "metadata": {}
  },
  {
   "cell_type": "markdown",
   "source": [
    "上のセルで解答を作成した後、以下のセルを実行し、実行結果が全て `True` になることを確認して下さい。"
   ],
   "metadata": {}
  },
  {
   "cell_type": "code",
   "execution_count": 71,
   "source": [
    "list_edge_test1 = [(3, 2), (2, 1), (2, 4), (4, 3), (0, 4), (4, 1), (0, 2)]\n",
    "nodenum_test1 = 5\n",
    "print(getDiameter(list_edge_test1, nodenum_test1)==2)\n",
    "list_edge_test2 = [(0, 1), (2, 7), (4, 7), (1, 3), (7, 1),  (7, 6), (6, 0), (2, 1), (1, 6), (0, 4), (2, 4), (5, 3)]\n",
    "nodenum_test2 = 8\n",
    "print(getDiameter(list_edge_test2, nodenum_test2)==4)"
   ],
   "outputs": [
    {
     "output_type": "error",
     "ename": "TypeError",
     "evalue": "'int' object is not iterable",
     "traceback": [
      "\u001b[0;31m---------------------------------------------------------------------------\u001b[0m",
      "\u001b[0;31mTypeError\u001b[0m                                 Traceback (most recent call last)",
      "\u001b[0;32m<ipython-input-71-9d8430f4f776>\u001b[0m in \u001b[0;36m<module>\u001b[0;34m\u001b[0m\n\u001b[1;32m      1\u001b[0m \u001b[0mlist_edge_test1\u001b[0m \u001b[0;34m=\u001b[0m \u001b[0;34m[\u001b[0m\u001b[0;34m(\u001b[0m\u001b[0;36m3\u001b[0m\u001b[0;34m,\u001b[0m \u001b[0;36m2\u001b[0m\u001b[0;34m)\u001b[0m\u001b[0;34m,\u001b[0m \u001b[0;34m(\u001b[0m\u001b[0;36m2\u001b[0m\u001b[0;34m,\u001b[0m \u001b[0;36m1\u001b[0m\u001b[0;34m)\u001b[0m\u001b[0;34m,\u001b[0m \u001b[0;34m(\u001b[0m\u001b[0;36m2\u001b[0m\u001b[0;34m,\u001b[0m \u001b[0;36m4\u001b[0m\u001b[0;34m)\u001b[0m\u001b[0;34m,\u001b[0m \u001b[0;34m(\u001b[0m\u001b[0;36m4\u001b[0m\u001b[0;34m,\u001b[0m \u001b[0;36m3\u001b[0m\u001b[0;34m)\u001b[0m\u001b[0;34m,\u001b[0m \u001b[0;34m(\u001b[0m\u001b[0;36m0\u001b[0m\u001b[0;34m,\u001b[0m \u001b[0;36m4\u001b[0m\u001b[0;34m)\u001b[0m\u001b[0;34m,\u001b[0m \u001b[0;34m(\u001b[0m\u001b[0;36m4\u001b[0m\u001b[0;34m,\u001b[0m \u001b[0;36m1\u001b[0m\u001b[0;34m)\u001b[0m\u001b[0;34m,\u001b[0m \u001b[0;34m(\u001b[0m\u001b[0;36m0\u001b[0m\u001b[0;34m,\u001b[0m \u001b[0;36m2\u001b[0m\u001b[0;34m)\u001b[0m\u001b[0;34m]\u001b[0m\u001b[0;34m\u001b[0m\u001b[0;34m\u001b[0m\u001b[0m\n\u001b[1;32m      2\u001b[0m \u001b[0mnodenum_test1\u001b[0m \u001b[0;34m=\u001b[0m \u001b[0;36m5\u001b[0m\u001b[0;34m\u001b[0m\u001b[0;34m\u001b[0m\u001b[0m\n\u001b[0;32m----> 3\u001b[0;31m \u001b[0mprint\u001b[0m\u001b[0;34m(\u001b[0m\u001b[0mgetDiameter\u001b[0m\u001b[0;34m(\u001b[0m\u001b[0mlist_edge_test1\u001b[0m\u001b[0;34m,\u001b[0m \u001b[0mnodenum_test1\u001b[0m\u001b[0;34m)\u001b[0m\u001b[0;34m==\u001b[0m\u001b[0;36m2\u001b[0m\u001b[0;34m)\u001b[0m\u001b[0;34m\u001b[0m\u001b[0;34m\u001b[0m\u001b[0m\n\u001b[0m\u001b[1;32m      4\u001b[0m \u001b[0mlist_edge_test2\u001b[0m \u001b[0;34m=\u001b[0m \u001b[0;34m[\u001b[0m\u001b[0;34m(\u001b[0m\u001b[0;36m0\u001b[0m\u001b[0;34m,\u001b[0m \u001b[0;36m1\u001b[0m\u001b[0;34m)\u001b[0m\u001b[0;34m,\u001b[0m \u001b[0;34m(\u001b[0m\u001b[0;36m2\u001b[0m\u001b[0;34m,\u001b[0m \u001b[0;36m7\u001b[0m\u001b[0;34m)\u001b[0m\u001b[0;34m,\u001b[0m \u001b[0;34m(\u001b[0m\u001b[0;36m4\u001b[0m\u001b[0;34m,\u001b[0m \u001b[0;36m7\u001b[0m\u001b[0;34m)\u001b[0m\u001b[0;34m,\u001b[0m \u001b[0;34m(\u001b[0m\u001b[0;36m1\u001b[0m\u001b[0;34m,\u001b[0m \u001b[0;36m3\u001b[0m\u001b[0;34m)\u001b[0m\u001b[0;34m,\u001b[0m \u001b[0;34m(\u001b[0m\u001b[0;36m7\u001b[0m\u001b[0;34m,\u001b[0m \u001b[0;36m1\u001b[0m\u001b[0;34m)\u001b[0m\u001b[0;34m,\u001b[0m  \u001b[0;34m(\u001b[0m\u001b[0;36m7\u001b[0m\u001b[0;34m,\u001b[0m \u001b[0;36m6\u001b[0m\u001b[0;34m)\u001b[0m\u001b[0;34m,\u001b[0m \u001b[0;34m(\u001b[0m\u001b[0;36m6\u001b[0m\u001b[0;34m,\u001b[0m \u001b[0;36m0\u001b[0m\u001b[0;34m)\u001b[0m\u001b[0;34m,\u001b[0m \u001b[0;34m(\u001b[0m\u001b[0;36m2\u001b[0m\u001b[0;34m,\u001b[0m \u001b[0;36m1\u001b[0m\u001b[0;34m)\u001b[0m\u001b[0;34m,\u001b[0m \u001b[0;34m(\u001b[0m\u001b[0;36m1\u001b[0m\u001b[0;34m,\u001b[0m \u001b[0;36m6\u001b[0m\u001b[0;34m)\u001b[0m\u001b[0;34m,\u001b[0m \u001b[0;34m(\u001b[0m\u001b[0;36m0\u001b[0m\u001b[0;34m,\u001b[0m \u001b[0;36m4\u001b[0m\u001b[0;34m)\u001b[0m\u001b[0;34m,\u001b[0m \u001b[0;34m(\u001b[0m\u001b[0;36m2\u001b[0m\u001b[0;34m,\u001b[0m \u001b[0;36m4\u001b[0m\u001b[0;34m)\u001b[0m\u001b[0;34m,\u001b[0m \u001b[0;34m(\u001b[0m\u001b[0;36m5\u001b[0m\u001b[0;34m,\u001b[0m \u001b[0;36m3\u001b[0m\u001b[0;34m)\u001b[0m\u001b[0;34m]\u001b[0m\u001b[0;34m\u001b[0m\u001b[0;34m\u001b[0m\u001b[0m\n\u001b[1;32m      5\u001b[0m \u001b[0mnodenum_test2\u001b[0m \u001b[0;34m=\u001b[0m \u001b[0;36m8\u001b[0m\u001b[0;34m\u001b[0m\u001b[0;34m\u001b[0m\u001b[0m\n",
      "\u001b[0;32m<ipython-input-70-0c3cea8e6d02>\u001b[0m in \u001b[0;36mgetDiameter\u001b[0;34m(list_edge, nodenum)\u001b[0m\n\u001b[1;32m     11\u001b[0m     \u001b[0mlist_D\u001b[0m \u001b[0;34m=\u001b[0m \u001b[0;34m[\u001b[0m\u001b[0;36m0\u001b[0m\u001b[0;34m]\u001b[0m\u001b[0;34m*\u001b[0m\u001b[0mnodenum\u001b[0m\u001b[0;34m\u001b[0m\u001b[0;34m\u001b[0m\u001b[0m\n\u001b[1;32m     12\u001b[0m     \u001b[0mlist_D\u001b[0m\u001b[0;34m[\u001b[0m\u001b[0;36m0\u001b[0m\u001b[0;34m]\u001b[0m \u001b[0;34m=\u001b[0m \u001b[0;36m0\u001b[0m\u001b[0;34m\u001b[0m\u001b[0;34m\u001b[0m\u001b[0m\n\u001b[0;32m---> 13\u001b[0;31m     \u001b[0mq\u001b[0m \u001b[0;34m=\u001b[0m \u001b[0mdeque\u001b[0m\u001b[0;34m(\u001b[0m\u001b[0;36m0\u001b[0m\u001b[0;34m)\u001b[0m\u001b[0;34m\u001b[0m\u001b[0;34m\u001b[0m\u001b[0m\n\u001b[0m\u001b[1;32m     14\u001b[0m     \u001b[0;32mwhile\u001b[0m\u001b[0;34m(\u001b[0m\u001b[0mlen\u001b[0m\u001b[0;34m(\u001b[0m\u001b[0mq\u001b[0m\u001b[0;34m)\u001b[0m\u001b[0;34m>\u001b[0m\u001b[0;36m0\u001b[0m\u001b[0;34m)\u001b[0m\u001b[0;34m:\u001b[0m\u001b[0;34m\u001b[0m\u001b[0;34m\u001b[0m\u001b[0m\n\u001b[1;32m     15\u001b[0m         \u001b[0mnode1\u001b[0m \u001b[0;34m=\u001b[0m \u001b[0mq\u001b[0m\u001b[0;34m.\u001b[0m\u001b[0mpop\u001b[0m\u001b[0;34m\u001b[0m\u001b[0;34m\u001b[0m\u001b[0m\n",
      "\u001b[0;31mTypeError\u001b[0m: 'int' object is not iterable"
     ]
    }
   ],
   "metadata": {}
  },
  {
   "cell_type": "markdown",
   "source": [
    "なお、テストで用いているグラフは以下の様な形になっています。"
   ],
   "metadata": {}
  },
  {
   "cell_type": "code",
   "execution_count": null,
   "source": [
    "import networkx as nx, matplotlib.pyplot as plt\n",
    "%matplotlib inline\n",
    "#隣接リストをnx形式に変換（枝を加える）→描画\n",
    "def drawEdgesUsingNx(nx_graph, list_edge, dic_pos, axval):\n",
    "    nx_graph.add_edges_from(list_edge)\n",
    "    axval.set_axis_off()\n",
    "    nx.draw_networkx(nx_graph, pos=dic_pos, ax=axval)\n",
    "#2つのグラフを描画\n",
    "fig, npar_axval = plt.subplots(1, 2, figsize=(7, 3.5))\n",
    "#1\n",
    "list_edge_test1 = [(3, 2), (2, 1), (2, 4), (4, 3), (0, 4), (4, 1), (0, 2)]; nx_g1 = nx.Graph()\n",
    "drawEdgesUsingNx(nx_g1, list_edge_test1, None, npar_axval[0])\n",
    "#2\n",
    "list_edge_test2 = [(0, 1), (2, 7), (4, 7), (1, 3), (7, 1),  (7, 6), (6, 0), (2, 1), (1, 6), (0, 4), (2, 4), (5, 3)] ;nx_g2 = nx.Graph()\n",
    "drawEdgesUsingNx(nx_g2, list_edge_test2, None, npar_axval[1])"
   ],
   "outputs": [],
   "metadata": {
    "scrolled": true
   }
  },
  {
   "cell_type": "markdown",
   "source": [
    "上が `True` になった場合、大きめのグラフの以下のセルでも `True` が出ることを確認して下さい。"
   ],
   "metadata": {}
  },
  {
   "cell_type": "code",
   "execution_count": null,
   "source": [
    "#ランダムに木を作成する\n",
    "import random \n",
    "def constructRandomTree(nodenum, maxchildnum):\n",
    "    random.seed(a=0)\n",
    "    #枝リスト\n",
    "    list_edge = []\n",
    "    #FIFOを使う\n",
    "    FIFO = FIFOClass()\n",
    "    #根は0\n",
    "    nodecnt = 0\n",
    "    FIFO.enqueue(nodecnt)\n",
    "    nodecnt += 1\n",
    "    while(len(FIFO.list_data) > 0):\n",
    "        #新しく子供を作成する点\n",
    "        node1 = FIFO.dequeue()\n",
    "        #点node1の子供数を決定\n",
    "        childnum = random.randint(0, maxchildnum)\n",
    "        #キューに何も入ってない場合、必ず子供は1つ以上\n",
    "        if len(FIFO.list_data) == 0 and childnum == 0:\n",
    "            childnum = random.randint(1, maxchildnum)\n",
    "        for adjnode in range(childnum):\n",
    "            list_edge.append((node1, nodecnt))\n",
    "            FIFO.enqueue(nodecnt)\n",
    "            nodecnt += 1\n",
    "            #点の数が指定数に到達したら終了\n",
    "            if nodecnt == nodenum:\n",
    "                break\n",
    "        #点の数が指定数に到達したら終了\n",
    "        if nodecnt == nodenum:\n",
    "            #子供がない点のリストを空にしておく\n",
    "            node1 += 1\n",
    "            while(node1 < nodenum):\n",
    "                node1 += 1\n",
    "            break\n",
    "    return list_edge\n",
    "nodenum_hugetest4 = 50000\n",
    "maxchildnum_hugetest4 = 5\n",
    "list_edge_hugetest4 = constructRandomTree(nodenum_hugetest4, maxchildnum_hugetest4)\n",
    "list_edge_hugetest4c = list_edge_hugetest4.copy()\n",
    "print(getDiameter(list_edge_hugetest4c, nodenum_hugetest4)==23)\n",
    "# 適当に枝を足してグラフにする\n",
    "extraedgenum_hugetest4 = 10000\n",
    "set_edge_hugetest4 = set()\n",
    "for i in range(extraedgenum_hugetest4):\n",
    "    node1 = random.randint(0, nodenum_hugetest4-1)\n",
    "    node2 = random.randint(0, nodenum_hugetest4-1)\n",
    "    if node1 == node2:\n",
    "        continue\n",
    "    edge1 = (node1, node2)\n",
    "    if edge1 in set_edge_hugetest4:\n",
    "        continue\n",
    "    edge2 = (node2, node1)\n",
    "    if edge2 in set_edge_hugetest4:\n",
    "        continue\n",
    "    set_edge_hugetest4.add(edge1)\n",
    "list_edge_hugetest4 += list(set_edge_hugetest4)\n",
    "list_edge_hugetest4c = list_edge_hugetest4.copy()\n",
    "print(getDiameter(list_edge_hugetest4c, nodenum_hugetest4)==19)"
   ],
   "outputs": [],
   "metadata": {}
  },
  {
   "cell_type": "markdown",
   "source": [
    "DBLPのグラフの直径を求めてみます（少し時間がかかります）。"
   ],
   "metadata": {}
  },
  {
   "cell_type": "code",
   "execution_count": null,
   "source": [
    "import json\n",
    "if 'list_edge_dblp' not in globals():\n",
    "    with open(\"ex7_data_dblp_list_edge.json\", \"r\", encoding=\"utf-8\") as f:\n",
    "        list_edge_dblp = json.load(f)\n",
    "    nodenum_dblp = max([max(edge1) for edge1 in list_edge_dblp])+1\n",
    "    list_tupedge_dblp = [(node1, node2) for node1, node2 in list_edge_dblp]\n",
    "nodenum_dblp = max([max(edge1) for edge1 in list_edge_dblp])+1\n",
    "print(getDiameter(list_edge_dblp, nodenum_dblp)==24)"
   ],
   "outputs": [],
   "metadata": {}
  },
  {
   "cell_type": "markdown",
   "source": [
    "以下のセルを実行すると解答セルのプログラムの計算量を自動的に評価します。\n",
    "\n",
    "この課題の模範解答の時間計算量は<font color=\"white\"> $O(mm+n)$、もしくは $O(m+n)$ と評価されますが、正しくは $O(m+n)$です。</font>（←白黒反転しています）  \n",
    "想像（模範解答）よりも大きな計算量となっている場合、どこに問題があるのか考えてみて下さい。"
   ],
   "metadata": {}
  },
  {
   "cell_type": "code",
   "execution_count": null,
   "source": [
    "import utaadevalcpx;dic_varinfo_7_2 = {\"list_edge\": [\"list\", set(), {\"m\"}],\"nodenum\": [\"int\", set(), {\"n\"}],}\n",
    "str_code_7_2 = '''...'''\n",
    "utaadevalcpx.evaluateCpx(str_exfilename, \"7-2\", dic_varinfo_7_2, str_code_7_2) # str_exfilenameはファイルの冒頭で定義されています"
   ],
   "outputs": [],
   "metadata": {}
  },
  {
   "cell_type": "markdown",
   "source": [
    "`networkx` との時間を比較します。\n",
    "\n",
    "模範解答では300ミリ秒前後ですが、`networkx` は止まりません。（実行した場合は手動で止めて下さい）"
   ],
   "metadata": {}
  },
  {
   "cell_type": "code",
   "execution_count": null,
   "source": [
    "list_edge_hugetest4c = list_edge_hugetest4.copy()"
   ],
   "outputs": [],
   "metadata": {}
  },
  {
   "cell_type": "code",
   "execution_count": null,
   "source": [
    "%%timeit -r 1 -n 1\n",
    "getDiameter(list_edge_hugetest4c, nodenum_hugetest4)"
   ],
   "outputs": [],
   "metadata": {}
  },
  {
   "cell_type": "code",
   "execution_count": null,
   "source": [
    "nx_g1 = nx.Graph(); nx_g1.add_edges_from(list_edge_hugetest4c)"
   ],
   "outputs": [],
   "metadata": {}
  },
  {
   "cell_type": "code",
   "execution_count": null,
   "source": [
    "%%timeit -r 1 -n 1\n",
    "nx.algorithms.distance_measures.diameter(nx_g1)"
   ],
   "outputs": [],
   "metadata": {}
  },
  {
   "cell_type": "markdown",
   "source": [
    "<b>問題の難易度評価：</b>\n",
    "下のセルにこの問の難易度を5段階（1:簡単、2:やや簡単、3:普通、4:やや難しい、5:難しい）で評価して下さい。（次回以降の課題の難易度の調整に使います）\n",
    "また、解答するのにかかった時間や感想などがあれば適宜記載して下さい。"
   ],
   "metadata": {}
  },
  {
   "cell_type": "code",
   "execution_count": null,
   "source": [
    "#難易度（1:簡単、2:やや簡単、3:普通、4:やや難しい、5:難しい）\n",
    "\n",
    "#感想\n"
   ],
   "outputs": [],
   "metadata": {}
  }
 ],
 "metadata": {
  "kernelspec": {
   "name": "python3",
   "display_name": "Python 3.7.10 64-bit ('algorithm': conda)"
  },
  "language_info": {
   "codemirror_mode": {
    "name": "ipython",
    "version": 3
   },
   "file_extension": ".py",
   "mimetype": "text/x-python",
   "name": "python",
   "nbconvert_exporter": "python",
   "pygments_lexer": "ipython3",
   "version": "3.7.10"
  },
  "interpreter": {
   "hash": "04b8e010f3b6809a56ffda02e352e05452fc3b2a9b8fdaf3546430b4b6d8b013"
  }
 },
 "nbformat": 4,
 "nbformat_minor": 2
}