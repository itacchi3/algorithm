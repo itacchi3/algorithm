{
 "cells": [
  {
   "cell_type": "markdown",
   "metadata": {},
   "source": [
    "# 教養としてのアルゴリズムとデータ構造\n",
    "\n",
    "* 以下の各問について、問の次（もしくはその次）にあるコードセルに解答すること。\n",
    "    * 特に指定がある場合を除いて複数のセルに分けて解答してはならない。\n",
    "* 全ての解答を終えた後に必ずリスタートを実行し、上のセルから順番に実行して各解答が正しく動くことを確認すること。\n",
    " * ただし、ローカル環境で解答する場合、 `!wget...` の記載のあるセルは実行しなくてよい。 \n",
    "* 提出にあたっては、各当該のセルに解答のコードを記入し、それを実行した結果を表示させた後に、保存したこのファイルをITC-LMS経由で提出すること。\n",
    "* 解答のコードには適宜コメントを入れること。\n",
    "* 受講者間の協力は原則許可しない。\n",
    "* 解答がコピペと判断された場合、その解答（コピペ元も含めて）は0点となる可能性があるので注意すること。\n",
    "* 特に指定がない限りモジュールを用いて解答してはならない。\n"
   ]
  },
  {
   "cell_type": "markdown",
   "metadata": {},
   "source": [
    "<b><font color=\"red\">\n",
    "各問に解答するにあたり、以下の点に注意して下さい。\n",
    "\n",
    "1. グラフを大きさ2のタプルを要素とするリストは配布したスライド (03_Tree.ppt, 11ページ) の形式に従うものとします。\n",
    " * 例えば、`[(0, 1), (0, 2), (0, 3), (1, 4), (1, 5), (2, 6), (2, 7)]` の様な値です。\n",
    "2. 隣接リストは授業で配布したスライド (03_Tree.ppt, 14ページ) の形式に従うものとします。  \n",
    " * 例えば、`[[1,2,3], [4, 5], [6, 7], [], [8, 9, 10], [11], [12, 13], [], [], [], [], [], [], []]` の様な値です。\n",
    "4. 解答するのに `networkx` を使用してはいけません。\n",
    "5. `bisect, collections (deque) ` は使用可能です。\n",
    "</font></b>"
   ]
  },
  {
   "cell_type": "code",
   "execution_count": null,
   "metadata": {},
   "outputs": [],
   "source": [
    "!wget https://drive.google.com/uc?id=1f5tjyfqDgcoHYyqedfhRKrmZ-eOGivX7 -O utaadevalcpx.zip\n",
    "!unzip utaadevalcpx.zip"
   ]
  },
  {
   "cell_type": "markdown",
   "metadata": {},
   "source": [
    "以下のセルは各解答セルのプログラムの計算量を自動的に評価するのに利用します。\n",
    "* ローカル環境で解答している人はファイルを保存してから以下のセルをそのまま実行して下さい（このファイルと同じフォルダ内に `utaadevalcpx.py` があることを確認して下さい）。\n",
    "* Colaboratoryを利用している人は評価用セル内部の `str_code_X_Y  = '''...'''` の `...` に自分の解答をコピペして下さい（`X` と `Y` は問の通し番号です。ファイル冒頭のデータのダウンロードを事前に行う必要があります）。\n",
    "\n",
    "計算量の自動評価は、常に正しい計算量を求められる訳ではありません（<font color=\"red\">正しく求められなかった場合、実際の計算量よりも計算量が少なく求まります</font>）。例えば、以下の様な内容のコードは正しく評価できないことがあります。\n",
    "* 組み込み関数などの名前を別名に変更している\n",
    "* 条件式の使用（例えば、for文中のif文＋`break`など）\n",
    "* while文を使用する\n",
    "\n",
    "計算量の評価を行うセルでエラーが発生しても解答が間違っているという訳ではありません（模範解答とは違う解答である可能性が高いです）。\n",
    "\n",
    "Pythonのバージョンが3.7以外だと、正しく評価されないことが多い様です（Colab.は3.7です）。"
   ]
  },
  {
   "cell_type": "code",
   "execution_count": 3,
   "metadata": {},
   "outputs": [],
   "source": [
    "str_exfilename = \"basic5.ipynb\" # ファイル名を変更している場合、ここをその名前に変更する必要があります（ローカル環境のみ/Colab環境では使用しません"
   ]
  },
  {
   "cell_type": "markdown",
   "metadata": {},
   "source": [
    "# 第5回基礎課題"
   ]
  },
  {
   "cell_type": "markdown",
   "metadata": {},
   "source": [
    "## 1. スタックの実装\n",
    "\n",
    "スタックを実現するクラス `StackClass` を作成して下さい。以下の点に注意して解答して下さい。\n",
    "\n",
    "1. クラス `StackClass` はリスト（もしくは `deque` ） `list_data` を持ち、要素を `list_data` に要素を追加するメソッド `push` と、`list_data` から要素を取り出すためのメソッド `pop` を持ちます。\n",
    "2. コンストラクタ (`__init__(self)`) では `list_data` を初期化します。\n",
    "3. メソッド `push` は `item1` を引数に取り、`list_data` の最後尾に `item1` の値を追加します。\n",
    "4. メソッド `pop` は `list_data` の最後尾の値 `val` を `list_data` から削除する。返り値として `val` を返します。  \n",
    " * `pop` が実行される場合、`list_data` には必ず1つ以上の要素が格納されていると仮定して構いません。\n",
    "\n",
    "クラスが分からない人は第3回本課題の `FIFOClass` を参考に解答して下さい。\n",
    "\n",
    "なお、各値の大きさは以下の通りとします。\n",
    "* $n =$ `list_data` の最大の格納要素数\n",
    "\n",
    "以下のセルの `...` のところを書き換えて解答して下さい。"
   ]
  },
  {
   "cell_type": "code",
   "execution_count": 4,
   "metadata": {},
   "outputs": [],
   "source": [
    "### この行のコメントを改変してはいけません %5-1% ### \n",
    "#解答用セル\n",
    "class StackClass:\n",
    "    def __init__(self):\n",
    "        self.list_data = []\n",
    "    def push(self, item1): # リストの最後尾に追加する\n",
    "        self.list_data.append(item1)\n",
    "    def pop(self): # リストの最後尾を取り出す\n",
    "        return self.list_data.pop(-1)\n",
    "    def length(self): # リストの長さを返す\n",
    "        return len(self.list_data)"
   ]
  },
  {
   "cell_type": "markdown",
   "metadata": {},
   "source": [
    "上のセルで解答を作成した後、以下のセルを実行し、実行結果が `True` になることを確認して下さい。"
   ]
  },
  {
   "cell_type": "code",
   "execution_count": 5,
   "metadata": {},
   "outputs": [
    {
     "output_type": "stream",
     "name": "stdout",
     "text": [
      "True\nTrue\nTrue True\nTrue True\n"
     ]
    }
   ],
   "source": [
    "import collections\n",
    "Stack1 = StackClass()\n",
    "Stack1.push(10);Stack1.push(20);Stack1.push(30)\n",
    "print(Stack1.list_data==[10, 20, 30] or Stack1.list_data==collections.deque([10, 20, 30]))\n",
    "Stack1.push(0);Stack1.push(40)\n",
    "print(Stack1.list_data==[10, 20, 30, 0, 40] or Stack1.list_data==collections.deque([10, 20, 30, 0, 40]))\n",
    "int1 = Stack1.pop();int2 = Stack1.pop()\n",
    "print(Stack1.list_data==[10, 20, 30] or Stack1.list_data==collections.deque([10, 20, 30]), (int1, int2)==(40, 0))\n",
    "int1 = Stack1.pop();int2 = Stack1.pop()\n",
    "print(Stack1.list_data==[10] or Stack1.list_data==collections.deque([10]), (int1, int2)==(30, 20))"
   ]
  },
  {
   "cell_type": "markdown",
   "metadata": {},
   "source": [
    "以下のセルを実行すると解答セルのプログラムの計算量を自動的に評価します。\n",
    "\n",
    "この課題の模範解答の時間計算量は<font color=\"white\"> $O(1)$ と評価されます。</font>（←白黒反転しています）  \n",
    "想像（模範解答）よりも大きな計算量となっている場合、どこに問題があるのか考えてみて下さい。"
   ]
  },
  {
   "cell_type": "code",
   "execution_count": 6,
   "metadata": {},
   "outputs": [
    {
     "output_type": "execute_result",
     "data": {
      "text/plain": [
       "('時間計算量：O(1), ',\n",
       " '領域計算量：O(n)',\n",
       " '解答のコードには適宜コメントを入れて下さい。正しくても評価者が読解できない場合は減点となる可能性があります。')"
      ]
     },
     "metadata": {},
     "execution_count": 6
    }
   ],
   "source": [
    "import utaadevalcpx;dic_varinfo_5_1 = {\"list_data\": [\"list\", set(), {\"n\"}],}\n",
    "str_code_5_1 = '''...'''\n",
    "utaadevalcpx.evaluateCpx(str_exfilename, \"5-1\", dic_varinfo_5_1, str_code_5_1) # str_exfilenameはファイルの冒頭で定義されています"
   ]
  },
  {
   "cell_type": "markdown",
   "metadata": {},
   "source": [
    "`StackClass` が作成出来たら、スタックの使い方を確認してみましょう。下記では `Stack` というオブジェクト（内のリスト `list_data` ）がスタックのルールに従ってデータを保持することになります。\n",
    "\n",
    "実際にスタックを使ってみます。最初に初期化します。"
   ]
  },
  {
   "cell_type": "code",
   "execution_count": 7,
   "metadata": {},
   "outputs": [],
   "source": [
    "#スタックを初期化\n",
    "Stack2 = StackClass()"
   ]
  },
  {
   "cell_type": "markdown",
   "metadata": {},
   "source": [
    "スタックは、データ（要素）を順序付けて一時的に保持する為のデータ構造ですから、とりあえず保持したい値を追加します。\n",
    "\n",
    "`10` という値を追加します。"
   ]
  },
  {
   "cell_type": "code",
   "execution_count": 8,
   "metadata": {},
   "outputs": [],
   "source": [
    "#10をスタックに追加\n",
    "Stack2.push(10)"
   ]
  },
  {
   "cell_type": "markdown",
   "metadata": {},
   "source": [
    "スタックの中身を確認してみます。"
   ]
  },
  {
   "cell_type": "code",
   "execution_count": 16,
   "metadata": {},
   "outputs": [
    {
     "output_type": "stream",
     "name": "stdout",
     "text": [
      "スタックの状態: [10]  要素数： 1\n"
     ]
    }
   ],
   "source": [
    "print(\"スタックの状態:\", Stack2.list_data, \" 要素数：\", Stack2.length()) # len(Stack2.list_data) でも同じ"
   ]
  },
  {
   "cell_type": "markdown",
   "metadata": {},
   "source": [
    "`10` という値が格納されています。"
   ]
  },
  {
   "cell_type": "markdown",
   "metadata": {},
   "source": [
    "更に、`20` と `30` という2つの値を格納してみます。"
   ]
  },
  {
   "cell_type": "code",
   "execution_count": 9,
   "metadata": {},
   "outputs": [],
   "source": [
    "#20をスタックに追加\n",
    "Stack2.push(20)\n",
    "#30をスタックに追加\n",
    "Stack2.push(30)"
   ]
  },
  {
   "cell_type": "markdown",
   "metadata": {},
   "source": [
    "スタックの中身を確認してみます。"
   ]
  },
  {
   "cell_type": "code",
   "execution_count": 10,
   "metadata": {
    "scrolled": true
   },
   "outputs": [
    {
     "output_type": "stream",
     "name": "stdout",
     "text": [
      "スタックの状態: [10, 20, 30]  要素数： 3\n"
     ]
    }
   ],
   "source": [
    "print(\"スタックの状態:\", Stack2.list_data, \" 要素数：\", Stack2.length()) # len(Stack2.list_data) でも同じ"
   ]
  },
  {
   "cell_type": "markdown",
   "metadata": {},
   "source": [
    "`10` の後ろに `20, 30` とスタックに追加した順序で値が（`[10, 20, 30]` という形で）格納されていることが確認できるはずです。\n",
    "\n",
    "では、次にスタックから値を取り出してみます。"
   ]
  },
  {
   "cell_type": "code",
   "execution_count": 11,
   "metadata": {},
   "outputs": [
    {
     "output_type": "stream",
     "name": "stdout",
     "text": [
      "スタックから取り出した値: 30  スタックの状態: [10, 20]  要素数： 2\n"
     ]
    }
   ],
   "source": [
    "#値の取り出し\n",
    "val = Stack2.pop()\n",
    "#取り出した値とスタックの状態を確認してみる\n",
    "print(\"スタックから取り出した値:\", val, \" スタックの状態:\", Stack2.list_data, \" 要素数：\", Stack2.length()) # len(Stack2.list_data) でも同じ"
   ]
  },
  {
   "cell_type": "markdown",
   "metadata": {},
   "source": [
    "FIFOキューと違い、最初に入れた値 `10` はそのままに、一番最後に格納した値 `30` が取り出されて `val` という変数に代入され、スタックは `[10, 20]` という状態になっていることが確認できます（`StackClass` を正しく作成出来ていれば）。\n",
    "\n",
    "この様にスタックは値を取り出す際には、常に最後に入れた値（リストの最後尾）から値が取り出さされることになっています。"
   ]
  },
  {
   "cell_type": "code",
   "execution_count": 12,
   "metadata": {},
   "outputs": [
    {
     "output_type": "stream",
     "name": "stdout",
     "text": [
      "スタックの状態: [10, 20, 100]  要素数： 3\nスタックの状態: [10, 20, 100, 90]  要素数： 4\nスタックから取り出した値: 90  スタックの状態: [10, 20, 100]  要素数： 3\nスタックから取り出した値: 100  スタックの状態: [10, 20]  要素数： 2\nスタックから取り出した値: 20  スタックの状態: [10]  要素数： 1\nスタックから取り出した値: 10  スタックの状態: []  要素数： 0\n"
     ]
    }
   ],
   "source": [
    "#100をスタックに追加\n",
    "Stack2.push(100)\n",
    "print(\"スタックの状態:\", Stack2.list_data, \" 要素数：\", Stack2.length()) # len(Stack2.list_data) でも同じ\n",
    "#90をスタックに追加\n",
    "Stack2.push(90)\n",
    "print(\"スタックの状態:\", Stack2.list_data, \" 要素数：\", Stack2.length()) # len(Stack2.list_data) でも同じ\n",
    "#値の取り出し\n",
    "val = Stack2.pop()\n",
    "print(\"スタックから取り出した値:\", val, \" スタックの状態:\", Stack2.list_data, \" 要素数：\", Stack2.length()) # len(Stack2.list_data) でも同じ\n",
    "#値の取り出し\n",
    "val = Stack2.pop()\n",
    "print(\"スタックから取り出した値:\", val, \" スタックの状態:\", Stack2.list_data, \" 要素数：\", Stack2.length()) # len(Stack2.list_data) でも同じ\n",
    "#値の取り出し\n",
    "val = Stack2.pop()\n",
    "print(\"スタックから取り出した値:\", val, \" スタックの状態:\", Stack2.list_data, \" 要素数：\", Stack2.length()) # len(Stack2.list_data) でも同じ\n",
    "#値の取り出し\n",
    "val = Stack2.pop()\n",
    "print(\"スタックから取り出した値:\", val, \" スタックの状態:\", Stack2.list_data, \" 要素数：\", Stack2.length()) # len(Stack2.list_data) でも同じ"
   ]
  },
  {
   "cell_type": "markdown",
   "metadata": {},
   "source": [
    "この `StackClass` によるスタックを使って次の問を解いてみて下さい。"
   ]
  },
  {
   "cell_type": "markdown",
   "metadata": {},
   "source": [
    "<b>問題の難易度評価：</b>\n",
    "下のセルにこの問の難易度を5段階（1:簡単、2:やや簡単、3:普通、4:やや難しい、5:難しい）で評価して下さい。（次回以降の課題の難易度の調整に使います）\n",
    "また、解答するのにかかった時間や感想などがあれば適宜記載して下さい。"
   ]
  },
  {
   "cell_type": "code",
   "execution_count": 13,
   "metadata": {},
   "outputs": [],
   "source": [
    "#難易度（1:簡単、2:やや簡単、3:普通、4:やや難しい、5:難しい）\n",
    "# 1\n",
    "#感想\n"
   ]
  },
  {
   "cell_type": "markdown",
   "metadata": {},
   "source": [
    "## 2. 深さ優先探索（非再帰）を用いた訪問順の取得\n",
    "\n",
    "木構造 $T$ を表す隣接リスト `list_adjlist` が引数として与えられたとき、$T$ に対してスタックを用いた（再帰を用いない）深さ優先探索を行った際に、$T$ の各点を訪問する順序を表すリスト `list_node` を返す関数 `DFSInPreorder` を作成して下さい。以下の点に注意して解答して下さい。\n",
    "\n",
    "1. 各点は `0` 以上の整数で表されます。\n",
    "2. 根を表す番号は `0` であり、根から探索を開始します。\n",
    "3. 訪問する順序を表すリスト`list_node` には、深さ優先探索を行った際に訪問した順序（スタックから取り出した順序）で点の名前を格納します。\n",
    "4. 問1で作成したクラス `StackClass` を使用して下さい。\n",
    " * `StackClass` が分からない人は出題者に相談して下さい。\n",
    "5. 点 `node1` の子供をスタックに入れる際には、リスト `list_adjlist[node1]` に格納されている順番で入れる様にして下さい。\n",
    "\n",
    "\n",
    "なお、各値の大きさは以下の通りとします。\n",
    "* $m =$ $G$ の枝の数\n",
    "* $n =$ $G$ の点の数\n",
    "* $k =$ $G$ の点の中で最大の隣接点数\n",
    "\n",
    "以下のセルの `...` のところを書き換えて解答して下さい。"
   ]
  },
  {
   "cell_type": "code",
   "execution_count": 14,
   "metadata": {},
   "outputs": [],
   "source": [
    "### この行のコメントを改変してはいけません %5-2% ### \n",
    "#解答用セル\n",
    "def DFSInPreorder(list_adjlist):\n",
    "    # list_nodeの初期化\n",
    "    list_node = []\n",
    "    # stack_Qの初期化\n",
    "    stack_Q = StackClass()\n",
    "    # stack_Qに根を追加する\n",
    "    stack_Q.push(0)\n",
    "    # stack_Qがなくなるまで続ける\n",
    "    while(stack_Q.length()>0):\n",
    "        # stack_Qの最後尾を取り出す\n",
    "        node1 = stack_Q.pop()\n",
    "        # list_nodeに追加する\n",
    "        list_node.append(node1)\n",
    "        # node1の子を調べる\n",
    "        for childnode in list_adjlist[node1]:\n",
    "            #node1の子childnodeをstack_Qに入れる\n",
    "            stack_Q.push(childnode)\n",
    "    return list_node"
   ]
  },
  {
   "cell_type": "markdown",
   "metadata": {},
   "source": [
    "上のセルで解答を作成した後、以下のセルを実行し、実行結果が `True` になることを確認して下さい。"
   ]
  },
  {
   "cell_type": "code",
   "execution_count": 15,
   "metadata": {},
   "outputs": [
    {
     "output_type": "stream",
     "name": "stdout",
     "text": [
      "True\nTrue\nTrue\n"
     ]
    }
   ],
   "source": [
    "list_adjlist_test1=[[1, 2], [], [3, 4], [], []]\n",
    "list_res1 = DFSInPreorder(list_adjlist_test1)\n",
    "print(list_res1==[0, 2, 4, 3, 1])\n",
    "list_adjlist_test2=[[1, 2, 3], [4, 5], [6, 7, 8, 9], [], [], [10], [], [], [], [], []]\n",
    "list_res2 = DFSInPreorder(list_adjlist_test2)\n",
    "print(list_res2==[0, 3, 2, 9, 8, 7, 6, 1, 5, 10, 4])\n",
    "list_adjlist_test3=[[3, 7, 9], [], [], [6, 2], [5, 1], [], [], [4], [], [8]]\n",
    "list_res3 = DFSInPreorder(list_adjlist_test3)\n",
    "print(list_res3==[0, 9, 8, 7, 4, 1, 5, 3, 2, 6])"
   ]
  },
  {
   "cell_type": "markdown",
   "metadata": {},
   "source": [
    "なお、テストで用いている木は以下の様な形になっています。"
   ]
  },
  {
   "cell_type": "code",
   "execution_count": 16,
   "metadata": {
    "scrolled": true
   },
   "outputs": [
    {
     "output_type": "display_data",
     "data": {
      "text/plain": "<Figure size 864x252 with 3 Axes>",
      "image/svg+xml": "<?xml version=\"1.0\" encoding=\"utf-8\" standalone=\"no\"?>\n<!DOCTYPE svg PUBLIC \"-//W3C//DTD SVG 1.1//EN\"\n  \"http://www.w3.org/Graphics/SVG/1.1/DTD/svg11.dtd\">\n<!-- Created with matplotlib (https://matplotlib.org/) -->\n<svg height=\"204.66pt\" version=\"1.1\" viewBox=\"0 0 684 204.66\" width=\"684pt\" xmlns=\"http://www.w3.org/2000/svg\" xmlns:xlink=\"http://www.w3.org/1999/xlink\">\n <metadata>\n  <rdf:RDF xmlns:cc=\"http://creativecommons.org/ns#\" xmlns:dc=\"http://purl.org/dc/elements/1.1/\" xmlns:rdf=\"http://www.w3.org/1999/02/22-rdf-syntax-ns#\">\n   <cc:Work>\n    <dc:type rdf:resource=\"http://purl.org/dc/dcmitype/StillImage\"/>\n    <dc:date>2021-07-11T01:12:34.570858</dc:date>\n    <dc:format>image/svg+xml</dc:format>\n    <dc:creator>\n     <cc:Agent>\n      <dc:title>Matplotlib v3.3.2, https://matplotlib.org/</dc:title>\n     </cc:Agent>\n    </dc:creator>\n   </cc:Work>\n  </rdf:RDF>\n </metadata>\n <defs>\n  <style type=\"text/css\">*{stroke-linecap:butt;stroke-linejoin:round;}</style>\n </defs>\n <g id=\"figure_1\">\n  <g id=\"patch_1\">\n   <path d=\"M 0 204.66 \nL 684 204.66 \nL 684 0 \nL 0 0 \nz\n\" style=\"fill:none;\"/>\n  </g>\n  <g id=\"axes_1\">\n   <g id=\"LineCollection_1\">\n    <path clip-path=\"url(#p6fb5baa6fe)\" d=\"M 67.160557 142.478952 \nL 16.151872 188.811818 \n\" style=\"fill:none;stroke:#000000;\"/>\n    <path clip-path=\"url(#p6fb5baa6fe)\" d=\"M 67.160557 142.478952 \nL 126.864085 87.670349 \n\" style=\"fill:none;stroke:#000000;\"/>\n    <path clip-path=\"url(#p6fb5baa6fe)\" d=\"M 126.864085 87.670349 \nL 124.84576 15.848182 \n\" style=\"fill:none;stroke:#000000;\"/>\n    <path clip-path=\"url(#p6fb5baa6fe)\" d=\"M 126.864085 87.670349 \nL 195.189305 98.667336 \n\" style=\"fill:none;stroke:#000000;\"/>\n   </g>\n   <g id=\"PathCollection_1\">\n    <defs>\n     <path d=\"M 0 8.660254 \nC 2.296726 8.660254 4.499694 7.747755 6.123724 6.123724 \nC 7.747755 4.499694 8.660254 2.296726 8.660254 0 \nC 8.660254 -2.296726 7.747755 -4.499694 6.123724 -6.123724 \nC 4.499694 -7.747755 2.296726 -8.660254 0 -8.660254 \nC -2.296726 -8.660254 -4.499694 -7.747755 -6.123724 -6.123724 \nC -7.747755 -4.499694 -8.660254 -2.296726 -8.660254 0 \nC -8.660254 2.296726 -7.747755 4.499694 -6.123724 6.123724 \nC -4.499694 7.747755 -2.296726 8.660254 0 8.660254 \nz\n\" id=\"m9df9de9f3f\" style=\"stroke:#1f78b4;\"/>\n    </defs>\n    <g clip-path=\"url(#p6fb5baa6fe)\">\n     <use style=\"fill:#1f78b4;stroke:#1f78b4;\" x=\"67.160557\" xlink:href=\"#m9df9de9f3f\" y=\"142.478952\"/>\n     <use style=\"fill:#1f78b4;stroke:#1f78b4;\" x=\"16.151872\" xlink:href=\"#m9df9de9f3f\" y=\"188.811818\"/>\n     <use style=\"fill:#1f78b4;stroke:#1f78b4;\" x=\"126.864085\" xlink:href=\"#m9df9de9f3f\" y=\"87.670349\"/>\n     <use style=\"fill:#1f78b4;stroke:#1f78b4;\" x=\"124.84576\" xlink:href=\"#m9df9de9f3f\" y=\"15.848182\"/>\n     <use style=\"fill:#1f78b4;stroke:#1f78b4;\" x=\"195.189305\" xlink:href=\"#m9df9de9f3f\" y=\"98.667336\"/>\n    </g>\n   </g>\n   <g id=\"text_1\">\n    <g clip-path=\"url(#p6fb5baa6fe)\">\n     <!-- 0 -->\n     <g transform=\"translate(63.343057 145.790202)scale(0.12 -0.12)\">\n      <defs>\n       <path d=\"M 31.78125 66.40625 \nQ 24.171875 66.40625 20.328125 58.90625 \nQ 16.5 51.421875 16.5 36.375 \nQ 16.5 21.390625 20.328125 13.890625 \nQ 24.171875 6.390625 31.78125 6.390625 \nQ 39.453125 6.390625 43.28125 13.890625 \nQ 47.125 21.390625 47.125 36.375 \nQ 47.125 51.421875 43.28125 58.90625 \nQ 39.453125 66.40625 31.78125 66.40625 \nz\nM 31.78125 74.21875 \nQ 44.046875 74.21875 50.515625 64.515625 \nQ 56.984375 54.828125 56.984375 36.375 \nQ 56.984375 17.96875 50.515625 8.265625 \nQ 44.046875 -1.421875 31.78125 -1.421875 \nQ 19.53125 -1.421875 13.0625 8.265625 \nQ 6.59375 17.96875 6.59375 36.375 \nQ 6.59375 54.828125 13.0625 64.515625 \nQ 19.53125 74.21875 31.78125 74.21875 \nz\n\" id=\"DejaVuSans-48\"/>\n      </defs>\n      <use xlink:href=\"#DejaVuSans-48\"/>\n     </g>\n    </g>\n   </g>\n   <g id=\"text_2\">\n    <g clip-path=\"url(#p6fb5baa6fe)\">\n     <!-- 1 -->\n     <g transform=\"translate(12.334372 192.123068)scale(0.12 -0.12)\">\n      <defs>\n       <path d=\"M 12.40625 8.296875 \nL 28.515625 8.296875 \nL 28.515625 63.921875 \nL 10.984375 60.40625 \nL 10.984375 69.390625 \nL 28.421875 72.90625 \nL 38.28125 72.90625 \nL 38.28125 8.296875 \nL 54.390625 8.296875 \nL 54.390625 0 \nL 12.40625 0 \nz\n\" id=\"DejaVuSans-49\"/>\n      </defs>\n      <use xlink:href=\"#DejaVuSans-49\"/>\n     </g>\n    </g>\n   </g>\n   <g id=\"text_3\">\n    <g clip-path=\"url(#p6fb5baa6fe)\">\n     <!-- 2 -->\n     <g transform=\"translate(123.046585 90.981599)scale(0.12 -0.12)\">\n      <defs>\n       <path d=\"M 19.1875 8.296875 \nL 53.609375 8.296875 \nL 53.609375 0 \nL 7.328125 0 \nL 7.328125 8.296875 \nQ 12.9375 14.109375 22.625 23.890625 \nQ 32.328125 33.6875 34.8125 36.53125 \nQ 39.546875 41.84375 41.421875 45.53125 \nQ 43.3125 49.21875 43.3125 52.78125 \nQ 43.3125 58.59375 39.234375 62.25 \nQ 35.15625 65.921875 28.609375 65.921875 \nQ 23.96875 65.921875 18.8125 64.3125 \nQ 13.671875 62.703125 7.8125 59.421875 \nL 7.8125 69.390625 \nQ 13.765625 71.78125 18.9375 73 \nQ 24.125 74.21875 28.421875 74.21875 \nQ 39.75 74.21875 46.484375 68.546875 \nQ 53.21875 62.890625 53.21875 53.421875 \nQ 53.21875 48.921875 51.53125 44.890625 \nQ 49.859375 40.875 45.40625 35.40625 \nQ 44.1875 33.984375 37.640625 27.21875 \nQ 31.109375 20.453125 19.1875 8.296875 \nz\n\" id=\"DejaVuSans-50\"/>\n      </defs>\n      <use xlink:href=\"#DejaVuSans-50\"/>\n     </g>\n    </g>\n   </g>\n   <g id=\"text_4\">\n    <g clip-path=\"url(#p6fb5baa6fe)\">\n     <!-- 3 -->\n     <g transform=\"translate(121.02826 19.159432)scale(0.12 -0.12)\">\n      <defs>\n       <path d=\"M 40.578125 39.3125 \nQ 47.65625 37.796875 51.625 33 \nQ 55.609375 28.21875 55.609375 21.1875 \nQ 55.609375 10.40625 48.1875 4.484375 \nQ 40.765625 -1.421875 27.09375 -1.421875 \nQ 22.515625 -1.421875 17.65625 -0.515625 \nQ 12.796875 0.390625 7.625 2.203125 \nL 7.625 11.71875 \nQ 11.71875 9.328125 16.59375 8.109375 \nQ 21.484375 6.890625 26.8125 6.890625 \nQ 36.078125 6.890625 40.9375 10.546875 \nQ 45.796875 14.203125 45.796875 21.1875 \nQ 45.796875 27.640625 41.28125 31.265625 \nQ 36.765625 34.90625 28.71875 34.90625 \nL 20.21875 34.90625 \nL 20.21875 43.015625 \nL 29.109375 43.015625 \nQ 36.375 43.015625 40.234375 45.921875 \nQ 44.09375 48.828125 44.09375 54.296875 \nQ 44.09375 59.90625 40.109375 62.90625 \nQ 36.140625 65.921875 28.71875 65.921875 \nQ 24.65625 65.921875 20.015625 65.03125 \nQ 15.375 64.15625 9.8125 62.3125 \nL 9.8125 71.09375 \nQ 15.4375 72.65625 20.34375 73.4375 \nQ 25.25 74.21875 29.59375 74.21875 \nQ 40.828125 74.21875 47.359375 69.109375 \nQ 53.90625 64.015625 53.90625 55.328125 \nQ 53.90625 49.265625 50.4375 45.09375 \nQ 46.96875 40.921875 40.578125 39.3125 \nz\n\" id=\"DejaVuSans-51\"/>\n      </defs>\n      <use xlink:href=\"#DejaVuSans-51\"/>\n     </g>\n    </g>\n   </g>\n   <g id=\"text_5\">\n    <g clip-path=\"url(#p6fb5baa6fe)\">\n     <!-- 4 -->\n     <g transform=\"translate(191.371805 101.978586)scale(0.12 -0.12)\">\n      <defs>\n       <path d=\"M 37.796875 64.3125 \nL 12.890625 25.390625 \nL 37.796875 25.390625 \nz\nM 35.203125 72.90625 \nL 47.609375 72.90625 \nL 47.609375 25.390625 \nL 58.015625 25.390625 \nL 58.015625 17.1875 \nL 47.609375 17.1875 \nL 47.609375 0 \nL 37.796875 0 \nL 37.796875 17.1875 \nL 4.890625 17.1875 \nL 4.890625 26.703125 \nz\n\" id=\"DejaVuSans-52\"/>\n      </defs>\n      <use xlink:href=\"#DejaVuSans-52\"/>\n     </g>\n    </g>\n   </g>\n  </g>\n  <g id=\"axes_2\">\n   <g id=\"LineCollection_2\">\n    <path clip-path=\"url(#p534d5bf123)\" d=\"M 351.46878 128.664289 \nL 306.942382 100.694007 \n\" style=\"fill:none;stroke:#000000;\"/>\n    <path clip-path=\"url(#p534d5bf123)\" d=\"M 351.46878 128.664289 \nL 400.834931 129.069635 \n\" style=\"fill:none;stroke:#000000;\"/>\n    <path clip-path=\"url(#p534d5bf123)\" d=\"M 351.46878 128.664289 \nL 342.108711 182.393909 \n\" style=\"fill:none;stroke:#000000;\"/>\n    <path clip-path=\"url(#p534d5bf123)\" d=\"M 306.942382 100.694007 \nL 281.437658 130.133727 \n\" style=\"fill:none;stroke:#000000;\"/>\n    <path clip-path=\"url(#p534d5bf123)\" d=\"M 306.942382 100.694007 \nL 277.076617 51.967667 \n\" style=\"fill:none;stroke:#000000;\"/>\n    <path clip-path=\"url(#p534d5bf123)\" d=\"M 400.834931 129.069635 \nL 431.518717 155.352468 \n\" style=\"fill:none;stroke:#000000;\"/>\n    <path clip-path=\"url(#p534d5bf123)\" d=\"M 400.834931 129.069635 \nL 406.620485 69.765501 \n\" style=\"fill:none;stroke:#000000;\"/>\n    <path clip-path=\"url(#p534d5bf123)\" d=\"M 400.834931 129.069635 \nL 431.031255 100.499608 \n\" style=\"fill:none;stroke:#000000;\"/>\n    <path clip-path=\"url(#p534d5bf123)\" d=\"M 400.834931 129.069635 \nL 408.606987 188.811818 \n\" style=\"fill:none;stroke:#000000;\"/>\n    <path clip-path=\"url(#p534d5bf123)\" d=\"M 277.076617 51.967667 \nL 252.481283 15.848182 \n\" style=\"fill:none;stroke:#000000;\"/>\n   </g>\n   <g id=\"PathCollection_2\">\n    <g clip-path=\"url(#p534d5bf123)\">\n     <use style=\"fill:#1f78b4;stroke:#1f78b4;\" x=\"351.46878\" xlink:href=\"#m9df9de9f3f\" y=\"128.664289\"/>\n     <use style=\"fill:#1f78b4;stroke:#1f78b4;\" x=\"306.942382\" xlink:href=\"#m9df9de9f3f\" y=\"100.694007\"/>\n     <use style=\"fill:#1f78b4;stroke:#1f78b4;\" x=\"400.834931\" xlink:href=\"#m9df9de9f3f\" y=\"129.069635\"/>\n     <use style=\"fill:#1f78b4;stroke:#1f78b4;\" x=\"342.108711\" xlink:href=\"#m9df9de9f3f\" y=\"182.393909\"/>\n     <use style=\"fill:#1f78b4;stroke:#1f78b4;\" x=\"281.437658\" xlink:href=\"#m9df9de9f3f\" y=\"130.133727\"/>\n     <use style=\"fill:#1f78b4;stroke:#1f78b4;\" x=\"277.076617\" xlink:href=\"#m9df9de9f3f\" y=\"51.967667\"/>\n     <use style=\"fill:#1f78b4;stroke:#1f78b4;\" x=\"431.518717\" xlink:href=\"#m9df9de9f3f\" y=\"155.352468\"/>\n     <use style=\"fill:#1f78b4;stroke:#1f78b4;\" x=\"406.620485\" xlink:href=\"#m9df9de9f3f\" y=\"69.765501\"/>\n     <use style=\"fill:#1f78b4;stroke:#1f78b4;\" x=\"431.031255\" xlink:href=\"#m9df9de9f3f\" y=\"100.499608\"/>\n     <use style=\"fill:#1f78b4;stroke:#1f78b4;\" x=\"408.606987\" xlink:href=\"#m9df9de9f3f\" y=\"188.811818\"/>\n     <use style=\"fill:#1f78b4;stroke:#1f78b4;\" x=\"252.481283\" xlink:href=\"#m9df9de9f3f\" y=\"15.848182\"/>\n    </g>\n   </g>\n   <g id=\"text_6\">\n    <g clip-path=\"url(#p534d5bf123)\">\n     <!-- 0 -->\n     <g transform=\"translate(347.65128 131.975539)scale(0.12 -0.12)\">\n      <use xlink:href=\"#DejaVuSans-48\"/>\n     </g>\n    </g>\n   </g>\n   <g id=\"text_7\">\n    <g clip-path=\"url(#p534d5bf123)\">\n     <!-- 1 -->\n     <g transform=\"translate(303.124882 104.005257)scale(0.12 -0.12)\">\n      <use xlink:href=\"#DejaVuSans-49\"/>\n     </g>\n    </g>\n   </g>\n   <g id=\"text_8\">\n    <g clip-path=\"url(#p534d5bf123)\">\n     <!-- 2 -->\n     <g transform=\"translate(397.017431 132.380885)scale(0.12 -0.12)\">\n      <use xlink:href=\"#DejaVuSans-50\"/>\n     </g>\n    </g>\n   </g>\n   <g id=\"text_9\">\n    <g clip-path=\"url(#p534d5bf123)\">\n     <!-- 3 -->\n     <g transform=\"translate(338.291211 185.705159)scale(0.12 -0.12)\">\n      <use xlink:href=\"#DejaVuSans-51\"/>\n     </g>\n    </g>\n   </g>\n   <g id=\"text_10\">\n    <g clip-path=\"url(#p534d5bf123)\">\n     <!-- 4 -->\n     <g transform=\"translate(277.620158 133.444977)scale(0.12 -0.12)\">\n      <use xlink:href=\"#DejaVuSans-52\"/>\n     </g>\n    </g>\n   </g>\n   <g id=\"text_11\">\n    <g clip-path=\"url(#p534d5bf123)\">\n     <!-- 5 -->\n     <g transform=\"translate(273.259117 55.278917)scale(0.12 -0.12)\">\n      <defs>\n       <path d=\"M 10.796875 72.90625 \nL 49.515625 72.90625 \nL 49.515625 64.59375 \nL 19.828125 64.59375 \nL 19.828125 46.734375 \nQ 21.96875 47.46875 24.109375 47.828125 \nQ 26.265625 48.1875 28.421875 48.1875 \nQ 40.625 48.1875 47.75 41.5 \nQ 54.890625 34.8125 54.890625 23.390625 \nQ 54.890625 11.625 47.5625 5.09375 \nQ 40.234375 -1.421875 26.90625 -1.421875 \nQ 22.3125 -1.421875 17.546875 -0.640625 \nQ 12.796875 0.140625 7.71875 1.703125 \nL 7.71875 11.625 \nQ 12.109375 9.234375 16.796875 8.0625 \nQ 21.484375 6.890625 26.703125 6.890625 \nQ 35.15625 6.890625 40.078125 11.328125 \nQ 45.015625 15.765625 45.015625 23.390625 \nQ 45.015625 31 40.078125 35.4375 \nQ 35.15625 39.890625 26.703125 39.890625 \nQ 22.75 39.890625 18.8125 39.015625 \nQ 14.890625 38.140625 10.796875 36.28125 \nz\n\" id=\"DejaVuSans-53\"/>\n      </defs>\n      <use xlink:href=\"#DejaVuSans-53\"/>\n     </g>\n    </g>\n   </g>\n   <g id=\"text_12\">\n    <g clip-path=\"url(#p534d5bf123)\">\n     <!-- 6 -->\n     <g transform=\"translate(427.701217 158.663718)scale(0.12 -0.12)\">\n      <defs>\n       <path d=\"M 33.015625 40.375 \nQ 26.375 40.375 22.484375 35.828125 \nQ 18.609375 31.296875 18.609375 23.390625 \nQ 18.609375 15.53125 22.484375 10.953125 \nQ 26.375 6.390625 33.015625 6.390625 \nQ 39.65625 6.390625 43.53125 10.953125 \nQ 47.40625 15.53125 47.40625 23.390625 \nQ 47.40625 31.296875 43.53125 35.828125 \nQ 39.65625 40.375 33.015625 40.375 \nz\nM 52.59375 71.296875 \nL 52.59375 62.3125 \nQ 48.875 64.0625 45.09375 64.984375 \nQ 41.3125 65.921875 37.59375 65.921875 \nQ 27.828125 65.921875 22.671875 59.328125 \nQ 17.53125 52.734375 16.796875 39.40625 \nQ 19.671875 43.65625 24.015625 45.921875 \nQ 28.375 48.1875 33.59375 48.1875 \nQ 44.578125 48.1875 50.953125 41.515625 \nQ 57.328125 34.859375 57.328125 23.390625 \nQ 57.328125 12.15625 50.6875 5.359375 \nQ 44.046875 -1.421875 33.015625 -1.421875 \nQ 20.359375 -1.421875 13.671875 8.265625 \nQ 6.984375 17.96875 6.984375 36.375 \nQ 6.984375 53.65625 15.1875 63.9375 \nQ 23.390625 74.21875 37.203125 74.21875 \nQ 40.921875 74.21875 44.703125 73.484375 \nQ 48.484375 72.75 52.59375 71.296875 \nz\n\" id=\"DejaVuSans-54\"/>\n      </defs>\n      <use xlink:href=\"#DejaVuSans-54\"/>\n     </g>\n    </g>\n   </g>\n   <g id=\"text_13\">\n    <g clip-path=\"url(#p534d5bf123)\">\n     <!-- 7 -->\n     <g transform=\"translate(402.802985 73.076751)scale(0.12 -0.12)\">\n      <defs>\n       <path d=\"M 8.203125 72.90625 \nL 55.078125 72.90625 \nL 55.078125 68.703125 \nL 28.609375 0 \nL 18.3125 0 \nL 43.21875 64.59375 \nL 8.203125 64.59375 \nz\n\" id=\"DejaVuSans-55\"/>\n      </defs>\n      <use xlink:href=\"#DejaVuSans-55\"/>\n     </g>\n    </g>\n   </g>\n   <g id=\"text_14\">\n    <g clip-path=\"url(#p534d5bf123)\">\n     <!-- 8 -->\n     <g transform=\"translate(427.213755 103.810858)scale(0.12 -0.12)\">\n      <defs>\n       <path d=\"M 31.78125 34.625 \nQ 24.75 34.625 20.71875 30.859375 \nQ 16.703125 27.09375 16.703125 20.515625 \nQ 16.703125 13.921875 20.71875 10.15625 \nQ 24.75 6.390625 31.78125 6.390625 \nQ 38.8125 6.390625 42.859375 10.171875 \nQ 46.921875 13.96875 46.921875 20.515625 \nQ 46.921875 27.09375 42.890625 30.859375 \nQ 38.875 34.625 31.78125 34.625 \nz\nM 21.921875 38.8125 \nQ 15.578125 40.375 12.03125 44.71875 \nQ 8.5 49.078125 8.5 55.328125 \nQ 8.5 64.0625 14.71875 69.140625 \nQ 20.953125 74.21875 31.78125 74.21875 \nQ 42.671875 74.21875 48.875 69.140625 \nQ 55.078125 64.0625 55.078125 55.328125 \nQ 55.078125 49.078125 51.53125 44.71875 \nQ 48 40.375 41.703125 38.8125 \nQ 48.828125 37.15625 52.796875 32.3125 \nQ 56.78125 27.484375 56.78125 20.515625 \nQ 56.78125 9.90625 50.3125 4.234375 \nQ 43.84375 -1.421875 31.78125 -1.421875 \nQ 19.734375 -1.421875 13.25 4.234375 \nQ 6.78125 9.90625 6.78125 20.515625 \nQ 6.78125 27.484375 10.78125 32.3125 \nQ 14.796875 37.15625 21.921875 38.8125 \nz\nM 18.3125 54.390625 \nQ 18.3125 48.734375 21.84375 45.5625 \nQ 25.390625 42.390625 31.78125 42.390625 \nQ 38.140625 42.390625 41.71875 45.5625 \nQ 45.3125 48.734375 45.3125 54.390625 \nQ 45.3125 60.0625 41.71875 63.234375 \nQ 38.140625 66.40625 31.78125 66.40625 \nQ 25.390625 66.40625 21.84375 63.234375 \nQ 18.3125 60.0625 18.3125 54.390625 \nz\n\" id=\"DejaVuSans-56\"/>\n      </defs>\n      <use xlink:href=\"#DejaVuSans-56\"/>\n     </g>\n    </g>\n   </g>\n   <g id=\"text_15\">\n    <g clip-path=\"url(#p534d5bf123)\">\n     <!-- 9 -->\n     <g transform=\"translate(404.789487 192.123068)scale(0.12 -0.12)\">\n      <defs>\n       <path d=\"M 10.984375 1.515625 \nL 10.984375 10.5 \nQ 14.703125 8.734375 18.5 7.8125 \nQ 22.3125 6.890625 25.984375 6.890625 \nQ 35.75 6.890625 40.890625 13.453125 \nQ 46.046875 20.015625 46.78125 33.40625 \nQ 43.953125 29.203125 39.59375 26.953125 \nQ 35.25 24.703125 29.984375 24.703125 \nQ 19.046875 24.703125 12.671875 31.3125 \nQ 6.296875 37.9375 6.296875 49.421875 \nQ 6.296875 60.640625 12.9375 67.421875 \nQ 19.578125 74.21875 30.609375 74.21875 \nQ 43.265625 74.21875 49.921875 64.515625 \nQ 56.59375 54.828125 56.59375 36.375 \nQ 56.59375 19.140625 48.40625 8.859375 \nQ 40.234375 -1.421875 26.421875 -1.421875 \nQ 22.703125 -1.421875 18.890625 -0.6875 \nQ 15.09375 0.046875 10.984375 1.515625 \nz\nM 30.609375 32.421875 \nQ 37.25 32.421875 41.125 36.953125 \nQ 45.015625 41.5 45.015625 49.421875 \nQ 45.015625 57.28125 41.125 61.84375 \nQ 37.25 66.40625 30.609375 66.40625 \nQ 23.96875 66.40625 20.09375 61.84375 \nQ 16.21875 57.28125 16.21875 49.421875 \nQ 16.21875 41.5 20.09375 36.953125 \nQ 23.96875 32.421875 30.609375 32.421875 \nz\n\" id=\"DejaVuSans-57\"/>\n      </defs>\n      <use xlink:href=\"#DejaVuSans-57\"/>\n     </g>\n    </g>\n   </g>\n   <g id=\"text_16\">\n    <g clip-path=\"url(#p534d5bf123)\">\n     <!-- 10 -->\n     <g transform=\"translate(244.846283 19.159432)scale(0.12 -0.12)\">\n      <use xlink:href=\"#DejaVuSans-49\"/>\n      <use x=\"63.623047\" xlink:href=\"#DejaVuSans-48\"/>\n     </g>\n    </g>\n   </g>\n  </g>\n  <g id=\"axes_3\">\n   <g id=\"LineCollection_3\">\n    <path clip-path=\"url(#p5acd88b26b)\" d=\"M 589.503394 87.479965 \nL 637.941307 86.65568 \n\" style=\"fill:none;stroke:#000000;\"/>\n    <path clip-path=\"url(#p5acd88b26b)\" d=\"M 589.503394 87.479965 \nL 555.498936 122.179938 \n\" style=\"fill:none;stroke:#000000;\"/>\n    <path clip-path=\"url(#p5acd88b26b)\" d=\"M 589.503394 87.479965 \nL 575.20615 47.937304 \n\" style=\"fill:none;stroke:#000000;\"/>\n    <path clip-path=\"url(#p5acd88b26b)\" d=\"M 637.941307 86.65568 \nL 667.592594 67.529352 \n\" style=\"fill:none;stroke:#000000;\"/>\n    <path clip-path=\"url(#p5acd88b26b)\" d=\"M 637.941307 86.65568 \nL 667.848128 105.190519 \n\" style=\"fill:none;stroke:#000000;\"/>\n    <path clip-path=\"url(#p5acd88b26b)\" d=\"M 555.498936 122.179938 \nL 523.162008 155.480408 \n\" style=\"fill:none;stroke:#000000;\"/>\n    <path clip-path=\"url(#p5acd88b26b)\" d=\"M 575.20615 47.937304 \nL 564.069349 15.848182 \n\" style=\"fill:none;stroke:#000000;\"/>\n    <path clip-path=\"url(#p5acd88b26b)\" d=\"M 523.162008 155.480408 \nL 488.810695 162.946601 \n\" style=\"fill:none;stroke:#000000;\"/>\n    <path clip-path=\"url(#p5acd88b26b)\" d=\"M 523.162008 155.480408 \nL 518.245812 188.811818 \n\" style=\"fill:none;stroke:#000000;\"/>\n   </g>\n   <g id=\"PathCollection_3\">\n    <g clip-path=\"url(#p5acd88b26b)\">\n     <use style=\"fill:#1f78b4;stroke:#1f78b4;\" x=\"589.503394\" xlink:href=\"#m9df9de9f3f\" y=\"87.479965\"/>\n     <use style=\"fill:#1f78b4;stroke:#1f78b4;\" x=\"637.941307\" xlink:href=\"#m9df9de9f3f\" y=\"86.65568\"/>\n     <use style=\"fill:#1f78b4;stroke:#1f78b4;\" x=\"555.498936\" xlink:href=\"#m9df9de9f3f\" y=\"122.179938\"/>\n     <use style=\"fill:#1f78b4;stroke:#1f78b4;\" x=\"575.20615\" xlink:href=\"#m9df9de9f3f\" y=\"47.937304\"/>\n     <use style=\"fill:#1f78b4;stroke:#1f78b4;\" x=\"667.592594\" xlink:href=\"#m9df9de9f3f\" y=\"67.529352\"/>\n     <use style=\"fill:#1f78b4;stroke:#1f78b4;\" x=\"667.848128\" xlink:href=\"#m9df9de9f3f\" y=\"105.190519\"/>\n     <use style=\"fill:#1f78b4;stroke:#1f78b4;\" x=\"523.162008\" xlink:href=\"#m9df9de9f3f\" y=\"155.480408\"/>\n     <use style=\"fill:#1f78b4;stroke:#1f78b4;\" x=\"488.810695\" xlink:href=\"#m9df9de9f3f\" y=\"162.946601\"/>\n     <use style=\"fill:#1f78b4;stroke:#1f78b4;\" x=\"518.245812\" xlink:href=\"#m9df9de9f3f\" y=\"188.811818\"/>\n     <use style=\"fill:#1f78b4;stroke:#1f78b4;\" x=\"564.069349\" xlink:href=\"#m9df9de9f3f\" y=\"15.848182\"/>\n    </g>\n   </g>\n   <g id=\"text_17\">\n    <g clip-path=\"url(#p5acd88b26b)\">\n     <!-- 0 -->\n     <g transform=\"translate(585.685894 90.791215)scale(0.12 -0.12)\">\n      <use xlink:href=\"#DejaVuSans-48\"/>\n     </g>\n    </g>\n   </g>\n   <g id=\"text_18\">\n    <g clip-path=\"url(#p5acd88b26b)\">\n     <!-- 3 -->\n     <g transform=\"translate(634.123807 89.96693)scale(0.12 -0.12)\">\n      <use xlink:href=\"#DejaVuSans-51\"/>\n     </g>\n    </g>\n   </g>\n   <g id=\"text_19\">\n    <g clip-path=\"url(#p5acd88b26b)\">\n     <!-- 7 -->\n     <g transform=\"translate(551.681436 125.491188)scale(0.12 -0.12)\">\n      <use xlink:href=\"#DejaVuSans-55\"/>\n     </g>\n    </g>\n   </g>\n   <g id=\"text_20\">\n    <g clip-path=\"url(#p5acd88b26b)\">\n     <!-- 9 -->\n     <g transform=\"translate(571.38865 51.248554)scale(0.12 -0.12)\">\n      <use xlink:href=\"#DejaVuSans-57\"/>\n     </g>\n    </g>\n   </g>\n   <g id=\"text_21\">\n    <g clip-path=\"url(#p5acd88b26b)\">\n     <!-- 6 -->\n     <g transform=\"translate(663.775094 70.840602)scale(0.12 -0.12)\">\n      <use xlink:href=\"#DejaVuSans-54\"/>\n     </g>\n    </g>\n   </g>\n   <g id=\"text_22\">\n    <g clip-path=\"url(#p5acd88b26b)\">\n     <!-- 2 -->\n     <g transform=\"translate(664.030628 108.501769)scale(0.12 -0.12)\">\n      <use xlink:href=\"#DejaVuSans-50\"/>\n     </g>\n    </g>\n   </g>\n   <g id=\"text_23\">\n    <g clip-path=\"url(#p5acd88b26b)\">\n     <!-- 4 -->\n     <g transform=\"translate(519.344508 158.791658)scale(0.12 -0.12)\">\n      <use xlink:href=\"#DejaVuSans-52\"/>\n     </g>\n    </g>\n   </g>\n   <g id=\"text_24\">\n    <g clip-path=\"url(#p5acd88b26b)\">\n     <!-- 5 -->\n     <g transform=\"translate(484.993195 166.257851)scale(0.12 -0.12)\">\n      <use xlink:href=\"#DejaVuSans-53\"/>\n     </g>\n    </g>\n   </g>\n   <g id=\"text_25\">\n    <g clip-path=\"url(#p5acd88b26b)\">\n     <!-- 1 -->\n     <g transform=\"translate(514.428312 192.123068)scale(0.12 -0.12)\">\n      <use xlink:href=\"#DejaVuSans-49\"/>\n     </g>\n    </g>\n   </g>\n   <g id=\"text_26\">\n    <g clip-path=\"url(#p5acd88b26b)\">\n     <!-- 8 -->\n     <g transform=\"translate(560.251849 19.159432)scale(0.12 -0.12)\">\n      <use xlink:href=\"#DejaVuSans-56\"/>\n     </g>\n    </g>\n   </g>\n  </g>\n </g>\n <defs>\n  <clipPath id=\"p6fb5baa6fe\">\n   <rect height=\"190.26\" width=\"196.941176\" x=\"7.2\" y=\"7.2\"/>\n  </clipPath>\n  <clipPath id=\"p534d5bf123\">\n   <rect height=\"190.26\" width=\"196.941176\" x=\"243.529412\" y=\"7.2\"/>\n  </clipPath>\n  <clipPath id=\"p5acd88b26b\">\n   <rect height=\"190.26\" width=\"196.941176\" x=\"479.858824\" y=\"7.2\"/>\n  </clipPath>\n </defs>\n</svg>\n",
      "image/png": "[encoded data removed]"
     },
     "metadata": {}
    }
   ],
   "source": [
    "import networkx as nx, matplotlib.pyplot as plt\n",
    "%matplotlib inline\n",
    "#隣接リストをnx形式に変換（枝を加える）→描画\n",
    "def drawAdjlistUsingNx(nx_tree, list_adjlist, dic_pos, axval):\n",
    "    for node1 in range(0, len(list_adjlist)):\n",
    "        for node2 in list_adjlist[node1]:\n",
    "            nx_tree.add_edge(node1, node2)\n",
    "    axval.set_axis_off()\n",
    "    nx.draw_networkx(nx_tree, pos=dic_pos, ax=axval)\n",
    "#3つの木を描画\n",
    "fig, npar_axval = plt.subplots(1, 3, figsize=(12, 3.5))\n",
    "#1\n",
    "list_adjlist_test1=[[1, 2], [], [3, 4], [], []]; nx_tree1 = nx.Graph()\n",
    "drawAdjlistUsingNx(nx_tree1, list_adjlist_test1, None, npar_axval[0])\n",
    "#2\n",
    "list_adjlist_test2=[[1, 2, 3], [4, 5], [6, 7, 8, 9], [], [], [10], [], [], [], [], []];nx_tree2 = nx.Graph()\n",
    "drawAdjlistUsingNx(nx_tree2, list_adjlist_test2, None, npar_axval[1])\n",
    "#3\n",
    "list_adjlist_test3=[[3, 7, 9], [], [], [6, 2], [5, 1], [], [], [4], [], [8]];nx_tree3 = nx.Graph()\n",
    "drawAdjlistUsingNx(nx_tree3, list_adjlist_test3, None, npar_axval[2])"
   ]
  },
  {
   "cell_type": "markdown",
   "metadata": {},
   "source": [
    "`networkx` でも訪問順を取得可能です。以下のセルも `True` が出ることを確認して下さい。"
   ]
  },
  {
   "cell_type": "code",
   "execution_count": 17,
   "metadata": {},
   "outputs": [
    {
     "output_type": "stream",
     "name": "stdout",
     "text": [
      "True\n"
     ]
    }
   ],
   "source": [
    "import random, networkx as nx\n",
    "#ランダムに木を作成する\n",
    "class FIFOClass:\n",
    "    def __init__(self):\n",
    "        self.list_data = []\n",
    "    def enqueue(self, item1):\n",
    "        self.list_data.append(item1)\n",
    "    def dequeue(self):\n",
    "        return self.list_data.pop(0)\n",
    "def constructRandomTree(nodenum, maxchildnum):\n",
    "    random.seed(a=0)\n",
    "    #隣接リスト\n",
    "    list_tree_adjlist = [0] * nodenum\n",
    "    #FIFOを使う\n",
    "    FIFO = FIFOClass()\n",
    "    #根は0\n",
    "    nodecnt = 0\n",
    "    FIFO.enqueue(nodecnt)\n",
    "    nodecnt += 1\n",
    "    while(len(FIFO.list_data) > 0):\n",
    "        #新しく子供を作成する点\n",
    "        node1 = FIFO.dequeue()\n",
    "        #点node1の子供数を決定\n",
    "        childnum = random.randint(0, maxchildnum)\n",
    "        #キューに何も入ってない場合、必ず子供は1つ以上\n",
    "        if len(FIFO.list_data) == 0 and childnum == 0:\n",
    "            childnum = random.randint(1, maxchildnum)\n",
    "        list_tree_adjlist[node1] = []\n",
    "        for adjnode in range(childnum):\n",
    "            list_tree_adjlist[node1].append(nodecnt)\n",
    "            FIFO.enqueue(nodecnt)\n",
    "            nodecnt += 1\n",
    "            #点の数が指定数に到達したら終了\n",
    "            if nodecnt == nodenum:\n",
    "                break\n",
    "        #点の数が指定数に到達したら終了\n",
    "        if nodecnt == nodenum:\n",
    "            #子供がない点のリストを空にしておく\n",
    "            node1 += 1\n",
    "            while(node1 < nodenum):\n",
    "                list_tree_adjlist[node1] = []\n",
    "                node1 += 1\n",
    "            break\n",
    "    \n",
    "    return list_tree_adjlist\n",
    "def getNXGraph(nx_g1, list_adjlist):\n",
    "    for node1, list_adj in enumerate(list_adjlist):\n",
    "        for node2 in list_adj:\n",
    "            nx_g1.add_edge(node1, node2)\n",
    "nx_tree4 = nx.DiGraph()\n",
    "nodenum_test4 = 10000\n",
    "maxchildnum_test4 = 5\n",
    "list_adjlist_test4 = constructRandomTree(nodenum_test4, maxchildnum_test4)\n",
    "getNXGraph(nx_tree4, list_adjlist_test4)\n",
    "initnode_test4 = 0\n",
    "list_node_nx4 = list(nx.dfs_preorder_nodes(nx_tree4, source=initnode_test4))\n",
    "#隣接リストを逆順にする\n",
    "for list_adj in list_adjlist_test4:\n",
    "    list_adj.reverse()\n",
    "list_node4 = DFSInPreorder(list_adjlist_test4)\n",
    "print(list_node_nx4 == list_node4)"
   ]
  },
  {
   "cell_type": "markdown",
   "metadata": {},
   "source": [
    "上のセルで解答を作成した後、以下のセルを実行し、実行結果が `True` になることを確認して下さい。"
   ]
  },
  {
   "cell_type": "code",
   "execution_count": 18,
   "metadata": {},
   "outputs": [
    {
     "output_type": "stream",
     "name": "stdout",
     "text": [
      "True\nTrue\nTrue\n"
     ]
    }
   ],
   "source": [
    "list_adjlist_test1=[[1, 2], [], [3, 4], [], []]\n",
    "list_res1 = DFSInPreorder(list_adjlist_test1)\n",
    "print(list_res1==[0, 2, 4, 3, 1])\n",
    "list_adjlist_test2=[[1, 2, 3], [4, 5], [6, 7, 8, 9], [], [], [10], [], [], [], [], []]\n",
    "list_res2 = DFSInPreorder(list_adjlist_test2)\n",
    "print(list_res2==[0, 3, 2, 9, 8, 7, 6, 1, 5, 10, 4])\n",
    "list_adjlist_test3=[[3, 7, 9], [], [], [6, 2], [5, 1], [], [], [4], [], [8]]\n",
    "list_res3 = DFSInPreorder(list_adjlist_test3)\n",
    "print(list_res3==[0, 9, 8, 7, 4, 1, 5, 3, 2, 6])"
   ]
  },
  {
   "cell_type": "markdown",
   "metadata": {},
   "source": [
    "なお、テストで用いている木は以下の様な形になっています。"
   ]
  },
  {
   "cell_type": "code",
   "execution_count": 19,
   "metadata": {
    "scrolled": true
   },
   "outputs": [
    {
     "output_type": "display_data",
     "data": {
      "text/plain": "<Figure size 864x252 with 3 Axes>",
      "image/svg+xml": "<?xml version=\"1.0\" encoding=\"utf-8\" standalone=\"no\"?>\n<!DOCTYPE svg PUBLIC \"-//W3C//DTD SVG 1.1//EN\"\n  \"http://www.w3.org/Graphics/SVG/1.1/DTD/svg11.dtd\">\n<!-- Created with matplotlib (https://matplotlib.org/) -->\n<svg height=\"204.66pt\" version=\"1.1\" viewBox=\"0 0 684 204.66\" width=\"684pt\" xmlns=\"http://www.w3.org/2000/svg\" xmlns:xlink=\"http://www.w3.org/1999/xlink\">\n <metadata>\n  <rdf:RDF xmlns:cc=\"http://creativecommons.org/ns#\" xmlns:dc=\"http://purl.org/dc/elements/1.1/\" xmlns:rdf=\"http://www.w3.org/1999/02/22-rdf-syntax-ns#\">\n   <cc:Work>\n    <dc:type rdf:resource=\"http://purl.org/dc/dcmitype/StillImage\"/>\n    <dc:date>2021-07-11T01:12:40.751643</dc:date>\n    <dc:format>image/svg+xml</dc:format>\n    <dc:creator>\n     <cc:Agent>\n      <dc:title>Matplotlib v3.3.2, https://matplotlib.org/</dc:title>\n     </cc:Agent>\n    </dc:creator>\n   </cc:Work>\n  </rdf:RDF>\n </metadata>\n <defs>\n  <style type=\"text/css\">*{stroke-linecap:butt;stroke-linejoin:round;}</style>\n </defs>\n <g id=\"figure_1\">\n  <g id=\"patch_1\">\n   <path d=\"M 0 204.66 \nL 684 204.66 \nL 684 0 \nL 0 0 \nz\n\" style=\"fill:none;\"/>\n  </g>\n  <g id=\"axes_1\">\n   <g id=\"LineCollection_1\">\n    <path clip-path=\"url(#p48e52274db)\" d=\"M 139.577522 149.002558 \nL 195.189305 188.811818 \n\" style=\"fill:none;stroke:#000000;\"/>\n    <path clip-path=\"url(#p48e52274db)\" d=\"M 139.577522 149.002558 \nL 74.50824 103.215146 \n\" style=\"fill:none;stroke:#000000;\"/>\n    <path clip-path=\"url(#p48e52274db)\" d=\"M 74.50824 103.215146 \nL 16.151872 137.623413 \n\" style=\"fill:none;stroke:#000000;\"/>\n    <path clip-path=\"url(#p48e52274db)\" d=\"M 74.50824 103.215146 \nL 58.792662 15.848182 \n\" style=\"fill:none;stroke:#000000;\"/>\n   </g>\n   <g id=\"PathCollection_1\">\n    <defs>\n     <path d=\"M 0 8.660254 \nC 2.296726 8.660254 4.499694 7.747755 6.123724 6.123724 \nC 7.747755 4.499694 8.660254 2.296726 8.660254 0 \nC 8.660254 -2.296726 7.747755 -4.499694 6.123724 -6.123724 \nC 4.499694 -7.747755 2.296726 -8.660254 0 -8.660254 \nC -2.296726 -8.660254 -4.499694 -7.747755 -6.123724 -6.123724 \nC -7.747755 -4.499694 -8.660254 -2.296726 -8.660254 0 \nC -8.660254 2.296726 -7.747755 4.499694 -6.123724 6.123724 \nC -4.499694 7.747755 -2.296726 8.660254 0 8.660254 \nz\n\" id=\"mb18f2dc17b\" style=\"stroke:#1f78b4;\"/>\n    </defs>\n    <g clip-path=\"url(#p48e52274db)\">\n     <use style=\"fill:#1f78b4;stroke:#1f78b4;\" x=\"139.577522\" xlink:href=\"#mb18f2dc17b\" y=\"149.002558\"/>\n     <use style=\"fill:#1f78b4;stroke:#1f78b4;\" x=\"195.189305\" xlink:href=\"#mb18f2dc17b\" y=\"188.811818\"/>\n     <use style=\"fill:#1f78b4;stroke:#1f78b4;\" x=\"74.50824\" xlink:href=\"#mb18f2dc17b\" y=\"103.215146\"/>\n     <use style=\"fill:#1f78b4;stroke:#1f78b4;\" x=\"16.151872\" xlink:href=\"#mb18f2dc17b\" y=\"137.623413\"/>\n     <use style=\"fill:#1f78b4;stroke:#1f78b4;\" x=\"58.792662\" xlink:href=\"#mb18f2dc17b\" y=\"15.848182\"/>\n    </g>\n   </g>\n   <g id=\"text_1\">\n    <g clip-path=\"url(#p48e52274db)\">\n     <!-- 0 -->\n     <g transform=\"translate(135.760022 152.313808)scale(0.12 -0.12)\">\n      <defs>\n       <path d=\"M 31.78125 66.40625 \nQ 24.171875 66.40625 20.328125 58.90625 \nQ 16.5 51.421875 16.5 36.375 \nQ 16.5 21.390625 20.328125 13.890625 \nQ 24.171875 6.390625 31.78125 6.390625 \nQ 39.453125 6.390625 43.28125 13.890625 \nQ 47.125 21.390625 47.125 36.375 \nQ 47.125 51.421875 43.28125 58.90625 \nQ 39.453125 66.40625 31.78125 66.40625 \nz\nM 31.78125 74.21875 \nQ 44.046875 74.21875 50.515625 64.515625 \nQ 56.984375 54.828125 56.984375 36.375 \nQ 56.984375 17.96875 50.515625 8.265625 \nQ 44.046875 -1.421875 31.78125 -1.421875 \nQ 19.53125 -1.421875 13.0625 8.265625 \nQ 6.59375 17.96875 6.59375 36.375 \nQ 6.59375 54.828125 13.0625 64.515625 \nQ 19.53125 74.21875 31.78125 74.21875 \nz\n\" id=\"DejaVuSans-48\"/>\n      </defs>\n      <use xlink:href=\"#DejaVuSans-48\"/>\n     </g>\n    </g>\n   </g>\n   <g id=\"text_2\">\n    <g clip-path=\"url(#p48e52274db)\">\n     <!-- 1 -->\n     <g transform=\"translate(191.371805 192.123068)scale(0.12 -0.12)\">\n      <defs>\n       <path d=\"M 12.40625 8.296875 \nL 28.515625 8.296875 \nL 28.515625 63.921875 \nL 10.984375 60.40625 \nL 10.984375 69.390625 \nL 28.421875 72.90625 \nL 38.28125 72.90625 \nL 38.28125 8.296875 \nL 54.390625 8.296875 \nL 54.390625 0 \nL 12.40625 0 \nz\n\" id=\"DejaVuSans-49\"/>\n      </defs>\n      <use xlink:href=\"#DejaVuSans-49\"/>\n     </g>\n    </g>\n   </g>\n   <g id=\"text_3\">\n    <g clip-path=\"url(#p48e52274db)\">\n     <!-- 2 -->\n     <g transform=\"translate(70.69074 106.526396)scale(0.12 -0.12)\">\n      <defs>\n       <path d=\"M 19.1875 8.296875 \nL 53.609375 8.296875 \nL 53.609375 0 \nL 7.328125 0 \nL 7.328125 8.296875 \nQ 12.9375 14.109375 22.625 23.890625 \nQ 32.328125 33.6875 34.8125 36.53125 \nQ 39.546875 41.84375 41.421875 45.53125 \nQ 43.3125 49.21875 43.3125 52.78125 \nQ 43.3125 58.59375 39.234375 62.25 \nQ 35.15625 65.921875 28.609375 65.921875 \nQ 23.96875 65.921875 18.8125 64.3125 \nQ 13.671875 62.703125 7.8125 59.421875 \nL 7.8125 69.390625 \nQ 13.765625 71.78125 18.9375 73 \nQ 24.125 74.21875 28.421875 74.21875 \nQ 39.75 74.21875 46.484375 68.546875 \nQ 53.21875 62.890625 53.21875 53.421875 \nQ 53.21875 48.921875 51.53125 44.890625 \nQ 49.859375 40.875 45.40625 35.40625 \nQ 44.1875 33.984375 37.640625 27.21875 \nQ 31.109375 20.453125 19.1875 8.296875 \nz\n\" id=\"DejaVuSans-50\"/>\n      </defs>\n      <use xlink:href=\"#DejaVuSans-50\"/>\n     </g>\n    </g>\n   </g>\n   <g id=\"text_4\">\n    <g clip-path=\"url(#p48e52274db)\">\n     <!-- 3 -->\n     <g transform=\"translate(12.334372 140.934663)scale(0.12 -0.12)\">\n      <defs>\n       <path d=\"M 40.578125 39.3125 \nQ 47.65625 37.796875 51.625 33 \nQ 55.609375 28.21875 55.609375 21.1875 \nQ 55.609375 10.40625 48.1875 4.484375 \nQ 40.765625 -1.421875 27.09375 -1.421875 \nQ 22.515625 -1.421875 17.65625 -0.515625 \nQ 12.796875 0.390625 7.625 2.203125 \nL 7.625 11.71875 \nQ 11.71875 9.328125 16.59375 8.109375 \nQ 21.484375 6.890625 26.8125 6.890625 \nQ 36.078125 6.890625 40.9375 10.546875 \nQ 45.796875 14.203125 45.796875 21.1875 \nQ 45.796875 27.640625 41.28125 31.265625 \nQ 36.765625 34.90625 28.71875 34.90625 \nL 20.21875 34.90625 \nL 20.21875 43.015625 \nL 29.109375 43.015625 \nQ 36.375 43.015625 40.234375 45.921875 \nQ 44.09375 48.828125 44.09375 54.296875 \nQ 44.09375 59.90625 40.109375 62.90625 \nQ 36.140625 65.921875 28.71875 65.921875 \nQ 24.65625 65.921875 20.015625 65.03125 \nQ 15.375 64.15625 9.8125 62.3125 \nL 9.8125 71.09375 \nQ 15.4375 72.65625 20.34375 73.4375 \nQ 25.25 74.21875 29.59375 74.21875 \nQ 40.828125 74.21875 47.359375 69.109375 \nQ 53.90625 64.015625 53.90625 55.328125 \nQ 53.90625 49.265625 50.4375 45.09375 \nQ 46.96875 40.921875 40.578125 39.3125 \nz\n\" id=\"DejaVuSans-51\"/>\n      </defs>\n      <use xlink:href=\"#DejaVuSans-51\"/>\n     </g>\n    </g>\n   </g>\n   <g id=\"text_5\">\n    <g clip-path=\"url(#p48e52274db)\">\n     <!-- 4 -->\n     <g transform=\"translate(54.975162 19.159432)scale(0.12 -0.12)\">\n      <defs>\n       <path d=\"M 37.796875 64.3125 \nL 12.890625 25.390625 \nL 37.796875 25.390625 \nz\nM 35.203125 72.90625 \nL 47.609375 72.90625 \nL 47.609375 25.390625 \nL 58.015625 25.390625 \nL 58.015625 17.1875 \nL 47.609375 17.1875 \nL 47.609375 0 \nL 37.796875 0 \nL 37.796875 17.1875 \nL 4.890625 17.1875 \nL 4.890625 26.703125 \nz\n\" id=\"DejaVuSans-52\"/>\n      </defs>\n      <use xlink:href=\"#DejaVuSans-52\"/>\n     </g>\n    </g>\n   </g>\n  </g>\n  <g id=\"axes_2\">\n   <g id=\"LineCollection_2\">\n    <path clip-path=\"url(#p864506f0a0)\" d=\"M 363.887847 113.173175 \nL 341.292305 70.770307 \n\" style=\"fill:none;stroke:#000000;\"/>\n    <path clip-path=\"url(#p864506f0a0)\" d=\"M 363.887847 113.173175 \nL 351.739007 158.966702 \n\" style=\"fill:none;stroke:#000000;\"/>\n    <path clip-path=\"url(#p864506f0a0)\" d=\"M 363.887847 113.173175 \nL 431.518717 107.298634 \n\" style=\"fill:none;stroke:#000000;\"/>\n    <path clip-path=\"url(#p864506f0a0)\" d=\"M 341.292305 70.770307 \nL 384.512258 48.671555 \n\" style=\"fill:none;stroke:#000000;\"/>\n    <path clip-path=\"url(#p864506f0a0)\" d=\"M 341.292305 70.770307 \nL 290.139197 40.323935 \n\" style=\"fill:none;stroke:#000000;\"/>\n    <path clip-path=\"url(#p864506f0a0)\" d=\"M 351.739007 158.966702 \nL 422.123726 168.907187 \n\" style=\"fill:none;stroke:#000000;\"/>\n    <path clip-path=\"url(#p864506f0a0)\" d=\"M 351.739007 158.966702 \nL 309.739544 185.510449 \n\" style=\"fill:none;stroke:#000000;\"/>\n    <path clip-path=\"url(#p864506f0a0)\" d=\"M 351.739007 158.966702 \nL 278.662373 161.417683 \n\" style=\"fill:none;stroke:#000000;\"/>\n    <path clip-path=\"url(#p864506f0a0)\" d=\"M 351.739007 158.966702 \nL 376.056523 188.811818 \n\" style=\"fill:none;stroke:#000000;\"/>\n    <path clip-path=\"url(#p864506f0a0)\" d=\"M 290.139197 40.323935 \nL 252.481283 15.848182 \n\" style=\"fill:none;stroke:#000000;\"/>\n   </g>\n   <g id=\"PathCollection_2\">\n    <g clip-path=\"url(#p864506f0a0)\">\n     <use style=\"fill:#1f78b4;stroke:#1f78b4;\" x=\"363.887847\" xlink:href=\"#mb18f2dc17b\" y=\"113.173175\"/>\n     <use style=\"fill:#1f78b4;stroke:#1f78b4;\" x=\"341.292305\" xlink:href=\"#mb18f2dc17b\" y=\"70.770307\"/>\n     <use style=\"fill:#1f78b4;stroke:#1f78b4;\" x=\"351.739007\" xlink:href=\"#mb18f2dc17b\" y=\"158.966702\"/>\n     <use style=\"fill:#1f78b4;stroke:#1f78b4;\" x=\"431.518717\" xlink:href=\"#mb18f2dc17b\" y=\"107.298634\"/>\n     <use style=\"fill:#1f78b4;stroke:#1f78b4;\" x=\"384.512258\" xlink:href=\"#mb18f2dc17b\" y=\"48.671555\"/>\n     <use style=\"fill:#1f78b4;stroke:#1f78b4;\" x=\"290.139197\" xlink:href=\"#mb18f2dc17b\" y=\"40.323935\"/>\n     <use style=\"fill:#1f78b4;stroke:#1f78b4;\" x=\"422.123726\" xlink:href=\"#mb18f2dc17b\" y=\"168.907187\"/>\n     <use style=\"fill:#1f78b4;stroke:#1f78b4;\" x=\"309.739544\" xlink:href=\"#mb18f2dc17b\" y=\"185.510449\"/>\n     <use style=\"fill:#1f78b4;stroke:#1f78b4;\" x=\"278.662373\" xlink:href=\"#mb18f2dc17b\" y=\"161.417683\"/>\n     <use style=\"fill:#1f78b4;stroke:#1f78b4;\" x=\"376.056523\" xlink:href=\"#mb18f2dc17b\" y=\"188.811818\"/>\n     <use style=\"fill:#1f78b4;stroke:#1f78b4;\" x=\"252.481283\" xlink:href=\"#mb18f2dc17b\" y=\"15.848182\"/>\n    </g>\n   </g>\n   <g id=\"text_6\">\n    <g clip-path=\"url(#p864506f0a0)\">\n     <!-- 0 -->\n     <g transform=\"translate(360.070347 116.484425)scale(0.12 -0.12)\">\n      <use xlink:href=\"#DejaVuSans-48\"/>\n     </g>\n    </g>\n   </g>\n   <g id=\"text_7\">\n    <g clip-path=\"url(#p864506f0a0)\">\n     <!-- 1 -->\n     <g transform=\"translate(337.474805 74.081557)scale(0.12 -0.12)\">\n      <use xlink:href=\"#DejaVuSans-49\"/>\n     </g>\n    </g>\n   </g>\n   <g id=\"text_8\">\n    <g clip-path=\"url(#p864506f0a0)\">\n     <!-- 2 -->\n     <g transform=\"translate(347.921507 162.277952)scale(0.12 -0.12)\">\n      <use xlink:href=\"#DejaVuSans-50\"/>\n     </g>\n    </g>\n   </g>\n   <g id=\"text_9\">\n    <g clip-path=\"url(#p864506f0a0)\">\n     <!-- 3 -->\n     <g transform=\"translate(427.701217 110.609884)scale(0.12 -0.12)\">\n      <use xlink:href=\"#DejaVuSans-51\"/>\n     </g>\n    </g>\n   </g>\n   <g id=\"text_10\">\n    <g clip-path=\"url(#p864506f0a0)\">\n     <!-- 4 -->\n     <g transform=\"translate(380.694758 51.982805)scale(0.12 -0.12)\">\n      <use xlink:href=\"#DejaVuSans-52\"/>\n     </g>\n    </g>\n   </g>\n   <g id=\"text_11\">\n    <g clip-path=\"url(#p864506f0a0)\">\n     <!-- 5 -->\n     <g transform=\"translate(286.321697 43.635185)scale(0.12 -0.12)\">\n      <defs>\n       <path d=\"M 10.796875 72.90625 \nL 49.515625 72.90625 \nL 49.515625 64.59375 \nL 19.828125 64.59375 \nL 19.828125 46.734375 \nQ 21.96875 47.46875 24.109375 47.828125 \nQ 26.265625 48.1875 28.421875 48.1875 \nQ 40.625 48.1875 47.75 41.5 \nQ 54.890625 34.8125 54.890625 23.390625 \nQ 54.890625 11.625 47.5625 5.09375 \nQ 40.234375 -1.421875 26.90625 -1.421875 \nQ 22.3125 -1.421875 17.546875 -0.640625 \nQ 12.796875 0.140625 7.71875 1.703125 \nL 7.71875 11.625 \nQ 12.109375 9.234375 16.796875 8.0625 \nQ 21.484375 6.890625 26.703125 6.890625 \nQ 35.15625 6.890625 40.078125 11.328125 \nQ 45.015625 15.765625 45.015625 23.390625 \nQ 45.015625 31 40.078125 35.4375 \nQ 35.15625 39.890625 26.703125 39.890625 \nQ 22.75 39.890625 18.8125 39.015625 \nQ 14.890625 38.140625 10.796875 36.28125 \nz\n\" id=\"DejaVuSans-53\"/>\n      </defs>\n      <use xlink:href=\"#DejaVuSans-53\"/>\n     </g>\n    </g>\n   </g>\n   <g id=\"text_12\">\n    <g clip-path=\"url(#p864506f0a0)\">\n     <!-- 6 -->\n     <g transform=\"translate(418.306226 172.218437)scale(0.12 -0.12)\">\n      <defs>\n       <path d=\"M 33.015625 40.375 \nQ 26.375 40.375 22.484375 35.828125 \nQ 18.609375 31.296875 18.609375 23.390625 \nQ 18.609375 15.53125 22.484375 10.953125 \nQ 26.375 6.390625 33.015625 6.390625 \nQ 39.65625 6.390625 43.53125 10.953125 \nQ 47.40625 15.53125 47.40625 23.390625 \nQ 47.40625 31.296875 43.53125 35.828125 \nQ 39.65625 40.375 33.015625 40.375 \nz\nM 52.59375 71.296875 \nL 52.59375 62.3125 \nQ 48.875 64.0625 45.09375 64.984375 \nQ 41.3125 65.921875 37.59375 65.921875 \nQ 27.828125 65.921875 22.671875 59.328125 \nQ 17.53125 52.734375 16.796875 39.40625 \nQ 19.671875 43.65625 24.015625 45.921875 \nQ 28.375 48.1875 33.59375 48.1875 \nQ 44.578125 48.1875 50.953125 41.515625 \nQ 57.328125 34.859375 57.328125 23.390625 \nQ 57.328125 12.15625 50.6875 5.359375 \nQ 44.046875 -1.421875 33.015625 -1.421875 \nQ 20.359375 -1.421875 13.671875 8.265625 \nQ 6.984375 17.96875 6.984375 36.375 \nQ 6.984375 53.65625 15.1875 63.9375 \nQ 23.390625 74.21875 37.203125 74.21875 \nQ 40.921875 74.21875 44.703125 73.484375 \nQ 48.484375 72.75 52.59375 71.296875 \nz\n\" id=\"DejaVuSans-54\"/>\n      </defs>\n      <use xlink:href=\"#DejaVuSans-54\"/>\n     </g>\n    </g>\n   </g>\n   <g id=\"text_13\">\n    <g clip-path=\"url(#p864506f0a0)\">\n     <!-- 7 -->\n     <g transform=\"translate(305.922044 188.821699)scale(0.12 -0.12)\">\n      <defs>\n       <path d=\"M 8.203125 72.90625 \nL 55.078125 72.90625 \nL 55.078125 68.703125 \nL 28.609375 0 \nL 18.3125 0 \nL 43.21875 64.59375 \nL 8.203125 64.59375 \nz\n\" id=\"DejaVuSans-55\"/>\n      </defs>\n      <use xlink:href=\"#DejaVuSans-55\"/>\n     </g>\n    </g>\n   </g>\n   <g id=\"text_14\">\n    <g clip-path=\"url(#p864506f0a0)\">\n     <!-- 8 -->\n     <g transform=\"translate(274.844873 164.728933)scale(0.12 -0.12)\">\n      <defs>\n       <path d=\"M 31.78125 34.625 \nQ 24.75 34.625 20.71875 30.859375 \nQ 16.703125 27.09375 16.703125 20.515625 \nQ 16.703125 13.921875 20.71875 10.15625 \nQ 24.75 6.390625 31.78125 6.390625 \nQ 38.8125 6.390625 42.859375 10.171875 \nQ 46.921875 13.96875 46.921875 20.515625 \nQ 46.921875 27.09375 42.890625 30.859375 \nQ 38.875 34.625 31.78125 34.625 \nz\nM 21.921875 38.8125 \nQ 15.578125 40.375 12.03125 44.71875 \nQ 8.5 49.078125 8.5 55.328125 \nQ 8.5 64.0625 14.71875 69.140625 \nQ 20.953125 74.21875 31.78125 74.21875 \nQ 42.671875 74.21875 48.875 69.140625 \nQ 55.078125 64.0625 55.078125 55.328125 \nQ 55.078125 49.078125 51.53125 44.71875 \nQ 48 40.375 41.703125 38.8125 \nQ 48.828125 37.15625 52.796875 32.3125 \nQ 56.78125 27.484375 56.78125 20.515625 \nQ 56.78125 9.90625 50.3125 4.234375 \nQ 43.84375 -1.421875 31.78125 -1.421875 \nQ 19.734375 -1.421875 13.25 4.234375 \nQ 6.78125 9.90625 6.78125 20.515625 \nQ 6.78125 27.484375 10.78125 32.3125 \nQ 14.796875 37.15625 21.921875 38.8125 \nz\nM 18.3125 54.390625 \nQ 18.3125 48.734375 21.84375 45.5625 \nQ 25.390625 42.390625 31.78125 42.390625 \nQ 38.140625 42.390625 41.71875 45.5625 \nQ 45.3125 48.734375 45.3125 54.390625 \nQ 45.3125 60.0625 41.71875 63.234375 \nQ 38.140625 66.40625 31.78125 66.40625 \nQ 25.390625 66.40625 21.84375 63.234375 \nQ 18.3125 60.0625 18.3125 54.390625 \nz\n\" id=\"DejaVuSans-56\"/>\n      </defs>\n      <use xlink:href=\"#DejaVuSans-56\"/>\n     </g>\n    </g>\n   </g>\n   <g id=\"text_15\">\n    <g clip-path=\"url(#p864506f0a0)\">\n     <!-- 9 -->\n     <g transform=\"translate(372.239023 192.123068)scale(0.12 -0.12)\">\n      <defs>\n       <path d=\"M 10.984375 1.515625 \nL 10.984375 10.5 \nQ 14.703125 8.734375 18.5 7.8125 \nQ 22.3125 6.890625 25.984375 6.890625 \nQ 35.75 6.890625 40.890625 13.453125 \nQ 46.046875 20.015625 46.78125 33.40625 \nQ 43.953125 29.203125 39.59375 26.953125 \nQ 35.25 24.703125 29.984375 24.703125 \nQ 19.046875 24.703125 12.671875 31.3125 \nQ 6.296875 37.9375 6.296875 49.421875 \nQ 6.296875 60.640625 12.9375 67.421875 \nQ 19.578125 74.21875 30.609375 74.21875 \nQ 43.265625 74.21875 49.921875 64.515625 \nQ 56.59375 54.828125 56.59375 36.375 \nQ 56.59375 19.140625 48.40625 8.859375 \nQ 40.234375 -1.421875 26.421875 -1.421875 \nQ 22.703125 -1.421875 18.890625 -0.6875 \nQ 15.09375 0.046875 10.984375 1.515625 \nz\nM 30.609375 32.421875 \nQ 37.25 32.421875 41.125 36.953125 \nQ 45.015625 41.5 45.015625 49.421875 \nQ 45.015625 57.28125 41.125 61.84375 \nQ 37.25 66.40625 30.609375 66.40625 \nQ 23.96875 66.40625 20.09375 61.84375 \nQ 16.21875 57.28125 16.21875 49.421875 \nQ 16.21875 41.5 20.09375 36.953125 \nQ 23.96875 32.421875 30.609375 32.421875 \nz\n\" id=\"DejaVuSans-57\"/>\n      </defs>\n      <use xlink:href=\"#DejaVuSans-57\"/>\n     </g>\n    </g>\n   </g>\n   <g id=\"text_16\">\n    <g clip-path=\"url(#p864506f0a0)\">\n     <!-- 10 -->\n     <g transform=\"translate(244.846283 19.159432)scale(0.12 -0.12)\">\n      <use xlink:href=\"#DejaVuSans-49\"/>\n      <use x=\"63.623047\" xlink:href=\"#DejaVuSans-48\"/>\n     </g>\n    </g>\n   </g>\n  </g>\n  <g id=\"axes_3\">\n   <g id=\"LineCollection_3\">\n    <path clip-path=\"url(#p9cb89c5cd4)\" d=\"M 593.285098 122.898689 \nL 625.167246 158.865705 \n\" style=\"fill:none;stroke:#000000;\"/>\n    <path clip-path=\"url(#p9cb89c5cd4)\" d=\"M 593.285098 122.898689 \nL 611.967474 82.406278 \n\" style=\"fill:none;stroke:#000000;\"/>\n    <path clip-path=\"url(#p9cb89c5cd4)\" d=\"M 593.285098 122.898689 \nL 535.831279 130.055807 \n\" style=\"fill:none;stroke:#000000;\"/>\n    <path clip-path=\"url(#p9cb89c5cd4)\" d=\"M 625.167246 158.865705 \nL 620.950588 188.811818 \n\" style=\"fill:none;stroke:#000000;\"/>\n    <path clip-path=\"url(#p9cb89c5cd4)\" d=\"M 625.167246 158.865705 \nL 667.848128 172.864839 \n\" style=\"fill:none;stroke:#000000;\"/>\n    <path clip-path=\"url(#p9cb89c5cd4)\" d=\"M 611.967474 82.406278 \nL 630.247017 44.183503 \n\" style=\"fill:none;stroke:#000000;\"/>\n    <path clip-path=\"url(#p9cb89c5cd4)\" d=\"M 535.831279 130.055807 \nL 488.810695 136.859251 \n\" style=\"fill:none;stroke:#000000;\"/>\n    <path clip-path=\"url(#p9cb89c5cd4)\" d=\"M 630.247017 44.183503 \nL 667.820895 25.54436 \n\" style=\"fill:none;stroke:#000000;\"/>\n    <path clip-path=\"url(#p9cb89c5cd4)\" d=\"M 630.247017 44.183503 \nL 615.490807 15.848182 \n\" style=\"fill:none;stroke:#000000;\"/>\n   </g>\n   <g id=\"PathCollection_3\">\n    <g clip-path=\"url(#p9cb89c5cd4)\">\n     <use style=\"fill:#1f78b4;stroke:#1f78b4;\" x=\"593.285098\" xlink:href=\"#mb18f2dc17b\" y=\"122.898689\"/>\n     <use style=\"fill:#1f78b4;stroke:#1f78b4;\" x=\"625.167246\" xlink:href=\"#mb18f2dc17b\" y=\"158.865705\"/>\n     <use style=\"fill:#1f78b4;stroke:#1f78b4;\" x=\"611.967474\" xlink:href=\"#mb18f2dc17b\" y=\"82.406278\"/>\n     <use style=\"fill:#1f78b4;stroke:#1f78b4;\" x=\"535.831279\" xlink:href=\"#mb18f2dc17b\" y=\"130.055807\"/>\n     <use style=\"fill:#1f78b4;stroke:#1f78b4;\" x=\"620.950588\" xlink:href=\"#mb18f2dc17b\" y=\"188.811818\"/>\n     <use style=\"fill:#1f78b4;stroke:#1f78b4;\" x=\"667.848128\" xlink:href=\"#mb18f2dc17b\" y=\"172.864839\"/>\n     <use style=\"fill:#1f78b4;stroke:#1f78b4;\" x=\"630.247017\" xlink:href=\"#mb18f2dc17b\" y=\"44.183503\"/>\n     <use style=\"fill:#1f78b4;stroke:#1f78b4;\" x=\"667.820895\" xlink:href=\"#mb18f2dc17b\" y=\"25.54436\"/>\n     <use style=\"fill:#1f78b4;stroke:#1f78b4;\" x=\"615.490807\" xlink:href=\"#mb18f2dc17b\" y=\"15.848182\"/>\n     <use style=\"fill:#1f78b4;stroke:#1f78b4;\" x=\"488.810695\" xlink:href=\"#mb18f2dc17b\" y=\"136.859251\"/>\n    </g>\n   </g>\n   <g id=\"text_17\">\n    <g clip-path=\"url(#p9cb89c5cd4)\">\n     <!-- 0 -->\n     <g transform=\"translate(589.467598 126.209939)scale(0.12 -0.12)\">\n      <use xlink:href=\"#DejaVuSans-48\"/>\n     </g>\n    </g>\n   </g>\n   <g id=\"text_18\">\n    <g clip-path=\"url(#p9cb89c5cd4)\">\n     <!-- 3 -->\n     <g transform=\"translate(621.349746 162.176955)scale(0.12 -0.12)\">\n      <use xlink:href=\"#DejaVuSans-51\"/>\n     </g>\n    </g>\n   </g>\n   <g id=\"text_19\">\n    <g clip-path=\"url(#p9cb89c5cd4)\">\n     <!-- 7 -->\n     <g transform=\"translate(608.149974 85.717528)scale(0.12 -0.12)\">\n      <use xlink:href=\"#DejaVuSans-55\"/>\n     </g>\n    </g>\n   </g>\n   <g id=\"text_20\">\n    <g clip-path=\"url(#p9cb89c5cd4)\">\n     <!-- 9 -->\n     <g transform=\"translate(532.013779 133.367057)scale(0.12 -0.12)\">\n      <use xlink:href=\"#DejaVuSans-57\"/>\n     </g>\n    </g>\n   </g>\n   <g id=\"text_21\">\n    <g clip-path=\"url(#p9cb89c5cd4)\">\n     <!-- 6 -->\n     <g transform=\"translate(617.133088 192.123068)scale(0.12 -0.12)\">\n      <use xlink:href=\"#DejaVuSans-54\"/>\n     </g>\n    </g>\n   </g>\n   <g id=\"text_22\">\n    <g clip-path=\"url(#p9cb89c5cd4)\">\n     <!-- 2 -->\n     <g transform=\"translate(664.030628 176.176089)scale(0.12 -0.12)\">\n      <use xlink:href=\"#DejaVuSans-50\"/>\n     </g>\n    </g>\n   </g>\n   <g id=\"text_23\">\n    <g clip-path=\"url(#p9cb89c5cd4)\">\n     <!-- 4 -->\n     <g transform=\"translate(626.429517 47.494753)scale(0.12 -0.12)\">\n      <use xlink:href=\"#DejaVuSans-52\"/>\n     </g>\n    </g>\n   </g>\n   <g id=\"text_24\">\n    <g clip-path=\"url(#p9cb89c5cd4)\">\n     <!-- 5 -->\n     <g transform=\"translate(664.003395 28.85561)scale(0.12 -0.12)\">\n      <use xlink:href=\"#DejaVuSans-53\"/>\n     </g>\n    </g>\n   </g>\n   <g id=\"text_25\">\n    <g clip-path=\"url(#p9cb89c5cd4)\">\n     <!-- 1 -->\n     <g transform=\"translate(611.673307 19.159432)scale(0.12 -0.12)\">\n      <use xlink:href=\"#DejaVuSans-49\"/>\n     </g>\n    </g>\n   </g>\n   <g id=\"text_26\">\n    <g clip-path=\"url(#p9cb89c5cd4)\">\n     <!-- 8 -->\n     <g transform=\"translate(484.993195 140.170501)scale(0.12 -0.12)\">\n      <use xlink:href=\"#DejaVuSans-56\"/>\n     </g>\n    </g>\n   </g>\n  </g>\n </g>\n <defs>\n  <clipPath id=\"p48e52274db\">\n   <rect height=\"190.26\" width=\"196.941176\" x=\"7.2\" y=\"7.2\"/>\n  </clipPath>\n  <clipPath id=\"p864506f0a0\">\n   <rect height=\"190.26\" width=\"196.941176\" x=\"243.529412\" y=\"7.2\"/>\n  </clipPath>\n  <clipPath id=\"p9cb89c5cd4\">\n   <rect height=\"190.26\" width=\"196.941176\" x=\"479.858824\" y=\"7.2\"/>\n  </clipPath>\n </defs>\n</svg>\n",
      "image/png": "[encoded data removed]"
     },
     "metadata": {}
    }
   ],
   "source": [
    "import networkx as nx, matplotlib.pyplot as plt\n",
    "%matplotlib inline\n",
    "#隣接リストをnx形式に変換（枝を加える）→描画\n",
    "def drawAdjlistUsingNx(nx_tree, list_adjlist, dic_pos, axval):\n",
    "    for node1 in range(0, len(list_adjlist)):\n",
    "        for node2 in list_adjlist[node1]:\n",
    "            nx_tree.add_edge(node1, node2)\n",
    "    axval.set_axis_off()\n",
    "    nx.draw_networkx(nx_tree, pos=dic_pos, ax=axval)\n",
    "#3つの木を描画\n",
    "fig, npar_axval = plt.subplots(1, 3, figsize=(12, 3.5))\n",
    "#1\n",
    "list_adjlist_test1=[[1, 2], [], [3, 4], [], []]; nx_tree1 = nx.Graph()\n",
    "drawAdjlistUsingNx(nx_tree1, list_adjlist_test1, None, npar_axval[0])\n",
    "#2\n",
    "list_adjlist_test2=[[1, 2, 3], [4, 5], [6, 7, 8, 9], [], [], [10], [], [], [], [], []];nx_tree2 = nx.Graph()\n",
    "drawAdjlistUsingNx(nx_tree2, list_adjlist_test2, None, npar_axval[1])\n",
    "#3\n",
    "list_adjlist_test3=[[3, 7, 9], [], [], [6, 2], [5, 1], [], [], [4], [], [8]];nx_tree3 = nx.Graph()\n",
    "drawAdjlistUsingNx(nx_tree3, list_adjlist_test3, None, npar_axval[2])"
   ]
  },
  {
   "cell_type": "markdown",
   "metadata": {},
   "source": [
    "以下のセルを実行すると解答セルのプログラムの計算量を自動的に評価します。\n",
    "\n",
    "この課題の模範解答の時間計算量は<font color=\"white\"> $O(k)$ と評価されますが、正しくは $O(m+n)$ です。</font>（←白黒反転しています）  \n",
    "想像（模範解答）よりも大きな計算量となっている場合、どこに問題があるのか考えてみて下さい。"
   ]
  },
  {
   "cell_type": "code",
   "execution_count": 20,
   "metadata": {
    "scrolled": false
   },
   "outputs": [
    {
     "output_type": "execute_result",
     "data": {
      "text/plain": [
       "('時間計算量：O(k), ',\n",
       " '領域計算量：O(n+k)',\n",
       " '解答のコードには適宜コメントを入れて下さい。正しくても評価者が読解できない場合は減点となる可能性があります。')"
      ]
     },
     "metadata": {},
     "execution_count": 20
    }
   ],
   "source": [
    "import utaadevalcpx;dic_varinfo_5_2 = {\"list_adjlist\": [\"list\", set(), {\"n\"}], \"list_adjlist*\": [\"list\", set(), {\"k\"}],}\n",
    "str_code_5_2 = '''...'''\n",
    "utaadevalcpx.evaluateCpx(str_exfilename, \"5-2\", dic_varinfo_5_2, str_code_5_2) # str_exfilenameはファイルの冒頭で定義されています"
   ]
  },
  {
   "cell_type": "markdown",
   "metadata": {},
   "source": [
    "実行時間を比較した場合、流石に訪問順だけの場合は `nextworkx` に圧倒的に分があります。"
   ]
  },
  {
   "cell_type": "code",
   "execution_count": 21,
   "metadata": {},
   "outputs": [
    {
     "output_type": "stream",
     "name": "stdout",
     "text": [
      "1.33 µs ± 264 ns per loop (mean ± std. dev. of 10 runs, 10 loops each)\n"
     ]
    }
   ],
   "source": [
    "%%timeit -r 10 -n 10\n",
    "nx.dfs_preorder_nodes(nx_tree4, source=initnode_test4)"
   ]
  },
  {
   "cell_type": "code",
   "execution_count": 22,
   "metadata": {},
   "outputs": [
    {
     "output_type": "stream",
     "name": "stdout",
     "text": [
      "5.73 ms ± 569 µs per loop (mean ± std. dev. of 10 runs, 10 loops each)\n"
     ]
    }
   ],
   "source": [
    "%%timeit -r 10 -n 10\n",
    "DFSInPreorder(list_adjlist_test4)"
   ]
  },
  {
   "cell_type": "markdown",
   "metadata": {},
   "source": [
    "<b>問題の難易度評価：</b>\n",
    "下のセルにこの問の難易度を5段階（1:簡単、2:やや簡単、3:普通、4:やや難しい、5:難しい）で評価して下さい。（次回以降の課題の難易度の調整に使います）\n",
    "また、解答するのにかかった時間や感想などがあれば適宜記載して下さい。"
   ]
  },
  {
   "cell_type": "code",
   "execution_count": null,
   "metadata": {},
   "outputs": [],
   "source": [
    "#難易度（1:簡単、2:やや簡単、3:普通、4:やや難しい、5:難しい）\n",
    "# 2\n",
    "#感想\n"
   ]
  },
  {
   "cell_type": "markdown",
   "metadata": {},
   "source": [
    "## 3. 深さ優先探索（非再帰）を用いた訪問順の取得2\n",
    "\n",
    "木構造 $T$ を表す隣接リスト `list_adjlist` が引数として与えられたとき、$T$ に対してスタックを用いた（再帰を用いない）深さ優先探索を行った際に、$T$ の各点を訪問する順序を表すリスト `list_node` を返す関数 `DFSInPreorder2` を作成して下さい。以下の点に注意して解答して下さい。\n",
    "\n",
    "1. 各点は `0` 以上の整数で表されます。\n",
    "2. 根を表す番号は `0` であり、根から探索を開始します。\n",
    "3. 訪問する順序を表すリスト`list_node` には、深さ優先探索を行った際に訪問した順序（スタックから取り出した順序）で点の名前を格納します。\n",
    "4. 問1で作成したクラス `StackClass` を使用して下さい。\n",
    " * `StackClass` が分からない人は出題者に相談して下さい。\n",
    "5. `list_node` の結果が以下で定義している再帰を用いた深さ優先探索 `DFSInPreorderUsingRecursion` と一致する様にして下さい。\n"
   ]
  },
  {
   "cell_type": "code",
   "execution_count": 23,
   "metadata": {},
   "outputs": [],
   "source": [
    "# 深さ優先探索（再帰）\n",
    "def DFSInPreorderUsingRecursion(list_adjlist, initnode):\n",
    "    list_node = []\n",
    "    #訪問した点の名前(initnode)をlist_nodeに格納\n",
    "    list_node.append(initnode)\n",
    "    # initnodeの子を再帰で呼び出す\n",
    "    for adjnode in list_adjlist[initnode]:\n",
    "        # initnodeの子の再帰\n",
    "        list1 = DFSInPreorderUsingRecursion(list_adjlist, adjnode)\n",
    "        #再帰の結果を統合する\n",
    "        list_node.extend(list1) # list_node += list1\n",
    "    #結果を返す\n",
    "    return list_node"
   ]
  },
  {
   "cell_type": "markdown",
   "metadata": {},
   "source": [
    "\n",
    "なお、各値の大きさは以下の通りとします。\n",
    "* $m =$ $G$ の枝の数\n",
    "* $n =$ $G$ の点の数\n",
    "* $k =$ $G$ の点の中で最大の隣接点数\n",
    "\n",
    "以下のセルの `...` のところを書き換えて解答して下さい。"
   ]
  },
  {
   "cell_type": "code",
   "execution_count": 24,
   "metadata": {},
   "outputs": [],
   "source": [
    "### この行のコメントを改変してはいけません %5-3% ### \n",
    "#解答用セル\n",
    "def DFSInPreorder2(list_adjlist):\n",
    "    # list_nodeの初期化\n",
    "    list_node = []\n",
    "    # stack_Qの初期化\n",
    "    stack_Q = StackClass()\n",
    "    # stack_Qに根を追加する\n",
    "    stack_Q.push(0)\n",
    "    # stack_Qがなくなるまで続ける\n",
    "    while(stack_Q.length()>0):\n",
    "        # stack_Qの最後尾を取り出す\n",
    "        node1 = stack_Q.pop()\n",
    "        # list_nodeにnode1を追加する\n",
    "        list_node.append(node1)\n",
    "        # node1の子をlist_adjlistの後ろから調べる\n",
    "        for childnode in reversed(list_adjlist[node1]):\n",
    "            #node1の子childnodeをstack_Qに入れる\n",
    "            stack_Q.push(childnode)\n",
    "    return list_node"
   ]
  },
  {
   "cell_type": "markdown",
   "metadata": {},
   "source": [
    "上のセルで解答を作成した後、以下のセルを実行し、実行結果が `True` になることを確認して下さい。"
   ]
  },
  {
   "cell_type": "code",
   "execution_count": 26,
   "metadata": {},
   "outputs": [
    {
     "output_type": "stream",
     "name": "stdout",
     "text": [
      "True\nTrue\nTrue\n"
     ]
    }
   ],
   "source": [
    "list_adjlist_test1=[[1, 2], [], [3, 4], [], []]\n",
    "list_res1 = DFSInPreorder2(list_adjlist_test1)\n",
    "list_adjlist_test1=[[1, 2], [], [3, 4], [], []]\n",
    "list_res1r = DFSInPreorderUsingRecursion(list_adjlist_test1, 0)\n",
    "print(list_res1 == list_res1r)\n",
    "list_adjlist_test2=[[1, 2, 3], [4, 5], [6, 7, 8, 9], [], [], [10], [], [], [], [], []]\n",
    "list_res2 = DFSInPreorder2(list_adjlist_test2)\n",
    "list_adjlist_test2=[[1, 2, 3], [4, 5], [6, 7, 8, 9], [], [], [10], [], [], [], [], []]\n",
    "list_res2r = DFSInPreorderUsingRecursion(list_adjlist_test2, 0)\n",
    "print(list_res2 == list_res2r)\n",
    "list_adjlist_test3=[[1, 2, 3], [4, 5], [6, 7, 8, 9], [], [], [10], [], [], [], [], []]\n",
    "list_res3 = DFSInPreorder2(list_adjlist_test3)\n",
    "list_adjlist_test3=[[1, 2, 3], [4, 5], [6, 7, 8, 9], [], [], [10], [], [], [], [], []]\n",
    "list_res3r = DFSInPreorderUsingRecursion(list_adjlist_test3, 0)\n",
    "print(list_res3 == list_res3r)"
   ]
  },
  {
   "cell_type": "markdown",
   "metadata": {},
   "source": [
    "なお、テストで用いている木は以下の様な形になっています。"
   ]
  },
  {
   "cell_type": "code",
   "execution_count": 27,
   "metadata": {
    "scrolled": true
   },
   "outputs": [
    {
     "output_type": "display_data",
     "data": {
      "text/plain": "<Figure size 864x252 with 3 Axes>",
      "image/svg+xml": "<?xml version=\"1.0\" encoding=\"utf-8\" standalone=\"no\"?>\n<!DOCTYPE svg PUBLIC \"-//W3C//DTD SVG 1.1//EN\"\n  \"http://www.w3.org/Graphics/SVG/1.1/DTD/svg11.dtd\">\n<!-- Created with matplotlib (https://matplotlib.org/) -->\n<svg height=\"204.66pt\" version=\"1.1\" viewBox=\"0 0 684 204.66\" width=\"684pt\" xmlns=\"http://www.w3.org/2000/svg\" xmlns:xlink=\"http://www.w3.org/1999/xlink\">\n <metadata>\n  <rdf:RDF xmlns:cc=\"http://creativecommons.org/ns#\" xmlns:dc=\"http://purl.org/dc/elements/1.1/\" xmlns:rdf=\"http://www.w3.org/1999/02/22-rdf-syntax-ns#\">\n   <cc:Work>\n    <dc:type rdf:resource=\"http://purl.org/dc/dcmitype/StillImage\"/>\n    <dc:date>2021-07-11T01:13:05.552103</dc:date>\n    <dc:format>image/svg+xml</dc:format>\n    <dc:creator>\n     <cc:Agent>\n      <dc:title>Matplotlib v3.3.2, https://matplotlib.org/</dc:title>\n     </cc:Agent>\n    </dc:creator>\n   </cc:Work>\n  </rdf:RDF>\n </metadata>\n <defs>\n  <style type=\"text/css\">*{stroke-linecap:butt;stroke-linejoin:round;}</style>\n </defs>\n <g id=\"figure_1\">\n  <g id=\"patch_1\">\n   <path d=\"M 0 204.66 \nL 684 204.66 \nL 684 0 \nL 0 0 \nz\n\" style=\"fill:none;\"/>\n  </g>\n  <g id=\"axes_1\">\n   <g id=\"LineCollection_1\">\n    <path clip-path=\"url(#p1321ee0a74)\" d=\"M 138.265707 51.781596 \nL 195.189305 15.848182 \n\" style=\"fill:none;stroke:#000000;\"/>\n    <path clip-path=\"url(#p1321ee0a74)\" d=\"M 138.265707 51.781596 \nL 71.588764 94.350179 \n\" style=\"fill:none;stroke:#000000;\"/>\n    <path clip-path=\"url(#p1321ee0a74)\" d=\"M 71.588764 94.350179 \nL 16.151872 47.89629 \n\" style=\"fill:none;stroke:#000000;\"/>\n    <path clip-path=\"url(#p1321ee0a74)\" d=\"M 71.588764 94.350179 \nL 52.152136 188.811818 \n\" style=\"fill:none;stroke:#000000;\"/>\n   </g>\n   <g id=\"PathCollection_1\">\n    <defs>\n     <path d=\"M 0 8.660254 \nC 2.296726 8.660254 4.499694 7.747755 6.123724 6.123724 \nC 7.747755 4.499694 8.660254 2.296726 8.660254 0 \nC 8.660254 -2.296726 7.747755 -4.499694 6.123724 -6.123724 \nC 4.499694 -7.747755 2.296726 -8.660254 0 -8.660254 \nC -2.296726 -8.660254 -4.499694 -7.747755 -6.123724 -6.123724 \nC -7.747755 -4.499694 -8.660254 -2.296726 -8.660254 0 \nC -8.660254 2.296726 -7.747755 4.499694 -6.123724 6.123724 \nC -4.499694 7.747755 -2.296726 8.660254 0 8.660254 \nz\n\" id=\"md6bf23cb3a\" style=\"stroke:#1f78b4;\"/>\n    </defs>\n    <g clip-path=\"url(#p1321ee0a74)\">\n     <use style=\"fill:#1f78b4;stroke:#1f78b4;\" x=\"138.265707\" xlink:href=\"#md6bf23cb3a\" y=\"51.781596\"/>\n     <use style=\"fill:#1f78b4;stroke:#1f78b4;\" x=\"195.189305\" xlink:href=\"#md6bf23cb3a\" y=\"15.848182\"/>\n     <use style=\"fill:#1f78b4;stroke:#1f78b4;\" x=\"71.588764\" xlink:href=\"#md6bf23cb3a\" y=\"94.350179\"/>\n     <use style=\"fill:#1f78b4;stroke:#1f78b4;\" x=\"16.151872\" xlink:href=\"#md6bf23cb3a\" y=\"47.89629\"/>\n     <use style=\"fill:#1f78b4;stroke:#1f78b4;\" x=\"52.152136\" xlink:href=\"#md6bf23cb3a\" y=\"188.811818\"/>\n    </g>\n   </g>\n   <g id=\"text_1\">\n    <g clip-path=\"url(#p1321ee0a74)\">\n     <!-- 0 -->\n     <g transform=\"translate(134.448207 55.092846)scale(0.12 -0.12)\">\n      <defs>\n       <path d=\"M 31.78125 66.40625 \nQ 24.171875 66.40625 20.328125 58.90625 \nQ 16.5 51.421875 16.5 36.375 \nQ 16.5 21.390625 20.328125 13.890625 \nQ 24.171875 6.390625 31.78125 6.390625 \nQ 39.453125 6.390625 43.28125 13.890625 \nQ 47.125 21.390625 47.125 36.375 \nQ 47.125 51.421875 43.28125 58.90625 \nQ 39.453125 66.40625 31.78125 66.40625 \nz\nM 31.78125 74.21875 \nQ 44.046875 74.21875 50.515625 64.515625 \nQ 56.984375 54.828125 56.984375 36.375 \nQ 56.984375 17.96875 50.515625 8.265625 \nQ 44.046875 -1.421875 31.78125 -1.421875 \nQ 19.53125 -1.421875 13.0625 8.265625 \nQ 6.59375 17.96875 6.59375 36.375 \nQ 6.59375 54.828125 13.0625 64.515625 \nQ 19.53125 74.21875 31.78125 74.21875 \nz\n\" id=\"DejaVuSans-48\"/>\n      </defs>\n      <use xlink:href=\"#DejaVuSans-48\"/>\n     </g>\n    </g>\n   </g>\n   <g id=\"text_2\">\n    <g clip-path=\"url(#p1321ee0a74)\">\n     <!-- 1 -->\n     <g transform=\"translate(191.371805 19.159432)scale(0.12 -0.12)\">\n      <defs>\n       <path d=\"M 12.40625 8.296875 \nL 28.515625 8.296875 \nL 28.515625 63.921875 \nL 10.984375 60.40625 \nL 10.984375 69.390625 \nL 28.421875 72.90625 \nL 38.28125 72.90625 \nL 38.28125 8.296875 \nL 54.390625 8.296875 \nL 54.390625 0 \nL 12.40625 0 \nz\n\" id=\"DejaVuSans-49\"/>\n      </defs>\n      <use xlink:href=\"#DejaVuSans-49\"/>\n     </g>\n    </g>\n   </g>\n   <g id=\"text_3\">\n    <g clip-path=\"url(#p1321ee0a74)\">\n     <!-- 2 -->\n     <g transform=\"translate(67.771264 97.661429)scale(0.12 -0.12)\">\n      <defs>\n       <path d=\"M 19.1875 8.296875 \nL 53.609375 8.296875 \nL 53.609375 0 \nL 7.328125 0 \nL 7.328125 8.296875 \nQ 12.9375 14.109375 22.625 23.890625 \nQ 32.328125 33.6875 34.8125 36.53125 \nQ 39.546875 41.84375 41.421875 45.53125 \nQ 43.3125 49.21875 43.3125 52.78125 \nQ 43.3125 58.59375 39.234375 62.25 \nQ 35.15625 65.921875 28.609375 65.921875 \nQ 23.96875 65.921875 18.8125 64.3125 \nQ 13.671875 62.703125 7.8125 59.421875 \nL 7.8125 69.390625 \nQ 13.765625 71.78125 18.9375 73 \nQ 24.125 74.21875 28.421875 74.21875 \nQ 39.75 74.21875 46.484375 68.546875 \nQ 53.21875 62.890625 53.21875 53.421875 \nQ 53.21875 48.921875 51.53125 44.890625 \nQ 49.859375 40.875 45.40625 35.40625 \nQ 44.1875 33.984375 37.640625 27.21875 \nQ 31.109375 20.453125 19.1875 8.296875 \nz\n\" id=\"DejaVuSans-50\"/>\n      </defs>\n      <use xlink:href=\"#DejaVuSans-50\"/>\n     </g>\n    </g>\n   </g>\n   <g id=\"text_4\">\n    <g clip-path=\"url(#p1321ee0a74)\">\n     <!-- 3 -->\n     <g transform=\"translate(12.334372 51.20754)scale(0.12 -0.12)\">\n      <defs>\n       <path d=\"M 40.578125 39.3125 \nQ 47.65625 37.796875 51.625 33 \nQ 55.609375 28.21875 55.609375 21.1875 \nQ 55.609375 10.40625 48.1875 4.484375 \nQ 40.765625 -1.421875 27.09375 -1.421875 \nQ 22.515625 -1.421875 17.65625 -0.515625 \nQ 12.796875 0.390625 7.625 2.203125 \nL 7.625 11.71875 \nQ 11.71875 9.328125 16.59375 8.109375 \nQ 21.484375 6.890625 26.8125 6.890625 \nQ 36.078125 6.890625 40.9375 10.546875 \nQ 45.796875 14.203125 45.796875 21.1875 \nQ 45.796875 27.640625 41.28125 31.265625 \nQ 36.765625 34.90625 28.71875 34.90625 \nL 20.21875 34.90625 \nL 20.21875 43.015625 \nL 29.109375 43.015625 \nQ 36.375 43.015625 40.234375 45.921875 \nQ 44.09375 48.828125 44.09375 54.296875 \nQ 44.09375 59.90625 40.109375 62.90625 \nQ 36.140625 65.921875 28.71875 65.921875 \nQ 24.65625 65.921875 20.015625 65.03125 \nQ 15.375 64.15625 9.8125 62.3125 \nL 9.8125 71.09375 \nQ 15.4375 72.65625 20.34375 73.4375 \nQ 25.25 74.21875 29.59375 74.21875 \nQ 40.828125 74.21875 47.359375 69.109375 \nQ 53.90625 64.015625 53.90625 55.328125 \nQ 53.90625 49.265625 50.4375 45.09375 \nQ 46.96875 40.921875 40.578125 39.3125 \nz\n\" id=\"DejaVuSans-51\"/>\n      </defs>\n      <use xlink:href=\"#DejaVuSans-51\"/>\n     </g>\n    </g>\n   </g>\n   <g id=\"text_5\">\n    <g clip-path=\"url(#p1321ee0a74)\">\n     <!-- 4 -->\n     <g transform=\"translate(48.334636 192.123068)scale(0.12 -0.12)\">\n      <defs>\n       <path d=\"M 37.796875 64.3125 \nL 12.890625 25.390625 \nL 37.796875 25.390625 \nz\nM 35.203125 72.90625 \nL 47.609375 72.90625 \nL 47.609375 25.390625 \nL 58.015625 25.390625 \nL 58.015625 17.1875 \nL 47.609375 17.1875 \nL 47.609375 0 \nL 37.796875 0 \nL 37.796875 17.1875 \nL 4.890625 17.1875 \nL 4.890625 26.703125 \nz\n\" id=\"DejaVuSans-52\"/>\n      </defs>\n      <use xlink:href=\"#DejaVuSans-52\"/>\n     </g>\n    </g>\n   </g>\n  </g>\n  <g id=\"axes_2\">\n   <g id=\"LineCollection_2\">\n    <path clip-path=\"url(#p5fd635be16)\" d=\"M 329.200954 88.134031 \nL 373.060852 102.684982 \n\" style=\"fill:none;stroke:#000000;\"/>\n    <path clip-path=\"url(#p5fd635be16)\" d=\"M 329.200954 88.134031 \nL 283.286325 110.934214 \n\" style=\"fill:none;stroke:#000000;\"/>\n    <path clip-path=\"url(#p5fd635be16)\" d=\"M 329.200954 88.134031 \nL 333.448379 15.848182 \n\" style=\"fill:none;stroke:#000000;\"/>\n    <path clip-path=\"url(#p5fd635be16)\" d=\"M 373.060852 102.684982 \nL 394.02924 52.504223 \n\" style=\"fill:none;stroke:#000000;\"/>\n    <path clip-path=\"url(#p5fd635be16)\" d=\"M 373.060852 102.684982 \nL 405.354928 149.626265 \n\" style=\"fill:none;stroke:#000000;\"/>\n    <path clip-path=\"url(#p5fd635be16)\" d=\"M 283.286325 110.934214 \nL 252.481283 89.770835 \n\" style=\"fill:none;stroke:#000000;\"/>\n    <path clip-path=\"url(#p5fd635be16)\" d=\"M 283.286325 110.934214 \nL 271.489208 38.164808 \n\" style=\"fill:none;stroke:#000000;\"/>\n    <path clip-path=\"url(#p5fd635be16)\" d=\"M 283.286325 110.934214 \nL 282.525486 188.811818 \n\" style=\"fill:none;stroke:#000000;\"/>\n    <path clip-path=\"url(#p5fd635be16)\" d=\"M 283.286325 110.934214 \nL 257.332546 159.883073 \n\" style=\"fill:none;stroke:#000000;\"/>\n    <path clip-path=\"url(#p5fd635be16)\" d=\"M 405.354928 149.626265 \nL 431.518717 183.433951 \n\" style=\"fill:none;stroke:#000000;\"/>\n   </g>\n   <g id=\"PathCollection_2\">\n    <g clip-path=\"url(#p5fd635be16)\">\n     <use style=\"fill:#1f78b4;stroke:#1f78b4;\" x=\"329.200954\" xlink:href=\"#md6bf23cb3a\" y=\"88.134031\"/>\n     <use style=\"fill:#1f78b4;stroke:#1f78b4;\" x=\"373.060852\" xlink:href=\"#md6bf23cb3a\" y=\"102.684982\"/>\n     <use style=\"fill:#1f78b4;stroke:#1f78b4;\" x=\"283.286325\" xlink:href=\"#md6bf23cb3a\" y=\"110.934214\"/>\n     <use style=\"fill:#1f78b4;stroke:#1f78b4;\" x=\"333.448379\" xlink:href=\"#md6bf23cb3a\" y=\"15.848182\"/>\n     <use style=\"fill:#1f78b4;stroke:#1f78b4;\" x=\"394.02924\" xlink:href=\"#md6bf23cb3a\" y=\"52.504223\"/>\n     <use style=\"fill:#1f78b4;stroke:#1f78b4;\" x=\"405.354928\" xlink:href=\"#md6bf23cb3a\" y=\"149.626265\"/>\n     <use style=\"fill:#1f78b4;stroke:#1f78b4;\" x=\"252.481283\" xlink:href=\"#md6bf23cb3a\" y=\"89.770835\"/>\n     <use style=\"fill:#1f78b4;stroke:#1f78b4;\" x=\"271.489208\" xlink:href=\"#md6bf23cb3a\" y=\"38.164808\"/>\n     <use style=\"fill:#1f78b4;stroke:#1f78b4;\" x=\"282.525486\" xlink:href=\"#md6bf23cb3a\" y=\"188.811818\"/>\n     <use style=\"fill:#1f78b4;stroke:#1f78b4;\" x=\"257.332546\" xlink:href=\"#md6bf23cb3a\" y=\"159.883073\"/>\n     <use style=\"fill:#1f78b4;stroke:#1f78b4;\" x=\"431.518717\" xlink:href=\"#md6bf23cb3a\" y=\"183.433951\"/>\n    </g>\n   </g>\n   <g id=\"text_6\">\n    <g clip-path=\"url(#p5fd635be16)\">\n     <!-- 0 -->\n     <g transform=\"translate(325.383454 91.445281)scale(0.12 -0.12)\">\n      <use xlink:href=\"#DejaVuSans-48\"/>\n     </g>\n    </g>\n   </g>\n   <g id=\"text_7\">\n    <g clip-path=\"url(#p5fd635be16)\">\n     <!-- 1 -->\n     <g transform=\"translate(369.243352 105.996232)scale(0.12 -0.12)\">\n      <use xlink:href=\"#DejaVuSans-49\"/>\n     </g>\n    </g>\n   </g>\n   <g id=\"text_8\">\n    <g clip-path=\"url(#p5fd635be16)\">\n     <!-- 2 -->\n     <g transform=\"translate(279.468825 114.245464)scale(0.12 -0.12)\">\n      <use xlink:href=\"#DejaVuSans-50\"/>\n     </g>\n    </g>\n   </g>\n   <g id=\"text_9\">\n    <g clip-path=\"url(#p5fd635be16)\">\n     <!-- 3 -->\n     <g transform=\"translate(329.630879 19.159432)scale(0.12 -0.12)\">\n      <use xlink:href=\"#DejaVuSans-51\"/>\n     </g>\n    </g>\n   </g>\n   <g id=\"text_10\">\n    <g clip-path=\"url(#p5fd635be16)\">\n     <!-- 4 -->\n     <g transform=\"translate(390.21174 55.815473)scale(0.12 -0.12)\">\n      <use xlink:href=\"#DejaVuSans-52\"/>\n     </g>\n    </g>\n   </g>\n   <g id=\"text_11\">\n    <g clip-path=\"url(#p5fd635be16)\">\n     <!-- 5 -->\n     <g transform=\"translate(401.537428 152.937515)scale(0.12 -0.12)\">\n      <defs>\n       <path d=\"M 10.796875 72.90625 \nL 49.515625 72.90625 \nL 49.515625 64.59375 \nL 19.828125 64.59375 \nL 19.828125 46.734375 \nQ 21.96875 47.46875 24.109375 47.828125 \nQ 26.265625 48.1875 28.421875 48.1875 \nQ 40.625 48.1875 47.75 41.5 \nQ 54.890625 34.8125 54.890625 23.390625 \nQ 54.890625 11.625 47.5625 5.09375 \nQ 40.234375 -1.421875 26.90625 -1.421875 \nQ 22.3125 -1.421875 17.546875 -0.640625 \nQ 12.796875 0.140625 7.71875 1.703125 \nL 7.71875 11.625 \nQ 12.109375 9.234375 16.796875 8.0625 \nQ 21.484375 6.890625 26.703125 6.890625 \nQ 35.15625 6.890625 40.078125 11.328125 \nQ 45.015625 15.765625 45.015625 23.390625 \nQ 45.015625 31 40.078125 35.4375 \nQ 35.15625 39.890625 26.703125 39.890625 \nQ 22.75 39.890625 18.8125 39.015625 \nQ 14.890625 38.140625 10.796875 36.28125 \nz\n\" id=\"DejaVuSans-53\"/>\n      </defs>\n      <use xlink:href=\"#DejaVuSans-53\"/>\n     </g>\n    </g>\n   </g>\n   <g id=\"text_12\">\n    <g clip-path=\"url(#p5fd635be16)\">\n     <!-- 6 -->\n     <g transform=\"translate(248.663783 93.082085)scale(0.12 -0.12)\">\n      <defs>\n       <path d=\"M 33.015625 40.375 \nQ 26.375 40.375 22.484375 35.828125 \nQ 18.609375 31.296875 18.609375 23.390625 \nQ 18.609375 15.53125 22.484375 10.953125 \nQ 26.375 6.390625 33.015625 6.390625 \nQ 39.65625 6.390625 43.53125 10.953125 \nQ 47.40625 15.53125 47.40625 23.390625 \nQ 47.40625 31.296875 43.53125 35.828125 \nQ 39.65625 40.375 33.015625 40.375 \nz\nM 52.59375 71.296875 \nL 52.59375 62.3125 \nQ 48.875 64.0625 45.09375 64.984375 \nQ 41.3125 65.921875 37.59375 65.921875 \nQ 27.828125 65.921875 22.671875 59.328125 \nQ 17.53125 52.734375 16.796875 39.40625 \nQ 19.671875 43.65625 24.015625 45.921875 \nQ 28.375 48.1875 33.59375 48.1875 \nQ 44.578125 48.1875 50.953125 41.515625 \nQ 57.328125 34.859375 57.328125 23.390625 \nQ 57.328125 12.15625 50.6875 5.359375 \nQ 44.046875 -1.421875 33.015625 -1.421875 \nQ 20.359375 -1.421875 13.671875 8.265625 \nQ 6.984375 17.96875 6.984375 36.375 \nQ 6.984375 53.65625 15.1875 63.9375 \nQ 23.390625 74.21875 37.203125 74.21875 \nQ 40.921875 74.21875 44.703125 73.484375 \nQ 48.484375 72.75 52.59375 71.296875 \nz\n\" id=\"DejaVuSans-54\"/>\n      </defs>\n      <use xlink:href=\"#DejaVuSans-54\"/>\n     </g>\n    </g>\n   </g>\n   <g id=\"text_13\">\n    <g clip-path=\"url(#p5fd635be16)\">\n     <!-- 7 -->\n     <g transform=\"translate(267.671708 41.476058)scale(0.12 -0.12)\">\n      <defs>\n       <path d=\"M 8.203125 72.90625 \nL 55.078125 72.90625 \nL 55.078125 68.703125 \nL 28.609375 0 \nL 18.3125 0 \nL 43.21875 64.59375 \nL 8.203125 64.59375 \nz\n\" id=\"DejaVuSans-55\"/>\n      </defs>\n      <use xlink:href=\"#DejaVuSans-55\"/>\n     </g>\n    </g>\n   </g>\n   <g id=\"text_14\">\n    <g clip-path=\"url(#p5fd635be16)\">\n     <!-- 8 -->\n     <g transform=\"translate(278.707986 192.123068)scale(0.12 -0.12)\">\n      <defs>\n       <path d=\"M 31.78125 34.625 \nQ 24.75 34.625 20.71875 30.859375 \nQ 16.703125 27.09375 16.703125 20.515625 \nQ 16.703125 13.921875 20.71875 10.15625 \nQ 24.75 6.390625 31.78125 6.390625 \nQ 38.8125 6.390625 42.859375 10.171875 \nQ 46.921875 13.96875 46.921875 20.515625 \nQ 46.921875 27.09375 42.890625 30.859375 \nQ 38.875 34.625 31.78125 34.625 \nz\nM 21.921875 38.8125 \nQ 15.578125 40.375 12.03125 44.71875 \nQ 8.5 49.078125 8.5 55.328125 \nQ 8.5 64.0625 14.71875 69.140625 \nQ 20.953125 74.21875 31.78125 74.21875 \nQ 42.671875 74.21875 48.875 69.140625 \nQ 55.078125 64.0625 55.078125 55.328125 \nQ 55.078125 49.078125 51.53125 44.71875 \nQ 48 40.375 41.703125 38.8125 \nQ 48.828125 37.15625 52.796875 32.3125 \nQ 56.78125 27.484375 56.78125 20.515625 \nQ 56.78125 9.90625 50.3125 4.234375 \nQ 43.84375 -1.421875 31.78125 -1.421875 \nQ 19.734375 -1.421875 13.25 4.234375 \nQ 6.78125 9.90625 6.78125 20.515625 \nQ 6.78125 27.484375 10.78125 32.3125 \nQ 14.796875 37.15625 21.921875 38.8125 \nz\nM 18.3125 54.390625 \nQ 18.3125 48.734375 21.84375 45.5625 \nQ 25.390625 42.390625 31.78125 42.390625 \nQ 38.140625 42.390625 41.71875 45.5625 \nQ 45.3125 48.734375 45.3125 54.390625 \nQ 45.3125 60.0625 41.71875 63.234375 \nQ 38.140625 66.40625 31.78125 66.40625 \nQ 25.390625 66.40625 21.84375 63.234375 \nQ 18.3125 60.0625 18.3125 54.390625 \nz\n\" id=\"DejaVuSans-56\"/>\n      </defs>\n      <use xlink:href=\"#DejaVuSans-56\"/>\n     </g>\n    </g>\n   </g>\n   <g id=\"text_15\">\n    <g clip-path=\"url(#p5fd635be16)\">\n     <!-- 9 -->\n     <g transform=\"translate(253.515046 163.194323)scale(0.12 -0.12)\">\n      <defs>\n       <path d=\"M 10.984375 1.515625 \nL 10.984375 10.5 \nQ 14.703125 8.734375 18.5 7.8125 \nQ 22.3125 6.890625 25.984375 6.890625 \nQ 35.75 6.890625 40.890625 13.453125 \nQ 46.046875 20.015625 46.78125 33.40625 \nQ 43.953125 29.203125 39.59375 26.953125 \nQ 35.25 24.703125 29.984375 24.703125 \nQ 19.046875 24.703125 12.671875 31.3125 \nQ 6.296875 37.9375 6.296875 49.421875 \nQ 6.296875 60.640625 12.9375 67.421875 \nQ 19.578125 74.21875 30.609375 74.21875 \nQ 43.265625 74.21875 49.921875 64.515625 \nQ 56.59375 54.828125 56.59375 36.375 \nQ 56.59375 19.140625 48.40625 8.859375 \nQ 40.234375 -1.421875 26.421875 -1.421875 \nQ 22.703125 -1.421875 18.890625 -0.6875 \nQ 15.09375 0.046875 10.984375 1.515625 \nz\nM 30.609375 32.421875 \nQ 37.25 32.421875 41.125 36.953125 \nQ 45.015625 41.5 45.015625 49.421875 \nQ 45.015625 57.28125 41.125 61.84375 \nQ 37.25 66.40625 30.609375 66.40625 \nQ 23.96875 66.40625 20.09375 61.84375 \nQ 16.21875 57.28125 16.21875 49.421875 \nQ 16.21875 41.5 20.09375 36.953125 \nQ 23.96875 32.421875 30.609375 32.421875 \nz\n\" id=\"DejaVuSans-57\"/>\n      </defs>\n      <use xlink:href=\"#DejaVuSans-57\"/>\n     </g>\n    </g>\n   </g>\n   <g id=\"text_16\">\n    <g clip-path=\"url(#p5fd635be16)\">\n     <!-- 10 -->\n     <g transform=\"translate(423.883717 186.745201)scale(0.12 -0.12)\">\n      <use xlink:href=\"#DejaVuSans-49\"/>\n      <use x=\"63.623047\" xlink:href=\"#DejaVuSans-48\"/>\n     </g>\n    </g>\n   </g>\n  </g>\n  <g id=\"axes_3\">\n   <g id=\"LineCollection_3\">\n    <path clip-path=\"url(#p659448acaf)\" d=\"M 561.829675 98.332717 \nL 518.465193 107.531002 \n\" style=\"fill:none;stroke:#000000;\"/>\n    <path clip-path=\"url(#p659448acaf)\" d=\"M 561.829675 98.332717 \nL 599.704248 126.926424 \n\" style=\"fill:none;stroke:#000000;\"/>\n    <path clip-path=\"url(#p659448acaf)\" d=\"M 561.829675 98.332717 \nL 566.188962 53.086838 \n\" style=\"fill:none;stroke:#000000;\"/>\n    <path clip-path=\"url(#p659448acaf)\" d=\"M 518.465193 107.531002 \nL 488.810695 92.626147 \n\" style=\"fill:none;stroke:#000000;\"/>\n    <path clip-path=\"url(#p659448acaf)\" d=\"M 518.465193 107.531002 \nL 495.436353 133.946191 \n\" style=\"fill:none;stroke:#000000;\"/>\n    <path clip-path=\"url(#p659448acaf)\" d=\"M 599.704248 126.926424 \nL 636.096547 154.162271 \n\" style=\"fill:none;stroke:#000000;\"/>\n    <path clip-path=\"url(#p659448acaf)\" d=\"M 566.188962 53.086838 \nL 569.344903 15.848182 \n\" style=\"fill:none;stroke:#000000;\"/>\n    <path clip-path=\"url(#p659448acaf)\" d=\"M 636.096547 154.162271 \nL 648.264864 188.811818 \n\" style=\"fill:none;stroke:#000000;\"/>\n    <path clip-path=\"url(#p659448acaf)\" d=\"M 636.096547 154.162271 \nL 667.848128 152.311717 \n\" style=\"fill:none;stroke:#000000;\"/>\n   </g>\n   <g id=\"PathCollection_3\">\n    <g clip-path=\"url(#p659448acaf)\">\n     <use style=\"fill:#1f78b4;stroke:#1f78b4;\" x=\"561.829675\" xlink:href=\"#md6bf23cb3a\" y=\"98.332717\"/>\n     <use style=\"fill:#1f78b4;stroke:#1f78b4;\" x=\"518.465193\" xlink:href=\"#md6bf23cb3a\" y=\"107.531002\"/>\n     <use style=\"fill:#1f78b4;stroke:#1f78b4;\" x=\"599.704248\" xlink:href=\"#md6bf23cb3a\" y=\"126.926424\"/>\n     <use style=\"fill:#1f78b4;stroke:#1f78b4;\" x=\"566.188962\" xlink:href=\"#md6bf23cb3a\" y=\"53.086838\"/>\n     <use style=\"fill:#1f78b4;stroke:#1f78b4;\" x=\"488.810695\" xlink:href=\"#md6bf23cb3a\" y=\"92.626147\"/>\n     <use style=\"fill:#1f78b4;stroke:#1f78b4;\" x=\"495.436353\" xlink:href=\"#md6bf23cb3a\" y=\"133.946191\"/>\n     <use style=\"fill:#1f78b4;stroke:#1f78b4;\" x=\"636.096547\" xlink:href=\"#md6bf23cb3a\" y=\"154.162271\"/>\n     <use style=\"fill:#1f78b4;stroke:#1f78b4;\" x=\"648.264864\" xlink:href=\"#md6bf23cb3a\" y=\"188.811818\"/>\n     <use style=\"fill:#1f78b4;stroke:#1f78b4;\" x=\"667.848128\" xlink:href=\"#md6bf23cb3a\" y=\"152.311717\"/>\n     <use style=\"fill:#1f78b4;stroke:#1f78b4;\" x=\"569.344903\" xlink:href=\"#md6bf23cb3a\" y=\"15.848182\"/>\n    </g>\n   </g>\n   <g id=\"text_17\">\n    <g clip-path=\"url(#p659448acaf)\">\n     <!-- 0 -->\n     <g transform=\"translate(558.012175 101.643967)scale(0.12 -0.12)\">\n      <use xlink:href=\"#DejaVuSans-48\"/>\n     </g>\n    </g>\n   </g>\n   <g id=\"text_18\">\n    <g clip-path=\"url(#p659448acaf)\">\n     <!-- 3 -->\n     <g transform=\"translate(514.647693 110.842252)scale(0.12 -0.12)\">\n      <use xlink:href=\"#DejaVuSans-51\"/>\n     </g>\n    </g>\n   </g>\n   <g id=\"text_19\">\n    <g clip-path=\"url(#p659448acaf)\">\n     <!-- 7 -->\n     <g transform=\"translate(595.886748 130.237674)scale(0.12 -0.12)\">\n      <use xlink:href=\"#DejaVuSans-55\"/>\n     </g>\n    </g>\n   </g>\n   <g id=\"text_20\">\n    <g clip-path=\"url(#p659448acaf)\">\n     <!-- 9 -->\n     <g transform=\"translate(562.371462 56.398088)scale(0.12 -0.12)\">\n      <use xlink:href=\"#DejaVuSans-57\"/>\n     </g>\n    </g>\n   </g>\n   <g id=\"text_21\">\n    <g clip-path=\"url(#p659448acaf)\">\n     <!-- 6 -->\n     <g transform=\"translate(484.993195 95.937397)scale(0.12 -0.12)\">\n      <use xlink:href=\"#DejaVuSans-54\"/>\n     </g>\n    </g>\n   </g>\n   <g id=\"text_22\">\n    <g clip-path=\"url(#p659448acaf)\">\n     <!-- 2 -->\n     <g transform=\"translate(491.618853 137.257441)scale(0.12 -0.12)\">\n      <use xlink:href=\"#DejaVuSans-50\"/>\n     </g>\n    </g>\n   </g>\n   <g id=\"text_23\">\n    <g clip-path=\"url(#p659448acaf)\">\n     <!-- 4 -->\n     <g transform=\"translate(632.279047 157.473521)scale(0.12 -0.12)\">\n      <use xlink:href=\"#DejaVuSans-52\"/>\n     </g>\n    </g>\n   </g>\n   <g id=\"text_24\">\n    <g clip-path=\"url(#p659448acaf)\">\n     <!-- 5 -->\n     <g transform=\"translate(644.447364 192.123068)scale(0.12 -0.12)\">\n      <use xlink:href=\"#DejaVuSans-53\"/>\n     </g>\n    </g>\n   </g>\n   <g id=\"text_25\">\n    <g clip-path=\"url(#p659448acaf)\">\n     <!-- 1 -->\n     <g transform=\"translate(664.030628 155.622967)scale(0.12 -0.12)\">\n      <use xlink:href=\"#DejaVuSans-49\"/>\n     </g>\n    </g>\n   </g>\n   <g id=\"text_26\">\n    <g clip-path=\"url(#p659448acaf)\">\n     <!-- 8 -->\n     <g transform=\"translate(565.527403 19.159432)scale(0.12 -0.12)\">\n      <use xlink:href=\"#DejaVuSans-56\"/>\n     </g>\n    </g>\n   </g>\n  </g>\n </g>\n <defs>\n  <clipPath id=\"p1321ee0a74\">\n   <rect height=\"190.26\" width=\"196.941176\" x=\"7.2\" y=\"7.2\"/>\n  </clipPath>\n  <clipPath id=\"p5fd635be16\">\n   <rect height=\"190.26\" width=\"196.941176\" x=\"243.529412\" y=\"7.2\"/>\n  </clipPath>\n  <clipPath id=\"p659448acaf\">\n   <rect height=\"190.26\" width=\"196.941176\" x=\"479.858824\" y=\"7.2\"/>\n  </clipPath>\n </defs>\n</svg>\n",
      "image/png": "[encoded data removed]"
     },
     "metadata": {}
    }
   ],
   "source": [
    "import networkx as nx, matplotlib.pyplot as plt\n",
    "%matplotlib inline\n",
    "#隣接リストをnx形式に変換（枝を加える）→描画\n",
    "def drawAdjlistUsingNx(nx_tree, list_adjlist, dic_pos, axval):\n",
    "    for node1 in range(0, len(list_adjlist)):\n",
    "        for node2 in list_adjlist[node1]:\n",
    "            nx_tree.add_edge(node1, node2)\n",
    "    axval.set_axis_off()\n",
    "    nx.draw_networkx(nx_tree, pos=dic_pos, ax=axval)\n",
    "#3つの木を描画\n",
    "fig, npar_axval = plt.subplots(1, 3, figsize=(12, 3.5))\n",
    "#1\n",
    "list_adjlist_test1=[[1, 2], [], [3, 4], [], []]; nx_tree1 = nx.Graph()\n",
    "drawAdjlistUsingNx(nx_tree1, list_adjlist_test1, None, npar_axval[0])\n",
    "#2\n",
    "list_adjlist_test2=[[1, 2, 3], [4, 5], [6, 7, 8, 9], [], [], [10], [], [], [], [], []];nx_tree2 = nx.Graph()\n",
    "drawAdjlistUsingNx(nx_tree2, list_adjlist_test2, None, npar_axval[1])\n",
    "#3\n",
    "list_adjlist_test3=[[3, 7, 9], [], [], [6, 2], [5, 1], [], [], [4], [], [8]];nx_tree3 = nx.Graph()\n",
    "drawAdjlistUsingNx(nx_tree3, list_adjlist_test3, None, npar_axval[2])"
   ]
  },
  {
   "cell_type": "markdown",
   "metadata": {},
   "source": [
    "同じ木を使ってテストしているのにも関わらず、前問のスタックを用いた場合と訪問順が違うことに気が付いたでしょうか。\n",
    "\n",
    "<font color=\"red\">これはどちらも点 `node1` の子を `list_adjlist[node1]` から順に呼び出しているからです。スタックはfor文において最初に呼び出した子供の点を最後に処理しますが、再帰の場合は再帰で呼び出した順に（つまり、最初に呼び出したものを最初に）処理しているからです。</font>\n",
    "\n",
    "また、これまでの問から分かる様に深さ優先探索は再帰を使っても使わなくても書くことが出来ますが、一方で幅優先探索を（合理的に）再帰を使って書くことは困難であることが知られています。興味があれば本当にそうなのか試してみて下さい。\n"
   ]
  },
  {
   "cell_type": "markdown",
   "metadata": {},
   "source": [
    "以下のセルを実行すると解答セルのプログラムの計算量を自動的に評価します。\n",
    "\n",
    "この課題の模範解答の時間計算量は<font color=\"white\"> $O(nk)$ と評価されますが、正しくは $O(m+n)$ です。</font>（←白黒反転しています）  \n",
    "想像（模範解答）よりも大きな計算量となっている場合、どこに問題があるのか考えてみて下さい。"
   ]
  },
  {
   "cell_type": "code",
   "execution_count": 28,
   "metadata": {
    "scrolled": false
   },
   "outputs": [
    {
     "output_type": "execute_result",
     "data": {
      "text/plain": [
       "('時間計算量：O(k), ',\n",
       " '領域計算量：O(n+k)',\n",
       " '解答のコードには適宜コメントを入れて下さい。正しくても評価者が読解できない場合は減点となる可能性があります。')"
      ]
     },
     "metadata": {},
     "execution_count": 28
    }
   ],
   "source": [
    "import utaadevalcpx;dic_varinfo_5_3 = {\"list_adjlist\": [\"list\", set(), {\"n\"}], \"list_adjlist*\": [\"list\", set(), {\"k\"}],}\n",
    "str_code_5_3 = '''...'''\n",
    "utaadevalcpx.evaluateCpx(str_exfilename, \"5-3\", dic_varinfo_5_3, str_code_5_3) # str_exfilenameはファイルの冒頭で定義されています"
   ]
  },
  {
   "cell_type": "markdown",
   "metadata": {},
   "source": [
    "<b>問題の難易度評価：</b>\n",
    "下のセルにこの問の難易度を5段階（1:簡単、2:やや簡単、3:普通、4:やや難しい、5:難しい）で評価して下さい。（次回以降の課題の難易度の調整に使います）\n",
    "また、解答するのにかかった時間や感想などがあれば適宜記載して下さい。"
   ]
  },
  {
   "cell_type": "code",
   "execution_count": null,
   "metadata": {},
   "outputs": [],
   "source": [
    "#難易度（1:簡単、2:やや簡単、3:普通、4:やや難しい、5:難しい）\n",
    "# 2\n",
    "#感想\n"
   ]
  }
 ],
 "metadata": {
  "kernelspec": {
   "name": "python3",
   "display_name": "Python 3.8.5 64-bit ('anaconda3-2020.11': pyenv)"
  },
  "language_info": {
   "codemirror_mode": {
    "name": "ipython",
    "version": 3
   },
   "file_extension": ".py",
   "mimetype": "text/x-python",
   "name": "python",
   "nbconvert_exporter": "python",
   "pygments_lexer": "ipython3",
   "version": "3.8.5"
  },
  "interpreter": {
   "hash": "a431818c351a718070523cad13ac7d11b9de478e70cba2cdc67b2516a549aa04"
  }
 },
 "nbformat": 4,
 "nbformat_minor": 2
}