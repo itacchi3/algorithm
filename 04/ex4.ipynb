{
 "cells": [
  {
   "cell_type": "markdown",
   "metadata": {},
   "source": [
    "# 教養としてのアルゴリズムとデータ構造\n",
    "\n",
    "* 以下の各問について、問の次（もしくはその次）にあるコードセルに解答すること。\n",
    "    * 特に指定がある場合を除いて複数のセルに分けて解答してはならない。\n",
    "* 全ての解答を終えた後に必ずリスタートを実行し、上のセルから順番に実行して各解答が正しく動くことを確認すること。\n",
    " * ただし、ローカル環境で解答する場合、 `!wget...` の記載のあるセルは実行しなくてよい。 \n",
    "* 提出にあたっては、各当該のセルに解答のコードを記入し、それを実行した結果を表示させた後に、保存したこのファイルをITC-LMS経由で提出すること。\n",
    "* 解答のコードには適宜コメントを入れること。\n",
    "* 受講者間の協力は原則許可しない。\n",
    "* 解答がコピペと判断された場合、その解答（コピペ元も含めて）は0点となる可能性があるので注意すること。\n",
    "* 特に指定がない限りモジュールを用いて解答してはならない。\n"
   ]
  },
  {
   "cell_type": "markdown",
   "metadata": {},
   "source": [
    "<b><font color=\"red\">\n",
    "各問に解答するにあたり、以下の点に注意して下さい。\n",
    "\n",
    "1. グラフを大きさ2のタプルを要素とするリストは配布したスライド (03_Tree.ppt, 11ページ) の形式に従うものとします。\n",
    " * 例えば、`[(0, 1), (0, 2), (0, 3), (1, 4), (1, 5), (2, 6), (2, 7)]` の様な値です。\n",
    "2. 隣接リストは授業で配布したスライド (03_Tree.ppt, 14ページ) の形式に従うものとします。  \n",
    " * 例えば、`[[1,2,3], [4, 5], [6, 7], [], [8, 9, 10], [11], [12, 13], [], [], [], [], [], [], []]` の様な値です。\n",
    "3. 隣接行列は授業で配布したスライド (04_Graph.ppt, 10ページ) の形式に従うものとします。  \n",
    " * 例えば、`{(0,1):1, (0,2):1, (0,3):1, (1,0):1, (1,4):1, (1,6):1, (2,5):1, (3,2):1, (3,5):1, (3,6):1, (4,5):1, (4,7):1, (5,4):1, (5,7):1, (7,1):1, (7,3):1 }` の様な値です。 \n",
    "4. `bisect`, `collections (deque)` は使用可能です。\n",
    "\n",
    "</font></b>"
   ]
  },
  {
   "cell_type": "markdown",
   "metadata": {},
   "source": [
    "* ローカル環境で行う場合、課題によってはデータを別にダウンロードする必要があります。\n",
    "* Colaboratoryを利用して課題を行う場合には、最初に以下のセルを実行して下さい。"
   ]
  },
  {
   "cell_type": "code",
   "execution_count": null,
   "metadata": {},
   "outputs": [],
   "source": [
    "!wget https://drive.google.com/uc?id=1f5tjyfqDgcoHYyqedfhRKrmZ-eOGivX7 -O utaadevalcpx.zip\n",
    "!unzip utaadevalcpx.zip\n",
    "!wget https://drive.google.com/uc?id=1iZs6mSXv5yfmB2t41we3FBlMCeFENv3u -O ex4_data2_dblp.zip\n",
    "!unzip ex4_data2_dblp.zip\n",
    "!wget https://drive.google.com/uc?id=1AC1lF5qDNAAZgtcmvg-pMrjHeHT5VXnz -O ex4_data1_dblp_list_edge.zip\n",
    "!unzip ex4_data1_dblp_list_edge.zip\n",
    "!wget https://drive.google.com/uc?id=19pDQWfif8opR5teMeWD8SeeQZVdAdkbr -O ex4_data1_dblp_list_IDToScrName.zip\n",
    "!unzip ex4_data1_dblp_list_IDToScrName.zip\n",
    "!wget https://drive.google.com/uc?id=1hFbWEB0iBtcu8So4hooNY0yOLuHXJbLH -O ex4_data1_dblp_list_IDfam.zip\n",
    "!unzip ex4_data1_dblp_list_IDfam.zip"
   ]
  },
  {
   "cell_type": "markdown",
   "metadata": {},
   "source": [
    "以下のセルは各解答セルのプログラムの計算量を自動的に評価するのに利用します。\n",
    "* ローカル環境で解答している人はファイルを保存してから以下のセルをそのまま実行して下さい（このファイルと同じフォルダ内に `utaadevalcpx.py` があることを確認して下さい）。\n",
    "* Colaboratoryを利用している人は評価用セル内部の `str_code_X_Y  = '''...'''` の `...` に自分の解答をコピペして下さい（`X` と `Y` は問の通し番号です。ファイル冒頭のデータのダウンロードを事前に行う必要があります）。\n",
    "\n",
    "計算量の自動評価は、常に正しい計算量を求められる訳ではありません（<font color=\"red\">正しく求められなかった場合、実際の計算量よりも計算量が少なく求まります</font>）。例えば、以下の様な内容のコードは正しく評価できないことがあります。\n",
    "* 組み込み関数などの名前を別名に変更している\n",
    "* 条件式の使用（例えば、for文中のif文＋`break`など）\n",
    "* while文を使用する\n",
    "\n",
    "計算量の評価を行うセルでエラーが発生しても解答が間違っているという訳ではありません（模範解答とは違う解答である可能性が高いです）。\n",
    "\n",
    "Pythonのバージョンが3.7以外だと、正しく評価されないことが多い様です（Colab.は3.7です）。"
   ]
  },
  {
   "cell_type": "code",
   "execution_count": null,
   "metadata": {},
   "outputs": [],
   "source": [
    "str_exfilename = \"ex4.ipynb\" # ファイル名を変更している場合、ここをその名前に変更する必要があります（ローカル環境のみ/Colab環境では使用しませんが実行はして下さい"
   ]
  },
  {
   "cell_type": "markdown",
   "metadata": {},
   "source": [
    "# 第4回本課題"
   ]
  },
  {
   "cell_type": "markdown",
   "metadata": {},
   "source": [
    "## 3. 幅優先探索を用いたグラフ上の最短距離の算出\n",
    "\n",
    "幅優先探索を用いてグラフの指定された点から各点までの最短距離を求める関数を作成して下さい。\n",
    "\n",
    "具体的には、無向グラフ $G$ を表す大きさ2のタプルを要素とするリスト `list_edge`、$G$ の頂点数 `nodenum` と探索を開始する点（起点）の名前 `stnode` が引数として与えられたとき、 $G$ に対して幅優先探索を行って、起点 `stnode` から各点への最短距離を格納したリスト `list_D` を返す関数 `BFSofGraphForShortestDistances` を作成して下さい。以下の点に注意して解答して下さい。\n",
    "\n",
    "1. 各点は `0` から `nodenum-1` までの整数で表されます。すなわち、 `list_edge` を構成する大きさ2のタプルの要素は、 `0` から `nodenum-1` までの整数です。\n",
    "2. $G$を構成する点$v$と$u$の間に枝がある場合、`(u, v)`、もしくは `(v, u)` が `list_edge` に含まれます。 \n",
    "  * `(u, v)` と `(v, u)` の両方が `list_edge` には含まれることはありません。\n",
    "3. 同じ値は2個以上 `list_edge` には含まれません。\n",
    "4. `list_D` の `i` 番目の要素 `list_D[i]` は、`stnode` から点 `i` までの最短距離を格納します。\n",
    "5. ただし、全ての点は起点からの経路が存在する（到達可能である）様なグラフが引数として与えられるものとします。\n",
    "6. 全ての点は `stnode` から到達可能です。\n",
    "7. 必要な場合は解答用セルの中で定義されている `FIFOClass` を使用して下さい（第3回の課題と使い方は同じです）。\n",
    "\n",
    "なお、各値の大きさは以下の通りとします。\n",
    "* $m =$ $G$ の枝の数\n",
    "* $n =$ $G$ の点の数\n",
    "* $k =$ $G$ の点の中で最大の隣接点数\n",
    "\n",
    "以下のセルの `...` のところを書き換えて解答して下さい。"
   ]
  },
  {
   "cell_type": "code",
   "execution_count": null,
   "metadata": {},
   "outputs": [],
   "source": [
    "### この行のコメントを改変してはいけません %4-3% ### \n",
    "#解答用セル\n",
    "import ... # モジュールを使わない場合、この行は削除して良い\n",
    "#FIFOキュー\n",
    "class FIFOClass:\n",
    "    def __init__(self): # 初期化\n",
    "        self.list_data = []\n",
    "    def enqueue(self, item1): # 要素を最後尾に格納する\n",
    "        self.list_data.append(item1)\n",
    "    def dequeue(self):# 格納されている先頭の要素を取り出す\n",
    "        return self.list_data.pop(0)\n",
    "    def length(self): # リストの長さを返す\n",
    "        return len(self.list_data)\n",
    "def BFSofGraphForShortestDistances(list_edge, nodenum, stnode):\n",
    "    ...\n",
    "    return list_D"
   ]
  },
  {
   "cell_type": "markdown",
   "metadata": {},
   "source": [
    "上のセルで解答を作成した後、以下のセルを実行し、実行結果が `True` になることを確認して下さい。"
   ]
  },
  {
   "cell_type": "code",
   "execution_count": null,
   "metadata": {},
   "outputs": [],
   "source": [
    "list_edge_test1 = [(1, 0), (2, 0), (1, 2), (9, 1), (8, 2), (5, 3), (6, 3), (7, 3), (5, 4), (4, 7), (5, 7), (8, 6), (7, 8)]\n",
    "print(BFSofGraphForShortestDistances(list_edge_test1, 10, 0) == [0, 1, 1, 4, 4, 4, 3, 3, 2, 2])\n",
    "print(BFSofGraphForShortestDistances(list_edge_test1, 10, 9) == [2, 1, 2, 5, 5, 5, 4, 4, 3, 0])\n",
    "print(BFSofGraphForShortestDistances(list_edge_test1, 10, 7) == [3, 3, 2, 1, 1, 1, 2, 0, 1, 4])"
   ]
  },
  {
   "cell_type": "markdown",
   "metadata": {},
   "source": [
    "以下のセルを実行すると解答セルのプログラムの計算量を自動的に評価します。\n",
    "\n",
    "この課題の模範解答の時間計算量は<font color=\"white\"> $O(m+n)$ と評価されます。</font>（←白黒反転しています）  \n",
    "想像（模範解答）よりも大きな計算量となっている場合、どこに問題があるのか考えてみて下さい。"
   ]
  },
  {
   "cell_type": "code",
   "execution_count": null,
   "metadata": {},
   "outputs": [],
   "source": [
    "import utaadevalcpx;dic_varinfo_4_3 = {\"list_edge\": [\"list\", set(), {\"m\"}],\"nodenum\": [\"int\", set(), {\"n\"}],}\n",
    "str_code_4_3 = '''...'''\n",
    "utaadevalcpx.evaluateCpx(str_exfilename, \"4-3\", dic_varinfo_4_3, str_code_4_3) # str_exfilenameはファイルの冒頭で定義されています"
   ]
  },
  {
   "cell_type": "markdown",
   "metadata": {},
   "source": [
    "なお、`list_edge_test1` は以下の様なグラフになっています。"
   ]
  },
  {
   "cell_type": "code",
   "execution_count": null,
   "metadata": {},
   "outputs": [],
   "source": [
    "import networkx as nx, matplotlib.pyplot as plt\n",
    "%matplotlib inline\n",
    "#隣接リストをnx形式に変換（枝を加える）→描画\n",
    "def drawEdgesUsingNx(nx_tree, list_edge, dic_pos, axval):\n",
    "    for edge1 in list_edge:\n",
    "        nx_tree.add_edge(edge1[0], edge1[1])\n",
    "    axval.set_axis_off()\n",
    "    nx.draw_networkx(nx_tree, pos=dic_pos, ax=axval)\n",
    "#1つの木を描画\n",
    "fig, npar_axval = plt.subplots(1, 1, figsize=(6, 4))\n",
    "#1\n",
    "list_edge_test1 = [(1, 0), (2, 0), (1, 2), (9, 1), (8, 2), (5, 3), (6, 3), (7, 3), (5, 4), (4, 7), (5, 7), (8, 6), (7, 8)]\n",
    "nx_graph1 = nx.Graph()\n",
    "drawEdgesUsingNx(nx_graph1, list_edge_test1, None, npar_axval)"
   ]
  },
  {
   "cell_type": "markdown",
   "metadata": {},
   "source": [
    "計算機科学分野の論文情報を公開しているDBLPというサイト ( https://dblp.uni-trier.de/ ) から著者の共著関係を無向グラフ（論文執筆者を頂点、共著で論文で執筆したことがある執筆者同士の間に枝があるとみなす）として用意しました。\n",
    "\n",
    "このグラフには例えば、次の様な著名人が含まれます。\n",
    "\n",
    "頂点の番号 | 著者名 | 概要 \n",
    " - | - | - \n",
    "<font color=#008b8b>291399</font> | <font color=#008b8b>Shapley, Lloyd S.</font> | 2012年のノーベル経済学賞の受賞者。東大の進振りにも彼の考案したアルゴリズムが使われているとかいないとか\n",
    "<font color=#ff7f50>275409</font> | <font color=#ff7f50>Roth, Alvin E.</font> | 2012年のノーベル経済学賞の受賞者\n",
    "<font color=#006400>13067</font> | <font color=#006400>Allen, Paul G.</font> | マイクロソフトの創業者。沈没した軍艦を引き上げたりしている人の方\n",
    "<font color=#aa4500>102714</font> | <font color=#aa4500>Gates, William H.</font> | マイクロソフトの創業者\n",
    "<font color=#2f4f8f>234636</font> | <font color=#2f4f8f>Neumann, John von</font> | ノイマン型計算機の考案者\n",
    "<font color=#c71585>60161</font> | <font color=#c71585>Chomsky, Noam</font> | 色々なところに顔を出す言語学者\n",
    "<font color=#2e8b57>275334</font> | <font color=#2e8b57>Rossum, Guido van</font> | Ptyhonの考案者\n",
    "<font color=#00008b>75861</font> | <font color=#00008b>Dijkstra, Edsger W.</font> | 計算機科学者。ダイクストラ。オランダ人"
   ]
  },
  {
   "cell_type": "markdown",
   "metadata": {},
   "source": [
    "試しに、Shapley （安定マッチングの研究者）から各人物までの最短距離を求めてみましょう。以下のセルを実行し、実行結果が `True` になることを確認して下さい（実装方法によっては時間がかかります）。"
   ]
  },
  {
   "cell_type": "code",
   "execution_count": null,
   "metadata": {},
   "outputs": [],
   "source": [
    "import json\n",
    "if 'list_dblp_edge' not in globals(): \n",
    "    with open(\"ex4_data1_dblp_list_edge.json\", \"r\", encoding=\"utf-8\") as f:\n",
    "        list_dblp_edge = json.load(f)\n",
    "dblp_nodenum = 390192\n",
    "dblp_stnode = 291399\n",
    "list_dblp_edgetup = []\n",
    "for node1, node2 in list_dblp_edge:\n",
    "    list_dblp_edgetup.append((node1, node2))\n",
    "list_dblp_D = BFSofGraphForShortestDistances(list_dblp_edgetup, dblp_nodenum, dblp_stnode)\n",
    "print(list_dblp_D[0:10]==[6, 7, 5, 5, 6, 7, 5, 5, 5, 5])"
   ]
  },
  {
   "cell_type": "markdown",
   "metadata": {},
   "source": [
    "上記の著名人から Shapley までの距離と Shapley から一番遠い著者までの距離を調べてみましょう。"
   ]
  },
  {
   "cell_type": "code",
   "execution_count": null,
   "metadata": {},
   "outputs": [],
   "source": [
    "if 'list_dblp_IDfam' not in globals(): \n",
    "    with open(\"ex4_data1_dblp_list_IDfam.json\", \"r\", encoding=\"utf-8\") as f:\n",
    "        list_dblp_IDfam = json.load(f)\n",
    "for node1, name1, str1 in list_dblp_IDfam:\n",
    "    print(name1, list_dblp_D[node1])\n",
    "print(\"一番遠い著者までの距離: \", max(list_dblp_D))"
   ]
  },
  {
   "cell_type": "markdown",
   "metadata": {},
   "source": [
    "同時にノーベル賞を受賞した Roth とは以外に距離がありますね。`ex4_data1_dblp_list_IDToScrName.json` には、通し番号 `i` の著者を `i` 番目に格納したリストが保存してあります。興味があれば色々と調べてみて下さい。"
   ]
  },
  {
   "cell_type": "markdown",
   "metadata": {},
   "source": [
    "最後に著名人とShapleyの関係を最短距離に基づいて可視化してみます。"
   ]
  },
  {
   "cell_type": "code",
   "execution_count": null,
   "metadata": {},
   "outputs": [],
   "source": [
    "%matplotlib inline\n",
    "import networkx as nx, matplotlib.pyplot as plt\n",
    "#著名人の最短距離を描画\n",
    "def drawShortestDistances(nx_g1, list_edge, list_D, set_node, set_colnode, dic_nodecol):\n",
    "    list_nodecol = []\n",
    "    list_nodesize = []\n",
    "    plt.figure(figsize=(12, 8))\n",
    "    set_fin = set()\n",
    "    maxdis = max(list_D)\n",
    "    for node1, node2 in list_edge:\n",
    "        if node1 not in set_node or node2 not in set_node:\n",
    "            continue\n",
    "        setColAndSize(nx_g1, node1, list_D, maxdis, dic_nodecol, set_fin, list_nodecol, list_nodesize)\n",
    "        setColAndSize(nx_g1, node2, list_D, maxdis, dic_nodecol, set_fin, list_nodecol, list_nodesize)\n",
    "        nx_g1.add_edge(node1, node2)\n",
    "    nx.draw_networkx(nx_g1, node_size=list_nodesize, node_color=list_nodecol)\n",
    "    plt.axis('off')\n",
    "    plt.show()\n",
    "#色と大きさを設定\n",
    "def setColAndSize(nx_g1, node1, list_D, maxdis, dic_nodecol, set_fin, list_nodecol, list_nodesize):\n",
    "    if node1 not in set_fin:\n",
    "        nx_g1.add_node(node1)\n",
    "        if node1 in  dic_nodecol:\n",
    "            col1 = dic_nodecol[node1]\n",
    "        else:\n",
    "            col1 = \"#b0b0b0\"\n",
    "        list_nodecol.append(col1)\n",
    "        size1 = int(maxdis/(list_D[node1]+1)) * 60 + 50\n",
    "        list_nodesize.append(size1)\n",
    "        set_fin.add(node1)\n",
    "    return\n",
    "#\n",
    "nx_g1 = nx.Graph()\n",
    "set_dblp_node = {381313, 60161, 234883, 172290, 275334, 13576, 27147, 13067, 234636, 175641, 275360, 349222, 41127, 27435, 108212, 102714, 291399, 8520, 275409, 75861, 270182, 74983, 86394, 247411, 112243, 81400, 146554, 151293}\n",
    "set_dblp_fam = {60161, 275334, 291399, 13067, 234636, 275409, 75861, 102714}\n",
    "dic_dblp_nodecol = {291399: '#008b8b', 275409: '#ff7f50', 13067: '#006400', 102714: '#aa4500', 234636: '#2f4f8f', 60161: '#c71585', 275334: '#2e8b57', 75861: '#00008b'}\n",
    "drawShortestDistances(nx_g1, list_dblp_edge, list_dblp_D, set_dblp_node, set_dblp_fam, dic_dblp_nodecol)"
   ]
  },
  {
   "cell_type": "markdown",
   "metadata": {},
   "source": [
    "<b>問題の難易度評価：</b>\n",
    "下のセルにこの問の難易度を5段階（1:簡単、2:やや簡単、3:普通、4:やや難しい、5:難しい）で評価して下さい。（次回以降の課題の難易度の調整に使います）\n",
    "また、解答するのにかかった時間や感想などがあれば適宜記載して下さい。"
   ]
  },
  {
   "cell_type": "code",
   "execution_count": null,
   "metadata": {},
   "outputs": [],
   "source": [
    "#難易度（1:簡単、2:やや簡単、3:普通、4:やや難しい、5:難しい）\n",
    "\n",
    "#感想\n"
   ]
  },
  {
   "cell_type": "markdown",
   "metadata": {},
   "source": [
    "## 4. グラフ上の点の統合\n",
    "\n",
    "論文の共著関係をグラフと見なした場合、例えば、$n$人の論文執筆者がある程度互いに共著者になったことがあると、それを表す$n$個の頂点の2頂点間には殆ど枝が存在することになります。\n",
    "\n",
    "この様な関係が成立する執筆者たちは、論文執筆に関わる同じ集団（グループ、コミュニティ）に属していると見なすことが出来ますので、その様な集団を1つの頂点とみなしたグラフを考えることが出来ます。\n",
    "\n",
    "次のセルを実行してみて下さい（`networkx` が上手く動かない人はColaboratoryで確認して下さい）。"
   ]
  },
  {
   "cell_type": "code",
   "execution_count": null,
   "metadata": {},
   "outputs": [],
   "source": [
    "import networkx as nx, matplotlib.pyplot as plt, random\n",
    "%matplotlib inline\n",
    "random.seed(a=0)\n",
    "Graph1 = nx.Graph()\n",
    "for c in range(4):\n",
    "    for i in range(6):\n",
    "        for j in range(6):\n",
    "            if random.randint(0, 2) == 0:\n",
    "                continue\n",
    "            node1 = i + 6 * c\n",
    "            node2 = j + 6 * c\n",
    "            Graph1.add_edge(node1, node2)\n",
    "Graph1.add_edge(0, 6)\n",
    "Graph1.add_edge(0, 10)\n",
    "Graph1.add_edge(0, 16)\n",
    "Graph1.add_edge(6, 12)\n",
    "Graph1.add_edge(9, 13)\n",
    "Graph1.add_edge(3, 20)\n",
    "Graph1.add_edge(3, 23)\n",
    "plt.figure(figsize=(10, 10))\n",
    "nx.draw_networkx(Graph1, pos = nx.spring_layout(Graph1))\n",
    "plt.axis('off')\n",
    "plt.show();"
   ]
  },
  {
   "cell_type": "markdown",
   "metadata": {},
   "source": [
    "上記の表示されたグラフの `0` から `5` 、 `6` から `11` 、 `12` から `17` 、 `18` から `23` の4つの頂点の集合をそれぞれ1つの頂点とみなし、それらの頂点の名前を `0, 6, 12, 18` として新しいグラフを作成した場合、その様子を描画してみたものが以下のセルを実行して表示されるグラフです。"
   ]
  },
  {
   "cell_type": "code",
   "execution_count": null,
   "metadata": {},
   "outputs": [],
   "source": [
    "Graph2 = nx.Graph()\n",
    "Graph2.add_edge(0, 6)\n",
    "Graph2.add_edge(0, 12)\n",
    "Graph2.add_edge(6, 12)\n",
    "Graph2.add_edge(0, 18)\n",
    "nx.draw_networkx(Graph2, pos = nx.spring_layout(Graph2))\n",
    "plt.axis('off')\n",
    "plt.show();"
   ]
  },
  {
   "cell_type": "markdown",
   "metadata": {},
   "source": [
    "このとき、1つの頂点とみなされた頂点集合の中の頂点間の枝は全て消えてしまいました（例えば、元のグラフの点 `0` と点 `1` や点 `6` と点 `10` の間の枝）。\n",
    "\n",
    "一方、異なる集合間にも多少の枝がありました。例えば、点 `0` から点 `10` への枝 $e_1$ 、点 `9` から点 `13` への枝 $e_2$ 、点 `9` から点 `13` への枝 $e_3$ のことです。\n",
    "\n",
    "これらの枝は2つの集合間の枝として残っており、 $e_1$ は新しいグラフの点 `0` から点 `6` への枝、$e_2$ と $e_3$ は新しいグラフの点 `6` から点 `12` への1つの枝として存在しています。"
   ]
  },
  {
   "cell_type": "markdown",
   "metadata": {},
   "source": [
    "計算機科学分野の論文情報を公開しているDBLPというサイト ( https://dblp.uni-trier.de/ ) から著者の共著関係を隣接行列形式の無向グラフとして用意しました。\n",
    "\n",
    "そこで、そのグラフからある程度密な共著関係を形成している集団を1つの頂点とみなした新しい無向グラフを作成することを考えます。\n",
    "\n",
    "具体的には、無向グラフ $G$ を表す大きさ2のタプルを要素とするリスト `list_edge` と $G$ の頂点数 `nodenum` と $G$ の幾つかの点の名前を格納したリスト `list_node` が引数として与えられた際、 `list_node` の点を1つにまとめたグラフ（隣接リスト、もしくは隣接行列）を返す関数 `contractor` を作成して下さい。以下の点に注意して解答して下さい（複数の点を1つにまとめることを「統合する」と呼ぶことにします）。\n",
    "\n",
    "1. 各点は `0` から `nodenum-1` までの整数で表されます。\n",
    "2. `list_node` に含まれる点を統合する際、 `list_node[0]` の点に統合する様にして下さい。具体的には、統合は以下の手順で行います。\n",
    "    1. `list_node[0]` 以外の `list_node` の点と `list_node` に含まれない点 `v` の間の枝は削除して、  `list_node[0]` と `v` の間の枝を付け足します。\n",
    "    2. `list_node` に含まれる点同士の枝は全て削除します。\n",
    "        * 例えば、`list_node = [4, 2, 7]` かつ点 `2` と点 `5` の間に枝がある場合、返り値のグラフはその枝を含みません。代わりに、点 `4` と点 `5` との間には枝が存在します。  \n",
    "        * 点 `2` と点 `7` の間に枝がある場合、返り値のグラフはそれらを含みません。\n",
    "\n",
    "\n",
    "\n",
    "なお、各値の大きさは以下の通りとします。\n",
    "* $m =$ $G$ の枝の数\n",
    "* $n =$ $G$ の点の数\n",
    "* $k =$ `list_node` の点数\n",
    "\n",
    "以下のセルの `...` のところを書き換えて解答して下さい。"
   ]
  },
  {
   "cell_type": "code",
   "execution_count": null,
   "metadata": {},
   "outputs": [],
   "source": [
    "### この行のコメントを改変してはいけません %4-4% ### \n",
    "#解答用セル\n",
    "import ... # モジュールを使わない場合、この行は削除して良い\n",
    "def contractor(list_edge, nodenum, list_node):\n",
    "    ...\n",
    "    return ..."
   ]
  },
  {
   "cell_type": "markdown",
   "metadata": {},
   "source": [
    "上のセルで解答を作成した後、以下のセルを実行し、実行結果が全て `True` になることを確認して下さい。"
   ]
  },
  {
   "cell_type": "code",
   "execution_count": null,
   "metadata": {},
   "outputs": [],
   "source": [
    "# test1\n",
    "list_edge_test1 = [(0, 4), (7, 6), (7, 4), (5, 3), (2, 4), (1, 2)]\n",
    "res_test1 = contractor(list_edge_test1, 8, [2, 7, 1])\n",
    "res_adjlist_test1 = sum([len(list1) for list1 in res_test1])==8, res_test1 == [[4], [], [4, 6], [5], [0, 2], [3], [2], []]\n",
    "res_adjmatrix_test1 = len(res_test1)==8, res_test1 == {(0, 4): 1, (2, 4): 1, (2, 6): 1, (3, 5): 1, (4, 0): 1, (4, 2): 1, (5, 3): 1, (6, 2): 1}\n",
    "print(\"test1:\", res_adjlist_test1[0] or res_adjmatrix_test1[0], res_adjlist_test1[1] or res_adjmatrix_test1[1])\n",
    "# test2\n",
    "list_edge_test2 = [(1, 0), (0, 2), (1, 4), (6, 3), (1, 2), (5, 2), (7, 2), (8, 2)]\n",
    "res_test2 = contractor(list_edge_test2, 9, [6, 3])\n",
    "res_adjlist_test2 = sum([len(list1) for list1 in res_test2 ])==14, res_test2==[[1, 2], [0, 2, 4], [0, 1, 5, 7, 8], [], [1], [2], [], [2], [2]]\n",
    "res_adjmatrix_test2 = (len(res_test2)==14, res_test2=={(1, 0): 1, (0, 1): 1, (0, 2): 1, (2, 0): 1, (1, 4): 1, (4, 1): 1, (1, 2): 1, (2, 1): 1, (5, 2): 1, (2, 5): 1, (7, 2): 1, (2, 7): 1, (8, 2): 1, (2, 8): 1})\n",
    "print(\"test2:\", res_adjlist_test2[0] or res_adjmatrix_test2[0], res_adjlist_test2[1] or res_adjmatrix_test2[1])"
   ]
  },
  {
   "cell_type": "markdown",
   "metadata": {},
   "source": [
    "なお、テストで用いているグラフは以下の様な形になっています。"
   ]
  },
  {
   "cell_type": "code",
   "execution_count": null,
   "metadata": {},
   "outputs": [],
   "source": [
    "import networkx as nx, matplotlib.pyplot as plt\n",
    "%matplotlib inline\n",
    "#隣接リストをnx形式に変換（枝を加える）→描画\n",
    "def drawEdgesUsingNx(nx_tree, list_edge, dic_pos, axval):\n",
    "    for edge1 in list_edge:\n",
    "        nx_tree.add_edge(edge1[0], edge1[1])\n",
    "    axval.set_axis_off()\n",
    "    nx.draw_networkx(nx_tree, pos=dic_pos, ax=axval)\n",
    "#2つの木を描画\n",
    "fig, npar_axval = plt.subplots(1, 2, figsize=(7, 4))\n",
    "#1\n",
    "list_edge_test1 = [(0, 4), (7, 6), (7, 4), (5, 3), (2, 4), (1, 2)]\n",
    "nx_graph1 = nx.Graph()\n",
    "drawEdgesUsingNx(nx_graph1, list_edge_test1, None, npar_axval[0])\n",
    "#2\n",
    "list_edge_test2 = [(1, 0), (0, 2), (1, 4), (6, 3), (1, 2), (5, 2), (7, 2), (8, 2)]\n",
    "nx_graph2 = nx.Graph()\n",
    "drawEdgesUsingNx(nx_graph2, list_edge_test2, None, npar_axval[1])"
   ]
  },
  {
   "cell_type": "markdown",
   "metadata": {},
   "source": [
    "以下のセルを実行すると解答セルのプログラムの計算量を自動的に評価します。\n",
    "\n",
    "この課題の模範解答の時間計算量は<font color=\"white\"> $O(m+nk)$ と評価されます。</font>（←白黒反転しています）  \n",
    "想像（模範解答）よりも大きな計算量となっている場合、どこに問題があるのか考えてみて下さい。"
   ]
  },
  {
   "cell_type": "code",
   "execution_count": null,
   "metadata": {
    "scrolled": false
   },
   "outputs": [],
   "source": [
    "import utaadevalcpx;dic_varinfo_4_4 = {\"list_edge\": [\"list\", set(), {\"m\"}],\"nodenum\": [\"int\", set(), {\"n\"}],\"list_node\": [\"list\", set(), {\"k\"}],}\n",
    "str_code_4_4 = '''...'''\n",
    "utaadevalcpx.evaluateCpx(str_exfilename, \"4-4\", dic_varinfo_4_4, str_code_4_4) # str_exfilenameはファイルの冒頭で定義されています"
   ]
  },
  {
   "cell_type": "markdown",
   "metadata": {},
   "source": [
    "では、この関数を使って実際にDBLPのグラフの点を統合してみましょう。（最初のグラフとは別のグラフですが、）このグラフは、点数が `6252` 、枝の数が `39230` あり、 `543` 個の点を1つに統合したりしますので、実装の仕方によっては時間がかかります。"
   ]
  },
  {
   "cell_type": "code",
   "execution_count": null,
   "metadata": {
    "scrolled": false
   },
   "outputs": [],
   "source": [
    "import json, bisect, networkx as nx, matplotlib.pyplot as plt\n",
    "%matplotlib inline\n",
    "if 'list_dblp_edge2' not in globals(): \n",
    "    with open(\"ex4_data2_dblp_list_edge.json\", \"r\", encoding=\"utf-8\") as f:\n",
    "        list_dblp_tmp = json.load(f)\n",
    "    list_dblp_edge2 = []\n",
    "    for edge1 in list_dblp_tmp:\n",
    "        list_dblp_edge2.append((edge1[0], edge1[1]))\n",
    "dblp_nodenum2 = 6252\n",
    "with open(\"ex4_data2_dblp_list_FID.json\", \"r\", encoding=\"utf-8\") as f:\n",
    "    list_dblp_FID2 = json.load(f)\n",
    "with open(\"ex4_data2_dblp_list_nodeinfo.json\", \"r\", encoding=\"utf-8\") as f:\n",
    "    list_dblp_nodeinfo = json.load(f)\n",
    "for list_dblp_node in list_dblp_nodeinfo:\n",
    "    if len(list_dblp_node) == 1:\n",
    "        continue\n",
    "    restmp = contractor(list_dblp_edge2, dblp_nodenum2, list_dblp_node)\n",
    "    if type(restmp) is list:# 隣接リスト\n",
    "        list_dblp_edge2 = []\n",
    "        for node1, list_adj in enumerate(restmp):\n",
    "            for node2 in list_adj:\n",
    "                list_dblp_edge2.append(node1, node2)\n",
    "    else: # 隣接行列 \n",
    "        list_dblp_edge2 = list(restmp.keys())\n",
    "nx_dblp_graph2 = nx.Graph();list_dblp_nodesize2 = [];list_dblp_nodecol2 = [];dic_dblp_drawnnode2 = {}\n",
    "for list_dblp_node in list_dblp_nodeinfo:\n",
    "    f1 = False\n",
    "    for j in range(len(list_dblp_FID2)):\n",
    "        index1 = bisect.bisect_left(list_dblp_node, list_dblp_FID2[j][0])\n",
    "        if index1 < len(list_dblp_node) and list_dblp_node[index1] == list_dblp_FID2[j][0]:\n",
    "            list_dblp_nodecol2.append(list_dblp_FID2[j][3])\n",
    "            f1 = True\n",
    "            break\n",
    "    dic_dblp_drawnnode2[list_dblp_node[0]] = False\n",
    "    if f1 is False and len(list_dblp_node) < 3:\n",
    "        continue\n",
    "    dic_dblp_drawnnode2[list_dblp_node[0]] = True    \n",
    "    nx_dblp_graph2.add_node(list_dblp_node[0])\n",
    "    list_dblp_nodesize2.append(300 * len(list_dblp_node) * 0.5)\n",
    "    if f1 is False:\n",
    "        list_dblp_nodecol2.append(\"#ffffaa\")\n",
    "for edge1 in list_dblp_edge2:\n",
    "    if dic_dblp_drawnnode2[edge1[0]] is True and dic_dblp_drawnnode2[edge1[1]] is True:\n",
    "        nx_dblp_graph2.add_edge(edge1[0], edge1[1])\n",
    "plt.figure(figsize=(30, 30))\n",
    "nx.draw_networkx(nx_dblp_graph2, pos=nx.shell_layout(nx_dblp_graph2), node_color=list_dblp_nodecol2, node_size=list_dblp_nodesize2, alpha=0.7)\n",
    "plt.axis('off')\n",
    "plt.show();"
   ]
  },
  {
   "cell_type": "markdown",
   "metadata": {},
   "source": [
    "頂点の大きさは、頂点に統合されている点の数に比例しています。また、以下の著名人が上記のグラフには含まれます。\n",
    "\n",
    "頂点の番号 | 著者名 | 概要 \n",
    " - | - | - \n",
    "<font color=#008b8b>1373</font> | <font color=#008b8b>Shapley, Lloyd S.</font> | 2012年のノーベル経済学賞の受賞者。東大の進振りにも彼の考案したアルゴリズムが使われているとかいないとか\n",
    "<font color=#ff7f50>4340</font> | <font color=#ff7f50>Roth, Alvin E.</font> | 2012年のノーベル経済学賞の受賞者\n",
    "<font color=#006400>0</font> | <font color=#006400>Allen, Paul G.</font> | マイクロソフトの創業者。沈没した軍艦を引き上げたりしている方の人\n",
    "<font color=#ff4500>1547</font> | <font color=#ff4500>Gates, William H.</font> | マイクロソフトの創業者\n",
    "<font color=#2f4f4f>5193</font> | <font color=#2f4f4f>Turing, Alan M.</font> | 計算機の原モデルを考案した数学者\n",
    "<font color=#c71585>1640</font> | <font color=#c71585>Neumann, John von</font> | ノイマン型計算機の考案者\n",
    "<font color=#2e8b57>230</font> | <font color=#2e8b57>Chomsky, Noam</font> | 色々なところに顔を出す言語学者\n",
    "<font color=#00008b>258</font> | <font color=#00008b>Rossum, Guido van</font> | Ptyhonの考案者\n",
    "<font color=#a0522d>3661</font> | <font color=#a0522d>Nash, John F., Jr.</font> | 1994年のノーベル経済学賞の受賞者"
   ]
  },
  {
   "cell_type": "markdown",
   "metadata": {},
   "source": [
    "<b>問題の難易度評価：</b>\n",
    "下のセルにこの問の難易度を5段階（1:簡単、2:やや簡単、3:普通、4:やや難しい、5:難しい）で評価して下さい。（次回以降の課題の難易度の調整に使います）\n",
    "また、解答するのにかかった時間や感想などがあれば適宜記載して下さい。"
   ]
  },
  {
   "cell_type": "code",
   "execution_count": null,
   "metadata": {},
   "outputs": [],
   "source": [
    "#難易度（1:簡単、2:やや簡単、3:普通、4:やや難しい、5:難しい）\n",
    "\n",
    "#感想\n"
   ]
  }
 ],
 "metadata": {
  "kernelspec": {
   "display_name": "Python 3",
   "language": "python",
   "name": "python3"
  },
  "language_info": {
   "codemirror_mode": {
    "name": "ipython",
    "version": 3
   },
   "file_extension": ".py",
   "mimetype": "text/x-python",
   "name": "python",
   "nbconvert_exporter": "python",
   "pygments_lexer": "ipython3",
   "version": "3.7.4"
  }
 },
 "nbformat": 4,
 "nbformat_minor": 2
}
