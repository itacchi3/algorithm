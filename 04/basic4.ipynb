{
 "cells": [
  {
   "cell_type": "markdown",
   "metadata": {},
   "source": [
    "# 教養としてのアルゴリズムとデータ構造\n",
    "\n",
    "* 以下の各問について、問の次（もしくはその次）にあるコードセルに解答すること。\n",
    "    * 特に指定がある場合を除いて複数のセルに分けて解答してはならない。\n",
    "* 全ての解答を終えた後に必ずリスタートを実行し、上のセルから順番に実行して各解答が正しく動くことを確認すること。\n",
    " * ただし、ローカル環境で解答する場合、 `!wget...` の記載のあるセルは実行しなくてよい。 \n",
    "* 提出にあたっては、各当該のセルに解答のコードを記入し、それを実行した結果を表示させた後に、保存したこのファイルをITC-LMS経由で提出すること。\n",
    "* 解答のコードには適宜コメントを入れること。\n",
    "* 受講者間の協力は原則許可しない。\n",
    "* 解答がコピペと判断された場合、その解答（コピペ元も含めて）は0点となる可能性があるので注意すること。\n",
    "* 特に指定がない限りモジュールを用いて解答してはならない。\n"
   ]
  },
  {
   "cell_type": "markdown",
   "metadata": {},
   "source": [
    "<b><font color=\"red\">\n",
    "各問に解答するにあたり、以下の点に注意して下さい。\n",
    "\n",
    "1. グラフを大きさ2のタプルを要素とするリストは配布したスライド (03_Tree.ppt, 11ページ) の形式に従うものとします。\n",
    " * 例えば、`[(0, 1), (0, 2), (0, 3), (1, 4), (1, 5), (2, 6), (2, 7)]` の様な値です。\n",
    "2. 隣接リストは授業で配布したスライド (03_Tree.ppt, 14ページ) の形式に従うものとします。  \n",
    " * 例えば、`[[1,2,3], [4, 5], [6, 7], [], [8, 9, 10], [11], [12, 13], [], [], [], [], [], [], []]` の様な値です。\n",
    "3. 隣接行列は授業で配布したスライド (04_Graph.ppt, 10ページ) の形式に従うものとします。  \n",
    " * 例えば、`{(0,1):1, (0,2):1, (0,3):1, (1,0):1, (1,4):1, (1,6):1, (2,5):1, (3,2):1, (3,5):1, (3,6):1, (4,5):1, (4,7):1, (5,4):1, (5,7):1, (7,1):1, (7,3):1 }` の様な値です。 \n",
    "4. `bisect`, `collections (deque)` は使用可能です。\n",
    "\n",
    "</font></b>"
   ]
  },
  {
   "cell_type": "markdown",
   "metadata": {},
   "source": [
    "* ローカル環境で行う場合、課題によってはデータを別にダウンロードする必要があります。\n",
    "* Colaboratoryを利用して課題を行う場合には、最初に以下のセルを実行して下さい。"
   ]
  },
  {
   "cell_type": "code",
   "execution_count": null,
   "metadata": {},
   "outputs": [],
   "source": [
    "!wget https://drive.google.com/uc?id=1f5tjyfqDgcoHYyqedfhRKrmZ-eOGivX7 -O utaadevalcpx.zip\n",
    "!unzip utaadevalcpx.zip"
   ]
  },
  {
   "cell_type": "markdown",
   "metadata": {},
   "source": [
    "以下のセルは各解答セルのプログラムの計算量を自動的に評価するのに利用します。\n",
    "* ローカル環境で解答している人はファイルを保存してから以下のセルをそのまま実行して下さい（このファイルと同じフォルダ内に `utaadevalcpx.py` があることを確認して下さい）。\n",
    "* Colaboratoryを利用している人は評価用セル内部の `str_code_X_Y  = '''...'''` の `...` に自分の解答をコピペして下さい（`X` と `Y` は問の通し番号です。ファイル冒頭のデータのダウンロードを事前に行う必要があります）。\n",
    "\n",
    "計算量の自動評価は、常に正しい計算量を求められる訳ではありません（<font color=\"red\">正しく求められなかった場合、実際の計算量よりも計算量が少なく求まります</font>）。例えば、以下の様な内容のコードは正しく評価できないことがあります。\n",
    "* 組み込み関数などの名前を別名に変更している\n",
    "* 条件式の使用（例えば、for文中のif文＋`break`など）\n",
    "* while文を使用する\n",
    "\n",
    "計算量の評価を行うセルでエラーが発生しても解答が間違っているという訳ではありません（模範解答とは違う解答である可能性が高いです）。\n",
    "\n",
    "Pythonのバージョンが3.7以外だと、正しく評価されないことが多い様です（Colab.は3.7です）。"
   ]
  },
  {
   "cell_type": "code",
   "execution_count": null,
   "metadata": {},
   "outputs": [],
   "source": [
    "str_exfilename = \"basic4.ipynb\" # ファイル名を変更している場合、ここをその名前に変更する必要があります（ローカル環境のみ/Colab環境では使用しませんが実行はして下さい"
   ]
  },
  {
   "cell_type": "markdown",
   "metadata": {},
   "source": [
    "# 第4回基礎課題"
   ]
  },
  {
   "cell_type": "markdown",
   "metadata": {},
   "source": [
    "## 1. 有向グラフの隣接リストの作成\n",
    "\n",
    "<font color=\"#990000\">有向グラフ</font> $G$ を表す大きさ2のタプルを要素とするリスト `list_edge` と $G$ の頂点数 `nodenum` が引数として与えられ、$G$ の点と枝を表す隣接リスト `list_adjlist` を返す関数 `getAdjListOfDirectedGraphFromEdges` を作成して下さい。以下の点に注意して解答して下さい。\n",
    "\n",
    "1. 各点は `0` から `nodenum-1` までの整数で表されます。すなわち、 `list_edge` を構成する大きさ2のタプルの要素は、 `0` から `nodenum-1` までの整数です。\n",
    "2. $G$を構成する点$v$から$u$への間に枝がある場合、`(v, u)` が `list_edge` に含まれます。\n",
    "3. 同じ値は2個以上 `list_edge` には含まれません。\n",
    "4. 各点の隣接リストは昇順に並べ替えて下さい。\n",
    "\n",
    "なお、各値の大きさは以下の通りとします。\n",
    "* $m =$ $G$ の枝の数\n",
    "* $n =$ $G$ の点の数\n",
    "* $k =$ $G$ の点の中で最大の隣接点数\n",
    "\n",
    "以下のセルの `...` のところを書き換えて解答して下さい。"
   ]
  },
  {
   "cell_type": "code",
   "execution_count": null,
   "metadata": {},
   "outputs": [],
   "source": [
    "### この行のコメントを改変してはいけません %4-1% ### \n",
    "#解答用セル\n",
    "import ... # モジュールを使わない場合、この行は削除して良い\n",
    "def getAdjListOfDirectedGraphFromEdges(list_edge, nodenum):\n",
    "    ...\n",
    "    return list_AdjList"
   ]
  },
  {
   "cell_type": "markdown",
   "metadata": {},
   "source": [
    "上のセルで解答を作成した後、以下のセルを実行し、実行結果が `True` になることを確認して下さい。"
   ]
  },
  {
   "cell_type": "code",
   "execution_count": null,
   "metadata": {
    "scrolled": true
   },
   "outputs": [],
   "source": [
    "list_edge1 = [(0,1), (1,6), (0,2), (1,0), (1,4), (0,3), (2,5), (3,2), (3,5), (3,6), (4,5), (4,7), (5,4), (5,7), (7,1), (7,3)]\n",
    "print(getAdjListOfDirectedGraphFromEdges(list_edge1, 8) == [[1,2,3], [0, 4, 6], [5], [2, 5, 6], [5, 7], [4, 7], [], [1, 3]])"
   ]
  },
  {
   "cell_type": "markdown",
   "metadata": {},
   "source": [
    "以下のセルを実行すると解答セルのプログラムの計算量を自動的に評価します。\n",
    "\n",
    "この課題の模範解答の時間計算量は<font color=\"white\"> $O(m+n+nk \\log k) = O(m + n k \\log k)$ ですが、$O(m n \\log m )$ と評価されます。</font>（←白黒反転しています）  \n",
    "想像（模範解答）よりも大きな計算量となっている場合、どこに問題があるのか考えてみて下さい。"
   ]
  },
  {
   "cell_type": "code",
   "execution_count": null,
   "metadata": {
    "scrolled": false
   },
   "outputs": [],
   "source": [
    "import utaadevalcpx;dic_varinfo_4_1 = {\"list_edge\": [\"list\", set(), {\"m\"}],\"nodenum\": [\"int\", set(), {\"n\"}],}\n",
    "str_code_4_1 = '''...'''\n",
    "utaadevalcpx.evaluateCpx(str_exfilename, \"4-1\", dic_varinfo_4_1, str_code_4_1) # str_exfilenameはファイルの冒頭で定義されています"
   ]
  },
  {
   "cell_type": "markdown",
   "metadata": {},
   "source": [
    "<b>問題の難易度評価：</b>\n",
    "下のセルにこの問の難易度を5段階（1:簡単、2:やや簡単、3:普通、4:やや難しい、5:難しい）で評価して下さい。（次回以降の課題の難易度の調整に使います）\n",
    "また、解答するのにかかった時間や感想などがあれば適宜記載して下さい。"
   ]
  },
  {
   "cell_type": "code",
   "execution_count": null,
   "metadata": {},
   "outputs": [],
   "source": [
    "#難易度（1:簡単、2:やや簡単、3:普通、4:やや難しい、5:難しい）\n",
    "\n",
    "#感想\n"
   ]
  },
  {
   "cell_type": "markdown",
   "metadata": {},
   "source": [
    "## 2. 無向グラフの隣接行列の作成\n",
    "\n",
    "<font color=\"#990000\">無向グラフ</font> $G$ を表す大きさ2のタプルを要素とするリスト `list_edge` が引数として与えられ、$G$ の点と枝を表す隣接行列 `dic_adjmatrix` を返す関数 `getAdjMatrixOfUndirectedGraphFromEdges` を作成して下さい。以下の点に注意して解答して下さい。\n",
    "\n",
    "1. 各点は `0` から `nodenum-1` までの整数で表されます。すなわち、 `list_edge` を構成する大きさ2のタプルの要素は、 `0` から `nodenum-1` までの整数です。\n",
    "2. $G$を構成する点$v$と$u$の間に枝がある場合、`(v, u)`、もしくは `(u, v)` が `list_edge` に含まれます。 \n",
    "  * `(u, v)` と `(v, u)` の両方が `list_edge` には含まれることはありません。\n",
    "3. 同じ値は2個以上 `list_edge` には含まれません。\n",
    "4. 隣接行列は04_Graph.pptのp10で紹介したものと同様の形式として下さい。具体的に次の通りです。\n",
    "    * `dic_adjmatrix` のキーにはタプルを使って下さい。\n",
    "    * `dic_adjmatrix` のキーに対応する値は `1` にして下さい。\n",
    "    * $G$は無向グラフですので `list_edge` が `(x, y)` を含むとき、キー `(x, y)` に対応する値を `1` にして下さい。\n",
    "\n",
    "\n",
    "なお、各値の大きさは以下の通りとします。\n",
    "* $m =$ $G$ の枝の数\n",
    "* $n =$ $G$ の点の数\n",
    "* $k =$ $G$ の点の中で最大の隣接点数\n",
    "\n",
    "以下のセルの `...` のところを書き換えて解答して下さい。"
   ]
  },
  {
   "cell_type": "code",
   "execution_count": null,
   "metadata": {},
   "outputs": [],
   "source": [
    "### この行のコメントを改変してはいけません %4-2% ### \n",
    "#解答用セル\n",
    "import ... # モジュールを使わない場合、この行は削除して良い\n",
    "def getAdjMatrixOfUndirectedGraphFromEdges(list_edge):\n",
    "    ...\n",
    "    return dic_adjmatrix "
   ]
  },
  {
   "cell_type": "markdown",
   "metadata": {},
   "source": [
    "上のセルで解答を作成した後、以下のセルを実行し、実行結果が `True` になることを確認して下さい。"
   ]
  },
  {
   "cell_type": "code",
   "execution_count": null,
   "metadata": {},
   "outputs": [],
   "source": [
    "list_edge1 = [(0,1), (1,6), (0,2), (1,4), (0,3), (2,5), (3,2), (3,5), (3,6), (4,5), (4,7), (5,7), (7,1), (7,3)]\n",
    "print(getAdjMatrixOfUndirectedGraphFromEdges(list_edge1) == {(0, 1): 1, (1, 0): 1, (1, 6): 1, (6, 1): 1, (0, 2): 1, (2, 0): 1, (1, 4): 1, (4, 1): 1, (0, 3): 1, (3, 0): 1, (2, 5): 1, (5, 2): 1, (3, 2): 1, (2, 3): 1, (3, 5): 1, (5, 3): 1, (3, 6): 1, (6, 3): 1, (4, 5): 1, (5, 4): 1, (4, 7): 1, (7, 4): 1, (5, 7): 1, (7, 5): 1, (7, 1): 1, (1, 7): 1, (7, 3): 1, (3, 7): 1})"
   ]
  },
  {
   "cell_type": "markdown",
   "metadata": {},
   "source": [
    "以下のセルを実行すると解答セルのプログラムの計算量を自動的に評価します。\n",
    "\n",
    "この課題の模範解答の時間計算量は<font color=\"white\"> $O(m)$ と評価されます。</font>（←白黒反転しています）  \n",
    "想像（模範解答）よりも大きな計算量となっている場合、どこに問題があるのか考えてみて下さい。"
   ]
  },
  {
   "cell_type": "code",
   "execution_count": null,
   "metadata": {
    "scrolled": false
   },
   "outputs": [],
   "source": [
    "import utaadevalcpx;dic_varinfo_4_2 = {\"list_edge\": [\"list\", set(), {\"m\"}],}\n",
    "str_code_4_2 = '''...'''\n",
    "utaadevalcpx.evaluateCpx(str_exfilename, \"4-2\", dic_varinfo_4_2, str_code_4_2) # str_exfilenameはファイルの冒頭で定義されています"
   ]
  },
  {
   "cell_type": "markdown",
   "metadata": {},
   "source": [
    "<b>問題の難易度評価：</b>\n",
    "下のセルにこの問の難易度を5段階（1:簡単、2:やや簡単、3:普通、4:やや難しい、5:難しい）で評価して下さい。（次回以降の課題の難易度の調整に使います）\n",
    "また、解答するのにかかった時間や感想などがあれば適宜記載して下さい。"
   ]
  },
  {
   "cell_type": "code",
   "execution_count": null,
   "metadata": {},
   "outputs": [],
   "source": [
    "#難易度（1:簡単、2:やや簡単、3:普通、4:やや難しい、5:難しい）\n",
    "\n",
    "#感想\n"
   ]
  }
 ],
 "metadata": {
  "kernelspec": {
   "display_name": "Python 3",
   "language": "python",
   "name": "python3"
  },
  "language_info": {
   "codemirror_mode": {
    "name": "ipython",
    "version": 3
   },
   "file_extension": ".py",
   "mimetype": "text/x-python",
   "name": "python",
   "nbconvert_exporter": "python",
   "pygments_lexer": "ipython3",
   "version": "3.7.4"
  }
 },
 "nbformat": 4,
 "nbformat_minor": 2
}
