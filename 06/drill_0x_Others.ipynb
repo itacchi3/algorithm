{
 "cells": [
  {
   "cell_type": "markdown",
   "metadata": {},
   "source": [
    "# 教養としてのアルゴリズムとデータ構造"
   ]
  },
  {
   "cell_type": "markdown",
   "metadata": {},
   "source": [
    "# 練習問題"
   ]
  },
  {
   "cell_type": "markdown",
   "metadata": {},
   "source": [
    "<b><font color=\"red\">\n",
    "各問に解答するにあたり、以下の点に注意して下さい。\n",
    "\n",
    "1. グラフを大きさ2のタプルを要素とするリストは配布したスライド (03_Tree.ppt, 11ページ) の形式に従うものとします。\n",
    " * 例えば、`[(0, 1), (0, 2), (0, 3), (1, 4), (1, 5), (2, 6), (2, 7)]` の様な値です。\n",
    "2. 隣接リストは授業で配布したスライド (03_Tree.ppt, 14ページ) の形式に従うものとします。  \n",
    " * 例えば、`[[1,2,3], [4, 5], [6, 7], [], [8, 9, 10], [11], [12, 13], [], [], [], [], [], [], []]` の様な値です。\n",
    "3. 隣接行列は授業で配布したスライド (04_Graph.ppt, 10ページ) の形式に従うものとします。  \n",
    " * 例えば、`{(0,1):1, (0,2):1, (0,3):1, (1,0):1, (1,4):1, (1,6):1, (2,5):1, (3,2):1, (3,5):1, (3,6):1, (4,5):1, (4,7):1, (5,4):1, (5,7):1, (7,1):1, (7,3):1 }` の様な値です。 \n",
    "</font></b>"
   ]
  },
  {
   "cell_type": "markdown",
   "metadata": {},
   "source": [
    "## グラフを構成する頂点の数\n",
    "\n",
    "グラフ $G$ を表す隣接リスト `list_adjlist` が引数として与えられたとき、$G$ を構成する点の数を返す関数 `getNumberOfNodesInAdjacentList(list_adjlist)` を作成して下さい。\n",
    "\n",
    "以下のセルの `...` のところを書き換えて解答して下さい。<a id=\"getNumberOfNodesInAdjacentListQ\" href=\"#getNumberOfNodesInAdjacentListA\">[解答]</a>"
   ]
  },
  {
   "cell_type": "code",
   "execution_count": null,
   "metadata": {},
   "outputs": [],
   "source": [
    "#解答用セル\n",
    "def getNumberOfNodesInAdjacentList(list_adjlist):\n",
    "    ..."
   ]
  },
  {
   "cell_type": "markdown",
   "metadata": {},
   "source": [
    "以下のセルを実行して `True` が出ることを確認して下さい。 "
   ]
  },
  {
   "cell_type": "code",
   "execution_count": null,
   "metadata": {
    "scrolled": true
   },
   "outputs": [],
   "source": [
    "list_adjlist_test1=[[1,2,3], [0, 2], [0,1],[0]]\n",
    "print(getNumberOfNodesInAdjacentList(list_adjlist_test1)==4)\n",
    "list_adjlist_test2=[[1], [0, 2, 9], [1, 3, 9], [2, 4, 8, 9], [3, 5, 6, 7, 8], [4, 6], [4, 5, 7, 8], [4, 6, 8], [3, 4, 6, 7], [1, 2, 3]]\n",
    "print(getNumberOfNodesInAdjacentList(list_adjlist_test2)==10)"
   ]
  },
  {
   "cell_type": "markdown",
   "metadata": {},
   "source": [
    "なお、テストで用いている木は以下の様な形になっています。"
   ]
  },
  {
   "cell_type": "code",
   "execution_count": null,
   "metadata": {
    "scrolled": false
   },
   "outputs": [],
   "source": [
    "import networkx as nx, matplotlib.pyplot as plt\n",
    "%matplotlib inline\n",
    "#隣接リストをnx形式に変換（枝を加える）→描画\n",
    "def drawAdjlistUsingNx(nx_tree, list_adjlist, dic_pos, axval):\n",
    "    for node1 in range(0, len(list_adjlist)):\n",
    "        for node2 in list_adjlist[node1]:\n",
    "            nx_tree.add_edge(node1, node2)\n",
    "    axval.set_axis_off()\n",
    "    nx.draw_networkx(nx_tree, pos=dic_pos, ax=axval)\n",
    "#2つ描画\n",
    "fig, npar_axval = plt.subplots(1, 2, figsize=(7, 3))\n",
    "#1\n",
    "list_adjlist_test1=[[1,2,3], [0, 2], [0,1],[0]]; nx_tree1 = nx.Graph()\n",
    "drawAdjlistUsingNx(nx_tree1, list_adjlist_test1, None, npar_axval[0])\n",
    "#2\n",
    "list_adjlist_test2=[[1], [0, 2, 9], [1, 3, 9], [2, 4, 8, 9], [3, 5, 6, 7, 8], [4, 6], [4, 5, 7, 8], [4, 6, 8], [3, 4, 6, 7], [1, 2, 3]]; nx_tree2 = nx.Graph()\n",
    "drawAdjlistUsingNx(nx_tree2, list_adjlist_test2, None, npar_axval[1])"
   ]
  },
  {
   "cell_type": "markdown",
   "metadata": {},
   "source": [
    "## 有向グラフを構成する枝（辺）の数\n",
    "\n",
    "有向グラフ $G$ を表す隣接リスト `list_adjlist` が引数として与えられたとき、$G$ を構成する枝（辺）の数を返す関数 `getNumberOfEdgesOfDirectedGraph(list_adjlist)` を作成して下さい。\n",
    "\n",
    "ただし、隣接リストが空であることはないものとします。\n",
    "\n",
    "以下のセルの `...` のところを書き換えて解答して下さい。<a id=\"getNumberOfEdgesOfDirectedGraphQ\" href=\"#getNumberOfEdgesOfDirectedGraphA\">[解答]</a>"
   ]
  },
  {
   "cell_type": "code",
   "execution_count": null,
   "metadata": {},
   "outputs": [],
   "source": [
    "#解答用セル\n",
    "def getNumberOfEdgesOfDirectedGraph(list_adjlist):\n",
    "    ..."
   ]
  },
  {
   "cell_type": "markdown",
   "metadata": {},
   "source": [
    "以下のセルを実行して `True` が出ることを確認して下さい。 "
   ]
  },
  {
   "cell_type": "code",
   "execution_count": null,
   "metadata": {
    "scrolled": false
   },
   "outputs": [],
   "source": [
    "list_adjlist_test1=[[1,3], [2], [1],[1,0]]\n",
    "print(getNumberOfEdgesOfDirectedGraph(list_adjlist_test1)==6)\n",
    "list_adjlist_test2=[[1], [0, 2, 9], [1, 9], [2, 4, 9], [3, 8], [6], [4, 7, 8], [4, 6], [4, 6], [1]]\n",
    "print(getNumberOfEdgesOfDirectedGraph(list_adjlist_test2)==20)"
   ]
  },
  {
   "cell_type": "markdown",
   "metadata": {},
   "source": [
    "なお、テストで用いている木は以下の様な形になっています。"
   ]
  },
  {
   "cell_type": "code",
   "execution_count": null,
   "metadata": {
    "scrolled": false
   },
   "outputs": [],
   "source": [
    "import networkx as nx, matplotlib.pyplot as plt\n",
    "%matplotlib inline\n",
    "#隣接リストをnx形式に変換（枝を加える）→描画\n",
    "def drawAdjlistUsingNx(nx_tree, list_adjlist, dic_pos, axval):\n",
    "    for node1 in range(0, len(list_adjlist)):\n",
    "        for node2 in list_adjlist[node1]:\n",
    "            nx_tree.add_edge(node1, node2)\n",
    "    axval.set_axis_off()\n",
    "    nx.draw_networkx(nx_tree, pos=dic_pos, ax=axval)\n",
    "#2つの木を描画\n",
    "fig, npar_axval = plt.subplots(1, 2, figsize=(7, 3))\n",
    "#1\n",
    "list_adjlist_test1=[[1,3], [2], [1],[1,0]]; nx_tree1 = nx.DiGraph()\n",
    "drawAdjlistUsingNx(nx_tree1, list_adjlist_test1, None, npar_axval[0])\n",
    "#2\n",
    "list_adjlist_test2=[[1], [0, 2, 9], [1, 9], [2, 4, 9], [3, 8], [6], [4, 7, 8], [4, 6], [4, 6], [1]]; nx_tree2 = nx.DiGraph()\n",
    "drawAdjlistUsingNx(nx_tree2, list_adjlist_test2, None, npar_axval[1])"
   ]
  },
  {
   "cell_type": "markdown",
   "metadata": {},
   "source": [
    "## 無向グラフを構成する枝（辺）の数\n",
    "\n",
    "無向グラフ $G$ を表す隣接リスト `list_adjlist` が引数として与えられたとき、$G$ を構成する枝（辺）の数を返す関数 `getNumberOfEdgesOfUndirectedGraph(list_adjlist)` を作成して下さい。\n",
    "\n",
    "ただし、隣接リストが空であることはないものとします。\n",
    "\n",
    "以下のセルの `...` のところを書き換えて解答して下さい。<a id=\"getNumberOfEdgesOfUndirectedGraphQ\" href=\"#getNumberOfEdgesOfUndirectedGraphA\">[解答]</a>"
   ]
  },
  {
   "cell_type": "code",
   "execution_count": null,
   "metadata": {},
   "outputs": [],
   "source": [
    "#解答用セル\n",
    "def getNumberOfEdgesOfUndirectedGraph(list_adjlist):\n",
    "    ..."
   ]
  },
  {
   "cell_type": "markdown",
   "metadata": {},
   "source": [
    "以下のセルを実行して `True` が出ることを確認して下さい。 "
   ]
  },
  {
   "cell_type": "code",
   "execution_count": null,
   "metadata": {
    "scrolled": false
   },
   "outputs": [],
   "source": [
    "list_adjlist_test1=[[1,2,3], [0, 2], [0,1],[0]]\n",
    "print(getNumberOfEdgesOfUndirectedGraph(list_adjlist_test1)==4)\n",
    "list_adjlist_test2=[[1], [0, 2, 9], [1, 3, 9], [2, 4, 8, 9], [3, 5, 6, 7, 8], [4, 6], [4, 5, 7, 8], [4, 6, 8], [3, 4, 6, 7], [1, 2, 3]]\n",
    "print(getNumberOfEdgesOfUndirectedGraph(list_adjlist_test2)==16)"
   ]
  },
  {
   "cell_type": "markdown",
   "metadata": {},
   "source": [
    "なお、テストで用いている木は以下の様な形になっています。"
   ]
  },
  {
   "cell_type": "code",
   "execution_count": null,
   "metadata": {
    "scrolled": false
   },
   "outputs": [],
   "source": [
    "import networkx as nx, matplotlib.pyplot as plt\n",
    "%matplotlib inline\n",
    "#隣接リストをnx形式に変換（枝を加える）→描画\n",
    "def drawAdjlistUsingNx(nx_tree, list_adjlist, dic_pos, axval):\n",
    "    for node1 in range(0, len(list_adjlist)):\n",
    "        for node2 in list_adjlist[node1]:\n",
    "            nx_tree.add_edge(node1, node2)\n",
    "    axval.set_axis_off()\n",
    "    nx.draw_networkx(nx_tree, pos=dic_pos, ax=axval)\n",
    "#2つの木を描画\n",
    "fig, npar_axval = plt.subplots(1, 2, figsize=(7, 3))\n",
    "#1\n",
    "list_adjlist_test1=[[1,2,3], [0, 2], [0,1],[0]]; nx_tree1 = nx.Graph()\n",
    "drawAdjlistUsingNx(nx_tree1, list_adjlist_test1, None, npar_axval[0])\n",
    "#2\n",
    "list_adjlist_test2=[[1], [0, 2, 9], [1, 3, 9], [2, 4, 8, 9], [3, 5, 6, 7, 8], [4, 6], [4, 5, 7, 8], [4, 6, 8], [3, 4, 6, 7], [1, 2, 3]]; nx_tree2 = nx.Graph()\n",
    "drawAdjlistUsingNx(nx_tree2, list_adjlist_test2, None, npar_axval[1])"
   ]
  },
  {
   "cell_type": "markdown",
   "metadata": {},
   "source": [
    "## 枝を反転させたグラフ\n",
    "\n",
    "有向グラフ $G$ を表す隣接リスト `list_adjlist` が引数として与えられたとき、$G$ の各枝の向きを逆にしたグラフを隣接リストで返す関数 `reverseEdges(list_adjlist)` を作成して下さい。以下の点に注意して解答して下さい。\n",
    "\n",
    "1. 各点は `0` から `len(list_adjlist)-1` までの整数で表されます。\n",
    "\n",
    "以下のセルの `...` のところを書き換えて解答して下さい。<a id=\"reverseEdgesQ\" href=\"#reverseEdgesA\">[解答]</a>"
   ]
  },
  {
   "cell_type": "code",
   "execution_count": null,
   "metadata": {},
   "outputs": [],
   "source": [
    "#解答用セル\n",
    "def reverseEdges(list_adjlist):\n",
    "    ..."
   ]
  },
  {
   "cell_type": "markdown",
   "metadata": {},
   "source": [
    "以下のセルを実行して `True` が出ることを確認して下さい。 "
   ]
  },
  {
   "cell_type": "code",
   "execution_count": null,
   "metadata": {
    "scrolled": false
   },
   "outputs": [],
   "source": [
    "list_adjlist_test1=[[1,3], [2], [1], [2, 1]]\n",
    "print(reverseEdges(list_adjlist_test1)==[[], [0, 2, 3], [1, 3], [0]])\n",
    "list_adjlist_test2=[[1], [0, 2, 9], [1, 9], [2, 4, 9], [3, 8], [6], [4, 7, 8], [4, 6], [4, 6], [1]]\n",
    "print(reverseEdges(list_adjlist_test2)==[[1], [0, 2, 9], [1, 3], [4], [3, 6, 7, 8], [], [5, 7, 8], [6], [4, 6], [1, 2, 3]])"
   ]
  },
  {
   "cell_type": "markdown",
   "metadata": {},
   "source": [
    "なお、テストで用いている木は以下の様な形になっています。"
   ]
  },
  {
   "cell_type": "code",
   "execution_count": null,
   "metadata": {
    "scrolled": false
   },
   "outputs": [],
   "source": [
    "import networkx as nx, matplotlib.pyplot as plt\n",
    "%matplotlib inline\n",
    "#隣接リストをnx形式に変換（枝を加える）→描画\n",
    "def drawAdjlistUsingNx(nx_tree, list_adjlist, dic_pos, axval):\n",
    "    for node1 in range(0, len(list_adjlist)):\n",
    "        for node2 in list_adjlist[node1]:\n",
    "            nx_tree.add_edge(node1, node2)\n",
    "    axval.set_axis_off()\n",
    "    nx.draw_networkx(nx_tree, pos=dic_pos, ax=axval)\n",
    "#2つの木を描画\n",
    "fig, npar_axval = plt.subplots(1, 2, figsize=(7, 3))\n",
    "#1\n",
    "list_adjlist_test1=[[1,3], [2], [1], [2, 1]]; nx_tree1 = nx.DiGraph()\n",
    "drawAdjlistUsingNx(nx_tree1, list_adjlist_test1, None, npar_axval[0])\n",
    "#2\n",
    "list_adjlist_test2=[[1], [0, 2, 9], [1, 9], [2, 4, 9], [3, 8], [6], [4, 7, 8], [4, 6], [4, 6], [1]]; nx_tree2 = nx.DiGraph()\n",
    "drawAdjlistUsingNx(nx_tree2, list_adjlist_test2, None, npar_axval[1])"
   ]
  },
  {
   "cell_type": "markdown",
   "metadata": {},
   "source": [
    "## 深さ優先探索を用いた最短経路の取得\n",
    "\n",
    "木構造 $T$ を表す隣接リスト `list_adjlist` が引数として与えられとき、$T$ に対して深さ優先探索を行って、根から各点までの経路（各点から根までの逆向きの経路）を表すリスト `list_T` を返す関数 `BFSForShortestPaths` を作成して下さい。以下の点に注意して解答して下さい。\n",
    "\n",
    "1. 各点は `0` 以上の整数で表されます。\n",
    "2. 根を表す番号は `0` です。\n",
    "3. `list_T` の `i` 番目の要素 `list_T[i]` は、根から点 `i` までの最短経路上において、点 `i` に隣接する点の名前を格納します。ただし、 `list_T[0]` には `-1` を格納して下さい。\n",
    "    * 例えば、点 `0` から点 `10` への最短経路が、`0,6,3,10` である場合、`list_T[0], list_T[6], list_T[3], list_T[10]` にはそれぞれ `-1, 0, 6, 3` が格納されます（点 `10` から根までの経路を表しています）。\n",
    "\n",
    "以下のセルの `...` のところを書き換えて解答して下さい。<a id=\"DFSForShortestPathsQ\" href=\"#DFSForShortestPathsA\">[解答]</a>"
   ]
  },
  {
   "cell_type": "code",
   "execution_count": null,
   "metadata": {},
   "outputs": [],
   "source": [
    "#解答用セル\n",
    "class StackClass:\n",
    "    ...\n",
    "\n",
    "def DFSForShortestPaths(list_adjlist):\n",
    "    ...\n",
    "    return list_T"
   ]
  },
  {
   "cell_type": "markdown",
   "metadata": {},
   "source": [
    "上のセルで解答を作成した後、以下のセルを実行し、実行結果が `True` になることを確認して下さい。"
   ]
  },
  {
   "cell_type": "code",
   "execution_count": null,
   "metadata": {
    "scrolled": false
   },
   "outputs": [],
   "source": [
    "list_adjlist_test1=[[1, 2], [], [3, 4], [], []]\n",
    "print(DFSForShortestPaths(list_adjlist_test1)==[-1, 0, 0, 2, 2])\n",
    "list_adjlist_test2=[[5, 1], [2], [], [], [], [3, 4]]\n",
    "print(DFSForShortestPaths(list_adjlist_test2)==[-1, 0, 1, 5, 5, 0])\n",
    "list_adjlist_test3=[[1, 2, 3], [4, 5], [6, 7, 8, 9], [], [], [10], [], [], [], [], []]\n",
    "print(DFSForShortestPaths(list_adjlist_test3)==[-1, 0, 0, 0, 1, 1, 2, 2, 2, 2, 5])"
   ]
  },
  {
   "cell_type": "markdown",
   "metadata": {},
   "source": [
    "なお、テストで用いている木は以下の様な形になっています。"
   ]
  },
  {
   "cell_type": "code",
   "execution_count": null,
   "metadata": {
    "scrolled": true
   },
   "outputs": [],
   "source": [
    "import networkx as nx, matplotlib.pyplot as plt\n",
    "%matplotlib inline\n",
    "#隣接リストをnx形式に変換（枝を加える）→描画\n",
    "def drawAdjlistUsingNx(nx_tree, list_adjlist, dic_pos, axval):\n",
    "    for node1 in range(0, len(list_adjlist)):\n",
    "        for node2 in list_adjlist[node1]:\n",
    "            nx_tree.add_edge(node1, node2)\n",
    "    axval.set_axis_off()\n",
    "    nx.draw_networkx(nx_tree, pos=dic_pos, ax=axval)\n",
    "#3つの木を描画\n",
    "fig, npar_axval = plt.subplots(1, 3, figsize=(12.5, 3))\n",
    "#1\n",
    "list_adjlist_test1=[[1, 2], [], [3, 4], [], []]; nx_tree1 = nx.Graph()\n",
    "drawAdjlistUsingNx(nx_tree1, list_adjlist_test1, None, npar_axval[0])\n",
    "#2\n",
    "list_adjlist_test2=[[5, 1], [2], [], [], [], [3, 4]]; nx_tree2 = nx.Graph()\n",
    "drawAdjlistUsingNx(nx_tree2, list_adjlist_test2, None, npar_axval[1])\n",
    "#3\n",
    "list_adjlist_test3=[[1, 2, 3], [4, 5], [6, 7, 8, 9], [], [], [10], [], [], [], [], []]; nx_tree3 = nx.Graph()\n",
    "drawAdjlistUsingNx(nx_tree3, list_adjlist_test3, None, npar_axval[2])"
   ]
  },
  {
   "cell_type": "markdown",
   "metadata": {},
   "source": [
    "## 修正FIFOキュー\n",
    "\n",
    "FIFOキューは時系列順位最初に格納した要素を優先して取り出すデータ構造でした。FIFOキューを木構造で表す迷路の探索に用いる場合、次の様な修正したFIFOキューを実現するクラス `FixedFIFOClass` を用いることを考えます。\n",
    "\n",
    "1. メソッド `enqueue` は `item1` を引数に取り、FIFOキューの最後尾に `item1` の値を格納します。\n",
    "2. メソッド `dequeue` は隣接リスト `list_adjlist` を引数に取り、FIFOキューの先頭、もしくは先頭から2番目に格納されている値（点の名前）を返り値として返します（返り値の値はキューから取り除く）。ただし、先頭の点の子供の数が2番目の点の子供の数以上であれば先頭の点を返し、そうでなければ2番目の点を返すものとします。また、1つしか要素が格納されていない場合は先頭の点を返すものとします。\n",
    " * 例えば、`list_adjlist = []`\n",
    " * キューが空になる場合は考えなくて良いものとします。\n",
    "3. メソッド `length` はFIFOキューに格納されている要素の数を返します。\n",
    "\n",
    "\n",
    "以下のセルの `...` のところを書き換えて解答して下さい。<a id=\"FixedFIFOClassQ\" href=\"#FixedFIFOClassA\">[解答]</a>"
   ]
  },
  {
   "cell_type": "code",
   "execution_count": null,
   "metadata": {},
   "outputs": [],
   "source": [
    "#解答用セル\n",
    "class FixedFIFOClass:\n",
    "    def __init__(self): \n",
    "        ...\n",
    "    def enqueue(self, item1): \n",
    "        ...\n",
    "    def dequeue(self, list_adjlist):\n",
    "        ...\n",
    "    def length(self): \n",
    "        ..."
   ]
  },
  {
   "cell_type": "markdown",
   "metadata": {},
   "source": [
    "上のセルで解答を作成した後、以下のセルを実行し、実行結果が `True` になることを確認して下さい。"
   ]
  },
  {
   "cell_type": "code",
   "execution_count": null,
   "metadata": {},
   "outputs": [],
   "source": [
    "list_adjlist_test1 = [[1, 2, 3], [4, 5], [6, 7, 8, 9], [10, 11], [], [], [], [], [], [], [], [], []]\n",
    "FFIFO = FixedFIFOClass()\n",
    "FFIFO.enqueue(0) # 根\n",
    "node1 = FFIFO.dequeue(list_adjlist_test1)\n",
    "print(node1==0)\n",
    "for child in list_adjlist_test1[node1]:\n",
    "    FFIFO.enqueue(child)\n",
    "# for文内部でFFIFO.enqueue(1); FFIFO.enqueue(2); FFIFO.enqueue(3) を実行する\n",
    "node2 = FFIFO.dequeue(list_adjlist_test1); node3 = FFIFO.dequeue(list_adjlist_test1); print(node2==2, node3==1)\n",
    "#\n",
    "list_adjlist_test2 = [[1, 2], [], [3, 4], [5, 6], [], [], [7, 8], [], []]\n",
    "FFIFO = FixedFIFOClass()\n",
    "FFIFO.enqueue(0) # 根\n",
    "node1 = FFIFO.dequeue(list_adjlist_test2); print(node1 ==0)\n",
    "for child in list_adjlist_test2[node1]:\n",
    "    FFIFO.enqueue(child)\n",
    "# for文内部でFFIFO.enqueue(1); FFIFO.enqueue(2)を実行する\n",
    "node2 = FFIFO.dequeue(list_adjlist_test2); print(node2==2, FFIFO.list_data==[1])\n",
    "for child in list_adjlist_test2[node2]:\n",
    "    FFIFO.enqueue(child)\n",
    "# for文内部でFFIFO.enqueue(3); FFIFO.enqueue(4)を実行する\n",
    "node3 = FFIFO.dequeue(list_adjlist_test2); print(node3==3, FFIFO.list_data==[1,4])\n",
    "for child in list_adjlist_test2[node3]:\n",
    "    FFIFO.enqueue(child)\n",
    "node4 = FFIFO.dequeue(list_adjlist_test2); print(node4==1, FFIFO.list_data==[4, 5, 6])"
   ]
  },
  {
   "cell_type": "markdown",
   "metadata": {},
   "source": [
    "なお、テストで用いている木は以下の様な形になっています。"
   ]
  },
  {
   "cell_type": "code",
   "execution_count": null,
   "metadata": {
    "scrolled": true
   },
   "outputs": [],
   "source": [
    "import networkx as nx, matplotlib.pyplot as plt\n",
    "%matplotlib inline\n",
    "#隣接リストをnx形式に変換（枝を加える）→描画\n",
    "def drawAdjlistUsingNx(nx_tree, list_adjlist, dic_pos, axval):\n",
    "    for node1 in range(0, len(list_adjlist)):\n",
    "        for node2 in list_adjlist[node1]:\n",
    "            nx_tree.add_edge(node1, node2)\n",
    "    axval.set_axis_off()\n",
    "    nx.draw_networkx(nx_tree, pos=dic_pos, ax=axval)\n",
    "#2つの木を描画\n",
    "fig, npar_axval = plt.subplots(1, 2, figsize=(12.5, 3))\n",
    "#1\n",
    "list_adjlist_test1 = [[1, 2, 3], [4, 5], [6, 7, 8, 9], [10, 11], [], [], [], [], [], [], [], [], []]; nx_tree1 = nx.Graph()\n",
    "drawAdjlistUsingNx(nx_tree1, list_adjlist_test1, None, npar_axval[0])\n",
    "#2\n",
    "list_adjlist_test2 = [[1, 2], [], [3, 4], [5, 6], [], [], [7, 8], [], []]; nx_tree2 = nx.Graph()\n",
    "drawAdjlistUsingNx(nx_tree2, list_adjlist_test2, None, npar_axval[1])"
   ]
  },
  {
   "cell_type": "markdown",
   "metadata": {},
   "source": [
    "## 迷路の解法（修正FIFOキュー）\n",
    "\n",
    "迷路が与えられたときに、スタート地点からゴール地点までの経路を求める関数 `solveMaze` を作成してください。ただし、前問の修正FIFOキューを用いて探索して下さい。\n",
    "\n",
    "具体的には、与えられる迷路は木構造 $T$ で表すことができ（すなわち、一周回って戻ってくる様な経路は存在しません）、$T$ を表す隣接リスト `list_adjlist` とゴール地点 `goalnode` が引数として与えられます。そこで、$T$ に対して修正FIFOキューを用いた探索を行って `goalnode` までの経路（厳密には、 `goalnode` からスタート地点までの経路）を表すリスト `list_T` を返す関数 `soliveMaze` を作成して下さい。以下の点に注意して解答して下さい。\n",
    "\n",
    "1. 各点は `0` 以上の整数で表されます。\n",
    "2. スタート地点（根）を表す番号は `0` です。\n",
    "3. `list_T` の `i` 番目の要素 `list_T[i]` は、スタート地点から点 `i` までの最短経路上において、点 `i` に隣接する点の名前を格納します。ただし、 `list_T[0]` には `-1` を格納して下さい。\n",
    "    * 例えば、点 `0` から点 `10` への最短経路が、`0,6,3,10` である場合、`list_T[0], list_T[6], list_T[3], list_T[10]` にはそれぞれ `-1, 0, 6, 3` が格納されます（点 `10` からスタート地点までの経路を表しています）。\n",
    "4. `list_T` を最初に `None` で初期化し、探索を行わなかった点 `i` に対して、 `list_T[i] = None` が成立することが望ましいです。\n",
    "5. ゴール地点 `goalnode` は必ず `0` 以上、`len(list_adjlist)-1` 以下の整数です。\n",
    "6. ゴール地点 `goalnode` に着いたときに探索を打ち切らなくても構いませんが、途中で打ち切った方が迷路を解くという意味では優れています。\n",
    "\n",
    "以下のセルの `...` のところを書き換えて解答して下さい。\n",
    "<a id=\"solveMazeUsingFixedFIFOQ\" href=\"#solveMazeUsingFixedFIFOA\">[解答]</a>"
   ]
  },
  {
   "cell_type": "code",
   "execution_count": null,
   "metadata": {},
   "outputs": [],
   "source": [
    "#解答用セル\n",
    "class FixedFIFOClass:\n",
    "    ...\n",
    "#\n",
    "def solveMazeUsingFixedFIFO(list_adjlist, goalnode):\n",
    "    ..."
   ]
  },
  {
   "cell_type": "markdown",
   "metadata": {},
   "source": [
    "上のセルで解答を作成した後、以下のセルを実行し、実行結果が `True` になることを確認して下さい。"
   ]
  },
  {
   "cell_type": "code",
   "execution_count": null,
   "metadata": {
    "scrolled": false
   },
   "outputs": [],
   "source": [
    "import collections\n",
    "list_adjlist_test1 = [[1, 3], [2, 4], [5], [], [7], [8], [], [6], []]\n",
    "list_T_test1 = solveMazeUsingFixedFIFO(list_adjlist_test1, 8)\n",
    "#[-1, 0, 1, None, None, 2, None, None, 5]#最短経路:Noneが4つ\n",
    "print(\"解答のNoneの数:\", collections.Counter(list_T_test1)[None]) # list_TをNoneで初期化しない場合無意味\n",
    "print(list_T_test1[0:3]==[-1,0,1], list_T_test1[5]==2, list_T_test1[8]==5)\n",
    "list_adjlist_test2=[[1, 4], [2], [3, 6], [], [5, 8], [], [7], [], [9], [10], [11], []]\n",
    "list_T_test2 = solveMazeUsingFixedFIFO(list_adjlist_test2, 11)\n",
    "#[-1, None, None, None, 0, None, None, None, 4, 8, 9, 10]#最短経路:Noneが5つ\n",
    "print(\"解答のNoneの数:\", collections.Counter(list_T_test2)[None]) # list_TをNoneで初期化しない場合無意味\n",
    "print(list_T_test2[0]==-1, list_T_test2[4]==0, list_T_test2[8:12]==[4, 8, 9, 10])"
   ]
  },
  {
   "cell_type": "markdown",
   "metadata": {},
   "source": [
    "なお、テストで用いている迷路は以下の様な形になっています。"
   ]
  },
  {
   "cell_type": "code",
   "execution_count": null,
   "metadata": {},
   "outputs": [],
   "source": [
    "%matplotlib inline\n",
    "import matplotlib.pyplot as plt, matplotlib.image as mpimg\n",
    "from PIL import Image, ImageDraw, ImageFont#PILで描画する\n",
    "def drawMaze(stnode, goalnode, dic_wall, width, height, unitsize, basex, basey, str_mazename, list_Path):\n",
    "    img = Image.new(\"RGB\", (basex*2+unitsize*width, basey*2+unitsize*height), (255, 255, 255))\n",
    "    draw = ImageDraw.Draw(img)\n",
    "    for x1 in range(0, width):\n",
    "        for y1 in range(0, height):\n",
    "            #上\n",
    "            if dic_wall[(x1, y1, x1, y1-1)] is False:\n",
    "                dx1 = basex + (x1+0) * unitsize\n",
    "                dy1 = basey + (y1+0) * unitsize\n",
    "                dx2 = basex + (x1+1) * unitsize\n",
    "                dy2 = basey + (y1+0) * unitsize\n",
    "                draw.line((dx1, dy1, dx2, dy2), fill=(0, 0, 0), width=2)\n",
    "            #右\n",
    "            if dic_wall[(x1, y1, x1+1, y1)] is False:\n",
    "                dx1 = basex + (x1+1) * unitsize\n",
    "                dy1 = basey + (y1+0) * unitsize\n",
    "                dx2 = basex + (x1+1) * unitsize\n",
    "                dy2 = basey + (y1+1) * unitsize\n",
    "                draw.line((dx1, dy1, dx2, dy2), fill=(0, 0, 0), width=2)\n",
    "            #下\n",
    "            if dic_wall[(x1, y1, x1, y1+1)] is False:\n",
    "                dx1 = basex + (x1+0) * unitsize\n",
    "                dy1 = basey + (y1+1) * unitsize\n",
    "                dx2 = basex + (x1+1) * unitsize\n",
    "                dy2 = basey + (y1+1) * unitsize\n",
    "                draw.line((dx1, dy1, dx2, dy2), fill=(0, 0, 0), width=2)\n",
    "            #左\n",
    "            if dic_wall[(x1, y1, x1-1, y1)] is False:\n",
    "                dx1 = basex + (x1+0) * unitsize\n",
    "                dy1 = basey + (y1+0) * unitsize\n",
    "                dx2 = basex + (x1+0) * unitsize\n",
    "                dy2 = basey + (y1+1) * unitsize\n",
    "                draw.line((dx1, dy1, dx2, dy2), fill=(0, 0, 0), width=2)\n",
    "    #探索経路描画\n",
    "    for snode, tnode in enumerate(list_Path):\n",
    "        if tnode is None or tnode == -1:\n",
    "            continue\n",
    "        sx, sy = getNodePosFromName(snode, width)\n",
    "        tx, ty = getNodePosFromName(tnode, width)\n",
    "        dx1 = basex + sx * unitsize + unitsize/2\n",
    "        dy1 = basey + sy * unitsize + unitsize/2\n",
    "        dx2 = basex + tx * unitsize + unitsize/2\n",
    "        dy2 = basey + ty * unitsize + unitsize/2\n",
    "        draw.line((dx1, dy1, dx2, dy2), fill=(250, 150, 150), width=2)\n",
    "    #スタート地点\n",
    "    sx, sy = getNodePosFromName(stnode, width)\n",
    "    dx1 = basex + sx * unitsize\n",
    "    dy1 = basey + sy * unitsize\n",
    "    draw.ellipse((dx1+unitsize/3, dy1+unitsize/3, dx1+unitsize*2/3, dy1+unitsize*2/3), fill=(255, 0, 0), outline=(0, 0, 0))\n",
    "    #ゴール地点\n",
    "    gx, gy = getNodePosFromName(goalnode, width)\n",
    "    dx1 = basex + gx * unitsize\n",
    "    dy1 = basey + gy * unitsize\n",
    "    draw.ellipse((dx1+unitsize/3, dy1+unitsize/3, dx1+unitsize*2/3, dy1+unitsize*2/3), fill=(0, 0, 255), outline=(0, 0, 0))\n",
    "    img.save(str_mazename)\n",
    "    img = mpimg.imread(str_mazename)\n",
    "    plt.axis('off')\n",
    "    imgplot = plt.imshow(img)\n",
    "#頂点座標取得\n",
    "def getNodePosFromName(id1, width):\n",
    "    return id1 % width, id1 // width\n",
    "#隣接リストから壁のある位置を決定する\n",
    "def constructWallsFromAdjList(list_adjlist, width, height):\n",
    "    dic_wall = {}\n",
    "    #最初は全てを壁にする\n",
    "    for x1 in range(0, width):\n",
    "        for y1 in range(0, height):\n",
    "            #上\n",
    "            dic_wall[(x1, y1, x1, y1-1)] = False\n",
    "            #右\n",
    "            dic_wall[(x1, y1, x1+1, y1)] = False\n",
    "            #下\n",
    "            dic_wall[(x1, y1, x1, y1+1)] = False\n",
    "            #左\n",
    "            dic_wall[(x1, y1, x1-1, y1)] = False\n",
    "    #隣接リストの枝部分は壁を取り除く\n",
    "    for sid1, list_adj in enumerate(list_adjlist):\n",
    "        for tid1 in list_adj:\n",
    "            tx1, ty1 = getNodePosFromName(tid1, width)\n",
    "            sx1, sy1 = getNodePosFromName(sid1, width)\n",
    "            dic_wall[(tx1, ty1, sx1, sy1)] = True\n",
    "            dic_wall[(sx1, sy1, tx1, ty1)] = True\n",
    "    return dic_wall\n",
    "size1 = 50\n",
    "basex1 = 10\n",
    "basey1 = 10\n",
    "width_test1 = 3; height_test1 = 3; stnode_test = 0; goalnode_test1 = 8\n",
    "dic_wall1 = constructWallsFromAdjList(list_adjlist_test1, width_test1, height_test1)\n",
    "drawMaze(stnode_test, goalnode_test1, dic_wall1, width_test1, height_test1, size1, basex1, basey1, \"maze1.png\", list_T_test1)"
   ]
  },
  {
   "cell_type": "markdown",
   "metadata": {},
   "source": [
    "左上が根の頂点で `0` 、その右隣が `1`, その右隣が `2`, `0` の下に戻って `3`, と続きます。右下が `len(list_adjlist_test1)-1` の頂点です。桃色？の線は探索の経路（最短経路）です。"
   ]
  },
  {
   "cell_type": "code",
   "execution_count": null,
   "metadata": {},
   "outputs": [],
   "source": [
    "width_test2 = 4; height_test2 = 3; stnode_test = 0; goalnode_test2 = 11\n",
    "dic_wall2 = constructWallsFromAdjList(list_adjlist_test2, width_test2, height_test2)\n",
    "drawMaze(stnode_test, goalnode_test2, dic_wall2, width_test2, height_test2, size1, basex1, basey1, \"maze2.png\", list_T_test2)"
   ]
  },
  {
   "cell_type": "markdown",
   "metadata": {},
   "source": [
    "もう少し大きな迷路を考えてみましょう。"
   ]
  },
  {
   "cell_type": "code",
   "execution_count": null,
   "metadata": {},
   "outputs": [],
   "source": [
    "import collections\n",
    "#最短経路\n",
    "def getShortestPathToGaolInDic(list_T, goalnode):\n",
    "    nownode = goalnode\n",
    "    list_check = [False] * len(list_T)\n",
    "    #ゴールから根まで遡る。途中の点はTrueにする\n",
    "    while(nownode != -1):\n",
    "        list_check[nownode] = True\n",
    "        nownode = list_T[nownode]\n",
    "    #辞書に格納\n",
    "    dic_SPath = {}\n",
    "    for index1, val1 in enumerate(list_check):\n",
    "        if val1 is True:\n",
    "            dic_SPath[index1] = list_T[index1]\n",
    "    return dic_SPath"
   ]
  },
  {
   "cell_type": "code",
   "execution_count": null,
   "metadata": {},
   "outputs": [],
   "source": [
    "list_adjlist_test3 = [[1, 30], [2], [3], [4], [5], [], [], [], [9], [10], [], [12], [13], [14, 43], [15, 44], [16, 45], [17, 46], [18], [19], [20], [21], [], [], [22], [], [26], [], [28], [29], [], [31, 60], [], [33], [34], [], [36], [6, 37], [7, 38], [8, 39, 68], [40], [], [11, 42], [], [], [], [], [47], [], [49], [50], [], [], [], [23], [24, 55], [25, 56], [57], [27, 58, 87], [59, 88], [89], [61, 90], [62], [32], [], [], [35], [], [], [69], [70, 99], [71], [41, 72], [], [74], [], [], [], [78], [48], [80], [], [51, 82], [52, 83], [53, 84, 113], [54, 85, 114], [86], [], [], [], [], [91, 120], [92, 121], [93, 122], [63, 94, 123], [64, 95, 124], [65, 96, 125], [66, 97, 126], [67, 98, 127], [], [], [], [102], [], [73], [], [75, 106], [76], [77, 108], [109], [79, 110], [], [81, 112], [], [], [115], [116], [117], [118], [119, 148], [149], [150], [151], [152], [], [154], [155], [], [128, 157], [129], [130, 159], [100, 131, 160], [101, 132, 161], [133], [103, 134, 163], [104, 135, 164], [105, 136, 165], [137, 166], [107, 138, 167], [139], [140, 169], [141, 170], [111, 142, 171], [143], [144], [145], [146], [147], [], [], [], [180], [], [153, 182], [], [], [185], [], [156, 158, 187], [188], [189], [190], [162, 191], [], [193], [194], [], [], [168, 197], [], [], [200], [172, 201], [173, 202], [], [175], [], [], [178], [179], [], [210], [211], [181, 183, 212], [184, 213], [214], [186, 215], [], [217], [218], [], [], [192, 221], [], [], [195], [196, 225], [], [198, 227], [199], [], [], [], [], [], [174, 205], [], [176, 207], [177, 208], [209], [], [240], [], [], [], [244], [216, 245], [], [], [248], [], [219, 250], [220, 222, 251], [223, 252], [224, 253], [254], [226, 255], [256], [228, 257], [229, 258], [], [], [232], [233], [203, 234, 263], [204, 235], [236], [206, 237], [], [239], [], [241, 270], [242, 271], [243], [], [], [246], [], [277], [247, 249, 278], [], [280], [281], [], [], [], [], [286], [], [259, 288], [260, 289], [230, 261, 290], [231, 262, 291], [], [264, 293], [265, 294], [266], [267], [], [238, 269], [], [300], [272, 301], [273], [274], [275], [276, 305], [306], [], [279, 308], [], [], [282, 311], [283], [284, 313], [285], [], [287, 316], [], [], [319], [], [292, 321], [], [], [295, 324], [296], [297], [298], [268, 299], [], [], [302, 331], [], [304], [], [], [336], [], [307, 338], [], [309, 340], [310, 312, 341], [342], [314], [315], [], [], [], [317], [318, 320, 349], [], [322, 351], [], [], [323, 325, 354], [326, 355], [327, 356], [328], [329], [], [360], [330, 332, 361], [333, 362], [303, 334, 363], [], [], [], [], [337, 368], [369], [339, 370], [371], [343, 372], [344, 373], [], [], [], [], [347], [348, 350, 379], [380], [352, 381], [353, 382], [], [], [], [357, 386], [358, 387], [359], [389], [390], [], [392], [364, 393], [], [335], [], [366, 397], [367, 398], [], [], [], [402], [374, 403], [375], [345, 376], [346, 377], [], [], [], [410], [], [383, 412], [384], [414], [], [385, 416], [388], [], [], [391, 420], [], [422], [394, 423], [395, 424], [365, 396], [], [], [399, 428], [400, 429], [401], [], [432], [404, 433], [405, 434], [406], [407, 436], [408, 437], [378, 409, 438], [439], [], [441], [411, 413, 442], [], [], [], [415, 417, 446], [418, 447], [419], [], [421, 450], [451], [], [], [425, 454], [426], [], [], [427, 458], [430, 459], [], [], [], [], [435, 464], [465], [466], [], [468], [], [], [], [443, 472], [], [], [], [], [448, 477], [449, 478], [479], [480], [452, 481], [], [], [453, 455, 484], [456, 485], [], [], [457, 488], [460, 489], [461, 490], [431, 462], [463, 492], [], [], [495], [467, 496], [], [469, 498], [470, 499], [440, 500], [], [471, 473, 502], [474, 503], [444, 475, 504], [445, 476, 505], [506], [], [508], [509], [510], [482, 511], [], [513], [483, 514], [486, 515], [487], [517], [], [519], [491, 520], [521], [493, 522], [494, 523], [524], [525], [526], [527], [497, 528], [529], [501], [], [532], [], [534], [], [507, 536], [], [], [], [540], [512, 541], [], [], [], [516, 545], [], [518, 547], [], [549], [], [551], [552], [], [], [], [556], [], [], [530, 559], [531, 560], [], [533, 562], [], [], [565], [535, 537, 566], [538, 567], [539], [], [570], [542, 571], [], [573], [543], [544, 546, 575], [], [], [], [548, 550, 579], [], [], [553, 582], [554, 583], [555, 584], [], [586], [], [557], [558, 589], [561, 590], [], [563, 592], [593], [], [564], [596], [568, 597], [569], [], [600], [572, 601], [602], [603], [], [574, 576, 605], [577, 606], [578], [], [580, 609], [581], [], [], [], [585, 614], [], [616], [617], [587, 618], [588, 619], [591, 620], [], [], [], [], [594], [], [598, 627], [], [], [630], [], [], [], [], [604, 635], [607, 636], [608, 637], [638], [610], [611, 640], [], [613], [], [], [645], [615, 646], [647], [648], [], [621, 650], [622], [], [], [], [595, 624], [625, 656], [626, 628, 657], [629], [599], [631, 660], [632, 661], [662], [], [633, 664], [634, 665], [666], [], [639, 668], [], [641], [642, 671], [612, 643, 672], [644, 673], [674], [675], [], [], [], [679], [649, 651, 680], [652, 681], [653, 682], [623, 654, 683], [684], [], [655, 686], [658, 687], [659, 688], [689], [690], [], [663, 692], [693], [], [695], [696], [], [667, 669, 698], [670, 699], [], [], [], [], [], [], [706], [676, 707], [677, 708], [678, 709], [], [711], [], [713], [], [], [685, 716], [717], [], [], [691, 720], [], [], [694, 723], [724], [], [], [], [697, 728], [700, 729], [701, 730], [], [703], [704], [705], [], [736], [], [738], [710, 739], [], [741], [], [712, 743], [], [714, 745], [715, 746], [718, 747], [719, 748], [749], [721, 750], [], [752], [722, 753], [], [], [725], [726, 757], [727, 758], [], [731, 760], [732, 761], [702, 733, 762], [734], [], [], [], [], [], [740, 769], [], [771], [772], [742, 773], [], [744, 775], [], [777], [778], [], [751, 780], [781], [782], [783], [], [754, 785], [755, 786], [756, 787], [759, 788], [789], [], [], [763, 792], [], [], [735, 766], [767], [737, 768, 797], [], [770, 799], [800], [801], [802], [], [], [774, 776, 805], [], [807], [779], [], [810], [], [], [], [], [784], [], [], [818], [790], [], [821], [791, 793, 822], [794], [764, 795, 824], [765, 796, 825], [], [798, 827], [828], [829], [], [831], [832], [], [803, 834], [804, 806, 835], [836], [808, 837], [809, 838], [839], [], [841], [811, 842], [812, 843], [813, 844], [814, 845], [815, 846], [816, 847], [817, 819, 848], [820, 849], [], [], [823, 852], [], [], [826, 855], [], [], [], [], [], [830, 861], [], [], [833], [865], [866], [], [868], [869], [870], [840, 871], [872], [], [874], [875], [876], [877], [], [850, 879], [851], [], [853, 882], [], [], [854, 856, 885], [], [], [859], [], [], [860, 862, 891], [892], [], [863], [864, 895], [867], [], [], [899], [], [], [], [], [873], [], [], [], [], [878, 880], [881], [], [883], [884], [], [886], [887], [857, 888], [858, 889], [], [], [890], [], [], [893], [894, 896], [897], [], [], [898]]\n",
    "width_test3 = 30; height_test3 = 30; stnode_test = 0; goalnode_test3 = 897\n",
    "list_T_test3 = solveMazeUsingFixedFIFO(list_adjlist_test3, goalnode_test3)\n",
    "dic_SPath_test3 = getShortestPathToGaolInDic(list_T_test3, goalnode_test3)\n",
    "print(\"解答のNoneの数:\", collections.Counter(list_T_test3)[None], \" 最短経路のNoneの数:\", width_test3 * height_test3 - len(dic_SPath_test3)) # list_TをNoneで初期化しない場合無意味"
   ]
  },
  {
   "cell_type": "code",
   "execution_count": null,
   "metadata": {},
   "outputs": [],
   "source": [
    "dic_wall3 = constructWallsFromAdjList(list_adjlist_test3, width_test3, height_test3)\n",
    "drawMaze(stnode_test, goalnode_test3, dic_wall3, width_test3, height_test3, size1, basex1, basey1, \"maze3.png\", list_T_test3)"
   ]
  },
  {
   "cell_type": "markdown",
   "metadata": {},
   "source": [
    "幅優先探索と同じ結果になりました。"
   ]
  },
  {
   "cell_type": "markdown",
   "metadata": {},
   "source": [
    "## 乱数を用いた前線\n",
    "\n",
    "\n",
    "木構造、もしくはグラフ構造を探索する際に、未訪問の頂点を管理するデータ構造を**前線**と呼ぶことがあります。この前線において幅優先探索ではFIFOキューを、深さ優先探索ではスタックを用いて次に訪問する頂点を決定しています。\n",
    "\n",
    "そこで、乱数に基づいて（すなわち、ほぼデタラメに）次に訪問する頂点を決定する前線 `RandomFrontClass` を作成してください。以下の点に注意して解答して下さい。\n",
    "\n",
    "1. クラス `RandomFrontClass` はリスト（もしくは `deque` ） `list_data` を持ち、要素を `list_data` に要素を追加するメソッド `put` と、`list_data` から要素を取り出すためのメソッド `get` を持ちます。\n",
    "2. コンストラクタ (`__init__`) は乱数のシードの値 `seed1` を引数に取りますので、`seed1` の値で乱数を初期化するとともに `list_data` を初期化します。\n",
    "3. メソッド `put` は `item1` を引数に取り、`list_data` の最後尾に `item1` の値を追加します。\n",
    "4. メソッド `get` は `random.randint(0, len(self.list_data)-1)` の場所に格納された値 `val` を `list_data` から削除する。返り値として `val` を返します。  \n",
    " * `get` が実行される場合、`list_data` には必ず1つ以上の要素が格納されていると仮定して構いません。\n",
    "\n",
    "\n",
    "以下のセルの `...` のところを書き換えて解答して下さい。<a id=\"RandomFrontClassQ\" href=\"#RandomFrontClassA\">[解答]</a>"
   ]
  },
  {
   "cell_type": "code",
   "execution_count": null,
   "metadata": {},
   "outputs": [],
   "source": [
    "#解答用セル\n",
    "import random\n",
    "class RandomFrontClass:\n",
    "    def __init__(self, seed1):\n",
    "        ...\n",
    "    def put(self, item1):\n",
    "        ...\n",
    "    def get(self):\n",
    "        ...\n",
    "    def length(self): \n",
    "        return len(self.list_data)"
   ]
  },
  {
   "cell_type": "markdown",
   "metadata": {},
   "source": [
    "上のセルで解答を作成した後、以下のセルを実行し、実行結果が `True` になることを確認して下さい。"
   ]
  },
  {
   "cell_type": "code",
   "execution_count": null,
   "metadata": {},
   "outputs": [],
   "source": [
    "list_adjlist_test1 = [[1, 2, 3], [4, 5], [6, 7, 8, 9], [10, 11], [], [], [], [], [], [], [], [], []]\n",
    "RFront = RandomFrontClass(0)\n",
    "RFront.put(0) # 根\n",
    "node1 = RFront.get()\n",
    "print(node1==0)\n",
    "for child in list_adjlist_test1[node1]:\n",
    "    RFront.put(child)\n",
    "node2 = RFront.get(); print(node2==2)\n",
    "for child in list_adjlist_test1[node2]:\n",
    "    RFront.put(child)\n",
    "node3 = RFront.get(); print(node3==1)\n",
    "for child in list_adjlist_test1[node3]:\n",
    "    RFront.put(child)\n",
    "node4 = RFront.get(); print(node4==7)\n",
    "for child in list_adjlist_test1[node4]:\n",
    "    RFront.put(child)\n",
    "node5 = RFront.get(); print(node5==4)"
   ]
  },
  {
   "cell_type": "markdown",
   "metadata": {},
   "source": [
    "なお、テストで用いている木は以下の様な形になっています。"
   ]
  },
  {
   "cell_type": "code",
   "execution_count": null,
   "metadata": {
    "scrolled": false
   },
   "outputs": [],
   "source": [
    "import networkx as nx, matplotlib.pyplot as plt\n",
    "%matplotlib inline\n",
    "#隣接リストをnx形式に変換（枝を加える）→描画\n",
    "def drawAdjlistUsingNx(nx_tree, list_adjlist, dic_pos, axval):\n",
    "    for node1 in range(0, len(list_adjlist)):\n",
    "        for node2 in list_adjlist[node1]:\n",
    "            nx_tree.add_edge(node1, node2)\n",
    "    axval.set_axis_off()\n",
    "    nx.draw_networkx(nx_tree, pos=dic_pos, ax=axval)\n",
    "#1つの木を描画\n",
    "fig, npar_axval = plt.subplots(1, 1, figsize=(5, 3))\n",
    "#1\n",
    "list_adjlist_test1 = [[1, 2, 3], [4, 5], [6, 7, 8, 9], [10, 11], [], [], [], [], [], [], [], [], []]; nx_tree1 = nx.Graph()\n",
    "drawAdjlistUsingNx(nx_tree1, list_adjlist_test1, None, npar_axval)"
   ]
  },
  {
   "cell_type": "markdown",
   "metadata": {},
   "source": [
    "## 迷路の解法（乱数）\n",
    "\n",
    "迷路が与えられたときに、スタート地点からゴール地点までの経路を乱数を用いて探索する関数 `solveMazeAtRandom` を作成してください。\n",
    "\n",
    "具体的には、与えられる迷路は木構造 $T$ で表すことができ（すなわち、一周回って戻ってくる様な経路は存在しません）、$T$ を表す隣接リスト `list_adjlist` とゴール地点 `goalnode` と乱数のシードの値 `seedval` が引数として与えられます。そこで、$T$ に対して探索を行う際に乱数に基づいて次の頂点を選択して `goalnode` までの経路（厳密には、 `goalnode` からスタート地点までの経路）を表すリスト `list_T` を返す関数 `soliveMazeAtRandom` を作成して下さい。以下の点に注意して解答して下さい。\n",
    "\n",
    "1. 各点は `0` 以上の整数で表されます。\n",
    "2. スタート地点（根）を表す番号は `0` です。\n",
    "3. `list_T` の `i` 番目の要素 `list_T[i]` は、スタート地点から点 `i` までの最短経路上において、点 `i` に隣接する点の名前を格納します。ただし、 `list_T[0]` には `-1` を格納して下さい。\n",
    "    * 例えば、点 `0` から点 `10` への最短経路が、`0,6,3,10` である場合、`list_T[0], list_T[6], list_T[3], list_T[10]` にはそれぞれ `-1, 0, 6, 3` が格納されます（点 `10` からスタート地点までの経路を表しています）。\n",
    "4. `list_T` を最初に `None` で初期化し、探索を行わなかった点 `i` に対して、 `list_T[i] = None` が成立することが望ましいです。\n",
    "5. ゴール地点 `goalnode` は必ず `0` 以上、`len(list_adjlist)-1` 以下の整数です。\n",
    "6. ゴール地点 `goalnode` に着いたときに探索を打ち切らなくても構いませんが、途中で打ち切った方が迷路を解くという意味では優れています。\n",
    "7. 次に訪問する頂点の名前を決定する（前線）のにはFIFOキューやスタックの代わりに前問の `RandomFrontClass` を用います。 `seedval` を引数にしてコンストラクタを実行します。\n",
    "\n",
    "以下のセルの `...` のところを書き換えて解答して下さい。<a id=\"solveMazeAtRandomQ\" href=\"#solveMazeAtRandomA\">[解答]</a>"
   ]
  },
  {
   "cell_type": "code",
   "execution_count": null,
   "metadata": {},
   "outputs": [],
   "source": [
    "#解答用セル\n",
    "import random\n",
    "class RandomFrontClass:\n",
    "    ...\n",
    "def soliveMazeAtRandom(list_adjlist, goalnode, seedval):\n",
    "    ..."
   ]
  },
  {
   "cell_type": "markdown",
   "metadata": {},
   "source": [
    "上のセルで解答を作成した後、以下のセルを実行し、実行結果が `True` になることを確認して下さい。"
   ]
  },
  {
   "cell_type": "code",
   "execution_count": null,
   "metadata": {
    "scrolled": false
   },
   "outputs": [],
   "source": [
    "import collections\n",
    "list_adjlist_test1 = [[1, 3], [2, 4], [5], [], [7], [8], [], [6], []]\n",
    "list_T_test1 = solveMazeAtRandom(list_adjlist_test1, 8, 1)\n",
    "#[-1, 0, 1, None, None, 2, None, None, 5]#最短経路:Noneが4つ\n",
    "print(\"解答のNoneの数:\", collections.Counter(list_T_test1)[None]) # list_TをNoneで初期化しない場合無意味\n",
    "print(list_T_test1[0:3]==[-1,0,1], list_T_test1[5]==2, list_T_test1[8]==5)\n",
    "list_adjlist_test2=[[1, 4], [2], [3, 6], [], [5, 8], [], [7], [], [9], [10], [11], []]\n",
    "list_T_test2 = solveMazeAtRandom(list_adjlist_test2, 11, 10)\n",
    "#[-1, None, None, None, 0, None, None, None, 4, 8, 9, 10]#最短経路:Noneが5つ\n",
    "print(\"解答のNoneの数:\", collections.Counter(list_T_test2)[None]) # list_TをNoneで初期化しない場合無意味\n",
    "print(list_T_test2[0]==-1, list_T_test2[4]==0, list_T_test2[8:12]==[4, 8, 9, 10])"
   ]
  },
  {
   "cell_type": "markdown",
   "metadata": {},
   "source": [
    "なお、テストで用いている迷路は以下の様な形になっています。"
   ]
  },
  {
   "cell_type": "code",
   "execution_count": null,
   "metadata": {},
   "outputs": [],
   "source": [
    "%matplotlib inline\n",
    "import matplotlib.pyplot as plt, matplotlib.image as mpimg\n",
    "from PIL import Image, ImageDraw, ImageFont#PILで描画する\n",
    "def drawMaze(stnode, goalnode, dic_wall, width, height, unitsize, basex, basey, str_mazename, list_Path):\n",
    "    img = Image.new(\"RGB\", (basex*2+unitsize*width, basey*2+unitsize*height), (255, 255, 255))\n",
    "    draw = ImageDraw.Draw(img)\n",
    "    for x1 in range(0, width):\n",
    "        for y1 in range(0, height):\n",
    "            #上\n",
    "            if dic_wall[(x1, y1, x1, y1-1)] is False:\n",
    "                dx1 = basex + (x1+0) * unitsize\n",
    "                dy1 = basey + (y1+0) * unitsize\n",
    "                dx2 = basex + (x1+1) * unitsize\n",
    "                dy2 = basey + (y1+0) * unitsize\n",
    "                draw.line((dx1, dy1, dx2, dy2), fill=(0, 0, 0), width=2)\n",
    "            #右\n",
    "            if dic_wall[(x1, y1, x1+1, y1)] is False:\n",
    "                dx1 = basex + (x1+1) * unitsize\n",
    "                dy1 = basey + (y1+0) * unitsize\n",
    "                dx2 = basex + (x1+1) * unitsize\n",
    "                dy2 = basey + (y1+1) * unitsize\n",
    "                draw.line((dx1, dy1, dx2, dy2), fill=(0, 0, 0), width=2)\n",
    "            #下\n",
    "            if dic_wall[(x1, y1, x1, y1+1)] is False:\n",
    "                dx1 = basex + (x1+0) * unitsize\n",
    "                dy1 = basey + (y1+1) * unitsize\n",
    "                dx2 = basex + (x1+1) * unitsize\n",
    "                dy2 = basey + (y1+1) * unitsize\n",
    "                draw.line((dx1, dy1, dx2, dy2), fill=(0, 0, 0), width=2)\n",
    "            #左\n",
    "            if dic_wall[(x1, y1, x1-1, y1)] is False:\n",
    "                dx1 = basex + (x1+0) * unitsize\n",
    "                dy1 = basey + (y1+0) * unitsize\n",
    "                dx2 = basex + (x1+0) * unitsize\n",
    "                dy2 = basey + (y1+1) * unitsize\n",
    "                draw.line((dx1, dy1, dx2, dy2), fill=(0, 0, 0), width=2)\n",
    "    #探索経路描画\n",
    "    for snode, tnode in enumerate(list_Path):\n",
    "        if tnode is None or tnode == -1:\n",
    "            continue\n",
    "        sx, sy = getNodePosFromName(snode, width)\n",
    "        tx, ty = getNodePosFromName(tnode, width)\n",
    "        dx1 = basex + sx * unitsize + unitsize/2\n",
    "        dy1 = basey + sy * unitsize + unitsize/2\n",
    "        dx2 = basex + tx * unitsize + unitsize/2\n",
    "        dy2 = basey + ty * unitsize + unitsize/2\n",
    "        draw.line((dx1, dy1, dx2, dy2), fill=(250, 150, 150), width=2)\n",
    "    #スタート地点\n",
    "    sx, sy = getNodePosFromName(stnode, width)\n",
    "    dx1 = basex + sx * unitsize\n",
    "    dy1 = basey + sy * unitsize\n",
    "    draw.ellipse((dx1+unitsize/3, dy1+unitsize/3, dx1+unitsize*2/3, dy1+unitsize*2/3), fill=(255, 0, 0), outline=(0, 0, 0))\n",
    "    #ゴール地点\n",
    "    gx, gy = getNodePosFromName(goalnode, width)\n",
    "    dx1 = basex + gx * unitsize\n",
    "    dy1 = basey + gy * unitsize\n",
    "    draw.ellipse((dx1+unitsize/3, dy1+unitsize/3, dx1+unitsize*2/3, dy1+unitsize*2/3), fill=(0, 0, 255), outline=(0, 0, 0))\n",
    "    img.save(str_mazename)\n",
    "    img = mpimg.imread(str_mazename)\n",
    "    plt.axis('off')\n",
    "    imgplot = plt.imshow(img)\n",
    "#頂点座標取得\n",
    "def getNodePosFromName(id1, width):\n",
    "    return id1 % width, id1 // width\n",
    "#隣接リストから壁のある位置を決定する\n",
    "def constructWallsFromAdjList(list_adjlist, width, height):\n",
    "    dic_wall = {}\n",
    "    #最初は全てを壁にする\n",
    "    for x1 in range(0, width):\n",
    "        for y1 in range(0, height):\n",
    "            #上\n",
    "            dic_wall[(x1, y1, x1, y1-1)] = False\n",
    "            #右\n",
    "            dic_wall[(x1, y1, x1+1, y1)] = False\n",
    "            #下\n",
    "            dic_wall[(x1, y1, x1, y1+1)] = False\n",
    "            #左\n",
    "            dic_wall[(x1, y1, x1-1, y1)] = False\n",
    "    #隣接リストの枝部分は壁を取り除く\n",
    "    for sid1, list_adj in enumerate(list_adjlist):\n",
    "        for tid1 in list_adj:\n",
    "            tx1, ty1 = getNodePosFromName(tid1, width)\n",
    "            sx1, sy1 = getNodePosFromName(sid1, width)\n",
    "            dic_wall[(tx1, ty1, sx1, sy1)] = True\n",
    "            dic_wall[(sx1, sy1, tx1, ty1)] = True\n",
    "    return dic_wall\n",
    "size1 = 50\n",
    "basex1 = 10\n",
    "basey1 = 10\n",
    "width_test1 = 3; height_test1 = 3; stnode_test = 0; goalnode_test1 = 8\n",
    "dic_wall1 = constructWallsFromAdjList(list_adjlist_test1, width_test1, height_test1)\n",
    "drawMaze(stnode_test, goalnode_test1, dic_wall1, width_test1, height_test1, size1, basex1, basey1, \"maze1.png\", list_T_test1)"
   ]
  },
  {
   "cell_type": "markdown",
   "metadata": {},
   "source": [
    "左上が根の頂点で `0` 、その右隣が `1`, その右隣が `2`, `0` の下に戻って `3`, と続きます。右下が `len(list_adjlist_test1)-1` の頂点です。桃色？の線は探索の経路（最短経路）です。"
   ]
  },
  {
   "cell_type": "code",
   "execution_count": null,
   "metadata": {},
   "outputs": [],
   "source": [
    "width_test2 = 4; height_test2 = 3; stnode_test = 0; goalnode_test2 = 11\n",
    "dic_wall2 = constructWallsFromAdjList(list_adjlist_test2, width_test2, height_test2)\n",
    "drawMaze(stnode_test, goalnode_test2, dic_wall2, width_test2, height_test2, size1, basex1, basey1, \"maze2.png\", list_T_test2)"
   ]
  },
  {
   "cell_type": "markdown",
   "metadata": {},
   "source": [
    "もう少し大きな迷路を考えてみましょう。"
   ]
  },
  {
   "cell_type": "code",
   "execution_count": null,
   "metadata": {},
   "outputs": [],
   "source": [
    "import collections\n",
    "#最短経路\n",
    "def getShortestPathToGaolInDic(list_T, goalnode):\n",
    "    nownode = goalnode\n",
    "    list_check = [False] * len(list_T)\n",
    "    #ゴールから根まで遡る。途中の点はTrueにする\n",
    "    while(nownode != -1):\n",
    "        list_check[nownode] = True\n",
    "        nownode = list_T[nownode]\n",
    "    #辞書に格納\n",
    "    dic_SPath = {}\n",
    "    for index1, val1 in enumerate(list_check):\n",
    "        if val1 is True:\n",
    "            dic_SPath[index1] = list_T[index1]\n",
    "    return dic_SPath"
   ]
  },
  {
   "cell_type": "code",
   "execution_count": null,
   "metadata": {},
   "outputs": [],
   "source": [
    "list_adjlist_test3 = [[1, 30], [2], [3], [4], [5], [], [], [], [9], [10], [], [12], [13], [14, 43], [15, 44], [16, 45], [17, 46], [18], [19], [20], [21], [], [], [22], [], [26], [], [28], [29], [], [31, 60], [], [33], [34], [], [36], [6, 37], [7, 38], [8, 39, 68], [40], [], [11, 42], [], [], [], [], [47], [], [49], [50], [], [], [], [23], [24, 55], [25, 56], [57], [27, 58, 87], [59, 88], [89], [61, 90], [62], [32], [], [], [35], [], [], [69], [70, 99], [71], [41, 72], [], [74], [], [], [], [78], [48], [80], [], [51, 82], [52, 83], [53, 84, 113], [54, 85, 114], [86], [], [], [], [], [91, 120], [92, 121], [93, 122], [63, 94, 123], [64, 95, 124], [65, 96, 125], [66, 97, 126], [67, 98, 127], [], [], [], [102], [], [73], [], [75, 106], [76], [77, 108], [109], [79, 110], [], [81, 112], [], [], [115], [116], [117], [118], [119, 148], [149], [150], [151], [152], [], [154], [155], [], [128, 157], [129], [130, 159], [100, 131, 160], [101, 132, 161], [133], [103, 134, 163], [104, 135, 164], [105, 136, 165], [137, 166], [107, 138, 167], [139], [140, 169], [141, 170], [111, 142, 171], [143], [144], [145], [146], [147], [], [], [], [180], [], [153, 182], [], [], [185], [], [156, 158, 187], [188], [189], [190], [162, 191], [], [193], [194], [], [], [168, 197], [], [], [200], [172, 201], [173, 202], [], [175], [], [], [178], [179], [], [210], [211], [181, 183, 212], [184, 213], [214], [186, 215], [], [217], [218], [], [], [192, 221], [], [], [195], [196, 225], [], [198, 227], [199], [], [], [], [], [], [174, 205], [], [176, 207], [177, 208], [209], [], [240], [], [], [], [244], [216, 245], [], [], [248], [], [219, 250], [220, 222, 251], [223, 252], [224, 253], [254], [226, 255], [256], [228, 257], [229, 258], [], [], [232], [233], [203, 234, 263], [204, 235], [236], [206, 237], [], [239], [], [241, 270], [242, 271], [243], [], [], [246], [], [277], [247, 249, 278], [], [280], [281], [], [], [], [], [286], [], [259, 288], [260, 289], [230, 261, 290], [231, 262, 291], [], [264, 293], [265, 294], [266], [267], [], [238, 269], [], [300], [272, 301], [273], [274], [275], [276, 305], [306], [], [279, 308], [], [], [282, 311], [283], [284, 313], [285], [], [287, 316], [], [], [319], [], [292, 321], [], [], [295, 324], [296], [297], [298], [268, 299], [], [], [302, 331], [], [304], [], [], [336], [], [307, 338], [], [309, 340], [310, 312, 341], [342], [314], [315], [], [], [], [317], [318, 320, 349], [], [322, 351], [], [], [323, 325, 354], [326, 355], [327, 356], [328], [329], [], [360], [330, 332, 361], [333, 362], [303, 334, 363], [], [], [], [], [337, 368], [369], [339, 370], [371], [343, 372], [344, 373], [], [], [], [], [347], [348, 350, 379], [380], [352, 381], [353, 382], [], [], [], [357, 386], [358, 387], [359], [389], [390], [], [392], [364, 393], [], [335], [], [366, 397], [367, 398], [], [], [], [402], [374, 403], [375], [345, 376], [346, 377], [], [], [], [410], [], [383, 412], [384], [414], [], [385, 416], [388], [], [], [391, 420], [], [422], [394, 423], [395, 424], [365, 396], [], [], [399, 428], [400, 429], [401], [], [432], [404, 433], [405, 434], [406], [407, 436], [408, 437], [378, 409, 438], [439], [], [441], [411, 413, 442], [], [], [], [415, 417, 446], [418, 447], [419], [], [421, 450], [451], [], [], [425, 454], [426], [], [], [427, 458], [430, 459], [], [], [], [], [435, 464], [465], [466], [], [468], [], [], [], [443, 472], [], [], [], [], [448, 477], [449, 478], [479], [480], [452, 481], [], [], [453, 455, 484], [456, 485], [], [], [457, 488], [460, 489], [461, 490], [431, 462], [463, 492], [], [], [495], [467, 496], [], [469, 498], [470, 499], [440, 500], [], [471, 473, 502], [474, 503], [444, 475, 504], [445, 476, 505], [506], [], [508], [509], [510], [482, 511], [], [513], [483, 514], [486, 515], [487], [517], [], [519], [491, 520], [521], [493, 522], [494, 523], [524], [525], [526], [527], [497, 528], [529], [501], [], [532], [], [534], [], [507, 536], [], [], [], [540], [512, 541], [], [], [], [516, 545], [], [518, 547], [], [549], [], [551], [552], [], [], [], [556], [], [], [530, 559], [531, 560], [], [533, 562], [], [], [565], [535, 537, 566], [538, 567], [539], [], [570], [542, 571], [], [573], [543], [544, 546, 575], [], [], [], [548, 550, 579], [], [], [553, 582], [554, 583], [555, 584], [], [586], [], [557], [558, 589], [561, 590], [], [563, 592], [593], [], [564], [596], [568, 597], [569], [], [600], [572, 601], [602], [603], [], [574, 576, 605], [577, 606], [578], [], [580, 609], [581], [], [], [], [585, 614], [], [616], [617], [587, 618], [588, 619], [591, 620], [], [], [], [], [594], [], [598, 627], [], [], [630], [], [], [], [], [604, 635], [607, 636], [608, 637], [638], [610], [611, 640], [], [613], [], [], [645], [615, 646], [647], [648], [], [621, 650], [622], [], [], [], [595, 624], [625, 656], [626, 628, 657], [629], [599], [631, 660], [632, 661], [662], [], [633, 664], [634, 665], [666], [], [639, 668], [], [641], [642, 671], [612, 643, 672], [644, 673], [674], [675], [], [], [], [679], [649, 651, 680], [652, 681], [653, 682], [623, 654, 683], [684], [], [655, 686], [658, 687], [659, 688], [689], [690], [], [663, 692], [693], [], [695], [696], [], [667, 669, 698], [670, 699], [], [], [], [], [], [], [706], [676, 707], [677, 708], [678, 709], [], [711], [], [713], [], [], [685, 716], [717], [], [], [691, 720], [], [], [694, 723], [724], [], [], [], [697, 728], [700, 729], [701, 730], [], [703], [704], [705], [], [736], [], [738], [710, 739], [], [741], [], [712, 743], [], [714, 745], [715, 746], [718, 747], [719, 748], [749], [721, 750], [], [752], [722, 753], [], [], [725], [726, 757], [727, 758], [], [731, 760], [732, 761], [702, 733, 762], [734], [], [], [], [], [], [740, 769], [], [771], [772], [742, 773], [], [744, 775], [], [777], [778], [], [751, 780], [781], [782], [783], [], [754, 785], [755, 786], [756, 787], [759, 788], [789], [], [], [763, 792], [], [], [735, 766], [767], [737, 768, 797], [], [770, 799], [800], [801], [802], [], [], [774, 776, 805], [], [807], [779], [], [810], [], [], [], [], [784], [], [], [818], [790], [], [821], [791, 793, 822], [794], [764, 795, 824], [765, 796, 825], [], [798, 827], [828], [829], [], [831], [832], [], [803, 834], [804, 806, 835], [836], [808, 837], [809, 838], [839], [], [841], [811, 842], [812, 843], [813, 844], [814, 845], [815, 846], [816, 847], [817, 819, 848], [820, 849], [], [], [823, 852], [], [], [826, 855], [], [], [], [], [], [830, 861], [], [], [833], [865], [866], [], [868], [869], [870], [840, 871], [872], [], [874], [875], [876], [877], [], [850, 879], [851], [], [853, 882], [], [], [854, 856, 885], [], [], [859], [], [], [860, 862, 891], [892], [], [863], [864, 895], [867], [], [], [899], [], [], [], [], [873], [], [], [], [], [878, 880], [881], [], [883], [884], [], [886], [887], [857, 888], [858, 889], [], [], [890], [], [], [893], [894, 896], [897], [], [], [898]]\n",
    "width_test3 = 30; height_test3 = 30; stnode_test = 0; goalnode_test3 = 897\n",
    "list_T_test3 = solveMazeAtRandom(list_adjlist_test3, goalnode_test3, 5280)\n",
    "dic_SPath_test3 = getShortestPathToGaolInDic(list_T_test3, goalnode_test3)\n",
    "print(\"解答のNoneの数:\", collections.Counter(list_T_test3)[None], \" 最短経路のNoneの数:\", width_test3 * height_test3 - len(dic_SPath_test3)) # list_TをNoneで初期化しない場合無意味"
   ]
  },
  {
   "cell_type": "markdown",
   "metadata": {},
   "source": [
    "可視化します。"
   ]
  },
  {
   "cell_type": "code",
   "execution_count": null,
   "metadata": {},
   "outputs": [],
   "source": [
    "dic_wall3 = constructWallsFromAdjList(list_adjlist_test3, width_test3, height_test3)\n",
    "drawMaze(stnode_test, goalnode_test3, dic_wall3, width_test3, height_test3, size1, basex1, basey1, \"maze3.png\", list_T_test3)"
   ]
  },
  {
   "cell_type": "markdown",
   "metadata": {},
   "source": [
    "幅優先探索より大分良くなりました。"
   ]
  },
  {
   "cell_type": "markdown",
   "metadata": {},
   "source": [
    "## 迷路の解法（深さ優先探索）\n",
    "\n",
    "迷路が与えられたときに、スタート地点からゴール地点までの経路を深さ優先探索を用いて求める関数 `solveMazeUsingDFS` を作成してください。\n",
    "\n",
    "具体的には、与えられる迷路は木構造 $T$ で表すことができ（すなわち、一周回って戻ってくる様な経路は存在しません）、$T$ を表す隣接リスト `list_adjlist` とゴール地点 `goalnode` が引数として与えられます。そこで、$T$ に対して深さ優先探索を行って `goalnode` までの経路（厳密には、 `goalnode` からスタート地点までの経路）を表すリスト `list_T` を返す関数 `soliveMazeUsingDFS` を作成して下さい。以下の点に注意して解答して下さい。\n",
    "\n",
    "1. 各点は `0` 以上の整数で表されます。\n",
    "2. スタート地点（根）を表す番号は `0` です。\n",
    "3. `list_T` の `i` 番目の要素 `list_T[i]` は、スタート地点から点 `i` までの最短経路上において、点 `i` に隣接する点の名前を格納します。ただし、 `list_T[0]` には `-1` を格納して下さい。\n",
    "    * 例えば、点 `0` から点 `10` への最短経路が、`0,6,3,10` である場合、`list_T[0], list_T[6], list_T[3], list_T[10]` にはそれぞれ `-1, 0, 6, 3` が格納されます（点 `10` からスタート地点までの経路を表しています）。\n",
    "4. `list_T` を最初に `None` で初期化し、探索を行わなかった点 `i` に対して、 `list_T[i] = None` が成立することが望ましいです。\n",
    "5. ゴール地点 `goalnode` は必ず `0` 以上、`len(list_adjlist)-1` 以下の整数です。\n",
    "6. ゴール地点 `goalnode` に着いたときに探索を打ち切らなくても構いませんが、途中で打ち切った方が迷路を解くという意味では優れています。\n",
    "\n",
    "以下のセルの `...` のところを書き換えて解答して下さい。\n",
    "<a id=\"solveMazeUsingDFSQ\" href=\"#solveMazeUsingDFSA\">[解答]</a>"
   ]
  },
  {
   "cell_type": "code",
   "execution_count": null,
   "metadata": {},
   "outputs": [],
   "source": [
    "#解答用セル\n",
    "class StackClass:\n",
    "    ...\n",
    "#\n",
    "def solveMazeUsingDFS(list_adjlist, goalnode):\n",
    "    ..."
   ]
  },
  {
   "cell_type": "markdown",
   "metadata": {},
   "source": [
    "上のセルで解答を作成した後、以下のセルを実行し、実行結果が `True` になることを確認して下さい。"
   ]
  },
  {
   "cell_type": "code",
   "execution_count": null,
   "metadata": {
    "scrolled": false
   },
   "outputs": [],
   "source": [
    "import collections\n",
    "list_adjlist_test1 = [[1, 3], [2, 4], [5], [], [7], [8], [], [6], []]\n",
    "list_T_test1 = solveMazeUsingDFS(list_adjlist_test1, 8)\n",
    "#[-1, 0, 1, None, None, 2, None, None, 5]#最短経路:Noneが4つ\n",
    "print(\"解答のNoneの数:\", collections.Counter(list_T_test1)[None]) # list_TをNoneで初期化しない場合無意味\n",
    "print(list_T_test1[0:3]==[-1,0,1], list_T_test1[5]==2, list_T_test1[8]==5)\n",
    "list_adjlist_test2=[[1, 4], [2], [3, 6], [], [5, 8], [], [7], [], [9], [10], [11], []]\n",
    "list_T_test2 = solveMazeUsingDFS(list_adjlist_test2, 11)\n",
    "#[-1, None, None, None, 0, None, None, None, 4, 8, 9, 10]#最短経路:Noneが5つ\n",
    "print(\"解答のNoneの数:\", collections.Counter(list_T_test2)[None]) # list_TをNoneで初期化しない場合無意味\n",
    "print(list_T_test2[0]==-1, list_T_test2[4]==0, list_T_test2[8:12]==[4, 8, 9, 10])"
   ]
  },
  {
   "cell_type": "markdown",
   "metadata": {},
   "source": [
    "なお、テストで用いている迷路は以下の様な形になっています。"
   ]
  },
  {
   "cell_type": "code",
   "execution_count": null,
   "metadata": {},
   "outputs": [],
   "source": [
    "%matplotlib inline\n",
    "import matplotlib.pyplot as plt, matplotlib.image as mpimg\n",
    "from PIL import Image, ImageDraw, ImageFont#PILで描画する\n",
    "def drawMaze(stnode, goalnode, dic_wall, width, height, unitsize, basex, basey, str_mazename, list_Path):\n",
    "    img = Image.new(\"RGB\", (basex*2+unitsize*width, basey*2+unitsize*height), (255, 255, 255))\n",
    "    draw = ImageDraw.Draw(img)\n",
    "    for x1 in range(0, width):\n",
    "        for y1 in range(0, height):\n",
    "            #上\n",
    "            if dic_wall[(x1, y1, x1, y1-1)] is False:\n",
    "                dx1 = basex + (x1+0) * unitsize\n",
    "                dy1 = basey + (y1+0) * unitsize\n",
    "                dx2 = basex + (x1+1) * unitsize\n",
    "                dy2 = basey + (y1+0) * unitsize\n",
    "                draw.line((dx1, dy1, dx2, dy2), fill=(0, 0, 0), width=2)\n",
    "            #右\n",
    "            if dic_wall[(x1, y1, x1+1, y1)] is False:\n",
    "                dx1 = basex + (x1+1) * unitsize\n",
    "                dy1 = basey + (y1+0) * unitsize\n",
    "                dx2 = basex + (x1+1) * unitsize\n",
    "                dy2 = basey + (y1+1) * unitsize\n",
    "                draw.line((dx1, dy1, dx2, dy2), fill=(0, 0, 0), width=2)\n",
    "            #下\n",
    "            if dic_wall[(x1, y1, x1, y1+1)] is False:\n",
    "                dx1 = basex + (x1+0) * unitsize\n",
    "                dy1 = basey + (y1+1) * unitsize\n",
    "                dx2 = basex + (x1+1) * unitsize\n",
    "                dy2 = basey + (y1+1) * unitsize\n",
    "                draw.line((dx1, dy1, dx2, dy2), fill=(0, 0, 0), width=2)\n",
    "            #左\n",
    "            if dic_wall[(x1, y1, x1-1, y1)] is False:\n",
    "                dx1 = basex + (x1+0) * unitsize\n",
    "                dy1 = basey + (y1+0) * unitsize\n",
    "                dx2 = basex + (x1+0) * unitsize\n",
    "                dy2 = basey + (y1+1) * unitsize\n",
    "                draw.line((dx1, dy1, dx2, dy2), fill=(0, 0, 0), width=2)\n",
    "    #探索経路描画\n",
    "    for snode, tnode in enumerate(list_Path):\n",
    "        if tnode is None or tnode == -1:\n",
    "            continue\n",
    "        sx, sy = getNodePosFromName(snode, width)\n",
    "        tx, ty = getNodePosFromName(tnode, width)\n",
    "        dx1 = basex + sx * unitsize + unitsize/2\n",
    "        dy1 = basey + sy * unitsize + unitsize/2\n",
    "        dx2 = basex + tx * unitsize + unitsize/2\n",
    "        dy2 = basey + ty * unitsize + unitsize/2\n",
    "        draw.line((dx1, dy1, dx2, dy2), fill=(250, 150, 150), width=2)\n",
    "    #スタート地点\n",
    "    sx, sy = getNodePosFromName(stnode, width)\n",
    "    dx1 = basex + sx * unitsize\n",
    "    dy1 = basey + sy * unitsize\n",
    "    draw.ellipse((dx1+unitsize/3, dy1+unitsize/3, dx1+unitsize*2/3, dy1+unitsize*2/3), fill=(255, 0, 0), outline=(0, 0, 0))\n",
    "    #ゴール地点\n",
    "    gx, gy = getNodePosFromName(goalnode, width)\n",
    "    dx1 = basex + gx * unitsize\n",
    "    dy1 = basey + gy * unitsize\n",
    "    draw.ellipse((dx1+unitsize/3, dy1+unitsize/3, dx1+unitsize*2/3, dy1+unitsize*2/3), fill=(0, 0, 255), outline=(0, 0, 0))\n",
    "    img.save(str_mazename)\n",
    "    img = mpimg.imread(str_mazename)\n",
    "    plt.axis('off')\n",
    "    imgplot = plt.imshow(img)\n",
    "#頂点座標取得\n",
    "def getNodePosFromName(id1, width):\n",
    "    return id1 % width, id1 // width\n",
    "#隣接リストから壁のある位置を決定する\n",
    "def constructWallsFromAdjList(list_adjlist, width, height):\n",
    "    dic_wall = {}\n",
    "    #最初は全てを壁にする\n",
    "    for x1 in range(0, width):\n",
    "        for y1 in range(0, height):\n",
    "            #上\n",
    "            dic_wall[(x1, y1, x1, y1-1)] = False\n",
    "            #右\n",
    "            dic_wall[(x1, y1, x1+1, y1)] = False\n",
    "            #下\n",
    "            dic_wall[(x1, y1, x1, y1+1)] = False\n",
    "            #左\n",
    "            dic_wall[(x1, y1, x1-1, y1)] = False\n",
    "    #隣接リストの枝部分は壁を取り除く\n",
    "    for sid1, list_adj in enumerate(list_adjlist):\n",
    "        for tid1 in list_adj:\n",
    "            tx1, ty1 = getNodePosFromName(tid1, width)\n",
    "            sx1, sy1 = getNodePosFromName(sid1, width)\n",
    "            dic_wall[(tx1, ty1, sx1, sy1)] = True\n",
    "            dic_wall[(sx1, sy1, tx1, ty1)] = True\n",
    "    return dic_wall\n",
    "size1 = 50\n",
    "basex1 = 10\n",
    "basey1 = 10\n",
    "width_test1 = 3; height_test1 = 3; stnode_test = 0; goalnode_test1 = 8\n",
    "dic_wall1 = constructWallsFromAdjList(list_adjlist_test1, width_test1, height_test1)\n",
    "drawMaze(stnode_test, goalnode_test1, dic_wall1, width_test1, height_test1, size1, basex1, basey1, \"maze1.png\", list_T_test1)"
   ]
  },
  {
   "cell_type": "markdown",
   "metadata": {},
   "source": [
    "左上が根の頂点で `0` 、その右隣が `1`, その右隣が `2`, `0` の下に戻って `3`, と続きます。右下が `len(list_adjlist_test1)-1` の頂点です。桃色？の線は探索の経路（最短経路）です。"
   ]
  },
  {
   "cell_type": "code",
   "execution_count": null,
   "metadata": {},
   "outputs": [],
   "source": [
    "width_test2 = 4; height_test2 = 3; stnode_test = 0; goalnode_test2 = 11\n",
    "dic_wall2 = constructWallsFromAdjList(list_adjlist_test2, width_test2, height_test2)\n",
    "drawMaze(stnode_test, goalnode_test2, dic_wall2, width_test2, height_test2, size1, basex1, basey1, \"maze2.png\", list_T_test2)"
   ]
  },
  {
   "cell_type": "markdown",
   "metadata": {},
   "source": [
    "もう少し大きな迷路を考えてみましょう。"
   ]
  },
  {
   "cell_type": "code",
   "execution_count": null,
   "metadata": {},
   "outputs": [],
   "source": [
    "import collections\n",
    "#最短経路\n",
    "def getShortestPathToGaolInDic(list_T, goalnode):\n",
    "    nownode = goalnode\n",
    "    list_check = [False] * len(list_T)\n",
    "    #ゴールから根まで遡る。途中の点はTrueにする\n",
    "    while(nownode != -1):\n",
    "        list_check[nownode] = True\n",
    "        nownode = list_T[nownode]\n",
    "    #辞書に格納\n",
    "    dic_SPath = {}\n",
    "    for index1, val1 in enumerate(list_check):\n",
    "        if val1 is True:\n",
    "            dic_SPath[index1] = list_T[index1]\n",
    "    return dic_SPath"
   ]
  },
  {
   "cell_type": "code",
   "execution_count": null,
   "metadata": {},
   "outputs": [],
   "source": [
    "list_adjlist_test3 = [[1, 30], [2], [3], [4], [5], [], [], [], [9], [10], [], [12], [13], [14, 43], [15, 44], [16, 45], [17, 46], [18], [19], [20], [21], [], [], [22], [], [26], [], [28], [29], [], [31, 60], [], [33], [34], [], [36], [6, 37], [7, 38], [8, 39, 68], [40], [], [11, 42], [], [], [], [], [47], [], [49], [50], [], [], [], [23], [24, 55], [25, 56], [57], [27, 58, 87], [59, 88], [89], [61, 90], [62], [32], [], [], [35], [], [], [69], [70, 99], [71], [41, 72], [], [74], [], [], [], [78], [48], [80], [], [51, 82], [52, 83], [53, 84, 113], [54, 85, 114], [86], [], [], [], [], [91, 120], [92, 121], [93, 122], [63, 94, 123], [64, 95, 124], [65, 96, 125], [66, 97, 126], [67, 98, 127], [], [], [], [102], [], [73], [], [75, 106], [76], [77, 108], [109], [79, 110], [], [81, 112], [], [], [115], [116], [117], [118], [119, 148], [149], [150], [151], [152], [], [154], [155], [], [128, 157], [129], [130, 159], [100, 131, 160], [101, 132, 161], [133], [103, 134, 163], [104, 135, 164], [105, 136, 165], [137, 166], [107, 138, 167], [139], [140, 169], [141, 170], [111, 142, 171], [143], [144], [145], [146], [147], [], [], [], [180], [], [153, 182], [], [], [185], [], [156, 158, 187], [188], [189], [190], [162, 191], [], [193], [194], [], [], [168, 197], [], [], [200], [172, 201], [173, 202], [], [175], [], [], [178], [179], [], [210], [211], [181, 183, 212], [184, 213], [214], [186, 215], [], [217], [218], [], [], [192, 221], [], [], [195], [196, 225], [], [198, 227], [199], [], [], [], [], [], [174, 205], [], [176, 207], [177, 208], [209], [], [240], [], [], [], [244], [216, 245], [], [], [248], [], [219, 250], [220, 222, 251], [223, 252], [224, 253], [254], [226, 255], [256], [228, 257], [229, 258], [], [], [232], [233], [203, 234, 263], [204, 235], [236], [206, 237], [], [239], [], [241, 270], [242, 271], [243], [], [], [246], [], [277], [247, 249, 278], [], [280], [281], [], [], [], [], [286], [], [259, 288], [260, 289], [230, 261, 290], [231, 262, 291], [], [264, 293], [265, 294], [266], [267], [], [238, 269], [], [300], [272, 301], [273], [274], [275], [276, 305], [306], [], [279, 308], [], [], [282, 311], [283], [284, 313], [285], [], [287, 316], [], [], [319], [], [292, 321], [], [], [295, 324], [296], [297], [298], [268, 299], [], [], [302, 331], [], [304], [], [], [336], [], [307, 338], [], [309, 340], [310, 312, 341], [342], [314], [315], [], [], [], [317], [318, 320, 349], [], [322, 351], [], [], [323, 325, 354], [326, 355], [327, 356], [328], [329], [], [360], [330, 332, 361], [333, 362], [303, 334, 363], [], [], [], [], [337, 368], [369], [339, 370], [371], [343, 372], [344, 373], [], [], [], [], [347], [348, 350, 379], [380], [352, 381], [353, 382], [], [], [], [357, 386], [358, 387], [359], [389], [390], [], [392], [364, 393], [], [335], [], [366, 397], [367, 398], [], [], [], [402], [374, 403], [375], [345, 376], [346, 377], [], [], [], [410], [], [383, 412], [384], [414], [], [385, 416], [388], [], [], [391, 420], [], [422], [394, 423], [395, 424], [365, 396], [], [], [399, 428], [400, 429], [401], [], [432], [404, 433], [405, 434], [406], [407, 436], [408, 437], [378, 409, 438], [439], [], [441], [411, 413, 442], [], [], [], [415, 417, 446], [418, 447], [419], [], [421, 450], [451], [], [], [425, 454], [426], [], [], [427, 458], [430, 459], [], [], [], [], [435, 464], [465], [466], [], [468], [], [], [], [443, 472], [], [], [], [], [448, 477], [449, 478], [479], [480], [452, 481], [], [], [453, 455, 484], [456, 485], [], [], [457, 488], [460, 489], [461, 490], [431, 462], [463, 492], [], [], [495], [467, 496], [], [469, 498], [470, 499], [440, 500], [], [471, 473, 502], [474, 503], [444, 475, 504], [445, 476, 505], [506], [], [508], [509], [510], [482, 511], [], [513], [483, 514], [486, 515], [487], [517], [], [519], [491, 520], [521], [493, 522], [494, 523], [524], [525], [526], [527], [497, 528], [529], [501], [], [532], [], [534], [], [507, 536], [], [], [], [540], [512, 541], [], [], [], [516, 545], [], [518, 547], [], [549], [], [551], [552], [], [], [], [556], [], [], [530, 559], [531, 560], [], [533, 562], [], [], [565], [535, 537, 566], [538, 567], [539], [], [570], [542, 571], [], [573], [543], [544, 546, 575], [], [], [], [548, 550, 579], [], [], [553, 582], [554, 583], [555, 584], [], [586], [], [557], [558, 589], [561, 590], [], [563, 592], [593], [], [564], [596], [568, 597], [569], [], [600], [572, 601], [602], [603], [], [574, 576, 605], [577, 606], [578], [], [580, 609], [581], [], [], [], [585, 614], [], [616], [617], [587, 618], [588, 619], [591, 620], [], [], [], [], [594], [], [598, 627], [], [], [630], [], [], [], [], [604, 635], [607, 636], [608, 637], [638], [610], [611, 640], [], [613], [], [], [645], [615, 646], [647], [648], [], [621, 650], [622], [], [], [], [595, 624], [625, 656], [626, 628, 657], [629], [599], [631, 660], [632, 661], [662], [], [633, 664], [634, 665], [666], [], [639, 668], [], [641], [642, 671], [612, 643, 672], [644, 673], [674], [675], [], [], [], [679], [649, 651, 680], [652, 681], [653, 682], [623, 654, 683], [684], [], [655, 686], [658, 687], [659, 688], [689], [690], [], [663, 692], [693], [], [695], [696], [], [667, 669, 698], [670, 699], [], [], [], [], [], [], [706], [676, 707], [677, 708], [678, 709], [], [711], [], [713], [], [], [685, 716], [717], [], [], [691, 720], [], [], [694, 723], [724], [], [], [], [697, 728], [700, 729], [701, 730], [], [703], [704], [705], [], [736], [], [738], [710, 739], [], [741], [], [712, 743], [], [714, 745], [715, 746], [718, 747], [719, 748], [749], [721, 750], [], [752], [722, 753], [], [], [725], [726, 757], [727, 758], [], [731, 760], [732, 761], [702, 733, 762], [734], [], [], [], [], [], [740, 769], [], [771], [772], [742, 773], [], [744, 775], [], [777], [778], [], [751, 780], [781], [782], [783], [], [754, 785], [755, 786], [756, 787], [759, 788], [789], [], [], [763, 792], [], [], [735, 766], [767], [737, 768, 797], [], [770, 799], [800], [801], [802], [], [], [774, 776, 805], [], [807], [779], [], [810], [], [], [], [], [784], [], [], [818], [790], [], [821], [791, 793, 822], [794], [764, 795, 824], [765, 796, 825], [], [798, 827], [828], [829], [], [831], [832], [], [803, 834], [804, 806, 835], [836], [808, 837], [809, 838], [839], [], [841], [811, 842], [812, 843], [813, 844], [814, 845], [815, 846], [816, 847], [817, 819, 848], [820, 849], [], [], [823, 852], [], [], [826, 855], [], [], [], [], [], [830, 861], [], [], [833], [865], [866], [], [868], [869], [870], [840, 871], [872], [], [874], [875], [876], [877], [], [850, 879], [851], [], [853, 882], [], [], [854, 856, 885], [], [], [859], [], [], [860, 862, 891], [892], [], [863], [864, 895], [867], [], [], [899], [], [], [], [], [873], [], [], [], [], [878, 880], [881], [], [883], [884], [], [886], [887], [857, 888], [858, 889], [], [], [890], [], [], [893], [894, 896], [897], [], [], [898]]\n",
    "width_test3 = 30; height_test3 = 30; stnode_test = 0; goalnode_test3 = 897\n",
    "list_T_test3 = solveMazeUsingDFS(list_adjlist_test3, goalnode_test3)\n",
    "dic_SPath_test3 = getShortestPathToGaolInDic(list_T_test3, goalnode_test3)\n",
    "print(\"解答のNoneの数:\", collections.Counter(list_T_test3)[None], \" 最短経路のNoneの数:\", width_test3 * height_test3 - len(dic_SPath_test3)) # list_TをNoneで初期化しない場合無意味"
   ]
  },
  {
   "cell_type": "code",
   "execution_count": null,
   "metadata": {},
   "outputs": [],
   "source": [
    "dic_wall3 = constructWallsFromAdjList(list_adjlist_test3, width_test3, height_test3)\n",
    "drawMaze(stnode_test, goalnode_test3, dic_wall3, width_test3, height_test3, size1, basex1, basey1, \"maze3.png\", list_T_test3)"
   ]
  },
  {
   "cell_type": "markdown",
   "metadata": {},
   "source": [
    "深さ優先探索はスタート地点からなるべく遠ざかる点から探索するので明らか幅優先探索よりは時間がかかっていないことが分かります。"
   ]
  },
  {
   "cell_type": "markdown",
   "metadata": {},
   "source": [
    "## $A*$の前線\n",
    "\n",
    "\n",
    "$A*$と呼ばれる最短経路を求めるアルゴリズムの前線では、前線から点の名前を取り出す際に前線の中の全ての点の中で最小のスコアを持つ点を選択します。（スコアはその点までの最短距離と目的地点までの最短距離の推定値の和です。）\n",
    "\n",
    "\n",
    "そこで、$A*$が次に訪問する頂点を決定する前線 `AStarFrontClass` を作成して下さい。以下の点に注意して解答して下さい。\n",
    "\n",
    "1. クラス `AStarFrontClass` はリスト（もしくは `deque` ） `list_data` を持ち、要素を `list_data` に要素を追加するメソッド `put` と、`list_data` から要素を取り出すためのメソッド `get` を持ちます。\n",
    "2. コンストラクタ (`__init__`) は `list_data` を初期化します。\n",
    "3. メソッド `put` は頂点の名前 `node1` と起点から `node1` までの最短距離 `DisA` 、`node1` から目的地点までの最短距離の推定値 `DisB` を引数に取ります。ここで、ヒープ `list_data` に `node1` のスコアをキーとする値を挿入します。\n",
    "4. メソッド `get` は ヒープ `list_data` から最小のスコアを持つ点を取り出し、返り値として、その最小のスコアを持つ点の名前 `node1` を返します。  \n",
    " * `get` が実行される場合、`list_data` には必ず1つ以上の要素が格納されていると仮定して構いません。\n",
    "\n",
    "以下のセルの `...` のところを書き換えて解答して下さい。<a id=\"AStarFrontClassQ\" href=\"#AStarFrontClassA\">[解答]</a>"
   ]
  },
  {
   "cell_type": "code",
   "execution_count": null,
   "metadata": {},
   "outputs": [],
   "source": [
    "#解答用セル\n",
    "import ...\n",
    "class AStarFrontClass:\n",
    "    def __init__(self):# 初期化\n",
    "       ...\n",
    "    def put(self, node1, DisA, DisB):\n",
    "        ...\n",
    "    def get(self):\n",
    "        ...\n",
    "        return node1\n",
    "    def length(self): \n",
    "        return len(self.list_data)"
   ]
  },
  {
   "cell_type": "markdown",
   "metadata": {},
   "source": [
    "上のセルで解答を作成した後、以下のセルを実行し、実行結果が `True` になることを確認して下さい。"
   ]
  },
  {
   "cell_type": "code",
   "execution_count": null,
   "metadata": {},
   "outputs": [],
   "source": [
    "ASFront = AStarFrontClass()\n",
    "ASFront.put(0, 0, 10)\n",
    "ASFront.put(1, 2, 7)\n",
    "ASFront.put(2, 3, 5)\n",
    "node1 = ASFront.get()\n",
    "print(node1==2)\n",
    "ASFront.put(3, 3, 3)\n",
    "ASFront.put(4, 3, 6)\n",
    "node2 = ASFront.get()\n",
    "print(node2==3)\n",
    "node3 = ASFront.get()\n",
    "print(node3==1)"
   ]
  },
  {
   "cell_type": "markdown",
   "metadata": {},
   "source": [
    "## 迷路の解法（$A*$）\n",
    "\n",
    "迷路が与えられたときに、スタート地点からゴール地点までの経路を$A*$を用いて求める関数 `solveMazeUsingAStar` を作成して下さい。\n",
    "\n",
    "具体的には、与えられる迷路は木構造 $T$ で表すことができ（すなわち、一周回って戻ってくる様な経路は存在しません）、$T$ を表す隣接リスト `list_adjlist` とゴール地点 `goalnode` と迷路の幅 `mazewidth`  が引数として与えられます。そこで、$T$ に対して$A*$による探索を行って `goalnode` までの経路（厳密には、 `goalnode` からスタート地点までの経路）を表すリスト `list_T` を返す関数 `solveMazeUsingAStar` を作成して下さい。以下の点に注意して解答して下さい。\n",
    "\n",
    "1. 各点は `0` 以上の整数で表されます。\n",
    "2. スタート地点（根）を表す番号は `0` です。\n",
    "3. `list_T` の `i` 番目の要素 `list_T[i]` は、スタート地点から点 `i` までの最短経路上において、点 `i` に隣接する点の名前を格納します。ただし、 `list_T[0]` には `-1` を格納して下さい。\n",
    "    * 例えば、点 `0` から点 `10` への最短経路が、`0,6,3,10` である場合、`list_T[0], list_T[6], list_T[3], list_T[10]` にはそれぞれ `-1, 0, 6, 3` が格納されます（点 `10` からスタート地点までの経路を表しています）。\n",
    "4. `list_T` を最初に `None` で初期化し、探索を行わなかった点 `i` に対して、 `list_T[i] = None` が成立することが望ましいです。\n",
    "5. ゴール地点 `goalnode` は必ず `0` 以上、`len(list_adjlist)-1` 以下の整数です。\n",
    "6. ゴール地点 `goalnode` に着いたときに探索を打ち切らなくても構いませんが、途中で打ち切った方が迷路を解くという意味では優れています。\n",
    "7. $A*$ の前線として前問の `AStarFrontClass` を使います。 \n",
    "8. 頂点 `node1` から頂点 `node2` まで最短距離の推定値は以下で定義されている関数 `guessShortestDistance(node1, node2, mazewidth)` の返り値を利用します。\n",
    "\n",
    "以下のセルの `...` のところを書き換えて解答して下さい。\n",
    "<a id=\"solveMazeUsingAStarQ\" href=\"#solveMazeUsingAStarA\">[解答]</a>"
   ]
  },
  {
   "cell_type": "code",
   "execution_count": null,
   "metadata": {},
   "outputs": [],
   "source": [
    "#解答用セル\n",
    "# node1とnode2の間の最短距離の推定値\n",
    "def guessShortestDistance(node1, node2, mazewidth):\n",
    "    x1, y1 = node1 % mazewidth, node1 // mazewidth\n",
    "    x2, y2 = node2 % mazewidth, node2 // mazewidth\n",
    "    return abs(x1-x2) + abs(y1-y2)\n",
    "# 前線\n",
    "import ...\n",
    "class AStarFrontClass:\n",
    "   ...\n",
    "#迷路探索（A*）\n",
    "def solveMazeUsingAStar(list_adjlist, goalnode, mazewidth):\n",
    "    ..."
   ]
  },
  {
   "cell_type": "markdown",
   "metadata": {},
   "source": [
    "上のセルで解答を作成した後、以下のセルを実行し、実行結果が `True` になることを確認して下さい。"
   ]
  },
  {
   "cell_type": "code",
   "execution_count": null,
   "metadata": {
    "scrolled": false
   },
   "outputs": [],
   "source": [
    "import collections\n",
    "list_adjlist_test1 = [[1, 3], [2, 4], [5], [], [7], [8], [], [6], []]\n",
    "list_T_test1 = solveMazeUsingAStar(list_adjlist_test1, 8, 3)\n",
    "#[-1, 0, 1, None, None, 2, None, None, 5]#最短経路:Noneが4つ\n",
    "print(\"解答のNoneの数:\", collections.Counter(list_T_test1)[None]) # list_TをNoneで初期化しない場合無意味\n",
    "print(list_T_test1[0:3]==[-1,0,1], list_T_test1[5]==2, list_T_test1[8]==5)\n",
    "list_adjlist_test2=[[1, 4], [2], [3, 6], [], [5, 8], [], [7], [], [9], [10], [11], []]\n",
    "list_T_test2 = solveMazeUsingAStar(list_adjlist_test2, 11, 4)\n",
    "#[-1, None, None, None, 0, None, None, None, 4, 8, 9, 10]#最短経路:Noneが5つ\n",
    "print(\"解答のNoneの数:\", collections.Counter(list_T_test2)[None]) # list_TをNoneで初期化しない場合無意味\n",
    "print(list_T_test2[0]==-1, list_T_test2[4]==0, list_T_test2[8:12]==[4, 8, 9, 10])"
   ]
  },
  {
   "cell_type": "markdown",
   "metadata": {},
   "source": [
    "なお、テストで用いている迷路は以下の様な形になっています。"
   ]
  },
  {
   "cell_type": "code",
   "execution_count": null,
   "metadata": {},
   "outputs": [],
   "source": [
    "%matplotlib inline\n",
    "import matplotlib.pyplot as plt, matplotlib.image as mpimg\n",
    "from PIL import Image, ImageDraw, ImageFont#PILで描画する\n",
    "def drawMaze(stnode, goalnode, dic_wall, width, height, unitsize, basex, basey, str_mazename, list_Path):\n",
    "    img = Image.new(\"RGB\", (basex*2+unitsize*width, basey*2+unitsize*height), (255, 255, 255))\n",
    "    draw = ImageDraw.Draw(img)\n",
    "    for x1 in range(0, width):\n",
    "        for y1 in range(0, height):\n",
    "            #上\n",
    "            if dic_wall[(x1, y1, x1, y1-1)] is False:\n",
    "                dx1 = basex + (x1+0) * unitsize\n",
    "                dy1 = basey + (y1+0) * unitsize\n",
    "                dx2 = basex + (x1+1) * unitsize\n",
    "                dy2 = basey + (y1+0) * unitsize\n",
    "                draw.line((dx1, dy1, dx2, dy2), fill=(0, 0, 0), width=2)\n",
    "            #右\n",
    "            if dic_wall[(x1, y1, x1+1, y1)] is False:\n",
    "                dx1 = basex + (x1+1) * unitsize\n",
    "                dy1 = basey + (y1+0) * unitsize\n",
    "                dx2 = basex + (x1+1) * unitsize\n",
    "                dy2 = basey + (y1+1) * unitsize\n",
    "                draw.line((dx1, dy1, dx2, dy2), fill=(0, 0, 0), width=2)\n",
    "            #下\n",
    "            if dic_wall[(x1, y1, x1, y1+1)] is False:\n",
    "                dx1 = basex + (x1+0) * unitsize\n",
    "                dy1 = basey + (y1+1) * unitsize\n",
    "                dx2 = basex + (x1+1) * unitsize\n",
    "                dy2 = basey + (y1+1) * unitsize\n",
    "                draw.line((dx1, dy1, dx2, dy2), fill=(0, 0, 0), width=2)\n",
    "            #左\n",
    "            if dic_wall[(x1, y1, x1-1, y1)] is False:\n",
    "                dx1 = basex + (x1+0) * unitsize\n",
    "                dy1 = basey + (y1+0) * unitsize\n",
    "                dx2 = basex + (x1+0) * unitsize\n",
    "                dy2 = basey + (y1+1) * unitsize\n",
    "                draw.line((dx1, dy1, dx2, dy2), fill=(0, 0, 0), width=2)\n",
    "    #探索経路描画\n",
    "    for snode, tnode in enumerate(list_Path):\n",
    "        if tnode is None or tnode == -1:\n",
    "            continue\n",
    "        sx, sy = getNodePosFromName(snode, width)\n",
    "        tx, ty = getNodePosFromName(tnode, width)\n",
    "        dx1 = basex + sx * unitsize + unitsize/2\n",
    "        dy1 = basey + sy * unitsize + unitsize/2\n",
    "        dx2 = basex + tx * unitsize + unitsize/2\n",
    "        dy2 = basey + ty * unitsize + unitsize/2\n",
    "        draw.line((dx1, dy1, dx2, dy2), fill=(250, 150, 150), width=2)\n",
    "    #スタート地点\n",
    "    sx, sy = getNodePosFromName(stnode, width)\n",
    "    dx1 = basex + sx * unitsize\n",
    "    dy1 = basey + sy * unitsize\n",
    "    draw.ellipse((dx1+unitsize/3, dy1+unitsize/3, dx1+unitsize*2/3, dy1+unitsize*2/3), fill=(255, 0, 0), outline=(0, 0, 0))\n",
    "    #ゴール地点\n",
    "    gx, gy = getNodePosFromName(goalnode, width)\n",
    "    dx1 = basex + gx * unitsize\n",
    "    dy1 = basey + gy * unitsize\n",
    "    draw.ellipse((dx1+unitsize/3, dy1+unitsize/3, dx1+unitsize*2/3, dy1+unitsize*2/3), fill=(0, 0, 255), outline=(0, 0, 0))\n",
    "    img.save(str_mazename)\n",
    "    img = mpimg.imread(str_mazename)\n",
    "    plt.axis('off')\n",
    "    imgplot = plt.imshow(img)\n",
    "#頂点座標取得\n",
    "def getNodePosFromName(id1, width):\n",
    "    return id1 % width, id1 // width\n",
    "#隣接リストから壁のある位置を決定する\n",
    "def constructWallsFromAdjList(list_adjlist, width, height):\n",
    "    dic_wall = {}\n",
    "    #最初は全てを壁にする\n",
    "    for x1 in range(0, width):\n",
    "        for y1 in range(0, height):\n",
    "            #上\n",
    "            dic_wall[(x1, y1, x1, y1-1)] = False\n",
    "            #右\n",
    "            dic_wall[(x1, y1, x1+1, y1)] = False\n",
    "            #下\n",
    "            dic_wall[(x1, y1, x1, y1+1)] = False\n",
    "            #左\n",
    "            dic_wall[(x1, y1, x1-1, y1)] = False\n",
    "    #隣接リストの枝部分は壁を取り除く\n",
    "    for sid1, list_adj in enumerate(list_adjlist):\n",
    "        for tid1 in list_adj:\n",
    "            tx1, ty1 = getNodePosFromName(tid1, width)\n",
    "            sx1, sy1 = getNodePosFromName(sid1, width)\n",
    "            dic_wall[(tx1, ty1, sx1, sy1)] = True\n",
    "            dic_wall[(sx1, sy1, tx1, ty1)] = True\n",
    "    return dic_wall\n",
    "size1 = 50\n",
    "basex1 = 10\n",
    "basey1 = 10\n",
    "width_test1 = 3; height_test1 = 3; stnode_test = 0; goalnode_test1 = 8\n",
    "dic_wall1 = constructWallsFromAdjList(list_adjlist_test1, width_test1, height_test1)\n",
    "drawMaze(stnode_test, goalnode_test1, dic_wall1, width_test1, height_test1, size1, basex1, basey1, \"maze1.png\", list_T_test1)"
   ]
  },
  {
   "cell_type": "markdown",
   "metadata": {},
   "source": [
    "左上が根の頂点で `0` 、その右隣が `1`, その右隣が `2`, `0` の下に戻って `3`, と続きます。右下が `len(list_adjlist_test1)-1` の頂点です。桃色？の線は探索の経路（最短経路）です。"
   ]
  },
  {
   "cell_type": "code",
   "execution_count": null,
   "metadata": {},
   "outputs": [],
   "source": [
    "width_test2 = 4; height_test2 = 3; stnode_test = 0; goalnode_test2 = 11\n",
    "dic_wall2 = constructWallsFromAdjList(list_adjlist_test2, width_test2, height_test2)\n",
    "drawMaze(stnode_test, goalnode_test2, dic_wall2, width_test2, height_test2, size1, basex1, basey1, \"maze2.png\", list_T_test2)"
   ]
  },
  {
   "cell_type": "markdown",
   "metadata": {},
   "source": [
    "もう少し大きな迷路を考えてみましょう。"
   ]
  },
  {
   "cell_type": "code",
   "execution_count": null,
   "metadata": {},
   "outputs": [],
   "source": [
    "import collections\n",
    "#最短経路\n",
    "def getShortestPathToGaolInDic(list_T, goalnode):\n",
    "    nownode = goalnode\n",
    "    list_check = [False] * len(list_T)\n",
    "    #ゴールから根まで遡る。途中の点はTrueにする\n",
    "    while(nownode != -1):\n",
    "        list_check[nownode] = True\n",
    "        nownode = list_T[nownode]\n",
    "    #辞書に格納\n",
    "    dic_SPath = {}\n",
    "    for index1, val1 in enumerate(list_check):\n",
    "        if val1 is True:\n",
    "            dic_SPath[index1] = list_T[index1]\n",
    "    return dic_SPath"
   ]
  },
  {
   "cell_type": "code",
   "execution_count": null,
   "metadata": {},
   "outputs": [],
   "source": [
    "list_adjlist_test3 = [[1, 30], [2], [3], [4], [5], [], [], [], [9], [10], [], [12], [13], [14, 43], [15, 44], [16, 45], [17, 46], [18], [19], [20], [21], [], [], [22], [], [26], [], [28], [29], [], [31, 60], [], [33], [34], [], [36], [6, 37], [7, 38], [8, 39, 68], [40], [], [11, 42], [], [], [], [], [47], [], [49], [50], [], [], [], [23], [24, 55], [25, 56], [57], [27, 58, 87], [59, 88], [89], [61, 90], [62], [32], [], [], [35], [], [], [69], [70, 99], [71], [41, 72], [], [74], [], [], [], [78], [48], [80], [], [51, 82], [52, 83], [53, 84, 113], [54, 85, 114], [86], [], [], [], [], [91, 120], [92, 121], [93, 122], [63, 94, 123], [64, 95, 124], [65, 96, 125], [66, 97, 126], [67, 98, 127], [], [], [], [102], [], [73], [], [75, 106], [76], [77, 108], [109], [79, 110], [], [81, 112], [], [], [115], [116], [117], [118], [119, 148], [149], [150], [151], [152], [], [154], [155], [], [128, 157], [129], [130, 159], [100, 131, 160], [101, 132, 161], [133], [103, 134, 163], [104, 135, 164], [105, 136, 165], [137, 166], [107, 138, 167], [139], [140, 169], [141, 170], [111, 142, 171], [143], [144], [145], [146], [147], [], [], [], [180], [], [153, 182], [], [], [185], [], [156, 158, 187], [188], [189], [190], [162, 191], [], [193], [194], [], [], [168, 197], [], [], [200], [172, 201], [173, 202], [], [175], [], [], [178], [179], [], [210], [211], [181, 183, 212], [184, 213], [214], [186, 215], [], [217], [218], [], [], [192, 221], [], [], [195], [196, 225], [], [198, 227], [199], [], [], [], [], [], [174, 205], [], [176, 207], [177, 208], [209], [], [240], [], [], [], [244], [216, 245], [], [], [248], [], [219, 250], [220, 222, 251], [223, 252], [224, 253], [254], [226, 255], [256], [228, 257], [229, 258], [], [], [232], [233], [203, 234, 263], [204, 235], [236], [206, 237], [], [239], [], [241, 270], [242, 271], [243], [], [], [246], [], [277], [247, 249, 278], [], [280], [281], [], [], [], [], [286], [], [259, 288], [260, 289], [230, 261, 290], [231, 262, 291], [], [264, 293], [265, 294], [266], [267], [], [238, 269], [], [300], [272, 301], [273], [274], [275], [276, 305], [306], [], [279, 308], [], [], [282, 311], [283], [284, 313], [285], [], [287, 316], [], [], [319], [], [292, 321], [], [], [295, 324], [296], [297], [298], [268, 299], [], [], [302, 331], [], [304], [], [], [336], [], [307, 338], [], [309, 340], [310, 312, 341], [342], [314], [315], [], [], [], [317], [318, 320, 349], [], [322, 351], [], [], [323, 325, 354], [326, 355], [327, 356], [328], [329], [], [360], [330, 332, 361], [333, 362], [303, 334, 363], [], [], [], [], [337, 368], [369], [339, 370], [371], [343, 372], [344, 373], [], [], [], [], [347], [348, 350, 379], [380], [352, 381], [353, 382], [], [], [], [357, 386], [358, 387], [359], [389], [390], [], [392], [364, 393], [], [335], [], [366, 397], [367, 398], [], [], [], [402], [374, 403], [375], [345, 376], [346, 377], [], [], [], [410], [], [383, 412], [384], [414], [], [385, 416], [388], [], [], [391, 420], [], [422], [394, 423], [395, 424], [365, 396], [], [], [399, 428], [400, 429], [401], [], [432], [404, 433], [405, 434], [406], [407, 436], [408, 437], [378, 409, 438], [439], [], [441], [411, 413, 442], [], [], [], [415, 417, 446], [418, 447], [419], [], [421, 450], [451], [], [], [425, 454], [426], [], [], [427, 458], [430, 459], [], [], [], [], [435, 464], [465], [466], [], [468], [], [], [], [443, 472], [], [], [], [], [448, 477], [449, 478], [479], [480], [452, 481], [], [], [453, 455, 484], [456, 485], [], [], [457, 488], [460, 489], [461, 490], [431, 462], [463, 492], [], [], [495], [467, 496], [], [469, 498], [470, 499], [440, 500], [], [471, 473, 502], [474, 503], [444, 475, 504], [445, 476, 505], [506], [], [508], [509], [510], [482, 511], [], [513], [483, 514], [486, 515], [487], [517], [], [519], [491, 520], [521], [493, 522], [494, 523], [524], [525], [526], [527], [497, 528], [529], [501], [], [532], [], [534], [], [507, 536], [], [], [], [540], [512, 541], [], [], [], [516, 545], [], [518, 547], [], [549], [], [551], [552], [], [], [], [556], [], [], [530, 559], [531, 560], [], [533, 562], [], [], [565], [535, 537, 566], [538, 567], [539], [], [570], [542, 571], [], [573], [543], [544, 546, 575], [], [], [], [548, 550, 579], [], [], [553, 582], [554, 583], [555, 584], [], [586], [], [557], [558, 589], [561, 590], [], [563, 592], [593], [], [564], [596], [568, 597], [569], [], [600], [572, 601], [602], [603], [], [574, 576, 605], [577, 606], [578], [], [580, 609], [581], [], [], [], [585, 614], [], [616], [617], [587, 618], [588, 619], [591, 620], [], [], [], [], [594], [], [598, 627], [], [], [630], [], [], [], [], [604, 635], [607, 636], [608, 637], [638], [610], [611, 640], [], [613], [], [], [645], [615, 646], [647], [648], [], [621, 650], [622], [], [], [], [595, 624], [625, 656], [626, 628, 657], [629], [599], [631, 660], [632, 661], [662], [], [633, 664], [634, 665], [666], [], [639, 668], [], [641], [642, 671], [612, 643, 672], [644, 673], [674], [675], [], [], [], [679], [649, 651, 680], [652, 681], [653, 682], [623, 654, 683], [684], [], [655, 686], [658, 687], [659, 688], [689], [690], [], [663, 692], [693], [], [695], [696], [], [667, 669, 698], [670, 699], [], [], [], [], [], [], [706], [676, 707], [677, 708], [678, 709], [], [711], [], [713], [], [], [685, 716], [717], [], [], [691, 720], [], [], [694, 723], [724], [], [], [], [697, 728], [700, 729], [701, 730], [], [703], [704], [705], [], [736], [], [738], [710, 739], [], [741], [], [712, 743], [], [714, 745], [715, 746], [718, 747], [719, 748], [749], [721, 750], [], [752], [722, 753], [], [], [725], [726, 757], [727, 758], [], [731, 760], [732, 761], [702, 733, 762], [734], [], [], [], [], [], [740, 769], [], [771], [772], [742, 773], [], [744, 775], [], [777], [778], [], [751, 780], [781], [782], [783], [], [754, 785], [755, 786], [756, 787], [759, 788], [789], [], [], [763, 792], [], [], [735, 766], [767], [737, 768, 797], [], [770, 799], [800], [801], [802], [], [], [774, 776, 805], [], [807], [779], [], [810], [], [], [], [], [784], [], [], [818], [790], [], [821], [791, 793, 822], [794], [764, 795, 824], [765, 796, 825], [], [798, 827], [828], [829], [], [831], [832], [], [803, 834], [804, 806, 835], [836], [808, 837], [809, 838], [839], [], [841], [811, 842], [812, 843], [813, 844], [814, 845], [815, 846], [816, 847], [817, 819, 848], [820, 849], [], [], [823, 852], [], [], [826, 855], [], [], [], [], [], [830, 861], [], [], [833], [865], [866], [], [868], [869], [870], [840, 871], [872], [], [874], [875], [876], [877], [], [850, 879], [851], [], [853, 882], [], [], [854, 856, 885], [], [], [859], [], [], [860, 862, 891], [892], [], [863], [864, 895], [867], [], [], [899], [], [], [], [], [873], [], [], [], [], [878, 880], [881], [], [883], [884], [], [886], [887], [857, 888], [858, 889], [], [], [890], [], [], [893], [894, 896], [897], [], [], [898]]\n",
    "width_test3 = 30; height_test3 = 30; stnode_test = 0; goalnode_test3 = 897\n",
    "list_T_test3 = solveMazeUsingAStar(list_adjlist_test3, goalnode_test3, width_test3)\n",
    "dic_SPath_test3 = getShortestPathToGaolInDic(list_T_test3, goalnode_test3)\n",
    "print(\"解答のNoneの数:\", collections.Counter(list_T_test3)[None], \" 最短経路のNoneの数:\", width_test3 * height_test3 - len(dic_SPath_test3)) # list_TをNoneで初期化しない場合無意味"
   ]
  },
  {
   "cell_type": "code",
   "execution_count": null,
   "metadata": {},
   "outputs": [],
   "source": [
    "dic_wall3 = constructWallsFromAdjList(list_adjlist_test3, width_test3, height_test3)\n",
    "drawMaze(stnode_test, goalnode_test3, dic_wall3, width_test3, height_test3, size1, basex1, basey1, \"maze3.png\", list_T_test3)"
   ]
  },
  {
   "cell_type": "markdown",
   "metadata": {},
   "source": [
    "あまり目的地点までの推定最短距離が上手く算出されておらず、然程良い結果が得られていません。"
   ]
  },
  {
   "cell_type": "markdown",
   "metadata": {},
   "source": [
    "## 練習問題の解答"
   ]
  },
  {
   "cell_type": "markdown",
   "metadata": {},
   "source": [
    "## グラフを構成する頂点の数（解答）\n",
    "\n",
    "<a id=\"getNumberOfNodesInAdjacentListA\" href=\"#getNumberOfNodesInAdjacentListQ\">[問]</a>"
   ]
  },
  {
   "cell_type": "code",
   "execution_count": null,
   "metadata": {},
   "outputs": [],
   "source": [
    "#模範解答\n",
    "def getNumberOfNodesInAdjacentList(list_adjlist):\n",
    "    return len(list_adjlist)"
   ]
  },
  {
   "cell_type": "markdown",
   "metadata": {},
   "source": [
    "## 有向グラフを構成する枝（辺）の数（解答）\n",
    "\n",
    "<a id=\"getNumberOfEdgesOfDirectedGraphA\" href=\"#getNumberOfEdgesOfDirectedGraphQ\">[問]</a>"
   ]
  },
  {
   "cell_type": "code",
   "execution_count": null,
   "metadata": {},
   "outputs": [],
   "source": [
    "#解答用セル\n",
    "def getNumberOfEdgesOfDirectedGraph(list_adjlist):\n",
    "    edgenum = 0\n",
    "    for list_adj in list_adjlist:\n",
    "        edgenum += len(list_adj)\n",
    "    return edgenum"
   ]
  },
  {
   "cell_type": "markdown",
   "metadata": {},
   "source": [
    "## 無向グラフを構成する枝（辺）の数（解答）\n",
    "\n",
    "<a id=\"getNumberOfEdgesOfUndirectedGraphA\" href=\"#getNumberOfEdgesOfUndirectedGraphQ\">[問]</a>"
   ]
  },
  {
   "cell_type": "code",
   "execution_count": null,
   "metadata": {},
   "outputs": [],
   "source": [
    "#解答用セル\n",
    "def getNumberOfEdgesOfUndirectedGraph(list_adjlist):\n",
    "    edgenum = 0\n",
    "    for list_adj in list_adjlist:\n",
    "        edgenum += len(list_adj)\n",
    "    return edgenum/2"
   ]
  },
  {
   "cell_type": "markdown",
   "metadata": {},
   "source": [
    "## 枝を反転させたグラフ（解答）\n",
    "\n",
    "`reverseEdges` の返り値は、元のグラフにおいて各点 $v$ への枝を持つ点（すなわち、$v$ を隣接点に持つ点）の一覧のリストになっています。これは与えられたグラフが木構造である場合、各点の親を求めていることになります。\n",
    "\n",
    "<a id=\"reverseEdgesA\" href=\"#reverseEdgesQ\">[問]</a>"
   ]
  },
  {
   "cell_type": "code",
   "execution_count": null,
   "metadata": {},
   "outputs": [],
   "source": [
    "# 模範解答\n",
    "def reverseEdges(list_adjlist):\n",
    "    list_reversed = [[] for _ in range(len(list_adjlist))]\n",
    "    for node1, list_adj in enumerate(list_adjlist):\n",
    "        for node2 in list_adj:\n",
    "            list_reversed[node2].append(node1)\n",
    "    return list_reversed"
   ]
  },
  {
   "cell_type": "markdown",
   "metadata": {},
   "source": [
    "## 深さ優先探索を用いた最短経路の取得（解答）\n",
    "\n",
    "<a id=\"DFSForShortestPathsA\" href=\"#DFSForShortestPathsQ\">[問]</a>"
   ]
  },
  {
   "cell_type": "code",
   "execution_count": null,
   "metadata": {},
   "outputs": [],
   "source": [
    "#模範解答\n",
    "class StackClass:\n",
    "    def __init__(self):\n",
    "        self.list_data = []\n",
    "    def push(self, item1):\n",
    "        self.list_data.append(item1)\n",
    "    def pop(self):\n",
    "        return self.list_data.pop()\n",
    "def DFSForShortestPaths(list_adjlist):\n",
    "    #経路を表すリスト\n",
    "    list_T = [None] * len(list_adjlist)\n",
    "    #スタックを初期化\n",
    "    Stack = StackClass()\n",
    "    #根の名前(0)をスタックに入れる\n",
    "    Stack.push(0)\n",
    "    #0への経路は-1\n",
    "    list_T[0] = -1\n",
    "    #スタックが空になるまで探索（ループ）\n",
    "    while(len(Stack.list_data) > 0):\n",
    "        #スタックから点node1を取り出す\n",
    "        node1 = Stack.pop()\n",
    "        #node1の子childnodeを全て処理する\n",
    "        for childnode in list_adjlist[node1]:\n",
    "            #node1の子childnodeをスタックに入れる\n",
    "            Stack.push(childnode)\n",
    "            #childnodeへの経路はnode1\n",
    "            list_T[childnode] = node1\n",
    "    #訪問する順序を表すリストを返す\n",
    "    return list_T"
   ]
  },
  {
   "cell_type": "markdown",
   "metadata": {},
   "source": [
    "## 修正FIFOキュー（解答）\n",
    "\n",
    "<a id=\"FixedFIFOClassA\" href=\"#FixedFIFOClassQ\">[問]</a>"
   ]
  },
  {
   "cell_type": "code",
   "execution_count": null,
   "metadata": {},
   "outputs": [],
   "source": [
    "# 修正FIFOキュー\n",
    "class FixedFIFOClass:\n",
    "    def __init__(self): # 初期化\n",
    "        self.list_data = []\n",
    "    def enqueue(self, item1): # 要素を最後尾に格納する\n",
    "        self.list_data.append(item1)\n",
    "    def dequeue(self, list_adjlist):# 格納されている先頭、もしくは2番目の要素を取り出す\n",
    "        if self.length() == 1:\n",
    "            return self.list_data.pop(0)\n",
    "        if len(list_adjlist[self.list_data[0]]) >= len(list_adjlist[self.list_data[1]]):\n",
    "            return self.list_data.pop(0)\n",
    "        else:\n",
    "            return self.list_data.pop(1)        \n",
    "    def length(self): # リストの長さを返す\n",
    "        return len(self.list_data)"
   ]
  },
  {
   "cell_type": "markdown",
   "metadata": {},
   "source": [
    "## 迷路の解法（修正FIFOキュー）（解答）\n",
    "\n",
    "<a id=\"solveMazeUsingFixedFIFOA\" href=\"#solveMazeUsingFixedFIFOQ\">[問]</a>"
   ]
  },
  {
   "cell_type": "code",
   "execution_count": null,
   "metadata": {},
   "outputs": [],
   "source": [
    "#修正FIFOキュー\n",
    "class FixedFIFOClass:\n",
    "    def __init__(self): # 初期化\n",
    "        self.list_data = []\n",
    "    def enqueue(self, item1): # 要素を最後尾に格納する\n",
    "        self.list_data.append(item1)\n",
    "    def dequeue(self, list_adjlist):# 格納されている先頭、もしくは2番目の要素を取り出す\n",
    "        if self.length() == 1:\n",
    "            return self.list_data.pop(0)\n",
    "        if len(list_adjlist[self.list_data[0]]) >= len(list_adjlist[self.list_data[1]]):\n",
    "            return self.list_data.pop(0)\n",
    "        else:\n",
    "            return self.list_data.pop(1)        \n",
    "    def length(self): # リストの長さを返す\n",
    "        return len(self.list_data)\n",
    "#迷路\n",
    "def solveMazeUsingFixedFIFO(list_adjlist, goalnode):\n",
    "    #経路を表すリスト\n",
    "    list_T = [None] * len(list_adjlist)\n",
    "    # 修正FIFOキューを初期化\n",
    "    FFIFO = FixedFIFOClass()\n",
    "    # 根の名前(0)を修正FIFOキューに入れる\n",
    "    FFIFO.enqueue(0)\n",
    "    #0への経路は-1\n",
    "    list_T[0] = -1\n",
    "    # 修正FIFOキューが空になるまで探索（ループ）\n",
    "    while(FFIFO.length() > 0):\n",
    "        # 修正FIFOキューから点node1を取り出す\n",
    "        node1 = FFIFO.dequeue(list_adjlist)\n",
    "        #node1の子childnodeを全て処理する\n",
    "        for childnode in list_adjlist[node1]:\n",
    "            #node1の子childnodeを修正FIFOキューに入れる\n",
    "            FFIFO.enqueue(childnode)\n",
    "            #childnodeへの経路はnode1\n",
    "            list_T[childnode] = node1\n",
    "            #childnodeがゴール地点である場合探索を打ち切る\n",
    "            if childnode == goalnode:\n",
    "                return list_T"
   ]
  },
  {
   "cell_type": "markdown",
   "metadata": {},
   "source": [
    "## 乱数を用いた前線（解答）\n",
    "\n",
    "<a id=\"RandomFrontClassA\" href=\"#RandomFrontClassQ\">[問]</a>"
   ]
  },
  {
   "cell_type": "code",
   "execution_count": null,
   "metadata": {},
   "outputs": [],
   "source": [
    "# 模範解答\n",
    "import random\n",
    "class RandomFrontClass:\n",
    "    def __init__(self, seed1):\n",
    "        random.seed(a=seed1)\n",
    "        self.list_data = []\n",
    "    def put(self, item1):\n",
    "        self.list_data.append(item1)\n",
    "    def get(self):\n",
    "        #ランダムに前線のインデックスを選択して次に訪問する頂点を決める\n",
    "        randomindex = random.randint(0, len(self.list_data)-1)\n",
    "        #前線から要素を取り出す（削除）\n",
    "        node1 = self.list_data.pop(randomindex)\n",
    "        return node1\n",
    "    def length(self): # リストの長さを返す\n",
    "        return len(self.list_data)"
   ]
  },
  {
   "cell_type": "markdown",
   "metadata": {},
   "source": [
    "## 迷路の解法（乱数）（解答）\n",
    "\n",
    "<a id=\"solveMazeAtRandomA\" href=\"#solveMazeAtRandomQ\">[問]</a>"
   ]
  },
  {
   "cell_type": "code",
   "execution_count": null,
   "metadata": {},
   "outputs": [],
   "source": [
    "#解答用セル\n",
    "import random\n",
    "class RandomFrontClass:\n",
    "    def __init__(self, seedval):\n",
    "        random.seed(a=seedval)\n",
    "        self.list_data = []\n",
    "    def put(self, item1):\n",
    "        self.list_data.append(item1)\n",
    "    def get(self):\n",
    "        #ランダムに前線のインデックスを選択して次に訪問する頂点を決める\n",
    "        randomindex = random.randint(0, len(self.list_data)-1)\n",
    "        #前線から要素を取り出す（削除）\n",
    "        node1 = self.list_data.pop(randomindex)\n",
    "        return node1\n",
    "    def length(self): # リストの長さを返す\n",
    "        return len(self.list_data)\n",
    "def soliveMazeAtRandom(list_adjlist, goalnode, seedval):\n",
    "    #list_Tを初期化\n",
    "    list_T = [-1] * len(list_adjlist)\n",
    "    #前線の中に入ったことがある頂点をチェックするリストの初期化\n",
    "    list_check = [False] * len(list_adjlist) \n",
    "    #前線を初期化\n",
    "    RFront = RandomFrontClass(seedval)\n",
    "    #起点の名前(stnode)を前線に入れる\n",
    "    RFront.enqueue(stnode)\n",
    "    #根の親は-1\n",
    "    list_T[stnode] = -1\n",
    "    #前線の中に入れる点をチェックする\n",
    "    list_check[stnode] = True\n",
    "    #前線が空になるまで探索（ループ）\n",
    "    while(RFront.length() > 0):\n",
    "        # 前線から点を取り出す\n",
    "        node1 = RFront.dequeue()\n",
    "        for adjnode in list_adjlist[node1]:\n",
    "            #前線の中に入ったことがある（現在前線内、前線から既に出た）点かどうか確認する\n",
    "            if list_check[adjnode] is True:\n",
    "                continue\n",
    "            #前線の中に入れる点をチェックする\n",
    "            list_check[adjnode] = True\n",
    "            #node1の隣接点adjnodeをFIFOキューに入れる\n",
    "            RFront.enqueue(adjnode)\n",
    "            #node1の親を設定\n",
    "            list_T[adjnode] = node1\n",
    "        #最後に取り出した点をゴールにしてみる\n",
    "        goalnode = node1\n",
    "        \n",
    "    #結果を返す\n",
    "    return list_T, goalnode"
   ]
  },
  {
   "cell_type": "code",
   "execution_count": null,
   "metadata": {},
   "outputs": [],
   "source": [
    "#最短経路\n",
    "import collections\n",
    "def getShortestPathToGaolInDic(list_T, goalnode):\n",
    "    nownode = goalnode\n",
    "    list_check = [False] * len(list_T)\n",
    "    #ゴールから根まで遡る。途中の点はTrueにする\n",
    "    while(nownode != -1):\n",
    "        list_check[nownode] = True\n",
    "        nownode = list_T[nownode]\n",
    "    #辞書に格納\n",
    "    dic_SPath = {}\n",
    "    for index1, val1 in enumerate(list_check):\n",
    "        if val1 is True:\n",
    "            dic_SPath[index1] = list_T[index1]\n",
    "    return dic_SPath\n",
    "list_adjlist_test3 = [[1, 30], [2], [3], [4], [5], [], [], [], [9], [10], [], [12], [13], [14, 43], [15, 44], [16, 45], [17, 46], [18], [19], [20], [21], [], [], [22], [], [26], [], [28], [29], [], [31, 60], [], [33], [34], [], [36], [6, 37], [7, 38], [8, 39, 68], [40], [], [11, 42], [], [], [], [], [47], [], [49], [50], [], [], [], [23], [24, 55], [25, 56], [57], [27, 58, 87], [59, 88], [89], [61, 90], [62], [32], [], [], [35], [], [], [69], [70, 99], [71], [41, 72], [], [74], [], [], [], [78], [48], [80], [], [51, 82], [52, 83], [53, 84, 113], [54, 85, 114], [86], [], [], [], [], [91, 120], [92, 121], [93, 122], [63, 94, 123], [64, 95, 124], [65, 96, 125], [66, 97, 126], [67, 98, 127], [], [], [], [102], [], [73], [], [75, 106], [76], [77, 108], [109], [79, 110], [], [81, 112], [], [], [115], [116], [117], [118], [119, 148], [149], [150], [151], [152], [], [154], [155], [], [128, 157], [129], [130, 159], [100, 131, 160], [101, 132, 161], [133], [103, 134, 163], [104, 135, 164], [105, 136, 165], [137, 166], [107, 138, 167], [139], [140, 169], [141, 170], [111, 142, 171], [143], [144], [145], [146], [147], [], [], [], [180], [], [153, 182], [], [], [185], [], [156, 158, 187], [188], [189], [190], [162, 191], [], [193], [194], [], [], [168, 197], [], [], [200], [172, 201], [173, 202], [], [175], [], [], [178], [179], [], [210], [211], [181, 183, 212], [184, 213], [214], [186, 215], [], [217], [218], [], [], [192, 221], [], [], [195], [196, 225], [], [198, 227], [199], [], [], [], [], [], [174, 205], [], [176, 207], [177, 208], [209], [], [240], [], [], [], [244], [216, 245], [], [], [248], [], [219, 250], [220, 222, 251], [223, 252], [224, 253], [254], [226, 255], [256], [228, 257], [229, 258], [], [], [232], [233], [203, 234, 263], [204, 235], [236], [206, 237], [], [239], [], [241, 270], [242, 271], [243], [], [], [246], [], [277], [247, 249, 278], [], [280], [281], [], [], [], [], [286], [], [259, 288], [260, 289], [230, 261, 290], [231, 262, 291], [], [264, 293], [265, 294], [266], [267], [], [238, 269], [], [300], [272, 301], [273], [274], [275], [276, 305], [306], [], [279, 308], [], [], [282, 311], [283], [284, 313], [285], [], [287, 316], [], [], [319], [], [292, 321], [], [], [295, 324], [296], [297], [298], [268, 299], [], [], [302, 331], [], [304], [], [], [336], [], [307, 338], [], [309, 340], [310, 312, 341], [342], [314], [315], [], [], [], [317], [318, 320, 349], [], [322, 351], [], [], [323, 325, 354], [326, 355], [327, 356], [328], [329], [], [360], [330, 332, 361], [333, 362], [303, 334, 363], [], [], [], [], [337, 368], [369], [339, 370], [371], [343, 372], [344, 373], [], [], [], [], [347], [348, 350, 379], [380], [352, 381], [353, 382], [], [], [], [357, 386], [358, 387], [359], [389], [390], [], [392], [364, 393], [], [335], [], [366, 397], [367, 398], [], [], [], [402], [374, 403], [375], [345, 376], [346, 377], [], [], [], [410], [], [383, 412], [384], [414], [], [385, 416], [388], [], [], [391, 420], [], [422], [394, 423], [395, 424], [365, 396], [], [], [399, 428], [400, 429], [401], [], [432], [404, 433], [405, 434], [406], [407, 436], [408, 437], [378, 409, 438], [439], [], [441], [411, 413, 442], [], [], [], [415, 417, 446], [418, 447], [419], [], [421, 450], [451], [], [], [425, 454], [426], [], [], [427, 458], [430, 459], [], [], [], [], [435, 464], [465], [466], [], [468], [], [], [], [443, 472], [], [], [], [], [448, 477], [449, 478], [479], [480], [452, 481], [], [], [453, 455, 484], [456, 485], [], [], [457, 488], [460, 489], [461, 490], [431, 462], [463, 492], [], [], [495], [467, 496], [], [469, 498], [470, 499], [440, 500], [], [471, 473, 502], [474, 503], [444, 475, 504], [445, 476, 505], [506], [], [508], [509], [510], [482, 511], [], [513], [483, 514], [486, 515], [487], [517], [], [519], [491, 520], [521], [493, 522], [494, 523], [524], [525], [526], [527], [497, 528], [529], [501], [], [532], [], [534], [], [507, 536], [], [], [], [540], [512, 541], [], [], [], [516, 545], [], [518, 547], [], [549], [], [551], [552], [], [], [], [556], [], [], [530, 559], [531, 560], [], [533, 562], [], [], [565], [535, 537, 566], [538, 567], [539], [], [570], [542, 571], [], [573], [543], [544, 546, 575], [], [], [], [548, 550, 579], [], [], [553, 582], [554, 583], [555, 584], [], [586], [], [557], [558, 589], [561, 590], [], [563, 592], [593], [], [564], [596], [568, 597], [569], [], [600], [572, 601], [602], [603], [], [574, 576, 605], [577, 606], [578], [], [580, 609], [581], [], [], [], [585, 614], [], [616], [617], [587, 618], [588, 619], [591, 620], [], [], [], [], [594], [], [598, 627], [], [], [630], [], [], [], [], [604, 635], [607, 636], [608, 637], [638], [610], [611, 640], [], [613], [], [], [645], [615, 646], [647], [648], [], [621, 650], [622], [], [], [], [595, 624], [625, 656], [626, 628, 657], [629], [599], [631, 660], [632, 661], [662], [], [633, 664], [634, 665], [666], [], [639, 668], [], [641], [642, 671], [612, 643, 672], [644, 673], [674], [675], [], [], [], [679], [649, 651, 680], [652, 681], [653, 682], [623, 654, 683], [684], [], [655, 686], [658, 687], [659, 688], [689], [690], [], [663, 692], [693], [], [695], [696], [], [667, 669, 698], [670, 699], [], [], [], [], [], [], [706], [676, 707], [677, 708], [678, 709], [], [711], [], [713], [], [], [685, 716], [717], [], [], [691, 720], [], [], [694, 723], [724], [], [], [], [697, 728], [700, 729], [701, 730], [], [703], [704], [705], [], [736], [], [738], [710, 739], [], [741], [], [712, 743], [], [714, 745], [715, 746], [718, 747], [719, 748], [749], [721, 750], [], [752], [722, 753], [], [], [725], [726, 757], [727, 758], [], [731, 760], [732, 761], [702, 733, 762], [734], [], [], [], [], [], [740, 769], [], [771], [772], [742, 773], [], [744, 775], [], [777], [778], [], [751, 780], [781], [782], [783], [], [754, 785], [755, 786], [756, 787], [759, 788], [789], [], [], [763, 792], [], [], [735, 766], [767], [737, 768, 797], [], [770, 799], [800], [801], [802], [], [], [774, 776, 805], [], [807], [779], [], [810], [], [], [], [], [784], [], [], [818], [790], [], [821], [791, 793, 822], [794], [764, 795, 824], [765, 796, 825], [], [798, 827], [828], [829], [], [831], [832], [], [803, 834], [804, 806, 835], [836], [808, 837], [809, 838], [839], [], [841], [811, 842], [812, 843], [813, 844], [814, 845], [815, 846], [816, 847], [817, 819, 848], [820, 849], [], [], [823, 852], [], [], [826, 855], [], [], [], [], [], [830, 861], [], [], [833], [865], [866], [], [868], [869], [870], [840, 871], [872], [], [874], [875], [876], [877], [], [850, 879], [851], [], [853, 882], [], [], [854, 856, 885], [], [], [859], [], [], [860, 862, 891], [892], [], [863], [864, 895], [867], [], [], [899], [], [], [], [], [873], [], [], [], [], [878, 880], [881], [], [883], [884], [], [886], [887], [857, 888], [858, 889], [], [], [890], [], [], [893], [894, 896], [897], [], [], [898]]\n",
    "width_test3 = 30; height_test3 = 30; stnode_test = 0; goalnode_test3 = 897\n",
    "list_T_test3 = solveMaze(list_adjlist_test3, goalnode_test3)\n",
    "dic_SPath_test3 = getShortestPathToGaolInDic(list_T_test3, goalnode_test3)\n",
    "print(\"解答のNoneの数:\", collections.Counter(list_T_test3)[None], \" 最短経路のNoneの数:\", width_test3 * height_test3 - len(dic_SPath_test3)) # list_TをNoneで初期化しない場合無意味"
   ]
  },
  {
   "cell_type": "markdown",
   "metadata": {},
   "source": [
    "少しだけ幅優先探索の場合より良くなりました。\n",
    "\n",
    "可視化します。"
   ]
  },
  {
   "cell_type": "code",
   "execution_count": null,
   "metadata": {},
   "outputs": [],
   "source": [
    "%matplotlib inline\n",
    "import matplotlib.pyplot as plt, matplotlib.image as mpimg\n",
    "from PIL import Image, ImageDraw, ImageFont#PILで描画する\n",
    "def drawMaze(stnode, goalnode, dic_wall, width, height, unitsize, basex, basey, str_mazename, list_Path):\n",
    "    img = Image.new(\"RGB\", (basex*2+unitsize*width, basey*2+unitsize*height), (255, 255, 255))\n",
    "    draw = ImageDraw.Draw(img)\n",
    "    for x1 in range(0, width):\n",
    "        for y1 in range(0, height):\n",
    "            #上\n",
    "            if dic_wall[(x1, y1, x1, y1-1)] is False:\n",
    "                dx1 = basex + (x1+0) * unitsize\n",
    "                dy1 = basey + (y1+0) * unitsize\n",
    "                dx2 = basex + (x1+1) * unitsize\n",
    "                dy2 = basey + (y1+0) * unitsize\n",
    "                draw.line((dx1, dy1, dx2, dy2), fill=(0, 0, 0), width=2)\n",
    "            #右\n",
    "            if dic_wall[(x1, y1, x1+1, y1)] is False:\n",
    "                dx1 = basex + (x1+1) * unitsize\n",
    "                dy1 = basey + (y1+0) * unitsize\n",
    "                dx2 = basex + (x1+1) * unitsize\n",
    "                dy2 = basey + (y1+1) * unitsize\n",
    "                draw.line((dx1, dy1, dx2, dy2), fill=(0, 0, 0), width=2)\n",
    "            #下\n",
    "            if dic_wall[(x1, y1, x1, y1+1)] is False:\n",
    "                dx1 = basex + (x1+0) * unitsize\n",
    "                dy1 = basey + (y1+1) * unitsize\n",
    "                dx2 = basex + (x1+1) * unitsize\n",
    "                dy2 = basey + (y1+1) * unitsize\n",
    "                draw.line((dx1, dy1, dx2, dy2), fill=(0, 0, 0), width=2)\n",
    "            #左\n",
    "            if dic_wall[(x1, y1, x1-1, y1)] is False:\n",
    "                dx1 = basex + (x1+0) * unitsize\n",
    "                dy1 = basey + (y1+0) * unitsize\n",
    "                dx2 = basex + (x1+0) * unitsize\n",
    "                dy2 = basey + (y1+1) * unitsize\n",
    "                draw.line((dx1, dy1, dx2, dy2), fill=(0, 0, 0), width=2)\n",
    "    #探索経路描画\n",
    "    for snode, tnode in enumerate(list_Path):\n",
    "        if tnode is None or tnode == -1:\n",
    "            continue\n",
    "        sx, sy = getNodePosFromName(snode, width)\n",
    "        tx, ty = getNodePosFromName(tnode, width)\n",
    "        dx1 = basex + sx * unitsize + unitsize/2\n",
    "        dy1 = basey + sy * unitsize + unitsize/2\n",
    "        dx2 = basex + tx * unitsize + unitsize/2\n",
    "        dy2 = basey + ty * unitsize + unitsize/2\n",
    "        draw.line((dx1, dy1, dx2, dy2), fill=(250, 150, 150), width=2)\n",
    "    #スタート地点\n",
    "    sx, sy = getNodePosFromName(stnode, width)\n",
    "    dx1 = basex + sx * unitsize\n",
    "    dy1 = basey + sy * unitsize\n",
    "    draw.ellipse((dx1+unitsize/3, dy1+unitsize/3, dx1+unitsize*2/3, dy1+unitsize*2/3), fill=(255, 0, 0), outline=(0, 0, 0))\n",
    "    #ゴール地点\n",
    "    gx, gy = getNodePosFromName(goalnode, width)\n",
    "    dx1 = basex + gx * unitsize\n",
    "    dy1 = basey + gy * unitsize\n",
    "    draw.ellipse((dx1+unitsize/3, dy1+unitsize/3, dx1+unitsize*2/3, dy1+unitsize*2/3), fill=(0, 0, 255), outline=(0, 0, 0))\n",
    "    img.save(str_mazename)\n",
    "    img = mpimg.imread(str_mazename)\n",
    "    plt.axis('off')\n",
    "    imgplot = plt.imshow(img)\n",
    "#頂点座標取得\n",
    "def getNodePosFromName(id1, width):\n",
    "    return id1 % width, id1 // width\n",
    "#隣接リストから壁のある位置を決定する\n",
    "def constructWallsFromAdjList(list_adjlist, width, height):\n",
    "    dic_wall = {}\n",
    "    #最初は全てを壁にする\n",
    "    for x1 in range(0, width):\n",
    "        for y1 in range(0, height):\n",
    "            #上\n",
    "            dic_wall[(x1, y1, x1, y1-1)] = False\n",
    "            #右\n",
    "            dic_wall[(x1, y1, x1+1, y1)] = False\n",
    "            #下\n",
    "            dic_wall[(x1, y1, x1, y1+1)] = False\n",
    "            #左\n",
    "            dic_wall[(x1, y1, x1-1, y1)] = False\n",
    "    #隣接リストの枝部分は壁を取り除く\n",
    "    for sid1, list_adj in enumerate(list_adjlist):\n",
    "        for tid1 in list_adj:\n",
    "            tx1, ty1 = getNodePosFromName(tid1, width)\n",
    "            sx1, sy1 = getNodePosFromName(sid1, width)\n",
    "            dic_wall[(tx1, ty1, sx1, sy1)] = True\n",
    "            dic_wall[(sx1, sy1, tx1, ty1)] = True\n",
    "    return dic_wall\n",
    "import collections"
   ]
  },
  {
   "cell_type": "code",
   "execution_count": null,
   "metadata": {
    "scrolled": true
   },
   "outputs": [],
   "source": [
    "dic_wall3 = constructWallsFromAdjList(list_adjlist_test3, width_test3, height_test3)\n",
    "size1 = 50; basex1 = 10; basey1 = 10\n",
    "drawMaze(stnode_test, goalnode_test3, dic_wall3, width_test3, height_test3, size1, basex1, basey1, \"maze3.png\", list_T_test3)"
   ]
  },
  {
   "cell_type": "markdown",
   "metadata": {},
   "source": [
    "## 迷路の解法（深さ優先探索）（解答）\n",
    "\n",
    "<a id=\"solveMazeUsingDFSA\" href=\"#solveMazeUsingDFSQ\">[問]</a>"
   ]
  },
  {
   "cell_type": "code",
   "execution_count": null,
   "metadata": {},
   "outputs": [],
   "source": [
    "# スタック\n",
    "class StackClass:\n",
    "    def __init__(self):\n",
    "        self.list_data = []\n",
    "    def push(self, item1):\n",
    "        self.list_data.append(item1)\n",
    "    def pop(self):\n",
    "        return self.list_data.pop()\n",
    "#迷路探索（深さ優先探索）\n",
    "def solveMazeUsingDFS(list_adjlist, goalnode):\n",
    "    #経路を表すリスト\n",
    "    list_T = [None] * len(list_adjlist)\n",
    "    # スタックを初期化\n",
    "    Stack = StackClass()\n",
    "    # 根の名前(0)をスタックに入れる\n",
    "    Stack.push(0)\n",
    "    #0への経路は-1\n",
    "    list_T[0] = -1\n",
    "    # スタックが空になるまで探索（ループ）\n",
    "    while(len(Stack.list_data) > 0):\n",
    "        # Stackから点node1を取り出す\n",
    "        node1 = Stack.pop()\n",
    "        #node1の子childnodeを全て処理する\n",
    "        for childnode in list_adjlist[node1]:\n",
    "            #node1の子childnodeをスタックに入れる\n",
    "            Stack.push(childnode)\n",
    "            #childnodeへの経路はnode1\n",
    "            list_T[childnode] = node1\n",
    "            #childnodeがゴール地点である場合探索を打ち切る\n",
    "            if childnode == goalnode:\n",
    "                return list_T"
   ]
  },
  {
   "cell_type": "markdown",
   "metadata": {},
   "source": [
    "## 格子グラフの作成（解答）\n",
    "\n",
    "<a id=\"makeGridGraphA\" href=\"#makeGridGraphQ\">[問]</a>"
   ]
  },
  {
   "cell_type": "code",
   "execution_count": null,
   "metadata": {},
   "outputs": [],
   "source": [
    "def makeGridGraph(width, height):\n",
    "    #頂点数\n",
    "    nodenum = width * height\n",
    "    list_adjlist = [None] * nodenum\n",
    "    for i in range(nodenum):\n",
    "        list_adjlist[i] = []\n",
    "    for x in range(width):\n",
    "        for y in range(height):\n",
    "            node1 = getNodeIndex(x, y, width, height)\n",
    "            if x >= 1:#x-1の枝\n",
    "                node2 = getNodeIndex(x-1, y, width, height)\n",
    "                list_adjlist[node1].append(node2)\n",
    "            if x <= width-2:#x+1の枝\n",
    "                node2 = getNodeIndex(x+1, y, width, height)\n",
    "                list_adjlist[node1].append(node2)\n",
    "            if y >= 1:#y-1の枝\n",
    "                node2 = getNodeIndex(x, y-1, width, height)\n",
    "                list_adjlist[node1].append(node2)\n",
    "            if y <= height-2:#y+1の枝\n",
    "                node2 = getNodeIndex(x, y+1, width, height)\n",
    "                list_adjlist[node1].append(node2)\n",
    "    return list_adjlist\n",
    "#頂点名取得\n",
    "def getNodeIndex(x, y, width, height):\n",
    "    return x + y * width"
   ]
  },
  {
   "cell_type": "markdown",
   "metadata": {},
   "source": [
    "## $A*$の前線（解答）\n",
    "\n",
    "<a id=\"AStarFrontClassA\" href=\"#AStarFrontClassQ\">[問]</a>"
   ]
  },
  {
   "cell_type": "code",
   "execution_count": null,
   "metadata": {},
   "outputs": [],
   "source": [
    "import heapq\n",
    "class AStarFrontClass:\n",
    "    def __init__(self):# 初期化\n",
    "        self.list_data = []\n",
    "    def put(self, node1, DisA, DisB):\n",
    "        heapq.heappush(self.list_data, [DisA+DisB, node1]) # スコアと頂点の名前をペアにしてリストで格納する（キーはスコア）\n",
    "    def get(self):\n",
    "        score1, node1 = heapq.heappop(self.list_data) # スコアと頂点の名前を取り出す\n",
    "        return node1\n",
    "    def length(self): \n",
    "        return len(self.list_data)"
   ]
  },
  {
   "cell_type": "markdown",
   "metadata": {},
   "source": [
    "## 迷路の解法（$A*$）（解答）\n",
    "\n",
    "<a id=\"solveMazeUsingAStarA\" href=\"#solveMazeUsingAStarQ\">[問]</a>"
   ]
  },
  {
   "cell_type": "code",
   "execution_count": null,
   "metadata": {},
   "outputs": [],
   "source": [
    "# node1とnode2の間の最短距離の推定値\n",
    "def guessShortestDistance(node1, node2, mazewidth):\n",
    "    x1, y1 = node1 % mazewidth, node1 // mazewidth\n",
    "    x2, y2 = node2 % mazewidth, node2 // mazewidth\n",
    "    return abs(x1-x2) + abs(y1-y2)\n",
    "# 前線\n",
    "import heapq\n",
    "class AStarFrontClass:\n",
    "    def __init__(self):# 初期化\n",
    "        self.list_data = []\n",
    "    def put(self, node1, DisA, DisB):\n",
    "        heapq.heappush(self.list_data, [DisA+DisB, node1]) # スコアと頂点の名前をペアにしてリストで格納する（キーはスコア）\n",
    "    def get(self):\n",
    "        score1, node1 = heapq.heappop(self.list_data) # スコアと頂点の名前を取り出す\n",
    "        return node1\n",
    "    def length(self): \n",
    "        return len(self.list_data)\n",
    "#迷路探索（A*）\n",
    "def solveMazeUsingAStar(list_adjlist, goalnode, mazewidth):\n",
    "    #経路を表すリスト\n",
    "    list_T = [None] * len(list_adjlist)\n",
    "    # 最短距離を格納するリスト\n",
    "    list_D = [None] * len(list_adjlist)\n",
    "    # 前線を初期化\n",
    "    ASFront = AStarFrontClass()\n",
    "    # 0への経路は-1\n",
    "    list_T[0] = -1\n",
    "    # 0から0への最短距離\n",
    "    list_D[0] = 0\n",
    "    # 0からgoalnodeへの推定最短距離\n",
    "    DisB = guessShortestDistance(0, goalnode, mazewidth)\n",
    "    # 根の名前(0)を前線に入れる\n",
    "    ASFront.put(0, list_D[0], DisB)\n",
    "    # 前線が空になるまで探索（ループ）\n",
    "    while(len(ASFront.list_data) > 0):\n",
    "        # 前線から点node1を取り出す\n",
    "        node1 = ASFront.get()\n",
    "        #node1の子childnodeを全て処理する\n",
    "        for childnode in list_adjlist[node1]:\n",
    "            #childnodeへの経路はnode1\n",
    "            list_T[childnode] = node1\n",
    "            # childnodeへの最短距離\n",
    "            list_D[childnode] = list_D[node1] + 1\n",
    "            # childnodeからgoalnodeへの推定最短距離\n",
    "            DisB = guessShortestDistance(childnode, goalnode, mazewidth)\n",
    "            #node1の子childnodeを前線に入れる\n",
    "            ASFront.put(childnode, list_D[childnode], DisB)\n",
    "            #childnodeがゴール地点である場合探索を打ち切る\n",
    "            if childnode == goalnode:\n",
    "                return list_T"
   ]
  }
 ],
 "metadata": {
  "kernelspec": {
   "display_name": "Python 3",
   "language": "python",
   "name": "python3"
  },
  "language_info": {
   "codemirror_mode": {
    "name": "ipython",
    "version": 3
   },
   "file_extension": ".py",
   "mimetype": "text/x-python",
   "name": "python",
   "nbconvert_exporter": "python",
   "pygments_lexer": "ipython3",
   "version": "3.7.4"
  }
 },
 "nbformat": 4,
 "nbformat_minor": 2
}
