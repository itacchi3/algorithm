{
 "cells": [
  {
   "cell_type": "markdown",
   "metadata": {},
   "source": [
    "# 教養としてのアルゴリズムとデータ構造\n",
    "\n",
    "ヒープを実現するモジュール `heapq` について説明します\n",
    "\n",
    "参考\n",
    "\n",
    "- https://docs.python.org/ja/3/library/heapq.html"
   ]
  },
  {
   "cell_type": "markdown",
   "metadata": {},
   "source": [
    "# ヒープ\n",
    "\n",
    "Pythonにおいてヒープを扱うことのできるモジュールは `heapq` というモジュールです。"
   ]
  },
  {
   "cell_type": "code",
   "execution_count": null,
   "metadata": {},
   "outputs": [],
   "source": [
    "import heapq"
   ]
  },
  {
   "cell_type": "markdown",
   "metadata": {},
   "source": [
    "## リストからのヒープの作成\n",
    "\n",
    "ヒープになっていないリストからヒープを作成するには関数 **`heapify`** を用います。\n",
    "\n",
    "`heapify` は、指定した `リストA` をヒープ条件を満たすリストに変換します。\n",
    "\n",
    "この関数は元の `リストA` を書き換える破壊的な関数であることに注意して下さい。\n",
    "\n",
    "---\n",
    "```Python\n",
    "heapq.heapify(リストA)\n",
    "```\n",
    "---"
   ]
  },
  {
   "cell_type": "code",
   "execution_count": null,
   "metadata": {},
   "outputs": [],
   "source": [
    "list1 = [10, 4, 3, 1, 9, 7, 2, 5, 6]\n",
    "heapq.heapify(list1)\n",
    "print(list1) # 元のリストが直接書き換わっている"
   ]
  },
  {
   "cell_type": "markdown",
   "metadata": {},
   "source": [
    "ヒープ条件が満たされていること、すなわち、`list1` のインデックス `i` の値がインデックス `2i+1` と `2i+2` の値以下であることを確認して下さい。"
   ]
  },
  {
   "cell_type": "code",
   "execution_count": null,
   "metadata": {},
   "outputs": [],
   "source": [
    "for i, v in enumerate(list1):\n",
    "    if 2*i+2 < len(list1):\n",
    "        print(i, \"vs.\", i, \"の左側の子:\", list1[i], \"<=\", list1[2*i+1], list1[i] <= list1[2*i+1], \"\\t\", i, \"vs.\", i, \"の右側の子:\", list1[i], \"<=\", list1[2*i+2], list1[i] <= list1[2*i+2])"
   ]
  },
  {
   "cell_type": "markdown",
   "metadata": {},
   "source": [
    "最初からヒープ条件が満たされている場合には `heapify` を実行する必要はありません。"
   ]
  },
  {
   "cell_type": "markdown",
   "metadata": {},
   "source": [
    "ヒープ条件が満たされていれば最小値はリストの先頭にあります。最小値を参照（利用）するだけで、リストから最小値を削除しない（取り出さない）のであれば、先頭の値をインデックス指定で使用します。"
   ]
  },
  {
   "cell_type": "code",
   "execution_count": null,
   "metadata": {},
   "outputs": [],
   "source": [
    "list1[0]"
   ]
  },
  {
   "cell_type": "markdown",
   "metadata": {},
   "source": [
    " `heapify` は $O(n)$ の計算量でヒープを実現する手順を実行しています。 `heapify` にかかる時間を可視化してみましょう。"
   ]
  },
  {
   "cell_type": "code",
   "execution_count": null,
   "metadata": {},
   "outputs": [],
   "source": [
    "%matplotlib inline\n",
    "import random, time, matplotlib.pyplot as plt\n",
    "#ヒープ化にかかる時間を計測する\n",
    "def getSearchTimesOfHeapifying(list_list):\n",
    "    #list_x, list_yを初期化\n",
    "    list_x = [];list_y = []\n",
    "    for i in range(len(list_list)):\n",
    "        #list_xの値を格納\n",
    "        list1 = list_list[i]\n",
    "        list_x.append(len(list1))\n",
    "        #時間計測開始\n",
    "        time_init = time.time()\n",
    "        #ヒープ化を実行\n",
    "        heapq.heapify(list1)\n",
    "        #list_yの値を格納（計測結果を格納）\n",
    "        list_y.append(time.time()-time_init)\n",
    "    return list_x, list_y\n",
    "#テスト用データのリスト（ヒープ化する値のリスト）を作成\n",
    "def constructLists(listsizebase, listnum):\n",
    "    random.seed(a=0)\n",
    "    list_lists = [];list_items = []\n",
    "    for i in range(listnum):\n",
    "        #リストの大きさを計算\n",
    "        listsize = listsizebase*(i+1)\n",
    "        #ヒープ化するリストを作成\n",
    "        list1 = []\n",
    "        #適当に値を入れ替える\n",
    "        for i in range(listsize):\n",
    "            a1 = random.randint(0, listsize-1);\n",
    "            list1.append(a1)\n",
    "        list_lists.append(list1)\n",
    "    return list_lists\n",
    "\n",
    "#リスト（ヒープ）の大きさ、数\n",
    "listsizebase = 100000; listnum = 10\n",
    "#テスト用データのリスト（ヒープ化する値のリスト）を作成\n",
    "list_list = constructLists(listsizebase, listnum)\n",
    "#ヒープ化にかかる時間を計測する\n",
    "list_x, list_y = getSearchTimesOfHeapifying(list_list)\n",
    "#描画 #x軸:ヒープの大きさ、y軸:時間\n",
    "plt.plot(list_x, list_y);"
   ]
  },
  {
   "cell_type": "markdown",
   "metadata": {},
   "source": [
    "## リストからの最小値の取得\n",
    "\n",
    "ヒープ（ヒープ条件を満たすリスト）から最小値を取り出すには関数 **`heappop`** を用います。\n",
    "\n",
    "`heappop` は、指定した `リストA` から最小値（ `リストA[0]` ）を取り出します。この関数も元のリストを直接書き換えます。\n",
    "\n",
    "---\n",
    "```Python\n",
    "heapq.heappop(リストA)\n",
    "```\n",
    "---"
   ]
  },
  {
   "cell_type": "code",
   "execution_count": null,
   "metadata": {},
   "outputs": [],
   "source": [
    "list1 = [1, 4, 2, 5, 9, 7, 3, 10, 6] # ヒープ条件を満たすリスト\n",
    "int1 = heapq.heappop(list1)\n",
    "print(\"ヒープlist1から取り出された最小値:\", int1)\n",
    "print(\"最小値を取り出した後のlist1:\",list1)"
   ]
  },
  {
   "cell_type": "markdown",
   "metadata": {},
   "source": [
    "ヒープは最小値を取り出した直後にはヒープ条件が不成立になる場合がありますが、 `heappop` はヒープ条件が成立する様にヒープを自動的に再構成します。"
   ]
  },
  {
   "cell_type": "code",
   "execution_count": null,
   "metadata": {},
   "outputs": [],
   "source": [
    "#ヒープ条件の確認\n",
    "for i, v in enumerate(list1):\n",
    "    if 2*i+2 < len(list1):\n",
    "        print(i, \"vs.\", i, \"の左側の子:\", list1[i], \"<=\", list1[2*i+1], list1[i] <= list1[2*i+1], \"\\t\", i, \"vs.\", i, \"の右側の子:\", list1[i], \"<=\", list1[2*i+2], list1[i] <= list1[2*i+2])"
   ]
  },
  {
   "cell_type": "markdown",
   "metadata": {},
   "source": [
    "何度最小値を取り出してもヒープ条件が保たれていることを確認してみましょう。"
   ]
  },
  {
   "cell_type": "code",
   "execution_count": null,
   "metadata": {},
   "outputs": [],
   "source": [
    "list1 = [1, 4, 2, 5, 9, 7, 3, 10, 6] # ヒープ条件を満たすリスト\n",
    "for i in range(5):\n",
    "    int1 = heapq.heappop(list1)\n",
    "    print(\"ヒープlist1から取り出された最小値:\", int1)\n",
    "    print(\"最小値を取り出した後のlist1:\",list1)\n",
    "    #ヒープ条件の確認\n",
    "    for i, v in enumerate(list1):\n",
    "        if 2*i+2 < len(list1):\n",
    "            print(i, \"vs.\", i, \"の左側の子:\", list1[i], \"<=\", list1[2*i+1], list1[i] <= list1[2*i+1], \"\\t\", i, \"vs.\", i, \"の右側の子:\", list1[i], \"<=\", list1[2*i+2], list1[i] <= list1[2*i+2])"
   ]
  },
  {
   "cell_type": "markdown",
   "metadata": {},
   "source": [
    "つまり、`heappop` を使う場合、使い手（我々）がヒープを再構成する（再度 `heapify` を使う）必要はないことに注意して下さい。"
   ]
  },
  {
   "cell_type": "markdown",
   "metadata": {},
   "source": [
    "当然ですが、値を取り出すたびに（不要な）`heapify` を実行すると計算時間に影響が出ます。仮に大きさ $n$ のヒープから全ての要素を取り出すとすると、最初に1回だけヒープを構成する場合の計算量は $O(n + n \\log_2 n) = O(n \\log_2 n)$ ですが、毎回ヒープを再構成する場合は $O(n^2 + n \\log_2 n) = O(n^2)$ になってしまいます。可視化してみましょう。"
   ]
  },
  {
   "cell_type": "code",
   "execution_count": null,
   "metadata": {
    "scrolled": true
   },
   "outputs": [],
   "source": [
    "%matplotlib inline\n",
    "import random, time, matplotlib.pyplot as plt\n",
    "#HeapifyOnce vs. HeapifyCrazyの時間を計測する\n",
    "def getSearchTimesOfHeapifyCrazy(list_list1, list_list2):\n",
    "    #list_x, list_y1, list_y2の値を初期化\n",
    "    list_x = []; list_y1 = []; list_y2 = []\n",
    "    for i in range(len(list_list1)):\n",
    "        #list_xの値（ヒープの要素数）を格納\n",
    "        list1 = list_list1[i]\n",
    "        list2 = list_list2[i]\n",
    "        list_x.append(len(list1))\n",
    "        #時間計測開始\n",
    "        time_init = time.time()\n",
    "        #値を取り出す（heapifyを1回だけ実行する）\n",
    "        heapq.heapify(list1)\n",
    "        for _ in range(len(list1)):\n",
    "            heapq.heappop(list1)\n",
    "        #list_y1の値を格納（計測結果を格納）\n",
    "        list_y1.append(time.time()-time_init)\n",
    "        #時間計測開始\n",
    "        time_init = time.time()\n",
    "        #値を取り出す（heapifyを毎回実行する）\n",
    "        for _ in range(len(list2)):\n",
    "            heapq.heapify(list2) # O(n)\n",
    "            heapq.heappop(list2) # O(log n)\n",
    "        #list_y2の値を格納（計測結果を格納）\n",
    "        list_y2.append(time.time()-time_init)\n",
    "    return list_x, list_y1, list_y2\n",
    "#テスト用データのリストを作成\n",
    "def constructLists(listsizebase, listnum):\n",
    "    random.seed(a=0)\n",
    "    list_lists = [];list_items = []\n",
    "    for i in range(listnum):\n",
    "        #リストの大きさを計算\n",
    "        listsize = listsizebase*(i+1)\n",
    "        #ヒープ化するリストを作成\n",
    "        list1 = []\n",
    "        #乱数で値を作成\n",
    "        for i in range(listsize):\n",
    "            list1.append(random.randint(0, listsize-1))\n",
    "        list_lists.append(list1)\n",
    "    return list_lists\n",
    "\n",
    "#リスト（ヒープ）の大きさ、数\n",
    "listsizebase = 1000; listnum = 10\n",
    "#テスト用データのリストを作成\n",
    "list_list1 = constructLists(listsizebase, listnum)\n",
    "#list_list2 = list_list1[:] #複写\n",
    "list_list2 = [None] * len(list_list1)\n",
    "for i in range(len(list_list1)):\n",
    "    list_list2[i] = list_list1[i][:] #複写\n",
    "#ヒープ化を1回実行→全ての要素を取り出す場合と、要素を取り出すたびにヒープ化を実行する場合の時間計測\n",
    "list_x, list_y1, list_y2 = getSearchTimesOfHeapifyCrazy(list_list1, list_list2)\n",
    "#print(list_y1, list_y2)\n",
    "#描画\n",
    "#x軸:ヒープの大きさ、y軸:時間\n",
    "list_name = [\"Once\", \"TooMany\"]\n",
    "##ヒープ化を最初だけ実行：\n",
    "plt.plot(list_x, list_y1, label=list_name[0]);\n",
    "##ヒープ化を毎回実行：\n",
    "plt.plot(list_x, list_y2, label=list_name[1]);\n",
    "plt.legend();"
   ]
  },
  {
   "cell_type": "markdown",
   "metadata": {},
   "source": [
    "ヒープの大きさ `listsizebase` を大きくすると非常に時間がかかることを確認して下さい。"
   ]
  },
  {
   "cell_type": "markdown",
   "metadata": {},
   "source": [
    "リストが空の場合に `heappop` を使うとエラーが出ます。"
   ]
  },
  {
   "cell_type": "code",
   "execution_count": null,
   "metadata": {},
   "outputs": [],
   "source": [
    "list1 = [1, 4, 2, 5, 9] # ヒープ条件を満たすリスト\n",
    "for i in range(6):\n",
    "    int1 = heapq.heappop(list1)\n",
    "    print(\"ヒープlist1から取り出された最小値:\", int1)\n",
    "    print(\"最小値を取り出した後のlist1:\",list1)"
   ]
  },
  {
   "cell_type": "markdown",
   "metadata": {},
   "source": [
    "一般的には空かどうかを確かめてから取り出す様にします。"
   ]
  },
  {
   "cell_type": "code",
   "execution_count": null,
   "metadata": {},
   "outputs": [],
   "source": [
    "if len(list1) > 0:\n",
    "    int1 = heapq.heappop(list1)"
   ]
  },
  {
   "cell_type": "markdown",
   "metadata": {},
   "source": [
    "また、ヒープ条件を満たさないリストから要素を取り出しても最小の値は取り出せません。"
   ]
  },
  {
   "cell_type": "code",
   "execution_count": null,
   "metadata": {},
   "outputs": [],
   "source": [
    "list1 = [10, 4, 3, 1, 9, 7, 2, 5, 6] # ヒープ条件を満たさないリスト\n",
    "int1 = heapq.heappop(list1) #heapifyを実行せずに要素を取り出す\n",
    "print(\"ヒープlist1から取り出された値:\", int1)\n",
    "print(\"値を取り出した後のlist1:\",list1) "
   ]
  },
  {
   "cell_type": "markdown",
   "metadata": {},
   "source": [
    "## ヒープへの要素の追加\n",
    "\n",
    "ヒープ（ヒープ条件を満たすリスト）にヒープ条件を満たす様に要素を追加するには、関数 **`heappush`** を用います。\n",
    "\n",
    "`heappush` は、ヒープ `リストA` に要素 `値B` を追加します。この関数も元のリストを直接書き換えます。\n",
    "\n",
    "---\n",
    "```Python\n",
    "heapq.heappush(リストA, 値B)\n",
    "```\n",
    "---"
   ]
  },
  {
   "cell_type": "code",
   "execution_count": null,
   "metadata": {},
   "outputs": [],
   "source": [
    "list1 = [1, 4, 2, 5, 9, 7, 3, 10, 6] # ヒープ条件を満たすリスト\n",
    "heapq.heappush(list1, 8)\n",
    "print(\"新しい値8を追加した後のlist1:\", list1)"
   ]
  },
  {
   "cell_type": "markdown",
   "metadata": {},
   "source": [
    "`heappush` は要素追加後にヒープ条件を満たす様にヒープを自動的に再構成しています。"
   ]
  },
  {
   "cell_type": "code",
   "execution_count": null,
   "metadata": {},
   "outputs": [],
   "source": [
    "#ヒープ条件の確認\n",
    "for i, v in enumerate(list1):\n",
    "    if 2*i+2 < len(list1):\n",
    "        print(i, \"vs.\", i, \"の左側の子:\", list1[i], \"<=\", list1[2*i+1], list1[i] <= list1[2*i+1], \"\\t\", i, \"vs.\", i, \"の右側の子:\", list1[i], \"<=\", list1[2*i+2], list1[i] <= list1[2*i+2])"
   ]
  },
  {
   "cell_type": "markdown",
   "metadata": {},
   "source": [
    "何度要素を追加してもヒープ条件が保たれていることを確認してみましょう。"
   ]
  },
  {
   "cell_type": "code",
   "execution_count": null,
   "metadata": {},
   "outputs": [],
   "source": [
    "import random\n",
    "random.seed(a=0)\n",
    "list1 = [1, 4, 2, 5, 9, 7, 3, 10, 6] # ヒープ条件を満たすリスト\n",
    "for i in range(5):\n",
    "    int1= random.randint(0, 20)\n",
    "    heapq.heappush(list1, int1)\n",
    "    print(\"新しい値\", int1, \"を追加した後のlist1:\",list1)\n",
    "    #ヒープ条件の確認\n",
    "    for i, v in enumerate(list1):\n",
    "        if 2*i+2 < len(list1):\n",
    "            print(i, \"vs.\", i, \"の左側の子:\", list1[i], \"<=\", list1[2*i+1], list1[i] <= list1[2*i+1], \"\\t\", i, \"vs.\", i, \"の右側の子:\", list1[i], \"<=\", list1[2*i+2], list1[i] <= list1[2*i+2])"
   ]
  },
  {
   "cell_type": "markdown",
   "metadata": {},
   "source": [
    "`heappush` を使う場合も、使い手がヒープを再構成する（再度 `heapify` を使う）必要はないことに注意して下さい。\n",
    "\n",
    "ヒープ条件を満たさないリストに要素を追加しても意味はありません。"
   ]
  },
  {
   "cell_type": "code",
   "execution_count": null,
   "metadata": {},
   "outputs": [],
   "source": [
    "list1 = [10, 4, 3, 1, 9, 7, 2, 5, 6] # ヒープ条件を満たさないリスト\n",
    "heapq.heappush(list1, 8)\n",
    "print(list1) # ヒープ条件を満たさないリスト"
   ]
  },
  {
   "cell_type": "markdown",
   "metadata": {},
   "source": [
    "## 多重リストとヒープ\n",
    "\n",
    "多重リスト（もしくは、タプルを格納したリスト）をヒープにすると内側のリストの先頭の要素がヒープ条件を満たす様にリストの要素が並べ替えられます。"
   ]
  },
  {
   "cell_type": "code",
   "execution_count": null,
   "metadata": {},
   "outputs": [],
   "source": [
    "import random\n",
    "random.seed(0)\n",
    "list1 = []\n",
    "for i in range(10):\n",
    "    a1 = random.randint(0, 30)\n",
    "    a2 = random.randint(0, 30)\n",
    "    list2 = [a1, a2] #タプルなどでも良い\n",
    "    list1.append(list2)\n",
    "print(\"ヒープ作成前のlist1: \", list1)\n",
    "heapq.heapify(list1)\n",
    "print(\"ヒープ作成後のlist1: \", list1)\n",
    "print(\"list1から順番に（多重リストの先頭の要素の）最小値を取り出す: \")\n",
    "for i in range(0, 10):\n",
    "    a3 = heapq.heappop(list1)\n",
    "    print(a3)"
   ]
  },
  {
   "cell_type": "markdown",
   "metadata": {},
   "source": [
    "これを利用して通常、内側のリストの1番目の要素をキー、2番目（以降）の要素を何らかの識別記号とすることが多い様です。"
   ]
  },
  {
   "cell_type": "markdown",
   "metadata": {},
   "source": [
    "## 更新と削除\n",
    "\n",
    "`heapq` で実装されているヒープでは、ヒープ内のキーを更新したり、削除したりすることは出来ません。\n",
    "\n",
    "そこで通常、一度取り出した識別記号の名前を記憶しておくことが推奨されています。"
   ]
  },
  {
   "cell_type": "code",
   "execution_count": null,
   "metadata": {},
   "outputs": [],
   "source": [
    "list1 = [[7, \"a\"], [2, \"b\"], [4, \"c\"], [9, \"d\"], [1, \"e\"]]\n",
    "heapq.heapify(list1)\n",
    "heapq.heappush(list1, [3, \"a\"])\n",
    "heapq.heappush(list1, [8, \"a\"])\n",
    "dic1 = {} # 既にヒープから取り出した文字を記憶する辞書（もしくは集合を使う）\n",
    "cnt = 1\n",
    "while(len(list1) > 0):\n",
    "    val1 = heapq.heappop(list1)\n",
    "    if val1[1] in dic1: # \"a\" の値は3回取り出されるが、2回目以降は無視する\n",
    "        continue\n",
    "    dic1[val1[1]] = True\n",
    "    print(cnt, \"番目に取り出した識別記号：\", val1[1], \" キー\", val1[0])\n",
    "    cnt += 1"
   ]
  },
  {
   "cell_type": "markdown",
   "metadata": {},
   "source": [
    "例えば、ヒープ内のキューを手動で更新した場合、再度ヒープ条件を成立させるには `heapify` を行うしかありません。そのため、<b>手動でキーを削除したり更新したりしてはいけません。</b>\n"
   ]
  },
  {
   "cell_type": "markdown",
   "metadata": {},
   "source": [
    "## 練習（maxヒープ）\n",
    "\n",
    "整数を要素とするリスト `list1` を引数として取り、ヒープを使って `list1` の値を降順（値の大きい順）に格納したリスト `list_topk` を返す関数 `HeapsortInDescendingOrder` を作成して下さい。ただし、以下の点に注意して下さい。\n",
    "\n",
    "`heapq` を用いて実現されるヒープは**minヒープ**とも呼ばれ、最小値を根に配置し、親の値（キー）が子の値以下である、という(min)ヒープ条件を満たします。そこで、最大値を根に配置し、親の値（キー）が子の値以上である、というmaxヒープ条件を満たす**maxヒープ**を使って作成してみましょう\n",
    "(`sort` や `sorted` を使うのは止めましょう)。\n",
    "\n",
    "以下のセルの `...` のところを書き換えて解答して下さい。<a id=\"HeapsortInDescendingOrderQ\" href=\"#HeapsortInDescendingOrderA\">[解答]</a>"
   ]
  },
  {
   "cell_type": "code",
   "execution_count": null,
   "metadata": {},
   "outputs": [],
   "source": [
    "import ...\n",
    "def HeapsortInDescendingOrder(list1):\n",
    "    ...\n",
    "    return list_topk"
   ]
  },
  {
   "cell_type": "markdown",
   "metadata": {},
   "source": [
    "上のセルで解答を作成した後、以下のセルを実行し、実行結果が全て `True` になることを確認して下さい。"
   ]
  },
  {
   "cell_type": "code",
   "execution_count": null,
   "metadata": {
    "scrolled": true
   },
   "outputs": [],
   "source": [
    "list_test1 = [2, 10, 4, 3, 7, 5, 9, 2, 4]\n",
    "list_topk_test1 = HeapsortInDescendingOrder(list_test1)\n",
    "print(list_topk_test1 == [10, 9, 7, 5, 4, 4, 3, 2, 2])"
   ]
  },
  {
   "cell_type": "markdown",
   "metadata": {},
   "source": [
    "## 練習（条件付き優先キュー）\n",
    "\n",
    "リスト `list1` と正の整数 `k` を引数として取り、リスト `list_topk` を返す関数 `getTopKInSizeTwoLists` を作成して下さい。ただし、以下の点に注意して下さい。\n",
    "\n",
    "1. `list1` は整数を要素とする大きさ2のリストを要素とするリスト（多重リスト）です。\n",
    "    * `list1` に格納されているリストの第1要素は全て異なるものとします。\n",
    "2. `list_topk` は次の様な大きさ2のリスト `list_item` のみを要素として持ちます。\n",
    "    * `list_item` は `list1` の要素です。\n",
    "    * `list_item[1]` の値は `0` より大きい値です。\n",
    "    * `list_item[0]` の値は `list1` に格納されているリストの値を第1要素の値で昇順に並べたとき、上位 `k` 位に入ります。\n",
    "    * 上記の条件を満たす `list_item` の値は必ず `k` 個以上 `list1` に含まれるものとします。\n",
    "3. `sort` や `sorted` を使うのは止めましょう。\n",
    "\n",
    "以下のセルの `...` のところを書き換えて解答して下さい。<a id=\"getTopKInSizeTwoListsQ\" href=\"#getTopKInSizeTwoListsA\">[解答]</a>"
   ]
  },
  {
   "cell_type": "code",
   "execution_count": null,
   "metadata": {},
   "outputs": [],
   "source": [
    "import ...\n",
    "def getTopKInSizeTwoLists(list1, k):\n",
    "    ..."
   ]
  },
  {
   "cell_type": "markdown",
   "metadata": {},
   "source": [
    "上のセルで解答を作成した後、以下のセルを実行し、実行結果が全て `True` になることを確認して下さい。"
   ]
  },
  {
   "cell_type": "code",
   "execution_count": null,
   "metadata": {
    "scrolled": true
   },
   "outputs": [],
   "source": [
    "list_test1 = [[607, 0], [252, 1], [490, 1], [903, 0], [589, 1], [679, 1], [208, 1], [62, 1], [929, 0], [548, 0], [3, 0], [157, 1], [206, 0], [203, 0], [901, 0], [980, 0], [557, 0], [910, 1], [51, 1], [218, 0]]\n",
    "list_topk_test1 = getTopKInSizeTwoLists(list_test1, 5)\n",
    "print(list_topk_test1 == [[51, 1], [62, 1], [157, 1], [208, 1], [252, 1]])"
   ]
  },
  {
   "cell_type": "markdown",
   "metadata": {},
   "source": [
    "## 練習（条件付き優先キュー2）\n",
    "\n",
    "タプルを要素とするリスト `list1` と正の整数 `k` を引数として取り、リスト `list_topk` を返す関数 `getTopKWithConditions` を作成して下さい。ただし、以下の点に注意して下さい。\n",
    "\n",
    "1. `list1` は整数を要素とする大きさ2のタプルを要素とするリストです。\n",
    "    * `list1` に格納されているリストの第1要素は全て異なるものとします。\n",
    "2. `list_topk` は次の様な大きさ2のタプル `tup_item` のみを要素として持ちます。\n",
    "    * `tup_item` は `list1` の要素です。\n",
    "    * `tup_item[1]` の値（整数）を `10` で割って得られる値（商）をそのタプル(`tup_item`)のキーと呼びます。\n",
    "    * 同じキーをもつタプルは `list_topk` に高々1つしか含まれません。\n",
    "    * `tup_item[0]` の値は `list1` に格納されているリストの値を第1要素の値で昇順に並べたとき、上位 `k` 位に入ります。\n",
    "    * 上記の条件を満たす `tup_item` の値は必ず `k` 個以上 `list1` に含まれるものとします。\n",
    "3. `sort` や `sorted` を使うのは止めましょう。\n",
    "\n",
    "以下のセルの `...` のところを書き換えて解答して下さい。<a id=\"getTopKWithConditionsQ\" href=\"#getTopKWithConditionsA\">[解答]</a>"
   ]
  },
  {
   "cell_type": "code",
   "execution_count": null,
   "metadata": {},
   "outputs": [],
   "source": [
    "import heapq\n",
    "def getTopKWithConditions(list1, k):\n",
    "    ...\n",
    "    return list_topk"
   ]
  },
  {
   "cell_type": "markdown",
   "metadata": {},
   "source": [
    "上のセルで解答を作成した後、以下のセルを実行し、実行結果が全て `True` になることを確認して下さい。"
   ]
  },
  {
   "cell_type": "code",
   "execution_count": null,
   "metadata": {
    "scrolled": true
   },
   "outputs": [],
   "source": [
    "list_test1 = [(17, 36), (97, 4), (32, 7), (63, 48), (57, 30), (83, 24), (100, 13), (12, 31), (3, 57), (49, 27)]\n",
    "list_topk_test1 = getTopKWithConditions(list_test1, 5)\n",
    "print(list_topk_test1==[(3, 57), (12, 31), (32, 7), (49, 27), (63, 48)])"
   ]
  },
  {
   "cell_type": "code",
   "execution_count": null,
   "metadata": {},
   "outputs": [],
   "source": []
  },
  {
   "cell_type": "code",
   "execution_count": null,
   "metadata": {},
   "outputs": [],
   "source": []
  },
  {
   "cell_type": "markdown",
   "metadata": {},
   "source": [
    "## 練習 擬似優先デック\n",
    "\n",
    "整数を要素とするリスト `list1` と `True` と `False` を幾つか格納したリスト `listk` を引数として取り、リスト `list_res` を返す関数 `PriorityDeque` を作成して下さい。`PriorityDeque` は `True` が指示された場合、指示された時点における `list1` の最小値を、`False` が指示された場合、指示された時点における `list1` の最大値を求めます。この `i` 番目の「指示」は `listk[i]` に順に格納されており、`i` 番目の「指示」に対して求めた値は `list_res` の `i` 番目に格納します。\n",
    "\n",
    "具体的には、以下の点に注意して解答して下さい。\n",
    "\n",
    "1. `list1` に格納されている値は全て異なるものとします。\n",
    "2. `list_res` は `listk` に格納されている値に従って `list1` に格納された整数から構成されたリストです。\n",
    "3. `listk[i]` が `True` である場合、`list1` から `list_res` の `0` から `i-1` 番目の要素を取り除いて残った値の中の最小値を `list_res[i]` に格納します。\n",
    "4. `listk[i]` が `False` である場合、`list1` から `list_res` の `0` から `i-1` 番目の要素を取り除いて残った値の中の最大値を `list_res[i]` に格納します。\n",
    "5. `listk` の要素数は `list1` の要素数以下です。\n",
    "6. ヒープを使って解答して下さい。\n",
    "\n",
    "以下のセルの `...` のところを書き換えて解答して下さい。<a id=\"PriorityDequeQ\" href=\"#PriorityDequeA\">[解答]</a>"
   ]
  },
  {
   "cell_type": "code",
   "execution_count": null,
   "metadata": {},
   "outputs": [],
   "source": [
    "import heapq\n",
    "def PriorityDeque(list1, listk):\n",
    "    ...\n",
    "    return list_res"
   ]
  },
  {
   "cell_type": "markdown",
   "metadata": {},
   "source": [
    "上のセルで解答を作成した後、以下のセルを実行し、実行結果が全て `True` になることを確認して下さい。"
   ]
  },
  {
   "cell_type": "code",
   "execution_count": null,
   "metadata": {
    "scrolled": true
   },
   "outputs": [],
   "source": [
    "list_test1 = [2, 10, 6, 3, 7, 5, 9, 1, 4]\n",
    "listk_test1 = [True, False, True]\n",
    "list_res_test1 = PriorityDeque(list_test1, listk_test1)\n",
    "print(list_res_test1==[1, 10, 2])\n",
    "list_test1 = [2, 10, 6, 3, 7, 5, 9, 1, 4]\n",
    "listk_test2 = [True, True, True, False, False]\n",
    "list_res_test2 = PriorityDeque(list_test1, listk_test2)\n",
    "print(list_res_test2==[1, 2, 3, 10, 9])\n",
    "list_test1 = [2, 10, 6, 3, 7, 5, 9, 1, 4]\n",
    "listk_test3 = [False, False, False, True]\n",
    "list_res_test3 = PriorityDeque(list_test1, listk_test3)\n",
    "print(list_res_test3==[10, 9, 7, 1])"
   ]
  },
  {
   "cell_type": "code",
   "execution_count": null,
   "metadata": {},
   "outputs": [],
   "source": []
  },
  {
   "cell_type": "markdown",
   "metadata": {},
   "source": [
    "## 練習の解答"
   ]
  },
  {
   "cell_type": "markdown",
   "metadata": {},
   "source": [
    "## maxヒープ（解答）\n",
    "\n",
    "<a id=\"HeapsortInDescendingOrderA\" href=\"#HeapsortInDescendingOrderQ\">[問]</a>"
   ]
  },
  {
   "cell_type": "code",
   "execution_count": 45,
   "metadata": {},
   "outputs": [],
   "source": [
    "import heapq\n",
    "def HeapsortInDescendingOrder(list1):\n",
    "    #-1をlistの各値にかけて、擬似的なmaxヒープを作成する\n",
    "    list_heap = []\n",
    "    for i in list1: # O(n)\n",
    "        list_heap.append(i * -1)\n",
    "    #ヒープ作成\n",
    "    heapq.heapify(list_heap) # O(n)\n",
    "    #結果格納用リストを初期化\n",
    "    list_topk = []\n",
    "    for i in list1: # n回繰り返す\n",
    "        #ヒープから値を取り出して、-1をかけて元の値に戻す\n",
    "        a1 = heapq.heappop(list_heap) * -1  # O(log n)\n",
    "        list_topk.append(a1)\n",
    "    return list_topk"
   ]
  },
  {
   "cell_type": "markdown",
   "metadata": {},
   "source": [
    "## 条件付き優先キュー（解答）\n",
    "\n",
    "<a id=\"getTopKInSizeTwoListsA\" href=\"#getTopKInSizeTwoListsQ\">[問]</a>"
   ]
  },
  {
   "cell_type": "code",
   "execution_count": null,
   "metadata": {},
   "outputs": [],
   "source": [
    "import heapq\n",
    "def getTopKInSizeTwoLists(list1, k):\n",
    "    #ヒープ作成\n",
    "    heapq.heapify(list1)\n",
    "    #list_topkに格納した要素の数（条件を満たすlist_itemの値の数）\n",
    "    cnt = 0\n",
    "    #結果格納用リストを初期化\n",
    "    list_topk = []\n",
    "    #条件を満たす値がk個集まるまでループ\n",
    "    while(cnt < k):\n",
    "        list_item = heapq.heappop(list1)\n",
    "        # list_item[1]の条件\n",
    "        if list_item[1] > 0:\n",
    "            list_topk.append(list_item)\n",
    "            cnt += 1\n",
    "    return list_topk"
   ]
  },
  {
   "cell_type": "markdown",
   "metadata": {},
   "source": [
    "## 条件付き優先キュー2（解答）\n",
    "\n",
    "<a id=\"getTopKWithConditionsA\" href=\"#getTopKWithConditionsQ\">[問]</a>"
   ]
  },
  {
   "cell_type": "code",
   "execution_count": null,
   "metadata": {},
   "outputs": [],
   "source": [
    "import heapq\n",
    "def getTopKWithConditions(list1, k):\n",
    "    #ヒープ作成\n",
    "    heapq.heapify(list1)\n",
    "    #list_topkに格納した要素の数（条件を満たすlist_itemの値の数）\n",
    "    cnt = 0\n",
    "    #結果格納用リストを初期化\n",
    "    list_topk = []\n",
    "    #既にヒープから取り出したキーを格納する集合を初期化\n",
    "    set_key = set()\n",
    "    #条件を満たす値がk個集まるまでループ\n",
    "    while(cnt < k):\n",
    "        tup_item = heapq.heappop(list1)\n",
    "        #print(tup_item, set_key) #取り出したtup_itemと登録済みのキーの状況\n",
    "        #tup_itemのキーを求める\n",
    "        key1 = tup_item[1] // 10 \n",
    "        #既にlist_topkに格納済みのキーかどうか調べる\n",
    "        if key1 in set_key:\n",
    "            continue#格納済みの場合は無視する\n",
    "        #条件を満たすtup_itemを格納\n",
    "        list_topk.append(tup_item)\n",
    "        #取り出したキーを集合に登録\n",
    "        set_key.add(key1)\n",
    "        #格納したtup_itemの数を数える\n",
    "        cnt += 1\n",
    "    return list_topk"
   ]
  },
  {
   "cell_type": "markdown",
   "metadata": {},
   "source": [
    "## 擬似優先デック（解答）\n",
    "\n",
    "<a id=\"PriorityDequeA\" href=\"#PriorityDequeQ\">[問]</a>\n"
   ]
  },
  {
   "cell_type": "code",
   "execution_count": null,
   "metadata": {},
   "outputs": [],
   "source": [
    "import heapq\n",
    "def PriorityDeque(list1, listk):\n",
    "    # 結果格納用リストの初期化\n",
    "    list_res = []\n",
    "    # 第1ヒープ(minヒープ)作成\n",
    "    list_heap1 = []\n",
    "    for index1, val in enumerate(list1):\n",
    "        list_heap1.append([val, index1]) # 値に通し番号index1を振る\n",
    "    heapq.heapify(list_heap1) # ヒープ化\n",
    "    # 第2ヒープ(maxヒープ)作成\n",
    "    list_heap2 = []\n",
    "    for index1, val in enumerate(list1):\n",
    "        # maxヒープを作る（値を正負逆転させる）\n",
    "        list_heap2.append([-val, index1]) # 値に通し番号index1を振る\n",
    "    heapq.heapify(list_heap2) # ヒープ化\n",
    "    # indexk番目のlistkの値を処理していることを表す変数\n",
    "    indexk = 0\n",
    "    # 既に取り出した通し番号を格納する集合\n",
    "    setk = set()\n",
    "    while indexk < len(listk): # listkの要素数までループ\n",
    "        if listk[indexk] is True: # listk[indexk]がTrueならminヒープを使用する\n",
    "            while True: #\n",
    "                item_tup1 = heapq.heappop(list_heap1)\n",
    "                if item_tup1[1] not in setk: # 既に（第2ヒープで）取り出した要素かどうかを調べる\n",
    "                    setk.add(item_tup1[1]) # 取り出した要素の通し番号を記録する\n",
    "                    break\n",
    "        else: # listk[indexk]がFalseならmaxヒープを使用する\n",
    "            while True:\n",
    "                item_tup1 = heapq.heappop(list_heap2)\n",
    "                if item_tup1[1] not in setk: # 既に（第1ヒープで）取り出した要素かどうかを調べる\n",
    "                    setk.add(item_tup1[1]) # 取り出した要素の通し番号を記録する\n",
    "                    item_tup1[0] *= -1 # maxヒープなので値が正負逆転している→-1かけて元に戻す\n",
    "                    break\n",
    "        list_res.append(item_tup1[0])\n",
    "        indexk += 1\n",
    "    return list_res"
   ]
  }
 ],
 "metadata": {
  "kernelspec": {
   "display_name": "Python 3",
   "language": "python",
   "name": "python3"
  },
  "language_info": {
   "codemirror_mode": {
    "name": "ipython",
    "version": 3
   },
   "file_extension": ".py",
   "mimetype": "text/x-python",
   "name": "python",
   "nbconvert_exporter": "python",
   "pygments_lexer": "ipython3",
   "version": "3.7.4"
  }
 },
 "nbformat": 4,
 "nbformat_minor": 2
}
