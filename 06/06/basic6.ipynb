{
 "cells": [
  {
   "cell_type": "markdown",
   "metadata": {},
   "source": [
    "# 教養としてのアルゴリズムとデータ構造\n",
    "\n",
    "* 以下の各問について、問の次（もしくはその次）にあるコードセルに解答すること。\n",
    "    * 特に指定がある場合を除いて複数のセルに分けて解答してはならない。\n",
    "* 全ての解答を終えた後に必ずリスタートを実行し、上のセルから順番に実行して各解答が正しく動くことを確認すること。\n",
    " * ただし、ローカル環境で解答する場合、 `!wget...` の記載のあるセルは実行しなくてよい。 \n",
    "* 提出にあたっては、各当該のセルに解答のコードを記入し、それを実行した結果を表示させた後に、保存したこのファイルをITC-LMS経由で提出すること。\n",
    "* 解答のコードには適宜コメントを入れること。\n",
    "* 受講者間の協力は原則許可しない。\n",
    "* 解答がコピペと判断された場合、その解答（コピペ元も含めて）は0点となる可能性があるので注意すること。\n",
    "* 特に指定がない限りモジュールを用いて解答してはならない。\n"
   ]
  },
  {
   "cell_type": "markdown",
   "metadata": {},
   "source": [
    "<b><font color=\"red\">\n",
    "各問に解答するにあたり、以下の点に注意して下さい。\n",
    "\n",
    "1. `bisect, collections (deque), heapq ` は使用可能です。\n",
    "</font></b>"
   ]
  },
  {
   "cell_type": "markdown",
   "metadata": {},
   "source": [
    "* ローカル環境で行う場合、課題によってはデータを別にダウンロードする必要があります。\n",
    "* Colaboratoryを利用して課題を行う場合には、最初に以下のセルを実行して下さい。"
   ]
  },
  {
   "cell_type": "code",
   "execution_count": null,
   "metadata": {},
   "outputs": [],
   "source": [
    "!wget https://drive.google.com/uc?id=1f5tjyfqDgcoHYyqedfhRKrmZ-eOGivX7 -O utaadevalcpx.zip\n",
    "!unzip utaadevalcpx.zip"
   ]
  },
  {
   "cell_type": "markdown",
   "metadata": {},
   "source": [
    "以下のセルは各解答セルのプログラムの計算量を自動的に評価するのに利用します。\n",
    "* ローカル環境で解答している人はファイルを保存してから以下のセルをそのまま実行して下さい（このファイルと同じフォルダ内に `utaadevalcpx.py` があることを確認して下さい）。\n",
    "* Colaboratoryを利用している人は評価用セル内部の `str_code_X_Y  = '''...'''` の `...` に自分の解答をコピペして下さい（`X` と `Y` は問の通し番号です。ファイル冒頭のデータのダウンロードを事前に行う必要があります）。\n",
    "\n",
    "計算量の自動評価は、常に正しい計算量を求められる訳ではありません（<font color=\"red\">正しく求められなかった場合、実際の計算量よりも計算量が少なく求まります</font>）。例えば、以下の様な内容のコードは正しく評価できないことがあります。\n",
    "* 組み込み関数などの名前を別名に変更している\n",
    "* 条件式の使用（例えば、for文中のif文＋`break`など）\n",
    "* while文を使用する\n",
    "\n",
    "計算量の評価を行うセルでエラーが発生しても解答が間違っているという訳ではありません（模範解答とは違う解答である可能性が高いです）。\n",
    "\n",
    "Pythonのバージョンが3.7以外だと、正しく評価されないことが多い様です（Colab.は3.7です）。"
   ]
  },
  {
   "cell_type": "code",
   "execution_count": null,
   "metadata": {},
   "outputs": [],
   "source": [
    "str_exfilename = \"basic6.ipynb\" # ファイル名を変更している場合、ここをその名前に変更する必要があります（ローカル環境のみ/Colab環境では使用しませんが実行はして下さい"
   ]
  },
  {
   "cell_type": "markdown",
   "metadata": {},
   "source": [
    "# 第6回基礎課題"
   ]
  },
  {
   "cell_type": "markdown",
   "metadata": {},
   "source": [
    "## 1. ヒープソート\n",
    "\n",
    "ヒープを使って数の並べ替えを実現するヒープソートを作成して下さい。\n",
    "\n",
    "具体的には、整数を要素とするリスト `list_data` と正の整数 `k` が与えられたときに、`list_data` に格納されている1番目に小さい値から `k` 番目に小さい値までの `k` 個の整数を昇順に格納したリスト `list_res` を返す関数 `Heapsort` を作成して下さい。\n",
    "\n",
    "ただし、 `k` は `list_data` の大きさ以下であり、 `list_data` に格納されている数は全て異なると仮定して良いものとします。また、ヒープの実現には、`heapq` を使って下さい。\n",
    "\n",
    "なお、各値の大きさは以下の通りとします。\n",
    "* $n =$ `list_data` の要素数\n",
    "\n",
    "以下のセルの `...` のところを書き換えて解答して下さい。"
   ]
  },
  {
   "cell_type": "code",
   "execution_count": null,
   "metadata": {},
   "outputs": [],
   "source": [
    "### この行のコメントを改変してはいけません %6-1% ### \n",
    "#解答用セル\n",
    "import ... # モジュールを使わない場合、この行は削除して良い\n",
    "def Heapsort(list_data, k):\n",
    "    ...\n",
    "    return list_res"
   ]
  },
  {
   "cell_type": "markdown",
   "metadata": {},
   "source": [
    "上のセルで解答を作成した後、以下のセルを実行し、実行結果が全て `True` になることを確認して下さい。"
   ]
  },
  {
   "cell_type": "code",
   "execution_count": null,
   "metadata": {},
   "outputs": [],
   "source": [
    "list_data_test1 = [7, 21, 15, 17, 10, 11, 8, 22, 5, 9]\n",
    "print(Heapsort(list_data_test1, 4) == [5, 7, 8, 9], Heapsort(list_data_test1, 0) == [])"
   ]
  },
  {
   "cell_type": "markdown",
   "metadata": {},
   "source": [
    "以下のセルを実行すると解答セルのプログラムの計算量を自動的に評価します。\n",
    "\n",
    "この課題の模範解答の時間計算量は<font color=\"white\"> $O(k \\log n + n)$ と評価されます。</font>（←白黒反転しています）  \n",
    "想像（模範解答）よりも大きな計算量となっている場合、どこに問題があるのか考えてみて下さい。"
   ]
  },
  {
   "cell_type": "code",
   "execution_count": null,
   "metadata": {
    "scrolled": false
   },
   "outputs": [],
   "source": [
    "import utaadevalcpx;dic_varinfo_6_1 = {\"list_data\": [\"list\", set(), {\"n\"}],\"k\": [\"int\", set(), {\"k\"}],}\n",
    "str_code_6_1 = '''...'''\n",
    "utaadevalcpx.evaluateCpx(str_exfilename, \"6-1\", dic_varinfo_6_1, str_code_6_1) # str_exfilenameはファイルの冒頭で定義されています"
   ]
  },
  {
   "cell_type": "markdown",
   "metadata": {},
   "source": [
    "各 `k` 毎に実装したヒープソートとリストの `sort`メソッド、組み込み関数 `sorted` の実行時間を比較してみましょう。グラフの横軸が `k` の値（並べ替えによって取得する値の数）、縦軸が `k` 個の数を取り出すのにかかった時間（秒）です。\n",
    "\n"
   ]
  },
  {
   "cell_type": "code",
   "execution_count": null,
   "metadata": {},
   "outputs": [],
   "source": [
    "import random, json, time, matplotlib.pyplot as plt\n",
    "%matplotlib inline\n",
    "#時間を計測する関数\n",
    "def getSortTimes(list1, list_func, repatnum, exnum):\n",
    "    #list_x1, list_ysを初期化\n",
    "    list_x1 = [];list_ys = []\n",
    "    for i in range(0, repatnum):\n",
    "        #取り出す要素数(k)\n",
    "        k = int(len(list1)*(i+1)/(repatnum * exnum))\n",
    "        #list_xの値を格納\n",
    "        list_x1.append(k)\n",
    "        # list_ysに格納する各探索結果を格納するリスト\n",
    "        list_y1 = []\n",
    "        for func1 in list_func:\n",
    "            list2 = list1.copy()\n",
    "            time_init = time.time()\n",
    "            func1(list2, k)\n",
    "            list_y1.append(time.time() - time_init)\n",
    "        list_ys.append(list_y1)\n",
    "    return list_x1, list_ys\n",
    "#sortメソッドでトップk個を取り出す\n",
    "def sort_ksmallest(list1, k):\n",
    "    list1.sort()\n",
    "    return list1[0:k]\n",
    "#sortedでトップk個を取り出す\n",
    "def sorted_ksmallest(list1, k):\n",
    "    list2 = sorted(list1)\n",
    "    return list2[0:k]\n",
    "#heapq.nsmallestでトップk個を取り出す\n",
    "def heapq_ksmallest(list1, k):\n",
    "    return heapq.nsmallest(k, list1)\n",
    "#線形探索をk回実行してトップk個を取り出す\n",
    "def linearsearch_ksmallest(list1, k):\n",
    "    #取得済みインデックスチェック用（False:未取得、True:取得済み）\n",
    "    list_check = [False] * len(list1)\n",
    "    #結果格納用\n",
    "    list2 = [None] * k\n",
    "    #k回線形探索を繰り返して値を取得する\n",
    "    for i in range(k):\n",
    "        #最初の最小値（初期値）を設定する\n",
    "        for index0 in range(len(list1)):\n",
    "            #まだ取得していない値を発見したかどうか\n",
    "            if list_check[index0] is False:\n",
    "                minindex = index0\n",
    "                minvalue = list1[minindex]\n",
    "                list_check[minindex]= True\n",
    "                break\n",
    "        #線形探索\n",
    "        for index1, value1 in enumerate(list1):\n",
    "            #まだ取得していない値で、現在の最小値より小さい値が見つかった\n",
    "            if list_check[index1] is False and value1 < minvalue:\n",
    "                list_check[minindex] = False\n",
    "                minindex = index1\n",
    "                minvalue = value1\n",
    "                list_check[minindex] = True\n",
    "        list2[i] = minvalue\n",
    "    return list2\n",
    "#結果（計測した時間）を描画\n",
    "def drawResultTimes_anyfunc(list_x, list_ys, list_f, repeatnum, funcnum, list_searchname, list_color, myfigsize):\n",
    "    plt.figure(figsize=(20, 10))\n",
    "    for i in range(funcnum):\n",
    "        if list_f[i] is False:\n",
    "            continue\n",
    "        list_y = []\n",
    "        for j in range(repeatnum):\n",
    "            list_y.append(list_ys[j][i])\n",
    "        plt.plot(list_x, list_y, color=list_color[i], label=list_searchname[i]) \n",
    "    plt.legend();\n",
    "random.seed(a=0)\n",
    "list_lists = []\n",
    "list_items = []\n",
    "repatnum_test = 10 # itemnum/10刻みで要素を取り出すのにかかる時間を調べる\n",
    "itemnum = 300000 # リストの大きさ\n",
    "maxvalue = itemnum * 100\n",
    "list_searchname1 = [\"heap (n+klogn)\", \"sort (nlogn+k)\", \"sorted (nlogn+n+k)\", \"nsmallest (nk)\"]\n",
    "list_color1 = [\"lightskyblue\", \"orange\", \"green\", \"red\", \"pink\", \"yellow\", \"blue\", \"purple\"]\n",
    "list_num1 = [random.randint(0, maxvalue) for _ in range(itemnum)]\n",
    "list_sortfunc = [Heapsort, sort_ksmallest, sorted_ksmallest, heapq_ksmallest]\n",
    "exnum_test = 1\n",
    "list_x, list_ys = getSortTimes(list_num1, list_sortfunc, repatnum_test, exnum_test)\n",
    "myfigsize1 = (10, 6)\n",
    "drawResultTimes_anyfunc(list_x, list_ys, [True]*len(list_sortfunc), repatnum_test, len(list_sortfunc), list_searchname1, list_color1, myfigsize1)"
   ]
  },
  {
   "cell_type": "markdown",
   "metadata": {},
   "source": [
    "取得する要素数 `k` が小さい部分を拡大します。"
   ]
  },
  {
   "cell_type": "code",
   "execution_count": null,
   "metadata": {},
   "outputs": [],
   "source": [
    "exnum_test = 2.5\n",
    "list_x, list_ys = getSortTimes(list_num1, list_sortfunc, repatnum_test, exnum_test)\n",
    "myfigsize1 = (10, 6)\n",
    "drawResultTimes_anyfunc(list_x, list_ys, [True]*len(list_sortfunc), repatnum_test, len(list_sortfunc), list_searchname1, list_color1, myfigsize1)"
   ]
  },
  {
   "cell_type": "markdown",
   "metadata": {},
   "source": [
    "`k` が大きい場合は `sort`メソッド（`sorted`）が圧勝しますが、`k` の値がリストの1,2割程度の要素を取り出す場合は `Heapsort` の方が高速であることが確認できるはずです（が、環境にもよります）。要するに、`k` が小さい場合には、`sorted` や `sort` ではなく、 `heapq` によるヒープを使いましょう、ということです。"
   ]
  },
  {
   "cell_type": "markdown",
   "metadata": {},
   "source": [
    "<b>問題の難易度評価：</b>\n",
    "下のセルにこの問の難易度を5段階（1:簡単、2:やや簡単、3:普通、4:やや難しい、5:難しい）で評価して下さい。（次回以降の課題の難易度の調整に使います）\n",
    "また、解答するのにかかった時間や感想などがあれば適宜記載して下さい。"
   ]
  },
  {
   "cell_type": "code",
   "execution_count": null,
   "metadata": {},
   "outputs": [],
   "source": [
    "#難易度（1:簡単、2:やや簡単、3:普通、4:やや難しい、5:難しい）\n",
    "\n",
    "#感想\n"
   ]
  },
  {
   "cell_type": "markdown",
   "metadata": {},
   "source": [
    "## 2. トップ `k` の取得\n",
    "\n",
    "整数を要素とするリスト `list_data` と正の整数 `k` が与えられたときに、`list_data` に格納されている1番目に小さい値から `k` 番目に小さい値までの `k` 個の整数を格納したリストを返す関数 `getTopK` を作成して下さい。\n",
    "\n",
    "ただし、 `k` は `list_data` の大きさ以下であり、 `list_data` に格納されている数は全て異なると仮定して良いものとします。また、ヒープを用いて下さい。\n",
    "\n",
    "なお、各値の大きさは以下の通りとします。\n",
    "* $n =$ `list_data` の要素数\n",
    "\n",
    "以下のセルの `...` のところを書き換えて解答して下さい。"
   ]
  },
  {
   "cell_type": "code",
   "execution_count": null,
   "metadata": {},
   "outputs": [],
   "source": [
    "### この行のコメントを改変してはいけません %6-1% ### \n",
    "#解答用セル\n",
    "import ... # モジュールを使わない場合、この行は削除して良い\n",
    "def getTopK(list_data, k):\n",
    "    ..."
   ]
  },
  {
   "cell_type": "markdown",
   "metadata": {},
   "source": [
    "上のセルで解答を作成した後、以下のセルを実行し、実行結果が全て `True` になることを確認して下さい。"
   ]
  },
  {
   "cell_type": "code",
   "execution_count": null,
   "metadata": {
    "scrolled": false
   },
   "outputs": [],
   "source": [
    "list_data_test1 = [7, 21, 15, 17, 10, 11, 8, 22, 5, 9]\n",
    "print(sorted(getTopK(list_data_test1, 4))==[5, 7, 8, 9], getTopK(list_data_test1, 0) == [])\n",
    "list_data_test2 = [7, 21, 15, 17, 10, 11, 8, 22, 5, 9]\n",
    "print(sorted(getTopK(list_data_test2, 8))==[5, 7, 8, 9, 10, 11, 15, 17])"
   ]
  },
  {
   "cell_type": "markdown",
   "metadata": {},
   "source": [
    "以下のセルを実行すると解答セルのプログラムの計算量を自動的に評価します。\n",
    "\n",
    "この課題の模範解答の時間計算量は<font color=\"white\"> $O(n \\log n + k \\log n)$ と評価されますが、正しくは$O(\\min \\{k, n-k \\} \\log n + n)$です。</font>（←白黒反転しています）  \n",
    "想像（模範解答）よりも大きな計算量となっている場合、どこに問題があるのか考えてみて下さい。"
   ]
  },
  {
   "cell_type": "code",
   "execution_count": null,
   "metadata": {
    "scrolled": false
   },
   "outputs": [],
   "source": [
    "import utaadevalcpx;dic_varinfo_6_2 = {\"list_data\": [\"list\", set(), {\"n\"}],\"k\": [\"int\", set(), {\"k\"}],}\n",
    "str_code_6_2 = '''...'''\n",
    "utaadevalcpx.evaluateCpx(str_exfilename, \"6-2\", dic_varinfo_6_2, str_code_6_2) # str_exfilenameはファイルの冒頭で定義されています"
   ]
  },
  {
   "cell_type": "markdown",
   "metadata": {},
   "source": [
    "<b>問題の難易度評価：</b>\n",
    "下のセルにこの問の難易度を5段階（1:簡単、2:やや簡単、3:普通、4:やや難しい、5:難しい）で評価して下さい。（次回以降の課題の難易度の調整に使います）\n",
    "また、解答するのにかかった時間や感想などがあれば適宜記載して下さい。"
   ]
  },
  {
   "cell_type": "code",
   "execution_count": null,
   "metadata": {},
   "outputs": [],
   "source": [
    "#難易度（1:簡単、2:やや簡単、3:普通、4:やや難しい、5:難しい）\n",
    "\n",
    "#感想\n"
   ]
  }
 ],
 "metadata": {
  "kernelspec": {
   "display_name": "Python 3",
   "language": "python",
   "name": "python3"
  },
  "language_info": {
   "codemirror_mode": {
    "name": "ipython",
    "version": 3
   },
   "file_extension": ".py",
   "mimetype": "text/x-python",
   "name": "python",
   "nbconvert_exporter": "python",
   "pygments_lexer": "ipython3",
   "version": "3.7.4"
  }
 },
 "nbformat": 4,
 "nbformat_minor": 2
}
