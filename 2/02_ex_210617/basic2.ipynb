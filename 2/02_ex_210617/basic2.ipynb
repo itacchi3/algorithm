{
 "cells": [
  {
   "cell_type": "markdown",
   "metadata": {},
   "source": [
    "# 教養としてのアルゴリズムとデータ構造\n",
    "\n",
    "* 以下の各問について、問の次（もしくはその次）にあるコードセルに解答すること。\n",
    "    * 特に指定がある場合を除いて複数のセルに分けて解答してはならない。\n",
    "* 全ての解答を終えた後に必ずリスタートを実行し、上のセルから順番に実行して各解答が正しく動くことを確認すること。\n",
    " * ただし、ローカル環境で解答する場合、 `!wget...` の記載のあるセルは実行しなくてよい。 \n",
    "* 提出にあたっては、各当該のセルに解答のコードを記入し、それを実行した結果を表示させた後に、保存したこのファイルをITC-LMS経由で提出すること。\n",
    "* 解答のコードには適宜コメントを入れること。\n",
    "* 受講者間の協力は原則許可しない。\n",
    "* 解答がコピペと判断された場合、その解答（コピペ元も含めて）は0点となる可能性があるので注意すること。\n",
    "* 特に指定がない限りモジュールを用いて解答してはならない。\n"
   ]
  },
  {
   "cell_type": "markdown",
   "metadata": {},
   "source": [
    "<b><font color=\"red\">\n",
    "各問に解答するにあたり、以下の点に注意して下さい。\n",
    "\n",
    "この課題では `bisect` を使って構いません。\n",
    "</font></b>"
   ]
  },
  {
   "cell_type": "markdown",
   "metadata": {},
   "source": [
    "* ローカル環境で行う場合、課題によってはデータを別にダウンロードする必要があります。\n",
    "* Colaboratoryを利用して課題を行う場合には、最初に以下のセルを実行して下さい。"
   ]
  },
  {
   "cell_type": "code",
   "execution_count": null,
   "metadata": {},
   "outputs": [],
   "source": [
    "!wget https://drive.google.com/uc?id=1f5tjyfqDgcoHYyqedfhRKrmZ-eOGivX7 -O utaadevalcpx.zip\n",
    "!unzip utaadevalcpx.zip"
   ]
  },
  {
   "cell_type": "markdown",
   "metadata": {},
   "source": [
    "# 第2回基礎課題"
   ]
  },
  {
   "cell_type": "code",
   "execution_count": null,
   "metadata": {},
   "outputs": [],
   "source": [
    "str_exfilename = \"basic2.ipynb\" # ファイル名を変更している場合、ここをその名前に変更する必要があります（ローカル環境のみ/Colab環境では使用しません"
   ]
  },
  {
   "cell_type": "markdown",
   "metadata": {},
   "source": [
    "## 1. 線形探索の実装\n",
    "\n",
    "リスト `list_data` と整数 `item1` が与えられたとき、`list_data` に対して線形探索を行って `item1` が `list_data` の中に含まれていれば `True` を、そうでなければ `False` を返す関数 `LinearSearch(list_data, item1)` を作成して下さい。 \n",
    "\n",
    "なお、$n =$ `list_data` の大きさ (`len(list_datas)`) とします。\n",
    "\n",
    "以下のセルの `...` のところを書き換えて解答して下さい。"
   ]
  },
  {
   "cell_type": "code",
   "execution_count": null,
   "metadata": {},
   "outputs": [],
   "source": [
    "### この行のコメントを改変してはいけません %2-1% ### \n",
    "#解答用セル\n",
    "import ... # モジュールを使わない場合、この行は削除して良い\n",
    "def LinearSearch(list_data, item1)\n",
    "    ..."
   ]
  },
  {
   "cell_type": "markdown",
   "metadata": {},
   "source": [
    "上のセルで解答を作成した後、以下のセルを実行し、実行結果が全て `True` になることを確認して下さい。"
   ]
  },
  {
   "cell_type": "code",
   "execution_count": null,
   "metadata": {},
   "outputs": [],
   "source": [
    "list_data_test1 = [3, 1, 5, 8, 10, 4]\n",
    "print(LinearSearch(list_data_test1, 5) == True)\n",
    "print(LinearSearch(list_data_test1, 3) == True)\n",
    "print(LinearSearch(list_data_test1, 7) == False)"
   ]
  },
  {
   "cell_type": "markdown",
   "metadata": {},
   "source": [
    "以下のセルを実行すると解答セルのプログラムの計算量を自動的に評価します。\n",
    "* ローカル環境で解答している人はファイルを保存してから以下のセルをそのまま実行して下さい（このファイルと同じフォルダ内に `utaadevalcpx.py` があることを確認して下さい）。\n",
    "* Colaboratoryを利用している人はセル内部の `str_code_2_1  = '''...'''` の `...` に自分の解答をコピペして下さい（ファイル冒頭のデータのダウンロードを事前に行う必要があります）。\n",
    "`\n",
    "\n",
    "ただし、常に正しい計算量を求められる訳ではありません（<font color=\"red\">正しく求められなかった場合、実際の計算量よりも計算量が少なく求まります</font>）。例えば、以下の様な内容のコードは正しく評価できないことがあります。\n",
    "* 組み込み関数などの名前を別名に変更している\n",
    "* 条件式の使用（例えば、for文中のif文＋`break`など）\n",
    "* while文を使用する\n",
    "\n",
    "この課題の模範解答の時間計算量は<font color=\"white\"> $O(n)$ </font>です。（←白黒反転しています）  \n",
    "想像（模範解答）よりも大きな計算量となっている場合、どこに問題があるのか考えてみて下さい。\n",
    "\n",
    "正しく計算量が評価できていないと思った場合、感想などで教えて下さい。"
   ]
  },
  {
   "cell_type": "code",
   "execution_count": null,
   "metadata": {},
   "outputs": [],
   "source": [
    "import utaadevalcpx;dic_varinfo_2_1 = {\"list_data\": [\"list\", set(), {\"n\"}],}\n",
    "str_code_2_1  = '''...'''\n",
    "utaadevalcpx.evaluateCpx(str_exfilename, \"2-1\", dic_varinfo_2_1, str_code_2_1) # str_exfilenameはファイルの冒頭で定義されています"
   ]
  },
  {
   "cell_type": "markdown",
   "metadata": {},
   "source": [
    "<b>問題の難易度評価：</b>\n",
    "下のセルにこの問の難易度を5段階（1:簡単、2:やや簡単、3:普通、4:やや難しい、5:難しい）で評価して下さい。（次回以降の課題の難易度の調整に使います）\n",
    "また、解答するのにかかった時間や感想などがあれば適宜記載して下さい。"
   ]
  },
  {
   "cell_type": "code",
   "execution_count": null,
   "metadata": {},
   "outputs": [],
   "source": [
    "#難易度（1:簡単、2:やや簡単、3:普通、4:やや難しい、5:難しい）\n",
    "\n",
    "#感想\n"
   ]
  },
  {
   "cell_type": "markdown",
   "metadata": {},
   "source": [
    "## 2. 二分探索の実装\n",
    "\n",
    "リスト `list_data` と整数 `item1` が与えられたとき、`list_data` に対して二分探索を行って  `item1` が `list_data` の中に含まれていれば `True` を、そうでなければ `False` を返す関数 `BinarySearch(list_data, item1)` を実装して下さい。 ただし、`list_data` の要素は既に昇順に並び変えた上で格納されているものとします。\n",
    "\n",
    "<b>モジュール `bisect` を使って下さい。この授業はそういう授業です。</b>\n",
    "\n",
    "なお、$n =$ `list_data` の大きさ (`len(list_datas)`) とします。\n",
    "\n",
    "以下のセルの `...` のところを書き換えて解答して下さい。"
   ]
  },
  {
   "cell_type": "code",
   "execution_count": null,
   "metadata": {},
   "outputs": [],
   "source": [
    "### この行のコメントを改変してはいけません %2-2% ### \n",
    "#解答用セル\n",
    "import ... # モジュールを使わない場合、この行は削除して良い\n",
    "def BinarySearch(list_data, item1):\n",
    "    ..."
   ]
  },
  {
   "cell_type": "markdown",
   "metadata": {},
   "source": [
    "上のセルで解答を作成した後、以下のセルを実行し、実行結果が全て `True` になることを確認して下さい。"
   ]
  },
  {
   "cell_type": "code",
   "execution_count": null,
   "metadata": {},
   "outputs": [],
   "source": [
    "list_data_test2 = [1, 3, 5, 7, 9, 11, 13, 15, 17, 19]\n",
    "print(BinarySearch(list_data_test2, 0) == False)\n",
    "print(BinarySearch(list_data_test2, 7) == True)\n",
    "print(BinarySearch(list_data_test2, 20) == False)"
   ]
  },
  {
   "cell_type": "markdown",
   "metadata": {},
   "source": [
    "以下のセルを実行すると解答セルのプログラムの計算量を自動的に評価します。\n",
    "* ローカル環境で解答している人はファイルを保存してから以下のセルをそのまま実行して下さい（このファイルと同じフォルダ内に `utaadevalcpx.py` があることを確認して下さい）。\n",
    "* Colaboratoryを利用している人はセル内部の `str_code_2_2  = '''...'''` の `...` に自分の解答をコピペして下さい（ファイル冒頭のデータのダウンロードを事前に行う必要があります）。\n",
    "`\n",
    "\n",
    "ただし、常に正しい計算量を求められる訳ではありません（<font color=\"red\">正しく求められなかった場合、実際の計算量よりも計算量が少なく求まります</font>）。例えば、以下の様な内容のコードは正しく評価できないことがあります。\n",
    "* 組み込み関数などの名前を別名に変更している\n",
    "* 条件式の使用（例えば、for文中のif文＋`break`など）\n",
    "* while文を使用する\n",
    "\n",
    "この課題の模範解答の時間計算量は<font color=\"white\"> $O(\\log n)$ </font>です。（←白黒反転しています）  \n",
    "想像（模範解答）よりも大きな計算量となっている場合、どこに問題があるのか考えてみて下さい。\n",
    "\n",
    "正しく計算量が評価できていないと思った場合、感想などで教えて下さい。"
   ]
  },
  {
   "cell_type": "code",
   "execution_count": null,
   "metadata": {},
   "outputs": [],
   "source": [
    "import utaadevalcpx;dic_varinfo_2_2 = {\"list_data\": [\"list\", set(), {\"n\"}],}\n",
    "str_code_2_2  = '''...'''\n",
    "utaadevalcpx.evaluateCpx(str_exfilename, \"2-2\", dic_varinfo_2_2, str_code_2_2) # str_exfilenameはファイルの冒頭で定義されています"
   ]
  },
  {
   "cell_type": "markdown",
   "metadata": {},
   "source": [
    "<b>問題の難易度評価：</b>\n",
    "下のセルにこの問の難易度を5段階（1:簡単、2:やや簡単、3:普通、4:やや難しい、5:難しい）で評価して下さい。（次回以降の課題の難易度の調整に使います）\n",
    "また、解答するのにかかった時間や感想などがあれば適宜記載して下さい。"
   ]
  },
  {
   "cell_type": "code",
   "execution_count": null,
   "metadata": {},
   "outputs": [],
   "source": [
    "#難易度（1:簡単、2:やや簡単、3:普通、4:やや難しい、5:難しい）\n",
    "\n",
    "#感想\n"
   ]
  },
  {
   "cell_type": "markdown",
   "metadata": {},
   "source": [
    "## 3. ハッシュを用いた探索の実装\n",
    "\n",
    "集合 `set_data` と整数 `item1` が与えられたとき、`set_data` に対して探索を行って  `item1` が `set_data` の中に含まれていれば `True` を、そうでなければ `False` を返す関数 `HashSearch(set1, item1)` を実装して下さい。\n",
    "\n",
    "なお、$n =$ `set_data` の大きさ (`len(set_datas)`) とします。\n",
    "\n",
    "以下のセルの `...` のところを書き換えて解答して下さい。"
   ]
  },
  {
   "cell_type": "code",
   "execution_count": null,
   "metadata": {},
   "outputs": [],
   "source": [
    "### この行のコメントを改変してはいけません %2-3% ### \n",
    "#解答用セル\n",
    "import ... # モジュールを使わない場合、この行は削除して良い\n",
    "def HashSearch(set_data, item1):\n",
    "    ..."
   ]
  },
  {
   "cell_type": "markdown",
   "metadata": {},
   "source": [
    "上のセルで解答を作成した後、以下のセルを実行し、実行結果が全て `True` になることを確認して下さい。"
   ]
  },
  {
   "cell_type": "code",
   "execution_count": null,
   "metadata": {},
   "outputs": [],
   "source": [
    "set_data_test3 = {1, 3, 5, 7, 9, 11, 13, 15, 17, 19}\n",
    "print(HashSearch(set_data_test3, 0) == False)\n",
    "print(HashSearch(set_data_test3, 7) == True)\n",
    "print(HashSearch(set_data_test3, 20) == False)"
   ]
  },
  {
   "cell_type": "markdown",
   "metadata": {},
   "source": [
    "以下のセルを実行すると解答セルのプログラムの計算量を自動的に評価します。\n",
    "* ローカル環境で解答している人はファイルを保存してから以下のセルをそのまま実行して下さい（このファイルと同じフォルダ内に `utaadevalcpx.py` があることを確認して下さい）。\n",
    "* Colaboratoryを利用している人はセル内部の `str_code_2_3  = '''...'''` の `...` に自分の解答をコピペして下さい（ファイル冒頭のデータのダウンロードを事前に行う必要があります）。\n",
    "`\n",
    "\n",
    "ただし、常に正しい計算量を求められる訳ではありません（<font color=\"red\">正しく求められなかった場合、実際の計算量よりも計算量が少なく求まります</font>）。例えば、以下の様な内容のコードは正しく評価できないことがあります。\n",
    "* 組み込み関数などの名前を別名に変更している\n",
    "* 条件式の使用（例えば、for文中のif文＋`break`など）\n",
    "* while文を使用する\n",
    "\n",
    "この課題の模範解答の時間計算量は<font color=\"white\"> $O(1)$ </font>です。（←白黒反転しています）  \n",
    "想像（模範解答）よりも大きな計算量となっている場合、どこに問題があるのか考えてみて下さい。\n",
    "\n",
    "正しく計算量が評価できていないと思った場合、感想などで教えて下さい。"
   ]
  },
  {
   "cell_type": "code",
   "execution_count": null,
   "metadata": {},
   "outputs": [],
   "source": [
    "import utaadevalcpx;dic_varinfo_2_3 = {\"set_data\": [\"set\", set(), {\"n\"}],}\n",
    "str_code_2_3  = '''...'''\n",
    "utaadevalcpx.evaluateCpx(str_exfilename, \"2-3\", dic_varinfo_2_3, str_code_2_3) # str_exfilenameはファイルの冒頭で定義されています"
   ]
  },
  {
   "cell_type": "markdown",
   "metadata": {},
   "source": [
    "上のセルで解答を作成した後、以下のセルを実行し、(1) 線形探索、(2) ハッシュ表作成＋ハッシュ、(3) ハッシュ、(4) ソート＋二分探索、(5) 二分探索の実行にかかる時間がそれぞれどれくらいになるか確認してみましょう。以下のセルを実行してみて下さい。"
   ]
  },
  {
   "cell_type": "code",
   "execution_count": null,
   "metadata": {},
   "outputs": [],
   "source": [
    "%matplotlib inline\n",
    "import random, time, matplotlib.pyplot as plt\n",
    "#探索にかかる時間を計測する関数\n",
    "def getSearchTimes(list_lists, list_items):\n",
    "    #list_x, list_yを初期化\n",
    "    list_x = [];list_y = []\n",
    "    for i in range(len(list_lists)):\n",
    "        #list_xの値を格納\n",
    "        list1 = list_lists[i]\n",
    "        list_x.append(len(list1))\n",
    "        # list_yに格納する各探索結果を格納するリスト\n",
    "        list_ytmp = []\n",
    "        # 線形探索を実行\n",
    "        #時間計測開始\n",
    "        time_init = time.time()\n",
    "        for item1 in list_items[i]:\n",
    "            LinearSearch(list1, item1)\n",
    "        #時間計測終了(線形探索の計算時間)\n",
    "        list_ytmp.append(time.time() - time_init)\n",
    "        # ハッシュを用いた探索を実行\n",
    "        #時間計測開始\n",
    "        time_init = time.time()\n",
    "        #リストからハッシュ表を作成（リストから集合を作成）\n",
    "        set1 = set(list1)\n",
    "        #時間計測開始\n",
    "        time_init2= time.time()\n",
    "        #ハッシュを用いた探索\n",
    "        for item1 in list_items[i]:\n",
    "            HashSearch(set1, item1)\n",
    "        #時間計測終了\n",
    "        time_fin = time.time()\n",
    "        #ハッシュ表作成＋ハッシュを用いた探索の計算時間\n",
    "        list_ytmp.append(time_fin - time_init)\n",
    "        #ハッシュを用いた探索の計算時間\n",
    "        list_ytmp.append(time_fin - time_init2)\n",
    "        #時間計測開始\n",
    "        time_init = time.time()\n",
    "        #リストのデータをソート\n",
    "        list1.sort()\n",
    "        #時間計測開始\n",
    "        time_init2= time.time()\n",
    "        #二分探索を実行\n",
    "        for item1 in list_items[i]:\n",
    "            BinarySearch(list1, item1)\n",
    "        #時間計測終了\n",
    "        time_fin = time.time()\n",
    "        #ソート＋二分探索の計算時間\n",
    "        list_ytmp.append(time_fin - time_init)\n",
    "        #二分探索の計算時間\n",
    "        list_ytmp.append(time_fin - time_init2)\n",
    "        #list_yの値を格納（計測結果を格納）\n",
    "        list_y.append(list_ytmp)\n",
    "    return list_x, list_y\n",
    "#結果（計測した時間）を描画\n",
    "def drawResultTimes(list_x, list_ys, list_f, listnum):\n",
    "    list_searchname = [\"Linear\", \"Init+Hash\", \"Hash\", \"Sort+Binary\", \"Binary\"]\n",
    "    list_color = [\"lightskyblue\", \"orange\", \"green\", \"red\", \"purple\"]\n",
    "    for i in range(len(list_ys[0])):\n",
    "        if list_f[i] is False:\n",
    "            continue\n",
    "        list_y = []\n",
    "        for j in range(listnum):\n",
    "            list_y.append(list_ys[j][i])\n",
    "        plt.plot(list_x, list_y, color=list_color[i], label=list_searchname[i]) \n",
    "    plt.legend();\n",
    "#テスト用データのリストを作成\n",
    "def constructLists(item_unitnum, searchnum, listnum):\n",
    "    random.seed(a=0)\n",
    "    list_lists = []\n",
    "    list_items = []\n",
    "    for i in range(listnum):\n",
    "        #\n",
    "        listsize = item_unitnum*(i+1)\n",
    "        #探索されうるデータを格納したリスト\n",
    "        list1 = list(range(listsize))\n",
    "        for i in range(listsize):\n",
    "            a1 = random.randint(0, listsize-1)\n",
    "            a2 = random.randint(0, listsize-1)\n",
    "            list1[a1], list1[a2] = list1[a2], list1[a1]\n",
    "        list_lists.append(list1)\n",
    "        # 探索するデータのリスト\n",
    "        list1 = [random.randint(0, listsize-1) for _ in range(searchnum)]\n",
    "        list_items.append(list1)\n",
    "    return list_lists, list_items\n",
    "#各探索の時間を計測する\n",
    "itemunitnum1 = 1000; searchnum1 = 10000; listnum1 = 10 #探索データ数と探索回数を設定\n",
    "list_lists1, list_items1 = constructLists(itemunitnum1, searchnum1, listnum1) #テスト用データのリストを作成\n",
    "list_x1, list_ys1 = getSearchTimes(list_lists1, list_items1) #探索にかかる時間を計測する\n",
    "drawResultTimes(list_x1, list_ys1, [True]*5, listnum1) #結果（計測した時間）を描画"
   ]
  },
  {
   "cell_type": "markdown",
   "metadata": {},
   "source": [
    "線形探索が圧倒的に遅いことが分かります（結果が分かり難い場合は探索回数 `searchnum1` の値を調整して下さい）。\n",
    "\n",
    "そこで、線形探索の結果だけ表示しない様にしてみましょう。"
   ]
  },
  {
   "cell_type": "code",
   "execution_count": null,
   "metadata": {
    "scrolled": false
   },
   "outputs": [],
   "source": [
    "plt.figure(figsize=(20, 10))\n",
    "drawResultTimes(list_x1, list_ys1, [False, True, True, True, True], listnum1)"
   ]
  },
  {
   "cell_type": "markdown",
   "metadata": {},
   "source": [
    "二分探索より、ハッシュの方が高速であることが分かるはずです（結果が分かり難い場合は `searchnum1` の値を調整して下さい）。\n",
    "\n",
    "探索回数 ( `searchnum1` ) の値が大きくなればなるほど、初期化にかかる時間が無視できる様になることも確認してみて下さい。 "
   ]
  },
  {
   "cell_type": "markdown",
   "metadata": {
    "slideshow": {
     "slide_type": "-"
    }
   },
   "source": [
    "一方で、探索するリストの大きさ `itemunitnum1` がそこまで大きくない場合も見てみましょう。"
   ]
  },
  {
   "cell_type": "code",
   "execution_count": null,
   "metadata": {},
   "outputs": [],
   "source": [
    "#各探索の時間を計測する\n",
    "itemunitnum1 = 10; searchnum1 = 10000; listnum1 = 10 #探索データ数と探索回数を設定\n",
    "list_lists1, list_items1 = constructLists(itemunitnum1, searchnum1, listnum1) #テスト用データのリストを作成\n",
    "list_x1, list_ys1 = getSearchTimes(list_lists1, list_items1) #探索にかかる時間を計測する\n",
    "drawResultTimes(list_x1, list_ys1, [True]*5, listnum1) #結果（計測した時間）を描画"
   ]
  },
  {
   "cell_type": "markdown",
   "metadata": {},
   "source": [
    "誤差もありますが、ある程度までは線形探索が善戦することが確認できるはずです。"
   ]
  },
  {
   "cell_type": "markdown",
   "metadata": {},
   "source": [
    "<b>問題の難易度評価：</b>\n",
    "下のセルにこの問の難易度を5段階（1:簡単、2:やや簡単、3:普通、4:やや難しい、5:難しい）で評価して下さい。（次回以降の課題の難易度の調整に使います）\n",
    "また、解答するのにかかった時間や感想などがあれば適宜記載して下さい。"
   ]
  },
  {
   "cell_type": "code",
   "execution_count": null,
   "metadata": {},
   "outputs": [],
   "source": [
    "#難易度（1:簡単、2:やや簡単、3:普通、4:やや難しい、5:難しい）\n",
    "\n",
    "#感想\n"
   ]
  }
 ],
 "metadata": {
  "kernelspec": {
   "display_name": "Python 3",
   "language": "python",
   "name": "python3"
  },
  "language_info": {
   "codemirror_mode": {
    "name": "ipython",
    "version": 3
   },
   "file_extension": ".py",
   "mimetype": "text/x-python",
   "name": "python",
   "nbconvert_exporter": "python",
   "pygments_lexer": "ipython3",
   "version": "3.7.4"
  }
 },
 "nbformat": 4,
 "nbformat_minor": 2
}
