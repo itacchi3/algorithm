{
 "cells": [
  {
   "cell_type": "markdown",
   "metadata": {},
   "source": [
    "# 教養としてのアルゴリズムとデータ構造\n",
    "\n",
    "* 以下の各問について、問の次（もしくはその次）にあるコードセルに解答すること。\n",
    "    * 特に指定がある場合を除いて複数のセルに分けて解答してはならない。\n",
    "    * 複数の関数を定義して解答しても良い。\n",
    "    * グローバル変数を用いてはならない。\n",
    "* 全ての解答を終えた後に必ずリスタートを実行し、上のセルから順番に実行して各解答が正しく動くことを確認すること。\n",
    "* 提出にあたっては、各当該のセルに解答のコードを記入し、それを実行した結果を表示させた後に、保存したこのファイルをITC-LMS経由で提出すること。\n",
    "* 解答のコードには適宜コメントを入れること。\n",
    "* 受講者間の協力は原則許可しない。\n",
    "* 解答がコピペと判断された場合、その解答（コピペ元も含めて）は0点となる可能性があるので注意すること。\n",
    "* 特に指定がない限りモジュールを用いて解答してはならない。\n"
   ]
  },
  {
   "cell_type": "markdown",
   "metadata": {},
   "source": [
    "* ローカル環境で行う場合、課題によってはデータを別にダウンロードする必要があります。\n",
    "* Colaboratoryを利用して課題を行う場合には、最初に以下のセルを実行すること。"
   ]
  },
  {
   "cell_type": "code",
   "execution_count": null,
   "metadata": {},
   "outputs": [],
   "source": [
    "!wget https://drive.google.com/uc?id=1my83FY7x5tqcwAiIqHFJWcahke8-S8Sj -O ex1_data.zip\n",
    "!unzip ex1_data.zip"
   ]
  },
  {
   "cell_type": "markdown",
   "metadata": {},
   "source": [
    "# 第1回本課題\n",
    "\n",
    "今回の課題は必修ではありませんが、力試しのつもりで期間内にできるだけ提出する様にして下さい。\n"
   ]
  },
  {
   "cell_type": "markdown",
   "metadata": {},
   "source": [
    "## 1. \n",
    "\n",
    "気象庁のサイト（ https://www.jma.go.jp/jma/menu/menureport.html ） から東京の天気のデータをダウンロードすることが出来ます。このデータは整数値で天気の種類を表すのですが、そのデータがリスト（天気リストと呼びます）として与えられた場合にそれを処理することを考えましょう。\n",
    "\n",
    "具体的には、天気リスト `list_weather` が引数として与えられたとき、次の様な辞書 `dic_count` を返す関数 `countWeathers(list_weather)` を作成して下さい。\n",
    "\n",
    "1. `list_weather` には `1` 以上 `15` 以下の整数が格納されています。\n",
    "2. `dic_count` は `1` 以上 `15` 以下の整数をキーとします。\n",
    "3. `dic_count` のキー `i`（`1` 以上 `15` 以下の整数）に対応する値は `list_weather` に格納されている `i` の個数です。\n",
    "\n",
    "なお、各整数値は、1:快晴、2:晴れ、3:薄曇、4:曇、5:煙霧、6:砂じん嵐、7:地ふぶき、8:霧、9:霧雨、10:雨、11:みぞれ、12:雪、13:あられ、14:ひょう、15:雷を表します。また、天気リストは2000年1月1日の3時から2019年12月31日の21時までの3時間毎（ただし、各日の0:00は除く）の東京の天気を表す値を格納しています。\n",
    "\n",
    "以下のセルの `...` のところを書き換えて解答して下さい。"
   ]
  },
  {
   "cell_type": "code",
   "execution_count": null,
   "metadata": {},
   "outputs": [],
   "source": [
    "#解答用セル\n",
    "def countWeathers(list_weather):\n",
    "    ...\n",
    "    return dic_count"
   ]
  },
  {
   "cell_type": "markdown",
   "metadata": {},
   "source": [
    "上のセルで解答を作成した後、以下のセルを実行し、実行結果が全て `True` になることを確認して下さい。"
   ]
  },
  {
   "cell_type": "code",
   "execution_count": null,
   "metadata": {},
   "outputs": [],
   "source": [
    "list1 = [14, 7, 13, 15, 7, 1, 5, 9, 8, 7, 15, 13, 14, 5, 8, 6, 10, 15, 15, 4]\n",
    "dic1 = countWeathers(list1)\n",
    "# 0個のものを含む場合、該キーを削除する\n",
    "for key1 in range(1, 16):\n",
    "    if key1 in dic1 and dic1[key1] == 0:\n",
    "        del(dic1[key1])\n",
    "print(dic1 == {14: 2, 7: 3, 13: 2, 15: 4, 1: 1, 5: 2, 9: 1, 8: 2, 6: 1, 10: 1, 4: 1})"
   ]
  },
  {
   "cell_type": "markdown",
   "metadata": {},
   "source": [
    "気象庁のサイトから取得した2000年から2019年までの20年間の東京の天気のデータを天気リストとして `ex1_data_weatherlist.json` に用意しました。\n",
    " \n",
    "ある程度大きなデータである為、<b>上のセルのテストが上手く行った後に</b>以下のセルを実行し、実行結果が全て `True` になることを確認して下さい。なお、`countWeathers` の構成によっては、結果の表示に時間がかかることがあることに注意して下さい。"
   ]
  },
  {
   "cell_type": "code",
   "execution_count": null,
   "metadata": {},
   "outputs": [],
   "source": [
    "import json\n",
    "if 'list_weather' not in globals(): # 同じデータは1回だけ呼び出す\n",
    "    f = open(\"ex1_data_weatherlist.json\", \"r\", encoding=\"utf-8\");list_weather = json.load(f);f.close()\n",
    "dic_count = countWeathers(list_weather)\n",
    "for key1 in range(1, 16):\n",
    "    if key1 in dic_count and dic_count[key1] == 0:\n",
    "        del(dic_count[key1])\n",
    "print(dic_count=={1: 11583, 2: 10868, 4: 16813, 3: 4955, 10: 6485, 9: 77, 11: 94, 13: 13, 12: 127, 15: 115, 8: 5})"
   ]
  },
  {
   "cell_type": "markdown",
   "metadata": {},
   "source": [
    "なお、問題文では省略していますが、天気を表す値としては1から15以外にも、16:しゅう雨または止み間のある雨、17:着氷性の雨、18:着氷性の霧雨、19:しゅう雪または止み間のある雪、22:霧雪、23:凍雨、24:細氷、28:もや、101:降水またはしゅう雨性の降水、という値が存在します（https://www.data.jma.go.jp/gmd/risk/obsdl/top/help3.html これらの値は使用した実データには登場していません）。\n",
    "\n",
    "最後についでなので各天気の数を見てみましょう。割と普通の結果になります（1:快晴、2:晴れ、3:薄曇、4:曇、8:霧、9:霧雨、10:雨、11:みぞれ、12:雪、15:雷）。"
   ]
  },
  {
   "cell_type": "code",
   "execution_count": null,
   "metadata": {
    "scrolled": true
   },
   "outputs": [],
   "source": [
    "%matplotlib inline\n",
    "import matplotlib.pyplot as plt\n",
    "list_x = [];list_y = []\n",
    "for key1 in dic_count: \n",
    "    list_x.append(key1)\n",
    "    list_y.append(dic_count[key1])\n",
    "plt.bar(list_x, list_y);"
   ]
  },
  {
   "cell_type": "markdown",
   "metadata": {},
   "source": [
    "<b>問題の難易度評価：</b>\n",
    "下のセルにおいてこの問の難易度を5段階（1:簡単、2:やや簡単、3:普通、4:やや難しい、5:難しい）で評価して下さい。（次回以降の課題の難易度の調整に使います）\n",
    "また、解答するのにかかった時間や感想などがあれば適宜記載して下さい。"
   ]
  },
  {
   "cell_type": "code",
   "execution_count": null,
   "metadata": {},
   "outputs": [],
   "source": [
    "#難易度（1:簡単、2:やや簡単、3:普通、4:やや難しい、5:難しい）\n",
    "\n",
    "#感想\n"
   ]
  },
  {
   "cell_type": "markdown",
   "metadata": {},
   "source": [
    "## 2. \n",
    "\n",
    "同じく気象庁のサイト（ https://www.jma.go.jp/jma/menu/menureport.html ） から2019年の1時間毎の気温を記録したデータを用意しました。\n",
    "\n",
    "そのデータは2019年1月1日から12月31日までの1時間ごとの気温の値をリスト `list_temp` に格納しています。そこで、その `list_temp` が引数として与えられた場合、10時間（10個の値）ごとの平均気温（平均値）を格納したリスト `list_avg` を返す関数 `averageTemperatures(list_temp)` を作成して下さい。 ただし、計算によって生じる数値の誤差は気にしなくて良いものとします。\n",
    "\n",
    "以下のセルの `...` のところを書き換えて解答して下さい。"
   ]
  },
  {
   "cell_type": "code",
   "execution_count": null,
   "metadata": {},
   "outputs": [],
   "source": [
    "#解答用セル\n",
    "def averageTemperatures(list_temp):\n",
    "    ...\n",
    "    return list_avg"
   ]
  },
  {
   "cell_type": "markdown",
   "metadata": {},
   "source": [
    "上のセルで解答を作成した後、以下のセルを実行し、実行結果が全て `True` になることを確認して下さい。"
   ]
  },
  {
   "cell_type": "code",
   "execution_count": null,
   "metadata": {},
   "outputs": [],
   "source": [
    "print(averageTemperatures([1, 2, 3, 4, 5, 6, 7, 8, 9, 10, 11, 12, 13, 14]) == [5.5, 6.5, 7.5, 8.5, 9.5])\n",
    "print(averageTemperatures([17, 2, 14, 18, 3, -9, -2, 20, 6, 5, 2, 19, 15, 16, -1]) == [7.4, 5.9, 7.6, 7.7, 7.5, 7.1])"
   ]
  },
  {
   "cell_type": "markdown",
   "metadata": {},
   "source": [
    "2019年1月1日から12月31日までの1時間ごとの気温データを `ex1_data_templist.json` に格納しています。\n",
    " \n",
    "実際にこのデータを用いた場合にも `averageTemperatures` が正しく動作することを確認してください。"
   ]
  },
  {
   "cell_type": "code",
   "execution_count": null,
   "metadata": {},
   "outputs": [],
   "source": [
    "import json\n",
    "if 'list_tempdata' not in globals(): # 同じデータは1回だけ呼び出す\n",
    "    f = open(\"ex1_data_templist.json\", \"r\", encoding=\"utf-8\");list_tempdata = json.load(f);f.close()\n",
    "list_avg1 = averageTemperatures(list_tempdata)\n",
    "print(list_avg1[0:2]==[2.75, 3.47], len(list_avg1)==8748)"
   ]
  },
  {
   "cell_type": "markdown",
   "metadata": {},
   "source": [
    "結果をグラフで表示してみます。"
   ]
  },
  {
   "cell_type": "code",
   "execution_count": null,
   "metadata": {},
   "outputs": [],
   "source": [
    "%matplotlib inline\n",
    "import matplotlib.pyplot as plt\n",
    "list_x = list(range(len(list_tempdata)))\n",
    "plt.figure(figsize=(20, 20))\n",
    "plt.plot(list_x[0:len(list_avg1)], list_avg1);\n",
    "#plt.plot(list_x, list_tempdata);"
   ]
  },
  {
   "cell_type": "markdown",
   "metadata": {},
   "source": [
    "<b>問題の難易度評価：</b>\n",
    "下のセルにおいてこの問の難易度を5段階（1:簡単、2:やや簡単、3:普通、4:やや難しい、5:難しい）で評価して下さい。（次回以降の課題の難易度の調整に使います）\n",
    "また、解答するのにかかった時間や感想などがあれば適宜記載して下さい。"
   ]
  },
  {
   "cell_type": "code",
   "execution_count": null,
   "metadata": {},
   "outputs": [],
   "source": [
    "#難易度（1:簡単、2:やや簡単、3:普通、4:やや難しい、5:難しい）\n",
    "\n",
    "#感想\n"
   ]
  },
  {
   "cell_type": "markdown",
   "metadata": {},
   "source": [
    "## 3. \n",
    "\n",
    "同じく気象庁のサイト（ https://www.jma.go.jp/jma/menu/menureport.html ） から2017年に日本周辺で発生した地震の震源地のデータを用意しました。\n",
    "\n",
    "そのデータは震源地の場所を表す緯度と経度の値をキーとし、キーに対応する値をその場所を震源とする地震の数（整数値）とする辞書（震源地辞書と呼びます）に格納されており、キーは具体的にはタプル `(緯度, 経度)` になっています。ただし、`緯度` は4桁の整数、`経度` は5桁の整数で表されています。例えば、`(3252, 13051)` というキーが登録されている場合、これは震源地が北緯32度52分東経130度51分であることを示しています。\n",
    "\n",
    "そこで、震源地辞書 `dic_focus` と 4桁の整数 `latitude` が与えられたとき、`dic_focus` に登録されている `(latitude, a)`（ただし、`a` は経度を表すための `12000` 以上 `15600` より小さい整数とします）というキーに対応する値の総和 `cnt` を返す関数 `countFocuses(dic_focus, latitude)` を作成して下さい。 \n",
    "\n",
    "以下のセルの `...` のところを書き換えて解答して下さい。"
   ]
  },
  {
   "cell_type": "code",
   "execution_count": null,
   "metadata": {},
   "outputs": [],
   "source": [
    "#解答用セル\n",
    "def countFocuses(dic_focus, latitude):\n",
    "    ...\n",
    "    return cnt"
   ]
  },
  {
   "cell_type": "markdown",
   "metadata": {},
   "source": [
    "上のセルで解答を作成した後、以下のセルを実行し、実行結果が全て `True` になることを確認して下さい。"
   ]
  },
  {
   "cell_type": "code",
   "execution_count": null,
   "metadata": {},
   "outputs": [],
   "source": [
    "dic_focustest1 = {(4000, 13000):1, (4000, 13300):2, (4000, 13600):3, (4000, 13900):1, (4500, 13500):10, (4500, 13900):5}\n",
    "print(countFocuses(dic_focustest1, 4000)==7, countFocuses(dic_focustest1, 4500)==15)"
   ]
  },
  {
   "cell_type": "markdown",
   "metadata": {},
   "source": [
    "気象庁のサイトから取得した2017年の地震の震源地のデータを `ex1_focuslist_abstcnt.json` に用意しました。\n",
    " \n",
    "以下のセルも実行し、実行結果が全て True になることを確認して下さい。"
   ]
  },
  {
   "cell_type": "code",
   "execution_count": null,
   "metadata": {},
   "outputs": [],
   "source": [
    "import json\n",
    "if 'list_focus' not in globals(): # 同じデータは1回だけ呼び出す\n",
    "    f = open(\"ex1_data_focuslist_abstcnt.json\", \"r\", encoding=\"utf-8\")\n",
    "    list_focus = json.load(f);f.close()\n",
    "dic_focus2017 = {};\n",
    "for key1 in list_focus:\n",
    "    dic_focus2017[(key1[0], key1[1])] = key1[2]\n",
    "#print(len(list_focus), len(list(dic_focus2017.keys())))"
   ]
  },
  {
   "cell_type": "code",
   "execution_count": null,
   "metadata": {},
   "outputs": [],
   "source": [
    "print(countFocuses(dic_focus2017, 3456)==634, countFocuses(dic_focus2017, 3554)==1075, countFocuses(dic_focus2017, 4548)==4)"
   ]
  },
  {
   "cell_type": "markdown",
   "metadata": {},
   "source": [
    "本題とそれますが、折角ですので震源地を散布図で可視化してみましょう。"
   ]
  },
  {
   "cell_type": "code",
   "execution_count": null,
   "metadata": {},
   "outputs": [],
   "source": [
    "%matplotlib inline\n",
    "import matplotlib.pyplot as plt, json\n",
    "f = open(\"ex1_data_focuslist_abstcnt.json\", \"r\", encoding=\"utf-8\")\n",
    "list_focus = json.load(f);dic_focus1 = {};f.close()\n",
    "list_focus.sort(key=lambda x: x[2])\n",
    "list_lati = []; list_longi = []; list_cnt = []\n",
    "for latitude, longitude, ecnt in list_focus:\n",
    "    #60進法から10進法の値に変換する\n",
    "    str_lati = str(latitude)\n",
    "    latitude10 = float(str_lati[0:2]) + float(str_lati[2:])/60\n",
    "    list_lati.append(latitude10)\n",
    "    #60進法から10進法の値に変換する\n",
    "    str_longi = str(longitude)\n",
    "    longitude10 = float(str_longi[0:3]) + float(str_longi[3:])/60\n",
    "    list_longi.append(longitude10)\n",
    "    #発生数\n",
    "    list_cnt.append(ecnt)\n",
    "plt.figure(figsize=(15, 15))\n",
    "plt.scatter(list_longi, list_lati, s=5, c=list_cnt, alpha=0.2, cmap=plt.cm.Accent)\n",
    "plt.grid(True)\n",
    "plt.colorbar();"
   ]
  },
  {
   "cell_type": "markdown",
   "metadata": {},
   "source": [
    "<b>問題の難易度評価：</b>\n",
    "下のセルにおいてこの問の難易度を5段階（1:簡単、2:やや簡単、3:普通、4:やや難しい、5:難しい）で評価して下さい。（次回以降の課題の難易度の調整に使います）\n",
    "また、解答するのにかかった時間や感想などがあれば適宜記載して下さい。"
   ]
  },
  {
   "cell_type": "code",
   "execution_count": null,
   "metadata": {},
   "outputs": [],
   "source": [
    "#難易度（1:簡単、2:やや簡単、3:普通、4:やや難しい、5:難しい）\n",
    "\n",
    "#感想\n"
   ]
  }
 ],
 "metadata": {
  "kernelspec": {
   "display_name": "Python 3",
   "language": "python",
   "name": "python3"
  },
  "language_info": {
   "codemirror_mode": {
    "name": "ipython",
    "version": 3
   },
   "file_extension": ".py",
   "mimetype": "text/x-python",
   "name": "python",
   "nbconvert_exporter": "python",
   "pygments_lexer": "ipython3",
   "version": "3.7.4"
  }
 },
 "nbformat": 4,
 "nbformat_minor": 2
}
