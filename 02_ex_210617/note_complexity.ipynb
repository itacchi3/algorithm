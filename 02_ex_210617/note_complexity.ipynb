{
 "cells": [
  {
   "cell_type": "markdown",
   "metadata": {},
   "source": [
    "# 教養としてのアルゴリズムとデータ構造\n",
    "\n",
    "Pythonの基本的な操作・関数・メソッドの計算量について説明します。\n",
    "\n",
    "このノートは、以下のリンク先の内容を大いに参考にして作成されています。\n",
    "\n",
    "- https://www.ics.uci.edu/~pattis/ICS-33/lectures/complexitypython.txt\n",
    "\n",
    "このノートは必修ではありません。"
   ]
  },
  {
   "cell_type": "markdown",
   "metadata": {},
   "source": [
    "# 計算量\n",
    "\n",
    "作成したプログラムの評価尺度の1つとして、そのプログラムにおいて用いているアルゴリズムとデータ構造を使用した場合にプログラムの実行に必要となる時間（時間計算量、計算量）の優劣が考えられます。そこで本ノートでは、Pythonでプログラムを書くにあたって用いる基本的な操作・関数・メソッドの計算量について説明します。\n",
    "\n",
    "計算量は一般に $O(n)$ という表記で表し、「 $n$ に比例する時間がかかる」という様な意味を表します。\n",
    "\n",
    "ここで紹介している各操作の計算量をいちいち記憶する必要はありませんが、自分の書いたプログラムが遅く感じた場合などには、このノートを参考にどれくらいの計算量になっているのか検討してみると良いでしょう。"
   ]
  },
  {
   "cell_type": "markdown",
   "metadata": {},
   "source": [
    "## 代入・演算など\n",
    "\n",
    "変数の代入、変数や定数の参照、加算乗除などの基本演算( `+`,`-`,`*`,`/`,`%`,`**` など)・比較演算（ `>`,`>=`,`==`,`!=` など）・論理演算（ `and`,`or`,`not` ）・ビット演算（ `&`,`|`,`^` など）は $O(1)$ で実行します。\n",
    "\n",
    "また、print文、if文などの条件分岐、return文の実行なども $O(1)$ で実行します。\n",
    "\n",
    "操作         | 実行例      |  \n",
    "-------------|--------------|\n",
    "代入         | `a1 = 10`    |\n",
    "参照         | `a1`,`True`  |\n",
    "四則演算     | `3 + 7`     | \n",
    "比較演算     | `5 <= 10`      |\n",
    "論理演算     | `not True` |  \n",
    "if文\t        | `if 5 > 10:` | \n",
    "print文\t    | `print(2)`      | \n",
    "return文\t    | `return 13`  | \n",
    "関数の呼び出し | test(100) |\n",
    "\n",
    "例えば、次のセルの各行の計算量は $O(1)$ であり、全体の計算量も $O(1)$ と評価します。"
   ]
  },
  {
   "cell_type": "code",
   "execution_count": null,
   "metadata": {},
   "outputs": [],
   "source": [
    "a1 = 3 + 4 * 10 \n",
    "a2 = 2 \n",
    "a3 = 5 + 11 \n",
    "a3 = a2 * a3 ** 0.5 \n",
    "print(a3) "
   ]
  },
  {
   "cell_type": "markdown",
   "metadata": {},
   "source": [
    "なお、関数の呼び出しは関数の内部で行っている手続きについては含めていません。\n",
    "\n",
    "例えば、次の様な関数の内部で行っている手続きの計算量は明らかに引数（の整数） `size` の大きさに比例しますが、`test(100000)` としても、これを呼び出す手続きの計算量は $O(1)$ になります。"
   ]
  },
  {
   "cell_type": "code",
   "execution_count": null,
   "metadata": {},
   "outputs": [],
   "source": [
    "def test(size):\n",
    "    list1 = list(range(size))\n",
    "    for i in list1:\n",
    "        pass"
   ]
  },
  {
   "cell_type": "markdown",
   "metadata": {},
   "source": [
    "## リストに関する計算量\n",
    "\n",
    "要素を $n$ 個格納した（大きさ・長さ $n$ の）リスト `list1` と、要素を $m$ 個格納したリスト `list2`, もしくはイテラブル `ite2` について考えます。\n",
    "\n",
    "主な操作の計算量は以下の通りです。\n",
    "\n",
    "操作     | 実行例      | 計算量         | 備考\n",
    "--------------|--------------|---------------|-------------------------------\n",
    "代入        | `list1[i] = 10`     | $O(1)$\t     | <a id=\"list_asQ\" href=\"#list_asA\">[as]</a>\n",
    "参照         | `list1[i]`         | $O(1)$\t     | <a href=\"#list_asA\">[as]</a>\n",
    "長さの取得        | `len(list1)`       | $O(1)$\t     | <a href=\"#list_asA\">[as]</a>\n",
    "最後尾に要素を追加        | `list1.append(10)`, `list1 += [10]`  | $O(1)$\t     | <a id=\"list_apQ\" href=\"#list_apA\">[ap]</a>\n",
    "最後尾の要素の取り出し\t      | `list1.pop()`      | $O(1)$\t     | <a id=\"list_pQ\" href=\"#list_pA\">[p]</a>\n",
    "最後尾の要素の削除\t      | `del list1[-1]`      | $O(1)$\t     | \n",
    "要素の全削除、初期化       | `list1.clear()`, `list1=[]`    | $O(1)$\t     | \n",
    "　| |　| \n",
    "スライス         | `list1[a:b]`       | $O(b-a)$\t     | \n",
    "拡張        | `list1.extend(ite2)`, `list1 += ite2` | $O(m)$   | <a id=\"list_eQ\" href=\"#list_eA\">[e]</a>\n",
    "結合        | `list1+list2` | $O(n+m)$   | \n",
    "リストの作成  | `list(ite2)`    | $O($ `len(list(ite2))` $)=O(m)$   | \n",
    "　\n",
    "比較演算  | `list1 == list2`     | $O($ $\\min$ \\{ $n$, $m$ \\} $)$          |\n",
    "指定した位置に要素を挿入       | `list1.insert(i, True)`, `list1[i:i] = [True]`     | $O($ `len(list1)-i` $)=O(n-i)$\t     | <a id=\"list_isQ\" href=\"#list_isA\">[is]</a>  \n",
    "指定した位置の要素を削除       | `del list1[i]`     | $O($ `len(list1)-i` $)=O(n-i)$\t     | <a id=\"list_dQ\" href=\"#list_dA\">[d]</a>\n",
    "指定した位置の要素を取り出し\t      | `list1.pop(i)`     | $O($ `len(list1)-i` $)=O(n-i)$\t     | <a id=\"list_p2Q\" href=\"#list_p2A\">[p2]</a>\n",
    "要素の包含を判定<br>（線形探索）   | `a1 in list1`, `a1 not in list1` | $O(n)$\t     | <a id=\"list_liQ\" href=\"#list_liA\">[li]</a>\n",
    "複製          | `list1.copy()`, `list1[:]`     | $O(n)$\t     | \n",
    "指定した要素のインデックスを取得        | `list1.index(10)` | $O(n)$\t     | <a id=\"list_idQ\" href=\"#list_idA\">[id]</a>\n",
    "指定した要素の数を取得        | `list1.count(10)` | $O(n)$\t     | <a id=\"list_cQ\" href=\"#list_cA\">[c]</a>\n",
    "指定した要素を削除        | `list1.remove(10)` | $O(n)$\t     | <a id=\"list_rmQ\" href=\"#list_rmA\">[rm]</a>\n",
    "for文などでの使用     | `for a1 in list1:` | $O(n)$          | <a id=\"list_fQ\" href=\"#list_fA\">[f]</a>\n",
    "　\n",
    "整列（メソッド）          | `list1.sort()`     | $O(n log n)$    | \n",
    "整列（関数）          | `sorted(list1)`     | $O(n log n)$    | <a id=\"list_sQ\" href=\"#list_sA\">[s]</a>\n",
    "順序の反転（メソッド）\t      | `list1.reverse()`  | $O(n)$\t     |\n",
    "順序の反転（関数）          | `reversed(list1)`     | $O(n)$    | <a id=\"list_rvQ\" href=\"#list_rvA\">[rv]</a>\n",
    "積     | `k*list1`          | $O(k n)$        | \n",
    "\n",
    "<a id=\"list_asA\" href=\"#list_asQ\">[as]</a> 計算量は同じだが、速さ（実行時間）は、代入 $\\approx$ 参照 $<$ 長さの取得  \n",
    "<a id=\"list_apA\" href=\"#list_apQ\">[ap]</a> `list1.insert(-1, 10)`, `list1.insert(len(list1), 10)`, `list1[len(list1):len(list1)] = [10]` と同じだが、この順で速い。  \n",
    "<a id=\"list_pA\" href=\"#list_pQ\">[p]</a> `list1.pop(-1)` と同じ   \n",
    "<a id=\"list_eA\" href=\"#list_eQ\">[e]</a> `list1[len(list1):] = list(ite2)` と同じだが、この順で速い。    \n",
    "<a id=\"list_isA\" href=\"#list_isQ\">[is]</a> `i` が小さいと `list1.insert(i, True)` の方が速く、大きいと `list1[i:i] = [True]` の方が速い。  \n",
    "<a id=\"list_dA\" href=\"#list_dQ\">[d]</a> `list1[i+1:]` の部分を再構成。  \n",
    "<a id=\"list_p2A\" href=\"#list_p2Q\">[p2]</a> `list1[i+1:]` の部分を再構成。  \n",
    "<a id=\"list_liA\" href=\"#list_liQ\">[li]</a> 線形探索で指定した要素を探す。インデックス `i` の位置に存在する場合、計算量は $O(i)$。最悪で $O(n)$   \n",
    "<a id=\"list_idA\" href=\"#list_idQ\">[id]</a> 線形探索で指定した要素を探す。インデックス `i` の位置に存在する場合、計算量は $O(i)$。最悪で $O(n)$    \n",
    "<a id=\"list_cA\" href=\"#list_cQ\">[c]</a> 線形探索でリストの最初から最後まで指定した要素を探す（数える）。  \n",
    "<a id=\"list_rmA\" href=\"#list_rmQ\">[rm]</a> 線形探索で指定した要素(インデックス `i` )を探す→ `list1[i+1:]` の部分を再構成。計算量は $O(n-i)$。最悪で $O(n)$  \n",
    "<a id=\"list_fA\" href=\"#list_fQ\">[f]</a> `break`などが使われず全ての要素が `a1` に代入される場合  \n",
    "<a id=\"list_sA\" href=\"#list_sQ\">[s]</a> 元のリストを複製するので、その分 `sort` より遅くなる。  \n",
    "<a id=\"list_rvA\" href=\"#list_rvQ\">[rv]</a> 元のリストを複製するので、その分 `reverse` より遅くなる。\n"
   ]
  },
  {
   "cell_type": "markdown",
   "metadata": {},
   "source": [
    "リストのメソッドは非常に便利なものが多いのですが、for文の中で実行すると計算量が爆発的に大きくなり得ることが分かります。\n",
    "\n",
    "例えば、以下の例を見てみましょう。この例の関数 `getSharedValues` では、`list1` に入っている値が `list2` にも入っているかどうか調べることを目的としています。"
   ]
  },
  {
   "cell_type": "code",
   "execution_count": null,
   "metadata": {},
   "outputs": [],
   "source": [
    "import random\n",
    "random.seed(a=0)\n",
    "#リストの大きさ\n",
    "listsize = 1000 \n",
    "#0以上listsize-1以下の整数を要素とするリスト\n",
    "list_randomval1 = [random.randint(0, listsize-1) for _ in range(listsize)]\n",
    "list_randomval2 = [random.randint(0, listsize-1) for _ in range(listsize)]\n",
    "def getSharedValues(list1, list2):\n",
    "    #結果格納用の集合set_resの初期化\n",
    "    set_res = set()\n",
    "    for val1 in list1: # list1の各要素を呼び出す #ここでO(n)の計算量\n",
    "        if val1 in list2: # list1に入っている値がlist2にも含まれるか調べる #ここでO(n)の計算量→ここはO(n^2)回実行される\n",
    "            set_res.add(val1) # list1とlist2に入っている値は集合set_resに格納する \n",
    "    return set_res\n",
    "set_res1 = getSharedValues(list_randomval1, list_randomval2)"
   ]
  },
  {
   "cell_type": "markdown",
   "metadata": {},
   "source": [
    "上記の手続き `getSharedValues(list1, list2)` では、`list1` と `list2` の要素数 `(listsize)` を $n$ とすると、最初のfor文で計算量が $O(n)$ となり、更にその中で実行する `val1 in list2` が $O(n)$ の計算量を費やしますので、全体で $O(n \\times n) = O(n^2)$ の計算量が必要になります。一方で、少し考えてみると目的とする手続きは $O(n)$ で実行すできることが分かります。\n",
    "\n",
    "実データを扱う場合、計算量が $O(n)$ と $O(n^2)$ とでは、実行時間に非常に差が出て来ますので注意して下さい（場合によっては $O(n^2)$ ではプログラムが止まらなくなります）。"
   ]
  },
  {
   "cell_type": "markdown",
   "metadata": {},
   "source": [
    "## 練習\n",
    "\n",
    "上記の目的とする手続きを計算量 $O(n)$ で達成する様な手続き `getSharedValues2(list1, list2)` を考えて下さい。  \n",
    "<a id=\"getSharedValues2Q\" href=\"#getSharedValues2A\">[解答]</a>  "
   ]
  },
  {
   "cell_type": "code",
   "execution_count": null,
   "metadata": {},
   "outputs": [],
   "source": [
    "def getSharedValues2(list1, list2):\n",
    "    ...\n",
    "    return set_res"
   ]
  },
  {
   "cell_type": "markdown",
   "metadata": {},
   "source": [
    "上のセルで解答を作成した後、以下のセルを実行し、実行結果が `True` になることを確認して下さい。"
   ]
  },
  {
   "cell_type": "code",
   "execution_count": null,
   "metadata": {
    "scrolled": true
   },
   "outputs": [],
   "source": [
    "set_res2 = getSharedValues2(list_randomval1, list_randomval2)\n",
    "print(\"getSharedValuesと同じ結果ならTrue: \", set_res1 == set_res2)"
   ]
  },
  {
   "cell_type": "markdown",
   "metadata": {},
   "source": [
    "## 練習　\n",
    "\n",
    "数を要素とするリスト（数リストと呼びます）を要素とするリスト `list_numlist` が与えられたとき（ただし、全ての数リストの大きさは等しいとします）、各数リストの `j` 番目に小さい値だけからなるリストを構成し、そのリストを `j` 番目の要素とする様なリスト `list_res` を返す関数を設計したいと考えます。\n",
    "\n",
    "例えば、引数が ` [[49, 97, 53, 5, 33], [65, 62, 51, 100, 38], [61, 45, 74, 27, 64]]` のとき、返値は `[[5, 38, 27], [33, 51, 45], [49, 62, 61], [53, 65, 64], [97, 100, 74]]` となる様な関数です。\n",
    "\n",
    "そこで、次の様な関数 `sortElementsSlowly` を作成しました。"
   ]
  },
  {
   "cell_type": "code",
   "execution_count": null,
   "metadata": {},
   "outputs": [],
   "source": [
    "def sortElementsSlowly(list_numlist):\n",
    "    list_res = [None] * len(list_numlist[0])\n",
    "    for j in range(len(list_numlist[0])):\n",
    "        list_res[j] = []\n",
    "        for list_num in list_numlist:\n",
    "            list_sortednum = sorted(list_num)\n",
    "            list_res[j].append(list_sortednum[j])\n",
    "    return list_res"
   ]
  },
  {
   "cell_type": "code",
   "execution_count": null,
   "metadata": {},
   "outputs": [],
   "source": [
    "import random\n",
    "random.seed(a=0)\n",
    "m = 3 # 数リストの個数\n",
    "n = 5 # 数リストの大きさ\n",
    "list_numlist1 = [[random.randint(0, 100) for _ in range(n)] for _ in range(m)]# 引数作成\n",
    "print(\"引数：\", list_numlist1)\n",
    "list_res1 = sortElementsSlowly(list_numlist1)\n",
    "print(\"返値：\", list_res1)"
   ]
  },
  {
   "cell_type": "markdown",
   "metadata": {},
   "source": [
    "関数 `sortElementsSlowly` は、数リストの個数を $m$、数リストの大きさ（格納している要素の数）を $n$ とするときの最悪の計算量がどれくらいになるか考えてみて下さい。\n",
    "\n",
    "また、関数 `sortElementsSlowly` と同じ結果を返しつつ、最悪の計算量が概ね $O(m \\log m + nm)$ となる様な関数 `sortElements` を作成してください。  \n",
    "<a id=\"sortElementsQ\" href=\"#sortElementsA\">[解答]</a>\n"
   ]
  },
  {
   "cell_type": "code",
   "execution_count": null,
   "metadata": {},
   "outputs": [],
   "source": [
    "def sortElements(list_numlist):\n",
    "    ...\n",
    "    return list_res"
   ]
  },
  {
   "cell_type": "markdown",
   "metadata": {},
   "source": [
    "上のセルで解答を作成した後、以下のセルを実行し、実行結果が `True` になることを確認して下さい。"
   ]
  },
  {
   "cell_type": "code",
   "execution_count": null,
   "metadata": {},
   "outputs": [],
   "source": [
    "import random\n",
    "random.seed(a=0)\n",
    "m = 3 # 数リストの個数\n",
    "n = 5 # 数リストの大きさ\n",
    "list_numlist1 = [[random.randint(0, 100) for _ in range(n)] for _ in range(m)]# 引数作成\n",
    "print(sortElementsSlowly(list_numlist1)==sortElements(list_numlist1))"
   ]
  },
  {
   "cell_type": "markdown",
   "metadata": {},
   "source": [
    "## 辞書に関する計算量\n",
    "\n",
    "要素を $n$ 個格納した辞書 `dic1` と、要素を $m$ 個格納したイテラブル `ite2` について考えます。\n",
    "\n",
    "主な操作の計算量は以下の通りです。"
   ]
  },
  {
   "cell_type": "markdown",
   "metadata": {},
   "source": [
    "操作     | 実行例      | 計算量         | 備考\n",
    "--------------|--------------|---------------|-------------------------------\n",
    "参照         | `dic1[\"abc\"]`         | $O(1)$     |\n",
    "代入         | `dic1[\"abc\"] = 100`     | $O(1)$    |\n",
    "キーの数        | `len(ic1)`       | $O(1)$     |\n",
    "削除        | `del dic1[\"abc\"]`     | $O(1)$   |\n",
    "`get` | `dic1.get(\"abc\")`     | $O(1)$     | <a id=\"dic_diQ\" href=\"#dic_diA\">[di]</a>  \n",
    "`setdefault` | `dic1.setdefault(k)`     | $O(1)$     |\n",
    "`pop`           | `dic1.setdefault(\"abc\", 100)`     | $O(1)$  | \n",
    "`popitem`      | `dic1.popitem()`  | $O(1)$\t     | \n",
    "初期化         | `dic1.clear()`, `dic1 = {}`, `dic1 = dict()`    | $O(1)$     | \n",
    "`keys`          |`dic1.keys()`     | $O(1)$     | <a id=\"dic_diQ\" href=\"#dic_diA\">[di]</a>  \n",
    "`values`          | `dic1.keys()`     | $O(1)$     | <a id=\"dic_vQ\" href=\"#dic_vA\">[v]</a>\n",
    "キーの登録の判定   | `a1 in dic1`, `a1 not in dic1` | $O(1)$\t     | <a id=\"dic_diQ\" href=\"#dic_diA\">[di]</a>  \n",
    "　\n",
    "複製          | `dic1.copy()` | $O(n)$ | \n",
    "作成  | `dict(ite2)`    | $O($ `len(ite2)` $) = O(m)$   | \n",
    "　\n",
    "for文での使用     | `for key1 in dic1:`  | $O(n)$  | <a id=\"dic_fQ\" href=\"#dic_fA\">[f]</a>\n",
    "\n",
    "<a id=\"dic_diA\" href=\"#dic_diQ\">[di]</a> 計算量は同じだが、速さ（実行時間）は、キーの登録の判定 (`in dic1`) $<$ `get` $\\approx$ `in dic1.keys()`  \n",
    "<a id=\"dic_vA\" href=\"#dic_vQ\">[v]</a> `in dic1.values()` は $O(n)$  \n",
    "<a id=\"dic_fA\" href=\"#dic_fQ\">[f]</a> 全ての要素が `key1` に代入される場合。`dic1.values()`, `dic1.keys()`, `dic1.items()`も同様\n"
   ]
  },
  {
   "cell_type": "markdown",
   "metadata": {},
   "source": [
    "授業（探索）でも触れている様に、辞書のキーの登録の判定は $O(1)$ の計算量で実行可能です。\n",
    "これは、一見似た様な効果であるリストの要素の包含の判定 (`in`) は $O(n)$ で実行することに注意して下さい。\n",
    "\n",
    "計算時間を調べてみましょう。まずテスト用のリストと作成します。それぞれ `maxvalue1` 個の要素とキーを登録します。"
   ]
  },
  {
   "cell_type": "code",
   "execution_count": null,
   "metadata": {},
   "outputs": [],
   "source": [
    "maxvalue1 = 100000\n",
    "list1 = list(range(maxvalue1))\n",
    "dic1 = dict([(i, True) for i in range(maxvalue1)])"
   ]
  },
  {
   "cell_type": "markdown",
   "metadata": {},
   "source": [
    "リストの先頭の値に対して `in` を実行してみます。"
   ]
  },
  {
   "cell_type": "code",
   "execution_count": null,
   "metadata": {},
   "outputs": [],
   "source": [
    "%%timeit -r 10 -n 10\n",
    "#一番先頭の値(O(1))\n",
    "0 in list1"
   ]
  },
  {
   "cell_type": "markdown",
   "metadata": {},
   "source": [
    "今度はリストの最後尾の値に対して `in` を実行してみます。"
   ]
  },
  {
   "cell_type": "code",
   "execution_count": null,
   "metadata": {
    "scrolled": true
   },
   "outputs": [],
   "source": [
    "%%timeit -r 10 -n 10\n",
    "#一番後ろの値(O(n))\n",
    "maxvalue1-1 in list1"
   ]
  },
  {
   "cell_type": "markdown",
   "metadata": {},
   "source": [
    "`in` は線形探索で先頭から要素を調べていきます。その為、最後尾の値を調べる場合は先頭の値と比べて非常に遅くなります。\n",
    "\n",
    "今度はリストのランダムな位置 `100` 個の値に対して `in` を実行してみます。"
   ]
  },
  {
   "cell_type": "code",
   "execution_count": null,
   "metadata": {},
   "outputs": [],
   "source": [
    "%%timeit -r 10 -n 10\n",
    "#ランダムに100個の値\n",
    "import random\n",
    "random.seed(a=0)\n",
    "for i in range(100):\n",
    "    random.randint(0, maxvalue1) in list1"
   ]
  },
  {
   "cell_type": "markdown",
   "metadata": {},
   "source": [
    "やはりそれなりに時間がかかります。\n",
    "\n",
    "辞書に対して、リストと同じ値（リストでは先頭に格納されている値、最後尾に格納されている値、ランダムな位置 `100` 個の値）に対して `in` を実行してみます。先頭の値以外は桁違いに辞書の方が速いことが確認できます。"
   ]
  },
  {
   "cell_type": "code",
   "execution_count": null,
   "metadata": {},
   "outputs": [],
   "source": [
    "%%timeit -r 10 -n 10\n",
    "0 in dic1"
   ]
  },
  {
   "cell_type": "code",
   "execution_count": null,
   "metadata": {},
   "outputs": [],
   "source": [
    "%%timeit -r 10 -n 10\n",
    "maxvalue1-1 in dic1"
   ]
  },
  {
   "cell_type": "code",
   "execution_count": null,
   "metadata": {},
   "outputs": [],
   "source": [
    "%%timeit -r 10 -n 10\n",
    "#ランダムに100個の値(O(n))\n",
    "import random\n",
    "random.seed(a=0)\n",
    "for i in range(100):\n",
    "    random.randint(0, maxvalue1) in dic1"
   ]
  },
  {
   "cell_type": "markdown",
   "metadata": {},
   "source": [
    "## 集合（セット）に関する計算量\n",
    "\n",
    "要素を $n$ 個格納した集合 `set1` と、要素を $m$ 個格納した集合 `set`、もしくはイテラブル `ite2` について考えます。\n",
    "\n",
    "主な操作の計算量は以下の通りです。"
   ]
  },
  {
   "cell_type": "markdown",
   "metadata": {},
   "source": [
    "操作     | 実行例      | 計算量         | 備考\n",
    "--------------|--------------|---------------|-------------------------------\n",
    "要素の数        | `len(set1)`       | $O(1)$ |\n",
    "追加          | `set1.add(5)`     | $O(1)$ |\n",
    "要素の有無   | `v1 in set1`, `v1 not in s` | $O(1)$ |  \n",
    "削除        | `set1.remove(v1)` | $O(1)$ |  \n",
    "削除       | `set1.discard(v1)` | $O(1)$  | \n",
    "取り出し           | `set1.pop()` | $O(1)$ | \n",
    "初期化         | `set1.clear()`, `set1 = set()` | $O(1)$ | \n",
    "　\n",
    "作成  | `set(ite2)` | $O($ `len(ite2)` $)=O(m)$   |  \n",
    "　\n",
    "和         | `set1 \\| set2` | $O($ `len(set1)` $+$ `len(set2)` $) = O(n+m)$\n",
    "積  | `set1 & set2` | $O($ `len(set1)` $+$ `len(set2)` $) = O(n+m)$\n",
    "差 | `set1 - set2` | $O($ `len(set1)` $+$ `len(set2)` $) = O(n+m)$\n",
    "対称差 | `set1 ^ set2` | $O($ `len(set1)` $+$ `len(set2)` $) = O(n+m)$\n",
    "　\n",
    "for文での使用      | `for v1 in set1:`  | $O(n)$          | [1]\n",
    "複製          | `set1.copy()` | $O(n)$ |\n",
    "\n",
    "[1] 全ての要素が `v1` に代入される場合  "
   ]
  },
  {
   "cell_type": "markdown",
   "metadata": {},
   "source": [
    "## 練習\n",
    "\n",
    "`getSharedValues(list1, list2)` の手続きを、集合、もしくは辞書を使って計算量 $O(n)$ で達成する様な手続き `getSharedValues3(list1, list2)` を設計して下さい。  \n",
    "<a id=\"getSharedValues3Q\" href=\"#getSharedValues3A\">[解答]</a>  "
   ]
  },
  {
   "cell_type": "code",
   "execution_count": null,
   "metadata": {},
   "outputs": [],
   "source": [
    "def getSharedValues3(list1, list2):\n",
    "    ...\n",
    "    return set_res"
   ]
  },
  {
   "cell_type": "markdown",
   "metadata": {},
   "source": [
    "上のセルで解答を作成した後、以下のセルを実行し、実行結果が `True` になることを確認して下さい。"
   ]
  },
  {
   "cell_type": "code",
   "execution_count": null,
   "metadata": {
    "scrolled": true
   },
   "outputs": [],
   "source": [
    "set_res3 = getSharedValues3(list_randomval1, list_randomval2)\n",
    "print(\"getSharedValuesと同じ結果ならTrue: \", set_res1 == set_res3)"
   ]
  },
  {
   "cell_type": "markdown",
   "metadata": {},
   "source": [
    "## 練習の解答"
   ]
  },
  {
   "cell_type": "markdown",
   "metadata": {},
   "source": [
    "### getSharedValues2\n",
    "\n",
    "<a id=\"getSharedValues2A\" href=\"#getSharedValues2Q\">[問]</a>  "
   ]
  },
  {
   "cell_type": "code",
   "execution_count": null,
   "metadata": {},
   "outputs": [],
   "source": [
    "#色々なやり方があります\n",
    "#import random\n",
    "#random.seed(a=0)\n",
    "##リストの大きさ\n",
    "#listsize = 1000 \n",
    "##0以上listsize-1以下の整数を要素とするリスト\n",
    "#list_randomval1 = [random.randint(0, listsize-1) for _ in range(listsize)]\n",
    "#list_randomval2 = [random.randint(0, listsize-1) for _ in range(listsize)]\n",
    "def getSharedValues2(list1, list2):\n",
    "    #結果格納用の集合set_resの初期化\n",
    "    set_res = set()\n",
    "    # list1に格納されている要素をlist3に格納しなおす\n",
    "    list3 = [False] * (len(list1))\n",
    "    for val1 in list1: # list1の各要素を呼び出す #ここでO(n)の計算量\n",
    "        list3[val1] = True # list1に含まれていればlist3のインデックスval1の値をTrueにする\n",
    "    for val2 in list2: # list2の各要素を呼び出す #ここでO(n)の計算量\n",
    "        if list3[val2] is True: # list3[val2]がTrueならlist1に格納されている #ここでO(1)の計算量→合計O(n)\n",
    "            set_res.add(val2)\n",
    "    return set_res\n",
    "set_res2 = getSharedValues2(list_randomval1, list_randomval2)\n",
    "print(\"getSharedValuesと同じ結果ならTrue: \", set_res1 == set_res2)"
   ]
  },
  {
   "cell_type": "markdown",
   "metadata": {},
   "source": [
    "`getSharedValues` と `getSharedValues2` の実行時間を比較してみます。"
   ]
  },
  {
   "cell_type": "code",
   "execution_count": null,
   "metadata": {},
   "outputs": [],
   "source": [
    "%%timeit -r 10 -n 10\n",
    "getSharedValues(list_randomval1, list_randomval2)"
   ]
  },
  {
   "cell_type": "code",
   "execution_count": null,
   "metadata": {},
   "outputs": [],
   "source": [
    "%%timeit -r 10 -n 10\n",
    "getSharedValues2(list_randomval1, list_randomval2)"
   ]
  },
  {
   "cell_type": "markdown",
   "metadata": {},
   "source": [
    "### sortElements\n",
    "\n",
    "<a id=\"sortElementsA\" href=\"#sortElementsQ\">[問]</a>  "
   ]
  },
  {
   "cell_type": "markdown",
   "metadata": {},
   "source": [
    "最悪の計算量は $O(m n^2 \\log n)$ になります。これは実データだと非常に遅くなります。"
   ]
  },
  {
   "cell_type": "code",
   "execution_count": null,
   "metadata": {},
   "outputs": [],
   "source": [
    "def sortElementsSlowly(list_numlist):\n",
    "    list_res = [None] * len(list_numlist[0]) # O(1)\n",
    "    for j in range(len(list_numlist[0])): # O(n)\n",
    "        list_res[j] = [] # O(1)\n",
    "        for list_num in list_numlist: # O(m)→ここは O(nm)回実行される\n",
    "            list_sortednum = sorted(list_num) # O(n log n)→sortedにかかる計算量の総和が最悪O(mn^2 log n)\n",
    "            list_res[j].append(list_sortednum[j]) # O(1)\n",
    "    return list_res"
   ]
  },
  {
   "cell_type": "markdown",
   "metadata": {},
   "source": [
    "以下の関数の場合は $O(mn \\log n + mn) = O(mn \\log n)$ になります。"
   ]
  },
  {
   "cell_type": "code",
   "execution_count": null,
   "metadata": {},
   "outputs": [],
   "source": [
    "def sortElements(list_numlist):\n",
    "    list_res = [None] * len(list_numlist[0]) # O(1)\n",
    "    for list_num in list_numlist: # O(m) \n",
    "        list_num.sort() # O(n log n)→sortにかかる計算量の総和が最悪O(mn log n)\n",
    "    for j in range(len(list_numlist[0])): # O(n) \n",
    "        list_res[j] = [] # O(1)\n",
    "        for list_num in list_numlist: # O(m)→ここは O(nm)回実行される\n",
    "            list_res[j].append(list_num[j]) # O(1)→ここは O(nm)回実行される\n",
    "    return list_res"
   ]
  },
  {
   "cell_type": "markdown",
   "metadata": {},
   "source": [
    "計算時間を比較してみます。"
   ]
  },
  {
   "cell_type": "code",
   "execution_count": null,
   "metadata": {},
   "outputs": [],
   "source": [
    "import random\n",
    "random.seed(a=0)\n",
    "m = 100 # 数リストの個数\n",
    "n = 100 # 数リストの大きさ\n",
    "list_numlist1 = [[random.randint(0, 100) for _ in range(n)] for _ in range(m)]# 引数作成\n",
    "list_numlist2 = [[list_numlist1[j][i] for i in range(n)] for j in range(m)]"
   ]
  },
  {
   "cell_type": "code",
   "execution_count": null,
   "metadata": {},
   "outputs": [],
   "source": [
    "%%timeit -r 1 -n 1\n",
    "sortElements(list_numlist1)"
   ]
  },
  {
   "cell_type": "code",
   "execution_count": null,
   "metadata": {},
   "outputs": [],
   "source": [
    "%%timeit -r 1 -n 1\n",
    "sortElementsSlowly(list_numlist1)"
   ]
  },
  {
   "cell_type": "markdown",
   "metadata": {},
   "source": [
    "### getSharedValues3 \n",
    "\n",
    "<a id=\"getSharedValues3A\" href=\"#getSharedValues3Q\">[問]</a>  "
   ]
  },
  {
   "cell_type": "code",
   "execution_count": null,
   "metadata": {},
   "outputs": [],
   "source": [
    "#辞書を使う\n",
    "def getSharedValues3(list1, list2):\n",
    "    #結果格納用の集合set_resの初期化\n",
    "    set_res = set()\n",
    "    # list1に格納されている要素を辞書に格納しなおす\n",
    "    dic1 = {}\n",
    "    for a1 in list1:\n",
    "        dic1[a1] = True #ここでO(n)の計算量\n",
    "    for val2 in list2: # list2の各要素を呼び出す #ここでO(n)の計算量\n",
    "        if val2 in dic1: # ここでO(1)の計算量→合計O(n)\n",
    "            set_res.add(val2)\n",
    "    return set_res\n",
    "set_res3 = getSharedValues3(list_randomval1, list_randomval2)\n",
    "print(\"getSharedValuesと同じ結果ならTrue: \", set_res1 == set_res3)"
   ]
  },
  {
   "cell_type": "code",
   "execution_count": null,
   "metadata": {},
   "outputs": [],
   "source": [
    "#集合を使う\n",
    "def getSharedValues3(list1, list2):\n",
    "    #結果格納用の集合set_resの初期化\n",
    "    set_res = set()\n",
    "    # list1に格納されている要素をset1に格納しなおす\n",
    "    set1 = set(list1) #ここでO(n)の計算量\n",
    "    for val2 in list2: # list2の各要素を呼び出す #ここでO(n)の計算量\n",
    "        if val2 in set1: # ここでO(1)の計算量→合計O(n)\n",
    "            set_res.add(val2)\n",
    "    return set_res\n",
    "set_res3 = getSharedValues3(list_randomval1, list_randomval2)\n",
    "print(\"getSharedValuesと同じ結果ならTrue: \", set_res1 == set_res3)"
   ]
  },
  {
   "cell_type": "code",
   "execution_count": null,
   "metadata": {},
   "outputs": [],
   "source": [
    "#理論上の計算量はO(n)ですが、集合積のメソッドを使った方が高速になります\n",
    "def getSharedValues3_(list1, list2):\n",
    "    #結果格納用の集合set_resの初期化\n",
    "    set_res = set()\n",
    "    # list1に格納されている要素をset1に格納しなおす\n",
    "    set1 = set(list1) #ここでO(n)の計算量\n",
    "    # list2に格納されている要素をset2に格納しなおす\n",
    "    set2 = set(list2) #ここでO(n)の計算量\n",
    "    # list2に格納されている要素をset2に格納しなおす\n",
    "    set_res = set1.intersection(set2) #ここで（最悪）O(n)の計算量\n",
    "    return set_res\n",
    "set_res3 = getSharedValues3_(list_randomval1, list_randomval2)\n",
    "print(\"getSharedValuesと同じ結果ならTrue: \", set_res1 == set_res3)"
   ]
  },
  {
   "cell_type": "code",
   "execution_count": null,
   "metadata": {},
   "outputs": [],
   "source": [
    "%%timeit -r 10 -n 10\n",
    "getSharedValues3(list_randomval1, list_randomval2)"
   ]
  },
  {
   "cell_type": "code",
   "execution_count": null,
   "metadata": {},
   "outputs": [],
   "source": [
    "%%timeit -r 10 -n 10\n",
    "getSharedValues3_(list_randomval1, list_randomval2)"
   ]
  },
  {
   "cell_type": "code",
   "execution_count": null,
   "metadata": {},
   "outputs": [],
   "source": []
  }
 ],
 "metadata": {
  "kernelspec": {
   "display_name": "Python 3",
   "language": "python",
   "name": "python3"
  },
  "language_info": {
   "codemirror_mode": {
    "name": "ipython",
    "version": 3
   },
   "file_extension": ".py",
   "mimetype": "text/x-python",
   "name": "python",
   "nbconvert_exporter": "python",
   "pygments_lexer": "ipython3",
   "version": "3.7.4"
  }
 },
 "nbformat": 4,
 "nbformat_minor": 2
}
