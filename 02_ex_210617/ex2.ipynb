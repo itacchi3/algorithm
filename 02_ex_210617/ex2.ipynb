{
 "cells": [
  {
   "cell_type": "markdown",
   "metadata": {},
   "source": [
    "# 教養としてのアルゴリズムとデータ構造\n",
    "\n",
    "* 以下の各問について、問の次（もしくはその次）にあるコードセルに解答すること。\n",
    "    * 特に指定がある場合を除いて複数のセルに分けて解答してはならない。\n",
    "* 全ての解答を終えた後に必ずリスタートを実行し、上のセルから順番に実行して各解答が正しく動くことを確認すること。\n",
    " * ただし、ローカル環境で解答する場合、 `!wget...` の記載のあるセルは実行しなくてよい。 \n",
    "* 提出にあたっては、各当該のセルに解答のコードを記入し、それを実行した結果を表示させた後に、保存したこのファイルをITC-LMS経由で提出すること。\n",
    "* 解答のコードには適宜コメントを入れること。\n",
    "* 受講者間の協力は原則許可しない。\n",
    "* 解答がコピペと判断された場合、その解答（コピペ元も含めて）は0点となる可能性があるので注意すること。\n",
    "* 特に指定がない限りモジュールを用いて解答してはならない。\n"
   ]
  },
  {
   "cell_type": "markdown",
   "metadata": {},
   "source": [
    "* ローカル環境で行う場合、課題によってはデータを別にダウンロードする必要があります。\n",
    "* Colaboratoryを利用して課題を行う場合には、最初に以下のセルを実行して下さい。"
   ]
  },
  {
   "cell_type": "code",
   "execution_count": null,
   "metadata": {},
   "outputs": [],
   "source": [
    "!wget https://drive.google.com/uc?id=1QaiJnsUmlAwwZ-OVqBrK1SFPRtO5x9X7 -O ex2_data_focuslist.zip\n",
    "!unzip ex2_data_focuslist.zip\n",
    "!wget https://drive.google.com/uc?id=1NIrNRV85gk3p9Aw7lkR8lYHb7u1nsRgm -O ex2_data_twitter_dic_ScrNameToID.zip\n",
    "!unzip ex2_data_twitter_dic_ScrNameToID.zip\n",
    "!wget https://drive.google.com/uc?id=14OHAuURbUyjaZr8JWgJJwbIcrqK3PNec -O ex2_data_twitter_list_IDToScrName.zip\n",
    "!unzip ex2_data_twitter_list_IDToScrName.zip\n",
    "!wget https://drive.google.com/uc?id=1feag5hRazejzG4R8joZk7stCaTu1MttV -O ex2_data_twitter_dic_FollowingList.zip\n",
    "!unzip ex2_data_twitter_dic_FollowingList.zip\n",
    "!wget https://drive.google.com/uc?id=1f5tjyfqDgcoHYyqedfhRKrmZ-eOGivX7 -O utaadevalcpx.zip\n",
    "!unzip utaadevalcpx.zip"
   ]
  },
  {
   "cell_type": "markdown",
   "metadata": {},
   "source": [
    "<b><font color=\"red\">\n",
    "各問に解答するにあたり、以下の点に注意して下さい。\n",
    "\n",
    "この課題では `bisect` を使うことが出来ます。\n",
    "</font></b>"
   ]
  },
  {
   "cell_type": "markdown",
   "metadata": {},
   "source": [
    "# 第2回本課題\n"
   ]
  },
  {
   "cell_type": "code",
   "execution_count": null,
   "metadata": {},
   "outputs": [],
   "source": [
    "str_exfilename = \"ex2.ipynb\" # ファイル名を変更している場合、ここをその名前に変更する必要があります（ローカル環境のみ/Colab環境では使用しません"
   ]
  },
  {
   "cell_type": "markdown",
   "metadata": {},
   "source": [
    "各問の解答を作成する際、自分の解答がどれくらいの計算量になるのか考えてみて下さい。"
   ]
  },
  {
   "cell_type": "markdown",
   "metadata": {},
   "source": [
    "# 4. 震源地データの取得\n",
    "\n",
    "気象庁のサイト（ https://www.jma.go.jp/jma/menu/menureport.html ） から日本周辺で発生した2011年から2018年までの地震の震源地のデータを用意しました。このデータは震源地の位置を表す緯度と経度の値からなるリスト（位置データと呼びます）を格納した多重リストになっています。例えば、`[[41.2985, 142.8021], [35.4256, 139.922], [35.9556, 140.1558]]` の様な値です。\n",
    "\n",
    "そこで、このリスト `list_focus` と実数で表される2つの地点を表す緯度と経度の値（`baselati1`, `baselongi1` と `baselati2`, `baselongi2`。ただし、`baselati1` $\\leq$ `baselati2` かつ `baselongi1`$\\leq$`baselongi2` が成立する） とが与えられたとき、`list_focus` に含まれる位置データの中から、 `baselati1` と `baselongi1`、 `baselati2` と `baselongi2` の2点から構成される四角形の領域内に含まれる位置データを全て格納したリスト `list_res` を返す関数 `getFocuses(dic_focus, latitude)` を作成して下さい。 \n",
    "\n",
    "例えば、`baselati1 = 30`, `baselongi1 = 130`, `baselongi2 = 40`, `baselongi2 = 140`, `list_focus = [[20, 130], [35, 130], [40, 130], [35, 135], [30, 150], [50, 150], [20, 150]]` である場合、`[[35, 130], [40, 130], [35, 135]]` という結果を返します。\n",
    "\n",
    "なお、$n =$ `list_focus` の大きさ (`len(list_focus)`) とします。"
   ]
  },
  {
   "cell_type": "markdown",
   "metadata": {},
   "source": [
    "以下のセルの `...` のところを書き換えて解答して下さい。"
   ]
  },
  {
   "cell_type": "code",
   "execution_count": null,
   "metadata": {},
   "outputs": [],
   "source": [
    "### この行のコメントを改変してはいけません %2-4% ### \n",
    "#解答用セル\n",
    "import ... # モジュールを使わない場合、この行は削除して良い\n",
    "def getFocuses(list_focus, baselati1, baselongi1, baselati2, baselongi2):\n",
    "    ...\n",
    "    return list_res"
   ]
  },
  {
   "cell_type": "markdown",
   "metadata": {},
   "source": [
    "上のセルで解答を作成した後、以下のセルを実行し、実行結果が `True` になることを確認して下さい。"
   ]
  },
  {
   "cell_type": "code",
   "execution_count": null,
   "metadata": {},
   "outputs": [],
   "source": [
    "list_focus_test1 = [[20, 130], [35, 130], [40, 130], [35, 135], [30, 150], [50, 150], [20, 150]]\n",
    "baselati1_test1 = 30; baselongi1_test1 = 130; baselati2_test1 = 40; baselongi2_test1 = 140; \n",
    "list_res_test1 = getFocuses(list_focus_test1, baselati1_test1, baselongi1_test1, baselati2_test1, baselongi2_test1)\n",
    "print(sorted(list_res_test1)==[[35, 130], [35, 135], [40, 130]])\n",
    "list_res2_test1 = getFocuses(list_focus_test1, baselati2_test1, baselongi1_test1, baselati1_test1, baselongi2_test1)\n",
    "print(list_res2_test1==[])"
   ]
  },
  {
   "cell_type": "markdown",
   "metadata": {},
   "source": [
    "以下の実際の震源地データの場合も、実行結果が `True` になることを確認して下さい。"
   ]
  },
  {
   "cell_type": "code",
   "execution_count": null,
   "metadata": {},
   "outputs": [],
   "source": [
    "import json\n",
    "if 'list_focus_test2' not in globals(): # 同じデータは1回だけ呼び出す\n",
    "    f = open(\"ex2_data_focuslist.json\", \"r\", encoding=\"utf-8\")\n",
    "    list_focus_test2 = json.load(f); f.close()\n",
    "baselati1_test2 = 35; baselongi1_test2 = 135; baselati2_test2 = 35.1; baselongi2_test2 = 135.1; \n",
    "list_res_test2 = getFocuses(list_focus_test2, baselati1_test2, baselongi1_test2, baselati2_test2, baselongi2_test2)\n",
    "print(len(list_res_test2)==63)\n",
    "print(sorted(list_res_test2)[:5]==[[35.0055, 135.0586], [35.0143, 135.0693], [35.0208, 135.068], [35.0225, 135.0363], [35.0236, 135.0875]])\n",
    "print(sorted(list_res_test2)[-3:]== [[35.0951, 135.0236], [35.0955, 135.076], [35.0983, 135.048]])"
   ]
  },
  {
   "cell_type": "markdown",
   "metadata": {},
   "source": [
    "以下のセルを実行すると解答セルのプログラムの計算量を自動的に評価します。\n",
    "* ローカル環境で解答している人はファイルを保存してから以下のセルをそのまま実行して下さい（このファイルと同じフォルダ内に `utaadevalcpx.py` があることを確認して下さい）。\n",
    "* Colaboratoryを利用している人はセル内部の `str_code_2_4  = '''...'''` の `...` に自分の解答をコピペして下さい（ファイル冒頭のデータのダウンロードを事前に行う必要があります）。\n",
    "`\n",
    "\n",
    "ただし、常に正しい計算量を求められる訳ではありません（<font color=\"red\">正しく求められなかった場合、実際の計算量よりも計算量が少なく求まります</font>）。例えば、以下の様な内容のコードは正しく評価できないことがあります。\n",
    "* 組み込み関数などの名前を別名に変更している\n",
    "* 条件式の使用（例えば、for文中のif文＋`break`など）\n",
    "* while文を使用する\n",
    "\n",
    "この課題の模範解答の時間計算量は<font color=\"white\"> $O(n)$ </font>です。（←白黒反転しています）  \n",
    "想像（模範解答）よりも大きな計算量となっている場合、どこに問題があるのか考えてみて下さい。\n",
    "\n",
    "正しく計算量が評価できていないと思った場合、感想などで教えて下さい。"
   ]
  },
  {
   "cell_type": "code",
   "execution_count": null,
   "metadata": {
    "scrolled": true
   },
   "outputs": [],
   "source": [
    "import utaadevalcpx;dic_varinfo_2_4 = {\"list_focus\": [\"list\", set(), {\"n\"}],}\n",
    "str_code_2_4 = '''...'''\n",
    "utaadevalcpx.evaluateCpx(str_exfilename, \"2-4\", dic_varinfo_2_4, str_code_2_4)# str_exfilenameはファイルの冒頭で定義されています"
   ]
  },
  {
   "cell_type": "markdown",
   "metadata": {},
   "source": [
    "駒場を左下の位置、本郷を右上の位置とした範囲に含まれる震源地を調べてみましょう。"
   ]
  },
  {
   "cell_type": "code",
   "execution_count": null,
   "metadata": {},
   "outputs": [],
   "source": [
    "import csv\n",
    "y1 = 35.65891640275403; x1 = 139.6759201429802 # 駒場\n",
    "y2 =35.717436123899944; x2 = 139.7657119289086 # 本郷\n",
    "list_res = getFocuses(list_focus_test2, y1, x1, y2, x2)\n",
    "list_csv = []\n",
    "for index1, (y1, x1) in enumerate(list_res):\n",
    "    list_csv.append([index1, y1, x1])\n",
    "with open('ex2_1.csv', 'w', encoding='utf-8', newline='') as f:\n",
    "    csv_writer = csv.writer(f)\n",
    "    csv_writer.writerows(list_csv)"
   ]
  },
  {
   "cell_type": "markdown",
   "metadata": {},
   "source": [
    "上のセルを実行するとこの範囲の震源地を保存した ex2_1.csv というcsvファイルが作成されます。このファイルをGoogleマップにアップロードするとこの<a href=\"https://www.google.com/maps/d/u/0/edit?mid=1rFE370eYxiv3gxDgDBNqnDb4_nYDHPAv&usp=sharing\">リンク先</a>の様になります。\n",
    "\n",
    "…微妙に描画位置がずれていますね…。"
   ]
  },
  {
   "cell_type": "markdown",
   "metadata": {},
   "source": [
    "<b>問題の難易度評価：</b>\n",
    "下のセルにこの問の難易度を5段階（1:簡単、2:やや簡単、3:普通、4:やや難しい、5:難しい）で評価して下さい。（次回以降の課題の難易度の調整に使います）\n",
    "また、解答するのにかかった時間や感想などがあれば適宜記載して下さい。"
   ]
  },
  {
   "cell_type": "code",
   "execution_count": null,
   "metadata": {},
   "outputs": [],
   "source": [
    "#難易度（1:簡単、2:やや簡単、3:普通、4:やや難しい、5:難しい）\n",
    "\n",
    "#感想\n"
   ]
  },
  {
   "cell_type": "markdown",
   "metadata": {},
   "source": [
    "## 5. Twitterの相互フォロー取得\n",
    "\n",
    "Twitter（ https://twitter.com/ ）は著名なSNSの1つですが、アカウントは別のアカウントを「フォロー」することが出来ます。\n",
    "\n",
    "そこで、Twitterのフォロー関係が格納されたリスト `list_following` と アカウントの総数 `accnum` が引数として与えられたとき、その与えられたフォロー関係の中から相互にフォローしているアカウント、すなわち、アカウント `acc1` がアカウント `acc2` をフォローし、`acc2` がアカウント `acc1` をフォローしている様な2つのアカウントから構成されるリスト `[acc1, acc2]` を格納したリスト（すなわち、多重リスト） `list_FF` を返す関数 `getFF()` を作成して下さい。\n",
    "\n",
    "ただし、以下の点に注意して解答して下さい。\n",
    "\n",
    "1. 全てのアカウントは整数で表されます。\n",
    "2. リスト `list_following` は（多重）リストになっています。`list_following` の `acc1` 番目の要素 `list_following[acc1]` はリスト（フォローリストと呼びます）になっており、アカウント `acc1` はフォローリストを構成する要素であるアカウントをフォローしていることを表します。\n",
    "3. `list_following[acc1]` の値はソートされていません。\n",
    "4. `accnum` は `followinglink` に現れるアカウントの総数を表す整数です。（のべ数ではありません）\n",
    "5. `acc1` と `acc2` がお互いをフォローをしている場合、`[acc1, acc2]` というペアを `list_FF` に格納します。ただし、`acc1 < acc2` が成立しているものとします。結果として、`[acc2, acc1]` は `list_FF` に<b>格納されません</b>。\n",
    "<font color=\"white\">6. 二分探索、もしくはハッシュ（集合、辞書）を使って探索するのが望ましいです。</font>\n",
    "\n",
    "\n",
    "\n",
    "例えば、<b>二分探索を実行する毎に `sorted` や `sort` を使う様な手順になっていると、非常に時間がかかるので注意して下さい。</b>\n",
    "\n",
    "なお、各値の大きさは以下の通りとします。\n",
    "* $n =$ アカウント数 (`accnum`, `len(list_following)`) \n",
    "* $k =$ 最大フォロー数（list_followingの要素（リスト）の中で最も要素の多いリストの要素数） (`max([len(list_acc) for list_acc in list_following])`) \n",
    "\n",
    "以下のセルの `...` のところを書き換えて解答して下さい。"
   ]
  },
  {
   "cell_type": "code",
   "execution_count": null,
   "metadata": {},
   "outputs": [],
   "source": [
    "### この行のコメントを改変してはいけません %2-5% ### \n",
    "#解答用セル\n",
    "import ... # モジュールを使わない場合、この行は削除して良い\n",
    "def getFF(list_following, accnum):\n",
    "    ...\n",
    "    return list_FF"
   ]
  },
  {
   "cell_type": "markdown",
   "metadata": {},
   "source": [
    "上のセルで解答を作成した後、以下のセルを実行し、実行結果が `True` になることを確認して下さい。"
   ]
  },
  {
   "cell_type": "code",
   "execution_count": null,
   "metadata": {},
   "outputs": [],
   "source": [
    "list_following_test = [[4, 1], [5, 3], [4, 1], [5], [7, 2, 1, 0], [3, 6], [0], [6, 1, 5]]\n",
    "accnum = 8\n",
    "list_FF_test = sorted(getFF(list_following_test, accnum))\n",
    "print(list_FF_test == [[0, 4], [2, 4], [3, 5]])"
   ]
  },
  {
   "cell_type": "markdown",
   "metadata": {},
   "source": [
    " `ex2_data_twitter_FollowingList.json` には、実際のTwitterから取得したフォロー関係が、上記の問題文の形式に沿った辞書として保存されています。\n",
    "ある程度大きなファイルである為、<b>上のセルのテストが全て上手く行った後に</b>以下のセルを実行し、実行結果が全て `True` になることを確認して下さい。\n",
    "\n",
    "`getFF` の構成によっては、結果の表示に時間がかかることがあることに注意して下さい。また、「このテストが停止しない」という場合でも誤答になる訳ではありませんが、解答のコードに何らかの改善すべき点があるということは意識する様にして下さい。"
   ]
  },
  {
   "cell_type": "code",
   "execution_count": null,
   "metadata": {},
   "outputs": [],
   "source": [
    "import json\n",
    "if 'dic_FollowingList' not in globals(): \n",
    "    f = open(\"ex2_data_twitter_dic_FollowingList.json\", \"r\", encoding=\"utf-8\")\n",
    "    dic_FollowingList = json.load(f)\n",
    "    f.close()\n",
    "list_FF_test2 = sorted(getFF(dic_FollowingList[\"followinglist\"], dic_FollowingList[\"accnum\"]));f.close()\n",
    "print(len(list_FF_test2)==46847, list_FF_test2[10000]==[658, 949], list_FF_test2[20000]==[1341, 1900], list_FF_test2[30000]==[2161, 3829], list_FF_test2[40000]==[3311, 3314])"
   ]
  },
  {
   "cell_type": "markdown",
   "metadata": {},
   "source": [
    "なお、`ex2_data_twitter_dic_ScrNameToID.json` というファイルには、各アカウントのTwitter上の `screen_name` （Twitter上で表示される一般的なアカウント名）と、この教材において勝手に割り当てたアカウントの通し番号（本課題で用いた値）を保存してあります。具体的には、このファイルには辞書が格納されており、アカウント名 `screen_name` をキー、対応する値としてアカウントの通し番号が格納されています。\n",
    "\n",
    "逆に、`ex2_data_twitter_list_IDToScrName.json` にはリストが保存されており、アカウントの通し番号のインデックスに アカウント名 `screen_name` が格納されています。\n",
    "\n",
    "例えば、東大のアカウント（`UTokyo_News`）も格納されています。"
   ]
  },
  {
   "cell_type": "code",
   "execution_count": null,
   "metadata": {},
   "outputs": [],
   "source": [
    "if 'dic_ScrNameToID' not in globals(): \n",
    "    f = open(\"ex2_data_twitter_dic_ScrNameToID.json\", \"r\", encoding=\"utf-8\")\n",
    "    dic_ScrNameToID = json.load(f)\n",
    "    f.close()\n",
    "print(dic_ScrNameToID[\"UTokyo_News\"])\n",
    "if 'list_IDToScrName' not in globals(): \n",
    "    f = open(\"ex2_data_twitter_list_IDToScrName.json\", \"r\", encoding=\"utf-8\")\n",
    "    list_IDToScrName = json.load(f)\n",
    "    f.close()\n",
    "print(list_IDToScrName[5153])"
   ]
  },
  {
   "cell_type": "markdown",
   "metadata": {},
   "source": [
    "興味があれば、どのアカウント同士が相互にフォローをしているのか `screen_name` を調べてみて下さい。\n",
    "\n",
    "以下は東大のアカウントと相互フォローになっているアカウントです。"
   ]
  },
  {
   "cell_type": "code",
   "execution_count": null,
   "metadata": {},
   "outputs": [],
   "source": [
    "for list1 in list_FF_test2:\n",
    "    if dic_ScrNameToID[\"UTokyo_News\"] in list1:\n",
    "        index1 = 1\n",
    "        if list1[0] != dic_ScrNameToID[\"UTokyo_News\"]:\n",
    "            index1 = 0\n",
    "        print(list1[index1], list_IDToScrName[list1[index1]])"
   ]
  },
  {
   "cell_type": "markdown",
   "metadata": {},
   "source": [
    "実行時間の参考までに、Colaboratoryにおいて模範解答を実行（以下のコードを実行）した場合、`1 loop, best of 10: 2.25 s per loop` (出題者の jupyter notebookでは `2.26 s ± 252 ms per loop (mean ± std. dev. of 10 runs, 1 loop each)`) と表示されました。\n",
    "\n",
    "\n",
    "---\n",
    "```Python\n",
    "%%timeit -r 10 -n 1\n",
    "list_FF_test2 = sorted(getFF(dic_FollowingList[\"followinglist\"], dic_FollowingList[\"accnum\"]))\n",
    "```\n",
    "---\n",
    "\n",
    "なお、セルに `%%timeit -r `（繰り返し回数）`-n`（実行回数）と書くと、当該のセルの（実行回数）回の実行を1セットにして、（繰り返し回数）セット行ったときの平均実行時間と標準偏差を求めることができます。\n",
    "\n"
   ]
  },
  {
   "cell_type": "code",
   "execution_count": null,
   "metadata": {},
   "outputs": [],
   "source": [
    "%%timeit -r 10 -n 1\n",
    "#10回実行しますので大分時間がかかります。#実行が終了しない場合は、「10」の値を減らしてみて下さい。（但し、1以上の整数）\n",
    "list_FF_test2 = sorted(getFF(dic_FollowingList[\"followinglist\"], dic_FollowingList[\"accnum\"]))"
   ]
  },
  {
   "cell_type": "markdown",
   "metadata": {},
   "source": [
    "以下のセルを実行すると解答セルのプログラムの計算量を自動的に評価します。\n",
    "* ローカル環境で解答している人はファイルを保存してから以下のセルをそのまま実行して下さい（このファイルと同じフォルダ内に `utaadevalcpx.py` があることを確認して下さい）。\n",
    "* Colaboratoryを利用している人はセル内部の `str_code_2_5  = '''...'''` の `...` に自分の解答をコピペして下さい（ファイル冒頭のデータのダウンロードを事前に行う必要があります）。\n",
    "`\n",
    "\n",
    "ただし、常に正しい計算量を求められる訳ではありません（<font color=\"red\">正しく求められなかった場合、実際の計算量よりも計算量が少なく求まります</font>）。例えば、以下の様な内容のコードは正しく評価できないことがあります。\n",
    "* 組み込み関数などの名前を別名に変更している\n",
    "* 条件式の使用（例えば、for文中のif文＋`break`など）\n",
    "* while文を使用する\n",
    "\n",
    "この課題の模範解答の時間計算量は<font color=\"white\"> $O(kn)$、もしくは $O(nk\\log k)$ </font>です。（←白黒反転しています）  \n",
    "想像（模範解答）よりも大きな計算量となっている場合、どこに問題があるのか考えてみて下さい。\n",
    "\n",
    "正しく計算量が評価できていないと思った場合、感想などで教えて下さい。"
   ]
  },
  {
   "cell_type": "code",
   "execution_count": null,
   "metadata": {},
   "outputs": [],
   "source": [
    "import utaadevalcpx;dic_varinfo_2_5 = {\"list_following\": [\"list\", set(), {\"n\"}],\"list_following*\": [\"list\", set(), {\"k\"}],}\n",
    "str_code_2_5 = '''...'''\n",
    "utaadevalcpx.evaluateCpx(str_exfilename, \"2-5\", dic_varinfo_2_5, str_code_2_5) # str_exfilenameはファイルの冒頭で定義されています"
   ]
  },
  {
   "cell_type": "markdown",
   "metadata": {},
   "source": [
    "<b>問題の難易度評価：</b>\n",
    "下のセルにこの問の難易度を5段階（1:簡単、2:やや簡単、3:普通、4:やや難しい、5:難しい）で評価して下さい。（次回以降の課題の難易度の調整に使います）\n",
    "また、解答するのにかかった時間や感想などがあれば適宜記載して下さい。"
   ]
  },
  {
   "cell_type": "code",
   "execution_count": null,
   "metadata": {},
   "outputs": [],
   "source": [
    "#難易度（1:簡単、2:やや簡単、3:普通、4:やや難しい、5:難しい）\n",
    "\n",
    "#感想\n"
   ]
  }
 ],
 "metadata": {
  "kernelspec": {
   "display_name": "Python 3",
   "language": "python",
   "name": "python3"
  },
  "language_info": {
   "codemirror_mode": {
    "name": "ipython",
    "version": 3
   },
   "file_extension": ".py",
   "mimetype": "text/x-python",
   "name": "python",
   "nbconvert_exporter": "python",
   "pygments_lexer": "ipython3",
   "version": "3.7.4"
  }
 },
 "nbformat": 4,
 "nbformat_minor": 2
}
