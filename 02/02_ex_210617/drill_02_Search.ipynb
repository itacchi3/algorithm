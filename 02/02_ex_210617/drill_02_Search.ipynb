{
 "cells": [
  {
   "cell_type": "markdown",
   "metadata": {},
   "source": [
    "# 教養としてのアルゴリズムとデータ構造"
   ]
  },
  {
   "cell_type": "markdown",
   "metadata": {},
   "source": [
    "# 探索練習問題"
   ]
  },
  {
   "cell_type": "markdown",
   "metadata": {},
   "source": [
    "## インデックスの取得\n",
    "<a id=\"getIndexQ\" href=\"#getIndexA\">[解答]</a>"
   ]
  },
  {
   "cell_type": "markdown",
   "metadata": {},
   "source": [
    "整数を要素とするリスト `list_num` と整数 `item1` が引数として与えられたとき、`list1` が `item1` を格納している場合には `list_num` において `item1` を格納している<b>最小</b>のインデックスを返す。そうでない場合は `False` を返す関数 `getIndex` を作成して下さい。\n",
    "\n",
    "以下のセルの `...` のところを書き換えて解答して下さい。"
   ]
  },
  {
   "cell_type": "code",
   "execution_count": null,
   "metadata": {},
   "outputs": [],
   "source": [
    "def getIndex(list_num, item1):\n",
    "    ..."
   ]
  },
  {
   "cell_type": "markdown",
   "metadata": {},
   "source": [
    "以下のセルを実行して `True` が出ることを確認して下さい。 "
   ]
  },
  {
   "cell_type": "code",
   "execution_count": null,
   "metadata": {},
   "outputs": [],
   "source": [
    "list1 = [27, 12, 24, 28, 13, 1, 8, 30, 16, 15]\n",
    "item1 = 1\n",
    "print(getIndex(list1, item1)==5)\n",
    "item1 = 5\n",
    "print(getIndex(list1, item1)==False)"
   ]
  },
  {
   "cell_type": "markdown",
   "metadata": {},
   "source": [
    "## インデックスの取得2\n",
    "<a id=\"getIndex2Q\" href=\"#getIndex2A\">[解答]</a>"
   ]
  },
  {
   "cell_type": "markdown",
   "metadata": {},
   "source": [
    "整数を要素とするリスト `list_num` と整数 `item1` が引数として与えられたとき、`list_num` が `item1` を格納している場合には、 `list_num` において  `item1` を格納している全てのインデックスを格納したリスト `list_index` を返す。そうでない場合は空リストを返す関数 `getIndices` を作成して下さい。ただし、リスト `list_index` の要素は昇順に並んでいる必要があります。\n",
    "\n",
    "以下のセルの `...` のところを書き換えて解答して下さい。"
   ]
  },
  {
   "cell_type": "code",
   "execution_count": null,
   "metadata": {},
   "outputs": [],
   "source": [
    "def getIndices(list_num, item1):\n",
    "    ..."
   ]
  },
  {
   "cell_type": "markdown",
   "metadata": {},
   "source": [
    "以下のセルを実行して `True` が出ることを確認して下さい。 "
   ]
  },
  {
   "cell_type": "code",
   "execution_count": null,
   "metadata": {},
   "outputs": [],
   "source": [
    "list1 = [6, 6, 0, 4, 8, 7, 6, 4, 7, 5]\n",
    "print(getIndices(list1, 6) == [0, 1, 6])\n",
    "print(getIndices(list1, 0) == [2])\n",
    "print(getIndices(list1, 2) == [])"
   ]
  },
  {
   "cell_type": "markdown",
   "metadata": {},
   "source": [
    "## 二分挿入ソート\n",
    "<a id=\"BinaryInsertionSortQ\" href=\"#BinaryInsertionSortA\">[解答]</a>"
   ]
  },
  {
   "cell_type": "markdown",
   "metadata": {},
   "source": [
    "数を要素とするリスト `list1` を引数として取り、`list1` を昇順にソートしたリスト `list2` を返す関数 `BinaryInsertionSort` を作成して下さい。ただし、以下の点に注意して解答して下さい。\n",
    "\n",
    "1. `bisect` を使ってソートして下さい。  \n",
    "2. `list1` から順番に要素 `val1` を取り出し、`list2` に二分探索を実行して `val1` を適切な位置に挿入します。\n",
    " * 例えば、`list1` として `[12, 13, 1, 8, 16, 15, 12, 9, 15, 11]` が与えられた場合、まず `12` を `list2` に挿入します。\n",
    " * 次に `list2` に二分探索を用いて `13` を挿入し、`list2` を `[12, 13]` となります。\n",
    " * 更に `list2` に `1` を挿入して `list2` を`[1, 12, 13]` とします。これを `list1` の最後の要素を挿入するまで繰り返します。\n",
    "\n",
    "\n",
    "（この問題は `note_bisect.ipynb` に記載されていた問題を簡単にした？問題です。）\n",
    "\n",
    "以下のセルの `...` のところを書き換えて解答して下さい。"
   ]
  },
  {
   "cell_type": "code",
   "execution_count": null,
   "metadata": {},
   "outputs": [],
   "source": [
    "import bisect\n",
    "def BinaryInsertionSort(list1):\n",
    "    ...\n",
    "    return list2"
   ]
  },
  {
   "cell_type": "markdown",
   "metadata": {},
   "source": [
    "以下のセルを実行して `True` が出ることを確認して下さい。 "
   ]
  },
  {
   "cell_type": "code",
   "execution_count": null,
   "metadata": {},
   "outputs": [],
   "source": [
    "list_test1 = [12, 13, 1, 8, 16, 15, 12, 9, 15, 11]\n",
    "print(BinaryInsertionSort(list_test1)==[1, 8, 9, 11, 12, 12, 13, 15, 15, 16])"
   ]
  },
  {
   "cell_type": "code",
   "execution_count": null,
   "metadata": {},
   "outputs": [],
   "source": []
  },
  {
   "cell_type": "code",
   "execution_count": null,
   "metadata": {},
   "outputs": [],
   "source": []
  },
  {
   "cell_type": "code",
   "execution_count": null,
   "metadata": {},
   "outputs": [],
   "source": []
  },
  {
   "cell_type": "markdown",
   "metadata": {},
   "source": [
    "## 練習問題の解答"
   ]
  },
  {
   "cell_type": "markdown",
   "metadata": {},
   "source": [
    "### インデックスの取得（解答）\n",
    "<a id=\"getIndexA\" href=\"#getIndexQ\">[問]</a>"
   ]
  },
  {
   "cell_type": "markdown",
   "metadata": {},
   "source": [
    "`index`メソッドを使わずに解答すると次の様になります。"
   ]
  },
  {
   "cell_type": "code",
   "execution_count": null,
   "metadata": {},
   "outputs": [],
   "source": [
    "def getIndex(list_num, item1):\n",
    "    for index1, val in enumerate(list_num):\n",
    "        if val == item1:\n",
    "            return index1\n",
    "    return False"
   ]
  },
  {
   "cell_type": "markdown",
   "metadata": {},
   "source": [
    "`index`メソッドを使う場合、`list1` が `item1` を含んでいない場合が厄介です。"
   ]
  },
  {
   "cell_type": "code",
   "execution_count": null,
   "metadata": {},
   "outputs": [],
   "source": [
    "list1 = [27, 12, 24, 28, 13, 1, 8, 30, 16, 15]\n",
    "item1 = 5\n",
    "list1.index(item1)"
   ]
  },
  {
   "cell_type": "markdown",
   "metadata": {},
   "source": [
    "そこで`index`メソッドを使った場合、次の様に解答する方法が考えられます。"
   ]
  },
  {
   "cell_type": "code",
   "execution_count": null,
   "metadata": {},
   "outputs": [],
   "source": [
    "def getIndex2(list_num, item1):\n",
    "    if item1 in list_num: # 地獄の様に遅い可能性がある線形探索＝計算量O(n)\n",
    "        return list_num.index(item1)\n",
    "    return False"
   ]
  },
  {
   "cell_type": "code",
   "execution_count": null,
   "metadata": {},
   "outputs": [],
   "source": [
    "def getIndex3(list_num, item1):\n",
    "    if list_num.count(item1) > 0: # こちらも地獄の様に遅い可能性がある線形探索＝計算量O(n)\n",
    "        return list_num.index(item1)\n",
    "    return False"
   ]
  },
  {
   "cell_type": "markdown",
   "metadata": {},
   "source": [
    "`try` と `except` を知っている場合は次の様にエラーを回避できます。"
   ]
  },
  {
   "cell_type": "code",
   "execution_count": null,
   "metadata": {},
   "outputs": [],
   "source": [
    "def getIndex4(list_num, item1):\n",
    "    try:\n",
    "        return list_num.index(item1)\n",
    "    except ValueError:\n",
    "        return False"
   ]
  },
  {
   "cell_type": "markdown",
   "metadata": {},
   "source": [
    "アルゴリズムとデータ構造分野の伝統的な方法として**番兵 (Sentinel)** という値を用いる手法があります。\n",
    "\n",
    "探索する配列（ここでは `list_num`）の最後尾に事前に特殊な値（番兵）を入れておくことで、探索中に今調べている要素が配列の最後尾かどうかを判定する手間を省く手法です。\n",
    "\n",
    "今回は最後尾かどうかを調べる訳ではありませんが、探している値 `item1` を番兵として用いることで `index`メソッドが効果的に働きます。"
   ]
  },
  {
   "cell_type": "code",
   "execution_count": null,
   "metadata": {},
   "outputs": [],
   "source": [
    "def getIndexSentinel(list_num, item1):\n",
    "    list_num.append(item1) #番兵を追加\n",
    "    index1 = list_num.index(item1) #エラーが出ない\n",
    "    if index1 < len(list_num)-1:\n",
    "        return index1\n",
    "    return False"
   ]
  },
  {
   "cell_type": "markdown",
   "metadata": {},
   "source": [
    "実行時間を比較してみます。"
   ]
  },
  {
   "cell_type": "code",
   "execution_count": null,
   "metadata": {},
   "outputs": [],
   "source": [
    "#時間計測用リスト作成\n",
    "import random\n",
    "random.seed(a=0)\n",
    "maxval = 100000\n",
    "size = 100000\n",
    "list_test1 = [random.randint(0, maxval) for _ in range(size)]\n",
    "size2 = 100\n",
    "list_item = [random.randint(0, maxval) for _ in range(size2)]"
   ]
  },
  {
   "cell_type": "code",
   "execution_count": null,
   "metadata": {},
   "outputs": [],
   "source": [
    "%%timeit -n 3 -r 3\n",
    "#for文\n",
    "for item1 in list_item:\n",
    "    getIndex(list_test1, item1)"
   ]
  },
  {
   "cell_type": "code",
   "execution_count": null,
   "metadata": {},
   "outputs": [],
   "source": [
    "%%timeit -n 3 -r 3\n",
    "#indexメソッド+線形探索\n",
    "for item1 in list_item:\n",
    "    getIndex2(list_test1, item1)"
   ]
  },
  {
   "cell_type": "code",
   "execution_count": null,
   "metadata": {},
   "outputs": [],
   "source": [
    "%%timeit -n 3 -r 3\n",
    "#indexメソッド+count(線形探索)\n",
    "for item1 in list_item:\n",
    "    getIndex3(list_test1, item1)"
   ]
  },
  {
   "cell_type": "code",
   "execution_count": null,
   "metadata": {},
   "outputs": [],
   "source": [
    "%%timeit -n 3 -r 3\n",
    "#try&except\n",
    "for item1 in list_item:\n",
    "    getIndex4(list_test1, item1)"
   ]
  },
  {
   "cell_type": "code",
   "execution_count": null,
   "metadata": {},
   "outputs": [],
   "source": [
    "%%timeit -n 3 -r 3\n",
    "#番兵\n",
    "for item1 in list_item:\n",
    "    getIndexSentinel(list_test1, item1)"
   ]
  },
  {
   "cell_type": "markdown",
   "metadata": {},
   "source": [
    "可視化してみます。"
   ]
  },
  {
   "cell_type": "code",
   "execution_count": null,
   "metadata": {},
   "outputs": [],
   "source": [
    "%matplotlib inline\n",
    "import random, time, matplotlib.pyplot as plt\n",
    "#時間を計測する関数\n",
    "def getSearchTimes_averageTemperatures(list_lists, list_func):\n",
    "    #list_x1, list_ysを初期化\n",
    "    list_x1 = [];list_ys = []\n",
    "    for i in range(len(list_lists)):\n",
    "        #list_x1の値を格納\n",
    "        list1 = list_lists[i]\n",
    "        list_x1.append(len(list1))\n",
    "        # list_ysに格納する各探索結果を格納するリスト\n",
    "        list_y1 = []\n",
    "        for func1 in list_func:\n",
    "            time_init = time.time()\n",
    "            func1(list_lists[i])\n",
    "            list_y1.append(time.time() - time_init)\n",
    "        list_ys.append(list_y1)\n",
    "    return list_x1, list_ys\n",
    "#結果（計測した時間）を描画\n",
    "def drawResultTimes_averageTemperatures(list_x, list_ys, list_f, listnum):\n",
    "    list_searchname = [\"model\", \"slice+sum\", \"range\", \"slice+sum+comp\", \"range+comp\", \"model2\", \"deque\"]\n",
    "    list_color = [\"lightskyblue\", \"orange\", \"green\", \"red\", \"pink\", \"blue\", \"purple\"]\n",
    "    plt.figure(figsize=(20, 10))\n",
    "    for i in range(len(list_ys[0])):\n",
    "        if list_f[i] is False:\n",
    "            continue\n",
    "        list_y = []\n",
    "        for j in range(listnum):\n",
    "            list_y.append(list_ys[j][i])\n",
    "        plt.plot(list_x, list_y, color=list_color[i], label=list_searchname[i]) \n",
    "    plt.legend();\n",
    "#テスト用データのリストを作成\n",
    "def constructLists_averageTemperatures(itemunitnum, listnum):\n",
    "    random.seed(a=0)\n",
    "    list_lists = []\n",
    "    list_items = []\n",
    "    for i in range(listnum):\n",
    "        listsize = itemunitnum*(i+1)\n",
    "        #探索されるデータを格納したリスト\n",
    "        list1 = [random.randint(-10, 30) for _ in range(listsize)]\n",
    "        list_lists.append(list1)\n",
    "    return list_lists\n",
    "#各関数の時間を計測する\n",
    "itemunitnum1 = 100000; listnum1 = 10 #データ数と繰り返し回数を設定\n",
    "list_func = [getIndex, getIndex2, getIndex3, getIndex4, getIndexSentinel]\n",
    "list_lists1 = constructLists_averageTemperatures(itemunitnum1, listnum1) #テスト用データのリストを作成\n",
    "list_x1, list_ys1 = getSearchTimes_averageTemperatures(list_lists1, list_func) #実行時間を計測する\n",
    "drawResultTimes_averageTemperatures(list_x1, list_ys1, [True]*7, listnum1) #結果（計測した時間）を描画"
   ]
  },
  {
   "cell_type": "markdown",
   "metadata": {},
   "source": [
    "### インデックスの取得2（解答）\n",
    "\n",
    "<a id=\"getIndex2A\" href=\"#getIndex2Q\">[問]</a>"
   ]
  },
  {
   "cell_type": "markdown",
   "metadata": {},
   "source": [
    "`index`メソッドを使わずに解答すると次の様になります。"
   ]
  },
  {
   "cell_type": "code",
   "execution_count": null,
   "metadata": {},
   "outputs": [],
   "source": [
    "def getIndices(list_num, item1):\n",
    "    list_index = []\n",
    "    for index1, val in enumerate(list_num):\n",
    "        if val == item1:\n",
    "            list_index.append(index1)\n",
    "    return list_index"
   ]
  },
  {
   "cell_type": "markdown",
   "metadata": {},
   "source": [
    "`index`メソッドを使う。"
   ]
  },
  {
   "cell_type": "code",
   "execution_count": null,
   "metadata": {},
   "outputs": [],
   "source": [
    "def getIndices2(list_num, item1):\n",
    "    list_index = []\n",
    "    index1 = 0\n",
    "    while(True):\n",
    "        if item1 in list_num[index1:]: # 地獄の様に遅い可能性がある線形探索＋スライス＝計算量O(n)\n",
    "            index1 = list_num.index(item1, index1) #第2引数で探索する開始位置のインデックスを指定する\n",
    "            list_index.append(index1)\n",
    "            index1 += 1\n",
    "        else:\n",
    "            return list_index"
   ]
  },
  {
   "cell_type": "code",
   "execution_count": null,
   "metadata": {},
   "outputs": [],
   "source": [
    "def getIndices3(list_num, item1):\n",
    "    list_index = []\n",
    "    index1 = 0\n",
    "    while(True):\n",
    "        if list_num[index1:].count(item1) > 0: # count＋スライス＝計算量O(n)\n",
    "            index1 = list_num.index(item1, index1) #第2引数で探索する開始位置のインデックスを指定する\n",
    "            list_index.append(index1)\n",
    "            index1 += 1\n",
    "        else:\n",
    "            return list_index"
   ]
  },
  {
   "cell_type": "code",
   "execution_count": null,
   "metadata": {},
   "outputs": [],
   "source": [
    "def getIndices4(list_num, item1):\n",
    "    list_index = []\n",
    "    index1 = 0\n",
    "    while(True):\n",
    "        try:\n",
    "            index1 = list_num.index(item1, index1) #第2引数で探索する開始位置のインデックスを指定する\n",
    "            list_index.append(index1)\n",
    "            index1 += 1\n",
    "        except ValueError:\n",
    "            return list_index"
   ]
  },
  {
   "cell_type": "markdown",
   "metadata": {},
   "source": [
    "番兵を使う。"
   ]
  },
  {
   "cell_type": "code",
   "execution_count": null,
   "metadata": {},
   "outputs": [],
   "source": [
    "def getIndicesSentinel(list_num, item1):\n",
    "    list_num.append(item1) #番兵を追加\n",
    "    list_index = []\n",
    "    index1 = 0\n",
    "    while(index1 < len(list_num)):\n",
    "        index1 = list_num.index(item1, index1) #第2引数で探索する開始位置のインデックスを指定する\n",
    "        list_index.append(index1)\n",
    "        index1 += 1\n",
    "    list_index.pop() #番兵を削除\n",
    "    return list_index"
   ]
  },
  {
   "cell_type": "markdown",
   "metadata": {},
   "source": [
    "実行時間を比較してみます。"
   ]
  },
  {
   "cell_type": "code",
   "execution_count": null,
   "metadata": {},
   "outputs": [],
   "source": [
    "#時間計測用リスト作成\n",
    "import random\n",
    "random.seed(a=0)\n",
    "maxval = 100000\n",
    "size = 100000\n",
    "list_test1 = [random.randint(0, maxval) for _ in range(size)]\n",
    "size2 = 100\n",
    "list_item = [random.randint(0, maxval) for _ in range(size2)]"
   ]
  },
  {
   "cell_type": "code",
   "execution_count": null,
   "metadata": {},
   "outputs": [],
   "source": [
    "%%timeit -n 3 -r 3\n",
    "#for文\n",
    "for item1 in list_item:\n",
    "    getIndices(list_test1, item1)"
   ]
  },
  {
   "cell_type": "code",
   "execution_count": null,
   "metadata": {},
   "outputs": [],
   "source": [
    "%%timeit -n 3 -r 3\n",
    "#indexメソッド+線形探索＋スライス\n",
    "for item1 in list_item:\n",
    "    getIndices2(list_test1, item1)"
   ]
  },
  {
   "cell_type": "code",
   "execution_count": null,
   "metadata": {},
   "outputs": [],
   "source": [
    "%%timeit -n 3 -r 3\n",
    "#indexメソッド+count(線形探索)＋スライス\n",
    "for item1 in list_item:\n",
    "    getIndices3(list_test1, item1)"
   ]
  },
  {
   "cell_type": "code",
   "execution_count": null,
   "metadata": {},
   "outputs": [],
   "source": [
    "%%timeit -n 3 -r 3\n",
    "#try&except\n",
    "for item1 in list_item:\n",
    "    getIndices4(list_test1, item1)"
   ]
  },
  {
   "cell_type": "code",
   "execution_count": null,
   "metadata": {},
   "outputs": [],
   "source": [
    "%%timeit -n 3 -r 3\n",
    "#番兵\n",
    "for item1 in list_item:\n",
    "    getIndicesSentinel(list_test1, item1)"
   ]
  },
  {
   "cell_type": "markdown",
   "metadata": {},
   "source": [
    "### 二分挿入ソート（解答）\n",
    "<a id=\"BinaryInsertionSortA\" href=\"#BinaryInsertionSortQ\">[問]</a>"
   ]
  },
  {
   "cell_type": "markdown",
   "metadata": {},
   "source": [
    "解答 `BinaryInsertionSort` はソート済みのリスト (`list2`) に、挿入後もリスト `list2` がソート済みである様に要素（数）を挿入する操作を繰り返すソート方法になっています。これは**二分挿入ソート**と呼ばれるソートになっています。"
   ]
  },
  {
   "cell_type": "code",
   "execution_count": null,
   "metadata": {},
   "outputs": [],
   "source": [
    "import bisect\n",
    "def BinaryInsertionSort(list1):\n",
    "    list2 = []\n",
    "    for item1 in list1:\n",
    "        insert_index = bisect.bisect_left(list2, item1)\n",
    "        list2.insert(insert_index, item1)\n",
    "    return list2"
   ]
  },
  {
   "cell_type": "markdown",
   "metadata": {},
   "source": [
    "当然、この二分挿入ソートは `sort`メソッドや `sorted` よりも遅くなります。"
   ]
  },
  {
   "cell_type": "code",
   "execution_count": null,
   "metadata": {},
   "outputs": [],
   "source": []
  }
 ],
 "metadata": {
  "kernelspec": {
   "display_name": "Python 3",
   "language": "python",
   "name": "python3"
  },
  "language_info": {
   "codemirror_mode": {
    "name": "ipython",
    "version": 3
   },
   "file_extension": ".py",
   "mimetype": "text/x-python",
   "name": "python",
   "nbconvert_exporter": "python",
   "pygments_lexer": "ipython3",
   "version": "3.7.4"
  }
 },
 "nbformat": 4,
 "nbformat_minor": 2
}
