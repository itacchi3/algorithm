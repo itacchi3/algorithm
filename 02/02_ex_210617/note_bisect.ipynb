{
 "cells": [
  {
   "cell_type": "markdown",
   "metadata": {},
   "source": [
    "# 教養としてのアルゴリズムとデータ構造\n",
    "\n",
    "二分探索を実現するモジュール `bisect` について説明します。\n",
    "\n",
    "参考\n",
    "\n",
    "- https://docs.python.org/ja/3/library/bisect.html\n",
    "\n",
    "▲の内容は発展的な内容で、必修ではありません。"
   ]
  },
  {
   "cell_type": "markdown",
   "metadata": {},
   "source": [
    "# 二分探索\n",
    "\n",
    "Pythonにおいて二分探索を扱うには `bisect` というモジュールを使います。"
   ]
  },
  {
   "cell_type": "code",
   "execution_count": 2,
   "metadata": {},
   "outputs": [],
   "source": [
    "import bisect"
   ]
  },
  {
   "cell_type": "markdown",
   "metadata": {},
   "source": [
    "## 二分探索の実行\n",
    "\n",
    "二分探索を行うには<b>昇順に整列されているリスト</b>が必要です。その様なリストに対して二分探索を行うには、関数 **`bisect_left`** を用います。\n",
    "\n",
    "`bisect_left` は昇順に整列されているリスト `リストA` に要素 `要素B` が含まれていれば、そのインデックスを返します。\n",
    "\n",
    "---\n",
    "```Python\n",
    "bisect.bisect_left(リストA, 要素B)\n",
    "```\n",
    "---"
   ]
  },
  {
   "cell_type": "code",
   "execution_count": 3,
   "metadata": {},
   "outputs": [
    {
     "output_type": "stream",
     "name": "stdout",
     "text": [
      "3\n"
     ]
    }
   ],
   "source": [
    "list1 = [1, 3, 5, 7, 9, 11, 13, 15, 17, 19]\n",
    "item1 = 7\n",
    "insert_index = bisect.bisect_left(list1, item1)\n",
    "print(insert_index)"
   ]
  },
  {
   "cell_type": "markdown",
   "metadata": {},
   "source": [
    "実は厳密には `bisect_left` は「`要素B` を `リストA` に挿入した後でも（`要素B` を含む） `リストA` の要素が昇順となる様な `要素B` を挿入するべき位置のインデックスの値」を返します。\n",
    "\n",
    "例えば、 `要素B` が `リストA` の中に含まれていない場合は次の様になります。"
   ]
  },
  {
   "cell_type": "code",
   "execution_count": 4,
   "metadata": {},
   "outputs": [
    {
     "output_type": "stream",
     "name": "stdout",
     "text": [
      "2\n"
     ]
    }
   ],
   "source": [
    "list1 = [1, 3, 5, 7, 9, 11, 13, 15, 17, 19]\n",
    "item1 = 4\n",
    "insert_index = bisect.bisect_left(list1, item1)\n",
    "print(insert_index) # 3（インデックス1の値）と5（インデックス2の値）の間に挿入するべき"
   ]
  },
  {
   "cell_type": "code",
   "execution_count": null,
   "metadata": {},
   "outputs": [],
   "source": [
    "list1 = [1, 3, 5, 7, 9, 11, 13, 15, 17, 19]\n",
    "item1 = 21\n",
    "insert_index = bisect.bisect_left(list1, item1)\n",
    "print(insert_index) # 19（インデックス9）の後ろに挿入するべき"
   ]
  },
  {
   "cell_type": "markdown",
   "metadata": {},
   "source": [
    "そのため、 `リストA` に `要素B` が含まれているかどうか調べるには、一般に返り値を使って `リストA` の値を調べますが、前例の様にリストの長さの値が返ることがあるので注意して下さい。"
   ]
  },
  {
   "cell_type": "code",
   "execution_count": 5,
   "metadata": {},
   "outputs": [
    {
     "output_type": "stream",
     "name": "stdout",
     "text": [
      "7 True\n4 False\n0 False\n"
     ]
    },
    {
     "output_type": "error",
     "ename": "IndexError",
     "evalue": "list index out of range",
     "traceback": [
      "\u001b[0;31m---------------------------------------------------------------------------\u001b[0m",
      "\u001b[0;31mIndexError\u001b[0m                                Traceback (most recent call last)",
      "\u001b[0;32m<ipython-input-5-34370ae959f7>\u001b[0m in \u001b[0;36m<module>\u001b[0;34m\u001b[0m\n\u001b[1;32m     28\u001b[0m \u001b[0minsert_index\u001b[0m \u001b[0;34m=\u001b[0m \u001b[0mbisect\u001b[0m\u001b[0;34m.\u001b[0m\u001b[0mbisect_left\u001b[0m\u001b[0;34m(\u001b[0m\u001b[0mlist1\u001b[0m\u001b[0;34m,\u001b[0m \u001b[0mitem1\u001b[0m\u001b[0;34m)\u001b[0m\u001b[0;34m\u001b[0m\u001b[0;34m\u001b[0m\u001b[0m\n\u001b[1;32m     29\u001b[0m \u001b[0;31m#リストに含まれているかどうか調べる→エラー\u001b[0m\u001b[0;34m\u001b[0m\u001b[0;34m\u001b[0m\u001b[0;34m\u001b[0m\u001b[0m\n\u001b[0;32m---> 30\u001b[0;31m \u001b[0;32mif\u001b[0m \u001b[0mlist1\u001b[0m\u001b[0;34m[\u001b[0m\u001b[0minsert_index\u001b[0m\u001b[0;34m]\u001b[0m \u001b[0;34m==\u001b[0m \u001b[0mitem1\u001b[0m\u001b[0;34m:\u001b[0m\u001b[0;34m\u001b[0m\u001b[0;34m\u001b[0m\u001b[0m\n\u001b[0m\u001b[1;32m     31\u001b[0m     \u001b[0mprint\u001b[0m\u001b[0;34m(\u001b[0m\u001b[0mitem1\u001b[0m\u001b[0;34m,\u001b[0m \u001b[0;32mTrue\u001b[0m\u001b[0;34m)\u001b[0m\u001b[0;34m\u001b[0m\u001b[0;34m\u001b[0m\u001b[0m\n\u001b[1;32m     32\u001b[0m \u001b[0;32melse\u001b[0m\u001b[0;34m:\u001b[0m\u001b[0;34m\u001b[0m\u001b[0;34m\u001b[0m\u001b[0m\n",
      "\u001b[0;31mIndexError\u001b[0m: list index out of range"
     ]
    }
   ],
   "source": [
    "list1 = [1, 3, 5, 7, 9, 11, 13, 15, 17, 19]\n",
    "#リストに含まれている値の例\n",
    "item1 = 7\n",
    "insert_index = bisect.bisect_left(list1, item1)\n",
    "#リストに含まれているかどうか調べる\n",
    "if list1[insert_index] == item1:\n",
    "    print(item1, True)\n",
    "else:\n",
    "    print(item1, False)\n",
    "#リストに含まれていない値の例\n",
    "item1 = 4\n",
    "insert_index = bisect.bisect_left(list1, item1)\n",
    "#リストに含まれているかどうか調べる\n",
    "if list1[insert_index] == item1:\n",
    "    print(item1, True)\n",
    "else:\n",
    "    print(item1, False)\n",
    "#リストに含まれていない値の例\n",
    "item1 = 0\n",
    "insert_index = bisect.bisect_left(list1, item1)\n",
    "#リストに含まれているかどうか調べる\n",
    "if list1[insert_index] == item1:\n",
    "    print(item1, True)\n",
    "else:\n",
    "    print(item1, False)\n",
    "#リストに含まれていない値の例（リストの長さの値が返ってくる例）\n",
    "item1 = 20\n",
    "insert_index = bisect.bisect_left(list1, item1)\n",
    "#リストに含まれているかどうか調べる→エラー\n",
    "if list1[insert_index] == item1:\n",
    "    print(item1, True)\n",
    "else:\n",
    "    print(item1, False)"
   ]
  },
  {
   "cell_type": "markdown",
   "metadata": {},
   "source": [
    " `リストA` の中に `要素B` の値が複数個含まれている場合は一番小さいインデックスの値を返します。"
   ]
  },
  {
   "cell_type": "code",
   "execution_count": null,
   "metadata": {},
   "outputs": [],
   "source": [
    "list1 = [0, 1, 1, 2, 2, 2, 3, 4, 4, 6, 7, 7]\n",
    "item1 = 2\n",
    "insert_index = bisect.bisect_left(list1, item1)\n",
    "print(insert_index)"
   ]
  },
  {
   "cell_type": "markdown",
   "metadata": {},
   "source": [
    " `リストA` が<b>昇順に整列していない場合には正しい結果が得られない</b>ので注意して下さい。"
   ]
  },
  {
   "cell_type": "code",
   "execution_count": null,
   "metadata": {},
   "outputs": [],
   "source": [
    "import random\n",
    "random.seed(a=0)\n",
    "list1 = [random.randint(0, 10) for i in range(10)]\n",
    "print(list1)\n",
    "item1 = 2\n",
    "insert_index = bisect.bisect_left(list1, item1)\n",
    "print(insert_index)"
   ]
  },
  {
   "cell_type": "markdown",
   "metadata": {},
   "source": [
    "降順に整列してあったとしてもやはり正しい結果は得られません。"
   ]
  },
  {
   "cell_type": "code",
   "execution_count": null,
   "metadata": {},
   "outputs": [],
   "source": [
    "list1 = [1, 3, 5, 7, 9, 11, 13, 15, 17, 19]\n",
    "list1.sort(reverse=True) # 降順に並べ替える\n",
    "print(list1)\n",
    "item1 = 11\n",
    "insert_index = bisect.bisect_left(list1, item1)\n",
    "print(insert_index)"
   ]
  },
  {
   "cell_type": "markdown",
   "metadata": {},
   "source": [
    "昇順に整列されていない場合は、 `sorted` 関数や `sort` メソッドなどで整列してから利用する様にしましょう。"
   ]
  },
  {
   "cell_type": "code",
   "execution_count": null,
   "metadata": {},
   "outputs": [],
   "source": [
    "import random\n",
    "random.seed(0)\n",
    "list1 = [random.randint(0, 10) for i in range(10)]\n",
    "print(list1)\n",
    "list1 = sorted(list1) # 並べ替え：list1.sort()などでも可\n",
    "print(list1)\n",
    "item1 = 2\n",
    "insert_index = bisect.bisect_left(list1, item1)\n",
    "print(insert_index)"
   ]
  },
  {
   "cell_type": "markdown",
   "metadata": {},
   "source": [
    "参考までに `bisect_right` という関数もあります。`bisect_right` は `リストA` の中に `要素B` の値が含まれている場合、その値のインデックスの1つ大きい値を返します。また、`要素B` の値が含まれていない場合、その値を挿入するべきインデックスを返すのは `bisect_left` と同じです。 \n",
    "\n",
    "---\n",
    "```Python\n",
    "bisect.bisect_right(リストA, 要素B)\n",
    "```\n",
    "---"
   ]
  },
  {
   "cell_type": "code",
   "execution_count": null,
   "metadata": {},
   "outputs": [],
   "source": [
    "list1 = [1, 3, 5, 7, 9, 11, 13, 15, 17, 19]\n",
    "item1 = 7\n",
    "insert_index = bisect.bisect_right(list1, item1)\n",
    "print(insert_index)\n",
    "item1 = 6\n",
    "insert_index = bisect.bisect_right(list1, item1)\n",
    "print(insert_index)"
   ]
  },
  {
   "cell_type": "markdown",
   "metadata": {},
   "source": [
    " `bisect_right` は `リストA` の中に `要素B` の値が複数個含まれている場合でも一番大きいインデックスの値より1つ大きい値を返します。"
   ]
  },
  {
   "cell_type": "code",
   "execution_count": null,
   "metadata": {},
   "outputs": [],
   "source": [
    "list1 = [0, 1, 1, 2, 2, 2, 3, 4, 4, 6, 7, 7]\n",
    "item1 = 2\n",
    "insert_index = bisect.bisect_right(list1, item1)\n",
    "print(insert_index)"
   ]
  },
  {
   "cell_type": "markdown",
   "metadata": {},
   "source": [
    "## ▲部分リストの二分探索\n",
    "\n",
    "リストの特定の範囲だけを二分探索することも可能です。\n",
    "\n",
    "`リストA` のインデックス `left1` から、`right1+1` の範囲のみを探索したい場合は次の様に実行します。\n",
    "\n",
    "---\n",
    "```Python\n",
    "bisect.bisect_right(リストA, 要素B, left1, right1)\n",
    "```\n",
    "---\n",
    "\n",
    "もしくは\n",
    "\n",
    "---\n",
    "```Python\n",
    "bisect.bisect_right(リストA, 要素B, lo=left1, hi=right1)\n",
    "```\n",
    "---\n"
   ]
  },
  {
   "cell_type": "code",
   "execution_count": null,
   "metadata": {},
   "outputs": [],
   "source": [
    "list1 = [1, 3, 5, 7, 9, 11, 13, 15, 17, 19]\n",
    "item1 = 8\n",
    "insert_index = bisect.bisect_right(list1, item1, 2, 5)\n",
    "print(insert_index)\n",
    "insert_index = bisect.bisect_right(list1, item1, lo=2, hi=5)\n",
    "print(insert_index)"
   ]
  },
  {
   "cell_type": "code",
   "execution_count": null,
   "metadata": {},
   "outputs": [],
   "source": [
    "list1 = [1, 3, 5, 7, 9, 11, 13, 15, 17, 19]\n",
    "item1 = 0\n",
    "insert_index = bisect.bisect_right(list1, item1, 2, 5)\n",
    "print(insert_index)\n",
    "item1 = 20\n",
    "insert_index = bisect.bisect_right(list1, item1, 2, 5)\n",
    "print(insert_index)"
   ]
  },
  {
   "cell_type": "markdown",
   "metadata": {},
   "source": [
    "リストの一部を探索する場合、スライスを作成してから二分探索を実行したくなります。"
   ]
  },
  {
   "cell_type": "code",
   "execution_count": null,
   "metadata": {},
   "outputs": [],
   "source": [
    "list1 = [1, 3, 5, 7, 9, 11, 13, 15, 17, 19]\n",
    "sublist1 = list1[2:5] # スライスで部分リストを作成する\n",
    "item1 = 8\n",
    "insert_index = bisect.bisect_right(sublist1, item1)\n",
    "print(insert_index)"
   ]
  },
  {
   "cell_type": "markdown",
   "metadata": {},
   "source": [
    "しかし、スライスはリストを複製しますのでその分余計な時間がかかってしまいます。比較してみましょう"
   ]
  },
  {
   "cell_type": "code",
   "execution_count": null,
   "metadata": {},
   "outputs": [],
   "source": [
    "import random\n",
    "random.seed(a=0)\n",
    "size1 = 1000 # テスト用リストサイズ\n",
    "list1 = list(range(size1)) # テスト用リスト作成\n",
    "num1 = 100 # テスト回数\n",
    "item1 = random.randint(0, size1) # 探索する値を適当に決める（固定）\n",
    "list_leftright = [sorted([random.randint(0, size1), random.randint(0, size1)]) for _ in range(num1)] #探索対称の部分リストの範囲を作成"
   ]
  },
  {
   "cell_type": "code",
   "execution_count": null,
   "metadata": {},
   "outputs": [],
   "source": [
    "%%timeit -n 10 -r 10\n",
    "# スライスを使用しない\n",
    "for left1, right1 in list_leftright:\n",
    "    insert_index = bisect.bisect_right(list1, item1, left1, right1)"
   ]
  },
  {
   "cell_type": "code",
   "execution_count": null,
   "metadata": {},
   "outputs": [],
   "source": [
    "%%timeit -n 10 -r 10\n",
    "# スライスを使用する\n",
    "for left1, right1 in list_leftright:\n",
    "    insert_index = bisect.bisect_right(list1[left1: right1], item1)"
   ]
  },
  {
   "cell_type": "markdown",
   "metadata": {},
   "source": [
    "## 多重リストの二分探索\n",
    "\n",
    "リストを要素とするリスト（多重リスト）に対しても二分探索を実行することが出来ます。\n",
    "\n",
    "この場合もリストを予め昇順に整列しておく必要があります。"
   ]
  },
  {
   "cell_type": "code",
   "execution_count": null,
   "metadata": {},
   "outputs": [],
   "source": [
    "list1 = [[20, 3], [100, 21], [20, 7], [20, 9], [40, 10], [10, 5], [50, 13], [40, 15]]\n",
    "list1.sort()\n",
    "print(list1)\n",
    "item1 = 3\n",
    "index1 = bisect.bisect_left(list1, [item1, 2])\n",
    "print(\"リスト [\", item1, \", 2] をlist1に挿入するべきインデックスの値：\", index1)\n",
    "item1 = 15\n",
    "index1 = bisect.bisect_left(list1, [item1, 10])\n",
    "print(\"リスト [\", item1, \", 10] をlist1に挿入するべきインデックスの値：\", index1)\n",
    "item1 = 20\n",
    "index1 = bisect.bisect_left(list1, [item1, 0])\n",
    "print(\"リスト [\", item1, \", 0] をlist1に挿入するべきインデックスの値：\", index1)\n",
    "item1 = 20\n",
    "index1 = bisect.bisect_left(list1, [item1, 8])\n",
    "print(\"リスト [\", item1, \", 8] をlist1に挿入するべきインデックスの値：\", index1)\n",
    "item1 = 40\n",
    "index1 = bisect.bisect_left(list1, [item1, 30])\n",
    "print(\"リスト [\", item1, \", 30] をlist1に挿入するべきインデックスの値：\", index1)\n",
    "item1 = 105\n",
    "index1 = bisect.bisect_left(list1, [item1, 2])\n",
    "print(\"リスト [\", item1, \", 2] をlist1に挿入するべきインデックスの値：\", index1)"
   ]
  },
  {
   "cell_type": "markdown",
   "metadata": {},
   "source": [
    "多重リストを `sort` や `sorted` で整列した場合、後ろの要素から順に整列を行った順序になることに注意して下さい。\n",
    "\n",
    "上のセルで扱ったリスト `list1 = [[20, 3], [100, 21], [20, 7], [20, 9], [40, 10], [10, 5], [50, 13], [40, 15]] ` だと、まず第2要素 (`3`, `21`, `7`, `9`, `10`, `5`, `13`, `15`) の小さい順にリスト `list1` の要素を整列した後に、第1要素の小さい順にリストを整列します。\n",
    "\n",
    "そして `bisect_left` や `bisect_right` はその順序に従って返す値（挿入するべきインデックスの値）を計算します。"
   ]
  },
  {
   "cell_type": "markdown",
   "metadata": {},
   "source": [
    "## ▲要素の挿入\n",
    "\n",
    "昇順に整列されているリストに対して二分探索を行ったあと、対象の要素を挿入するには、関数 **`insort_left`** を用います。\n",
    "\n",
    "`insort_left` は昇順に整列されているリスト `リストA` に要素 `要素B` を挿入します。\n",
    "\n",
    "この関数は破壊的です。\n",
    "\n",
    "---\n",
    "```Python\n",
    "bisect.insort_left(リストA, 要素B)\n",
    "```\n",
    "---"
   ]
  },
  {
   "cell_type": "code",
   "execution_count": null,
   "metadata": {},
   "outputs": [],
   "source": [
    "list1 = [1, 3, 5, 7, 9, 11, 13, 15, 17, 19]\n",
    "item1 = 7\n",
    "bisect.insort_left(list1, item1)\n",
    "print(list1)\n",
    "item1 = 6\n",
    "bisect.insort_left(list1, item1)\n",
    "print(list1)"
   ]
  },
  {
   "cell_type": "markdown",
   "metadata": {},
   "source": [
    "`insort_left` は `bisect_left` とリストのメソッド `insert` を合わせて用いた場合と同じ結果になります。"
   ]
  },
  {
   "cell_type": "code",
   "execution_count": null,
   "metadata": {},
   "outputs": [],
   "source": [
    "list1 = [1, 3, 5, 7, 9, 11, 13, 15, 17, 19]\n",
    "item1 = 7\n",
    "insert_index = bisect.bisect_left(list1, item1)\n",
    "list1.insert(insert_index, item1)\n",
    "print(list1)\n",
    "item1 = 6\n",
    "insert_index = bisect.bisect_left(list1, item1)\n",
    "list1.insert(insert_index, item1)\n",
    "print(list1)"
   ]
  },
  {
   "cell_type": "markdown",
   "metadata": {},
   "source": [
    "`bisect_right` に対応する **`insort_right`** も使用可能です。この関数も破壊的です。\n",
    "\n",
    "---\n",
    "```Python\n",
    "bisect.insort_right(リストA, 要素B)\n",
    "```\n",
    "---"
   ]
  },
  {
   "cell_type": "code",
   "execution_count": null,
   "metadata": {},
   "outputs": [],
   "source": [
    "list1 = [0, 1, 1, 2, 2, 2, 3, 4, 4, 6, 7, 7]\n",
    "item1 = 5\n",
    "bisect.insort_right(list1, item1)\n",
    "print(list1)\n",
    "item1 = 1\n",
    "bisect.insort_right(list1, item1)\n",
    "print(list1)"
   ]
  },
  {
   "cell_type": "markdown",
   "metadata": {},
   "source": [
    "## 練習\n",
    "\n",
    "整数を要素とするリスト `list1` と `list_items` を引数として取り、リスト `list2` を返す関数 `insert_items` を作成して下さい。ただし、以下の点に注意して下さい。\n",
    "\n",
    "1. `list1` は昇順に整列しています。\n",
    "2. `list2` は、 `list1` と `list_items` の要素から構成されます。\n",
    "3. `list2` の要素は昇順に整列しています。\n",
    "4. `bisect` を使ってみましょう。\n",
    "\n",
    "以下のセルの `...` のところを書き換えて解答して下さい。"
   ]
  },
  {
   "cell_type": "code",
   "execution_count": null,
   "metadata": {},
   "outputs": [],
   "source": [
    "import ...\n",
    "def insert_items(list1, list_items):\n",
    "    ..."
   ]
  },
  {
   "cell_type": "markdown",
   "metadata": {},
   "source": [
    "上のセルで解答を作成した後、以下のセルを実行し、実行結果が全て `True` になることを確認して下さい。"
   ]
  },
  {
   "cell_type": "code",
   "execution_count": null,
   "metadata": {},
   "outputs": [],
   "source": [
    "list1 = [0, 1, 1, 2, 2, 2, 3, 4, 4, 6, 7, 7]\n",
    "list_items = [-1, 4, 8, 5, 3]\n",
    "print(insert_items(list1, list_items) == [-1, 0, 1, 1, 2, 2, 2, 3, 3, 4, 4, 4, 5, 6, 7, 7, 8])"
   ]
  },
  {
   "cell_type": "markdown",
   "metadata": {},
   "source": [
    "## 練習の解答"
   ]
  },
  {
   "cell_type": "code",
   "execution_count": null,
   "metadata": {},
   "outputs": [],
   "source": [
    "import bisect\n",
    "def insert_items(list1, list_items):\n",
    "    list2 = list1\n",
    "    for item1 in list_items: # m回繰り返す\n",
    "        index1 = bisect.bisect_left(list2, item1) # 最悪O(log_2(n+m))\n",
    "        list2.insert(index1, item1) # ここの計算量は？\n",
    "    return list2 # list1を返しても同じ結果になります"
   ]
  },
  {
   "cell_type": "markdown",
   "metadata": {},
   "source": [
    "以下を実行すると実行時間が表示されます。"
   ]
  },
  {
   "cell_type": "code",
   "execution_count": null,
   "metadata": {},
   "outputs": [],
   "source": [
    "import random\n",
    "random.seed(a=0)\n",
    "maxval = 10000\n",
    "size1 = 10000000\n",
    "size2 = 10\n",
    "sortedlist1 = list(range(size1))\n",
    "list_items1 = [random.randint(0, maxval) for i in range(size2)]"
   ]
  },
  {
   "cell_type": "code",
   "execution_count": null,
   "metadata": {},
   "outputs": [],
   "source": [
    "%%timeit -r 1 -n 1\n",
    "insert_items(sortedlist1, list_items1)"
   ]
  },
  {
   "cell_type": "markdown",
   "metadata": {},
   "source": [
    "参考までに、`sort` を使った場合と実行時間を比較してみましょう。"
   ]
  },
  {
   "cell_type": "code",
   "execution_count": null,
   "metadata": {},
   "outputs": [],
   "source": [
    "def insert_items_sort(list1, list_items):\n",
    "    list1 += list_items # O(m)\n",
    "    list1.sort() # O((n+m)log_2 (n+m))\n",
    "    return list1"
   ]
  },
  {
   "cell_type": "code",
   "execution_count": null,
   "metadata": {},
   "outputs": [],
   "source": [
    "import random\n",
    "random.seed(a=0)\n",
    "sortedlist1 = list(range(size1))\n",
    "list_items1 = [random.randint(0, maxval) for i in range(size2)]"
   ]
  },
  {
   "cell_type": "code",
   "execution_count": null,
   "metadata": {},
   "outputs": [],
   "source": [
    "%%timeit -r 1 -n 1\n",
    "insert_items_sort(sortedlist1, list_items1)"
   ]
  },
  {
   "cell_type": "markdown",
   "metadata": {},
   "source": [
    "挿入先のリスト `sortedlist1` の要素数を $n$ (`=len(sortedlist1)`)、挿入する整数のリスト `list_items1` の要素数を $m$ (`=len(list_items1)`) として計算量を考えてみましょう。\n",
    "\n",
    "`insert_items_sort` では 最初に `list1` (`sortedlist1`) と `list_items` (`=list_items1`) を連結し、それから `sort` を実行します。授業では勉強していませんが、`sort` にかかる計算量は $O((n+m) \\log_2 (n+m))$ 程度になります。\n",
    "\n",
    "一方、二分探索を用いた場合、最初の方の探索が1回当たり $O(\\log_2 n)$ 程度、最後の方の探索が $O(\\log_2 (n+m)$ 程度の計算量なので、全ての要素を探索するのにかかる計算量は最悪でも $O(m \\log_2 (n+m))$ 程度の計算量になるはずです。\n",
    "\n",
    "しかし、`list_items1` の数が余程少なくない限り、`sort` を用いた方が高速になります。何故だと思いますか？　\n",
    "\n",
    "実は、模範解答の6行目 `list2.insert(index1, item1)` の計算量が最悪で $O(n+m)$ になるからです。`insert` は元のリストの値を書き換える為、非常に時間がかかる操作になります。最悪の場合、$m$ 回の挿入で合計 $O((m(n+m))$ の計算量となります（`insert` の計算量について詳しく？は、note_complexity.ipynb参照して下さい)。"
   ]
  },
  {
   "cell_type": "markdown",
   "metadata": {},
   "source": [
    "ついでに `sorted` を使った場合と実行時間を比較してみましょう。\n",
    "\n",
    "`sorted` は元のリストを破壊せずに、元のリストを複製して新しくリストを作成しますのでその分遅くなります。"
   ]
  },
  {
   "cell_type": "code",
   "execution_count": null,
   "metadata": {},
   "outputs": [],
   "source": [
    "def insert_items_sorted(list1, list_items):\n",
    "    list1 += list_items  # O(m)\n",
    "    return sorted(list1) # O(n+m) + O((n+m)log_2 (n+m))"
   ]
  },
  {
   "cell_type": "code",
   "execution_count": null,
   "metadata": {},
   "outputs": [],
   "source": [
    "import random\n",
    "random.seed(a=0)\n",
    "sortedlist1 = list(range(size1))\n",
    "list_items1 = [random.randint(0, maxval) for i in range(size2)]"
   ]
  },
  {
   "cell_type": "code",
   "execution_count": null,
   "metadata": {},
   "outputs": [],
   "source": [
    "%%timeit -r 1 -n 1\n",
    "insert_items_sorted(sortedlist1, list_items1)"
   ]
  },
  {
   "cell_type": "code",
   "execution_count": null,
   "metadata": {},
   "outputs": [],
   "source": []
  }
 ],
 "metadata": {
  "kernelspec": {
   "name": "python3",
   "display_name": "Python 3.9.5 64-bit"
  },
  "language_info": {
   "codemirror_mode": {
    "name": "ipython",
    "version": 3
   },
   "file_extension": ".py",
   "mimetype": "text/x-python",
   "name": "python",
   "nbconvert_exporter": "python",
   "pygments_lexer": "ipython3",
   "version": "3.9.5"
  },
  "interpreter": {
   "hash": "aee8b7b246df8f9039afb4144a1f6fd8d2ca17a180786b69acc140d282b71a49"
  }
 },
 "nbformat": 4,
 "nbformat_minor": 2
}