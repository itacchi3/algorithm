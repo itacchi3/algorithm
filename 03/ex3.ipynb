{
 "cells": [
  {
   "cell_type": "markdown",
   "metadata": {},
   "source": [
    "# 教養としてのアルゴリズムとデータ構造\n",
    "\n",
    "* 以下の各問について、問の次（もしくはその次）にあるコードセルに解答すること。\n",
    "    * 特に指定がある場合を除いて複数のセルに分けて解答してはならない。\n",
    "* 全ての解答を終えた後に必ずリスタートを実行し、上のセルから順番に実行して各解答が正しく動くことを確認すること。\n",
    " * ただし、ローカル環境で解答する場合、 `!wget...` の記載のあるセルは実行しなくてよい。 \n",
    "* 提出にあたっては、各当該のセルに解答のコードを記入し、それを実行した結果を表示させた後に、保存したこのファイルをITC-LMS経由で提出すること。\n",
    "* 解答のコードには適宜コメントを入れること。\n",
    "* 受講者間の協力は原則許可しない。\n",
    "* 解答がコピペと判断された場合、その解答（コピペ元も含めて）は0点となる可能性があるので注意すること。\n",
    "* 特に指定がない限りモジュールを用いて解答してはならない。\n"
   ]
  },
  {
   "cell_type": "markdown",
   "metadata": {},
   "source": [
    "<b><font color=\"red\">\n",
    "各問に解答するにあたり、以下の点に注意して下さい。\n",
    "\n",
    "1. 隣接リストは授業で配布したスライド (03_Tree.ppt, 14ページ) の形式に従うものとします。\n",
    " * 例えば、`[[1,2,3], [4, 5], [6, 7], [], [8, 9, 10], [11], [12, 13], [], [], [], [], [], [], []]` の様な値です。\n",
    "2. 解答するのに `networkx` を使用してはいけません。\n",
    "3. `collections`モジュールの `deque` は使用可能です。\n",
    "</font></b>"
   ]
  },
  {
   "cell_type": "markdown",
   "metadata": {},
   "source": [
    "* ローカル環境で行う場合、課題によってはデータを別にダウンロードする必要があります。\n",
    "* Colaboratoryを利用して課題を行う場合には、最初に以下のセルを実行して下さい。"
   ]
  },
  {
   "cell_type": "code",
   "execution_count": null,
   "metadata": {},
   "outputs": [],
   "source": [
    "!wget https://drive.google.com/uc?id=1LqbhtR_i9vKjQ46LuNND2emnOFVuJYuq -O ex3_data.zip\n",
    "!unzip ex3_data.zip\n",
    "!wget https://drive.google.com/uc?id=1f5tjyfqDgcoHYyqedfhRKrmZ-eOGivX7 -O utaadevalcpx.zip\n",
    "!unzip utaadevalcpx.zip"
   ]
  },
  {
   "cell_type": "markdown",
   "metadata": {},
   "source": [
    "# 第3回本課題"
   ]
  },
  {
   "cell_type": "code",
   "execution_count": null,
   "metadata": {},
   "outputs": [],
   "source": [
    "str_exfilename = \"ex3.ipynb\" # ファイル名を変更している場合、ここをその名前に変更する必要があります（ローカル環境のみ/Colab環境では使用しません"
   ]
  },
  {
   "cell_type": "markdown",
   "metadata": {},
   "source": [
    "## 準備：FIFOキュー\n",
    "\n",
    "FIFOキューをクラスを用いて実現します。\n",
    "\n",
    "具体的には、FIFOキューを実現するクラス `FIFOClass` は次の3つのメソッドを持ちます。\n",
    "\n",
    "1. メソッド `enqueue` は `item1` を引数に取り、FIFOキューの最後尾に `item1` の値を格納する。\n",
    "2. メソッド `dequeue` は FIFOキューの先頭に格納されている値を返り値として返す（返り値の値はキューから取り除く）。\n",
    "3. メソッド `length` はFIFOキューに格納されている要素の数を返します。\n",
    "\n",
    "以下のセルを実行して下さい。"
   ]
  },
  {
   "cell_type": "code",
   "execution_count": null,
   "metadata": {},
   "outputs": [],
   "source": [
    "#FIFOキュー\n",
    "class FIFOClass:\n",
    "    def __init__(self): # 初期化\n",
    "        self.list_data = []\n",
    "    def enqueue(self, item1): # 要素を最後尾に格納する\n",
    "        self.list_data.append(item1)\n",
    "    def dequeue(self):# 格納されている先頭の要素を取り出す\n",
    "        return self.list_data.pop(0)\n",
    "    def length(self): # リストの長さを返す\n",
    "        return len(self.list_data)"
   ]
  },
  {
   "cell_type": "markdown",
   "metadata": {},
   "source": [
    "キューが空の場合はエラーが出ます。それが気になる人は以下のセルの定義を利用して下さい。以下の定義では空の場合には `None` を返します。"
   ]
  },
  {
   "cell_type": "code",
   "execution_count": null,
   "metadata": {},
   "outputs": [],
   "source": [
    "#FIFOキュー\n",
    "class FIFOClass:\n",
    "    def __init__(self): # 初期化\n",
    "        self.list_data = []\n",
    "    def enqueue(self, item1): # 要素を最後尾に格納する\n",
    "        self.list_data.append(item1)\n",
    "    def dequeue(self):\n",
    "        try: # 要素が格納されている場合は先頭の要素を取り出す\n",
    "            return self.list_data.pop(0)\n",
    "        except IndexError: # 要素が存在しない場合は、Noneを返す\n",
    "            return None\n",
    "    def length(self): # リストの長さを返す\n",
    "        return len(self.list_data)"
   ]
  },
  {
   "cell_type": "markdown",
   "metadata": {},
   "source": [
    "`FIFOClass` を定義した、FIFOキューの使い方を確認してみましょう。下記では `FIFO1` というオブジェクト（内のリスト `list_data` ）がFIFOキューのルールに従ってデータを保持することになります。\n",
    "\n",
    "クラスを扱ったことのない人も身構える必要はありません。`FIFOClass` はリストと同じ様な使い方をすることが出来ます。\n",
    "\n",
    "FIFOキューを使う際には、最初に初期化します。"
   ]
  },
  {
   "cell_type": "code",
   "execution_count": null,
   "metadata": {},
   "outputs": [],
   "source": [
    "#FIFOキューを初期化\n",
    "FIFO1 = FIFOClass()"
   ]
  },
  {
   "cell_type": "markdown",
   "metadata": {},
   "source": [
    "FIFOキューは、データ（要素）を順序付けて一時的に保持する為のデータ構造ですから、とりあえず保持したい値（この授業では主に木構造などの頂点の名前）を追加します。\n",
    "\n",
    "`10` という値をメソッド `enqueue` を使って追加します。"
   ]
  },
  {
   "cell_type": "code",
   "execution_count": null,
   "metadata": {},
   "outputs": [],
   "source": [
    "#10をFIFOキューに追加\n",
    "FIFO1.enqueue(10)"
   ]
  },
  {
   "cell_type": "markdown",
   "metadata": {},
   "source": [
    "FIFOキューの中身は `オブジェクトの名前.list_data` で確認できます。"
   ]
  },
  {
   "cell_type": "code",
   "execution_count": null,
   "metadata": {},
   "outputs": [],
   "source": [
    "print(\"FIFOキューの状態:\", FIFO1.list_data, \" 要素数：\", FIFO1.length())"
   ]
  },
  {
   "cell_type": "markdown",
   "metadata": {},
   "source": [
    "`10` という値が格納されています。"
   ]
  },
  {
   "cell_type": "markdown",
   "metadata": {},
   "source": [
    "更に、`20` と `30` という2つの値を格納してみます。"
   ]
  },
  {
   "cell_type": "code",
   "execution_count": null,
   "metadata": {},
   "outputs": [],
   "source": [
    "#20をFIFOキューに追加\n",
    "FIFO1.enqueue(20)\n",
    "#30をFIFOキューに追加\n",
    "FIFO1.enqueue(30)"
   ]
  },
  {
   "cell_type": "markdown",
   "metadata": {},
   "source": [
    "FIFOキューの中身を確認してみます。"
   ]
  },
  {
   "cell_type": "code",
   "execution_count": null,
   "metadata": {
    "scrolled": true
   },
   "outputs": [],
   "source": [
    "print(\"FIFOキューの状態:\", FIFO1.list_data, \" 要素数：\", FIFO1.length())"
   ]
  },
  {
   "cell_type": "markdown",
   "metadata": {},
   "source": [
    "`10` の後ろに `20, 30` とFIFOキューに追加した順序で値が（`[10, 20, 30]` という形で）格納されていることが確認できるはずです。\n",
    "\n",
    "では、次にFIFOキューからメソッド `dequeue` を使って値を取り出してみます。"
   ]
  },
  {
   "cell_type": "code",
   "execution_count": null,
   "metadata": {},
   "outputs": [],
   "source": [
    "#値の取り出し\n",
    "val1 = FIFO1.dequeue()\n",
    "#取り出した値とFIFOキューの状態を確認してみる\n",
    "print(\"FIFOキューから取り出した値:\", val1, \" FIFOキューの状態:\", FIFO1.list_data, \" 要素数：\", FIFO1.length())"
   ]
  },
  {
   "cell_type": "markdown",
   "metadata": {},
   "source": [
    "最初に入れた値 `10` が取り出されて `val` という変数に代入され、FIFOキューは `[20, 30]` という状態になっていることが確認できるはずです。\n",
    "\n",
    "この様にFIFOキューは値を取り出す際には、常に現在保持している値の中で一番最初に入れた値（リストの先頭）を取り出すことになっており、保存してある値から自由に値を取り出すことは出来なくなっています。"
   ]
  },
  {
   "cell_type": "code",
   "execution_count": null,
   "metadata": {},
   "outputs": [],
   "source": [
    "#100をFIFOキューに追加\n",
    "FIFO1.enqueue(100)\n",
    "print(\"FIFOキューの状態:\", FIFO1.list_data, \" 要素数：\", FIFO1.length())\n",
    "#90をFIFOキューに追加\n",
    "FIFO1.enqueue(90)\n",
    "print(\"FIFOキューの状態:\", FIFO1.list_data, \" 要素数：\", FIFO1.length())\n",
    "#値の取り出し\n",
    "val1 = FIFO1.dequeue()\n",
    "print(\"FIFOキューから取り出した値:\", val1, \" FIFOキューの状態:\", FIFO1.list_data, \" 要素数：\", FIFO1.length())\n",
    "#値の取り出し\n",
    "val1 = FIFO1.dequeue()\n",
    "print(\"FIFOキューから取り出した値:\", val1, \" FIFOキューの状態:\", FIFO1.list_data, \" 要素数：\", FIFO1.length())\n",
    "#値の取り出し\n",
    "val1 = FIFO1.dequeue()\n",
    "print(\"FIFOキューから取り出した値:\", val1, \" FIFOキューの状態:\", FIFO1.list_data, \" 要素数：\", FIFO1.length())\n",
    "#値の取り出し\n",
    "val1 = FIFO1.dequeue()\n",
    "print(\"FIFOキューから取り出した値:\", val1, \" FIFOキューの状態:\", FIFO1.list_data, \" 要素数：\", FIFO1.length())"
   ]
  },
  {
   "cell_type": "markdown",
   "metadata": {},
   "source": [
    "この `FIFOClass` によるFIFOキューを使って次の問を解いてみて下さい。\n",
    "\n",
    "なお、本来FIFOキューの要素の格納 (`enqueue`) と取り出し (`dequeue`)の計算量は $O(1)$ となる様に構成すべきです。しかし、 `FIFOClass` は要素の取り出しに取り出しに popメソッドを用いている為、実際はFIFOキューに格納される最大の要素数を $n$ とした場合、$O(n)$ の計算量がかかります。\n",
    "\n",
    "計算量が $O(1)$ になる様にしたい人は、下記のセルの `FIFOClass` を使用する様にして下さい。この `FIFOClass` ではcollectionsモジュールの`collections.deque` を使用しています。`collections.deque` について詳しくは note_deque.ipynb を参照して下さい\n"
   ]
  },
  {
   "cell_type": "code",
   "execution_count": null,
   "metadata": {},
   "outputs": [],
   "source": [
    "#FIFOキュー\n",
    "import collections\n",
    "class FIFOClass:\n",
    "    def __init__(self):\n",
    "        self.list_data = collections.deque()\n",
    "    def enqueue(self, item1):\n",
    "        self.list_data.append(item1)\n",
    "    def dequeue(self):\n",
    "        try:\n",
    "            return self.list_data.popleft()\n",
    "        except IndexError:\n",
    "            return None\n",
    "    def length(self):\n",
    "        return len(self.list_data)"
   ]
  },
  {
   "cell_type": "markdown",
   "metadata": {},
   "source": [
    "## 3. 幅優先探索を用いた訪問順の取得\n",
    "\n",
    "木構造 $T$ を表す隣接リスト `list_adjlist` が引数として与えられたとき、$T$ に対して根から幅優先探索を行った際に、$T$ の各点を訪問する順序を表すリスト `list_node` を返す関数 `BFSInPreorder` を作成して下さい。以下の点に注意して解答して下さい。\n",
    "\n",
    "1. 各点は `0` 以上の整数で表されます。\n",
    "2. 根を表す番号は `0` です。\n",
    "3. 訪問する順序を表すリスト`list_node` には、幅優先探索を行った際に訪問した順序（FIFOキューから取り出した順序）で点の名前を格納します。\n",
    "\n",
    "この問が分からない場合、drill_03_Tree.ipynb の練習問題をまず解いてみて下さい。\n",
    "\n",
    "\n",
    "以下のセルの `...` のところを書き換えて解答して下さい。"
   ]
  },
  {
   "cell_type": "code",
   "execution_count": null,
   "metadata": {},
   "outputs": [],
   "source": [
    "### この行のコメントを改変してはいけません %3-3% ### \n",
    "#解答用セル\n",
    "import ... # モジュールを使わない場合、この行は削除して良い\n",
    "class FIFOClass: # FIFOClassをコピー＆ペーストする\n",
    "    ...\n",
    "\n",
    "def BFSInPreorder(list_adjlist):\n",
    "    ...\n",
    "    return list_node"
   ]
  },
  {
   "cell_type": "markdown",
   "metadata": {},
   "source": [
    "上のセルで解答を作成した後、以下のセルを実行し、実行結果が `True` になることを確認して下さい。"
   ]
  },
  {
   "cell_type": "code",
   "execution_count": null,
   "metadata": {},
   "outputs": [],
   "source": [
    "list_adjlist_test1=[[1, 2], [], [3, 4], [], []]\n",
    "list_res1 = BFSInPreorder(list_adjlist_test1)\n",
    "print(list_res1[0]==0 and set(list_res1[1:3])=={1,2} and set(list_res1[3:5])=={3,4})\n",
    "list_adjlist_test2=[[5, 1], [2], [], [], [], [3, 4]]\n",
    "list_res2 = BFSInPreorder(list_adjlist_test2)\n",
    "print(list_res2[0]==0 and set(list_res2[1:3])=={1,5} and set(list_res2[3:6])=={2,3,4})"
   ]
  },
  {
   "cell_type": "markdown",
   "metadata": {},
   "source": [
    "なお、テストで用いている木は以下の様な形になっています。"
   ]
  },
  {
   "cell_type": "code",
   "execution_count": null,
   "metadata": {},
   "outputs": [],
   "source": [
    "import networkx as nx, matplotlib.pyplot as plt\n",
    "%matplotlib inline\n",
    "#隣接リストをnx形式に変換（枝を加える）→描画\n",
    "def drawAdjlistUsingNx(nx_tree, list_adjlist, dic_pos, axval):\n",
    "    for node1 in range(0, len(list_adjlist)):\n",
    "        for node2 in list_adjlist[node1]:\n",
    "            nx_tree.add_edge(node1, node2)\n",
    "    axval.set_axis_off()\n",
    "    nx.draw_networkx(nx_tree, pos=dic_pos, ax=axval)\n",
    "#2つの木を描画\n",
    "fig, npar_axval = plt.subplots(1, 2, figsize=(7, 3))\n",
    "#1\n",
    "list_adjlist_test1=[[1, 2], [], [3, 4], [], []]; nx_tree1 = nx.Graph()\n",
    "drawAdjlistUsingNx(nx_tree1, list_adjlist_test1, None, npar_axval[0])\n",
    "#2\n",
    "list_adjlist_test2=[[5, 1], [2], [], [], [], [3, 4]]; nx_tree2 = nx.Graph()\n",
    "drawAdjlistUsingNx(nx_tree2, list_adjlist_test2, None, npar_axval[1])"
   ]
  },
  {
   "cell_type": "markdown",
   "metadata": {},
   "source": [
    "以下のセルを実行すると解答セルのプログラムの計算量を自動的に評価します。\n",
    "* ローカル環境で解答している人はファイルを保存してから以下のセルをそのまま実行して下さい（このファイルと同じフォルダ内に `utaadevalcpx.py` があることを確認して下さい）。\n",
    "* Colaboratoryを利用している人はセル内部の `str_code_3_3  = '''...'''` の `...` に自分の解答をコピペして下さい（ファイル冒頭のデータのダウンロードを事前に行う必要があります）。\n",
    "`\n",
    "\n",
    "ただし、常に正しい計算量を求められる訳ではありません（<font color=\"red\">正しく求められなかった場合、実際の計算量よりも計算量が少なく求まります</font>）。例えば、以下の様な内容のコードは正しく評価できないことがあります。\n",
    "* 組み込み関数などの名前を別名に変更している\n",
    "* 条件式の使用（例えば、for文中のif文＋`break`など）\n",
    "* while文を使用する\n",
    "\n",
    "この課題の模範解答の時間計算量は<font color=\"white\"> $O(n)$ ですが、$O(k)$ と求まります。</font>（←白黒反転しています）  \n",
    "想像（模範解答）よりも大きな計算量となっている場合、どこに問題があるのか考えてみて下さい。\n",
    "\n",
    "正しく計算量が評価できていないと思った場合、感想などで教えて下さい。\n",
    "* Pythonのバージョンが3.7より大きいと、正しく評価されない様です（Colab.は3.7です）。"
   ]
  },
  {
   "cell_type": "code",
   "execution_count": null,
   "metadata": {},
   "outputs": [],
   "source": [
    "import utaadevalcpx;dic_varinfo_3_3 = {\"list_adjlist\": [\"list\", set(), {\"n\"}],\"list_adjlist*\": [\"list\", set(), {\"k\"}],}\n",
    "str_code_3_3 = '''...'''\n",
    "utaadevalcpx.evaluateCpx(str_exfilename, \"3-3\", dic_varinfo_3_3, str_code_3_3) # str_exfilenameはファイルの冒頭で定義されています"
   ]
  },
  {
   "cell_type": "markdown",
   "metadata": {},
   "source": [
    "<b>問題の難易度評価：</b>\n",
    "下のセルにこの問の難易度を5段階（1:簡単、2:やや簡単、3:普通、4:やや難しい、5:難しい）で評価して下さい。（次回以降の課題の難易度の調整に使います）\n",
    "また、解答するのにかかった時間や感想などがあれば適宜記載して下さい。"
   ]
  },
  {
   "cell_type": "code",
   "execution_count": null,
   "metadata": {},
   "outputs": [],
   "source": [
    "#難易度（1:簡単、2:やや簡単、3:普通、4:やや難しい、5:難しい）\n",
    "\n",
    "#感想\n"
   ]
  },
  {
   "cell_type": "markdown",
   "metadata": {},
   "source": [
    "## 4. 家系図の探索\n",
    "\n",
    "家系図は典型的な木構造で表すことができるデータですが、その様な木構造のデータとして与えられた家系図において一番古い先祖（根）からの親等を求める関数を設計してみましょう。\n",
    "\n",
    "一番古い先祖からの親等は、先祖の子であれば 1（親等）、孫であれば 2（親等）、ひ孫であれば 3（親等）、…となります（先祖自身は 0 親等とみなします）。\n",
    "\n",
    "そこで家系図を表す隣接リスト `list_adjlist` が引数として与えられたとき、各人物（点）の親等を格納したリスト `list_D` を返す関数  `BFSForFamiliyTree` を作成して下さい。以下の点に注意して解答して下さい。\n",
    "\n",
    "1. 各点は `0` 以上の整数で表されます。\n",
    "2. 先祖（根）を表す番号は `0` です。\n",
    "3. `list_D` の `i` 番目の要素 `list_D[i]` は、先祖から点 `i` までの親等を格納します。\n",
    "4. （ヒント→）<font color=\"white\">根 (`0`) から根への親等は `0` で、根の子への親等は `1` 、更にその子への親等は `2` です。つまり、ある点 $v$ への親等 (`list_D[` $v$ `]`) が $x$ であるならば、その点の子 $u$ への親等 (`list_D[` $u$ `]`) は `list_D[` $v$ `]` $+1$、すなわち、$x+1$ になります。</font>\n",
    "\n",
    "\n",
    "以下のセルの `...` のところを書き換えて解答して下さい。"
   ]
  },
  {
   "cell_type": "code",
   "execution_count": null,
   "metadata": {},
   "outputs": [],
   "source": [
    "### この行のコメントを改変してはいけません %3-4% ### \n",
    "#解答用セル\n",
    "import ... # モジュールを使わない場合、この行は削除して良い\n",
    "class FIFOClass: # FIFOClassをコピー＆ペーストする\n",
    "    ...\n",
    "\n",
    "def BFSForFamilyTree(list_adjlist):\n",
    "    ...\n",
    "    return list_D"
   ]
  },
  {
   "cell_type": "markdown",
   "metadata": {},
   "source": [
    "上のセルで解答を作成した後、以下のセルを実行し、実行結果が `True` になることを確認して下さい。"
   ]
  },
  {
   "cell_type": "code",
   "execution_count": null,
   "metadata": {},
   "outputs": [],
   "source": [
    "list_adjlist_test1=[[1, 2], [], [3, 4], [], []]\n",
    "list_D1=BFSForFamilyTree(list_adjlist_test1);\n",
    "print(list_D1==[0, 1, 1, 2, 2])\n",
    "list_adjlist_test2=[[1, 2, 3], [4, 5], [6, 7, 8, 9], [], [], [10], [], [], [], [], []]\n",
    "list_D2=BFSForFamilyTree(list_adjlist_test2);\n",
    "print(list_D2==[0, 1, 1, 1, 2, 2, 2, 2, 2, 2, 3])\n",
    "list_adjlist_test3=[[3, 7, 9], [], [], [6, 2], [5, 1], [], [], [4], [], [8]]\n",
    "list_D3=BFSForFamilyTree(list_adjlist_test3);\n",
    "print(list_D3==[0, 3, 2, 1, 2, 3, 2, 1, 2, 1])"
   ]
  },
  {
   "cell_type": "markdown",
   "metadata": {},
   "source": [
    "なお、テストで用いている木は以下の様な形になっています。"
   ]
  },
  {
   "cell_type": "code",
   "execution_count": null,
   "metadata": {},
   "outputs": [],
   "source": [
    "import networkx as nx, matplotlib.pyplot as plt\n",
    "%matplotlib inline\n",
    "#隣接リストをnx形式に変換（枝を加える）→描画\n",
    "def drawAdjlistUsingNx(nx_tree, list_adjlist, dic_pos, axval):\n",
    "    for node1 in range(0, len(list_adjlist)):\n",
    "        for node2 in list_adjlist[node1]:\n",
    "            nx_tree.add_edge(node1, node2)\n",
    "    axval.set_axis_off()\n",
    "    nx.draw_networkx(nx_tree, pos=dic_pos, ax=axval)\n",
    "#3つの木を描画\n",
    "fig, npar_axval = plt.subplots(1, 3, figsize=(12, 3.5))\n",
    "#1\n",
    "list_adjlist_test1=[[1, 2], [], [3, 4], [], []];nx_tree1 = nx.Graph()\n",
    "drawAdjlistUsingNx(nx_tree1, list_adjlist_test1, None, npar_axval[0])\n",
    "#2\n",
    "list_adjlist_test2=[[1, 2, 3], [4, 5], [6, 7, 8, 9], [], [], [10], [], [], [], [], []];nx_tree2 = nx.Graph()\n",
    "drawAdjlistUsingNx(nx_tree2, list_adjlist_test2, None, npar_axval[1])\n",
    "#3\n",
    "list_adjlist_test3=[[3, 7, 9], [], [], [6, 2], [5, 1], [], [], [4], [], [8]];nx_tree3 = nx.Graph()\n",
    "drawAdjlistUsingNx(nx_tree3, list_adjlist_test3, None, npar_axval[2])"
   ]
  },
  {
   "cell_type": "markdown",
   "metadata": {},
   "source": [
    "先祖からの各点までの親等の値は、先祖から各点までの最短距離（先祖から各点にたどり着くまでに存在する枝の数）に等しくなります。\n",
    "\n",
    "実は `networkx` を用いて木構造の最短距離を求めることが出来ます。下のセルのテストでは `networkx` の最短距離の結果と `BFSForFamilyTree` の結果を比較しています。`True` になることを確認して下さい。"
   ]
  },
  {
   "cell_type": "code",
   "execution_count": null,
   "metadata": {
    "scrolled": true
   },
   "outputs": [],
   "source": [
    "import random, networkx as nx\n",
    "#ランダムに木を作成する\n",
    "def constructRandomTree(nodenum, maxchildnum):\n",
    "    random.seed(a=0)\n",
    "    #隣接リスト\n",
    "    list_tree_adjlist = [0] * nodenum\n",
    "    #FIFOを使う\n",
    "    FIFO = FIFOClass()\n",
    "    #根は0\n",
    "    nodecnt = 0\n",
    "    FIFO.enqueue(nodecnt)\n",
    "    nodecnt += 1\n",
    "    while(len(FIFO.list_data) > 0):\n",
    "        #新しく子供を作成する点\n",
    "        node1 = FIFO.dequeue()\n",
    "        #点node1の子供数を決定\n",
    "        childnum = random.randint(0, maxchildnum)\n",
    "        #キューに何も入ってない場合、必ず子供は1つ以上\n",
    "        if len(FIFO.list_data) == 0 and childnum == 0:\n",
    "            childnum = random.randint(1, maxchildnum)\n",
    "        list_tree_adjlist[node1] = []\n",
    "        for adjnode in range(childnum):\n",
    "            list_tree_adjlist[node1].append(nodecnt)\n",
    "            FIFO.enqueue(nodecnt)\n",
    "            nodecnt += 1\n",
    "            #点の数が指定数に到達したら終了\n",
    "            if nodecnt == nodenum:\n",
    "                break\n",
    "        #点の数が指定数に到達したら終了\n",
    "        if nodecnt == nodenum:\n",
    "            #子供がない点のリストを空にしておく\n",
    "            node1 += 1\n",
    "            while(node1 < nodenum):\n",
    "                list_tree_adjlist[node1] = []\n",
    "                node1 += 1\n",
    "            break\n",
    "    return list_tree_adjlist\n",
    "def getNXGraph(nx_g1, list_adjlist):\n",
    "    for node1, list_adj in enumerate(list_adjlist):\n",
    "        for node2 in list_adj:\n",
    "            nx_g1.add_edge(node1, node2)\n",
    "nx_tree3 = nx.DiGraph()\n",
    "nodenum_test3 = 10000\n",
    "maxchildnum_test3 = 5\n",
    "list_adjlist_test3 = constructRandomTree(nodenum_test3, maxchildnum_test3)\n",
    "getNXGraph(nx_tree3, list_adjlist_test3)\n",
    "initnode_test3 = 0\n",
    "dic_nxres3 = nx.shortest_path(nx_tree3, source=initnode_test3)\n",
    "list_Dnx3 = [len(dic_nxres3[i])-1 for i in range(nodenum_test3)]\n",
    "list_D3 = BFSForFamilyTree(list_adjlist_test3)\n",
    "print(list_Dnx3 == list_D3)"
   ]
  },
  {
   "cell_type": "markdown",
   "metadata": {},
   "source": [
    "以下のセルで両者の実行時間を比較してみて下さい。上記で作成する木では、一般的な実装による模範解答と比較したところ `networkx` と同等以上の速さで最短距離を求めることが出来る様です。"
   ]
  },
  {
   "cell_type": "code",
   "execution_count": null,
   "metadata": {},
   "outputs": [],
   "source": [
    "%%timeit -r 10 -n 10\n",
    "nx.shortest_path(nx_tree3, source=initnode_test3)"
   ]
  },
  {
   "cell_type": "code",
   "execution_count": null,
   "metadata": {},
   "outputs": [],
   "source": [
    "%%timeit -r 10 -n 10\n",
    "BFSForFamilyTree(list_adjlist_test3)"
   ]
  },
  {
   "cell_type": "markdown",
   "metadata": {},
   "source": [
    "以下のセルを実行すると解答セルのプログラムの計算量を自動的に評価します。\n",
    "* ローカル環境で解答している人はファイルを保存してから以下のセルをそのまま実行して下さい（このファイルと同じフォルダ内に `utaadevalcpx.py` があることを確認して下さい）。\n",
    "* Colaboratoryを利用している人はセル内部の `str_code_3_4  = '''...'''` の `...` に自分の解答をコピペして下さい（ファイル冒頭のデータのダウンロードを事前に行う必要があります）。\n",
    "`\n",
    "\n",
    "ただし、常に正しい計算量を求められる訳ではありません（<font color=\"red\">正しく求められなかった場合、実際の計算量よりも計算量が少なく求まります</font>）。例えば、以下の様な内容のコードは正しく評価できないことがあります。\n",
    "* 組み込み関数などの名前を別名に変更している\n",
    "* 条件式の使用（例えば、for文中のif文＋`break`など）\n",
    "* while文を使用する\n",
    "\n",
    "この課題の模範解答の時間計算量は<font color=\"white\"> $O(n)$ ですが、$O(k+n)$、もしくは $O(k)$ と求まります。</font>（←白黒反転しています）  \n",
    "想像（模範解答）よりも大きな計算量となっている場合、どこに問題があるのか考えてみて下さい。\n",
    "\n",
    "正しく計算量が評価できていないと思った場合、感想などで教えて下さい。\n",
    "* Pythonのバージョンが3.7より大きいと、正しく評価されない様です（Colab.は3.7です）。"
   ]
  },
  {
   "cell_type": "code",
   "execution_count": null,
   "metadata": {},
   "outputs": [],
   "source": [
    "import utaadevalcpx;dic_varinfo_3_4 = {\"list_adjlist\": [\"list\", set(), {\"n\"}],\"list_adjlist*\": [\"list\", set(), {\"k\"}],}\n",
    "str_code_3_4 = '''...'''\n",
    "utaadevalcpx.evaluateCpx(str_exfilename, \"3-4\", dic_varinfo_3_4, str_code_3_4) # str_exfilenameはファイルの冒頭で定義されています"
   ]
  },
  {
   "cell_type": "markdown",
   "metadata": {},
   "source": [
    "`ex3_data_wikipedia_TokugawaFamilyTree.json`, `ex3_data_wikipedia_TokugawaFamilyTreeInfo.json` にウィキペディア（ https://ja.wikipedia.org ）のデータから作成した徳川家康とその子孫からなる家系図を表す木構造によるデータを用意しました。\n",
    "\n",
    "これを使って最初の将軍である徳川家康 (<a href='https://ja.wikipedia.org/wiki/%E5%BE%B3%E5%B7%9D%E5%AE%B6%E5%BA%B7'>日</a>、<a href='https://en.wikipedia.org/wiki/Tokugawa_Ieyasu'>Eng</a>) と最後の将軍である徳川慶喜 (<a href='https://ja.wikipedia.org/wiki/%E5%BE%B3%E5%B7%9D%E6%85%B6%E5%96%9C'>日</a>、<a href='https://en.wikipedia.org/wiki/Tokugawa_Yoshinobu'>Eng</a>) の親等を調べてみましょう（日本史に全く興味がない人は何のことか分からない話でごめんなさい）。"
   ]
  },
  {
   "cell_type": "code",
   "execution_count": null,
   "metadata": {},
   "outputs": [],
   "source": [
    "import json\n",
    "if 'list_adjlist_Tok' not in globals(): \n",
    "    # 隣接リスト\n",
    "    with open(\"ex3_data_wikipedia_list_TokugawaFamilyTree.json\", \"r\", encoding=\"utf-8\") as f:\n",
    "        list_adjlist_Tok = json.load(f)\n",
    "    # 人物情報\n",
    "    with open(\"ex3_data_wikipedia_list_TokugawaFamilyTreeDInfo.json\", \"r\", encoding=\"utf-8\") as f:\n",
    "        list_TokInfo = json.load(f)\n",
    "list_D_Tok = BFSForFamilyTree(list_adjlist_Tok)\n",
    "print(list_TokInfo[440][0:2], list_D_Tok[440]) #徳川慶喜"
   ]
  },
  {
   "cell_type": "markdown",
   "metadata": {},
   "source": [
    "最後に徳川家の家系図を描画してみます。緑の点が将軍になった人物です。"
   ]
  },
  {
   "cell_type": "code",
   "execution_count": null,
   "metadata": {
    "scrolled": false
   },
   "outputs": [],
   "source": [
    "import networkx as nx, matplotlib.pyplot as plt, json\n",
    "%matplotlib inline\n",
    "nx_TokTree = nx.Graph()\n",
    "for node1 in range(0, len(list_adjlist_Tok)):\n",
    "    for node2 in list_adjlist_Tok[node1]:\n",
    "        nx_TokTree.add_edge(node1, node2)\n",
    "list_color = [\"#aa0000\"] * len(list_adjlist_Tok)\n",
    "set_shogun = {\"徳川家康\",\"徳川秀忠\",\"徳川家光\",\"徳川家綱\",\"徳川綱吉\",\"徳川家宣\",\"徳川家継\",\"徳川吉宗\",\"徳川家重\",\"徳川家治\",\"徳川家斉\",\"徳川家慶\",\"徳川家定\",\"徳川家茂\",\"徳川慶喜\"}\n",
    "list_shogun = []\n",
    "for index1 in range(len(list_TokInfo)):\n",
    "    if list_TokInfo[index1][1] in set_shogun:#将軍を見つけた場合\n",
    "        list_color[index1] = \"#00aa00\" #点の色を変える（緑）\n",
    "        list_shogun.append([index1, list_TokInfo[index1][1]])\n",
    "print(list_shogun)\n",
    "plt.figure(figsize=(30, 40))\n",
    "pos1 = nx.kamada_kawai_layout(nx_TokTree)\n",
    "nx.draw_networkx(nx_TokTree, pos=pos1, node_color=list_color, alpha=0.7)\n",
    "plt.axis('off')\n",
    "plt.show();"
   ]
  },
  {
   "cell_type": "markdown",
   "metadata": {},
   "source": [
    "余裕がある人は、このデータに対して `BFSInPreorder` も試してみて下さい。"
   ]
  },
  {
   "cell_type": "code",
   "execution_count": null,
   "metadata": {},
   "outputs": [],
   "source": [
    "list_res_Tok = BFSInPreorder(list_adjlist_Tok)\n",
    "for index1, name1 in list_shogun:\n",
    "    print(name1, \"の訪問順:\", list_res_Tok[index1])"
   ]
  },
  {
   "cell_type": "markdown",
   "metadata": {},
   "source": [
    "<b>問題の難易度評価：</b>\n",
    "下のセルにこの問の難易度を5段階（1:簡単、2:やや簡単、3:普通、4:やや難しい、5:難しい）で評価して下さい。（次回以降の課題の難易度の調整に使います）\n",
    "また、解答するのにかかった時間や感想などがあれば適宜記載して下さい。"
   ]
  },
  {
   "cell_type": "code",
   "execution_count": null,
   "metadata": {},
   "outputs": [],
   "source": [
    "#難易度（1:簡単、2:やや簡単、3:普通、4:やや難しい、5:難しい）\n",
    "\n",
    "#感想\n"
   ]
  }
 ],
 "metadata": {
  "kernelspec": {
   "display_name": "Python 3",
   "language": "python",
   "name": "python3"
  },
  "language_info": {
   "codemirror_mode": {
    "name": "ipython",
    "version": 3
   },
   "file_extension": ".py",
   "mimetype": "text/x-python",
   "name": "python",
   "nbconvert_exporter": "python",
   "pygments_lexer": "ipython3",
   "version": "3.7.4"
  }
 },
 "nbformat": 4,
 "nbformat_minor": 2
}
