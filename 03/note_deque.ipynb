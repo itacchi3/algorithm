{
 "cells": [
  {
   "cell_type": "markdown",
   "metadata": {},
   "source": [
    "# 教養としてのアルゴリズムとデータ構造\n",
    "\n",
    "FIFOキューやスタックを実現できるデータ型 `deque` （デック）について説明します。\n",
    "\n",
    "参考\n",
    "\n",
    "- https://docs.python.org/ja/3/library/collections.html#collections.deque\n",
    "\n",
    "なお、このノートを読まなくても課題を解くのに影響はありません。"
   ]
  },
  {
   "cell_type": "markdown",
   "metadata": {},
   "source": [
    "# `deque` \n",
    "\n",
    "FIFOキューは配列の様な順序付けられたデータを格納するデータ構造において、データを格納する場合は一方の端からデータを挿入し、データを取り出すときは他方の端から取り出すデータ構造になっていました。また、スタックはデータの挿入・取り出しを同じ端からのみ行うデータ構造になっていました。\n",
    "\n",
    "それらFIFOキューやスタックを一般化し、挿入・取り出しがどちらの端からでも可能であるデータ構造が**デック**（dequeue, double-ended queue の略）と呼ばれるデータ構造です。\n",
    "\n",
    "Pythonではその様なデックやFIFOキュー、スタックを実装する場合、モジュール `collections` で定義されるデータ型 **`deque`** を使うと便利です。\n",
    "\n",
    "`deque` も「デック」と発音され、こちらも double-ended queue の略です。`deque` は値を順序付けて管理するデータ構造でリストによく似ています。後で紹介する様に `deque` のメソッドには、リストと同じ名称・同じ機能を持つものが多く存在します。ですので、リストの扱いに慣れていれば直感的には `deque` は使い易いでしょう。\n",
    "\n",
    "また、デックは double-ended queue の名が示す様に挿入・取り出しがどちらの端からでも可能ですので、リストでは $O(1)$ の計算量で実行できなかった先頭の要素の取り出しや先頭への要素の追加を（ほぼ？） $O(1)$ の計算量で実行することが可能です。\n",
    "\n",
    "以下では `deque` の基本的な使い方を紹介します。\n",
    "\n",
    "ではまず `collections` モジュールをインポートします。"
   ]
  },
  {
   "cell_type": "code",
   "execution_count": null,
   "metadata": {},
   "outputs": [],
   "source": [
    "import collections"
   ]
  },
  {
   "cell_type": "markdown",
   "metadata": {},
   "source": [
    "## `deque` オブジェクトの作成\n",
    "\n",
    "`deque` を使うには、まず `deque` オブジェクトを作成する必要があります。やり方は一般のオブジェクトの作成と同じです。\n",
    "\n",
    "例えば、`deq1` を `deque` オブジェクトとするには、次の様にします。\n",
    "\n",
    "---\n",
    "```Python\n",
    "deq1 = collections.deque()\n",
    "```\n",
    "---\n",
    "\n",
    "実際に実行してみましょう。"
   ]
  },
  {
   "cell_type": "code",
   "execution_count": null,
   "metadata": {},
   "outputs": [],
   "source": [
    "deq1 = collections.deque()"
   ]
  },
  {
   "cell_type": "markdown",
   "metadata": {},
   "source": [
    "データ型を確認します。"
   ]
  },
  {
   "cell_type": "code",
   "execution_count": null,
   "metadata": {},
   "outputs": [],
   "source": [
    "type(deq1)"
   ]
  },
  {
   "cell_type": "markdown",
   "metadata": {},
   "source": [
    "コンストラクタは引数としてイテラブルを取ることが出来ます。"
   ]
  },
  {
   "cell_type": "code",
   "execution_count": null,
   "metadata": {},
   "outputs": [],
   "source": [
    "deq1 = collections.deque([10, 20, 30])\n",
    "print(deq1)"
   ]
  },
  {
   "cell_type": "markdown",
   "metadata": {},
   "source": [
    "## `deque` の基本操作\n",
    "\n",
    "以下では、`deuque` の基本的な使い方を紹介します。\n",
    "\n",
    "### 要素の参照\n",
    "\n",
    "`deque` に格納されている値は、リスト同様、インデックスを用いて参照することが出来ます。\n"
   ]
  },
  {
   "cell_type": "code",
   "execution_count": null,
   "metadata": {},
   "outputs": [],
   "source": [
    "deq1 = collections.deque([10, 20, 30])\n",
    "print(deq1[0])\n",
    "print(deq1[1])\n",
    "print(deq1[2])"
   ]
  },
  {
   "cell_type": "code",
   "execution_count": null,
   "metadata": {},
   "outputs": [],
   "source": [
    "deq1[0] + deq1[2]"
   ]
  },
  {
   "cell_type": "markdown",
   "metadata": {},
   "source": [
    "### 要素の数\n",
    "\n",
    "`deuque` の要素数を調べるには **`len`** 関数を使います。"
   ]
  },
  {
   "cell_type": "code",
   "execution_count": null,
   "metadata": {},
   "outputs": [],
   "source": [
    "deq1 = collections.deque([10, 20, 30])\n",
    "print(len(deq1))"
   ]
  },
  {
   "cell_type": "markdown",
   "metadata": {},
   "source": [
    "\n",
    "### 最後尾に要素を追加する\n",
    "\n",
    "最後尾に要素を追加するには **`append`** メソッドを使います。\n",
    "\n",
    "例えば、`deq1` が `deque` オブジェクトである場合、次の様にします。\n",
    "\n",
    "---\n",
    "```Python\n",
    "deq1.append(追加する値) \n",
    "```\n",
    "---\n",
    "\n",
    "実際に実行してみましょう。"
   ]
  },
  {
   "cell_type": "code",
   "execution_count": null,
   "metadata": {},
   "outputs": [],
   "source": [
    "deq1 = collections.deque()\n",
    "deq1.append(10)\n",
    "print(deq1)"
   ]
  },
  {
   "cell_type": "markdown",
   "metadata": {},
   "source": [
    "更に `append` を実行すると先に入れた値の後ろに要素が追加されます。"
   ]
  },
  {
   "cell_type": "code",
   "execution_count": null,
   "metadata": {},
   "outputs": [],
   "source": [
    "deq1.append(20)\n",
    "deq1.append(30)\n",
    "print(deq1)"
   ]
  },
  {
   "cell_type": "markdown",
   "metadata": {},
   "source": [
    "リスト同様、様々なデータを格納することが可能です。"
   ]
  },
  {
   "cell_type": "code",
   "execution_count": null,
   "metadata": {},
   "outputs": [],
   "source": [
    "deq2 = collections.deque()\n",
    "deq2.append([\"a\", \"b\", \"c\"])\n",
    "deq2.append((-1, -2))\n",
    "deq2.append(\"xyz\")\n",
    "deq2.append({\"A\": 100})\n",
    "print(deq2)"
   ]
  },
  {
   "cell_type": "markdown",
   "metadata": {},
   "source": [
    "### 先頭に要素を追加する\n",
    "\n",
    "先頭に要素を追加するには、**`appendleft`** メソッドを使います。\n",
    "\n",
    "例えば、`deq1` が `deque` オブジェクトである場合、次の様にします。\n",
    "\n",
    "---\n",
    "```Python\n",
    "deq1.appendleft(追加する値) \n",
    "```\n",
    "---\n"
   ]
  },
  {
   "cell_type": "code",
   "execution_count": null,
   "metadata": {},
   "outputs": [],
   "source": [
    "deq1 = collections.deque([10,20,30])\n",
    "deq1.appendleft(40)\n",
    "print(deq1)"
   ]
  },
  {
   "cell_type": "markdown",
   "metadata": {},
   "source": [
    "### 最後尾から要素を取り出す\n",
    "\n",
    "最後尾から要素を取り出すには **`pop`** メソッドを使います。\n",
    "\n",
    "例えば、`deq1` が `deque` オブジェクトである場合、次の様にします。\n",
    "\n",
    "---\n",
    "```Python\n",
    "deq1.pop() \n",
    "```\n",
    "---\n",
    "\n",
    "返り値が最後尾から取り出した要素になります。"
   ]
  },
  {
   "cell_type": "code",
   "execution_count": null,
   "metadata": {},
   "outputs": [],
   "source": [
    "deq1 = collections.deque([10,20,30])\n",
    "a1 = deq1.pop()\n",
    "print(\"popで取り出した値:\", a1, \", dequeの中身:\", deq1)"
   ]
  },
  {
   "cell_type": "code",
   "execution_count": null,
   "metadata": {},
   "outputs": [],
   "source": [
    "a1 = deq1.pop()\n",
    "print(\"popで取り出した値:\", a1, \", dequeの中身:\", deq1)"
   ]
  },
  {
   "cell_type": "code",
   "execution_count": null,
   "metadata": {},
   "outputs": [],
   "source": [
    "a1 = deq1.pop()\n",
    "print(\"popで取り出した値:\", a1, \", dequeの中身:\", deq1)"
   ]
  },
  {
   "cell_type": "markdown",
   "metadata": {},
   "source": [
    "要素が存在しない場合はエラーが出るので注意して下さい。"
   ]
  },
  {
   "cell_type": "code",
   "execution_count": null,
   "metadata": {},
   "outputs": [],
   "source": [
    "deq1.pop()"
   ]
  },
  {
   "cell_type": "markdown",
   "metadata": {},
   "source": [
    "リストの `pop` の様に引数を取ることは出来ません。"
   ]
  },
  {
   "cell_type": "code",
   "execution_count": null,
   "metadata": {},
   "outputs": [],
   "source": [
    "deq1 = collections.deque([10,20,30])\n",
    "a1 = deq1.pop(1)"
   ]
  },
  {
   "cell_type": "markdown",
   "metadata": {},
   "source": [
    "### 先頭から要素を取り出す\n",
    "\n",
    "先頭から要素を取り出すには **`popleft`** メソッドを使います。\n",
    "\n",
    "例えば、`deq1` が `deque` オブジェクトである場合、次の様にします。\n",
    "\n",
    "---\n",
    "```Python\n",
    "deq1.popleft() \n",
    "```\n",
    "---\n",
    "\n",
    "返り値が取り出した要素になります。"
   ]
  },
  {
   "cell_type": "code",
   "execution_count": null,
   "metadata": {
    "scrolled": true
   },
   "outputs": [],
   "source": [
    "deq1 = collections.deque([10,20,30])\n",
    "a1 = deq1.popleft()\n",
    "print(\"popleftで取り出した値:\", a1, \", dequeの中身:\", deq1)"
   ]
  },
  {
   "cell_type": "markdown",
   "metadata": {},
   "source": [
    "要素が存在しない場合、やはりエラーが出るので注意して下さい。"
   ]
  },
  {
   "cell_type": "code",
   "execution_count": null,
   "metadata": {},
   "outputs": [],
   "source": [
    "a1 = deq1.popleft()\n",
    "print(\"popleftで取り出した値:\", a1, \", dequeの中身:\", deq1)\n",
    "a1 = deq1.popleft()\n",
    "print(\"popleftで取り出した値:\", a1, \", dequeの中身:\", deq1)\n",
    "deq1.popleft()"
   ]
  },
  {
   "cell_type": "markdown",
   "metadata": {},
   "source": [
    "## `queue` モジュール\n",
    "\n",
    "`deque` とは関係ありませんが、Pythonには `queue` モジュールと呼ばれるモジュールも存在します。\n",
    "\n",
    "これを使うとやはりFIFOキューやスタックが実現可能ですが、この授業ではお勧めしません（使わないで下さい）が、簡単に紹介しておきます。\n",
    "\n",
    "参考\n",
    "\n",
    "- https://docs.python.org/ja/3/library/queue.html"
   ]
  },
  {
   "cell_type": "code",
   "execution_count": null,
   "metadata": {},
   "outputs": [],
   "source": [
    "import queue"
   ]
  },
  {
   "cell_type": "markdown",
   "metadata": {},
   "source": [
    "FIFOキューを利用したい場合は、`Queue()` オブジェクトを作成します。"
   ]
  },
  {
   "cell_type": "code",
   "execution_count": null,
   "metadata": {},
   "outputs": [],
   "source": [
    "que1 = queue.Queue()"
   ]
  },
  {
   "cell_type": "markdown",
   "metadata": {},
   "source": [
    "要素を最後尾に追加するには `put` メソッドを用います。"
   ]
  },
  {
   "cell_type": "code",
   "execution_count": null,
   "metadata": {},
   "outputs": [],
   "source": [
    "que1.put(10)"
   ]
  },
  {
   "cell_type": "code",
   "execution_count": null,
   "metadata": {},
   "outputs": [],
   "source": [
    "que1.put(20)"
   ]
  },
  {
   "cell_type": "code",
   "execution_count": null,
   "metadata": {},
   "outputs": [],
   "source": [
    "que1.put(30)"
   ]
  },
  {
   "cell_type": "markdown",
   "metadata": {},
   "source": [
    "要素を（FIFOキューなので先頭から）取り出すには `get` メソッドを使います。なお、キューが空のときに `get` を実行し、かつ `timeout` という値として正数を指定しない（もしくは、何も指定しない）場合、ずっと実行中になるので注意して下さい（カーネルのリスタートが必要になります）。"
   ]
  },
  {
   "cell_type": "code",
   "execution_count": null,
   "metadata": {},
   "outputs": [],
   "source": [
    "que1.get(timeout=0.1)"
   ]
  },
  {
   "cell_type": "code",
   "execution_count": null,
   "metadata": {},
   "outputs": [],
   "source": [
    "que1.get(timeout=0.1)"
   ]
  },
  {
   "cell_type": "code",
   "execution_count": null,
   "metadata": {},
   "outputs": [],
   "source": [
    "que1.get(timeout=0.1)"
   ]
  },
  {
   "cell_type": "code",
   "execution_count": null,
   "metadata": {},
   "outputs": [],
   "source": [
    "que1.get(timeout=0.1)"
   ]
  },
  {
   "cell_type": "markdown",
   "metadata": {},
   "source": [
    "スタックを利用したい場合は、`LifoQueue()` オブジェクトを作成します。"
   ]
  },
  {
   "cell_type": "code",
   "execution_count": null,
   "metadata": {},
   "outputs": [],
   "source": [
    "stk1 = queue.LifoQueue()"
   ]
  },
  {
   "cell_type": "markdown",
   "metadata": {},
   "source": [
    "要素を（最後尾に）追加するには `put` メソッドを用います。"
   ]
  },
  {
   "cell_type": "code",
   "execution_count": null,
   "metadata": {},
   "outputs": [],
   "source": [
    "stk1.put(10)"
   ]
  },
  {
   "cell_type": "code",
   "execution_count": null,
   "metadata": {},
   "outputs": [],
   "source": [
    "stk1.put(20)"
   ]
  },
  {
   "cell_type": "code",
   "execution_count": null,
   "metadata": {},
   "outputs": [],
   "source": [
    "stk1.put(30)"
   ]
  },
  {
   "cell_type": "markdown",
   "metadata": {},
   "source": [
    "要素を（最後尾から）取り出すには `get` メソッドを使います。やはり `timeout` を正数に指定しておきます。"
   ]
  },
  {
   "cell_type": "code",
   "execution_count": null,
   "metadata": {},
   "outputs": [],
   "source": [
    "stk1.get(timeout=0.1)"
   ]
  },
  {
   "cell_type": "code",
   "execution_count": null,
   "metadata": {},
   "outputs": [],
   "source": [
    "stk1.get(timeout=0.1)"
   ]
  },
  {
   "cell_type": "code",
   "execution_count": null,
   "metadata": {},
   "outputs": [],
   "source": [
    "stk1.get(timeout=0.1)"
   ]
  },
  {
   "cell_type": "code",
   "execution_count": null,
   "metadata": {},
   "outputs": [],
   "source": [
    "stk1.get(timeout=0.1)"
   ]
  },
  {
   "cell_type": "markdown",
   "metadata": {},
   "source": [
    "## 速さの比較\n",
    "\n",
    "リストとの速さを比較してみます。"
   ]
  },
  {
   "cell_type": "markdown",
   "metadata": {},
   "source": [
    "まず最後尾への要素の追加にかかる時間を比較してみます。`size` 個の要素を追加してみます。"
   ]
  },
  {
   "cell_type": "code",
   "execution_count": null,
   "metadata": {},
   "outputs": [],
   "source": [
    "size = 100000"
   ]
  },
  {
   "cell_type": "code",
   "execution_count": null,
   "metadata": {},
   "outputs": [],
   "source": [
    "%%timeit -r 10 -n 10\n",
    "list1 = []\n",
    "for _ in range(size):\n",
    "    list1.append(True)"
   ]
  },
  {
   "cell_type": "code",
   "execution_count": null,
   "metadata": {},
   "outputs": [],
   "source": [
    "%%timeit -r 10 -n 10\n",
    "deq1 = collections.deque()\n",
    "for _ in range(size):\n",
    "    deq1.append(True)"
   ]
  },
  {
   "cell_type": "code",
   "execution_count": null,
   "metadata": {},
   "outputs": [],
   "source": [
    "%%timeit -r 10 -n 10\n",
    "que1 = queue.Queue()\n",
    "for _ in range(size):\n",
    "    que1.put(True)"
   ]
  },
  {
   "cell_type": "markdown",
   "metadata": {},
   "source": [
    "`deque` がリストより多少高速である様です。\n",
    "\n",
    "可視化してみます。"
   ]
  },
  {
   "cell_type": "code",
   "execution_count": null,
   "metadata": {},
   "outputs": [],
   "source": [
    "%matplotlib inline\n",
    "import random, time, matplotlib.pyplot as plt, collections\n",
    "#時間を計測する関数\n",
    "def getSearchTimes_ListVsDeque(list_func, unitnum, unitsize):\n",
    "    #list_x1, list_ysを初期化\n",
    "    list_x1 = [];list_ys = []\n",
    "    for i in range(unitnum):\n",
    "        size1 = (i+1) * unitsize\n",
    "        #list_x1の値を格納\n",
    "        list_x1.append(size1)\n",
    "        # list_ysに格納する各探索結果を格納するリスト\n",
    "        list_y1 = []\n",
    "        for func1 in list_func:\n",
    "            time_init = time.time()\n",
    "            func1(size1)\n",
    "            list_y1.append(time.time() - time_init)\n",
    "        list_ys.append(list_y1)\n",
    "    return list_x1, list_ys\n",
    "#結果（計測した時間）を描画\n",
    "def drawResultTimes_ListVsDeque(list_x, list_ys, list_f, listnum):\n",
    "    list_searchname = [\"deque\", \"list\"]\n",
    "    list_color = [\"lightskyblue\", \"orange\"]\n",
    "    #plt.figure(figsize=(20, 10))\n",
    "    for i in range(len(list_ys[0])):\n",
    "        if list_f[i] is False:\n",
    "            continue\n",
    "        list_y = []\n",
    "        for j in range(listnum):\n",
    "            list_y.append(list_ys[j][i])\n",
    "        plt.plot(list_x, list_y, color=list_color[i], label=list_searchname[i]) \n",
    "    plt.legend();\n",
    "def list_tailinsert(size):\n",
    "    list1 = []\n",
    "    for i in range(size):\n",
    "        list1.append(True)\n",
    "def deque_tailinsert(size):\n",
    "    deq1 = collections.deque()\n",
    "    for i in range(size):\n",
    "        deq1.append(True)\n",
    "#各挿入の時間を計測する\n",
    "unitnum1 = 10; unitsize1 = 700000 #繰り返し回数と一回当たりの挿入総数を設定\n",
    "list_func = [deque_tailinsert, list_tailinsert]\n",
    "list_x1, list_ys1 = getSearchTimes_ListVsDeque(list_func, unitnum1, unitsize1) #時間を計測する\n",
    "drawResultTimes_ListVsDeque(list_x1, list_ys1, [True]*2, unitnum1) #結果（計測した時間）を描画"
   ]
  },
  {
   "cell_type": "markdown",
   "metadata": {},
   "source": [
    "次に先頭への要素の追加を比較してみます。非常に時間がかかりますので、`size` の値を小さくします。"
   ]
  },
  {
   "cell_type": "code",
   "execution_count": null,
   "metadata": {},
   "outputs": [],
   "source": [
    "size = 10000"
   ]
  },
  {
   "cell_type": "code",
   "execution_count": null,
   "metadata": {},
   "outputs": [],
   "source": [
    "%%timeit -r 10 -n 10\n",
    "list1 = []\n",
    "for i in range(size):\n",
    "    list1.insert(0, True)"
   ]
  },
  {
   "cell_type": "code",
   "execution_count": null,
   "metadata": {},
   "outputs": [],
   "source": [
    "%%timeit -r 10 -n 10\n",
    "deq1 = collections.deque()\n",
    "for i in range(size):\n",
    "    deq1.appendleft(True)"
   ]
  },
  {
   "cell_type": "markdown",
   "metadata": {},
   "source": [
    "こちらは `deque` が非常に高速であることが分かります。"
   ]
  },
  {
   "cell_type": "markdown",
   "metadata": {},
   "source": [
    "こちらも可視化してみます。"
   ]
  },
  {
   "cell_type": "code",
   "execution_count": null,
   "metadata": {},
   "outputs": [],
   "source": [
    "def list_topinsert(size):\n",
    "    list1 = []\n",
    "    for i in range(size):\n",
    "        list1.insert(0, True)\n",
    "def deque_topinsert(size):\n",
    "    deq1 = collections.deque()\n",
    "    for i in range(size):\n",
    "        deq1.appendleft(True)\n",
    "#各挿入の時間を計測する\n",
    "unitnum1 = 10; unitsize1 = 10000 #繰り返し回数と一回当たりの挿入総数を設定\n",
    "list_func = [deque_topinsert, list_topinsert]\n",
    "list_x1, list_ys1 = getSearchTimes_ListVsDeque(list_func, unitnum1, unitsize1) #時間を計測する\n",
    "drawResultTimes_ListVsDeque(list_x1, list_ys1, [True]*2, unitnum1) #結果（計測した時間）を描画"
   ]
  },
  {
   "cell_type": "markdown",
   "metadata": {},
   "source": [
    "要素の最後尾からの取り出しを比較します。"
   ]
  },
  {
   "cell_type": "code",
   "execution_count": null,
   "metadata": {},
   "outputs": [],
   "source": [
    "size = 100000"
   ]
  },
  {
   "cell_type": "code",
   "execution_count": null,
   "metadata": {},
   "outputs": [],
   "source": [
    "%%timeit -r 10 -n 10\n",
    "list1 = [True] * size\n",
    "for _ in range(size):\n",
    "    list1.pop()"
   ]
  },
  {
   "cell_type": "code",
   "execution_count": null,
   "metadata": {
    "scrolled": true
   },
   "outputs": [],
   "source": [
    "%%timeit -r 10 -n 10\n",
    "deq1 = collections.deque([True] * size)\n",
    "for _ in range(size):\n",
    "    deq1.pop()"
   ]
  },
  {
   "cell_type": "code",
   "execution_count": null,
   "metadata": {},
   "outputs": [],
   "source": [
    "def list_tailpop(size):\n",
    "    list1 = [True] * size\n",
    "    for _ in range(size):\n",
    "        list1.pop()\n",
    "def deque_tailpop(size):\n",
    "    deq1 = collections.deque([True] * size)\n",
    "    for _ in range(size):\n",
    "        deq1.pop()\n",
    "#各取り出しの時間を計測する\n",
    "unitnum1 = 10; unitsize1 = 1000000 #繰り返し回数と一回当たりの取り出し総数を設定\n",
    "list_func = [deque_tailpop, list_tailpop]\n",
    "list_x1, list_ys1 = getSearchTimes_ListVsDeque(list_func, unitnum1, unitsize1) #時間を計測する\n",
    "drawResultTimes_ListVsDeque(list_x1, list_ys1, [True]*2, unitnum1) #結果（計測した時間）を描画"
   ]
  },
  {
   "cell_type": "markdown",
   "metadata": {},
   "source": [
    "要素の先頭からの取り出しを比較します。やはり非常に時間がかかりますので、`size` を小さくします。"
   ]
  },
  {
   "cell_type": "code",
   "execution_count": null,
   "metadata": {},
   "outputs": [],
   "source": [
    "size = 10000"
   ]
  },
  {
   "cell_type": "code",
   "execution_count": null,
   "metadata": {},
   "outputs": [],
   "source": [
    "%%timeit -r 10 -n 10\n",
    "list1 = [True] * size\n",
    "for _ in range(size):\n",
    "    list1.pop(0)"
   ]
  },
  {
   "cell_type": "code",
   "execution_count": null,
   "metadata": {},
   "outputs": [],
   "source": [
    "%%timeit -r 10 -n 10\n",
    "deq1 = collections.deque([True] * size)\n",
    "for _ in range(size):\n",
    "    deq1.popleft()"
   ]
  },
  {
   "cell_type": "code",
   "execution_count": null,
   "metadata": {},
   "outputs": [],
   "source": [
    "#各取り出しの時間を計測する\n",
    "unitnum1 = 10; unitsize1 = 10000 #繰り返し回数と一回当たりの取り出し総数を設定\n",
    "list_func = [deque_toppop, list_toppop]\n",
    "list_x1, list_ys1 = getSearchTimes_ListVsDeque(list_func, unitnum1, unitsize1) #時間を計測する\n",
    "drawResultTimes_ListVsDeque(list_x1, list_ys1, [True]*2, unitnum1) #結果（計測した時間）を描画"
   ]
  },
  {
   "cell_type": "markdown",
   "metadata": {},
   "source": [
    "最後に、使用するおおよそのメモリの大きさを比較しておきます。"
   ]
  },
  {
   "cell_type": "code",
   "execution_count": null,
   "metadata": {},
   "outputs": [],
   "source": [
    "import sys\n",
    "size = 10000\n",
    "list1 = [True] * size\n",
    "deq1 = collections.deque([True] * size)\n",
    "print(\"リスト：\", sys.getsizeof(list1), \", deque：\", sys.getsizeof(deq1))"
   ]
  },
  {
   "cell_type": "code",
   "execution_count": null,
   "metadata": {},
   "outputs": [],
   "source": []
  }
 ],
 "metadata": {
  "kernelspec": {
   "display_name": "Python 3",
   "language": "python",
   "name": "python3"
  },
  "language_info": {
   "codemirror_mode": {
    "name": "ipython",
    "version": 3
   },
   "file_extension": ".py",
   "mimetype": "text/x-python",
   "name": "python",
   "nbconvert_exporter": "python",
   "pygments_lexer": "ipython3",
   "version": "3.7.4"
  }
 },
 "nbformat": 4,
 "nbformat_minor": 2
}
