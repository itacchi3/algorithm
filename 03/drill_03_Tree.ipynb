{
 "cells": [
  {
   "cell_type": "markdown",
   "metadata": {},
   "source": [
    "# 教養としてのアルゴリズムとデータ構造"
   ]
  },
  {
   "cell_type": "markdown",
   "metadata": {},
   "source": [
    "# 木構造練習問題"
   ]
  },
  {
   "cell_type": "markdown",
   "metadata": {},
   "source": [
    "<b><font color=\"red\">\n",
    "各問に解答するにあたり、以下の点に注意して下さい。\n",
    "\n",
    "1. 隣接リストは授業で配布したスライド (03_Tree.ppt, 14ページ) の形式に従うものとします。\n",
    "</font></b>"
   ]
  },
  {
   "cell_type": "markdown",
   "metadata": {},
   "source": [
    "## 木構造を構成する頂点の数\n",
    "\n",
    "木構造 $T$ を表す隣接リスト `list_adjlist` が引数として与えられたとき、$T$ を構成する点の数を返す関数 `getNumberOfNodes(list_adjlist)` を作成して下さい。\n",
    "\n",
    "以下のセルの `...` のところを書き換えて解答して下さい。<a id=\"getNumberOfNodesQ\" href=\"#getNumberOfNodesA\">[解答]</a>"
   ]
  },
  {
   "cell_type": "code",
   "execution_count": null,
   "metadata": {},
   "outputs": [],
   "source": [
    "#解答用セル\n",
    "def getNumberOfNodes(list_adjlist):\n",
    "    ..."
   ]
  },
  {
   "cell_type": "markdown",
   "metadata": {},
   "source": [
    "以下のセルを実行して `True` が出ることを確認して下さい。 "
   ]
  },
  {
   "cell_type": "code",
   "execution_count": null,
   "metadata": {
    "scrolled": true
   },
   "outputs": [],
   "source": [
    "list_adjlist_test1=[[1, 2], [], [3, 4], [], []]\n",
    "print(getNumberOfNodes(list_adjlist_test1)==5)\n",
    "list_adjlist_test2=[[1, 2, 3], [4, 5], [6, 7, 8, 9], [], [], [10], [], [], [], [], []]\n",
    "print(getNumberOfNodes(list_adjlist_test2)==11)"
   ]
  },
  {
   "cell_type": "markdown",
   "metadata": {},
   "source": [
    "なお、テストで用いている木は以下の様な形になっています。"
   ]
  },
  {
   "cell_type": "code",
   "execution_count": null,
   "metadata": {
    "scrolled": false
   },
   "outputs": [],
   "source": [
    "import networkx as nx, matplotlib.pyplot as plt\n",
    "%matplotlib inline\n",
    "#隣接リストをnx形式に変換（枝を加える）→描画\n",
    "def drawAdjlistUsingNx(nx_tree, list_adjlist, dic_pos, axval):\n",
    "    for node1 in range(0, len(list_adjlist)):\n",
    "        for node2 in list_adjlist[node1]:\n",
    "            nx_tree.add_edge(node1, node2)\n",
    "    axval.set_axis_off()\n",
    "    nx.draw_networkx(nx_tree, pos=dic_pos, ax=axval)\n",
    "#2つの木を描画\n",
    "fig, npar_axval = plt.subplots(1, 2, figsize=(7, 3))\n",
    "#1\n",
    "list_adjlist_test1=[[1, 2], [], [3, 4], [], []]; nx_tree1 = nx.Graph()\n",
    "drawAdjlistUsingNx(nx_tree1, list_adjlist_test1, None, npar_axval[0])\n",
    "#2\n",
    "list_adjlist_test2=[[1, 2, 3], [4, 5], [6, 7, 8, 9], [], [], [10], [], [], [], [], []]; nx_tree2 = nx.Graph()\n",
    "drawAdjlistUsingNx(nx_tree2, list_adjlist_test2, None, npar_axval[1])"
   ]
  },
  {
   "cell_type": "markdown",
   "metadata": {},
   "source": [
    "## 子供の一覧の取得\n",
    "\n",
    "木構造 $T$ を表す隣接リスト `list_adjlist` と点の名前 `initnode` が引数として与えられたとき、点 `initnode` の子供を格納したリストを返す関数 `getChildren` を作成して下さい。\n",
    "\n",
    "1. 各点は `0` 以上の整数で表されます。\n",
    "2. 根を表す番号は `0` です。\n",
    "3. `initnode` の値は `0` 以上、`len(list_adjlist)-1` 以下の整数とします。\n",
    "4. `initnode` に子がない場合は、空リストを返します。\n",
    "\n",
    "以下のセルの `...` のところを書き換えて解答して下さい。<a id=\"getChildrenQ\" href=\"#getChildrenA\">[解答]</a>"
   ]
  },
  {
   "cell_type": "code",
   "execution_count": null,
   "metadata": {},
   "outputs": [],
   "source": [
    "#解答用セル\n",
    "def getChildren(list_adjlist, initnode):\n",
    "    ..."
   ]
  },
  {
   "cell_type": "markdown",
   "metadata": {},
   "source": [
    "以下のセルを実行して `True` が出ることを確認して下さい。 "
   ]
  },
  {
   "cell_type": "code",
   "execution_count": null,
   "metadata": {
    "scrolled": true
   },
   "outputs": [],
   "source": [
    "list_adjlist_test1=[[1, 2], [], [3, 4], [], []]\n",
    "print(sorted(getChildren(list_adjlist_test1, 0))==[1, 2])\n",
    "print(sorted(getChildren(list_adjlist_test1, 1))==[])\n",
    "print(sorted(getChildren(list_adjlist_test1, 2))==[3, 4])\n",
    "print(sorted(getChildren(list_adjlist_test1, 4))==[])"
   ]
  },
  {
   "cell_type": "markdown",
   "metadata": {},
   "source": [
    "なお、テストで用いている木は以下の様な形になっています。"
   ]
  },
  {
   "cell_type": "code",
   "execution_count": null,
   "metadata": {
    "scrolled": false
   },
   "outputs": [],
   "source": [
    "import networkx as nx, matplotlib.pyplot as plt\n",
    "%matplotlib inline\n",
    "#隣接リストをnx形式に変換（枝を加える）→描画\n",
    "def drawAdjlistUsingNx(nx_tree, list_adjlist, dic_pos, axval):\n",
    "    for node1 in range(0, len(list_adjlist)):\n",
    "        for node2 in list_adjlist[node1]:\n",
    "            nx_tree.add_edge(node1, node2)\n",
    "    axval.set_axis_off()\n",
    "    nx.draw_networkx(nx_tree, pos=dic_pos, ax=axval)\n",
    "#1つの木を描画\n",
    "fig, npar_axval = plt.subplots(1, 1, figsize=(3, 3))\n",
    "#1\n",
    "list_adjlist_test1=[[1, 2], [], [3, 4], [], []]\n",
    "nx_tree1 = nx.Graph()\n",
    "drawAdjlistUsingNx(nx_tree1, list_adjlist_test1, None, npar_axval)"
   ]
  },
  {
   "cell_type": "markdown",
   "metadata": {},
   "source": [
    "## 子供のいる親\n",
    "\n",
    "\n",
    "木構造 $T$ を表す隣接リスト `list_adjlist` が引数として与えられたとき、子供がいる点の名前を格納したリスト `list_parent` を返す関数 `checkChild(list_adjlist)` を作成して下さい。以下の点に注意して解答して下さい。\n",
    "\n",
    "以下のセルの `...` のところを書き換えて解答して下さい。<a id=\"checkChildQ\" href=\"#checkChildA\">[解答]</a>"
   ]
  },
  {
   "cell_type": "code",
   "execution_count": null,
   "metadata": {},
   "outputs": [],
   "source": [
    "#解答用セル\n",
    "def checkChild(list_adjlist):\n",
    "    ...\n",
    "    return list_parent"
   ]
  },
  {
   "cell_type": "markdown",
   "metadata": {},
   "source": [
    "以下のセルを実行して `True` が出ることを確認して下さい。 "
   ]
  },
  {
   "cell_type": "code",
   "execution_count": null,
   "metadata": {
    "scrolled": true
   },
   "outputs": [],
   "source": [
    "list_adjlist_test1=[[1, 2], [], [3, 4], [], []]\n",
    "print(sorted(checkChild(list_adjlist_test1))==[0, 2])\n",
    "list_adjlist_test2=[[1, 2, 3], [4, 5], [6, 7, 8, 9], [], [], [10], [], [], [], [], []]\n",
    "print(sorted(checkChild(list_adjlist_test2))==[0, 1, 2, 5])"
   ]
  },
  {
   "cell_type": "markdown",
   "metadata": {},
   "source": [
    "なお、テストで用いている木は以下の様な形になっています。"
   ]
  },
  {
   "cell_type": "code",
   "execution_count": null,
   "metadata": {
    "scrolled": true
   },
   "outputs": [],
   "source": [
    "import networkx as nx, matplotlib.pyplot as plt\n",
    "%matplotlib inline\n",
    "#隣接リストをnx形式に変換（枝を加える）→描画\n",
    "def drawAdjlistUsingNx(nx_tree, list_adjlist, dic_pos, axval):\n",
    "    for node1 in range(0, len(list_adjlist)):\n",
    "        for node2 in list_adjlist[node1]:\n",
    "            nx_tree.add_edge(node1, node2)\n",
    "    axval.set_axis_off()\n",
    "    nx.draw_networkx(nx_tree, pos=dic_pos, ax=axval)\n",
    "#2つの木を描画\n",
    "fig, npar_axval = plt.subplots(1, 2, figsize=(7, 3))\n",
    "#1\n",
    "list_adjlist_test1=[[1, 2], [], [3, 4], [], []]; nx_tree1 = nx.Graph()\n",
    "drawAdjlistUsingNx(nx_tree1, list_adjlist_test1, None, npar_axval[0])\n",
    "#2\n",
    "list_adjlist_test2=[[1, 2, 3], [4, 5], [6, 7, 8, 9], [], [], [10], [], [], [], [], []]; nx_tree2 = nx.Graph()\n",
    "drawAdjlistUsingNx(nx_tree2, list_adjlist_test2, None, npar_axval[1])"
   ]
  },
  {
   "cell_type": "markdown",
   "metadata": {},
   "source": [
    "## 木構造を構成する枝（辺）の数\n",
    "\n",
    "木構造 $T$ を表す隣接リスト `list_adjlist` が引数として与えられたとき、$T$ を構成する枝（辺）の数を返す関数 `getNumberOfEdges(list_adjlist)` を作成して下さい。\n",
    "\n",
    "ただし、隣接リストが空であることはないものとします。\n",
    "\n",
    "以下のセルの `...` のところを書き換えて解答して下さい。<a id=\"getNumberOfEdgesQ\" href=\"#getNumberOfEdgesA\">[解答]</a>"
   ]
  },
  {
   "cell_type": "code",
   "execution_count": null,
   "metadata": {},
   "outputs": [],
   "source": [
    "#解答用セル\n",
    "def getNumberOfEdges(list_adjlist):\n",
    "    ..."
   ]
  },
  {
   "cell_type": "markdown",
   "metadata": {},
   "source": [
    "以下のセルを実行して `True` が出ることを確認して下さい。 "
   ]
  },
  {
   "cell_type": "code",
   "execution_count": null,
   "metadata": {
    "scrolled": true
   },
   "outputs": [],
   "source": [
    "list_adjlist_test1=[[1, 2], [], [3, 4], [], []]\n",
    "print(getNumberOfNodes(list_adjlist_test1)==4)\n",
    "list_adjlist_test2=[[1, 2, 3], [4, 5], [6, 7, 8, 9], [], [], [10], [], [], [], [], []]\n",
    "print(getNumberOfNodes(list_adjlist_test2)==10)"
   ]
  },
  {
   "cell_type": "markdown",
   "metadata": {},
   "source": [
    "なお、テストで用いている木は以下の様な形になっています。"
   ]
  },
  {
   "cell_type": "code",
   "execution_count": null,
   "metadata": {
    "scrolled": false
   },
   "outputs": [],
   "source": [
    "import networkx as nx, matplotlib.pyplot as plt\n",
    "%matplotlib inline\n",
    "#隣接リストをnx形式に変換（枝を加える）→描画\n",
    "def drawAdjlistUsingNx(nx_tree, list_adjlist, dic_pos, axval):\n",
    "    for node1 in range(0, len(list_adjlist)):\n",
    "        for node2 in list_adjlist[node1]:\n",
    "            nx_tree.add_edge(node1, node2)\n",
    "    axval.set_axis_off()\n",
    "    nx.draw_networkx(nx_tree, pos=dic_pos, ax=axval)\n",
    "#2つの木を描画\n",
    "fig, npar_axval = plt.subplots(1, 2, figsize=(7, 3))\n",
    "#1\n",
    "list_adjlist_test1=[[1, 2], [], [3, 4], [], []]; nx_tree1 = nx.Graph()\n",
    "drawAdjlistUsingNx(nx_tree1, list_adjlist_test1, None, npar_axval[0])\n",
    "#2\n",
    "list_adjlist_test2=[[1, 2, 3], [4, 5], [6, 7, 8, 9], [], [], [10], [], [], [], [], []]; nx_tree2 = nx.Graph()\n",
    "drawAdjlistUsingNx(nx_tree2, list_adjlist_test2, None, npar_axval[1])"
   ]
  },
  {
   "cell_type": "markdown",
   "metadata": {},
   "source": [
    "## 祖父の取得"
   ]
  },
  {
   "cell_type": "markdown",
   "metadata": {},
   "source": [
    "木構造の各点の親の名前を格納したリスト `list_parent`, 点の名前 `initnode` が与えられたとき、`initnode` の親の親の名前を返す関数 `getGrandfather` を作成して下さい。\n",
    "\n",
    "1. 各点は `0` 以上の整数で表されます。\n",
    "2. 根を表す番号は `0` です。\n",
    "3. 根の親は `-1` です。\n",
    "4. 親や親の親が存在しない場合は、`-1` を返します。\n",
    "\n",
    "以下のセルの `...` のところを書き換えて解答して下さい。<a id=\"getGrandfatherQ\" href=\"#getGrandfatherA\">[解答]</a>"
   ]
  },
  {
   "cell_type": "code",
   "execution_count": null,
   "metadata": {},
   "outputs": [],
   "source": [
    "#解答用セル\n",
    "def getGrandfather(list_parent, initnode):\n",
    "    ..."
   ]
  },
  {
   "cell_type": "markdown",
   "metadata": {},
   "source": [
    "以下のセルを実行して `True` が出ることを確認して下さい。 "
   ]
  },
  {
   "cell_type": "code",
   "execution_count": null,
   "metadata": {},
   "outputs": [],
   "source": [
    "list_parent_test1=[-1, 0, 0, 2, 2]\n",
    "print(getGrandfather(list_parent_test1, 3)==0)\n",
    "print(getGrandfather(list_parent_test1, 4)==0)\n",
    "print(getGrandfather(list_parent_test1, 0)==-1)\n",
    "print(getGrandfather(list_parent_test1, 2)==-1)\n",
    "list_parent_test2=[-1, 0, 0, 0, 1, 1, 2, 2, 2, 2, 5]\n",
    "print(getGrandfather(list_parent_test2, 10)==1)\n",
    "print(getGrandfather(list_parent_test2, 5)==0)"
   ]
  },
  {
   "cell_type": "markdown",
   "metadata": {},
   "source": [
    "なお、テストで用いている木は以下の様な形になっています。"
   ]
  },
  {
   "cell_type": "code",
   "execution_count": null,
   "metadata": {
    "scrolled": false
   },
   "outputs": [],
   "source": [
    "import networkx as nx, matplotlib.pyplot as plt\n",
    "%matplotlib inline\n",
    "#隣接リストをnx形式に変換（枝を加える）→描画\n",
    "def drawAdjlistUsingNx(nx_tree, list_adjlist, dic_pos, axval):\n",
    "    for node1 in range(0, len(list_adjlist)):\n",
    "        for node2 in list_adjlist[node1]:\n",
    "            nx_tree.add_edge(node1, node2)\n",
    "    axval.set_axis_off()\n",
    "    nx.draw_networkx(nx_tree, pos=dic_pos, ax=axval)\n",
    "#2つの木を描画\n",
    "fig, npar_axval = plt.subplots(1, 2, figsize=(7, 3))\n",
    "#1\n",
    "list_adjlist_test1=[[1, 2], [], [3, 4], [], []]; nx_tree1 = nx.Graph()\n",
    "drawAdjlistUsingNx(nx_tree1, list_adjlist_test1, None, npar_axval[0])\n",
    "#2\n",
    "list_adjlist_test2=[[1, 2, 3], [4, 5], [6, 7, 8, 9], [], [], [10], [], [], [], [], []]; nx_tree2 = nx.Graph()\n",
    "drawAdjlistUsingNx(nx_tree2, list_adjlist_test2, None, npar_axval[1])"
   ]
  },
  {
   "cell_type": "markdown",
   "metadata": {},
   "source": [
    "## 先祖の取得"
   ]
  },
  {
   "cell_type": "markdown",
   "metadata": {},
   "source": [
    "木構造の各点の親の名前を格納したリスト `list_parent`, 点の名前 `initnode`, `0` 以上の整数 `anc` が与えられたとき、`initnode` の `anc` 世代前の先祖の頂点の名前を返す関数 `getAncestor` を作成して下さい。\n",
    "\n",
    "1. 各点は `0` 以上の整数で表されます。\n",
    "2. 根を表す番号は `0` です。\n",
    "3. `0` 世代前の先祖は `initnode` 自身、`1` 世代前の先祖は `initnode` の親、2` 世代前の先祖は `initnode` の親の親という様に定義します。\n",
    "4. `list_parent` の `i` 番目の要素 `list_parent[i]` は、点 `i` の親の番号を格納しています。\n",
    "5. `anc` 世代前の先祖が存在しない場合は `-1` を返して下さい。\n",
    " * 例えば、根の `1` 世代前の先祖は存在しませんので、`-1` を返します。\n",
    "6. 根の親は `-1` です。\n",
    "\n",
    "以下のセルの `...` のところを書き換えて解答して下さい。<a id=\"getAncestorQ\" href=\"#getAncestorA\">[解答]</a>"
   ]
  },
  {
   "cell_type": "code",
   "execution_count": null,
   "metadata": {},
   "outputs": [],
   "source": [
    "#解答用セル\n",
    "def getAncestor(list_parent, initnode, anc):\n",
    "    ..."
   ]
  },
  {
   "cell_type": "markdown",
   "metadata": {},
   "source": [
    "以下のセルを実行して `True` が出ることを確認して下さい。 "
   ]
  },
  {
   "cell_type": "code",
   "execution_count": null,
   "metadata": {},
   "outputs": [],
   "source": [
    "list_parent_test1=[-1, 0, 0, 2, 2]\n",
    "print(getAncestor(list_parent_test1, 3, 1)==2)\n",
    "print(getAncestor(list_parent_test1, 3, 2)==0)\n",
    "print(getAncestor(list_parent_test1, 3, 3)==-1)\n",
    "print(getAncestor(list_parent_test1, 3, 0)==3)\n",
    "print(getAncestor(list_parent_test1, 0, 10)==-1)\n",
    "list_parent_test2=[-1, 0, 0, 0, 1, 1, 2, 2, 2, 2, 5]\n",
    "print(getAncestor(list_parent_test2, 10, 3)==0)"
   ]
  },
  {
   "cell_type": "markdown",
   "metadata": {},
   "source": [
    "なお、テストで用いている木は以下の様な形になっています。"
   ]
  },
  {
   "cell_type": "code",
   "execution_count": null,
   "metadata": {
    "scrolled": false
   },
   "outputs": [],
   "source": [
    "import networkx as nx, matplotlib.pyplot as plt\n",
    "%matplotlib inline\n",
    "#隣接リストをnx形式に変換（枝を加える）→描画\n",
    "def drawAdjlistUsingNx(nx_tree, list_adjlist, dic_pos, axval):\n",
    "    for node1 in range(0, len(list_adjlist)):\n",
    "        for node2 in list_adjlist[node1]:\n",
    "            nx_tree.add_edge(node1, node2)\n",
    "    axval.set_axis_off()\n",
    "    nx.draw_networkx(nx_tree, pos=dic_pos, ax=axval)\n",
    "#2つの木を描画\n",
    "fig, npar_axval = plt.subplots(1, 2, figsize=(7, 3))\n",
    "#1\n",
    "list_adjlist_test1=[[1, 2], [], [3, 4], [], []]; nx_tree1 = nx.Graph()\n",
    "drawAdjlistUsingNx(nx_tree1, list_adjlist_test1, None, npar_axval[0])\n",
    "#2\n",
    "list_adjlist_test2=[[1, 2, 3], [4, 5], [6, 7, 8, 9], [], [], [10], [], [], [], [], []]; nx_tree2 = nx.Graph()\n",
    "drawAdjlistUsingNx(nx_tree2, list_adjlist_test2, None, npar_axval[1])"
   ]
  },
  {
   "cell_type": "markdown",
   "metadata": {},
   "source": [
    "## 孫の一覧の取得\n",
    "\n",
    "木構造 $T$ を表す隣接リスト `list_adjlist` と点の名前 `initnode` が引数として与えられたとき、点 `initnode` の各子供の全ての子供（つまり、`initnode` の全ての孫）を格納したリスト `list_grancchild` を返す関数 `getGrandchildren` を作成して下さい。\n",
    "\n",
    "1. 各点は `0` 以上の整数で表されます。\n",
    "2. 根を表す番号は `0` です。\n",
    "3. `initnode` の値は `0` 以上、`len(list_adjlist)-1` 以下の整数とします。\n",
    "4. `initnode` に子がない場合は、空リストを返します。\n",
    "5. `inittnode` のどの子も子がない場合も空リストを返します。\n",
    "\n",
    "以下のセルの `...` のところを書き換えて解答して下さい。<a id=\"getGrandchildrenQ\" href=\"#getGrandchildrenA\">[解答]</a>"
   ]
  },
  {
   "cell_type": "code",
   "execution_count": null,
   "metadata": {},
   "outputs": [],
   "source": [
    "#解答用セル\n",
    "def getGrandchildren(list_adjlist, initnode):\n",
    "    ...\n",
    "    return list_grancchild"
   ]
  },
  {
   "cell_type": "markdown",
   "metadata": {},
   "source": [
    "上のセルで解答を作成した後、以下のセルを実行し、実行結果が `True` になることを確認して下さい。"
   ]
  },
  {
   "cell_type": "code",
   "execution_count": null,
   "metadata": {},
   "outputs": [],
   "source": [
    "list_adjlist_test1=[[1, 2], [], [3, 4], [], []]\n",
    "print(sorted(getGrandchildren(list_adjlist_test1, 0))==[3,4])\n",
    "print(sorted(getGrandchildren(list_adjlist_test1, 1))==[])\n",
    "print(sorted(getGrandchildren(list_adjlist_test1, 4))==[])\n",
    "list_adjlist_test2=[[1, 2, 3], [4, 5], [6, 7, 8, 9], [], [], [10], [], [], [], [], []]\n",
    "print(sorted(getGrandchildren(list_adjlist_test2, 0))==[4, 5, 6, 7, 8, 9])\n",
    "print(sorted(getGrandchildren(list_adjlist_test2, 1))==[10])\n",
    "print(sorted(getGrandchildren(list_adjlist_test2, 2))==[])"
   ]
  },
  {
   "cell_type": "markdown",
   "metadata": {},
   "source": [
    "なお、テストで用いている木は以下の様な形になっています。"
   ]
  },
  {
   "cell_type": "code",
   "execution_count": null,
   "metadata": {
    "scrolled": true
   },
   "outputs": [],
   "source": [
    "import networkx as nx, matplotlib.pyplot as plt\n",
    "%matplotlib inline\n",
    "#隣接リストをnx形式に変換（枝を加える）→描画\n",
    "def drawAdjlistUsingNx(nx_tree, list_adjlist, dic_pos, axval):\n",
    "    for node1 in range(0, len(list_adjlist)):\n",
    "        for node2 in list_adjlist[node1]:\n",
    "            nx_tree.add_edge(node1, node2)\n",
    "    axval.set_axis_off()\n",
    "    nx.draw_networkx(nx_tree, pos=dic_pos, ax=axval)\n",
    "#2つの木を描画\n",
    "fig, npar_axval = plt.subplots(1, 2, figsize=(7, 3))\n",
    "#1\n",
    "list_adjlist_test1=[[1, 2], [], [3, 4], [], []]; nx_tree1 = nx.Graph()\n",
    "drawAdjlistUsingNx(nx_tree1, list_adjlist_test1, None, npar_axval[0])\n",
    "#2\n",
    "list_adjlist_test2=[[1, 2, 3], [4, 5], [6, 7, 8, 9], [], [], [10], [], [], [], [], []]; nx_tree2 = nx.Graph()\n",
    "drawAdjlistUsingNx(nx_tree2, list_adjlist_test2, None, npar_axval[1])"
   ]
  },
  {
   "cell_type": "markdown",
   "metadata": {},
   "source": [
    "## ひ孫の一覧の取得\n",
    "\n",
    "木構造 $T$ を表す隣接リスト `list_adjlist` と点の名前 `initnode` が引数として与えられたとき、点 `initnode` の各子供の全ての子供（つまり、`initnode` の全ての孫）を格納したリスト `list_greatgrancchild` を返す関数 `getGreatgrandchildren` を作成して下さい。\n",
    "\n",
    "1. 各点は `0` 以上の整数で表されます。\n",
    "2. 根を表す番号は `0` です。\n",
    "3. `initnode` の値は `0` 以上、`len(list_adjlist)-1` 以下の整数とします。\n",
    "4. `initnode` に子がない場合は、空リストを返します。\n",
    "5. `inittnode` のどの子も子（孫）がない場合も空リストを返します。\n",
    "5. `inittnode` のどの孫も子がない場合も空リストを返します。\n",
    "\n",
    "以下のセルの `...` のところを書き換えて解答して下さい。<a id=\"getGreatgrandchildrenQ\" href=\"#getGreatgrandchildrenA\">[解答]</a>"
   ]
  },
  {
   "cell_type": "code",
   "execution_count": null,
   "metadata": {},
   "outputs": [],
   "source": [
    "#解答用セル\n",
    "def getGreatgrandchildren(list_adjlist, initnode):\n",
    "    ...\n",
    "    return list_greatgrancchild"
   ]
  },
  {
   "cell_type": "markdown",
   "metadata": {},
   "source": [
    "上のセルで解答を作成した後、以下のセルを実行し、実行結果が `True` になることを確認して下さい。"
   ]
  },
  {
   "cell_type": "code",
   "execution_count": null,
   "metadata": {},
   "outputs": [],
   "source": [
    "list_adjlist_test1=[[1, 2], [], [3, 4], [], []]\n",
    "print(sorted(getGreatgrandchildren(list_adjlist_test1, 0))==[])\n",
    "print(sorted(getGreatgrandchildren(list_adjlist_test1, 1))==[])\n",
    "print(sorted(getGreatgrandchildren(list_adjlist_test1, 4))==[])\n",
    "list_adjlist_test2=[[1, 2, 3], [4, 5], [6, 7, 8, 9], [], [], [10], [], [], [], [], []]\n",
    "print(sorted(getGreatgrandchildren(list_adjlist_test2, 0))==[10])\n",
    "print(sorted(getGreatgrandchildren(list_adjlist_test2, 1))==[])\n",
    "print(sorted(getGreatgrandchildren(list_adjlist_test2, 2))==[])"
   ]
  },
  {
   "cell_type": "markdown",
   "metadata": {},
   "source": [
    "なお、テストで用いている木は以下の様な形になっています。"
   ]
  },
  {
   "cell_type": "code",
   "execution_count": null,
   "metadata": {
    "scrolled": true
   },
   "outputs": [],
   "source": [
    "import networkx as nx, matplotlib.pyplot as plt\n",
    "%matplotlib inline\n",
    "#隣接リストをnx形式に変換（枝を加える）→描画\n",
    "def drawAdjlistUsingNx(nx_tree, list_adjlist, dic_pos, axval):\n",
    "    for node1 in range(0, len(list_adjlist)):\n",
    "        for node2 in list_adjlist[node1]:\n",
    "            nx_tree.add_edge(node1, node2)\n",
    "    axval.set_axis_off()\n",
    "    nx.draw_networkx(nx_tree, pos=dic_pos, ax=axval)\n",
    "#2つの木を描画\n",
    "fig, npar_axval = plt.subplots(1, 2, figsize=(7, 3))\n",
    "#1\n",
    "list_adjlist_test1=[[1, 2], [], [3, 4], [], []]; nx_tree1 = nx.Graph()\n",
    "drawAdjlistUsingNx(nx_tree1, list_adjlist_test1, None, npar_axval[0])\n",
    "#2\n",
    "list_adjlist_test2=[[1, 2, 3], [4, 5], [6, 7, 8, 9], [], [], [10], [], [], [], [], []]; nx_tree2 = nx.Graph()\n",
    "drawAdjlistUsingNx(nx_tree2, list_adjlist_test2, None, npar_axval[1])"
   ]
  },
  {
   "cell_type": "markdown",
   "metadata": {},
   "source": [
    "## 幅優先探索の実行"
   ]
  },
  {
   "cell_type": "markdown",
   "metadata": {},
   "source": [
    "木構造の根から幅優先探索を実行し、点 `targetnode` が木構造の中に含まれているかどうか調べる関数 `BFSForTarget` を作成して下さい。\n",
    "\n",
    "具体的には、木構造 $T$ を表す隣接リスト `list_adjlist` が引数として与えられたとき、$T$ に対して幅優先探索を行って根から各点を順に探索して、点 `targetnode` が含まれていれば `True` を、そうでなければ `False` を返す関数 `BFSForTarget` を作成して下さい。以下の点に注意して解答して下さい。\n",
    "\n",
    "1. 各点は `0` 以上の整数で表されます。\n",
    "2. 根を表す番号は `0` です。\n",
    "3. 根から探索を開始するので、`targetnode` の値が `0` 以上 `len(list_adjlist)-1` 以下でなければ、`False` を返すということになりますが。その様な解き方をする問題ではありません。\n",
    "4. while文内のどこかで目的の点 `targetnode` を見つけた場合に `True` を返す様にします。\n",
    "\n",
    "以下のセルの `...` のところを書き換えて解答して下さい。<a id=\"BFSForTargetQ\" href=\"#BFSForTargetA\">[解答]</a>"
   ]
  },
  {
   "cell_type": "code",
   "execution_count": null,
   "metadata": {},
   "outputs": [],
   "source": [
    "#解答用セル\n",
    "def BFSForTarget(list_adjlist, targetnode):\n",
    "    #FIFOキューを初期化\n",
    "    FIFO = ...\n",
    "    #根の名前(0)をFIFOキューに入れる\n",
    "    FIFO....\n",
    "    #FIFOキューが空になるまで探索（ループ）\n",
    "    ##このループ内のどこかで、目的の点targetnodeを見つけた場合にreturn Trueを実行する\n",
    "    while(len(FIFO.list_data) > 0):\n",
    "        # FIFOキューから点node1を取り出す\n",
    "        node1 = ...\n",
    "        #node1の子childnodeを全て処理する\n",
    "        for ...:\n",
    "            #node1の子childnodeをFIFOキューに入れる\n",
    "            ...    \n",
    "    #目的の点targetnodeが最後まで見つからなかった\n",
    "    return False"
   ]
  },
  {
   "cell_type": "markdown",
   "metadata": {},
   "source": [
    "上のセルで解答を作成した後、以下のセルを実行し、実行結果が `True` になることを確認して下さい。"
   ]
  },
  {
   "cell_type": "code",
   "execution_count": null,
   "metadata": {},
   "outputs": [],
   "source": [
    "list_adjlist_test1=[[1, 2], [], [3, 4], [], []]\n",
    "targetnode_test1 = 4\n",
    "print(BFSForTarget(list_adjlist_test1, targetnode_test1)==True)\n",
    "targetnode_test2 = 5\n",
    "print(BFSForTarget(list_adjlist_test1, targetnode_test2)==False)\n",
    "list_adjlist_test1=[[1, 2], [], [3, 4], [], []]\n",
    "targetnode_test3 = 0\n",
    "print(BFSForTarget(list_adjlist_test1, targetnode_test3)==True)"
   ]
  },
  {
   "cell_type": "markdown",
   "metadata": {},
   "source": [
    "なお、テストで用いている木は以下の様な形になっています。"
   ]
  },
  {
   "cell_type": "code",
   "execution_count": null,
   "metadata": {
    "scrolled": true
   },
   "outputs": [],
   "source": [
    "import networkx as nx, matplotlib.pyplot as plt\n",
    "%matplotlib inline\n",
    "#隣接リストをnx形式に変換（枝を加える）→描画\n",
    "def drawAdjlistUsingNx(nx_tree, list_adjlist, dic_pos, axval):\n",
    "    for node1 in range(0, len(list_adjlist)):\n",
    "        for node2 in list_adjlist[node1]:\n",
    "            nx_tree.add_edge(node1, node2)\n",
    "    axval.set_axis_off()\n",
    "    nx.draw_networkx(nx_tree, pos=dic_pos, ax=axval)\n",
    "#1つの木を描画\n",
    "fig, npar_axval = plt.subplots(1, 1, figsize=(3, 3))\n",
    "#1\n",
    "list_adjlist_test1=[[1, 2], [], [3, 4], [], []]\n",
    "nx_tree1 = nx.Graph()\n",
    "drawAdjlistUsingNx(nx_tree1, list_adjlist_test1, None, npar_axval)"
   ]
  },
  {
   "cell_type": "markdown",
   "metadata": {},
   "source": [
    "## 幅優先探索を用いた子孫の探索"
   ]
  },
  {
   "cell_type": "markdown",
   "metadata": {},
   "source": [
    "木構造の根から幅優先探索を実行し、点 `targetnode` が点 `initnode` の子孫であれば `True` を、そうでなければ `False` を返す関数 `BFSForCheckingDescendant` を作成して下さい。\n",
    "\n",
    "具体的には、木構造 $T$ を表す隣接リスト `list_adjlist` が引数として与えられたとき、$T$ に対して幅優先探索を行って点 `initnode` から各点を順に探索して、点 `targetnode` が含まれていれば `True` を、そうでなければ `False` を返す関数 `BFSForCheckingDescendant` を作成して下さい。以下の点に注意して解答して下さい。\n",
    "\n",
    "1. 各点は `0` 以上の整数で表されます。\n",
    "2. 根を表す番号は `0` です。\n",
    "3. `initnode` の値は `0` 以上、`len(list_adjlist)-1` 以下の整数とします。\n",
    "\n",
    "以下のセルの `...` のところを書き換えて解答して下さい。<a id=\"BFSForDescendantQ\" href=\"#BFSForDescendantA\">[解答]</a>"
   ]
  },
  {
   "cell_type": "code",
   "execution_count": null,
   "metadata": {},
   "outputs": [],
   "source": [
    "#解答用セル\n",
    "def BFSForDescendant(list_adjlist, initnode, targetnode):\n",
    "    ...\n",
    "    return False"
   ]
  },
  {
   "cell_type": "markdown",
   "metadata": {},
   "source": [
    "上のセルで解答を作成した後、以下のセルを実行し、実行結果が `True` になることを確認して下さい。"
   ]
  },
  {
   "cell_type": "code",
   "execution_count": null,
   "metadata": {},
   "outputs": [],
   "source": [
    "list_adjlist_test1=[[1, 2], [], [3, 4], [], []]\n",
    "initnode_test1 = 0; targetnode_test1 = 3\n",
    "print(BFSForDescendant(list_adjlist_test1, initnode_test1, targetnode_test1)== True)\n",
    "initnode_test1 = 0; targetnode_test1 = 5\n",
    "print(BFSForDescendant(list_adjlist_test1, initnode_test1, targetnode_test1)== False)\n",
    "initnode_test1 = 1; targetnode_test1 = 3\n",
    "print(BFSForDescendant(list_adjlist_test1, initnode_test1, targetnode_test1)== False)\n",
    "initnode_test1 = 4; targetnode_test1 = 2\n",
    "print(BFSForDescendant(list_adjlist_test1, initnode_test1, targetnode_test1)== False)\n",
    "list_adjlist_test2=[[1, 2, 3], [4, 5], [6, 7, 8, 9], [], [], [10], [], [], [], [], []]\n",
    "initnode_test2 = 1; targetnode_test2 = 10\n",
    "print(BFSForDescendant(list_adjlist_test2, initnode_test2, targetnode_test2)== True)"
   ]
  },
  {
   "cell_type": "markdown",
   "metadata": {},
   "source": [
    "なお、テストで用いている木は以下の様な形になっています。"
   ]
  },
  {
   "cell_type": "code",
   "execution_count": null,
   "metadata": {
    "scrolled": false
   },
   "outputs": [],
   "source": [
    "import networkx as nx, matplotlib.pyplot as plt\n",
    "%matplotlib inline\n",
    "#隣接リストをnx形式に変換（枝を加える）→描画\n",
    "def drawAdjlistUsingNx(nx_tree, list_adjlist, dic_pos, axval):\n",
    "    for node1 in range(0, len(list_adjlist)):\n",
    "        for node2 in list_adjlist[node1]:\n",
    "            nx_tree.add_edge(node1, node2)\n",
    "    axval.set_axis_off()\n",
    "    nx.draw_networkx(nx_tree, pos=dic_pos, ax=axval)\n",
    "#2つの木を描画\n",
    "fig, npar_axval = plt.subplots(1, 2, figsize=(7, 3))\n",
    "#1\n",
    "list_adjlist_test1=[[1, 2], [], [3, 4], [], []]; nx_tree1 = nx.Graph()\n",
    "drawAdjlistUsingNx(nx_tree1, list_adjlist_test1, None, npar_axval[0])\n",
    "#2\n",
    "list_adjlist_test2=[[1, 2, 3], [4, 5], [6, 7, 8, 9], [], [], [10], [], [], [], [], []]; nx_tree2 = nx.Graph()\n",
    "drawAdjlistUsingNx(nx_tree2, list_adjlist_test2, None, npar_axval[1])"
   ]
  },
  {
   "cell_type": "markdown",
   "metadata": {},
   "source": [
    "## 兄弟の取得\n",
    "\n",
    "\n",
    "木構造 $T$ を表す隣接リスト `list_adjlist` と点 `targetnode` が引数として与えられたとき、 `targetnode` のきょうだい（`targetnode` の親の子供）を格納したリストを返す関数 `getSiblings` を作成して下さい。以下の点に注意して解答して下さい。\n",
    "\n",
    "1. 各点は `0` 以上の整数で表されます。\n",
    "2. 根を表す番号は `0` です。\n",
    "3. `targetnode` の値は `0` 以上、`len(list_adjlist)-1` 以下の整数とします。\n",
    "4. `targetnode` の親の全ての子供を格納したリストを返します。即ち、そのリストは `targetnode` を含めます。\n",
    "5. `targetnode` が根である場合は、`targetnode` のみを格納したリストを返します。\n",
    "\n",
    "以下のセルの `...` のところを書き換えて解答して下さい。<a id=\"getSiblingsQ\" href=\"#getSiblingsA\">[解答]</a>"
   ]
  },
  {
   "cell_type": "code",
   "execution_count": null,
   "metadata": {},
   "outputs": [],
   "source": [
    "#解答用セル\n",
    "def getSiblings(list_adjlist, targetnode):\n",
    "    ..."
   ]
  },
  {
   "cell_type": "markdown",
   "metadata": {},
   "source": [
    "以下のセルを実行して `True` が出ることを確認して下さい。 "
   ]
  },
  {
   "cell_type": "code",
   "execution_count": null,
   "metadata": {},
   "outputs": [],
   "source": [
    "list_adjlist_test1=[[1, 2], [], [3, 4], [], []]\n",
    "print(sorted(getSiblings(list_adjlist_test1, 1))==[1, 2])\n",
    "print(sorted(getSiblings(list_adjlist_test1, 3))==[3, 4])\n",
    "print(sorted(getSiblings(list_adjlist_test1, 0))==[0])\n",
    "list_adjlist_test2=[[1, 2, 3], [4, 5], [6, 7, 8, 9], [], [], [10], [], [], [], [], []]\n",
    "print(sorted(getSiblings(list_adjlist_test2, 3))==[1,2,3])\n",
    "print(sorted(getSiblings(list_adjlist_test2, 10))==[10])\n",
    "print(sorted(getSiblings(list_adjlist_test2, 6))==[6,7,8,9])\n",
    "print(sorted(getSiblings(list_adjlist_test2, 7))==[6,7,8,9])\n",
    "print(sorted(getSiblings(list_adjlist_test2, 8))==[6,7,8,9])"
   ]
  },
  {
   "cell_type": "markdown",
   "metadata": {},
   "source": [
    "## 幅優先探索を用いた最短経路の取得\n",
    "\n",
    "木構造 $T$ を表す隣接リスト `list_adjlist` が引数として与えられたとき、$T$ に対して幅優先探索を行って、根から各点までの経路（各点から根までの逆向きの経路）を表すリスト `list_T` を返す関数 `BFSForShortestPaths` を作成して下さい。以下の点に注意して解答して下さい。\n",
    "\n",
    "1. 各点は `0` 以上の整数で表されます。\n",
    "2. 根を表す番号は `0` です。\n",
    "3. `list_T` の `i` 番目の要素 `list_T[i]` は、根から点 `i` までの最短経路上において、点 `i` に隣接する点の名前を格納します。ただし、 `list_T[0]` には `-1` を格納して下さい。\n",
    "    * 例えば、点 `0` から点 `10` への最短経路が、`0,6,3,10` である場合、`list_T[0], list_T[6], list_T[3], list_T[10]` にはそれぞれ `-1, 0, 6, 3` が格納されます（点 `10` から根までの経路を表しています）。\n",
    "\n",
    "以下のセルの `...` のところを書き換えて解答して下さい。<a id=\"BFSForShortestPathsQ\" href=\"#BFSForShortestPathsA\">[解答]</a>"
   ]
  },
  {
   "cell_type": "code",
   "execution_count": null,
   "metadata": {},
   "outputs": [],
   "source": [
    "#解答用セル\n",
    "class FIFOClass:\n",
    "\n",
    "\n",
    "def BFSForShortestPaths(list_adjlist):\n",
    "    ...\n",
    "    return list_T"
   ]
  },
  {
   "cell_type": "markdown",
   "metadata": {},
   "source": [
    "上のセルで解答を作成した後、以下のセルを実行し、実行結果が `True` になることを確認して下さい。"
   ]
  },
  {
   "cell_type": "code",
   "execution_count": null,
   "metadata": {
    "scrolled": false
   },
   "outputs": [],
   "source": [
    "list_adjlist_test1=[[1, 2], [], [3, 4], [], []]\n",
    "print(BFSForShortestPaths(list_adjlist_test1)==[-1, 0, 0, 2, 2])\n",
    "list_adjlist_test2=[[5, 1], [2], [], [], [], [3, 4]]\n",
    "print(BFSForShortestPaths(list_adjlist_test2)==[-1, 0, 1, 5, 5, 0])\n",
    "list_adjlist_test3=[[1, 2, 3], [4, 5], [6, 7, 8, 9], [], [], [10], [], [], [], [], []]\n",
    "print(BFSForShortestPaths(list_adjlist_test3)==[-1, 0, 0, 0, 1, 1, 2, 2, 2, 2, 5])"
   ]
  },
  {
   "cell_type": "markdown",
   "metadata": {},
   "source": [
    "なお、テストで用いている木は以下の様な形になっています。"
   ]
  },
  {
   "cell_type": "code",
   "execution_count": null,
   "metadata": {
    "scrolled": true
   },
   "outputs": [],
   "source": [
    "import networkx as nx, matplotlib.pyplot as plt\n",
    "%matplotlib inline\n",
    "#隣接リストをnx形式に変換（枝を加える）→描画\n",
    "def drawAdjlistUsingNx(nx_tree, list_adjlist, dic_pos, axval):\n",
    "    for node1 in range(0, len(list_adjlist)):\n",
    "        for node2 in list_adjlist[node1]:\n",
    "            nx_tree.add_edge(node1, node2)\n",
    "    axval.set_axis_off()\n",
    "    nx.draw_networkx(nx_tree, pos=dic_pos, ax=axval)\n",
    "#3つの木を描画\n",
    "fig, npar_axval = plt.subplots(1, 3, figsize=(12.5, 3))\n",
    "#1\n",
    "list_adjlist_test1=[[1, 2], [], [3, 4], [], []]; nx_tree1 = nx.Graph()\n",
    "drawAdjlistUsingNx(nx_tree1, list_adjlist_test1, None, npar_axval[0])\n",
    "#2\n",
    "list_adjlist_test2=[[5, 1], [2], [], [], [], [3, 4]]; nx_tree2 = nx.Graph()\n",
    "drawAdjlistUsingNx(nx_tree2, list_adjlist_test2, None, npar_axval[1])\n",
    "#3\n",
    "list_adjlist_test3=[[1, 2, 3], [4, 5], [6, 7, 8, 9], [], [], [10], [], [], [], [], []]; nx_tree3 = nx.Graph()\n",
    "drawAdjlistUsingNx(nx_tree3, list_adjlist_test3, None, npar_axval[2])"
   ]
  },
  {
   "cell_type": "markdown",
   "metadata": {},
   "source": [
    "## 迷路\n",
    "\n",
    "迷路が与えられたときに、スタート地点からゴール地点までの経路を求める関数 `solveMaze` を作成してください。\n",
    "\n",
    "具体的には、与えられる迷路は木構造 $T$ で表すことができ（すなわち、一周回って戻ってくる様な経路は存在しません）、$T$ を表す隣接リスト `list_adjlist` とゴール地点 `goalnode` が引数として与えられます。そこで、$T$ に対して幅優先探索を行って `goalnode` までの経路（厳密には、 `goalnode` からスタート地点までの経路）を表すリスト `list_T` を返す関数 `soliveMaze` を作成して下さい。以下の点に注意して解答して下さい。\n",
    "\n",
    "1. 各点は `0` 以上の整数で表されます。\n",
    "2. スタート地点（根）を表す番号は `0` です。\n",
    "3. `list_T` の `i` 番目の要素 `list_T[i]` は、スタート地点から点 `i` までの最短経路上において、点 `i` に隣接する点の名前を格納します。ただし、 `list_T[0]` には `-1` を格納して下さい。\n",
    "    * 例えば、点 `0` から点 `10` への最短経路が、`0,6,3,10` である場合、`list_T[0], list_T[6], list_T[3], list_T[10]` にはそれぞれ `-1, 0, 6, 3` が格納されます（点 `10` からスタート地点までの経路を表しています）。\n",
    "4. `list_T` を最初に `None` で初期化し、探索を行わなかった点 `i` に対して、 `list_T[i] = None` が成立することが望ましいです。\n",
    "5. ゴール地点 `goalnode` は必ず `0` 以上、`len(list_adjlist)-1` 以下の整数です。\n",
    "6. ゴール地点 `goalnode` に着いたときに探索を打ち切らなくても構いませんが、途中で打ち切った方が迷路を解くという意味では優れています。\n",
    "\n",
    "以下のセルの `...` のところを書き換えて解答して下さい。<a id=\"solveMazeQ\" href=\"#solveMazeA\">[解答]</a>"
   ]
  },
  {
   "cell_type": "code",
   "execution_count": null,
   "metadata": {},
   "outputs": [],
   "source": [
    "#解答用セル\n",
    "class FIFOClass:\n",
    "    ...\n",
    "\n",
    "def solveMaze(list_adjlist, goalnode):\n",
    "    ..."
   ]
  },
  {
   "cell_type": "markdown",
   "metadata": {},
   "source": [
    "上のセルで解答を作成した後、以下のセルを実行し、実行結果が `True` になることを確認して下さい。"
   ]
  },
  {
   "cell_type": "code",
   "execution_count": null,
   "metadata": {
    "scrolled": false
   },
   "outputs": [],
   "source": [
    "import collections\n",
    "list_adjlist_test1 = [[1, 3], [2, 4], [5], [], [7], [8], [], [6], []]\n",
    "list_T_test1 = solveMaze(list_adjlist_test1, 8)\n",
    "#[-1, 0, 1, None, None, 2, None, None, 5]#最短経路:Noneが4つ\n",
    "print(\"解答のNoneの数:\", collections.Counter(list_T_test1)[None]) # list_TをNoneで初期化しない場合無意味\n",
    "print(list_T_test1[0:3]==[-1,0,1], list_T_test1[5]==2, list_T_test1[8]==5)\n",
    "list_adjlist_test2=[[1, 4], [2], [3, 6], [], [5, 8], [], [7], [], [9], [10], [11], []]\n",
    "list_T_test2 = solveMaze(list_adjlist_test2, 11)\n",
    "#[-1, None, None, None, 0, None, None, None, 4, 8, 9, 10]#最短経路:Noneが5つ\n",
    "print(\"解答のNoneの数:\", collections.Counter(list_T_test2)[None]) # list_TをNoneで初期化しない場合無意味\n",
    "print(list_T_test2[0]==-1, list_T_test2[4]==0, list_T_test2[8:12]==[4, 8, 9, 10])"
   ]
  },
  {
   "cell_type": "markdown",
   "metadata": {},
   "source": [
    "なお、テストで用いている迷路は以下の様な形になっています。"
   ]
  },
  {
   "cell_type": "code",
   "execution_count": null,
   "metadata": {},
   "outputs": [],
   "source": [
    "%matplotlib inline\n",
    "import matplotlib.pyplot as plt, matplotlib.image as mpimg\n",
    "from PIL import Image, ImageDraw, ImageFont#PILで描画する\n",
    "def drawMaze(stnode, goalnode, dic_wall, width, height, unitsize, basex, basey, str_mazename, list_Path):\n",
    "    img = Image.new(\"RGB\", (basex*2+unitsize*width, basey*2+unitsize*height), (255, 255, 255))\n",
    "    draw = ImageDraw.Draw(img)\n",
    "    for x1 in range(0, width):\n",
    "        for y1 in range(0, height):\n",
    "            #上\n",
    "            if dic_wall[(x1, y1, x1, y1-1)] is False:\n",
    "                dx1 = basex + (x1+0) * unitsize\n",
    "                dy1 = basey + (y1+0) * unitsize\n",
    "                dx2 = basex + (x1+1) * unitsize\n",
    "                dy2 = basey + (y1+0) * unitsize\n",
    "                draw.line((dx1, dy1, dx2, dy2), fill=(0, 0, 0), width=2)\n",
    "            #右\n",
    "            if dic_wall[(x1, y1, x1+1, y1)] is False:\n",
    "                dx1 = basex + (x1+1) * unitsize\n",
    "                dy1 = basey + (y1+0) * unitsize\n",
    "                dx2 = basex + (x1+1) * unitsize\n",
    "                dy2 = basey + (y1+1) * unitsize\n",
    "                draw.line((dx1, dy1, dx2, dy2), fill=(0, 0, 0), width=2)\n",
    "            #下\n",
    "            if dic_wall[(x1, y1, x1, y1+1)] is False:\n",
    "                dx1 = basex + (x1+0) * unitsize\n",
    "                dy1 = basey + (y1+1) * unitsize\n",
    "                dx2 = basex + (x1+1) * unitsize\n",
    "                dy2 = basey + (y1+1) * unitsize\n",
    "                draw.line((dx1, dy1, dx2, dy2), fill=(0, 0, 0), width=2)\n",
    "            #左\n",
    "            if dic_wall[(x1, y1, x1-1, y1)] is False:\n",
    "                dx1 = basex + (x1+0) * unitsize\n",
    "                dy1 = basey + (y1+0) * unitsize\n",
    "                dx2 = basex + (x1+0) * unitsize\n",
    "                dy2 = basey + (y1+1) * unitsize\n",
    "                draw.line((dx1, dy1, dx2, dy2), fill=(0, 0, 0), width=2)\n",
    "    #探索経路描画\n",
    "    for snode, tnode in enumerate(list_Path):\n",
    "        if tnode is None or tnode == -1:\n",
    "            continue\n",
    "        sx, sy = getNodePosFromName(snode, width)\n",
    "        tx, ty = getNodePosFromName(tnode, width)\n",
    "        dx1 = basex + sx * unitsize + unitsize/2\n",
    "        dy1 = basey + sy * unitsize + unitsize/2\n",
    "        dx2 = basex + tx * unitsize + unitsize/2\n",
    "        dy2 = basey + ty * unitsize + unitsize/2\n",
    "        draw.line((dx1, dy1, dx2, dy2), fill=(250, 150, 150), width=2)\n",
    "    #スタート地点\n",
    "    sx, sy = getNodePosFromName(stnode, width)\n",
    "    dx1 = basex + sx * unitsize\n",
    "    dy1 = basey + sy * unitsize\n",
    "    draw.ellipse((dx1+unitsize/3, dy1+unitsize/3, dx1+unitsize*2/3, dy1+unitsize*2/3), fill=(255, 0, 0), outline=(0, 0, 0))\n",
    "    #ゴール地点\n",
    "    gx, gy = getNodePosFromName(goalnode, width)\n",
    "    dx1 = basex + gx * unitsize\n",
    "    dy1 = basey + gy * unitsize\n",
    "    draw.ellipse((dx1+unitsize/3, dy1+unitsize/3, dx1+unitsize*2/3, dy1+unitsize*2/3), fill=(0, 0, 255), outline=(0, 0, 0))\n",
    "    img.save(str_mazename)\n",
    "    img = mpimg.imread(str_mazename)\n",
    "    plt.axis('off')\n",
    "    imgplot = plt.imshow(img)\n",
    "#頂点座標取得\n",
    "def getNodePosFromName(id1, width):\n",
    "    return id1 % width, id1 // width\n",
    "#隣接リストから壁のある位置を決定する\n",
    "def constructWallsFromAdjList(list_adjlist, width, height):\n",
    "    dic_wall = {}\n",
    "    #最初は全てを壁にする\n",
    "    for x1 in range(0, width):\n",
    "        for y1 in range(0, height):\n",
    "            #上\n",
    "            dic_wall[(x1, y1, x1, y1-1)] = False\n",
    "            #右\n",
    "            dic_wall[(x1, y1, x1+1, y1)] = False\n",
    "            #下\n",
    "            dic_wall[(x1, y1, x1, y1+1)] = False\n",
    "            #左\n",
    "            dic_wall[(x1, y1, x1-1, y1)] = False\n",
    "    #隣接リストの枝部分は壁を取り除く\n",
    "    for sid1, list_adj in enumerate(list_adjlist):\n",
    "        for tid1 in list_adj:\n",
    "            tx1, ty1 = getNodePosFromName(tid1, width)\n",
    "            sx1, sy1 = getNodePosFromName(sid1, width)\n",
    "            dic_wall[(tx1, ty1, sx1, sy1)] = True\n",
    "            dic_wall[(sx1, sy1, tx1, ty1)] = True\n",
    "    return dic_wall\n",
    "size1 = 50\n",
    "basex1 = 10\n",
    "basey1 = 10\n",
    "width_test1 = 3; height_test1 = 3; stnode_test = 0; goalnode_test1 = 8\n",
    "dic_wall1 = constructWallsFromAdjList(list_adjlist_test1, width_test1, height_test1)\n",
    "drawMaze(stnode_test, goalnode_test1, dic_wall1, width_test1, height_test1, size1, basex1, basey1, \"maze1.png\", list_T_test1)"
   ]
  },
  {
   "cell_type": "markdown",
   "metadata": {},
   "source": [
    "左上が根の頂点で `0` 、その右隣が `1`, その右隣が `2`, `0` の下に戻って `3`, と続きます。右下が `len(list_adjlist_test1)-1` の頂点です。桃色？の線は探索の経路（最短経路）です。"
   ]
  },
  {
   "cell_type": "code",
   "execution_count": null,
   "metadata": {},
   "outputs": [],
   "source": [
    "width_test2 = 4; height_test2 = 3; stnode_test = 0; goalnode_test2 = 11\n",
    "dic_wall2 = constructWallsFromAdjList(list_adjlist_test2, width_test2, height_test2)\n",
    "drawMaze(stnode_test, goalnode_test2, dic_wall2, width_test2, height_test2, size1, basex1, basey1, \"maze2.png\", list_T_test2)"
   ]
  },
  {
   "cell_type": "markdown",
   "metadata": {},
   "source": [
    "もう少し大きな迷路を考えてみましょう。"
   ]
  },
  {
   "cell_type": "code",
   "execution_count": null,
   "metadata": {},
   "outputs": [],
   "source": [
    "import collections\n",
    "#最短経路\n",
    "def getShortestPathToGaolInDic(list_T, goalnode):\n",
    "    nownode = goalnode\n",
    "    list_check = [False] * len(list_T)\n",
    "    #ゴールから根まで遡る。途中の点はTrueにする\n",
    "    while(nownode != -1):\n",
    "        list_check[nownode] = True\n",
    "        nownode = list_T[nownode]\n",
    "    #辞書に格納\n",
    "    dic_SPath = {}\n",
    "    for index1, val1 in enumerate(list_check):\n",
    "        if val1 is True:\n",
    "            dic_SPath[index1] = list_T[index1]\n",
    "    return dic_SPath"
   ]
  },
  {
   "cell_type": "code",
   "execution_count": null,
   "metadata": {},
   "outputs": [],
   "source": [
    "list_adjlist_test3 = [[1, 30], [2], [3], [4], [5], [], [], [], [9], [10], [], [12], [13], [14, 43], [15, 44], [16, 45], [17, 46], [18], [19], [20], [21], [], [], [22], [], [26], [], [28], [29], [], [31, 60], [], [33], [34], [], [36], [6, 37], [7, 38], [8, 39, 68], [40], [], [11, 42], [], [], [], [], [47], [], [49], [50], [], [], [], [23], [24, 55], [25, 56], [57], [27, 58, 87], [59, 88], [89], [61, 90], [62], [32], [], [], [35], [], [], [69], [70, 99], [71], [41, 72], [], [74], [], [], [], [78], [48], [80], [], [51, 82], [52, 83], [53, 84, 113], [54, 85, 114], [86], [], [], [], [], [91, 120], [92, 121], [93, 122], [63, 94, 123], [64, 95, 124], [65, 96, 125], [66, 97, 126], [67, 98, 127], [], [], [], [102], [], [73], [], [75, 106], [76], [77, 108], [109], [79, 110], [], [81, 112], [], [], [115], [116], [117], [118], [119, 148], [149], [150], [151], [152], [], [154], [155], [], [128, 157], [129], [130, 159], [100, 131, 160], [101, 132, 161], [133], [103, 134, 163], [104, 135, 164], [105, 136, 165], [137, 166], [107, 138, 167], [139], [140, 169], [141, 170], [111, 142, 171], [143], [144], [145], [146], [147], [], [], [], [180], [], [153, 182], [], [], [185], [], [156, 158, 187], [188], [189], [190], [162, 191], [], [193], [194], [], [], [168, 197], [], [], [200], [172, 201], [173, 202], [], [175], [], [], [178], [179], [], [210], [211], [181, 183, 212], [184, 213], [214], [186, 215], [], [217], [218], [], [], [192, 221], [], [], [195], [196, 225], [], [198, 227], [199], [], [], [], [], [], [174, 205], [], [176, 207], [177, 208], [209], [], [240], [], [], [], [244], [216, 245], [], [], [248], [], [219, 250], [220, 222, 251], [223, 252], [224, 253], [254], [226, 255], [256], [228, 257], [229, 258], [], [], [232], [233], [203, 234, 263], [204, 235], [236], [206, 237], [], [239], [], [241, 270], [242, 271], [243], [], [], [246], [], [277], [247, 249, 278], [], [280], [281], [], [], [], [], [286], [], [259, 288], [260, 289], [230, 261, 290], [231, 262, 291], [], [264, 293], [265, 294], [266], [267], [], [238, 269], [], [300], [272, 301], [273], [274], [275], [276, 305], [306], [], [279, 308], [], [], [282, 311], [283], [284, 313], [285], [], [287, 316], [], [], [319], [], [292, 321], [], [], [295, 324], [296], [297], [298], [268, 299], [], [], [302, 331], [], [304], [], [], [336], [], [307, 338], [], [309, 340], [310, 312, 341], [342], [314], [315], [], [], [], [317], [318, 320, 349], [], [322, 351], [], [], [323, 325, 354], [326, 355], [327, 356], [328], [329], [], [360], [330, 332, 361], [333, 362], [303, 334, 363], [], [], [], [], [337, 368], [369], [339, 370], [371], [343, 372], [344, 373], [], [], [], [], [347], [348, 350, 379], [380], [352, 381], [353, 382], [], [], [], [357, 386], [358, 387], [359], [389], [390], [], [392], [364, 393], [], [335], [], [366, 397], [367, 398], [], [], [], [402], [374, 403], [375], [345, 376], [346, 377], [], [], [], [410], [], [383, 412], [384], [414], [], [385, 416], [388], [], [], [391, 420], [], [422], [394, 423], [395, 424], [365, 396], [], [], [399, 428], [400, 429], [401], [], [432], [404, 433], [405, 434], [406], [407, 436], [408, 437], [378, 409, 438], [439], [], [441], [411, 413, 442], [], [], [], [415, 417, 446], [418, 447], [419], [], [421, 450], [451], [], [], [425, 454], [426], [], [], [427, 458], [430, 459], [], [], [], [], [435, 464], [465], [466], [], [468], [], [], [], [443, 472], [], [], [], [], [448, 477], [449, 478], [479], [480], [452, 481], [], [], [453, 455, 484], [456, 485], [], [], [457, 488], [460, 489], [461, 490], [431, 462], [463, 492], [], [], [495], [467, 496], [], [469, 498], [470, 499], [440, 500], [], [471, 473, 502], [474, 503], [444, 475, 504], [445, 476, 505], [506], [], [508], [509], [510], [482, 511], [], [513], [483, 514], [486, 515], [487], [517], [], [519], [491, 520], [521], [493, 522], [494, 523], [524], [525], [526], [527], [497, 528], [529], [501], [], [532], [], [534], [], [507, 536], [], [], [], [540], [512, 541], [], [], [], [516, 545], [], [518, 547], [], [549], [], [551], [552], [], [], [], [556], [], [], [530, 559], [531, 560], [], [533, 562], [], [], [565], [535, 537, 566], [538, 567], [539], [], [570], [542, 571], [], [573], [543], [544, 546, 575], [], [], [], [548, 550, 579], [], [], [553, 582], [554, 583], [555, 584], [], [586], [], [557], [558, 589], [561, 590], [], [563, 592], [593], [], [564], [596], [568, 597], [569], [], [600], [572, 601], [602], [603], [], [574, 576, 605], [577, 606], [578], [], [580, 609], [581], [], [], [], [585, 614], [], [616], [617], [587, 618], [588, 619], [591, 620], [], [], [], [], [594], [], [598, 627], [], [], [630], [], [], [], [], [604, 635], [607, 636], [608, 637], [638], [610], [611, 640], [], [613], [], [], [645], [615, 646], [647], [648], [], [621, 650], [622], [], [], [], [595, 624], [625, 656], [626, 628, 657], [629], [599], [631, 660], [632, 661], [662], [], [633, 664], [634, 665], [666], [], [639, 668], [], [641], [642, 671], [612, 643, 672], [644, 673], [674], [675], [], [], [], [679], [649, 651, 680], [652, 681], [653, 682], [623, 654, 683], [684], [], [655, 686], [658, 687], [659, 688], [689], [690], [], [663, 692], [693], [], [695], [696], [], [667, 669, 698], [670, 699], [], [], [], [], [], [], [706], [676, 707], [677, 708], [678, 709], [], [711], [], [713], [], [], [685, 716], [717], [], [], [691, 720], [], [], [694, 723], [724], [], [], [], [697, 728], [700, 729], [701, 730], [], [703], [704], [705], [], [736], [], [738], [710, 739], [], [741], [], [712, 743], [], [714, 745], [715, 746], [718, 747], [719, 748], [749], [721, 750], [], [752], [722, 753], [], [], [725], [726, 757], [727, 758], [], [731, 760], [732, 761], [702, 733, 762], [734], [], [], [], [], [], [740, 769], [], [771], [772], [742, 773], [], [744, 775], [], [777], [778], [], [751, 780], [781], [782], [783], [], [754, 785], [755, 786], [756, 787], [759, 788], [789], [], [], [763, 792], [], [], [735, 766], [767], [737, 768, 797], [], [770, 799], [800], [801], [802], [], [], [774, 776, 805], [], [807], [779], [], [810], [], [], [], [], [784], [], [], [818], [790], [], [821], [791, 793, 822], [794], [764, 795, 824], [765, 796, 825], [], [798, 827], [828], [829], [], [831], [832], [], [803, 834], [804, 806, 835], [836], [808, 837], [809, 838], [839], [], [841], [811, 842], [812, 843], [813, 844], [814, 845], [815, 846], [816, 847], [817, 819, 848], [820, 849], [], [], [823, 852], [], [], [826, 855], [], [], [], [], [], [830, 861], [], [], [833], [865], [866], [], [868], [869], [870], [840, 871], [872], [], [874], [875], [876], [877], [], [850, 879], [851], [], [853, 882], [], [], [854, 856, 885], [], [], [859], [], [], [860, 862, 891], [892], [], [863], [864, 895], [867], [], [], [899], [], [], [], [], [873], [], [], [], [], [878, 880], [881], [], [883], [884], [], [886], [887], [857, 888], [858, 889], [], [], [890], [], [], [893], [894, 896], [897], [], [], [898]]\n",
    "width_test3 = 30; height_test3 = 30; stnode_test = 0; goalnode_test3 = 897\n",
    "list_T_test3 = solveMaze(list_adjlist_test3, goalnode_test3)\n",
    "dic_SPath_test3 = getShortestPathToGaolInDic(list_T_test3, goalnode_test3)\n",
    "print(\"解答のNoneの数:\", collections.Counter(list_T_test3)[None], \" 最短経路のNoneの数:\", width_test3 * height_test3 - len(dic_SPath_test3)) # list_TをNoneで初期化しない場合無意味"
   ]
  },
  {
   "cell_type": "code",
   "execution_count": null,
   "metadata": {},
   "outputs": [],
   "source": [
    "dic_wall3 = constructWallsFromAdjList(list_adjlist_test3, width_test3, height_test3)\n",
    "drawMaze(stnode_test, goalnode_test3, dic_wall3, width_test3, height_test3, size1, basex1, basey1, \"maze3.png\", list_T_test3)"
   ]
  },
  {
   "cell_type": "markdown",
   "metadata": {},
   "source": [
    "幅優先探索はスタート地点に近い点から探索するので明らかにゴール地点に到達するのに時間がかかってしまいます。"
   ]
  },
  {
   "cell_type": "markdown",
   "metadata": {},
   "source": [
    "## 練習問題の解答"
   ]
  },
  {
   "cell_type": "markdown",
   "metadata": {},
   "source": [
    "## 木構造を構成する頂点の数（解答）\n",
    "\n",
    "<a id=\"getNumberOfNodesA\" href=\"#getNumberOfNodesQ\">[問]</a>"
   ]
  },
  {
   "cell_type": "code",
   "execution_count": null,
   "metadata": {},
   "outputs": [],
   "source": [
    "#模範解答\n",
    "def getNumberOfNodes(list_adjlist):\n",
    "    return len(list_adjlist)"
   ]
  },
  {
   "cell_type": "markdown",
   "metadata": {},
   "source": [
    "## 子供のいる親（解答）"
   ]
  },
  {
   "cell_type": "markdown",
   "metadata": {},
   "source": [
    "<a id=\"checkChildA\" href=\"#checkChildQ\">[問]</a>"
   ]
  },
  {
   "cell_type": "code",
   "execution_count": null,
   "metadata": {},
   "outputs": [],
   "source": [
    "#模範解答\n",
    "def checkChild(list_adjlist):\n",
    "    list_parent = []\n",
    "    for index1, list_adj in enumerate(list_adjlist):\n",
    "        if len(list_adj) > 0:\n",
    "            list_parent.append(index1)\n",
    "    return list_parent"
   ]
  },
  {
   "cell_type": "markdown",
   "metadata": {},
   "source": [
    "## 木構造を構成する枝（辺）の数（解答）\n",
    "\n",
    "木構造の枝の数は点の数-1です。\n",
    "<a id=\"getNumberOfEdgesA\" href=\"#getNumberOfEdgesQ\">[問]</a>"
   ]
  },
  {
   "cell_type": "code",
   "execution_count": null,
   "metadata": {},
   "outputs": [],
   "source": [
    "#模範解答\n",
    "def getNumberOfEdges(list_adjlist):\n",
    "    return len(list_adjlist)-1"
   ]
  },
  {
   "cell_type": "markdown",
   "metadata": {},
   "source": [
    "## 子供の一覧の取得（解答）\n",
    "\n",
    "<a id=\"getChildrenA\" href=\"#getChildrenQ\">[問]</a>"
   ]
  },
  {
   "cell_type": "code",
   "execution_count": null,
   "metadata": {},
   "outputs": [],
   "source": [
    "#模範解答\n",
    "def getChildren(list_adjlist, initnode):\n",
    "    return list_adjlist[initnode]"
   ]
  },
  {
   "cell_type": "markdown",
   "metadata": {},
   "source": [
    "## 祖父の取得"
   ]
  },
  {
   "cell_type": "markdown",
   "metadata": {},
   "source": [
    "<a id=\"getGrandfatherA\" href=\"#getGrandfatherQ\">[問]</a>"
   ]
  },
  {
   "cell_type": "code",
   "execution_count": null,
   "metadata": {},
   "outputs": [],
   "source": [
    "#模範解答\n",
    "def getGrandfather(list_parent, initnode):\n",
    "    parent = initnode\n",
    "    cnt = 0\n",
    "    #2世代遡る＝親の親\n",
    "    for i in range(2):\n",
    "        if parent == -1:\n",
    "            return -1\n",
    "        parent = list_parent[parent]\n",
    "    return parent"
   ]
  },
  {
   "cell_type": "markdown",
   "metadata": {},
   "source": [
    "## 先祖の取得（解答）"
   ]
  },
  {
   "cell_type": "markdown",
   "metadata": {},
   "source": [
    "<a id=\"getAncestorA\" href=\"#getAncestorQ\">[問]</a>"
   ]
  },
  {
   "cell_type": "code",
   "execution_count": null,
   "metadata": {},
   "outputs": [],
   "source": [
    "#模範解答\n",
    "def getAncestor(list_parent, initnode, anc):\n",
    "    parent = initnode\n",
    "    for i in range(anc):\n",
    "        if parent == -1:\n",
    "            return -1\n",
    "        parent = list_parent[parent]\n",
    "    return parent"
   ]
  },
  {
   "cell_type": "markdown",
   "metadata": {},
   "source": [
    "## 孫の一覧の取得（解答）\n",
    "\n",
    "<a id=\"getGrandchildrenA\" href=\"#getGrandchildrenQ\">[問]</a>"
   ]
  },
  {
   "cell_type": "code",
   "execution_count": null,
   "metadata": {},
   "outputs": [],
   "source": [
    "#模範解答\n",
    "def getGrandchildren(list_adjlist, initnode):\n",
    "    #孫格納用リスト\n",
    "    list_grancchild = []\n",
    "    #initnodeの子childnodeを全て処理する\n",
    "    for childnode in list_adjlist[initnode]:\n",
    "        #childnodeの子grandchildnode（つまり、initnodeの孫）を全て処理する\n",
    "        for grandchildnode in list_adjlist[childnode]:\n",
    "            list_grancchild.append(grandchildnode)\n",
    "    return list_grancchild"
   ]
  },
  {
   "cell_type": "markdown",
   "metadata": {},
   "source": [
    "## ひ孫の一覧の取得（解答）\n",
    "\n",
    "<a id=\"getGreatgrandchildrenA\" href=\"#getGreatgrandchildrenQ\">[問]</a>\n",
    "\n",
    "さすがにひ孫まで来ると、幅優先探索を使った方が効率的に思えます。"
   ]
  },
  {
   "cell_type": "code",
   "execution_count": null,
   "metadata": {},
   "outputs": [],
   "source": [
    "#模範解答\n",
    "def getGreatgrandchildren(list_adjlist, initnode):\n",
    "    #ひ孫格納用リスト\n",
    "    list_greatgrancchild = []\n",
    "    #initnodeの子childnodeを全て処理する\n",
    "    for childnode in list_adjlist[initnode]:\n",
    "        #childnodeの子grandchildnodeを全て処理する\n",
    "        for grandchildnode in list_adjlist[childnode]:\n",
    "            #childnodeの子grandchildnodeを全て処理する\n",
    "            for greatgrandchildnode in list_adjlist[grandchildnode]:\n",
    "                list_greatgrancchild.append(greatgrandchildnode)\n",
    "    return list_greatgrancchild"
   ]
  },
  {
   "cell_type": "code",
   "execution_count": null,
   "metadata": {},
   "outputs": [],
   "source": [
    "#模範解答\n",
    "class FIFOClass:\n",
    "    def __init__(self):\n",
    "        self.list_data = []\n",
    "    def enqueue(self, item1):\n",
    "        self.list_data.append(item1)\n",
    "    def dequeue(self):\n",
    "        return self.list_data.pop(0)\n",
    "def getGreatgrandchildren(list_adjlist, initnode):\n",
    "    #ひ孫格納用リスト\n",
    "    list_greatgrancchild = []\n",
    "    #世代数を格納するリストlist_Gを初期化\n",
    "    list_G = [None] * len(list_adjlist)\n",
    "    #FIFOキューを初期化\n",
    "    FIFO = FIFOClass()\n",
    "    #起点の名前(initnode)をFIFOキューに入れる\n",
    "    FIFO.enqueue(initnode)\n",
    "    #起点からの世代数は0\n",
    "    list_G[initnode] = 0\n",
    "    #FIFOキューが空になるまで探索（ループ）\n",
    "    while(len(FIFO.list_data) > 0):\n",
    "        # FIFOキューから点node1を取り出す\n",
    "        node1 = FIFO.dequeue()\n",
    "        #initnodeのひ孫より下の世代になったら探索を打ち切る\n",
    "        if list_G[node1] > 3:\n",
    "            break\n",
    "        #node1の子childnodeを全て処理する\n",
    "        for childnode in list_adjlist[node1]:\n",
    "            #node1の子childnodeをFIFOキューに入れる\n",
    "            FIFO.enqueue(childnode)    \n",
    "            #childnodeの世代はnode1の一世代下\n",
    "            list_G[childnode] = list_G[node1] + 1\n",
    "            #initnodeのひ孫は、initnodeの3世代下\n",
    "            if list_G[childnode] == 3:\n",
    "                list_greatgrancchild.append(childnode)\n",
    "    #list_greatgrancchildを返す\n",
    "    return list_greatgrancchild"
   ]
  },
  {
   "cell_type": "markdown",
   "metadata": {},
   "source": [
    "## 幅優先探索の実行（解答）\n",
    "<a id=\"BFSForTargetA\" href=\"#BFSForTargetQ\">[問]</a>"
   ]
  },
  {
   "cell_type": "code",
   "execution_count": null,
   "metadata": {},
   "outputs": [],
   "source": [
    "#模範解答\n",
    "class FIFOClass:\n",
    "    def __init__(self):\n",
    "        self.list_data = []\n",
    "    def enqueue(self, item1):\n",
    "        self.list_data.append(item1)\n",
    "    def dequeue(self):\n",
    "        return self.list_data.pop(0)\n",
    "#dequeueの後にtargetnodeかどうか調べる場合→1か所\n",
    "def BFSForTarget(list_adjlist, targetnode):\n",
    "    #FIFOキューを初期化\n",
    "    FIFO = FIFOClass()\n",
    "    #根の名前(0)をFIFOキューに入れる\n",
    "    FIFO.enqueue(0)\n",
    "    #FIFOキューが空になるまで探索（ループ）\n",
    "    while(len(FIFO.list_data) > 0):\n",
    "        # FIFOキューから点node1を取り出す\n",
    "        node1 = FIFO.dequeue()\n",
    "        #目的の点targetnodeを見つけた場合\n",
    "        if targetnode == node1:\n",
    "            return True\n",
    "        #node1の子childnodeを全て処理する\n",
    "        for childnode in list_adjlist[node1]:\n",
    "            #node1の子childnodeをFIFOキューに入れる\n",
    "            FIFO.enqueue(childnode)           \n",
    "    #目的の点targetnodeが最後まで見つからなかった\n",
    "    return False"
   ]
  },
  {
   "cell_type": "code",
   "execution_count": null,
   "metadata": {},
   "outputs": [],
   "source": [
    "#模範解答\n",
    "class FIFOClass:\n",
    "    def __init__(self):\n",
    "        self.list_data = []\n",
    "    def enqueue(self, item1):\n",
    "        self.list_data.append(item1)\n",
    "    def dequeue(self):\n",
    "        return self.list_data.pop(0)\n",
    "#enqueueの前にtargetnodeかどうか調べる場合→2か所\n",
    "def BFSForTarget(list_adjlist, targetnode):\n",
    "    #FIFOキューを初期化\n",
    "    FIFO = FIFOClass()\n",
    "    #目的の点targetnodeが根(0)である場合\n",
    "    if targetnode == 0:\n",
    "        return True\n",
    "    #根の名前(0)をFIFOキューに入れる\n",
    "    FIFO.enqueue(0)\n",
    "    #FIFOキューが空になるまで探索（ループ）\n",
    "    while(len(FIFO.list_data) > 0):\n",
    "        # FIFOキューから点node1を取り出す\n",
    "        node1 = FIFO.dequeue()\n",
    "        #node1の子childnodeを全て処理する\n",
    "        for childnode in list_adjlist[node1]:\n",
    "            #目的の点targetnodeを見つけた場合\n",
    "            if targetnode == childnode:\n",
    "                return True\n",
    "            #node1の子childnodeをFIFOキューに入れる\n",
    "            FIFO.enqueue(childnode)           \n",
    "    #目的の点targetnodeが最後まで見つからなかった\n",
    "    return False"
   ]
  },
  {
   "cell_type": "markdown",
   "metadata": {},
   "source": [
    "## 幅優先探索を用いた子孫の探索（解答）\n",
    "<a id=\"BFSForDescendantA\" href=\"#BFSForDescendantQ\">[問]</a>"
   ]
  },
  {
   "cell_type": "code",
   "execution_count": null,
   "metadata": {},
   "outputs": [],
   "source": [
    "#模範解答\n",
    "class FIFOClass:\n",
    "    def __init__(self):\n",
    "        self.list_data = []\n",
    "    def enqueue(self, item1):\n",
    "        self.list_data.append(item1)\n",
    "    def dequeue(self):\n",
    "        return self.list_data.pop(0)\n",
    "def BFSForDescendant(list_adjlist, initnode, targetnode):\n",
    "    #FIFOキューを初期化\n",
    "    FIFO = FIFOClass()\n",
    "    #起点の名前(initnode)をFIFOキューに入れる\n",
    "    FIFO.enqueue(initnode)\n",
    "    #FIFOキューが空になるまで探索（ループ）\n",
    "    while(len(FIFO.list_data) > 0):\n",
    "        # FIFOキューから点node1を取り出す\n",
    "        node1 = FIFO.dequeue()\n",
    "        #目的の点targetnodeを見つけた場合\n",
    "        if targetnode == node1:\n",
    "            return True\n",
    "        #node1の子childnodeを全て処理する\n",
    "        for childnode in list_adjlist[node1]:\n",
    "            #node1の子childnodeをFIFOキューに入れる\n",
    "            FIFO.enqueue(childnode)           \n",
    "    #目的の点targetnodeが最後まで見つからなかった\n",
    "    return False"
   ]
  },
  {
   "cell_type": "code",
   "execution_count": null,
   "metadata": {},
   "outputs": [],
   "source": [
    "#模範解答\n",
    "class FIFOClass:\n",
    "    def __init__(self):\n",
    "        self.list_data = []\n",
    "    def enqueue(self, item1):\n",
    "        self.list_data.append(item1)\n",
    "    def dequeue(self):\n",
    "        return self.list_data.pop(0)\n",
    "def BFSForDescendant(list_adjlist, initnode, targetnode):\n",
    "    #FIFOキューを初期化\n",
    "    FIFO = FIFOClass()\n",
    "    #目的の点targetnodeがinitnodeである場合\n",
    "    if initnode == targetnode:\n",
    "        return True\n",
    "    #起点の名前(initnode)をFIFOキューに入れる\n",
    "    FIFO.enqueue(initnode)\n",
    "    #FIFOキューが空になるまで探索（ループ）\n",
    "    while(len(FIFO.list_data) > 0):\n",
    "        # FIFOキューから点node1を取り出す\n",
    "        node1 = FIFO.dequeue()\n",
    "        #node1の子childnodeを全て処理する\n",
    "        for childnode in list_adjlist[node1]:\n",
    "            #目的の点targetnodeを見つけた場合\n",
    "            if childnode == targetnode1:\n",
    "                return True\n",
    "            #node1の子childnodeをFIFOキューに入れる\n",
    "            FIFO.enqueue(childnode)           \n",
    "    #目的の点targetnodeが最後まで見つからなかった\n",
    "    return False"
   ]
  },
  {
   "cell_type": "markdown",
   "metadata": {},
   "source": [
    "## 兄弟の取得（解答）\n",
    "\n",
    "<a id=\"getSiblingsA\" href=\"#getSiblingsQ\">[問]</a>"
   ]
  },
  {
   "cell_type": "code",
   "execution_count": null,
   "metadata": {},
   "outputs": [],
   "source": [
    "#模範解答\n",
    "#幅優先探索を用いない場合\n",
    "def getSiblings(list_adjlist, targetnode):\n",
    "    #0がtargetnodeの場合\n",
    "    if targetnode == 0:\n",
    "        return [targetnode]\n",
    "    #0がtargetnodeでない場合\n",
    "    for list_adj in list_adjlist:\n",
    "        if targetnode in list_adj:#地獄の様に遅い線形探索（でも、最速）\n",
    "            return list_adj"
   ]
  },
  {
   "cell_type": "code",
   "execution_count": null,
   "metadata": {},
   "outputs": [],
   "source": [
    "#模範解答\n",
    "#幅優先探索を用いた場合\n",
    "class FIFOClass:\n",
    "    def __init__(self):\n",
    "        self.list_data = []\n",
    "    def enqueue(self, item1):\n",
    "        self.list_data.append(item1)\n",
    "    def dequeue(self):\n",
    "        return self.list_data.pop(0)\n",
    "def getSiblings(list_adjlist, targetnode):\n",
    "    #0がtargetnodeの場合\n",
    "    if targetnode == 0:\n",
    "        return [targetnode]\n",
    "    #FIFOキューを初期化\n",
    "    FIFO = FIFOClass()\n",
    "    #根の名前(0)をFIFOキューに入れる\n",
    "    FIFO.enqueue(0)\n",
    "    #FIFOキューが空になるまで探索（ループ）\n",
    "    ##このループ内のどこかで、目的の点targetnodeを見つけた場合にreturn Trueを実行する\n",
    "    while(len(FIFO.list_data) > 0):\n",
    "        # FIFOキューから点node1を取り出す\n",
    "        node1 = FIFO.dequeue()\n",
    "        if targetnode in list_adjlist[node1]:#地獄の様に遅い線形探索（でも、最速）\n",
    "            return list_adjlist[node1]\n",
    "        #node1の子childnodeを全て処理する\n",
    "        for childnode in list_adjlist[node1]:\n",
    "            #node1の子childnodeをFIFOキューに入れる\n",
    "            FIFO.enqueue(childnode)           \n",
    "    #目的の点targetnodeが最後まで見つからなかった\n",
    "    return False"
   ]
  },
  {
   "cell_type": "markdown",
   "metadata": {},
   "source": [
    "## 幅優先探索を用いた最短経路の取得（解答）\n",
    "\n",
    "<a id=\"BFSForShortestPathsA\" href=\"#BFSForShortestPathsQ\">[問]</a>"
   ]
  },
  {
   "cell_type": "code",
   "execution_count": null,
   "metadata": {},
   "outputs": [],
   "source": [
    "#模範解答\n",
    "class FIFOClass:\n",
    "    def __init__(self):\n",
    "        self.list_data = []\n",
    "    def enqueue(self, item1):\n",
    "        self.list_data.append(item1)\n",
    "    def dequeue(self):\n",
    "        return self.list_data.pop(0)\n",
    "def BFSForShortestPaths(list_adjlist):\n",
    "    #経路を表すリスト\n",
    "    list_T = [None] * len(list_adjlist)\n",
    "    #FIFOキューを初期化\n",
    "    FIFO = FIFOClass()\n",
    "    #根の名前(0)をFIFOキューに入れる\n",
    "    FIFO.enqueue(0)\n",
    "    #0への経路は-1\n",
    "    list_T[0] = -1\n",
    "    #FIFOキューが空になるまで探索（ループ）\n",
    "    while(len(FIFO.list_data) > 0):\n",
    "        # FIFOキューから点node1を取り出す\n",
    "        node1 = FIFO.dequeue()\n",
    "        #node1の子childnodeを全て処理する\n",
    "        for childnode in list_adjlist[node1]:\n",
    "            #node1の子childnodeをFIFOキューに入れる\n",
    "            FIFO.enqueue(childnode)\n",
    "            #childnodeへの経路はnode1\n",
    "            list_T[childnode] = node1\n",
    "    #訪問する順序を表すリストを返す\n",
    "    return list_T"
   ]
  },
  {
   "cell_type": "markdown",
   "metadata": {},
   "source": [
    "## 迷路（解答）\n",
    "\n",
    "FIFOキュー以外の方法で頂点を管理すると、もっと高速に（少ない `None` の数で）最短経路を求めることが出来るでしょう。色々考えてみて下さい。<a id=\"solveMazeA\" href=\"#solveMazeQ\">[問]</a>"
   ]
  },
  {
   "cell_type": "code",
   "execution_count": null,
   "metadata": {},
   "outputs": [],
   "source": [
    "#模範解答\n",
    "class FIFOClass:\n",
    "    def __init__(self):\n",
    "        self.list_data = []\n",
    "    def enqueue(self, item1):\n",
    "        self.list_data.append(item1)\n",
    "    def dequeue(self):\n",
    "        return self.list_data.pop(0)\n",
    "def solveMaze(list_adjlist, goalnode):\n",
    "    #経路を表すリスト\n",
    "    list_T = [None] * len(list_adjlist)\n",
    "    #FIFOキューを初期化\n",
    "    FIFO = FIFOClass()\n",
    "    #根の名前(0)をFIFOキューに入れる\n",
    "    FIFO.enqueue(0)\n",
    "    #0への経路は-1\n",
    "    list_T[0] = -1\n",
    "    #FIFOキューが空になるまで探索（ループ）\n",
    "    while(len(FIFO.list_data) > 0):\n",
    "        # FIFOキューから点node1を取り出す\n",
    "        node1 = FIFO.dequeue()\n",
    "        #node1の子childnodeを全て処理する\n",
    "        for childnode in list_adjlist[node1]:\n",
    "            #node1の子childnodeをFIFOキューに入れる\n",
    "            FIFO.enqueue(childnode)\n",
    "            #childnodeへの経路はnode1\n",
    "            list_T[childnode] = node1\n",
    "            #childnodeがゴール地点である場合探索を打ち切る\n",
    "            if childnode == goalnode:\n",
    "                return list_T"
   ]
  },
  {
   "cell_type": "code",
   "execution_count": null,
   "metadata": {},
   "outputs": [],
   "source": []
  }
 ],
 "metadata": {
  "kernelspec": {
   "display_name": "Python 3",
   "language": "python",
   "name": "python3"
  },
  "language_info": {
   "codemirror_mode": {
    "name": "ipython",
    "version": 3
   },
   "file_extension": ".py",
   "mimetype": "text/x-python",
   "name": "python",
   "nbconvert_exporter": "python",
   "pygments_lexer": "ipython3",
   "version": "3.7.4"
  }
 },
 "nbformat": 4,
 "nbformat_minor": 2
}
