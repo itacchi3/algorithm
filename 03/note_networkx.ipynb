{
 "cells": [
  {
   "cell_type": "markdown",
   "metadata": {},
   "source": [
    "# 教養としてのアルゴリズムとデータ構造\n",
    "\n",
    "木構造と木構造を一般化したグラフ構造を扱うことの出来るモジュール `networkx` について簡単な使い方を説明します\n",
    "\n",
    "参考\n",
    "\n",
    "- https://networkx.github.io/\n",
    "\n",
    "なお、ノートを読まなくても（木構造の）課題を解くのに影響はありません。課題では木構造などを可視化するのに利用されている場合があります。"
   ]
  },
  {
   "cell_type": "markdown",
   "metadata": {},
   "source": [
    "# 木構造\n",
    "\n",
    "\n",
    "Pythonにおいて木構造を扱う為のモジュールには `networkx` というモジュールがあります。"
   ]
  },
  {
   "cell_type": "code",
   "execution_count": null,
   "metadata": {},
   "outputs": [],
   "source": [
    "import networkx"
   ]
  },
  {
   "cell_type": "markdown",
   "metadata": {},
   "source": [
    "一般的には、`nx` という略称を用いることが多い様です。"
   ]
  },
  {
   "cell_type": "code",
   "execution_count": null,
   "metadata": {},
   "outputs": [],
   "source": [
    "import networkx as nx"
   ]
  },
  {
   "cell_type": "markdown",
   "metadata": {},
   "source": [
    "以下では、略称の `nx` を用いて説明します。"
   ]
  },
  {
   "cell_type": "markdown",
   "metadata": {},
   "source": [
    "## 木構造の作成\n",
    "\n",
    "まず木を作成してみます。木を作成するには、関数 **`nx.Graph()`** を用います。\n",
    "\n",
    "`nx.Graph()` を実行すると、木（実際には、木を一般化したグラフ）のオブジェクト（正式には**NetworkXグラフオブジェクト**）が返ってきます。\n",
    "\n",
    "---\n",
    "```Python\n",
    "nx.Graph()\n",
    "```\n",
    "---"
   ]
  },
  {
   "cell_type": "code",
   "execution_count": null,
   "metadata": {},
   "outputs": [],
   "source": [
    "nx_tree1 = nx.Graph()"
   ]
  },
  {
   "cell_type": "markdown",
   "metadata": {},
   "source": [
    "これだけでは（見た目では）何も起こりません。\n",
    "\n",
    "木を作成（表示）するには、点と枝の情報を木（上のセルで言う `nx_tree1` ）に加えてやる必要があります。\n",
    "\n",
    "木に点を加えるには、NetworkXグラフオブジェクトのメソッド `add_node` を使います。\n",
    "\n",
    "具体的には、NetworkXグラフオブジェクト `nx_tree1` に点 `v` を加えたい場合、以下の様にします。\n",
    "\n",
    "---\n",
    "```Python\n",
    "nx_tree1.add_node(v)\n",
    "```\n",
    "---\n",
    "\n",
    "実際に、`1` と `2` という名前の2つの点を `Tree1` に追加してみます。"
   ]
  },
  {
   "cell_type": "code",
   "execution_count": null,
   "metadata": {},
   "outputs": [],
   "source": [
    "nx_tree1.add_node(1)\n",
    "nx_tree1.add_node(2)"
   ]
  },
  {
   "cell_type": "markdown",
   "metadata": {},
   "source": [
    "この木（と言っても枝はまだありませんが）をMatplotlibライブラリを使って表示してみます。\n",
    "\n",
    "NetworkXグラフオブジェクト `nx_tree1` を表示するには、**`nx.draw_networkx`** を使います。\n",
    "\n",
    "---\n",
    "```Python\n",
    "nx.draw_networkx(nx_tree1, pos = nx.spring_layout(nx_tree1))\n",
    "```\n",
    "---\n",
    "\n",
    "`pos = nx.spring_layout(nx_tree1)` は頂点の位置を決定する方法を指定しています。"
   ]
  },
  {
   "cell_type": "code",
   "execution_count": null,
   "metadata": {},
   "outputs": [],
   "source": [
    "import matplotlib.pyplot as plt\n",
    "%matplotlib inline\n",
    "nx.draw_networkx(nx_tree1, pos = nx.spring_layout(nx_tree1))\n",
    "plt.axis('off')\n",
    "plt.show();"
   ]
  },
  {
   "cell_type": "markdown",
   "metadata": {},
   "source": [
    "木に枝を加えるには、NetworkXグラフオブジェクトのメソッド `add_edge` を使います。\n",
    "\n",
    "具体的には、NetworkXグラフオブジェクト `nx_tree1` に点 `v` と点 `u` の間の枝を加えたい場合、以下の様にします。\n",
    "\n",
    "---\n",
    "```Python\n",
    "nx_tree1.add_edge(v, u)\n",
    "```\n",
    "---\n",
    "\n",
    "実際に、点 `1` と点 `2` の間に枝を `nx_tree1` に追加してみます。"
   ]
  },
  {
   "cell_type": "code",
   "execution_count": null,
   "metadata": {},
   "outputs": [],
   "source": [
    "nx_tree1.add_edge(1, 2)"
   ]
  },
  {
   "cell_type": "markdown",
   "metadata": {},
   "source": [
    "表示してみましょう。"
   ]
  },
  {
   "cell_type": "code",
   "execution_count": null,
   "metadata": {},
   "outputs": [],
   "source": [
    "nx.draw_networkx(nx_tree1, pos = nx.spring_layout(nx_tree1))\n",
    "plt.axis('off')\n",
    "plt.show();"
   ]
  },
  {
   "cell_type": "markdown",
   "metadata": {},
   "source": [
    "一度に複数の点を追加する場合、 `add_nodes_from` を使います。\n",
    "\n",
    "具体的には、NetworkXグラフオブジェクト `nx_tree1` にリスト `list1` に格納されている全ての点を加えたい場合、以下の様にします。\n",
    "\n",
    "---\n",
    "```Python\n",
    "nx_tree1.add_nodes_from(list1)\n",
    "```\n",
    "---\n",
    "\n",
    "実際に、リスト `[\"a\", \"b\", \"c\", \"d\"]` の4つの点を `nx_tree1` に追加してみます。"
   ]
  },
  {
   "cell_type": "code",
   "execution_count": null,
   "metadata": {},
   "outputs": [],
   "source": [
    "nx_tree1.add_nodes_from([\"a\", \"b\", \"c\", \"d\"])"
   ]
  },
  {
   "cell_type": "markdown",
   "metadata": {},
   "source": [
    "表示してみましょう。"
   ]
  },
  {
   "cell_type": "code",
   "execution_count": null,
   "metadata": {},
   "outputs": [],
   "source": [
    "nx.draw_networkx(nx_tree1, pos = nx.spring_layout(nx_tree1))\n",
    "plt.axis('off')\n",
    "plt.show();"
   ]
  },
  {
   "cell_type": "markdown",
   "metadata": {},
   "source": [
    "一度に複数の枝を追加する場合、 `add_edges_from` を使います。\n",
    "\n",
    "具体的には、NetworkXグラフオブジェクト `nx_tree1` にリスト `list1` に格納されている全ての枝を加えたい場合、以下の様にします。\n",
    "\n",
    "---\n",
    "```Python\n",
    "nx_tree1.add_edges_from(list1)\n",
    "```\n",
    "---\n",
    "\n",
    "実際に、リスト `[(\"a\", \"b\"), (\"a\", \"c\"), (\"a\", \"d\"), (2, \"a\")]` の4つの枝を `nx_tree1` に追加してみます。"
   ]
  },
  {
   "cell_type": "code",
   "execution_count": null,
   "metadata": {},
   "outputs": [],
   "source": [
    "nx_tree1.add_edges_from([(\"a\", \"b\"), (\"a\", \"c\"), (\"a\", \"d\"), (2, \"a\")])"
   ]
  },
  {
   "cell_type": "markdown",
   "metadata": {},
   "source": [
    "表示してみましょう。"
   ]
  },
  {
   "cell_type": "code",
   "execution_count": null,
   "metadata": {},
   "outputs": [],
   "source": [
    "nx.draw_networkx(nx_tree1, pos = nx.spring_layout(nx_tree1))\n",
    "plt.axis('off')\n",
    "plt.show();"
   ]
  },
  {
   "cell_type": "markdown",
   "metadata": {},
   "source": [
    "実は枝を追加したときに、その枝を構成する点が存在しないと自動的にその存在しない点も追加されます。"
   ]
  },
  {
   "cell_type": "code",
   "execution_count": null,
   "metadata": {},
   "outputs": [],
   "source": [
    "nx_tree1.add_edge(1, 3) # 点3は存在しないが、枝が自動的に追加される\n",
    "nx.draw_networkx(nx_tree1, pos = nx.spring_layout(nx_tree1))\n",
    "plt.axis('off')\n",
    "plt.show();"
   ]
  },
  {
   "cell_type": "markdown",
   "metadata": {},
   "source": [
    "それでは、適当な木を作成してみます。"
   ]
  },
  {
   "cell_type": "code",
   "execution_count": null,
   "metadata": {},
   "outputs": [],
   "source": [
    "#pptで使われているファイルとフォルダの階層構造\n",
    "nx_tree2 = nx.Graph()\n",
    "nx_tree2.add_nodes_from(list(range(0, 14)))\n",
    "list_edge = [[1,2,3], [4, 5], [6, 7], [], [8, 9, 10], [11], [12, 13], [], [], [], [], [], [], []]\n",
    "for i in range(0, len(list_edge)):\n",
    "    list_child = list_edge[i]\n",
    "    for vtx in list_child:\n",
    "        nx_tree2.add_edge(i, vtx)\n",
    "nx.draw_networkx(nx_tree2, pos = nx.spring_layout(nx_tree2))\n",
    "plt.axis('off')\n",
    "plt.show();"
   ]
  },
  {
   "cell_type": "code",
   "execution_count": null,
   "metadata": {},
   "outputs": [],
   "source": [
    "#ランダムに木を作成\n",
    "import random\n",
    "random.seed(a=0)\n",
    "int_nodenum = 50\n",
    "int_nodecnt = 1\n",
    "nx_tree3 = nx.Graph()\n",
    "nx_tree3.add_nodes_from(list(range(0, int_nodenum)))\n",
    "list_edge = [0] * int_nodenum\n",
    "list_edge[0] = []\n",
    "for i in range(1, int_nodenum):\n",
    "    int_parent = random.randint(0, int_nodecnt-1)\n",
    "    list_edge[int_nodecnt] = []\n",
    "    list_edge[int_parent].append(int_nodecnt)\n",
    "    int_nodecnt += 1\n",
    "for i in range(0, len(list_edge)):\n",
    "    list_child = list_edge[i]\n",
    "    for vtx in list_child:\n",
    "        nx_tree3.add_edge(i, vtx)\n",
    "nx.draw_networkx(nx_tree3, pos = nx.spring_layout(nx_tree3))\n",
    "plt.axis('off')\n",
    "plt.show();"
   ]
  },
  {
   "cell_type": "markdown",
   "metadata": {},
   "source": [
    "巨大な木を描画すると見難くなりますので、`plt.figure` を適宜変更して木を表示する範囲を調整して下さい。"
   ]
  },
  {
   "cell_type": "code",
   "execution_count": null,
   "metadata": {
    "scrolled": false
   },
   "outputs": [],
   "source": [
    "plt.figure(figsize=(30, 30))#描画する横と縦の幅を設定する\n",
    "nx.draw_networkx(nx_tree3, pos = nx.spring_layout(nx_tree3))\n",
    "plt.axis('off')\n",
    "plt.show();"
   ]
  },
  {
   "cell_type": "markdown",
   "metadata": {},
   "source": [
    "## 木構造からの点や枝の削除"
   ]
  },
  {
   "cell_type": "markdown",
   "metadata": {},
   "source": [
    "これまでとは逆に木から枝を除くには、NetworkXグラフオブジェクトのメソッド `remove_edge` を使います。\n",
    "\n",
    "具体的には、NetworkXグラフオブジェクト `nx_tree1` から点 `v` と点 `u` の間の枝を除きたい場合、以下の様にします。\n",
    "\n",
    "---\n",
    "```Python\n",
    "nx_tree1.remove_edge(v, u)\n",
    "```\n",
    "---\n",
    "\n",
    "実際に、点 `1` と点 `2` の間の枝を `nx_tree1` から除いてみます。"
   ]
  },
  {
   "cell_type": "code",
   "execution_count": null,
   "metadata": {},
   "outputs": [],
   "source": [
    "nx_tree1.remove_edge(1, 2)"
   ]
  },
  {
   "cell_type": "markdown",
   "metadata": {},
   "source": [
    "表示してみましょう。"
   ]
  },
  {
   "cell_type": "code",
   "execution_count": null,
   "metadata": {},
   "outputs": [],
   "source": [
    "nx.draw_networkx(nx_tree1, pos = nx.spring_layout(nx_tree1))\n",
    "plt.axis('off')\n",
    "plt.show();"
   ]
  },
  {
   "cell_type": "markdown",
   "metadata": {},
   "source": [
    "存在しない枝を除こうとするとエラーが出ますので注意して下さい。"
   ]
  },
  {
   "cell_type": "code",
   "execution_count": null,
   "metadata": {},
   "outputs": [],
   "source": [
    "nx_tree1.remove_edge(1, \"a\") #1とaの間には枝がないのでエラーがでる"
   ]
  },
  {
   "cell_type": "markdown",
   "metadata": {},
   "source": [
    "木から点を除くには、NetworkXグラフオブジェクトのメソッド `remove_node` を使います。\n",
    "\n",
    "具体的には、NetworkXグラフオブジェクト `nx_tree1` から点 `v` を除きたい場合、以下の様にします。\n",
    "\n",
    "---\n",
    "```Python\n",
    "nx_tree1.remove_node(v)\n",
    "```\n",
    "---\n",
    "\n",
    "実際に、点 `a` を除いてみます。"
   ]
  },
  {
   "cell_type": "code",
   "execution_count": null,
   "metadata": {},
   "outputs": [],
   "source": [
    "nx_tree1.remove_node(\"a\")\n",
    "nx.draw_networkx(nx_tree1, pos = nx.spring_layout(nx_tree1))\n",
    "plt.axis('off')\n",
    "plt.show();"
   ]
  },
  {
   "cell_type": "markdown",
   "metadata": {},
   "source": [
    "削除した点（この例でいうところの `a`）から出ている枝も一緒に全て削除されます。"
   ]
  },
  {
   "cell_type": "markdown",
   "metadata": {},
   "source": [
    "# グラフ構造\n",
    "\n",
    "モジュール `networkx` は本来、木構造を一般化したグラフ構造を扱うためのものです。"
   ]
  },
  {
   "cell_type": "markdown",
   "metadata": {},
   "source": [
    "## グラフ構造の作成\n",
    "\n",
    "実は先に紹介した関数 `nx.Graph()` は木構造を一般化したグラフ構造、しかも無向グラフを扱う為のものでした。\n",
    "\n",
    "有向グラフを扱う場合は、 `nx.DiGraph()` を使います。\n",
    "\n",
    "---\n",
    "```Python\n",
    "nx.DiGraph()\n",
    "```\n",
    "---"
   ]
  },
  {
   "cell_type": "code",
   "execution_count": null,
   "metadata": {},
   "outputs": [],
   "source": [
    "import matplotlib.pyplot as plt\n",
    "%matplotlib inline\n",
    "nx_dg1 = nx.DiGraph()\n",
    "nx_dg1.add_edges_from([(0, 1), (1, 0), (0, 2), (2, 1), (3, 2)])\n",
    "nx.draw_networkx(nx_dg1, pos = nx.spring_layout(nx_dg1))\n",
    "plt.axis('off')\n",
    "plt.show();"
   ]
  },
  {
   "cell_type": "markdown",
   "metadata": {},
   "source": [
    "同じ枝 `[(0, 1), (1, 0), (0, 2), (2, 1), (3, 2)]` を与えても、無向グラフの場合は、`(0, 1)` と `(1, 0)` は同じ枝と見なされます。"
   ]
  },
  {
   "cell_type": "code",
   "execution_count": null,
   "metadata": {},
   "outputs": [],
   "source": [
    "import matplotlib.pyplot as plt\n",
    "%matplotlib inline\n",
    "nx_g1 = nx.Graph()\n",
    "nx_g1.add_edges_from([(0, 1), (1, 0), (0, 2), (2, 1), (3, 2)])\n",
    "nx.draw_networkx(nx_g1, pos = nx.spring_layout(nx_g1))\n",
    "plt.axis('off')\n",
    "plt.show();"
   ]
  },
  {
   "cell_type": "markdown",
   "metadata": {},
   "source": [
    "NetworkXグラフオブジェクト `nx_g1` の枝を調べるには、`edges()` というメソッドを使います。\n",
    "\n",
    "---\n",
    "```Python\n",
    "nx_g1.edges()\n",
    "```\n",
    "---"
   ]
  },
  {
   "cell_type": "code",
   "execution_count": null,
   "metadata": {},
   "outputs": [],
   "source": [
    "nx_dg1.edges() #上記の有向グラフの枝"
   ]
  },
  {
   "cell_type": "code",
   "execution_count": null,
   "metadata": {},
   "outputs": [],
   "source": [
    "nx_g1.edges() #上記の無向グラフの枝"
   ]
  },
  {
   "cell_type": "markdown",
   "metadata": {},
   "source": [
    "## 重み付きグラフの作成\n",
    "\n",
    "グラフの枝に重みをもたせる場合、 `add_edge` の3番目以降の引数で指定します。\n",
    "\n",
    "具体的には、NetworkXグラフオブジェクト `nx_dg2` の点 `v` と点 `u` の間の枝に重み `w` を加えたい場合、以下の様にします。\n",
    "\n",
    "---\n",
    "```Python\n",
    "nx_dg2.add_edge(v, u, weight=w)\n",
    "```\n",
    "---\n",
    "\n",
    "実際に、点 `1` と点 `2` の間に重み `10` の枝を `nx_dg2` に追加してみます。"
   ]
  },
  {
   "cell_type": "code",
   "execution_count": null,
   "metadata": {},
   "outputs": [],
   "source": [
    "nx_dg2 = nx.DiGraph()\n",
    "nx_dg2.add_edge(1, 2, weight=10)\n",
    "pos = nx.spring_layout(nx_dg2)\n",
    "nx.draw_networkx_edge_labels(nx_dg2, pos)\n",
    "nx.draw_networkx(nx_dg2, pos, with_labels=True)\n",
    "plt.axis('off')\n",
    "plt.show();"
   ]
  },
  {
   "cell_type": "markdown",
   "metadata": {},
   "source": [
    "実際には、3番目以降の引数で枝に持たせるキーとキーに対応付ける値を設定しています。\n",
    "\n",
    "ですので、どの様な値でも指定することが可能です。"
   ]
  },
  {
   "cell_type": "code",
   "execution_count": null,
   "metadata": {},
   "outputs": [],
   "source": [
    "nx_dg2.add_edge(2, 3, weight=20, length=150)\n",
    "nx_dg2.add_edge(1, 3, status=\"Good\")\n",
    "pos = nx.spring_layout(nx_dg2)\n",
    "nx.draw_networkx_edge_labels(nx_dg2, pos)\n",
    "nx.draw_networkx(nx_dg2, pos, with_labels=True)\n",
    "plt.axis('off')\n",
    "plt.show();"
   ]
  },
  {
   "cell_type": "markdown",
   "metadata": {},
   "source": [
    " `add_edges_from` を使って枝に何らかの値を持たせることも出来ます。\n",
    "\n",
    "具体的には、NetworkXグラフオブジェクト `nx_g1` の枝 `(0, 1)` と `(2, 3)` に `weight=10` と `length=25` という値を加えたい場合、以下の様にします。\n",
    "\n",
    "---\n",
    "```Python\n",
    "nx_g1.add_edges_from([(0, 1, {'weight':10}), (2, 3, {'length':25})])\n",
    "```\n",
    "---\n",
    "\n",
    "実際に実行してみます。"
   ]
  },
  {
   "cell_type": "code",
   "execution_count": null,
   "metadata": {},
   "outputs": [],
   "source": [
    "nx_dg2 = nx.DiGraph()\n",
    "nx_dg2.add_edges_from([(0, 1, {'weight':10}), (2, 3, {'length':25, 'Name':'Panda'})])\n",
    "nx_dg2.add_edge(1,3, status=\"Bad\", weather=\"Rainy\")\n",
    "pos = nx.spring_layout(nx_dg2)\n",
    "nx.draw_networkx_edge_labels(nx_dg2, pos)\n",
    "nx.draw_networkx(nx_dg2, pos)\n",
    "plt.axis('off')\n",
    "plt.show();"
   ]
  },
  {
   "cell_type": "code",
   "execution_count": null,
   "metadata": {},
   "outputs": [],
   "source": []
  },
  {
   "cell_type": "markdown",
   "metadata": {},
   "source": [
    "## グラフアルゴリズム"
   ]
  },
  {
   "cell_type": "markdown",
   "metadata": {},
   "source": [
    "`networkx` では幾つかのグラフアルゴリズムを実行する為の関数やメソッドが用意されています。"
   ]
  },
  {
   "cell_type": "markdown",
   "metadata": {},
   "source": [
    "### 探索\n",
    "\n",
    "木構造を探索する為の関数が用意されています。\n",
    "\n",
    "NetworkXグラフオブジェクト `nx_tree1` による木を点 `v` を起点にして幅優先探索を実行するには以下の様にします。\n",
    "\n",
    "---\n",
    "```Python\n",
    "    nx.bfs_predecessors(nx_tree1, source=v)\n",
    "```\n",
    "---\n",
    "\n",
    "この関数の返り値は、訪問順で枝（訪問先の点の名前、訪問前の点の名前の順で格納した大きさ2のタプル）を生成するジェネレータです。\n",
    "\n"
   ]
  },
  {
   "cell_type": "code",
   "execution_count": null,
   "metadata": {},
   "outputs": [],
   "source": [
    "nx_tree2 = nx.Graph()\n",
    "nx_tree2.add_nodes_from(list(range(0, 14)))\n",
    "list_edge = [[1,2,3], [4, 5], [6, 7], [], [8, 9, 10], [11], [12, 13], [], [], [], [], [], [], []]\n",
    "for i in range(0, len(list_edge)):\n",
    "    list_child = list_edge[i]\n",
    "    for vtx in list_child:\n",
    "        nx_tree2.add_edge(i, vtx)\n",
    "nx.draw_networkx(nx_tree2, pos = nx.spring_layout(nx_tree2))\n",
    "plt.axis('off')\n",
    "plt.show();\n",
    "gen1 = nx.bfs_predecessors(nx_tree2, source=0)\n",
    "print(\"訪問順で枝を表示：\", *gen1)"
   ]
  },
  {
   "cell_type": "markdown",
   "metadata": {},
   "source": [
    "NetworkXグラフオブジェクト `nx_tree1` による木を点 `v` を起点として深さ優先探索を実行するには以下の様にします。\n",
    "\n",
    "---\n",
    "```Python\n",
    "nx.dfs_preorder_nodes(nx_tree1, source=v)\n",
    "```\n",
    "---\n",
    "\n",
    "この関数の返り値は、訪問順で点を生成するジェネレータです。\n",
    "\n",
    "実行してみます。"
   ]
  },
  {
   "cell_type": "code",
   "execution_count": null,
   "metadata": {},
   "outputs": [],
   "source": [
    "nx.draw_networkx(nx_tree2, pos = nx.spring_layout(nx_tree2))\n",
    "plt.axis('off')\n",
    "plt.show();\n",
    "gen1 = nx.dfs_preorder_nodes(nx_tree2, source=0)\n",
    "print(\"訪問順で頂点を表示：\", *gen1)"
   ]
  },
  {
   "cell_type": "markdown",
   "metadata": {},
   "source": [
    "### 最短経路・最短距離\n",
    "\n",
    "NetworkXグラフオブジェクト `nx_g1` によるグラフの点 `v` からの各点の最短距離を求めるには以下の様にします。\n",
    "\n",
    "---\n",
    "```Python\n",
    "nx.shortest_path(nx_g1, source=v)\n",
    "```\n",
    "---\n",
    "\n",
    "この関数の返り値は、キーを点 `u` とし、その値を点 `v` から点 `u` までの最短経路上の点の名前を格納したリストです。\n",
    "\n",
    "実行してみます。"
   ]
  },
  {
   "cell_type": "code",
   "execution_count": null,
   "metadata": {},
   "outputs": [],
   "source": [
    "nx_g1 = nx.Graph()\n",
    "list_adjlist2 = [[1, 2, 3], [0, 4, 5, 6, 7], [0, 3, 5], [0, 2, 5, 6, 7], [1, 5, 7], [1, 2, 3, 4, 7], [1, 3], [1, 3, 4, 5]]\n",
    "for node1 in range(0, len(list_adjlist2)):\n",
    "    for node2 in list_adjlist2[node1]:\n",
    "        nx_g1.add_edge(node1, node2)\n",
    "initnode = 0\n",
    "list_cliques = nx.shortest_path(nx_g1, source=initnode)\n",
    "print(list_cliques)"
   ]
  },
  {
   "cell_type": "code",
   "execution_count": null,
   "metadata": {},
   "outputs": [],
   "source": [
    "%matplotlib inline\n",
    "import matplotlib.pyplot as plt\n",
    "fig, npar_axval = plt.subplots(1, 1, figsize=(4, 4));npar_axval.set_axis_off();nx.draw_networkx(nx_g1, ax=npar_axval)"
   ]
  },
  {
   "cell_type": "markdown",
   "metadata": {},
   "source": [
    "### 子孫の取得\n",
    "\n",
    "NetworkXグラフオブジェクト `nx_g1` による閉路を持たない有向グラフ（つまり、木構造を含みます）の点 `v` の子孫を求めるには以下の様にします。\n",
    "\n",
    "---\n",
    "```Python\n",
    "nx.descendants(nx_g1, source=v)\n",
    "```\n",
    "---\n",
    "\n",
    "この関数の返り値は、点 `v` の子孫の点を格納した集合です。\n",
    "\n",
    "実行してみます。"
   ]
  },
  {
   "cell_type": "code",
   "execution_count": null,
   "metadata": {},
   "outputs": [],
   "source": [
    "list_adjlist1=[[1, 2], [2], [], [2, 4], [5], []]\n",
    "nx_g1 = nx.DiGraph()\n",
    "for node1 in range(0, len(list_adjlist1)):\n",
    "    for node2 in list_adjlist1[node1]:\n",
    "        nx_g1.add_edge(node1, node2)\n",
    "initnode = 0\n",
    "set_desc = nx.descendants(nx_g1, source=initnode)\n",
    "print(set_desc)\n",
    "initnode = 3\n",
    "set_desc = nx.descendants(nx_g1, source=initnode)\n",
    "print(set_desc)"
   ]
  },
  {
   "cell_type": "code",
   "execution_count": null,
   "metadata": {},
   "outputs": [],
   "source": [
    "%matplotlib inline\n",
    "import matplotlib.pyplot as plt\n",
    "fig, npar_axval = plt.subplots(1, 1, figsize=(4, 4));npar_axval.set_axis_off();nx.draw_networkx(nx_g1, ax=npar_axval)"
   ]
  },
  {
   "cell_type": "markdown",
   "metadata": {},
   "source": [
    "### トポロジカルソート\n",
    "\n",
    "NetworkXグラフオブジェクト `nx_g1` による閉路を持たない有向グラフのトポロジカルソートを求めるには以下の様にします。\n",
    "\n",
    "---\n",
    "```Python\n",
    "nx.topological_sort(nx_g1)\n",
    "```\n",
    "---\n",
    "\n",
    "この関数の返り値は、トポロジカルソートの順で点を生成するジェネレータです。\n",
    "\n",
    "実行してみます。"
   ]
  },
  {
   "cell_type": "code",
   "execution_count": null,
   "metadata": {},
   "outputs": [],
   "source": [
    "list_adjlist1=[[1, 2], [2], [], [2]]\n",
    "nx_g1 = nx.DiGraph()\n",
    "for node1 in range(0, len(list_adjlist1)):\n",
    "    for node2 in list_adjlist1[node1]:\n",
    "        nx_g1.add_edge(node1, node2)\n",
    "list_tpsorted1 = list(nx.topological_sort(nx_g1))\n",
    "print(list_tpsorted1)"
   ]
  },
  {
   "cell_type": "code",
   "execution_count": null,
   "metadata": {},
   "outputs": [],
   "source": [
    "%matplotlib inline\n",
    "import matplotlib.pyplot as plt\n",
    "fig, npar_axval = plt.subplots(1, 1, figsize=(4, 4));npar_axval.set_axis_off();nx.draw_networkx(nx_g1, ax=npar_axval)"
   ]
  },
  {
   "cell_type": "markdown",
   "metadata": {},
   "source": [
    "### クリークの列挙（Bron-Kerbosch アルゴリズム）\n",
    "\n",
    "NetworkXグラフオブジェクト `nx_g1` による無向グラフの極大クリークを全て求めるには以下の様にします。\n",
    "\n",
    "---\n",
    "```Python\n",
    "nx.find_cliques(nx_g1)\n",
    "```\n",
    "---\n",
    "\n",
    "この関数の返り値は、全ての極大クリーク（を表す点集合によるリスト）を生成するジェネレータです。\n",
    "\n",
    "ジェネレータはリストに変換したり、for文の `in` の後ろで使うことが出来ます。\n",
    "\n",
    "実行してみます。"
   ]
  },
  {
   "cell_type": "code",
   "execution_count": null,
   "metadata": {},
   "outputs": [],
   "source": [
    "nx_g1 = nx.Graph()\n",
    "list_adjlist2 = [[1, 2, 3], [0, 4, 5, 6, 7], [0, 3, 5], [0, 2, 5, 6, 7], [1, 5, 7], [1, 2, 3, 4, 7], [1, 3], [1, 3, 4, 5]]\n",
    "for node1 in range(0, len(list_adjlist2)):\n",
    "    for node2 in list_adjlist2[node1]:\n",
    "        nx_g1.add_edge(node1, node2)\n",
    "#極大クリークを生成するジェネレータ\n",
    "gen_cq1 = nx.find_cliques(nx_g1)\n",
    "list_cliques = list(gen_cq1) # ジェネレータをリストに変換する\n",
    "print(list_cliques)# [[1, 0], [1, 4, 5, 7], [1, 6], [2, 3, 0], [2, 3, 5], [3, 6], [3, 7, 5]]"
   ]
  },
  {
   "cell_type": "code",
   "execution_count": null,
   "metadata": {},
   "outputs": [],
   "source": [
    "#ジェネレータは一度使うと再度作り直す必要があります\n",
    "#for cq1 in gen_cq1:\n",
    "#    print(cq1) #何も表示されない\n",
    "gen_cq1 = nx.find_cliques(nx_g1)\n",
    "for cq1 in gen_cq1:\n",
    "    print(cq1)"
   ]
  },
  {
   "cell_type": "code",
   "execution_count": null,
   "metadata": {},
   "outputs": [],
   "source": [
    "%matplotlib inline\n",
    "import matplotlib.pyplot as plt\n",
    "fig, npar_axval = plt.subplots(1, 1, figsize=(4, 4));npar_axval.set_axis_off();nx.draw_networkx(nx_g1, ax=npar_axval)"
   ]
  },
  {
   "cell_type": "markdown",
   "metadata": {},
   "source": [
    "### 各点を含む三角形の数\n",
    "\n",
    "NetworkXグラフオブジェクト `nx_g1` による無向グラフの各点が幾つの三角形に含まれるか調べるには以下の様にします。\n",
    "\n",
    "---\n",
    "```Python\n",
    "nx.triangles(nx_g1)\n",
    "```\n",
    "---\n",
    "\n",
    "この関数の返り値は、点の名前をキー、対応する値をその点を含む三角形とした辞書です。\n",
    "\n",
    "実行してみます。"
   ]
  },
  {
   "cell_type": "code",
   "execution_count": null,
   "metadata": {},
   "outputs": [],
   "source": [
    "nx_g1 = nx.Graph()#無向グラフにしか使えない\n",
    "nx_g1.add_edge(0, 1)\n",
    "nx_g1.add_edge(1, 2)\n",
    "nx_g1.add_edge(2, 0)\n",
    "nx_g1.add_edge(1, 3)\n",
    "nx_g1.add_edge(3, 0)\n",
    "nx_g1.add_edge(3, 4)\n",
    "nx_res = nx.triangles(nx_g1)\n",
    "print(nx_res)"
   ]
  },
  {
   "cell_type": "code",
   "execution_count": null,
   "metadata": {},
   "outputs": [],
   "source": [
    "%matplotlib inline\n",
    "import matplotlib.pyplot as plt\n",
    "fig, npar_axval = plt.subplots(1, 1, figsize=(4, 4));npar_axval.set_axis_off();nx.draw_networkx(nx_g1, ax=npar_axval)"
   ]
  },
  {
   "cell_type": "markdown",
   "metadata": {},
   "source": [
    "この値を使えば三角形が幾つこのグラフに含まれるか求めることが出来ます。"
   ]
  },
  {
   "cell_type": "markdown",
   "metadata": {},
   "source": [
    "`nx.triangles` の第2引数として頂点名を指定すると、その頂点を含む三角形の数だけを求めることが出来ます。"
   ]
  },
  {
   "cell_type": "code",
   "execution_count": null,
   "metadata": {},
   "outputs": [],
   "source": [
    "nx_res = nx.triangles(nx_g1, 0)\n",
    "print(nx_res)\n",
    "nx_res = nx.triangles(nx_g1, 3)\n",
    "print(nx_res)\n",
    "nx_res = nx.triangles(nx_g1, 4)\n",
    "print(nx_res)"
   ]
  },
  {
   "cell_type": "code",
   "execution_count": null,
   "metadata": {},
   "outputs": [],
   "source": []
  }
 ],
 "metadata": {
  "kernelspec": {
   "display_name": "Python 3",
   "language": "python",
   "name": "python3"
  },
  "language_info": {
   "codemirror_mode": {
    "name": "ipython",
    "version": 3
   },
   "file_extension": ".py",
   "mimetype": "text/x-python",
   "name": "python",
   "nbconvert_exporter": "python",
   "pygments_lexer": "ipython3",
   "version": "3.7.4"
  }
 },
 "nbformat": 4,
 "nbformat_minor": 2
}
