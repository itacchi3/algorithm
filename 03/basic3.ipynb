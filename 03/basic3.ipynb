{
 "cells": [
  {
   "cell_type": "markdown",
   "metadata": {},
   "source": [
    "# 教養としてのアルゴリズムとデータ構造\n",
    "\n",
    "* 以下の各問について、問の次（もしくはその次）にあるコードセルに解答すること。\n",
    "    * 特に指定がある場合を除いて複数のセルに分けて解答してはならない。\n",
    "* 全ての解答を終えた後に必ずリスタートを実行し、上のセルから順番に実行して各解答が正しく動くことを確認すること。\n",
    " * ただし、ローカル環境で解答する場合、 `!wget...` の記載のあるセルは実行しなくてよい。 \n",
    "* 提出にあたっては、各当該のセルに解答のコードを記入し、それを実行した結果を表示させた後に、保存したこのファイルをITC-LMS経由で提出すること。\n",
    "* 解答のコードには適宜コメントを入れること。\n",
    "* 受講者間の協力は原則許可しない。\n",
    "* 解答がコピペと判断された場合、その解答（コピペ元も含めて）は0点となる可能性があるので注意すること。\n",
    "* 特に指定がない限りモジュールを用いて解答してはならない。\n"
   ]
  },
  {
   "cell_type": "markdown",
   "metadata": {},
   "source": [
    "<b><font color=\"red\">\n",
    "各問に解答するにあたり、以下の点に注意して下さい。\n",
    "\n",
    "1. 隣接リストは授業で配布したスライド (03_Tree.ppt, 14ページ) の形式に従うものとします。\n",
    " * 例えば、`[[1,2,3], [4, 5], [6, 7], [], [8, 9, 10], [11], [12, 13], [], [], [], [], [], [], []]` の様な値です。\n",
    "2. 解答するのに `networkx` を使用してはいけません。\n",
    "</font></b>"
   ]
  },
  {
   "cell_type": "markdown",
   "metadata": {},
   "source": [
    "* ローカル環境で行う場合、課題によってはデータを別にダウンロードする必要があります。\n",
    "* Colaboratoryを利用して課題を行う場合には、最初に以下のセルを実行して下さい。"
   ]
  },
  {
   "cell_type": "code",
   "execution_count": 1,
   "metadata": {},
   "outputs": [
    {
     "output_type": "stream",
     "name": "stdout",
     "text": [
      "fish: No matches for wildcard 'https://drive.google.com/uc?id=1f5tjyfqDgcoHYyqedfhRKrmZ-eOGivX7'. See `help expand`.\n",
      "wget https://drive.google.com/uc?id=1f5tjyfqDgcoHYyqedfhRKrmZ-eOGivX7 -O utaadevalcpx.zip\n",
      "     ^\n",
      "unzip:  cannot find or open utaadevalcpx.zip, utaadevalcpx.zip.zip or utaadevalcpx.zip.ZIP.\n"
     ]
    }
   ],
   "source": [
    "!wget https://drive.google.com/uc?id=1f5tjyfqDgcoHYyqedfhRKrmZ-eOGivX7 -O utaadevalcpx.zip\n",
    "!unzip utaadevalcpx.zip"
   ]
  },
  {
   "cell_type": "markdown",
   "metadata": {},
   "source": [
    "# 第3回基礎課題"
   ]
  },
  {
   "cell_type": "code",
   "execution_count": 2,
   "metadata": {},
   "outputs": [],
   "source": [
    "str_exfilename = \"basic3.ipynb\" # ファイル名を変更している場合、ここをその名前に変更する必要があります（ローカル環境のみ/Colab環境では使用しませんが実行はして下さい"
   ]
  },
  {
   "cell_type": "markdown",
   "metadata": {},
   "source": [
    "## 1. 葉の一覧の取得\n",
    "\n",
    "\n",
    "木構造 $T$ を表す隣接リスト `list_adjlist` が引数として与えられたとき、全ての葉の名前を格納したリスト `list_leaf` を返す関数 `getLeaves` を作成して下さい。以下の点に注意して解答して下さい。\n",
    "\n",
    "1. 各点は `0` 以上の整数で表されます。\n",
    "2. 根を表す番号は `0` です。\n",
    "\n",
    "なお、各値の大きさは以下の通りとします。\n",
    "* $n =$ $T$ の頂点の数\n",
    "\n",
    "以下のセルの `...` のところを書き換えて解答して下さい。"
   ]
  },
  {
   "cell_type": "code",
   "execution_count": 3,
   "metadata": {},
   "outputs": [],
   "source": [
    "### この行のコメントを改変してはいけません %3-1% ### \n",
    "#解答用セル\n",
    "def getLeaves(list_adjlist):\n",
    "    list_leaf = []\n",
    "    # 子がいなかったら葉として追加\n",
    "    for i in range(len(list_adjlist)):\n",
    "        if list_adjlist[i] == []:\n",
    "            list_leaf.append(i)\n",
    "    return list_leaf"
   ]
  },
  {
   "cell_type": "markdown",
   "metadata": {},
   "source": [
    "以下のセルを実行して `True` が出ることを確認して下さい。 "
   ]
  },
  {
   "cell_type": "code",
   "execution_count": 2,
   "metadata": {
    "scrolled": true
   },
   "outputs": [
    {
     "output_type": "stream",
     "name": "stdout",
     "text": [
      "True\nTrue\n"
     ]
    }
   ],
   "source": [
    "list_adjlist_test1=[[1, 2], [], [3, 4], [], []]\n",
    "print(sorted(getLeaves(list_adjlist_test1))==[1, 3, 4])\n",
    "list_adjlist_test2=[[1, 2, 3], [4, 5], [6, 7, 8, 9], [], [], [10], [], [], [], [], []]\n",
    "print(sorted(getLeaves(list_adjlist_test2))==[3, 4, 6, 7, 8, 9, 10])"
   ]
  },
  {
   "cell_type": "markdown",
   "metadata": {},
   "source": [
    "なお、テストで用いている木は以下の様な形になっています。"
   ]
  },
  {
   "cell_type": "code",
   "execution_count": 4,
   "metadata": {
    "scrolled": true
   },
   "outputs": [
    {
     "output_type": "display_data",
     "data": {
      "text/plain": "<Figure size 504x216 with 2 Axes>",
      "image/svg+xml": "<?xml version=\"1.0\" encoding=\"utf-8\" standalone=\"no\"?>\n<!DOCTYPE svg PUBLIC \"-//W3C//DTD SVG 1.1//EN\"\n  \"http://www.w3.org/Graphics/SVG/1.1/DTD/svg11.dtd\">\n<svg height=\"177.48pt\" version=\"1.1\" viewBox=\"0 0 405 177.48\" width=\"405pt\" xmlns=\"http://www.w3.org/2000/svg\" xmlns:xlink=\"http://www.w3.org/1999/xlink\">\n <metadata>\n  <rdf:RDF xmlns:cc=\"http://creativecommons.org/ns#\" xmlns:dc=\"http://purl.org/dc/elements/1.1/\" xmlns:rdf=\"http://www.w3.org/1999/02/22-rdf-syntax-ns#\">\n   <cc:Work>\n    <dc:type rdf:resource=\"http://purl.org/dc/dcmitype/StillImage\"/>\n    <dc:date>2021-06-24T21:03:44.624503</dc:date>\n    <dc:format>image/svg+xml</dc:format>\n    <dc:creator>\n     <cc:Agent>\n      <dc:title>Matplotlib v3.4.1, https://matplotlib.org/</dc:title>\n     </cc:Agent>\n    </dc:creator>\n   </cc:Work>\n  </rdf:RDF>\n </metadata>\n <defs>\n  <style type=\"text/css\">*{stroke-linecap:butt;stroke-linejoin:round;}</style>\n </defs>\n <g id=\"figure_1\">\n  <g id=\"patch_1\">\n   <path d=\"M 0 177.48 \nL 405 177.48 \nL 405 0 \nL 0 0 \nz\n\" style=\"fill:none;\"/>\n  </g>\n  <g id=\"axes_1\">\n   <g id=\"LineCollection_1\">\n    <path clip-path=\"url(#p2b72c92b80)\" d=\"M 65.921271 129.559855 \nL 15.270248 162.867273 \n\" style=\"fill:none;stroke:#000000;\"/>\n    <path clip-path=\"url(#p2b72c92b80)\" d=\"M 65.921271 129.559855 \nL 124.473797 90.775963 \n\" style=\"fill:none;stroke:#000000;\"/>\n    <path clip-path=\"url(#p2b72c92b80)\" d=\"M 124.473797 90.775963 \nL 139.371383 14.612727 \n\" style=\"fill:none;stroke:#000000;\"/>\n    <path clip-path=\"url(#p2b72c92b80)\" d=\"M 124.473797 90.775963 \nL 176.675207 123.17872 \n\" style=\"fill:none;stroke:#000000;\"/>\n   </g>\n   <g id=\"PathCollection_1\">\n    <defs>\n     <path d=\"M 0 8.660254 \nC 2.296726 8.660254 4.499694 7.747755 6.123724 6.123724 \nC 7.747755 4.499694 8.660254 2.296726 8.660254 0 \nC 8.660254 -2.296726 7.747755 -4.499694 6.123724 -6.123724 \nC 4.499694 -7.747755 2.296726 -8.660254 0 -8.660254 \nC -2.296726 -8.660254 -4.499694 -7.747755 -6.123724 -6.123724 \nC -7.747755 -4.499694 -8.660254 -2.296726 -8.660254 0 \nC -8.660254 2.296726 -7.747755 4.499694 -6.123724 6.123724 \nC -4.499694 7.747755 -2.296726 8.660254 0 8.660254 \nz\n\" id=\"m4cceef4d42\" style=\"stroke:#1f78b4;\"/>\n    </defs>\n    <g clip-path=\"url(#p2b72c92b80)\">\n     <use style=\"fill:#1f78b4;stroke:#1f78b4;\" x=\"65.921271\" xlink:href=\"#m4cceef4d42\" y=\"129.559855\"/>\n     <use style=\"fill:#1f78b4;stroke:#1f78b4;\" x=\"15.270248\" xlink:href=\"#m4cceef4d42\" y=\"162.867273\"/>\n     <use style=\"fill:#1f78b4;stroke:#1f78b4;\" x=\"124.473797\" xlink:href=\"#m4cceef4d42\" y=\"90.775963\"/>\n     <use style=\"fill:#1f78b4;stroke:#1f78b4;\" x=\"139.371383\" xlink:href=\"#m4cceef4d42\" y=\"14.612727\"/>\n     <use style=\"fill:#1f78b4;stroke:#1f78b4;\" x=\"176.675207\" xlink:href=\"#m4cceef4d42\" y=\"123.17872\"/>\n    </g>\n   </g>\n   <g id=\"text_1\">\n    <g clip-path=\"url(#p2b72c92b80)\">\n     <!-- 0 -->\n     <g transform=\"translate(62.103771 132.871105)scale(0.12 -0.12)\">\n      <defs>\n       <path d=\"M 2034 4250 \nQ 1547 4250 1301 3770 \nQ 1056 3291 1056 2328 \nQ 1056 1369 1301 889 \nQ 1547 409 2034 409 \nQ 2525 409 2770 889 \nQ 3016 1369 3016 2328 \nQ 3016 3291 2770 3770 \nQ 2525 4250 2034 4250 \nz\nM 2034 4750 \nQ 2819 4750 3233 4129 \nQ 3647 3509 3647 2328 \nQ 3647 1150 3233 529 \nQ 2819 -91 2034 -91 \nQ 1250 -91 836 529 \nQ 422 1150 422 2328 \nQ 422 3509 836 4129 \nQ 1250 4750 2034 4750 \nz\n\" id=\"DejaVuSans-30\" transform=\"scale(0.015625)\"/>\n      </defs>\n      <use xlink:href=\"#DejaVuSans-30\"/>\n     </g>\n    </g>\n   </g>\n   <g id=\"text_2\">\n    <g clip-path=\"url(#p2b72c92b80)\">\n     <!-- 1 -->\n     <g transform=\"translate(11.452748 166.178523)scale(0.12 -0.12)\">\n      <defs>\n       <path d=\"M 794 531 \nL 1825 531 \nL 1825 4091 \nL 703 3866 \nL 703 4441 \nL 1819 4666 \nL 2450 4666 \nL 2450 531 \nL 3481 531 \nL 3481 0 \nL 794 0 \nL 794 531 \nz\n\" id=\"DejaVuSans-31\" transform=\"scale(0.015625)\"/>\n      </defs>\n      <use xlink:href=\"#DejaVuSans-31\"/>\n     </g>\n    </g>\n   </g>\n   <g id=\"text_3\">\n    <g clip-path=\"url(#p2b72c92b80)\">\n     <!-- 2 -->\n     <g transform=\"translate(120.656297 94.087213)scale(0.12 -0.12)\">\n      <defs>\n       <path d=\"M 1228 531 \nL 3431 531 \nL 3431 0 \nL 469 0 \nL 469 531 \nQ 828 903 1448 1529 \nQ 2069 2156 2228 2338 \nQ 2531 2678 2651 2914 \nQ 2772 3150 2772 3378 \nQ 2772 3750 2511 3984 \nQ 2250 4219 1831 4219 \nQ 1534 4219 1204 4116 \nQ 875 4013 500 3803 \nL 500 4441 \nQ 881 4594 1212 4672 \nQ 1544 4750 1819 4750 \nQ 2544 4750 2975 4387 \nQ 3406 4025 3406 3419 \nQ 3406 3131 3298 2873 \nQ 3191 2616 2906 2266 \nQ 2828 2175 2409 1742 \nQ 1991 1309 1228 531 \nz\n\" id=\"DejaVuSans-32\" transform=\"scale(0.015625)\"/>\n      </defs>\n      <use xlink:href=\"#DejaVuSans-32\"/>\n     </g>\n    </g>\n   </g>\n   <g id=\"text_4\">\n    <g clip-path=\"url(#p2b72c92b80)\">\n     <!-- 3 -->\n     <g transform=\"translate(135.553883 17.923977)scale(0.12 -0.12)\">\n      <defs>\n       <path d=\"M 2597 2516 \nQ 3050 2419 3304 2112 \nQ 3559 1806 3559 1356 \nQ 3559 666 3084 287 \nQ 2609 -91 1734 -91 \nQ 1441 -91 1130 -33 \nQ 819 25 488 141 \nL 488 750 \nQ 750 597 1062 519 \nQ 1375 441 1716 441 \nQ 2309 441 2620 675 \nQ 2931 909 2931 1356 \nQ 2931 1769 2642 2001 \nQ 2353 2234 1838 2234 \nL 1294 2234 \nL 1294 2753 \nL 1863 2753 \nQ 2328 2753 2575 2939 \nQ 2822 3125 2822 3475 \nQ 2822 3834 2567 4026 \nQ 2313 4219 1838 4219 \nQ 1578 4219 1281 4162 \nQ 984 4106 628 3988 \nL 628 4550 \nQ 988 4650 1302 4700 \nQ 1616 4750 1894 4750 \nQ 2613 4750 3031 4423 \nQ 3450 4097 3450 3541 \nQ 3450 3153 3228 2886 \nQ 3006 2619 2597 2516 \nz\n\" id=\"DejaVuSans-33\" transform=\"scale(0.015625)\"/>\n      </defs>\n      <use xlink:href=\"#DejaVuSans-33\"/>\n     </g>\n    </g>\n   </g>\n   <g id=\"text_5\">\n    <g clip-path=\"url(#p2b72c92b80)\">\n     <!-- 4 -->\n     <g transform=\"translate(172.857707 126.48997)scale(0.12 -0.12)\">\n      <defs>\n       <path d=\"M 2419 4116 \nL 825 1625 \nL 2419 1625 \nL 2419 4116 \nz\nM 2253 4666 \nL 3047 4666 \nL 3047 1625 \nL 3713 1625 \nL 3713 1100 \nL 3047 1100 \nL 3047 0 \nL 2419 0 \nL 2419 1100 \nL 313 1100 \nL 313 1709 \nL 2253 4666 \nz\n\" id=\"DejaVuSans-34\" transform=\"scale(0.015625)\"/>\n      </defs>\n      <use xlink:href=\"#DejaVuSans-34\"/>\n     </g>\n    </g>\n   </g>\n  </g>\n  <g id=\"axes_2\">\n   <g id=\"LineCollection_2\">\n    <path clip-path=\"url(#p336f4113ad)\" d=\"M 310.779585 111.445212 \nL 271.058903 82.869711 \n\" style=\"fill:none;stroke:#000000;\"/>\n    <path clip-path=\"url(#p336f4113ad)\" d=\"M 310.779585 111.445212 \nL 357.940575 123.322495 \n\" style=\"fill:none;stroke:#000000;\"/>\n    <path clip-path=\"url(#p336f4113ad)\" d=\"M 310.779585 111.445212 \nL 296.30714 143.493198 \n\" style=\"fill:none;stroke:#000000;\"/>\n    <path clip-path=\"url(#p336f4113ad)\" d=\"M 271.058903 82.869711 \nL 243.479454 95.716782 \n\" style=\"fill:none;stroke:#000000;\"/>\n    <path clip-path=\"url(#p336f4113ad)\" d=\"M 271.058903 82.869711 \nL 247.854461 44.238346 \n\" style=\"fill:none;stroke:#000000;\"/>\n    <path clip-path=\"url(#p336f4113ad)\" d=\"M 357.940575 123.322495 \nL 384.65459 148.383665 \n\" style=\"fill:none;stroke:#000000;\"/>\n    <path clip-path=\"url(#p336f4113ad)\" d=\"M 357.940575 123.322495 \nL 389.729752 112.994275 \n\" style=\"fill:none;stroke:#000000;\"/>\n    <path clip-path=\"url(#p336f4113ad)\" d=\"M 357.940575 123.322495 \nL 358.912456 162.867273 \n\" style=\"fill:none;stroke:#000000;\"/>\n    <path clip-path=\"url(#p336f4113ad)\" d=\"M 357.940575 123.322495 \nL 369.610128 86.742134 \n\" style=\"fill:none;stroke:#000000;\"/>\n    <path clip-path=\"url(#p336f4113ad)\" d=\"M 247.854461 44.238346 \nL 228.324793 14.612727 \n\" style=\"fill:none;stroke:#000000;\"/>\n   </g>\n   <g id=\"PathCollection_2\">\n    <g clip-path=\"url(#p336f4113ad)\">\n     <use style=\"fill:#1f78b4;stroke:#1f78b4;\" x=\"310.779585\" xlink:href=\"#m4cceef4d42\" y=\"111.445212\"/>\n     <use style=\"fill:#1f78b4;stroke:#1f78b4;\" x=\"271.058903\" xlink:href=\"#m4cceef4d42\" y=\"82.869711\"/>\n     <use style=\"fill:#1f78b4;stroke:#1f78b4;\" x=\"357.940575\" xlink:href=\"#m4cceef4d42\" y=\"123.322495\"/>\n     <use style=\"fill:#1f78b4;stroke:#1f78b4;\" x=\"296.30714\" xlink:href=\"#m4cceef4d42\" y=\"143.493198\"/>\n     <use style=\"fill:#1f78b4;stroke:#1f78b4;\" x=\"243.479454\" xlink:href=\"#m4cceef4d42\" y=\"95.716782\"/>\n     <use style=\"fill:#1f78b4;stroke:#1f78b4;\" x=\"247.854461\" xlink:href=\"#m4cceef4d42\" y=\"44.238346\"/>\n     <use style=\"fill:#1f78b4;stroke:#1f78b4;\" x=\"384.65459\" xlink:href=\"#m4cceef4d42\" y=\"148.383665\"/>\n     <use style=\"fill:#1f78b4;stroke:#1f78b4;\" x=\"389.729752\" xlink:href=\"#m4cceef4d42\" y=\"112.994275\"/>\n     <use style=\"fill:#1f78b4;stroke:#1f78b4;\" x=\"358.912456\" xlink:href=\"#m4cceef4d42\" y=\"162.867273\"/>\n     <use style=\"fill:#1f78b4;stroke:#1f78b4;\" x=\"369.610128\" xlink:href=\"#m4cceef4d42\" y=\"86.742134\"/>\n     <use style=\"fill:#1f78b4;stroke:#1f78b4;\" x=\"228.324793\" xlink:href=\"#m4cceef4d42\" y=\"14.612727\"/>\n    </g>\n   </g>\n   <g id=\"text_6\">\n    <g clip-path=\"url(#p336f4113ad)\">\n     <!-- 0 -->\n     <g transform=\"translate(306.962085 114.756462)scale(0.12 -0.12)\">\n      <use xlink:href=\"#DejaVuSans-30\"/>\n     </g>\n    </g>\n   </g>\n   <g id=\"text_7\">\n    <g clip-path=\"url(#p336f4113ad)\">\n     <!-- 1 -->\n     <g transform=\"translate(267.241403 86.180961)scale(0.12 -0.12)\">\n      <use xlink:href=\"#DejaVuSans-31\"/>\n     </g>\n    </g>\n   </g>\n   <g id=\"text_8\">\n    <g clip-path=\"url(#p336f4113ad)\">\n     <!-- 2 -->\n     <g transform=\"translate(354.123075 126.633745)scale(0.12 -0.12)\">\n      <use xlink:href=\"#DejaVuSans-32\"/>\n     </g>\n    </g>\n   </g>\n   <g id=\"text_9\">\n    <g clip-path=\"url(#p336f4113ad)\">\n     <!-- 3 -->\n     <g transform=\"translate(292.48964 146.804448)scale(0.12 -0.12)\">\n      <use xlink:href=\"#DejaVuSans-33\"/>\n     </g>\n    </g>\n   </g>\n   <g id=\"text_10\">\n    <g clip-path=\"url(#p336f4113ad)\">\n     <!-- 4 -->\n     <g transform=\"translate(239.661954 99.028032)scale(0.12 -0.12)\">\n      <use xlink:href=\"#DejaVuSans-34\"/>\n     </g>\n    </g>\n   </g>\n   <g id=\"text_11\">\n    <g clip-path=\"url(#p336f4113ad)\">\n     <!-- 5 -->\n     <g transform=\"translate(244.036961 47.549596)scale(0.12 -0.12)\">\n      <defs>\n       <path d=\"M 691 4666 \nL 3169 4666 \nL 3169 4134 \nL 1269 4134 \nL 1269 2991 \nQ 1406 3038 1543 3061 \nQ 1681 3084 1819 3084 \nQ 2600 3084 3056 2656 \nQ 3513 2228 3513 1497 \nQ 3513 744 3044 326 \nQ 2575 -91 1722 -91 \nQ 1428 -91 1123 -41 \nQ 819 9 494 109 \nL 494 744 \nQ 775 591 1075 516 \nQ 1375 441 1709 441 \nQ 2250 441 2565 725 \nQ 2881 1009 2881 1497 \nQ 2881 1984 2565 2268 \nQ 2250 2553 1709 2553 \nQ 1456 2553 1204 2497 \nQ 953 2441 691 2322 \nL 691 4666 \nz\n\" id=\"DejaVuSans-35\" transform=\"scale(0.015625)\"/>\n      </defs>\n      <use xlink:href=\"#DejaVuSans-35\"/>\n     </g>\n    </g>\n   </g>\n   <g id=\"text_12\">\n    <g clip-path=\"url(#p336f4113ad)\">\n     <!-- 6 -->\n     <g transform=\"translate(380.83709 151.694915)scale(0.12 -0.12)\">\n      <defs>\n       <path d=\"M 2113 2584 \nQ 1688 2584 1439 2293 \nQ 1191 2003 1191 1497 \nQ 1191 994 1439 701 \nQ 1688 409 2113 409 \nQ 2538 409 2786 701 \nQ 3034 994 3034 1497 \nQ 3034 2003 2786 2293 \nQ 2538 2584 2113 2584 \nz\nM 3366 4563 \nL 3366 3988 \nQ 3128 4100 2886 4159 \nQ 2644 4219 2406 4219 \nQ 1781 4219 1451 3797 \nQ 1122 3375 1075 2522 \nQ 1259 2794 1537 2939 \nQ 1816 3084 2150 3084 \nQ 2853 3084 3261 2657 \nQ 3669 2231 3669 1497 \nQ 3669 778 3244 343 \nQ 2819 -91 2113 -91 \nQ 1303 -91 875 529 \nQ 447 1150 447 2328 \nQ 447 3434 972 4092 \nQ 1497 4750 2381 4750 \nQ 2619 4750 2861 4703 \nQ 3103 4656 3366 4563 \nz\n\" id=\"DejaVuSans-36\" transform=\"scale(0.015625)\"/>\n      </defs>\n      <use xlink:href=\"#DejaVuSans-36\"/>\n     </g>\n    </g>\n   </g>\n   <g id=\"text_13\">\n    <g clip-path=\"url(#p336f4113ad)\">\n     <!-- 7 -->\n     <g transform=\"translate(385.912252 116.305525)scale(0.12 -0.12)\">\n      <defs>\n       <path d=\"M 525 4666 \nL 3525 4666 \nL 3525 4397 \nL 1831 0 \nL 1172 0 \nL 2766 4134 \nL 525 4134 \nL 525 4666 \nz\n\" id=\"DejaVuSans-37\" transform=\"scale(0.015625)\"/>\n      </defs>\n      <use xlink:href=\"#DejaVuSans-37\"/>\n     </g>\n    </g>\n   </g>\n   <g id=\"text_14\">\n    <g clip-path=\"url(#p336f4113ad)\">\n     <!-- 8 -->\n     <g transform=\"translate(355.094956 166.178523)scale(0.12 -0.12)\">\n      <defs>\n       <path d=\"M 2034 2216 \nQ 1584 2216 1326 1975 \nQ 1069 1734 1069 1313 \nQ 1069 891 1326 650 \nQ 1584 409 2034 409 \nQ 2484 409 2743 651 \nQ 3003 894 3003 1313 \nQ 3003 1734 2745 1975 \nQ 2488 2216 2034 2216 \nz\nM 1403 2484 \nQ 997 2584 770 2862 \nQ 544 3141 544 3541 \nQ 544 4100 942 4425 \nQ 1341 4750 2034 4750 \nQ 2731 4750 3128 4425 \nQ 3525 4100 3525 3541 \nQ 3525 3141 3298 2862 \nQ 3072 2584 2669 2484 \nQ 3125 2378 3379 2068 \nQ 3634 1759 3634 1313 \nQ 3634 634 3220 271 \nQ 2806 -91 2034 -91 \nQ 1263 -91 848 271 \nQ 434 634 434 1313 \nQ 434 1759 690 2068 \nQ 947 2378 1403 2484 \nz\nM 1172 3481 \nQ 1172 3119 1398 2916 \nQ 1625 2713 2034 2713 \nQ 2441 2713 2670 2916 \nQ 2900 3119 2900 3481 \nQ 2900 3844 2670 4047 \nQ 2441 4250 2034 4250 \nQ 1625 4250 1398 4047 \nQ 1172 3844 1172 3481 \nz\n\" id=\"DejaVuSans-38\" transform=\"scale(0.015625)\"/>\n      </defs>\n      <use xlink:href=\"#DejaVuSans-38\"/>\n     </g>\n    </g>\n   </g>\n   <g id=\"text_15\">\n    <g clip-path=\"url(#p336f4113ad)\">\n     <!-- 9 -->\n     <g transform=\"translate(365.792628 90.053384)scale(0.12 -0.12)\">\n      <defs>\n       <path d=\"M 703 97 \nL 703 672 \nQ 941 559 1184 500 \nQ 1428 441 1663 441 \nQ 2288 441 2617 861 \nQ 2947 1281 2994 2138 \nQ 2813 1869 2534 1725 \nQ 2256 1581 1919 1581 \nQ 1219 1581 811 2004 \nQ 403 2428 403 3163 \nQ 403 3881 828 4315 \nQ 1253 4750 1959 4750 \nQ 2769 4750 3195 4129 \nQ 3622 3509 3622 2328 \nQ 3622 1225 3098 567 \nQ 2575 -91 1691 -91 \nQ 1453 -91 1209 -44 \nQ 966 3 703 97 \nz\nM 1959 2075 \nQ 2384 2075 2632 2365 \nQ 2881 2656 2881 3163 \nQ 2881 3666 2632 3958 \nQ 2384 4250 1959 4250 \nQ 1534 4250 1286 3958 \nQ 1038 3666 1038 3163 \nQ 1038 2656 1286 2365 \nQ 1534 2075 1959 2075 \nz\n\" id=\"DejaVuSans-39\" transform=\"scale(0.015625)\"/>\n      </defs>\n      <use xlink:href=\"#DejaVuSans-39\"/>\n     </g>\n    </g>\n   </g>\n   <g id=\"text_16\">\n    <g clip-path=\"url(#p336f4113ad)\">\n     <!-- 10 -->\n     <g transform=\"translate(220.689793 17.923977)scale(0.12 -0.12)\">\n      <use xlink:href=\"#DejaVuSans-31\"/>\n      <use x=\"63.623047\" xlink:href=\"#DejaVuSans-30\"/>\n     </g>\n    </g>\n   </g>\n  </g>\n </g>\n <defs>\n  <clipPath id=\"p2b72c92b80\">\n   <rect height=\"163.08\" width=\"177.545455\" x=\"7.2\" y=\"7.2\"/>\n  </clipPath>\n  <clipPath id=\"p336f4113ad\">\n   <rect height=\"163.08\" width=\"177.545455\" x=\"220.254545\" y=\"7.2\"/>\n  </clipPath>\n </defs>\n</svg>\n",
      "image/png": "[encoded data removed]"
     },
     "metadata": {}
    }
   ],
   "source": [
    "import networkx as nx, matplotlib.pyplot as plt\n",
    "%matplotlib inline\n",
    "#隣接リストをnx形式に変換（枝を加える）→描画\n",
    "def drawAdjlistUsingNx(nx_tree, list_adjlist, dic_pos, axval):\n",
    "    for node1 in range(0, len(list_adjlist)):\n",
    "        for node2 in list_adjlist[node1]:\n",
    "            nx_tree.add_edge(node1, node2)\n",
    "    axval.set_axis_off()\n",
    "    nx.draw_networkx(nx_tree, pos=dic_pos, ax=axval)\n",
    "#2つの木を描画\n",
    "fig, npar_axval = plt.subplots(1, 2, figsize=(7, 3))\n",
    "#1\n",
    "list_adjlist_test1=[[1, 2], [], [3, 4], [], []]; nx_tree1 = nx.Graph()\n",
    "drawAdjlistUsingNx(nx_tree1, list_adjlist_test1, None, npar_axval[0])\n",
    "#2\n",
    "list_adjlist_test2=[[1, 2, 3], [4, 5], [6, 7, 8, 9], [], [], [10], [], [], [], [], []]; nx_tree2 = nx.Graph()\n",
    "drawAdjlistUsingNx(nx_tree2, list_adjlist_test2, None, npar_axval[1])"
   ]
  },
  {
   "cell_type": "markdown",
   "metadata": {},
   "source": [
    "以下のセルを実行すると解答セルのプログラムの計算量を自動的に評価します。\n",
    "* ローカル環境で解答している人はファイルを保存してから以下のセルをそのまま実行して下さい（このファイルと同じフォルダ内に `utaadevalcpx.py` があることを確認して下さい）。\n",
    "* Colaboratoryを利用している人はセル内部の `str_code_3_1  = '''...'''` の `...` に自分の解答をコピペして下さい（ファイル冒頭のデータのダウンロードを事前に行う必要があります）。\n",
    "`\n",
    "\n",
    "ただし、常に正しい計算量を求められる訳ではありません（<font color=\"red\">正しく求められなかった場合、実際の計算量よりも計算量が少なく求まります</font>）。例えば、以下の様な内容のコードは正しく評価できないことがあります。\n",
    "* 組み込み関数などの名前を別名に変更している\n",
    "* 条件式の使用（例えば、for文中のif文＋`break`など）\n",
    "* while文を使用する\n",
    "\n",
    "この課題の模範解答の時間計算量は<font color=\"white\"> $O(n)$ </font>です。（←白黒反転しています）  \n",
    "想像（模範解答）よりも大きな計算量となっている場合、どこに問題があるのか考えてみて下さい。\n",
    "\n",
    "正しく計算量が評価できていないと思った場合、感想などで教えて下さい。\n",
    "* Pythonのバージョンが3.7より大きいと、正しく評価されない様です（Colab.は3.7です）。"
   ]
  },
  {
   "cell_type": "code",
   "execution_count": 7,
   "metadata": {},
   "outputs": [
    {
     "output_type": "execute_result",
     "data": {
      "text/plain": [
       "('時間計算量：O(n), ',\n",
       " '領域計算量：O(nn)\\n',\n",
       " '解答のコードには適宜コメントを入れて下さい。正しくても評価者が読解できない場合は減点となる可能性があります。')"
      ]
     },
     "metadata": {},
     "execution_count": 7
    }
   ],
   "source": [
    "import utaadevalcpx;dic_varinfo_3_1 = {\"list_adjlist\": [\"list\", set(), {\"n\"}],\"list_adjlist*\": [\"list\", set(), {\"k\"}],}\n",
    "str_code_3_1 = '''...'''\n",
    "utaadevalcpx.evaluateCpx(str_exfilename, \"3-1\", dic_varinfo_3_1, str_code_3_1) # str_exfilenameはファイルの冒頭で定義されています"
   ]
  },
  {
   "cell_type": "markdown",
   "metadata": {},
   "source": [
    "<b>問題の難易度評価：</b>\n",
    "下のセルにこの問の難易度を5段階（1:簡単、2:やや簡単、3:普通、4:やや難しい、5:難しい）で評価して下さい。（次回以降の課題の難易度の調整に使います）\n",
    "また、解答するのにかかった時間や感想などがあれば適宜記載して下さい。"
   ]
  },
  {
   "cell_type": "code",
   "execution_count": 6,
   "metadata": {},
   "outputs": [],
   "source": [
    "#難易度（1:簡単、2:やや簡単、3:普通、4:やや難しい、5:難しい）\n",
    "# 1\n",
    "#感想\n",
    "# Colaboratoryで実行すると，正しく計算されました．\n",
    "# ローカルではPythonのバージョンを3.6, 3.7, 3.8, 3.9どれで実行しても正しく評価されませんでした．"
   ]
  },
  {
   "cell_type": "markdown",
   "metadata": {},
   "source": [
    "## 2. 親の一覧の取得\n",
    "\n",
    "\n",
    "木構造を構成する各点の親を求める関数を作成して下さい。\n",
    "\n",
    "具体的には、木構造を表す隣接リスト `list_adjlist` が引数として与えられたとき、 各点の親の名前（番号）を格納したリスト `list_parent` を返す関数 `getParents` を作成して下さい。以下の点に注意して解答して下さい。\n",
    "\n",
    "1. 各点は `0` 以上の整数で表されます。\n",
    "2. 根を表す番号は `0` です。\n",
    "3. `list_parent` の `i` 番目の要素 `list_parent[i]` は、点 `i` の親の番号を格納します。\n",
    "4. 根の親は `-1` にして下さい。\n",
    "\n",
    "\n",
    "なお、各値の大きさは以下の通りとします。\n",
    "* $n =$ 木構造を構成する点の数\n",
    "* $k =$ 1つの点の子供の最大の数\n",
    "\n",
    "以下のセルの `...` のところを書き換えて解答して下さい。"
   ]
  },
  {
   "cell_type": "code",
   "execution_count": 45,
   "metadata": {},
   "outputs": [],
   "source": [
    "### この行のコメントを改変してはいけません %3-2% ### \n",
    "#解答用セル\n",
    "def getParents(list_adjlist):\n",
    "    list_parent = [0]*len(list_adjlist)\n",
    "    for i in range(len(list_adjlist)):\n",
    "        if list_adjlist[i] != []:\n",
    "            for j in list_adjlist[i]:\n",
    "                list_parent[j] = i\n",
    "    list_parent[0] = -1\n",
    "    return list_parent"
   ]
  },
  {
   "cell_type": "markdown",
   "metadata": {},
   "source": [
    "以下のセルを実行して `True` が出ることを確認して下さい。 "
   ]
  },
  {
   "cell_type": "code",
   "execution_count": 48,
   "metadata": {},
   "outputs": [
    {
     "output_type": "stream",
     "name": "stdout",
     "text": [
      "True\nTrue\n"
     ]
    }
   ],
   "source": [
    "list_adjlist_test1=[[1, 2], [], [3, 4], [], []]\n",
    "print(getParents(list_adjlist_test1) == [-1, 0, 0, 2, 2])\n",
    "list_adjlist_test2=[[1, 2, 3], [4, 5], [6, 7, 8, 9], [], [], [10], [], [], [], [], []]\n",
    "print(getParents(list_adjlist_test2) == [-1, 0, 0, 0, 1, 1, 2, 2, 2, 2, 5])"
   ]
  },
  {
   "cell_type": "markdown",
   "metadata": {},
   "source": [
    "なお、テストで用いている木は以下の様な形になっています。"
   ]
  },
  {
   "cell_type": "code",
   "execution_count": 49,
   "metadata": {
    "scrolled": false
   },
   "outputs": [
    {
     "output_type": "display_data",
     "data": {
      "text/plain": "<Figure size 504x216 with 2 Axes>",
      "image/svg+xml": "<?xml version=\"1.0\" encoding=\"utf-8\" standalone=\"no\"?>\n<!DOCTYPE svg PUBLIC \"-//W3C//DTD SVG 1.1//EN\"\n  \"http://www.w3.org/Graphics/SVG/1.1/DTD/svg11.dtd\">\n<svg height=\"177.48pt\" version=\"1.1\" viewBox=\"0 0 405 177.48\" width=\"405pt\" xmlns=\"http://www.w3.org/2000/svg\" xmlns:xlink=\"http://www.w3.org/1999/xlink\">\n <metadata>\n  <rdf:RDF xmlns:cc=\"http://creativecommons.org/ns#\" xmlns:dc=\"http://purl.org/dc/elements/1.1/\" xmlns:rdf=\"http://www.w3.org/1999/02/22-rdf-syntax-ns#\">\n   <cc:Work>\n    <dc:type rdf:resource=\"http://purl.org/dc/dcmitype/StillImage\"/>\n    <dc:date>2021-06-24T20:36:24.923036</dc:date>\n    <dc:format>image/svg+xml</dc:format>\n    <dc:creator>\n     <cc:Agent>\n      <dc:title>Matplotlib v3.4.1, https://matplotlib.org/</dc:title>\n     </cc:Agent>\n    </dc:creator>\n   </cc:Work>\n  </rdf:RDF>\n </metadata>\n <defs>\n  <style type=\"text/css\">*{stroke-linecap:butt;stroke-linejoin:round;}</style>\n </defs>\n <g id=\"figure_1\">\n  <g id=\"patch_1\">\n   <path d=\"M 0 177.48 \nL 405 177.48 \nL 405 0 \nL 0 0 \nz\n\" style=\"fill:none;\"/>\n  </g>\n  <g id=\"axes_1\">\n   <g id=\"LineCollection_1\">\n    <path clip-path=\"url(#p168ca2be75)\" d=\"M 122.20945 120.511985 \nL 176.675207 137.412184 \n\" style=\"fill:none;stroke:#000000;\"/>\n    <path clip-path=\"url(#p168ca2be75)\" d=\"M 122.20945 120.511985 \nL 58.918876 100.550984 \n\" style=\"fill:none;stroke:#000000;\"/>\n    <path clip-path=\"url(#p168ca2be75)\" d=\"M 58.918876 100.550984 \nL 15.270248 162.867273 \n\" style=\"fill:none;stroke:#000000;\"/>\n    <path clip-path=\"url(#p168ca2be75)\" d=\"M 58.918876 100.550984 \nL 31.220627 14.612727 \n\" style=\"fill:none;stroke:#000000;\"/>\n   </g>\n   <g id=\"PathCollection_1\">\n    <defs>\n     <path d=\"M 0 8.660254 \nC 2.296726 8.660254 4.499694 7.747755 6.123724 6.123724 \nC 7.747755 4.499694 8.660254 2.296726 8.660254 0 \nC 8.660254 -2.296726 7.747755 -4.499694 6.123724 -6.123724 \nC 4.499694 -7.747755 2.296726 -8.660254 0 -8.660254 \nC -2.296726 -8.660254 -4.499694 -7.747755 -6.123724 -6.123724 \nC -7.747755 -4.499694 -8.660254 -2.296726 -8.660254 0 \nC -8.660254 2.296726 -7.747755 4.499694 -6.123724 6.123724 \nC -4.499694 7.747755 -2.296726 8.660254 0 8.660254 \nz\n\" id=\"m43bb75e654\" style=\"stroke:#1f78b4;\"/>\n    </defs>\n    <g clip-path=\"url(#p168ca2be75)\">\n     <use style=\"fill:#1f78b4;stroke:#1f78b4;\" x=\"122.20945\" xlink:href=\"#m43bb75e654\" y=\"120.511985\"/>\n     <use style=\"fill:#1f78b4;stroke:#1f78b4;\" x=\"176.675207\" xlink:href=\"#m43bb75e654\" y=\"137.412184\"/>\n     <use style=\"fill:#1f78b4;stroke:#1f78b4;\" x=\"58.918876\" xlink:href=\"#m43bb75e654\" y=\"100.550984\"/>\n     <use style=\"fill:#1f78b4;stroke:#1f78b4;\" x=\"15.270248\" xlink:href=\"#m43bb75e654\" y=\"162.867273\"/>\n     <use style=\"fill:#1f78b4;stroke:#1f78b4;\" x=\"31.220627\" xlink:href=\"#m43bb75e654\" y=\"14.612727\"/>\n    </g>\n   </g>\n   <g id=\"text_1\">\n    <g clip-path=\"url(#p168ca2be75)\">\n     <!-- 0 -->\n     <g transform=\"translate(118.39195 123.823235)scale(0.12 -0.12)\">\n      <defs>\n       <path d=\"M 2034 4250 \nQ 1547 4250 1301 3770 \nQ 1056 3291 1056 2328 \nQ 1056 1369 1301 889 \nQ 1547 409 2034 409 \nQ 2525 409 2770 889 \nQ 3016 1369 3016 2328 \nQ 3016 3291 2770 3770 \nQ 2525 4250 2034 4250 \nz\nM 2034 4750 \nQ 2819 4750 3233 4129 \nQ 3647 3509 3647 2328 \nQ 3647 1150 3233 529 \nQ 2819 -91 2034 -91 \nQ 1250 -91 836 529 \nQ 422 1150 422 2328 \nQ 422 3509 836 4129 \nQ 1250 4750 2034 4750 \nz\n\" id=\"DejaVuSans-30\" transform=\"scale(0.015625)\"/>\n      </defs>\n      <use xlink:href=\"#DejaVuSans-30\"/>\n     </g>\n    </g>\n   </g>\n   <g id=\"text_2\">\n    <g clip-path=\"url(#p168ca2be75)\">\n     <!-- 1 -->\n     <g transform=\"translate(172.857707 140.723434)scale(0.12 -0.12)\">\n      <defs>\n       <path d=\"M 794 531 \nL 1825 531 \nL 1825 4091 \nL 703 3866 \nL 703 4441 \nL 1819 4666 \nL 2450 4666 \nL 2450 531 \nL 3481 531 \nL 3481 0 \nL 794 0 \nL 794 531 \nz\n\" id=\"DejaVuSans-31\" transform=\"scale(0.015625)\"/>\n      </defs>\n      <use xlink:href=\"#DejaVuSans-31\"/>\n     </g>\n    </g>\n   </g>\n   <g id=\"text_3\">\n    <g clip-path=\"url(#p168ca2be75)\">\n     <!-- 2 -->\n     <g transform=\"translate(55.101376 103.862234)scale(0.12 -0.12)\">\n      <defs>\n       <path d=\"M 1228 531 \nL 3431 531 \nL 3431 0 \nL 469 0 \nL 469 531 \nQ 828 903 1448 1529 \nQ 2069 2156 2228 2338 \nQ 2531 2678 2651 2914 \nQ 2772 3150 2772 3378 \nQ 2772 3750 2511 3984 \nQ 2250 4219 1831 4219 \nQ 1534 4219 1204 4116 \nQ 875 4013 500 3803 \nL 500 4441 \nQ 881 4594 1212 4672 \nQ 1544 4750 1819 4750 \nQ 2544 4750 2975 4387 \nQ 3406 4025 3406 3419 \nQ 3406 3131 3298 2873 \nQ 3191 2616 2906 2266 \nQ 2828 2175 2409 1742 \nQ 1991 1309 1228 531 \nz\n\" id=\"DejaVuSans-32\" transform=\"scale(0.015625)\"/>\n      </defs>\n      <use xlink:href=\"#DejaVuSans-32\"/>\n     </g>\n    </g>\n   </g>\n   <g id=\"text_4\">\n    <g clip-path=\"url(#p168ca2be75)\">\n     <!-- 3 -->\n     <g transform=\"translate(11.452748 166.178523)scale(0.12 -0.12)\">\n      <defs>\n       <path d=\"M 2597 2516 \nQ 3050 2419 3304 2112 \nQ 3559 1806 3559 1356 \nQ 3559 666 3084 287 \nQ 2609 -91 1734 -91 \nQ 1441 -91 1130 -33 \nQ 819 25 488 141 \nL 488 750 \nQ 750 597 1062 519 \nQ 1375 441 1716 441 \nQ 2309 441 2620 675 \nQ 2931 909 2931 1356 \nQ 2931 1769 2642 2001 \nQ 2353 2234 1838 2234 \nL 1294 2234 \nL 1294 2753 \nL 1863 2753 \nQ 2328 2753 2575 2939 \nQ 2822 3125 2822 3475 \nQ 2822 3834 2567 4026 \nQ 2313 4219 1838 4219 \nQ 1578 4219 1281 4162 \nQ 984 4106 628 3988 \nL 628 4550 \nQ 988 4650 1302 4700 \nQ 1616 4750 1894 4750 \nQ 2613 4750 3031 4423 \nQ 3450 4097 3450 3541 \nQ 3450 3153 3228 2886 \nQ 3006 2619 2597 2516 \nz\n\" id=\"DejaVuSans-33\" transform=\"scale(0.015625)\"/>\n      </defs>\n      <use xlink:href=\"#DejaVuSans-33\"/>\n     </g>\n    </g>\n   </g>\n   <g id=\"text_5\">\n    <g clip-path=\"url(#p168ca2be75)\">\n     <!-- 4 -->\n     <g transform=\"translate(27.403127 17.923977)scale(0.12 -0.12)\">\n      <defs>\n       <path d=\"M 2419 4116 \nL 825 1625 \nL 2419 1625 \nL 2419 4116 \nz\nM 2253 4666 \nL 3047 4666 \nL 3047 1625 \nL 3713 1625 \nL 3713 1100 \nL 3047 1100 \nL 3047 0 \nL 2419 0 \nL 2419 1100 \nL 313 1100 \nL 313 1709 \nL 2253 4666 \nz\n\" id=\"DejaVuSans-34\" transform=\"scale(0.015625)\"/>\n      </defs>\n      <use xlink:href=\"#DejaVuSans-34\"/>\n     </g>\n    </g>\n   </g>\n  </g>\n  <g id=\"axes_2\">\n   <g id=\"LineCollection_2\">\n    <path clip-path=\"url(#p11ddf004ee)\" d=\"M 328.958036 75.500387 \nL 288.045753 51.385399 \n\" style=\"fill:none;stroke:#000000;\"/>\n    <path clip-path=\"url(#p11ddf004ee)\" d=\"M 328.958036 75.500387 \nL 360.142535 121.928281 \n\" style=\"fill:none;stroke:#000000;\"/>\n    <path clip-path=\"url(#p11ddf004ee)\" d=\"M 328.958036 75.500387 \nL 342.583439 41.594729 \n\" style=\"fill:none;stroke:#000000;\"/>\n    <path clip-path=\"url(#p11ddf004ee)\" d=\"M 288.045753 51.385399 \nL 276.504912 14.612727 \n\" style=\"fill:none;stroke:#000000;\"/>\n    <path clip-path=\"url(#p11ddf004ee)\" d=\"M 288.045753 51.385399 \nL 252.536819 62.692113 \n\" style=\"fill:none;stroke:#000000;\"/>\n    <path clip-path=\"url(#p11ddf004ee)\" d=\"M 360.142535 121.928281 \nL 366.246896 162.867273 \n\" style=\"fill:none;stroke:#000000;\"/>\n    <path clip-path=\"url(#p11ddf004ee)\" d=\"M 360.142535 121.928281 \nL 389.729752 141.528809 \n\" style=\"fill:none;stroke:#000000;\"/>\n    <path clip-path=\"url(#p11ddf004ee)\" d=\"M 360.142535 121.928281 \nL 340.173399 150.603478 \n\" style=\"fill:none;stroke:#000000;\"/>\n    <path clip-path=\"url(#p11ddf004ee)\" d=\"M 360.142535 121.928281 \nL 388.983083 104.838509 \n\" style=\"fill:none;stroke:#000000;\"/>\n    <path clip-path=\"url(#p11ddf004ee)\" d=\"M 252.536819 62.692113 \nL 228.324793 81.632918 \n\" style=\"fill:none;stroke:#000000;\"/>\n   </g>\n   <g id=\"PathCollection_2\">\n    <g clip-path=\"url(#p11ddf004ee)\">\n     <use style=\"fill:#1f78b4;stroke:#1f78b4;\" x=\"328.958036\" xlink:href=\"#m43bb75e654\" y=\"75.500387\"/>\n     <use style=\"fill:#1f78b4;stroke:#1f78b4;\" x=\"288.045753\" xlink:href=\"#m43bb75e654\" y=\"51.385399\"/>\n     <use style=\"fill:#1f78b4;stroke:#1f78b4;\" x=\"360.142535\" xlink:href=\"#m43bb75e654\" y=\"121.928281\"/>\n     <use style=\"fill:#1f78b4;stroke:#1f78b4;\" x=\"342.583439\" xlink:href=\"#m43bb75e654\" y=\"41.594729\"/>\n     <use style=\"fill:#1f78b4;stroke:#1f78b4;\" x=\"276.504912\" xlink:href=\"#m43bb75e654\" y=\"14.612727\"/>\n     <use style=\"fill:#1f78b4;stroke:#1f78b4;\" x=\"252.536819\" xlink:href=\"#m43bb75e654\" y=\"62.692113\"/>\n     <use style=\"fill:#1f78b4;stroke:#1f78b4;\" x=\"366.246896\" xlink:href=\"#m43bb75e654\" y=\"162.867273\"/>\n     <use style=\"fill:#1f78b4;stroke:#1f78b4;\" x=\"389.729752\" xlink:href=\"#m43bb75e654\" y=\"141.528809\"/>\n     <use style=\"fill:#1f78b4;stroke:#1f78b4;\" x=\"340.173399\" xlink:href=\"#m43bb75e654\" y=\"150.603478\"/>\n     <use style=\"fill:#1f78b4;stroke:#1f78b4;\" x=\"388.983083\" xlink:href=\"#m43bb75e654\" y=\"104.838509\"/>\n     <use style=\"fill:#1f78b4;stroke:#1f78b4;\" x=\"228.324793\" xlink:href=\"#m43bb75e654\" y=\"81.632918\"/>\n    </g>\n   </g>\n   <g id=\"text_6\">\n    <g clip-path=\"url(#p11ddf004ee)\">\n     <!-- 0 -->\n     <g transform=\"translate(325.140536 78.811637)scale(0.12 -0.12)\">\n      <use xlink:href=\"#DejaVuSans-30\"/>\n     </g>\n    </g>\n   </g>\n   <g id=\"text_7\">\n    <g clip-path=\"url(#p11ddf004ee)\">\n     <!-- 1 -->\n     <g transform=\"translate(284.228253 54.696649)scale(0.12 -0.12)\">\n      <use xlink:href=\"#DejaVuSans-31\"/>\n     </g>\n    </g>\n   </g>\n   <g id=\"text_8\">\n    <g clip-path=\"url(#p11ddf004ee)\">\n     <!-- 2 -->\n     <g transform=\"translate(356.325035 125.239531)scale(0.12 -0.12)\">\n      <use xlink:href=\"#DejaVuSans-32\"/>\n     </g>\n    </g>\n   </g>\n   <g id=\"text_9\">\n    <g clip-path=\"url(#p11ddf004ee)\">\n     <!-- 3 -->\n     <g transform=\"translate(338.765939 44.905979)scale(0.12 -0.12)\">\n      <use xlink:href=\"#DejaVuSans-33\"/>\n     </g>\n    </g>\n   </g>\n   <g id=\"text_10\">\n    <g clip-path=\"url(#p11ddf004ee)\">\n     <!-- 4 -->\n     <g transform=\"translate(272.687412 17.923977)scale(0.12 -0.12)\">\n      <use xlink:href=\"#DejaVuSans-34\"/>\n     </g>\n    </g>\n   </g>\n   <g id=\"text_11\">\n    <g clip-path=\"url(#p11ddf004ee)\">\n     <!-- 5 -->\n     <g transform=\"translate(248.719319 66.003363)scale(0.12 -0.12)\">\n      <defs>\n       <path d=\"M 691 4666 \nL 3169 4666 \nL 3169 4134 \nL 1269 4134 \nL 1269 2991 \nQ 1406 3038 1543 3061 \nQ 1681 3084 1819 3084 \nQ 2600 3084 3056 2656 \nQ 3513 2228 3513 1497 \nQ 3513 744 3044 326 \nQ 2575 -91 1722 -91 \nQ 1428 -91 1123 -41 \nQ 819 9 494 109 \nL 494 744 \nQ 775 591 1075 516 \nQ 1375 441 1709 441 \nQ 2250 441 2565 725 \nQ 2881 1009 2881 1497 \nQ 2881 1984 2565 2268 \nQ 2250 2553 1709 2553 \nQ 1456 2553 1204 2497 \nQ 953 2441 691 2322 \nL 691 4666 \nz\n\" id=\"DejaVuSans-35\" transform=\"scale(0.015625)\"/>\n      </defs>\n      <use xlink:href=\"#DejaVuSans-35\"/>\n     </g>\n    </g>\n   </g>\n   <g id=\"text_12\">\n    <g clip-path=\"url(#p11ddf004ee)\">\n     <!-- 6 -->\n     <g transform=\"translate(362.429396 166.178523)scale(0.12 -0.12)\">\n      <defs>\n       <path d=\"M 2113 2584 \nQ 1688 2584 1439 2293 \nQ 1191 2003 1191 1497 \nQ 1191 994 1439 701 \nQ 1688 409 2113 409 \nQ 2538 409 2786 701 \nQ 3034 994 3034 1497 \nQ 3034 2003 2786 2293 \nQ 2538 2584 2113 2584 \nz\nM 3366 4563 \nL 3366 3988 \nQ 3128 4100 2886 4159 \nQ 2644 4219 2406 4219 \nQ 1781 4219 1451 3797 \nQ 1122 3375 1075 2522 \nQ 1259 2794 1537 2939 \nQ 1816 3084 2150 3084 \nQ 2853 3084 3261 2657 \nQ 3669 2231 3669 1497 \nQ 3669 778 3244 343 \nQ 2819 -91 2113 -91 \nQ 1303 -91 875 529 \nQ 447 1150 447 2328 \nQ 447 3434 972 4092 \nQ 1497 4750 2381 4750 \nQ 2619 4750 2861 4703 \nQ 3103 4656 3366 4563 \nz\n\" id=\"DejaVuSans-36\" transform=\"scale(0.015625)\"/>\n      </defs>\n      <use xlink:href=\"#DejaVuSans-36\"/>\n     </g>\n    </g>\n   </g>\n   <g id=\"text_13\">\n    <g clip-path=\"url(#p11ddf004ee)\">\n     <!-- 7 -->\n     <g transform=\"translate(385.912252 144.840059)scale(0.12 -0.12)\">\n      <defs>\n       <path d=\"M 525 4666 \nL 3525 4666 \nL 3525 4397 \nL 1831 0 \nL 1172 0 \nL 2766 4134 \nL 525 4134 \nL 525 4666 \nz\n\" id=\"DejaVuSans-37\" transform=\"scale(0.015625)\"/>\n      </defs>\n      <use xlink:href=\"#DejaVuSans-37\"/>\n     </g>\n    </g>\n   </g>\n   <g id=\"text_14\">\n    <g clip-path=\"url(#p11ddf004ee)\">\n     <!-- 8 -->\n     <g transform=\"translate(336.355899 153.914728)scale(0.12 -0.12)\">\n      <defs>\n       <path d=\"M 2034 2216 \nQ 1584 2216 1326 1975 \nQ 1069 1734 1069 1313 \nQ 1069 891 1326 650 \nQ 1584 409 2034 409 \nQ 2484 409 2743 651 \nQ 3003 894 3003 1313 \nQ 3003 1734 2745 1975 \nQ 2488 2216 2034 2216 \nz\nM 1403 2484 \nQ 997 2584 770 2862 \nQ 544 3141 544 3541 \nQ 544 4100 942 4425 \nQ 1341 4750 2034 4750 \nQ 2731 4750 3128 4425 \nQ 3525 4100 3525 3541 \nQ 3525 3141 3298 2862 \nQ 3072 2584 2669 2484 \nQ 3125 2378 3379 2068 \nQ 3634 1759 3634 1313 \nQ 3634 634 3220 271 \nQ 2806 -91 2034 -91 \nQ 1263 -91 848 271 \nQ 434 634 434 1313 \nQ 434 1759 690 2068 \nQ 947 2378 1403 2484 \nz\nM 1172 3481 \nQ 1172 3119 1398 2916 \nQ 1625 2713 2034 2713 \nQ 2441 2713 2670 2916 \nQ 2900 3119 2900 3481 \nQ 2900 3844 2670 4047 \nQ 2441 4250 2034 4250 \nQ 1625 4250 1398 4047 \nQ 1172 3844 1172 3481 \nz\n\" id=\"DejaVuSans-38\" transform=\"scale(0.015625)\"/>\n      </defs>\n      <use xlink:href=\"#DejaVuSans-38\"/>\n     </g>\n    </g>\n   </g>\n   <g id=\"text_15\">\n    <g clip-path=\"url(#p11ddf004ee)\">\n     <!-- 9 -->\n     <g transform=\"translate(385.165583 108.149759)scale(0.12 -0.12)\">\n      <defs>\n       <path d=\"M 703 97 \nL 703 672 \nQ 941 559 1184 500 \nQ 1428 441 1663 441 \nQ 2288 441 2617 861 \nQ 2947 1281 2994 2138 \nQ 2813 1869 2534 1725 \nQ 2256 1581 1919 1581 \nQ 1219 1581 811 2004 \nQ 403 2428 403 3163 \nQ 403 3881 828 4315 \nQ 1253 4750 1959 4750 \nQ 2769 4750 3195 4129 \nQ 3622 3509 3622 2328 \nQ 3622 1225 3098 567 \nQ 2575 -91 1691 -91 \nQ 1453 -91 1209 -44 \nQ 966 3 703 97 \nz\nM 1959 2075 \nQ 2384 2075 2632 2365 \nQ 2881 2656 2881 3163 \nQ 2881 3666 2632 3958 \nQ 2384 4250 1959 4250 \nQ 1534 4250 1286 3958 \nQ 1038 3666 1038 3163 \nQ 1038 2656 1286 2365 \nQ 1534 2075 1959 2075 \nz\n\" id=\"DejaVuSans-39\" transform=\"scale(0.015625)\"/>\n      </defs>\n      <use xlink:href=\"#DejaVuSans-39\"/>\n     </g>\n    </g>\n   </g>\n   <g id=\"text_16\">\n    <g clip-path=\"url(#p11ddf004ee)\">\n     <!-- 10 -->\n     <g transform=\"translate(220.689793 84.944168)scale(0.12 -0.12)\">\n      <use xlink:href=\"#DejaVuSans-31\"/>\n      <use x=\"63.623047\" xlink:href=\"#DejaVuSans-30\"/>\n     </g>\n    </g>\n   </g>\n  </g>\n </g>\n <defs>\n  <clipPath id=\"p168ca2be75\">\n   <rect height=\"163.08\" width=\"177.545455\" x=\"7.2\" y=\"7.2\"/>\n  </clipPath>\n  <clipPath id=\"p11ddf004ee\">\n   <rect height=\"163.08\" width=\"177.545455\" x=\"220.254545\" y=\"7.2\"/>\n  </clipPath>\n </defs>\n</svg>\n",
      "image/png": "[encoded data removed]"
     },
     "metadata": {}
    }
   ],
   "source": [
    "import networkx as nx, matplotlib.pyplot as plt\n",
    "%matplotlib inline\n",
    "#隣接リストをnx形式に変換（枝を加える）→描画\n",
    "def drawAdjlistUsingNx(nx_tree, list_adjlist, dic_pos, axval):\n",
    "    for node1 in range(0, len(list_adjlist)):\n",
    "        for node2 in list_adjlist[node1]:\n",
    "            nx_tree.add_edge(node1, node2)\n",
    "    axval.set_axis_off()\n",
    "    nx.draw_networkx(nx_tree, pos=dic_pos, ax=axval)\n",
    "#2つの木を描画\n",
    "fig, npar_axval = plt.subplots(1, 2, figsize=(7, 3))\n",
    "#1\n",
    "list_adjlist_test1=[[1, 2], [], [3, 4], [], []]; nx_tree1 = nx.Graph()\n",
    "drawAdjlistUsingNx(nx_tree1, list_adjlist_test1, None, npar_axval[0])\n",
    "#2\n",
    "list_adjlist_test2=[[1, 2, 3], [4, 5], [6, 7, 8, 9], [], [], [10], [], [], [], [], []]; nx_tree2 = nx.Graph()\n",
    "drawAdjlistUsingNx(nx_tree2, list_adjlist_test2, None, npar_axval[1])"
   ]
  },
  {
   "cell_type": "markdown",
   "metadata": {},
   "source": [
    "以下のセルを実行すると解答セルのプログラムの計算量を自動的に評価します。\n",
    "* ローカル環境で解答している人はファイルを保存してから以下のセルをそのまま実行して下さい（このファイルと同じフォルダ内に `utaadevalcpx.py` があることを確認して下さい）。\n",
    "* Colaboratoryを利用している人はセル内部の `str_code_3_2  = '''...'''` の `...` に自分の解答をコピペして下さい（ファイル冒頭のデータのダウンロードを事前に行う必要があります）。\n",
    "`\n",
    "\n",
    "ただし、常に正しい計算量を求められる訳ではありません（<font color=\"red\">正しく求められなかった場合、実際の計算量よりも計算量が少なく求まります</font>）。例えば、以下の様な内容のコードは正しく評価できないことがあります。\n",
    "* 組み込み関数などの名前を別名に変更している\n",
    "* 条件式の使用（例えば、for文中のif文＋`break`など）\n",
    "* while文を使用する\n",
    "\n",
    "この課題の模範解答の時間計算量は<font color=\"white\"> $O(n)$ です。ただし、$O(kn)$ と計算されます。</font>（←白黒反転しています）  \n",
    "想像（模範解答）よりも大きな計算量となっている場合、どこに問題があるのか考えてみて下さい。\n",
    "\n",
    "正しく計算量が評価できていないと思った場合、感想などで教えて下さい。\n",
    "* Pythonのバージョンが3.7より大きいと、正しく評価されない様です（Colab.は3.7です）。"
   ]
  },
  {
   "cell_type": "code",
   "execution_count": 50,
   "metadata": {},
   "outputs": [
    {
     "output_type": "execute_result",
     "data": {
      "text/plain": [
       "('時間計算量：O(nn), ',\n",
       " '領域計算量：O(nnn)\\n',\n",
       " '解答のコードには適宜コメントを入れて下さい。正しくても評価者が読解できない場合は減点となる可能性があります。')"
      ]
     },
     "metadata": {},
     "execution_count": 50
    }
   ],
   "source": [
    "import utaadevalcpx;dic_varinfo_3_2 = {\"list_adjlist\": [\"list\", set(), {\"n\"}],\"list_adjlist*\": [\"list\", set(), {\"k\"}],}\n",
    "str_code_3_2 = '''...'''\n",
    "utaadevalcpx.evaluateCpx(str_exfilename, \"3-2\", dic_varinfo_3_2, str_code_3_2) # str_exfilenameはファイルの冒頭で定義されています"
   ]
  },
  {
   "cell_type": "markdown",
   "metadata": {},
   "source": [
    "<b>問題の難易度評価：</b>\n",
    "下のセルにこの問の難易度を5段階（1:簡単、2:やや簡単、3:普通、4:やや難しい、5:難しい）で評価して下さい。（次回以降の課題の難易度の調整に使います）\n",
    "また、解答するのにかかった時間や感想などがあれば適宜記載して下さい。"
   ]
  },
  {
   "cell_type": "code",
   "execution_count": null,
   "metadata": {},
   "outputs": [],
   "source": [
    "#難易度（1:簡単、2:やや簡単、3:普通、4:やや難しい、5:難しい）\n",
    "# 2\n",
    "#感想\n",
    "# Colaboratoryで実行すると，O(kn)で計算されました．\n",
    "# ローカルではPythonのバージョンを3.6, 3.7, 3.8, 3.9どれで実行しても正しく評価されませんでした．"
   ]
  }
 ],
 "metadata": {
  "kernelspec": {
   "name": "python3",
   "display_name": "Python 3.7.10 64-bit ('algorithm': conda)"
  },
  "language_info": {
   "codemirror_mode": {
    "name": "ipython",
    "version": 3
   },
   "file_extension": ".py",
   "mimetype": "text/x-python",
   "name": "python",
   "nbconvert_exporter": "python",
   "pygments_lexer": "ipython3",
   "version": "3.7.10"
  },
  "interpreter": {
   "hash": "04b8e010f3b6809a56ffda02e352e05452fc3b2a9b8fdaf3546430b4b6d8b013"
  }
 },
 "nbformat": 4,
 "nbformat_minor": 2
}